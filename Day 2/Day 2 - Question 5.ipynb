{
 "cells": [
  {
   "cell_type": "code",
   "execution_count": 5,
   "metadata": {},
   "outputs": [],
   "source": [
    "from pandas import *"
   ]
  },
  {
   "cell_type": "code",
   "execution_count": 9,
   "metadata": {
    "scrolled": true
   },
   "outputs": [
    {
     "name": "stdout",
     "output_type": "stream",
     "text": [
      "      match_id  inning           batting_team                 bowling_team  \\\n",
      "0           27       1  Kolkata Knight Riders  Royal Challengers Bangalore   \n",
      "1           27       1  Kolkata Knight Riders  Royal Challengers Bangalore   \n",
      "2           27       1  Kolkata Knight Riders  Royal Challengers Bangalore   \n",
      "3           27       1  Kolkata Knight Riders  Royal Challengers Bangalore   \n",
      "4           27       1  Kolkata Knight Riders  Royal Challengers Bangalore   \n",
      "...        ...     ...                    ...                          ...   \n",
      "5497     11326       2  Kolkata Knight Riders  Royal Challengers Bangalore   \n",
      "5498     11326       2  Kolkata Knight Riders  Royal Challengers Bangalore   \n",
      "5499     11326       2  Kolkata Knight Riders  Royal Challengers Bangalore   \n",
      "5500     11326       2  Kolkata Knight Riders  Royal Challengers Bangalore   \n",
      "5501     11326       2  Kolkata Knight Riders  Royal Challengers Bangalore   \n",
      "\n",
      "      over  ball     batsman non_striker    bowler  is_super_over  ...  \\\n",
      "0        1     1   SP Narine   G Gambhir  S Badree              0  ...   \n",
      "1        1     2   SP Narine   G Gambhir  S Badree              0  ...   \n",
      "2        1     3   SP Narine   G Gambhir  S Badree              0  ...   \n",
      "3        1     4   SP Narine   G Gambhir  S Badree              0  ...   \n",
      "4        1     5   SP Narine   G Gambhir  S Badree              0  ...   \n",
      "...    ...   ...         ...         ...       ...            ...  ...   \n",
      "5497    20     2      N Rana  AD Russell     M Ali              0  ...   \n",
      "5498    20     3  AD Russell      N Rana     M Ali              0  ...   \n",
      "5499    20     4  AD Russell      N Rana     M Ali              0  ...   \n",
      "5500    20     5  AD Russell      N Rana     M Ali              0  ...   \n",
      "5501    20     6      N Rana  KD Karthik     M Ali              0  ...   \n",
      "\n",
      "      bye_runs  legbye_runs  noball_runs  penalty_runs  batsman_runs  \\\n",
      "0            0            0            0             0             0   \n",
      "1            0            0            0             0             4   \n",
      "2            0            0            0             0             4   \n",
      "3            0            0            0             0             4   \n",
      "4            0            0            0             0             6   \n",
      "...        ...          ...          ...           ...           ...   \n",
      "5497         0            0            0             0             1   \n",
      "5498         0            0            0             0             6   \n",
      "5499         0            0            0             0             0   \n",
      "5500         0            0            0             0             0   \n",
      "5501         0            0            0             0             6   \n",
      "\n",
      "      extra_runs  total_runs  player_dismissed dismissal_kind  fielder  \n",
      "0              0           0               NaN            NaN      NaN  \n",
      "1              0           4               NaN            NaN      NaN  \n",
      "2              0           4               NaN            NaN      NaN  \n",
      "3              0           4               NaN            NaN      NaN  \n",
      "4              0           6               NaN            NaN      NaN  \n",
      "...          ...         ...               ...            ...      ...  \n",
      "5497           0           1               NaN            NaN      NaN  \n",
      "5498           0           6               NaN            NaN      NaN  \n",
      "5499           0           0               NaN            NaN      NaN  \n",
      "5500           0           0        AD Russell        run out  V Kohli  \n",
      "5501           0           6               NaN            NaN      NaN  \n",
      "\n",
      "[5502 rows x 21 columns]\n"
     ]
    }
   ],
   "source": [
    "df = read_csv(r'C:\\Users\\Asus\\Desktop\\WPL Datasets\\Bangalore vs Kolkata deliveries.csv')\n",
    "print(df)"
   ]
  },
  {
   "cell_type": "code",
   "execution_count": 12,
   "metadata": {},
   "outputs": [
    {
     "name": "stdout",
     "output_type": "stream",
     "text": [
      "24\n"
     ]
    }
   ],
   "source": [
    "matches = df.groupby(['match_id']).size().count()\n",
    "print(matches)"
   ]
  },
  {
   "cell_type": "code",
   "execution_count": 13,
   "metadata": {},
   "outputs": [
    {
     "name": "stdout",
     "output_type": "stream",
     "text": [
      "23\n"
     ]
    }
   ],
   "source": [
    "column_name = 'noball_runs'\n",
    "column_sum = df[column_name].sum()\n",
    "print(column_sum)"
   ]
  },
  {
   "cell_type": "code",
   "execution_count": 14,
   "metadata": {},
   "outputs": [
    {
     "name": "stdout",
     "output_type": "stream",
     "text": [
      "0.9583333333333334\n"
     ]
    }
   ],
   "source": [
    "NoBallsPerMatch = column_sum/matches\n",
    "print(NoBallsPerMatch)"
   ]
  },
  {
   "cell_type": "code",
   "execution_count": null,
   "metadata": {},
   "outputs": [],
   "source": []
  }
 ],
 "metadata": {
  "kernelspec": {
   "display_name": "Python 3",
   "language": "python",
   "name": "python3"
  },
  "language_info": {
   "codemirror_mode": {
    "name": "ipython",
    "version": 3
   },
   "file_extension": ".py",
   "mimetype": "text/x-python",
   "name": "python",
   "nbconvert_exporter": "python",
   "pygments_lexer": "ipython3",
   "version": "3.7.4"
  }
 },
 "nbformat": 4,
 "nbformat_minor": 4
}
