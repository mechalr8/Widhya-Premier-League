{
 "cells": [
  {
   "cell_type": "code",
   "execution_count": 1,
   "metadata": {},
   "outputs": [],
   "source": [
    "from pandas import *"
   ]
  },
  {
   "cell_type": "code",
   "execution_count": 2,
   "metadata": {},
   "outputs": [],
   "source": [
    "df = read_csv(r'C:\\Users\\Asus\\Desktop\\WPL Datasets\\deliveries.csv')"
   ]
  },
  {
   "cell_type": "code",
   "execution_count": 3,
   "metadata": {
    "scrolled": true
   },
   "outputs": [
    {
     "name": "stdout",
     "output_type": "stream",
     "text": [
      "        match_id  inning         batting_team                 bowling_team  \\\n",
      "0              1       1  Sunrisers Hyderabad  Royal Challengers Bangalore   \n",
      "1              1       1  Sunrisers Hyderabad  Royal Challengers Bangalore   \n",
      "2              1       1  Sunrisers Hyderabad  Royal Challengers Bangalore   \n",
      "3              1       1  Sunrisers Hyderabad  Royal Challengers Bangalore   \n",
      "4              1       1  Sunrisers Hyderabad  Royal Challengers Bangalore   \n",
      "...          ...     ...                  ...                          ...   \n",
      "179073     11415       2  Chennai Super Kings               Mumbai Indians   \n",
      "179074     11415       2  Chennai Super Kings               Mumbai Indians   \n",
      "179075     11415       2  Chennai Super Kings               Mumbai Indians   \n",
      "179076     11415       2  Chennai Super Kings               Mumbai Indians   \n",
      "179077     11415       2  Chennai Super Kings               Mumbai Indians   \n",
      "\n",
      "        over  ball    batsman non_striker      bowler  is_super_over  ...  \\\n",
      "0          1     1  DA Warner    S Dhawan    TS Mills              0  ...   \n",
      "1          1     2  DA Warner    S Dhawan    TS Mills              0  ...   \n",
      "2          1     3  DA Warner    S Dhawan    TS Mills              0  ...   \n",
      "3          1     4  DA Warner    S Dhawan    TS Mills              0  ...   \n",
      "4          1     5  DA Warner    S Dhawan    TS Mills              0  ...   \n",
      "...      ...   ...        ...         ...         ...            ...  ...   \n",
      "179073    20     2  RA Jadeja   SR Watson  SL Malinga              0  ...   \n",
      "179074    20     3  SR Watson   RA Jadeja  SL Malinga              0  ...   \n",
      "179075    20     4  SR Watson   RA Jadeja  SL Malinga              0  ...   \n",
      "179076    20     5  SN Thakur   RA Jadeja  SL Malinga              0  ...   \n",
      "179077    20     6  SN Thakur   RA Jadeja  SL Malinga              0  ...   \n",
      "\n",
      "        bye_runs  legbye_runs  noball_runs  penalty_runs  batsman_runs  \\\n",
      "0              0            0            0             0             0   \n",
      "1              0            0            0             0             0   \n",
      "2              0            0            0             0             4   \n",
      "3              0            0            0             0             0   \n",
      "4              0            0            0             0             0   \n",
      "...          ...          ...          ...           ...           ...   \n",
      "179073         0            0            0             0             1   \n",
      "179074         0            0            0             0             2   \n",
      "179075         0            0            0             0             1   \n",
      "179076         0            0            0             0             2   \n",
      "179077         0            0            0             0             0   \n",
      "\n",
      "        extra_runs  total_runs  player_dismissed dismissal_kind    fielder  \n",
      "0                0           0               NaN            NaN        NaN  \n",
      "1                0           0               NaN            NaN        NaN  \n",
      "2                0           4               NaN            NaN        NaN  \n",
      "3                0           0               NaN            NaN        NaN  \n",
      "4                2           2               NaN            NaN        NaN  \n",
      "...            ...         ...               ...            ...        ...  \n",
      "179073           0           1               NaN            NaN        NaN  \n",
      "179074           0           2               NaN            NaN        NaN  \n",
      "179075           0           1         SR Watson        run out  KH Pandya  \n",
      "179076           0           2               NaN            NaN        NaN  \n",
      "179077           0           0         SN Thakur            lbw        NaN  \n",
      "\n",
      "[179078 rows x 21 columns]\n"
     ]
    }
   ],
   "source": [
    "print(df)"
   ]
  },
  {
   "cell_type": "code",
   "execution_count": 10,
   "metadata": {},
   "outputs": [],
   "source": [
    "team1 = ['Royal Challengers Bangalore','Kolkata Knight Riders']\n",
    "team2 = ['Royal Challengers Bangalore','Kolkata Knight Riders']\n",
    "rslt_df = df.loc[df['batting_team'].isin(team1) & df['bowling_team'].isin(team2)]"
   ]
  },
  {
   "cell_type": "code",
   "execution_count": 11,
   "metadata": {
    "scrolled": true
   },
   "outputs": [
    {
     "name": "stdout",
     "output_type": "stream",
     "text": [
      "        match_id  inning           batting_team                 bowling_team  \\\n",
      "6254          27       1  Kolkata Knight Riders  Royal Challengers Bangalore   \n",
      "6255          27       1  Kolkata Knight Riders  Royal Challengers Bangalore   \n",
      "6256          27       1  Kolkata Knight Riders  Royal Challengers Bangalore   \n",
      "6257          27       1  Kolkata Knight Riders  Royal Challengers Bangalore   \n",
      "6258          27       1  Kolkata Knight Riders  Royal Challengers Bangalore   \n",
      "...          ...     ...                    ...                          ...   \n",
      "173253     11326       2  Kolkata Knight Riders  Royal Challengers Bangalore   \n",
      "173254     11326       2  Kolkata Knight Riders  Royal Challengers Bangalore   \n",
      "173255     11326       2  Kolkata Knight Riders  Royal Challengers Bangalore   \n",
      "173256     11326       2  Kolkata Knight Riders  Royal Challengers Bangalore   \n",
      "173257     11326       2  Kolkata Knight Riders  Royal Challengers Bangalore   \n",
      "\n",
      "        over  ball     batsman non_striker    bowler  is_super_over  ...  \\\n",
      "6254       1     1   SP Narine   G Gambhir  S Badree              0  ...   \n",
      "6255       1     2   SP Narine   G Gambhir  S Badree              0  ...   \n",
      "6256       1     3   SP Narine   G Gambhir  S Badree              0  ...   \n",
      "6257       1     4   SP Narine   G Gambhir  S Badree              0  ...   \n",
      "6258       1     5   SP Narine   G Gambhir  S Badree              0  ...   \n",
      "...      ...   ...         ...         ...       ...            ...  ...   \n",
      "173253    20     2      N Rana  AD Russell     M Ali              0  ...   \n",
      "173254    20     3  AD Russell      N Rana     M Ali              0  ...   \n",
      "173255    20     4  AD Russell      N Rana     M Ali              0  ...   \n",
      "173256    20     5  AD Russell      N Rana     M Ali              0  ...   \n",
      "173257    20     6      N Rana  KD Karthik     M Ali              0  ...   \n",
      "\n",
      "        bye_runs  legbye_runs  noball_runs  penalty_runs  batsman_runs  \\\n",
      "6254           0            0            0             0             0   \n",
      "6255           0            0            0             0             4   \n",
      "6256           0            0            0             0             4   \n",
      "6257           0            0            0             0             4   \n",
      "6258           0            0            0             0             6   \n",
      "...          ...          ...          ...           ...           ...   \n",
      "173253         0            0            0             0             1   \n",
      "173254         0            0            0             0             6   \n",
      "173255         0            0            0             0             0   \n",
      "173256         0            0            0             0             0   \n",
      "173257         0            0            0             0             6   \n",
      "\n",
      "        extra_runs  total_runs  player_dismissed dismissal_kind  fielder  \n",
      "6254             0           0               NaN            NaN      NaN  \n",
      "6255             0           4               NaN            NaN      NaN  \n",
      "6256             0           4               NaN            NaN      NaN  \n",
      "6257             0           4               NaN            NaN      NaN  \n",
      "6258             0           6               NaN            NaN      NaN  \n",
      "...            ...         ...               ...            ...      ...  \n",
      "173253           0           1               NaN            NaN      NaN  \n",
      "173254           0           6               NaN            NaN      NaN  \n",
      "173255           0           0               NaN            NaN      NaN  \n",
      "173256           0           0        AD Russell        run out  V Kohli  \n",
      "173257           0           6               NaN            NaN      NaN  \n",
      "\n",
      "[5502 rows x 21 columns]\n"
     ]
    }
   ],
   "source": [
    "rslt_df.to_csv (r'C:\\Users\\Asus\\Desktop\\WPL Datasets\\Bangalore vs Kolkata deliveries.csv', index = False, header = True)\n",
    "print(rslt_df)"
   ]
  },
  {
   "cell_type": "code",
   "execution_count": 12,
   "metadata": {
    "scrolled": true
   },
   "outputs": [
    {
     "name": "stdout",
     "output_type": "stream",
     "text": [
      "      match_id  inning           batting_team                 bowling_team  \\\n",
      "0           27       1  Kolkata Knight Riders  Royal Challengers Bangalore   \n",
      "1           27       1  Kolkata Knight Riders  Royal Challengers Bangalore   \n",
      "2           27       1  Kolkata Knight Riders  Royal Challengers Bangalore   \n",
      "3           27       1  Kolkata Knight Riders  Royal Challengers Bangalore   \n",
      "4           27       1  Kolkata Knight Riders  Royal Challengers Bangalore   \n",
      "...        ...     ...                    ...                          ...   \n",
      "5497     11326       2  Kolkata Knight Riders  Royal Challengers Bangalore   \n",
      "5498     11326       2  Kolkata Knight Riders  Royal Challengers Bangalore   \n",
      "5499     11326       2  Kolkata Knight Riders  Royal Challengers Bangalore   \n",
      "5500     11326       2  Kolkata Knight Riders  Royal Challengers Bangalore   \n",
      "5501     11326       2  Kolkata Knight Riders  Royal Challengers Bangalore   \n",
      "\n",
      "      over  ball     batsman non_striker    bowler  is_super_over  ...  \\\n",
      "0        1     1   SP Narine   G Gambhir  S Badree              0  ...   \n",
      "1        1     2   SP Narine   G Gambhir  S Badree              0  ...   \n",
      "2        1     3   SP Narine   G Gambhir  S Badree              0  ...   \n",
      "3        1     4   SP Narine   G Gambhir  S Badree              0  ...   \n",
      "4        1     5   SP Narine   G Gambhir  S Badree              0  ...   \n",
      "...    ...   ...         ...         ...       ...            ...  ...   \n",
      "5497    20     2      N Rana  AD Russell     M Ali              0  ...   \n",
      "5498    20     3  AD Russell      N Rana     M Ali              0  ...   \n",
      "5499    20     4  AD Russell      N Rana     M Ali              0  ...   \n",
      "5500    20     5  AD Russell      N Rana     M Ali              0  ...   \n",
      "5501    20     6      N Rana  KD Karthik     M Ali              0  ...   \n",
      "\n",
      "      bye_runs  legbye_runs  noball_runs  penalty_runs  batsman_runs  \\\n",
      "0            0            0            0             0             0   \n",
      "1            0            0            0             0             4   \n",
      "2            0            0            0             0             4   \n",
      "3            0            0            0             0             4   \n",
      "4            0            0            0             0             6   \n",
      "...        ...          ...          ...           ...           ...   \n",
      "5497         0            0            0             0             1   \n",
      "5498         0            0            0             0             6   \n",
      "5499         0            0            0             0             0   \n",
      "5500         0            0            0             0             0   \n",
      "5501         0            0            0             0             6   \n",
      "\n",
      "      extra_runs  total_runs  player_dismissed dismissal_kind  fielder  \n",
      "0              0           0               NaN            NaN      NaN  \n",
      "1              0           4               NaN            NaN      NaN  \n",
      "2              0           4               NaN            NaN      NaN  \n",
      "3              0           4               NaN            NaN      NaN  \n",
      "4              0           6               NaN            NaN      NaN  \n",
      "...          ...         ...               ...            ...      ...  \n",
      "5497           0           1               NaN            NaN      NaN  \n",
      "5498           0           6               NaN            NaN      NaN  \n",
      "5499           0           0               NaN            NaN      NaN  \n",
      "5500           0           0        AD Russell        run out  V Kohli  \n",
      "5501           0           6               NaN            NaN      NaN  \n",
      "\n",
      "[5502 rows x 21 columns]\n"
     ]
    }
   ],
   "source": [
    "df1 = read_csv(r'C:\\Users\\Asus\\Desktop\\WPL Datasets\\Bangalore vs Kolkata deliveries.csv')\n",
    "print(df1)"
   ]
  },
  {
   "cell_type": "code",
   "execution_count": 13,
   "metadata": {
    "scrolled": true
   },
   "outputs": [
    {
     "name": "stdout",
     "output_type": "stream",
     "text": [
      "      match_id  inning                 batting_team  \\\n",
      "3813       522       2  Royal Challengers Bangalore   \n",
      "3819       522       2  Royal Challengers Bangalore   \n",
      "3820       522       2  Royal Challengers Bangalore   \n",
      "3821       522       2  Royal Challengers Bangalore   \n",
      "3822       522       2  Royal Challengers Bangalore   \n",
      "...        ...     ...                          ...   \n",
      "5225     11153       2        Kolkata Knight Riders   \n",
      "5226     11153       2        Kolkata Knight Riders   \n",
      "5230     11153       2        Kolkata Knight Riders   \n",
      "5231     11153       2        Kolkata Knight Riders   \n",
      "5232     11153       2        Kolkata Knight Riders   \n",
      "\n",
      "                     bowling_team  over  ball     batsman non_striker  \\\n",
      "3813        Kolkata Knight Riders     5     6  KD Karthik    CH Gayle   \n",
      "3819        Kolkata Knight Riders     6     6  KD Karthik    CH Gayle   \n",
      "3820        Kolkata Knight Riders     7     1  KD Karthik    CH Gayle   \n",
      "3821        Kolkata Knight Riders     7     2  KD Karthik    CH Gayle   \n",
      "3822        Kolkata Knight Riders     7     3  KD Karthik    CH Gayle   \n",
      "...                           ...   ...   ...         ...         ...   \n",
      "5225  Royal Challengers Bangalore    16     6  KD Karthik  AD Russell   \n",
      "5226  Royal Challengers Bangalore    17     1  KD Karthik  AD Russell   \n",
      "5230  Royal Challengers Bangalore    17     5  KD Karthik  AD Russell   \n",
      "5231  Royal Challengers Bangalore    17     6  KD Karthik  AD Russell   \n",
      "5232  Royal Challengers Bangalore    17     7  KD Karthik  AD Russell   \n",
      "\n",
      "           bowler  is_super_over  ...  bye_runs  legbye_runs  noball_runs  \\\n",
      "3813     M Morkel              0  ...         0            0            0   \n",
      "3819  KC Cariappa              0  ...         0            0            0   \n",
      "3820   AD Russell              0  ...         0            0            0   \n",
      "3821   AD Russell              0  ...         0            0            0   \n",
      "3822   AD Russell              0  ...         0            0            0   \n",
      "...           ...            ...  ...       ...          ...          ...   \n",
      "5225    YS Chahal              0  ...         0            1            0   \n",
      "5226      N Saini              0  ...         0            0            0   \n",
      "5230      N Saini              0  ...         0            0            0   \n",
      "5231      N Saini              0  ...         0            0            0   \n",
      "5232      N Saini              0  ...         0            0            0   \n",
      "\n",
      "      penalty_runs  batsman_runs  extra_runs  total_runs  player_dismissed  \\\n",
      "3813             0             0           0           0               NaN   \n",
      "3819             0             1           0           1               NaN   \n",
      "3820             0             0           0           0               NaN   \n",
      "3821             0             0           0           0               NaN   \n",
      "3822             0             4           0           4               NaN   \n",
      "...            ...           ...         ...         ...               ...   \n",
      "5225             0             1           1           2               NaN   \n",
      "5226             0             1           0           1               NaN   \n",
      "5230             0             4           0           4               NaN   \n",
      "5231             0             6           0           6               NaN   \n",
      "5232             0             0           0           0        KD Karthik   \n",
      "\n",
      "     dismissal_kind    fielder  \n",
      "3813            NaN        NaN  \n",
      "3819            NaN        NaN  \n",
      "3820            NaN        NaN  \n",
      "3821            NaN        NaN  \n",
      "3822            NaN        NaN  \n",
      "...             ...        ...  \n",
      "5225            NaN        NaN  \n",
      "5226            NaN        NaN  \n",
      "5230            NaN        NaN  \n",
      "5231            NaN        NaN  \n",
      "5232         caught  YS Chahal  \n",
      "\n",
      "[65 rows x 21 columns]\n"
     ]
    }
   ],
   "source": [
    "dinesh = df1.loc[(df1['batsman'] == 'KD Karthik')]\n",
    "print(dinesh)"
   ]
  },
  {
   "cell_type": "code",
   "execution_count": 16,
   "metadata": {},
   "outputs": [
    {
     "name": "stdout",
     "output_type": "stream",
     "text": [
      "88\n"
     ]
    }
   ],
   "source": [
    "column_name = 'batsman_runs'\n",
    "total_runs = dinesh[column_name].sum()\n",
    "print(total_runs)"
   ]
  },
  {
   "cell_type": "code",
   "execution_count": 15,
   "metadata": {},
   "outputs": [
    {
     "name": "stdout",
     "output_type": "stream",
     "text": [
      "4\n"
     ]
    }
   ],
   "source": [
    "matches = dinesh.groupby('match_id').size().count()\n",
    "print(matches)"
   ]
  },
  {
   "cell_type": "code",
   "execution_count": 17,
   "metadata": {},
   "outputs": [
    {
     "name": "stdout",
     "output_type": "stream",
     "text": [
      "22.0\n"
     ]
    }
   ],
   "source": [
    "player_avg = total_runs/matches\n",
    "print(player_avg)"
   ]
  },
  {
   "cell_type": "code",
   "execution_count": null,
   "metadata": {},
   "outputs": [],
   "source": []
  }
 ],
 "metadata": {
  "kernelspec": {
   "display_name": "Python 3",
   "language": "python",
   "name": "python3"
  },
  "language_info": {
   "codemirror_mode": {
    "name": "ipython",
    "version": 3
   },
   "file_extension": ".py",
   "mimetype": "text/x-python",
   "name": "python",
   "nbconvert_exporter": "python",
   "pygments_lexer": "ipython3",
   "version": "3.7.4"
  }
 },
 "nbformat": 4,
 "nbformat_minor": 4
}
