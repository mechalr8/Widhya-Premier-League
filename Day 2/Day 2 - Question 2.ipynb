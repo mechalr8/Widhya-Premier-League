{
 "cells": [
  {
   "cell_type": "code",
   "execution_count": 1,
   "metadata": {},
   "outputs": [],
   "source": [
    "from pandas import *"
   ]
  },
  {
   "cell_type": "code",
   "execution_count": 2,
   "metadata": {
    "scrolled": true
   },
   "outputs": [
    {
     "name": "stdout",
     "output_type": "stream",
     "text": [
      "        id  season           city       date                        team1  \\\n",
      "0        1    2017      Hyderabad   4/5/2017          Sunrisers Hyderabad   \n",
      "1        2    2017           Pune   4/6/2017               Mumbai Indians   \n",
      "2        3    2017         Rajkot   4/7/2017                Gujarat Lions   \n",
      "3        4    2017         Indore   4/8/2017       Rising Pune Supergiant   \n",
      "4        5    2017      Bangalore   4/8/2017  Royal Challengers Bangalore   \n",
      "..     ...     ...            ...        ...                          ...   \n",
      "751  11347    2019         Mumbai   5/5/2019        Kolkata Knight Riders   \n",
      "752  11412    2019        Chennai   7/5/2019          Chennai Super Kings   \n",
      "753  11413    2019  Visakhapatnam   8/5/2019          Sunrisers Hyderabad   \n",
      "754  11414    2019  Visakhapatnam  10/5/2019               Delhi Capitals   \n",
      "755  11415    2019      Hyderabad  12/5/2019               Mumbai Indians   \n",
      "\n",
      "                           team2                  toss_winner toss_decision  \\\n",
      "0    Royal Challengers Bangalore  Royal Challengers Bangalore         field   \n",
      "1         Rising Pune Supergiant       Rising Pune Supergiant         field   \n",
      "2          Kolkata Knight Riders        Kolkata Knight Riders         field   \n",
      "3                Kings XI Punjab              Kings XI Punjab         field   \n",
      "4               Delhi Daredevils  Royal Challengers Bangalore           bat   \n",
      "..                           ...                          ...           ...   \n",
      "751               Mumbai Indians               Mumbai Indians         field   \n",
      "752               Mumbai Indians          Chennai Super Kings           bat   \n",
      "753               Delhi Capitals               Delhi Capitals         field   \n",
      "754          Chennai Super Kings          Chennai Super Kings         field   \n",
      "755          Chennai Super Kings               Mumbai Indians           bat   \n",
      "\n",
      "     result  dl_applied                       winner  win_by_runs  \\\n",
      "0    normal           0          Sunrisers Hyderabad           35   \n",
      "1    normal           0       Rising Pune Supergiant            0   \n",
      "2    normal           0        Kolkata Knight Riders            0   \n",
      "3    normal           0              Kings XI Punjab            0   \n",
      "4    normal           0  Royal Challengers Bangalore           15   \n",
      "..      ...         ...                          ...          ...   \n",
      "751  normal           0               Mumbai Indians            0   \n",
      "752  normal           0               Mumbai Indians            0   \n",
      "753  normal           0               Delhi Capitals            0   \n",
      "754  normal           0          Chennai Super Kings            0   \n",
      "755  normal           0               Mumbai Indians            1   \n",
      "\n",
      "     win_by_wickets player_of_match  \\\n",
      "0                 0    Yuvraj Singh   \n",
      "1                 7       SPD Smith   \n",
      "2                10         CA Lynn   \n",
      "3                 6      GJ Maxwell   \n",
      "4                 0       KM Jadhav   \n",
      "..              ...             ...   \n",
      "751               9       HH Pandya   \n",
      "752               6        AS Yadav   \n",
      "753               2         RR Pant   \n",
      "754               6    F du Plessis   \n",
      "755               0       JJ Bumrah   \n",
      "\n",
      "                                         venue         umpire1  \\\n",
      "0    Rajiv Gandhi International Stadium, Uppal     AY Dandekar   \n",
      "1      Maharashtra Cricket Association Stadium  A Nand Kishore   \n",
      "2       Saurashtra Cricket Association Stadium     Nitin Menon   \n",
      "3                       Holkar Cricket Stadium    AK Chaudhary   \n",
      "4                        M Chinnaswamy Stadium             NaN   \n",
      "..                                         ...             ...   \n",
      "751                           Wankhede Stadium   Nanda Kishore   \n",
      "752                  M. A. Chidambaram Stadium     Nigel Llong   \n",
      "753                           ACA-VDCA Stadium             NaN   \n",
      "754                           ACA-VDCA Stadium   Sundaram Ravi   \n",
      "755         Rajiv Gandhi Intl. Cricket Stadium     Nitin Menon   \n",
      "\n",
      "            umpire2                  umpire3  \n",
      "0          NJ Llong                      NaN  \n",
      "1            S Ravi                      NaN  \n",
      "2         CK Nandan                      NaN  \n",
      "3     C Shamshuddin                      NaN  \n",
      "4               NaN                      NaN  \n",
      "..              ...                      ...  \n",
      "751        O Nandan                   S Ravi  \n",
      "752     Nitin Menon                Ian Gould  \n",
      "753             NaN                      NaN  \n",
      "754  Bruce Oxenford  Chettithody Shamshuddin  \n",
      "755       Ian Gould              Nigel Llong  \n",
      "\n",
      "[756 rows x 18 columns]\n"
     ]
    }
   ],
   "source": [
    "df = read_csv(r'C:\\Users\\Asus\\Desktop\\WPL Datasets\\matches.csv')\n",
    "print(df)"
   ]
  },
  {
   "cell_type": "code",
   "execution_count": 3,
   "metadata": {
    "scrolled": true
   },
   "outputs": [
    {
     "name": "stdout",
     "output_type": "stream",
     "text": [
      "        id  season       city       date                        team1  \\\n",
      "26      27    2017    Kolkata  4/23/2017        Kolkata Knight Riders   \n",
      "44      45    2017  Bangalore   5/7/2017  Royal Challengers Bangalore   \n",
      "59      60    2008  Bangalore  4/18/2008        Kolkata Knight Riders   \n",
      "87      88    2008    Kolkata   5/8/2008        Kolkata Knight Riders   \n",
      "133    134    2009     Durban  4/29/2009        Kolkata Knight Riders   \n",
      "155    156    2009  Centurion  5/12/2009        Kolkata Knight Riders   \n",
      "177    178    2010    Kolkata  3/14/2010  Royal Challengers Bangalore   \n",
      "216    217    2010  Bangalore  4/10/2010        Kolkata Knight Riders   \n",
      "257    258    2011    Kolkata  4/22/2011        Kolkata Knight Riders   \n",
      "290    291    2011  Bangalore  5/14/2011        Kolkata Knight Riders   \n",
      "316    317    2012  Bangalore  4/10/2012        Kolkata Knight Riders   \n",
      "343    344    2012    Kolkata  4/28/2012        Kolkata Knight Riders   \n",
      "391    392    2013  Bangalore  4/11/2013        Kolkata Knight Riders   \n",
      "440    441    2013     Ranchi  5/12/2013  Royal Challengers Bangalore   \n",
      "467    468    2014    Sharjah  4/24/2014        Kolkata Knight Riders   \n",
      "505    506    2014    Kolkata  5/22/2014        Kolkata Knight Riders   \n",
      "521    522    2015    Kolkata  4/11/2015        Kolkata Knight Riders   \n",
      "549    550    2015  Bangalore   5/2/2015        Kolkata Knight Riders   \n",
      "605    606    2016  Bangalore   5/2/2016  Royal Challengers Bangalore   \n",
      "623    624    2016    Kolkata  5/16/2016        Kolkata Knight Riders   \n",
      "638   7896    2018    Kolkata   8/4/2018  Royal Challengers Bangalore   \n",
      "664   7922    2018  Bengaluru   29/04/18  Royal Challengers Bangalore   \n",
      "712  11153    2019  Bengaluru   5/4/2019  Royal Challengers Bangalore   \n",
      "730  11326    2019    Kolkata   19/04/19  Royal Challengers Bangalore   \n",
      "\n",
      "                           team2                  toss_winner toss_decision  \\\n",
      "26   Royal Challengers Bangalore  Royal Challengers Bangalore         field   \n",
      "44         Kolkata Knight Riders        Kolkata Knight Riders         field   \n",
      "59   Royal Challengers Bangalore  Royal Challengers Bangalore         field   \n",
      "87   Royal Challengers Bangalore        Kolkata Knight Riders           bat   \n",
      "133  Royal Challengers Bangalore        Kolkata Knight Riders           bat   \n",
      "155  Royal Challengers Bangalore  Royal Challengers Bangalore         field   \n",
      "177        Kolkata Knight Riders        Kolkata Knight Riders         field   \n",
      "216  Royal Challengers Bangalore  Royal Challengers Bangalore         field   \n",
      "257  Royal Challengers Bangalore  Royal Challengers Bangalore         field   \n",
      "290  Royal Challengers Bangalore  Royal Challengers Bangalore         field   \n",
      "316  Royal Challengers Bangalore  Royal Challengers Bangalore         field   \n",
      "343  Royal Challengers Bangalore        Kolkata Knight Riders           bat   \n",
      "391  Royal Challengers Bangalore  Royal Challengers Bangalore         field   \n",
      "440        Kolkata Knight Riders        Kolkata Knight Riders         field   \n",
      "467  Royal Challengers Bangalore  Royal Challengers Bangalore         field   \n",
      "505  Royal Challengers Bangalore  Royal Challengers Bangalore         field   \n",
      "521  Royal Challengers Bangalore  Royal Challengers Bangalore         field   \n",
      "549  Royal Challengers Bangalore  Royal Challengers Bangalore         field   \n",
      "605        Kolkata Knight Riders        Kolkata Knight Riders         field   \n",
      "623  Royal Challengers Bangalore  Royal Challengers Bangalore         field   \n",
      "638        Kolkata Knight Riders        Kolkata Knight Riders         field   \n",
      "664        Kolkata Knight Riders        Kolkata Knight Riders         field   \n",
      "712        Kolkata Knight Riders        Kolkata Knight Riders         field   \n",
      "730        Kolkata Knight Riders        Kolkata Knight Riders         field   \n",
      "\n",
      "     result  dl_applied                       winner  win_by_runs  \\\n",
      "26   normal           0        Kolkata Knight Riders           82   \n",
      "44   normal           0        Kolkata Knight Riders            0   \n",
      "59   normal           0        Kolkata Knight Riders          140   \n",
      "87   normal           0        Kolkata Knight Riders            5   \n",
      "133  normal           0  Royal Challengers Bangalore            0   \n",
      "155  normal           0  Royal Challengers Bangalore            0   \n",
      "177  normal           0        Kolkata Knight Riders            0   \n",
      "216  normal           0  Royal Challengers Bangalore            0   \n",
      "257  normal           0  Royal Challengers Bangalore            0   \n",
      "290  normal           1  Royal Challengers Bangalore            0   \n",
      "316  normal           0        Kolkata Knight Riders           42   \n",
      "343  normal           0        Kolkata Knight Riders           47   \n",
      "391  normal           0  Royal Challengers Bangalore            0   \n",
      "440  normal           0        Kolkata Knight Riders            0   \n",
      "467  normal           0        Kolkata Knight Riders            2   \n",
      "505  normal           0        Kolkata Knight Riders           30   \n",
      "521  normal           0  Royal Challengers Bangalore            0   \n",
      "549  normal           0  Royal Challengers Bangalore            0   \n",
      "605  normal           0        Kolkata Knight Riders            0   \n",
      "623  normal           0  Royal Challengers Bangalore            0   \n",
      "638  normal           0        Kolkata Knight Riders            0   \n",
      "664  normal           0        Kolkata Knight Riders            0   \n",
      "712  normal           0        Kolkata Knight Riders            0   \n",
      "730  normal           0  Royal Challengers Bangalore           10   \n",
      "\n",
      "     win_by_wickets  player_of_match                               venue  \\\n",
      "26                0  NM Coulter-Nile                        Eden Gardens   \n",
      "44                6        SP Narine               M Chinnaswamy Stadium   \n",
      "59                0      BB McCullum               M Chinnaswamy Stadium   \n",
      "87                0       SC Ganguly                        Eden Gardens   \n",
      "133               5       MV Boucher                           Kingsmead   \n",
      "155               6      LRPL Taylor                     SuperSport Park   \n",
      "177               7        MK Tiwary                        Eden Gardens   \n",
      "216               7    R Vinay Kumar               M Chinnaswamy Stadium   \n",
      "257               9         CH Gayle                        Eden Gardens   \n",
      "290               4         CH Gayle               M Chinnaswamy Stadium   \n",
      "316               0         L Balaji               M Chinnaswamy Stadium   \n",
      "343               0        G Gambhir                        Eden Gardens   \n",
      "391               8         CH Gayle               M Chinnaswamy Stadium   \n",
      "440               5        JH Kallis  JSCA International Stadium Complex   \n",
      "467               0          CA Lynn             Sharjah Cricket Stadium   \n",
      "505               0       RV Uthappa                        Eden Gardens   \n",
      "521               3         CH Gayle                        Eden Gardens   \n",
      "549               7    Mandeep Singh               M Chinnaswamy Stadium   \n",
      "605               5       AD Russell               M Chinnaswamy Stadium   \n",
      "623               9          V Kohli                        Eden Gardens   \n",
      "638               4        SP Narine                        Eden Gardens   \n",
      "664               6          CA Lynn               M Chinnaswamy Stadium   \n",
      "712               5       AD Russell              M. Chinnaswamy Stadium   \n",
      "730               0          V Kohli                        Eden Gardens   \n",
      "\n",
      "             umpire1         umpire2                umpire3  \n",
      "26       CB Gaffaney       CK Nandan                    NaN  \n",
      "44       AY Dandekar   C Shamshuddin                    NaN  \n",
      "59         Asad Rauf     RE Koertzen                    NaN  \n",
      "87         Asad Rauf       IL Howell                    NaN  \n",
      "133        MR Benson  TH Wijewardene                    NaN  \n",
      "155        M Erasmus       SS Hazare                    NaN  \n",
      "177  HDPK Dharmasena       AM Saheba                    NaN  \n",
      "216      K Hariharan       DJ Harper                    NaN  \n",
      "257        SS Hazare       RB Tiffin                    NaN  \n",
      "290      RE Koertzen       RB Tiffin                    NaN  \n",
      "316           S Ravi       RJ Tucker                    NaN  \n",
      "343        Asad Rauf     BR Doctrove                    NaN  \n",
      "391        Asad Rauf    AK Chaudhary                    NaN  \n",
      "440         NJ Llong       K Srinath                    NaN  \n",
      "467        Aleem Dar     VA Kulkarni                    NaN  \n",
      "505     AK Chaudhary       CK Nandan                    NaN  \n",
      "521           S Ravi   C Shamshuddin                    NaN  \n",
      "549        JD Cloete       PG Pathak                    NaN  \n",
      "605        M Erasmus          S Ravi                    NaN  \n",
      "623      CB Gaffaney  A Nand Kishore                    NaN  \n",
      "638    C Shamshuddin    A.D Deshmukh                 S Ravi  \n",
      "664      Nigel Llong  Anil Chaudhary  Virender Kumar Sharma  \n",
      "712   Anil Chaudhary  Chris Gaffaney               O Nandan  \n",
      "730        Ian Gould     Nitin Menon          Anil Dandekar  \n"
     ]
    }
   ],
   "source": [
    "team = ['Royal Challengers Bangalore', 'Kolkata Knight Riders']\n",
    "RCBvsKKR = df.loc[df['team1'].isin(team) & df['team2'].isin(team)]\n",
    "print(RCBvsKKR)"
   ]
  },
  {
   "cell_type": "code",
   "execution_count": 10,
   "metadata": {
    "scrolled": true
   },
   "outputs": [
    {
     "name": "stdout",
     "output_type": "stream",
     "text": [
      "Times RCB has won the toss: 13\n"
     ]
    }
   ],
   "source": [
    "RCBTossWin = RCBvsKKR.loc[(RCBvsKKR['toss_winner'] == 'Royal Challengers Bangalore')]\n",
    "TimesRCBTossWin = RCBTossWin.groupby('id').size().count()\n",
    "print('Times RCB has won the toss:',TimesRCBTossWin)"
   ]
  },
  {
   "cell_type": "code",
   "execution_count": 15,
   "metadata": {},
   "outputs": [
    {
     "name": "stdout",
     "output_type": "stream",
     "text": [
      "Times RCB has won the toss and chose to field: 13\n"
     ]
    }
   ],
   "source": [
    "RCBTossWinField = RCBvsKKR.loc[(RCBvsKKR['toss_winner'] == 'Royal Challengers Bangalore') & (RCBvsKKR['toss_decision'] == 'field')]\n",
    "TimesRCBTossWinField = RCBTossWinField.groupby('id').size().count()\n",
    "print('Times RCB has won the toss and chose to field:',TimesRCBTossWinField)"
   ]
  },
  {
   "cell_type": "code",
   "execution_count": 16,
   "metadata": {},
   "outputs": [
    {
     "name": "stdout",
     "output_type": "stream",
     "text": [
      "Times RCB has won the toss, chose to field and won the match: 8\n"
     ]
    }
   ],
   "source": [
    "RCBTossWinFieldMatchWin = RCBvsKKR.loc[(RCBvsKKR['toss_winner'] == 'Royal Challengers Bangalore') & (RCBvsKKR['toss_decision'] == 'field') & (RCBvsKKR['winner'] == 'Royal Challengers Bangalore')]\n",
    "TimesRCBTossWinFieldMatchWin = RCBTossWinFieldMatchWin.groupby('id').size().count()\n",
    "print('Times RCB has won the toss, chose to field and won the match:',TimesRCBTossWinFieldMatchWin)"
   ]
  },
  {
   "cell_type": "code",
   "execution_count": 17,
   "metadata": {
    "scrolled": true
   },
   "outputs": [
    {
     "name": "stdout",
     "output_type": "stream",
     "text": [
      "Times KKR has won the toss: 11\n"
     ]
    }
   ],
   "source": [
    "KKRTossWin = RCBvsKKR.loc[(RCBvsKKR['toss_winner'] == 'Kolkata Knight Riders')]\n",
    "TimesKKRTossWin = KKRTossWin.groupby('id').size().count()\n",
    "print('Times KKR has won the toss:',TimesKKRTossWin)"
   ]
  },
  {
   "cell_type": "code",
   "execution_count": 21,
   "metadata": {
    "scrolled": true
   },
   "outputs": [
    {
     "name": "stdout",
     "output_type": "stream",
     "text": [
      "Times KKR has won the toss and chose to bat: 3\n"
     ]
    }
   ],
   "source": [
    "KKRTossWinBat = RCBvsKKR.loc[(RCBvsKKR['toss_winner'] == 'Kolkata Knight Riders') & (RCBvsKKR['toss_decision'] == 'bat')]\n",
    "TimesKKRTossWinBat = KKRTossWinBat.groupby('id').size().count()\n",
    "print('Times KKR has won the toss and chose to bat:',TimesKKRTossWinBat)"
   ]
  },
  {
   "cell_type": "code",
   "execution_count": 25,
   "metadata": {
    "scrolled": true
   },
   "outputs": [
    {
     "name": "stdout",
     "output_type": "stream",
     "text": [
      "Times KKR has won the toss, chose to bat and won the match: 2\n"
     ]
    }
   ],
   "source": [
    "KKRTossWinBatMatchWin = RCBvsKKR.loc[(RCBvsKKR['toss_winner'] == 'Kolkata Knight Riders') & (RCBvsKKR['toss_decision'] == 'bat') & (RCBvsKKR['winner'] == 'Kolkata Knight Riders')]\n",
    "TimesKKRTossWinBatMatchWin = KKRTossWinBatMatchWin.groupby('id').size().count()\n",
    "print('Times KKR has won the toss, chose to bat and won the match:',TimesKKRTossWinBatMatchWin)"
   ]
  },
  {
   "cell_type": "code",
   "execution_count": 26,
   "metadata": {
    "scrolled": true
   },
   "outputs": [
    {
     "name": "stdout",
     "output_type": "stream",
     "text": [
      "Times KKR has won the toss and chose to field: 8\n"
     ]
    }
   ],
   "source": [
    "KKRTossWinField = RCBvsKKR.loc[(RCBvsKKR['toss_winner'] == 'Kolkata Knight Riders') & (RCBvsKKR['toss_decision'] == 'field')]\n",
    "TimesKKRTossWinField = KKRTossWinField.groupby('id').size().count()\n",
    "print('Times KKR has won the toss and chose to field:',TimesKKRTossWinField)"
   ]
  },
  {
   "cell_type": "code",
   "execution_count": 27,
   "metadata": {},
   "outputs": [
    {
     "name": "stdout",
     "output_type": "stream",
     "text": [
      "Times KKR has won the toss, chose to field and won the match: 7\n"
     ]
    }
   ],
   "source": [
    "KKRTossWinFieldMatchWin = RCBvsKKR.loc[(RCBvsKKR['toss_winner'] == 'Kolkata Knight Riders') & (RCBvsKKR['toss_decision'] == 'field') & (RCBvsKKR['winner'] == 'Kolkata Knight Riders')]\n",
    "TimesKKRTossWinFieldMatchWin = KKRTossWinFieldMatchWin.groupby('id').size().count()\n",
    "print('Times KKR has won the toss, chose to field and won the match:',TimesKKRTossWinFieldMatchWin)"
   ]
  },
  {
   "cell_type": "code",
   "execution_count": null,
   "metadata": {},
   "outputs": [],
   "source": []
  }
 ],
 "metadata": {
  "kernelspec": {
   "display_name": "Python 3",
   "language": "python",
   "name": "python3"
  },
  "language_info": {
   "codemirror_mode": {
    "name": "ipython",
    "version": 3
   },
   "file_extension": ".py",
   "mimetype": "text/x-python",
   "name": "python",
   "nbconvert_exporter": "python",
   "pygments_lexer": "ipython3",
   "version": "3.7.4"
  }
 },
 "nbformat": 4,
 "nbformat_minor": 4
}
