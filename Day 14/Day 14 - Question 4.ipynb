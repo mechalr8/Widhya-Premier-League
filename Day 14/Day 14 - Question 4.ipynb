{
 "cells": [
  {
   "cell_type": "code",
   "execution_count": 17,
   "metadata": {},
   "outputs": [],
   "source": [
    "from pandas import *"
   ]
  },
  {
   "cell_type": "code",
   "execution_count": 18,
   "metadata": {
    "scrolled": true
   },
   "outputs": [
    {
     "name": "stdout",
     "output_type": "stream",
     "text": [
      "        match_id  inning         batting_team                 bowling_team  \\\n",
      "0              1       1  Sunrisers Hyderabad  Royal Challengers Bangalore   \n",
      "1              1       1  Sunrisers Hyderabad  Royal Challengers Bangalore   \n",
      "2              1       1  Sunrisers Hyderabad  Royal Challengers Bangalore   \n",
      "3              1       1  Sunrisers Hyderabad  Royal Challengers Bangalore   \n",
      "4              1       1  Sunrisers Hyderabad  Royal Challengers Bangalore   \n",
      "...          ...     ...                  ...                          ...   \n",
      "178462     11413       1  Sunrisers Hyderabad               Delhi Capitals   \n",
      "178463     11413       1  Sunrisers Hyderabad               Delhi Capitals   \n",
      "178464     11413       1  Sunrisers Hyderabad               Delhi Capitals   \n",
      "178465     11413       1  Sunrisers Hyderabad               Delhi Capitals   \n",
      "178466     11413       1  Sunrisers Hyderabad               Delhi Capitals   \n",
      "\n",
      "        over  ball        batsman  non_striker    bowler  is_super_over  ...  \\\n",
      "0          1     1      DA Warner     S Dhawan  TS Mills              0  ...   \n",
      "1          1     2      DA Warner     S Dhawan  TS Mills              0  ...   \n",
      "2          1     3      DA Warner     S Dhawan  TS Mills              0  ...   \n",
      "3          1     4      DA Warner     S Dhawan  TS Mills              0  ...   \n",
      "4          1     5      DA Warner     S Dhawan  TS Mills              0  ...   \n",
      "...      ...   ...            ...          ...       ...            ...  ...   \n",
      "178462    20     5  Mohammad Nabi     DJ Hooda    K Paul              0  ...   \n",
      "178463    20     6  Mohammad Nabi     DJ Hooda    K Paul              0  ...   \n",
      "178464    20     7       DJ Hooda  Rashid Khan    K Paul              0  ...   \n",
      "178465    20     8    Rashid Khan      B Kumar    K Paul              0  ...   \n",
      "178466    20     9   Basil Thampi      B Kumar    K Paul              0  ...   \n",
      "\n",
      "        legbye_runs  noball_runs  penalty_runs  batsman_runs  extra_runs  \\\n",
      "0                 0            0             0             0           0   \n",
      "1                 0            0             0             0           0   \n",
      "2                 0            0             0             4           0   \n",
      "3                 0            0             0             0           0   \n",
      "4                 0            0             0             0           2   \n",
      "...             ...          ...           ...           ...         ...   \n",
      "178462            0            0             0             0           0   \n",
      "178463            0            0             0             0           0   \n",
      "178464            0            0             0             1           0   \n",
      "178465            0            0             0             0           0   \n",
      "178466            0            0             0             1           0   \n",
      "\n",
      "        total_runs  player_dismissed  dismissal_kind   fielder runs_cumulative  \n",
      "0                0               NaN             NaN       NaN               0  \n",
      "1                0               NaN             NaN       NaN               0  \n",
      "2                4               NaN             NaN       NaN               4  \n",
      "3                0               NaN             NaN       NaN               4  \n",
      "4                2               NaN             NaN       NaN               6  \n",
      "...            ...               ...             ...       ...             ...  \n",
      "178462           0               NaN             NaN       NaN             169  \n",
      "178463           0     Mohammad Nabi          caught  AR Patel             169  \n",
      "178464           1               NaN             NaN       NaN             170  \n",
      "178465           0       Rashid Khan          caught   RR Pant             170  \n",
      "178466           1               NaN             NaN       NaN             171  \n",
      "\n",
      "[12908 rows x 22 columns]\n"
     ]
    },
    {
     "name": "stderr",
     "output_type": "stream",
     "text": [
      "c:\\users\\harsi\\appdata\\local\\programs\\python\\python37\\lib\\site-packages\\ipykernel_launcher.py:3: SettingWithCopyWarning: \n",
      "A value is trying to be set on a copy of a slice from a DataFrame.\n",
      "Try using .loc[row_indexer,col_indexer] = value instead\n",
      "\n",
      "See the caveats in the documentation: https://pandas.pydata.org/pandas-docs/stable/user_guide/indexing.html#returning-a-view-versus-a-copy\n",
      "  This is separate from the ipykernel package so we can avoid doing imports until\n"
     ]
    }
   ],
   "source": [
    "df = read_csv(r'C:\\Users\\harsi\\OneDrive\\Desktop\\WPL Datasets\\deliveries.csv')\n",
    "SRH = df.loc[(df['batting_team'] == 'Sunrisers Hyderabad')]\n",
    "SRH['runs_cumulative'] = SRH.groupby('match_id')['total_runs'].cumsum()\n",
    "print(SRH)"
   ]
  },
  {
   "cell_type": "code",
   "execution_count": 19,
   "metadata": {
    "scrolled": false
   },
   "outputs": [
    {
     "name": "stdout",
     "output_type": "stream",
     "text": [
      "          over  ball  runs_cumulative  balls\n",
      "match_id                                    \n",
      "1            6     2               50     38\n",
      "6            6     3               50     39\n",
      "10           8     1               50     49\n",
      "14           9     3               50     57\n",
      "19           9     6               50     60\n",
      "...        ...   ...              ...    ...\n",
      "11336        6     5               52     41\n",
      "11339        4     3               56     27\n",
      "11342        5     4               52     34\n",
      "11345        5     6               52     36\n",
      "11413        6     4               50     40\n",
      "\n",
      "[107 rows x 4 columns]\n"
     ]
    }
   ],
   "source": [
    "fifty = wide_no_SRH.loc[(wide_no_SRH['runs_cumulative'] >= 50)]\n",
    "fifty = fifty[['match_id', 'over', 'ball', 'runs_cumulative']]\n",
    "fifty = fifty.groupby('match_id').first()\n",
    "fifty['balls'] = fifty['over']*6+fifty['ball']\n",
    "print(fifty)"
   ]
  },
  {
   "cell_type": "code",
   "execution_count": 21,
   "metadata": {
    "scrolled": true
   },
   "outputs": [
    {
     "name": "stdout",
     "output_type": "stream",
     "text": [
      "2\n"
     ]
    }
   ],
   "source": [
    "r1 = list(range(0,30))\n",
    "a = fifty.loc[fifty['balls'].isin(r1)]\n",
    "A = a.groupby('match_id').size().count()\n",
    "print(A)"
   ]
  },
  {
   "cell_type": "code",
   "execution_count": 22,
   "metadata": {
    "scrolled": true
   },
   "outputs": [
    {
     "name": "stdout",
     "output_type": "stream",
     "text": [
      "16\n"
     ]
    }
   ],
   "source": [
    "r2 = list(range(30,37))\n",
    "b = fifty.loc[fifty['balls'].isin(r2)]\n",
    "B = b.groupby('match_id').size().count()\n",
    "print(B)"
   ]
  },
  {
   "cell_type": "code",
   "execution_count": 23,
   "metadata": {
    "scrolled": true
   },
   "outputs": [
    {
     "name": "stdout",
     "output_type": "stream",
     "text": [
      "28\n"
     ]
    }
   ],
   "source": [
    "r3 = list(range(37,43))\n",
    "c = fifty.loc[fifty['balls'].isin(r3)]\n",
    "C = c.groupby('match_id').size().count()\n",
    "print(C)"
   ]
  },
  {
   "cell_type": "code",
   "execution_count": 26,
   "metadata": {},
   "outputs": [
    {
     "name": "stdout",
     "output_type": "stream",
     "text": [
      "61\n"
     ]
    }
   ],
   "source": [
    "max_value = fifty['balls'].max()\n",
    "r4 = list(range(43,max_value+1))\n",
    "d = fifty.loc[(fifty['balls'].isin(r4))]\n",
    "D = d.groupby('match_id').size().count()\n",
    "print(D)"
   ]
  }
 ],
 "metadata": {
  "kernelspec": {
   "display_name": "Python 3",
   "language": "python",
   "name": "python3"
  },
  "language_info": {
   "codemirror_mode": {
    "name": "ipython",
    "version": 3
   },
   "file_extension": ".py",
   "mimetype": "text/x-python",
   "name": "python",
   "nbconvert_exporter": "python",
   "pygments_lexer": "ipython3",
   "version": "3.7.0"
  }
 },
 "nbformat": 4,
 "nbformat_minor": 4
}
