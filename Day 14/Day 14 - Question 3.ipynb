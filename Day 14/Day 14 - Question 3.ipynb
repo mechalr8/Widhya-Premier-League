{
 "cells": [
  {
   "cell_type": "code",
   "execution_count": 1,
   "metadata": {},
   "outputs": [],
   "source": [
    "from pandas import *"
   ]
  },
  {
   "cell_type": "code",
   "execution_count": 3,
   "metadata": {
    "scrolled": true
   },
   "outputs": [
    {
     "name": "stdout",
     "output_type": "stream",
     "text": [
      "        match_id  inning         batting_team                 bowling_team  \\\n",
      "0              1       1  Sunrisers Hyderabad  Royal Challengers Bangalore   \n",
      "1              1       1  Sunrisers Hyderabad  Royal Challengers Bangalore   \n",
      "2              1       1  Sunrisers Hyderabad  Royal Challengers Bangalore   \n",
      "3              1       1  Sunrisers Hyderabad  Royal Challengers Bangalore   \n",
      "4              1       1  Sunrisers Hyderabad  Royal Challengers Bangalore   \n",
      "...          ...     ...                  ...                          ...   \n",
      "179073     11415       2  Chennai Super Kings               Mumbai Indians   \n",
      "179074     11415       2  Chennai Super Kings               Mumbai Indians   \n",
      "179075     11415       2  Chennai Super Kings               Mumbai Indians   \n",
      "179076     11415       2  Chennai Super Kings               Mumbai Indians   \n",
      "179077     11415       2  Chennai Super Kings               Mumbai Indians   \n",
      "\n",
      "        over  ball    batsman non_striker      bowler  is_super_over  ...  \\\n",
      "0          1     1  DA Warner    S Dhawan    TS Mills              0  ...   \n",
      "1          1     2  DA Warner    S Dhawan    TS Mills              0  ...   \n",
      "2          1     3  DA Warner    S Dhawan    TS Mills              0  ...   \n",
      "3          1     4  DA Warner    S Dhawan    TS Mills              0  ...   \n",
      "4          1     5  DA Warner    S Dhawan    TS Mills              0  ...   \n",
      "...      ...   ...        ...         ...         ...            ...  ...   \n",
      "179073    20     2  RA Jadeja   SR Watson  SL Malinga              0  ...   \n",
      "179074    20     3  SR Watson   RA Jadeja  SL Malinga              0  ...   \n",
      "179075    20     4  SR Watson   RA Jadeja  SL Malinga              0  ...   \n",
      "179076    20     5  SN Thakur   RA Jadeja  SL Malinga              0  ...   \n",
      "179077    20     6  SN Thakur   RA Jadeja  SL Malinga              0  ...   \n",
      "\n",
      "        bye_runs  legbye_runs  noball_runs  penalty_runs  batsman_runs  \\\n",
      "0              0            0            0             0             0   \n",
      "1              0            0            0             0             0   \n",
      "2              0            0            0             0             4   \n",
      "3              0            0            0             0             0   \n",
      "4              0            0            0             0             0   \n",
      "...          ...          ...          ...           ...           ...   \n",
      "179073         0            0            0             0             1   \n",
      "179074         0            0            0             0             2   \n",
      "179075         0            0            0             0             1   \n",
      "179076         0            0            0             0             2   \n",
      "179077         0            0            0             0             0   \n",
      "\n",
      "        extra_runs  total_runs  player_dismissed dismissal_kind    fielder  \n",
      "0                0           0               NaN            NaN        NaN  \n",
      "1                0           0               NaN            NaN        NaN  \n",
      "2                0           4               NaN            NaN        NaN  \n",
      "3                0           0               NaN            NaN        NaN  \n",
      "4                2           2               NaN            NaN        NaN  \n",
      "...            ...         ...               ...            ...        ...  \n",
      "179073           0           1               NaN            NaN        NaN  \n",
      "179074           0           2               NaN            NaN        NaN  \n",
      "179075           0           1         SR Watson        run out  KH Pandya  \n",
      "179076           0           2               NaN            NaN        NaN  \n",
      "179077           0           0         SN Thakur            lbw        NaN  \n",
      "\n",
      "[179078 rows x 21 columns]\n"
     ]
    }
   ],
   "source": [
    "df = read_csv(r'C:\\Users\\harsi\\OneDrive\\Desktop\\WPL Datasets\\deliveries.csv')\n",
    "print(df)"
   ]
  },
  {
   "cell_type": "code",
   "execution_count": 8,
   "metadata": {
    "scrolled": true
   },
   "outputs": [
    {
     "name": "stdout",
     "output_type": "stream",
     "text": [
      "          KL_runs\n",
      "match_id         \n",
      "7895           51\n",
      "7901           48\n",
      "7905           37\n",
      "7909           18\n",
      "7911           61\n",
      "7915           23\n",
      "7918           32\n",
      "7927           24\n",
      "7931           86\n",
      "7933          101\n",
      "7937           68\n",
      "7941           22\n",
      "7943           99\n",
      "7949            8\n",
      "11140           4\n",
      "11142           1\n",
      "11145          72\n",
      "11149          15\n",
      "11309          55\n",
      "11313          71\n",
      "11315         104\n",
      "11319          18\n",
      "11323          53\n",
      "11328          12\n",
      "11333          44\n",
      "11339          84\n",
      "11343           2\n",
      "11346          75\n"
     ]
    }
   ],
   "source": [
    "KXIP_KL = df.loc[(df['batting_team'] == 'Kings XI Punjab') & (df['batsman'] == 'KL Rahul')]\n",
    "KL_runs = KXIP_KL.groupby('match_id').agg({'batsman_runs':['sum']})\n",
    "KL_runs.columns = ['KL_runs']\n",
    "print(KL_runs)"
   ]
  },
  {
   "cell_type": "code",
   "execution_count": 9,
   "metadata": {},
   "outputs": [
    {
     "name": "stdout",
     "output_type": "stream",
     "text": [
      "          KXIP_runs\n",
      "match_id           \n",
      "4               154\n",
      "8               144\n",
      "11              154\n",
      "15              135\n",
      "19              144\n",
      "...             ...\n",
      "11328           163\n",
      "11333           186\n",
      "11339           167\n",
      "11343           183\n",
      "11346           174\n",
      "\n",
      "[176 rows x 1 columns]\n"
     ]
    }
   ],
   "source": [
    "KXIP = df.loc[(df['batting_team'] == 'Kings XI Punjab')]\n",
    "KXIP_runs = KXIP.groupby('match_id').agg({'batsman_runs':['sum']})\n",
    "KXIP_runs.columns = ['KXIP_runs']\n",
    "print(KXIP_runs)"
   ]
  },
  {
   "cell_type": "code",
   "execution_count": 11,
   "metadata": {
    "scrolled": false
   },
   "outputs": [
    {
     "name": "stdout",
     "output_type": "stream",
     "text": [
      "          KL_runs  KXIP_runs  percent\n",
      "match_id                             \n",
      "7895           51        167       30\n",
      "7901           48        155       30\n",
      "7905           37        197       18\n",
      "7909           18        193        9\n",
      "7911           61        126       48\n",
      "7915           23        143       16\n",
      "7918           32        119       26\n",
      "7927           24        174       13\n",
      "7931           86        155       55\n",
      "7933          101        143       70\n",
      "7937           68        214       31\n",
      "7941           22         88       25\n",
      "7943           99        183       54\n",
      "7949            8        153        5\n",
      "11140           4        184        2\n",
      "11142           1        190        0\n",
      "11145          72        177       40\n",
      "11149          15        166        9\n",
      "11309          55        138       39\n",
      "11313          71        151       47\n",
      "11315         104        197       52\n",
      "11319          18        173       10\n",
      "11323          53        182       29\n",
      "11328          12        163        7\n",
      "11333          44        186       23\n",
      "11339          84        167       50\n",
      "11343           2        183        1\n",
      "11346          75        174       43\n"
     ]
    }
   ],
   "source": [
    "result = concat([KL_runs, KXIP_runs], axis = 1, join = 'inner')\n",
    "result['percent'] = (result['KL_runs']*100/result['KXIP_runs']).astype(int)\n",
    "print(result)"
   ]
  },
  {
   "cell_type": "code",
   "execution_count": 13,
   "metadata": {},
   "outputs": [
    {
     "name": "stdout",
     "output_type": "stream",
     "text": [
      "5\n"
     ]
    }
   ],
   "source": [
    "r1 = list(range(0,8))\n",
    "a = result.loc[result['percent'].isin(r1)]\n",
    "A = a.groupby('match_id').size().count()\n",
    "print(A)"
   ]
  },
  {
   "cell_type": "code",
   "execution_count": 15,
   "metadata": {},
   "outputs": [
    {
     "name": "stdout",
     "output_type": "stream",
     "text": [
      "4\n"
     ]
    }
   ],
   "source": [
    "r2 = list(range(8,15))\n",
    "b = result.loc[result['percent'].isin(r2)]\n",
    "B = b.groupby('match_id').size().count()\n",
    "print(B)"
   ]
  },
  {
   "cell_type": "code",
   "execution_count": 16,
   "metadata": {
    "scrolled": true
   },
   "outputs": [
    {
     "name": "stdout",
     "output_type": "stream",
     "text": [
      "2\n"
     ]
    }
   ],
   "source": [
    "r3 = list(range(15,23))\n",
    "c = result.loc[result['percent'].isin(r3)]\n",
    "C = c.groupby('match_id').size().count()\n",
    "print(C)"
   ]
  },
  {
   "cell_type": "code",
   "execution_count": 18,
   "metadata": {},
   "outputs": [
    {
     "name": "stdout",
     "output_type": "stream",
     "text": [
      "17\n"
     ]
    }
   ],
   "source": [
    "max_value = result['percent'].max()\n",
    "r4 = list(range(23,max_value+1))\n",
    "d = result.loc[result['percent'].isin(r4)]\n",
    "D = d.groupby('match_id').size().count()\n",
    "print(D)"
   ]
  }
 ],
 "metadata": {
  "kernelspec": {
   "display_name": "Python 3",
   "language": "python",
   "name": "python3"
  },
  "language_info": {
   "codemirror_mode": {
    "name": "ipython",
    "version": 3
   },
   "file_extension": ".py",
   "mimetype": "text/x-python",
   "name": "python",
   "nbconvert_exporter": "python",
   "pygments_lexer": "ipython3",
   "version": "3.7.0"
  }
 },
 "nbformat": 4,
 "nbformat_minor": 4
}
