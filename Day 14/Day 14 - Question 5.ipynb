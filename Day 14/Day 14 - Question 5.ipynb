{
 "cells": [
  {
   "cell_type": "code",
   "execution_count": 1,
   "metadata": {},
   "outputs": [],
   "source": [
    "from pandas import *"
   ]
  },
  {
   "cell_type": "code",
   "execution_count": 2,
   "metadata": {
    "scrolled": true
   },
   "outputs": [
    {
     "name": "stdout",
     "output_type": "stream",
     "text": [
      "        match_id  inning         batting_team                 bowling_team  \\\n",
      "0              1       1  Sunrisers Hyderabad  Royal Challengers Bangalore   \n",
      "1              1       1  Sunrisers Hyderabad  Royal Challengers Bangalore   \n",
      "2              1       1  Sunrisers Hyderabad  Royal Challengers Bangalore   \n",
      "3              1       1  Sunrisers Hyderabad  Royal Challengers Bangalore   \n",
      "4              1       1  Sunrisers Hyderabad  Royal Challengers Bangalore   \n",
      "...          ...     ...                  ...                          ...   \n",
      "179073     11415       2  Chennai Super Kings               Mumbai Indians   \n",
      "179074     11415       2  Chennai Super Kings               Mumbai Indians   \n",
      "179075     11415       2  Chennai Super Kings               Mumbai Indians   \n",
      "179076     11415       2  Chennai Super Kings               Mumbai Indians   \n",
      "179077     11415       2  Chennai Super Kings               Mumbai Indians   \n",
      "\n",
      "        over  ball    batsman non_striker      bowler  is_super_over  ...  \\\n",
      "0          1     1  DA Warner    S Dhawan    TS Mills              0  ...   \n",
      "1          1     2  DA Warner    S Dhawan    TS Mills              0  ...   \n",
      "2          1     3  DA Warner    S Dhawan    TS Mills              0  ...   \n",
      "3          1     4  DA Warner    S Dhawan    TS Mills              0  ...   \n",
      "4          1     5  DA Warner    S Dhawan    TS Mills              0  ...   \n",
      "...      ...   ...        ...         ...         ...            ...  ...   \n",
      "179073    20     2  RA Jadeja   SR Watson  SL Malinga              0  ...   \n",
      "179074    20     3  SR Watson   RA Jadeja  SL Malinga              0  ...   \n",
      "179075    20     4  SR Watson   RA Jadeja  SL Malinga              0  ...   \n",
      "179076    20     5  SN Thakur   RA Jadeja  SL Malinga              0  ...   \n",
      "179077    20     6  SN Thakur   RA Jadeja  SL Malinga              0  ...   \n",
      "\n",
      "        bye_runs  legbye_runs  noball_runs  penalty_runs  batsman_runs  \\\n",
      "0              0            0            0             0             0   \n",
      "1              0            0            0             0             0   \n",
      "2              0            0            0             0             4   \n",
      "3              0            0            0             0             0   \n",
      "4              0            0            0             0             0   \n",
      "...          ...          ...          ...           ...           ...   \n",
      "179073         0            0            0             0             1   \n",
      "179074         0            0            0             0             2   \n",
      "179075         0            0            0             0             1   \n",
      "179076         0            0            0             0             2   \n",
      "179077         0            0            0             0             0   \n",
      "\n",
      "        extra_runs  total_runs  player_dismissed dismissal_kind    fielder  \n",
      "0                0           0               NaN            NaN        NaN  \n",
      "1                0           0               NaN            NaN        NaN  \n",
      "2                0           4               NaN            NaN        NaN  \n",
      "3                0           0               NaN            NaN        NaN  \n",
      "4                2           2               NaN            NaN        NaN  \n",
      "...            ...         ...               ...            ...        ...  \n",
      "179073           0           1               NaN            NaN        NaN  \n",
      "179074           0           2               NaN            NaN        NaN  \n",
      "179075           0           1         SR Watson        run out  KH Pandya  \n",
      "179076           0           2               NaN            NaN        NaN  \n",
      "179077           0           0         SN Thakur            lbw        NaN  \n",
      "\n",
      "[179078 rows x 21 columns]\n"
     ]
    }
   ],
   "source": [
    "df = read_csv(r'C:\\Users\\harsi\\OneDrive\\Desktop\\WPL Datasets\\deliveries.csv')\n",
    "print(df)"
   ]
  },
  {
   "cell_type": "code",
   "execution_count": 18,
   "metadata": {
    "scrolled": true
   },
   "outputs": [
    {
     "name": "stdout",
     "output_type": "stream",
     "text": [
      "        match_id  inning                 batting_team         bowling_team  \\\n",
      "125            1       2  Royal Challengers Bangalore  Sunrisers Hyderabad   \n",
      "131            1       2  Royal Challengers Bangalore  Sunrisers Hyderabad   \n",
      "132            1       2  Royal Challengers Bangalore  Sunrisers Hyderabad   \n",
      "133            1       2  Royal Challengers Bangalore  Sunrisers Hyderabad   \n",
      "137            1       2  Royal Challengers Bangalore  Sunrisers Hyderabad   \n",
      "...          ...     ...                          ...                  ...   \n",
      "177784     11346       2              Kings XI Punjab  Chennai Super Kings   \n",
      "177785     11346       2              Kings XI Punjab  Chennai Super Kings   \n",
      "177786     11346       2              Kings XI Punjab  Chennai Super Kings   \n",
      "177787     11346       2              Kings XI Punjab  Chennai Super Kings   \n",
      "177790     11346       2              Kings XI Punjab  Chennai Super Kings   \n",
      "\n",
      "        over  ball   batsman    non_striker     bowler  is_super_over  ...  \\\n",
      "125        1     1  CH Gayle  Mandeep Singh    A Nehra              0  ...   \n",
      "131        2     1  CH Gayle  Mandeep Singh    B Kumar              0  ...   \n",
      "132        2     2  CH Gayle  Mandeep Singh    B Kumar              0  ...   \n",
      "133        2     3  CH Gayle  Mandeep Singh    B Kumar              0  ...   \n",
      "137        3     1  CH Gayle  Mandeep Singh    A Nehra              0  ...   \n",
      "...      ...   ...       ...            ...        ...            ...  ...   \n",
      "177784     5     1  CH Gayle       KL Rahul  DL Chahar              0  ...   \n",
      "177785     5     2  CH Gayle       KL Rahul  DL Chahar              0  ...   \n",
      "177786     5     3  CH Gayle       KL Rahul  DL Chahar              0  ...   \n",
      "177787     5     4  CH Gayle       KL Rahul  DL Chahar              0  ...   \n",
      "177790     6     1  CH Gayle       KL Rahul   DJ Bravo              0  ...   \n",
      "\n",
      "        legbye_runs  noball_runs  penalty_runs  batsman_runs  extra_runs  \\\n",
      "125               0            0             0             1           0   \n",
      "131               0            0             0             0           0   \n",
      "132               0            0             0             0           0   \n",
      "133               0            0             0             1           0   \n",
      "137               0            0             0             0           0   \n",
      "...             ...          ...           ...           ...         ...   \n",
      "177784            0            0             0             0           0   \n",
      "177785            0            0             0             0           0   \n",
      "177786            0            0             0             0           0   \n",
      "177787            0            0             0             1           0   \n",
      "177790            0            0             0             0           0   \n",
      "\n",
      "        total_runs  player_dismissed  dismissal_kind fielder runs_cumulative  \n",
      "125              1               NaN             NaN     NaN               1  \n",
      "131              0               NaN             NaN     NaN               1  \n",
      "132              0               NaN             NaN     NaN               1  \n",
      "133              1               NaN             NaN     NaN               2  \n",
      "137              0               NaN             NaN     NaN               2  \n",
      "...            ...               ...             ...     ...             ...  \n",
      "177784           0               NaN             NaN     NaN               5  \n",
      "177785           0               NaN             NaN     NaN               5  \n",
      "177786           0               NaN             NaN     NaN               5  \n",
      "177787           1               NaN             NaN     NaN               6  \n",
      "177790           0               NaN             NaN     NaN               6  \n",
      "\n",
      "[1105 rows x 22 columns]\n"
     ]
    },
    {
     "name": "stderr",
     "output_type": "stream",
     "text": [
      "c:\\users\\harsi\\appdata\\local\\programs\\python\\python37\\lib\\site-packages\\ipykernel_launcher.py:2: SettingWithCopyWarning: \n",
      "A value is trying to be set on a copy of a slice from a DataFrame.\n",
      "Try using .loc[row_indexer,col_indexer] = value instead\n",
      "\n",
      "See the caveats in the documentation: https://pandas.pydata.org/pandas-docs/stable/user_guide/indexing.html#returning-a-view-versus-a-copy\n",
      "  \n"
     ]
    }
   ],
   "source": [
    "CH_Gayle = df.loc[(df['batsman'] == 'CH Gayle')]\n",
    "CH_Gayle['runs_cumulative'] = CH_Gayle.groupby('match_id')['batsman_runs'].cumsum()\n",
    "CH_Gayle = CH_Gayle.loc[(CH_Gayle['noball_runs'] == 0) & (CH_Gayle['wide_runs'] == 0)]\n",
    "CH_Gayle = CH_Gayle.groupby('match_id').head(10)\n",
    "print(CH_Gayle)"
   ]
  },
  {
   "cell_type": "code",
   "execution_count": 27,
   "metadata": {},
   "outputs": [
    {
     "name": "stdout",
     "output_type": "stream",
     "text": [
      "     match_id  runs_cumulative\n",
      "0           1               21\n",
      "1           5                6\n",
      "2          12                7\n",
      "3          20               16\n",
      "4          27                2\n",
      "..        ...              ...\n",
      "119     11328               24\n",
      "120     11333               24\n",
      "121     11339                4\n",
      "122     11343               13\n",
      "123     11346                6\n",
      "\n",
      "[124 rows x 2 columns]\n"
     ]
    }
   ],
   "source": [
    "CH_Gayle1 = CH_Gayle.groupby('match_id')['runs_cumulative'].max().reset_index()\n",
    "print(CH_Gayle1)"
   ]
  },
  {
   "cell_type": "code",
   "execution_count": 28,
   "metadata": {},
   "outputs": [
    {
     "name": "stdout",
     "output_type": "stream",
     "text": [
      "74\n"
     ]
    }
   ],
   "source": [
    "r1 = list(range(0,11))\n",
    "a = CH_Gayle1.loc[CH_Gayle1['runs_cumulative'].isin(r1)]\n",
    "A = a.groupby('match_id').size().count()\n",
    "print(A)"
   ]
  },
  {
   "cell_type": "code",
   "execution_count": 29,
   "metadata": {},
   "outputs": [
    {
     "name": "stdout",
     "output_type": "stream",
     "text": [
      "32\n"
     ]
    }
   ],
   "source": [
    "r2 = list(range(11,19))\n",
    "b = CH_Gayle1.loc[CH_Gayle1['runs_cumulative'].isin(r2)]\n",
    "B = b.groupby('match_id').size().count()\n",
    "print(B)"
   ]
  },
  {
   "cell_type": "code",
   "execution_count": 30,
   "metadata": {},
   "outputs": [
    {
     "name": "stdout",
     "output_type": "stream",
     "text": [
      "13\n"
     ]
    }
   ],
   "source": [
    "r3 = list(range(19,27))\n",
    "c = CH_Gayle1.loc[CH_Gayle1['runs_cumulative'].isin(r3)]\n",
    "C = c.groupby('match_id').size().count()\n",
    "print(C)"
   ]
  },
  {
   "cell_type": "code",
   "execution_count": 35,
   "metadata": {},
   "outputs": [
    {
     "name": "stdout",
     "output_type": "stream",
     "text": [
      "5\n"
     ]
    }
   ],
   "source": [
    "max_value = CH_Gayle1['runs_cumulative'].max()\n",
    "r4 = list(range(27,max_value+1))\n",
    "d = CH_Gayle1.loc[CH_Gayle1['runs_cumulative'].isin(r4)]\n",
    "D = d.groupby('match_id').size().count()\n",
    "print(D)"
   ]
  },
  {
   "cell_type": "markdown",
   "metadata": {},
   "source": []
  },
  {
   "cell_type": "raw",
   "metadata": {},
   "source": []
  }
 ],
 "metadata": {
  "kernelspec": {
   "display_name": "Python 3",
   "language": "python",
   "name": "python3"
  },
  "language_info": {
   "codemirror_mode": {
    "name": "ipython",
    "version": 3
   },
   "file_extension": ".py",
   "mimetype": "text/x-python",
   "name": "python",
   "nbconvert_exporter": "python",
   "pygments_lexer": "ipython3",
   "version": "3.7.0"
  }
 },
 "nbformat": 4,
 "nbformat_minor": 4
}
