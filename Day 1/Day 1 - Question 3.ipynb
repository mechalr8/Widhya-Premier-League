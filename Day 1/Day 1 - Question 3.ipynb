{
 "cells": [
  {
   "cell_type": "code",
   "execution_count": 1,
   "metadata": {},
   "outputs": [],
   "source": [
    "from pandas import *"
   ]
  },
  {
   "cell_type": "code",
   "execution_count": 2,
   "metadata": {},
   "outputs": [],
   "source": [
    "df = read_csv(r'C:\\Users\\Asus\\Desktop\\WPL Datasets\\deliveries.csv')"
   ]
  },
  {
   "cell_type": "code",
   "execution_count": 3,
   "metadata": {},
   "outputs": [
    {
     "name": "stdout",
     "output_type": "stream",
     "text": [
      "        match_id  inning         batting_team                 bowling_team  \\\n",
      "0              1       1  Sunrisers Hyderabad  Royal Challengers Bangalore   \n",
      "1              1       1  Sunrisers Hyderabad  Royal Challengers Bangalore   \n",
      "2              1       1  Sunrisers Hyderabad  Royal Challengers Bangalore   \n",
      "3              1       1  Sunrisers Hyderabad  Royal Challengers Bangalore   \n",
      "4              1       1  Sunrisers Hyderabad  Royal Challengers Bangalore   \n",
      "...          ...     ...                  ...                          ...   \n",
      "179073     11415       2  Chennai Super Kings               Mumbai Indians   \n",
      "179074     11415       2  Chennai Super Kings               Mumbai Indians   \n",
      "179075     11415       2  Chennai Super Kings               Mumbai Indians   \n",
      "179076     11415       2  Chennai Super Kings               Mumbai Indians   \n",
      "179077     11415       2  Chennai Super Kings               Mumbai Indians   \n",
      "\n",
      "        over  ball    batsman non_striker      bowler  is_super_over  ...  \\\n",
      "0          1     1  DA Warner    S Dhawan    TS Mills              0  ...   \n",
      "1          1     2  DA Warner    S Dhawan    TS Mills              0  ...   \n",
      "2          1     3  DA Warner    S Dhawan    TS Mills              0  ...   \n",
      "3          1     4  DA Warner    S Dhawan    TS Mills              0  ...   \n",
      "4          1     5  DA Warner    S Dhawan    TS Mills              0  ...   \n",
      "...      ...   ...        ...         ...         ...            ...  ...   \n",
      "179073    20     2  RA Jadeja   SR Watson  SL Malinga              0  ...   \n",
      "179074    20     3  SR Watson   RA Jadeja  SL Malinga              0  ...   \n",
      "179075    20     4  SR Watson   RA Jadeja  SL Malinga              0  ...   \n",
      "179076    20     5  SN Thakur   RA Jadeja  SL Malinga              0  ...   \n",
      "179077    20     6  SN Thakur   RA Jadeja  SL Malinga              0  ...   \n",
      "\n",
      "        bye_runs  legbye_runs  noball_runs  penalty_runs  batsman_runs  \\\n",
      "0              0            0            0             0             0   \n",
      "1              0            0            0             0             0   \n",
      "2              0            0            0             0             4   \n",
      "3              0            0            0             0             0   \n",
      "4              0            0            0             0             0   \n",
      "...          ...          ...          ...           ...           ...   \n",
      "179073         0            0            0             0             1   \n",
      "179074         0            0            0             0             2   \n",
      "179075         0            0            0             0             1   \n",
      "179076         0            0            0             0             2   \n",
      "179077         0            0            0             0             0   \n",
      "\n",
      "        extra_runs  total_runs  player_dismissed dismissal_kind    fielder  \n",
      "0                0           0               NaN            NaN        NaN  \n",
      "1                0           0               NaN            NaN        NaN  \n",
      "2                0           4               NaN            NaN        NaN  \n",
      "3                0           0               NaN            NaN        NaN  \n",
      "4                2           2               NaN            NaN        NaN  \n",
      "...            ...         ...               ...            ...        ...  \n",
      "179073           0           1               NaN            NaN        NaN  \n",
      "179074           0           2               NaN            NaN        NaN  \n",
      "179075           0           1         SR Watson        run out  KH Pandya  \n",
      "179076           0           2               NaN            NaN        NaN  \n",
      "179077           0           0         SN Thakur            lbw        NaN  \n",
      "\n",
      "[179078 rows x 21 columns]\n"
     ]
    }
   ],
   "source": [
    "print(df)"
   ]
  },
  {
   "cell_type": "code",
   "execution_count": 4,
   "metadata": {},
   "outputs": [],
   "source": [
    "battingteam = ['Mumbai Indians','Delhi Daredevils','Delhi Capitals']\n",
    "bowlingteam = ['Mumbai Indians','Delhi Daredevils','Delhi Capitals']\n",
    "rslt_df = df.loc[df['batting_team'].isin(battingteam) & df['bowling_team'].isin(bowlingteam)]"
   ]
  },
  {
   "cell_type": "code",
   "execution_count": 6,
   "metadata": {},
   "outputs": [
    {
     "name": "stdout",
     "output_type": "stream",
     "text": [
      "        match_id  inning    batting_team      bowling_team  over  ball  \\\n",
      "5512          24       1  Mumbai Indians  Delhi Daredevils     1     1   \n",
      "5513          24       1  Mumbai Indians  Delhi Daredevils     1     2   \n",
      "5514          24       1  Mumbai Indians  Delhi Daredevils     1     3   \n",
      "5515          24       1  Mumbai Indians  Delhi Daredevils     1     4   \n",
      "5516          24       1  Mumbai Indians  Delhi Daredevils     1     5   \n",
      "...          ...     ...             ...               ...   ...   ...   \n",
      "173000     11325       2  Delhi Capitals    Mumbai Indians    20     2   \n",
      "173001     11325       2  Delhi Capitals    Mumbai Indians    20     3   \n",
      "173002     11325       2  Delhi Capitals    Mumbai Indians    20     4   \n",
      "173003     11325       2  Delhi Capitals    Mumbai Indians    20     5   \n",
      "173004     11325       2  Delhi Capitals    Mumbai Indians    20     6   \n",
      "\n",
      "           batsman non_striker     bowler  is_super_over  ...  bye_runs  \\\n",
      "5512      PA Patel  JC Buttler   K Rabada              0  ...         0   \n",
      "5513    JC Buttler    PA Patel   K Rabada              0  ...         0   \n",
      "5514    JC Buttler    PA Patel   K Rabada              0  ...         0   \n",
      "5515      PA Patel  JC Buttler   K Rabada              0  ...         0   \n",
      "5516    JC Buttler    PA Patel   K Rabada              0  ...         0   \n",
      "...            ...         ...        ...            ...  ...       ...   \n",
      "173000    K Rabada    A Mishra  HH Pandya              0  ...         0   \n",
      "173001    K Rabada    A Mishra  HH Pandya              0  ...         0   \n",
      "173002    K Rabada    A Mishra  HH Pandya              0  ...         0   \n",
      "173003    A Mishra    I Sharma  HH Pandya              0  ...         0   \n",
      "173004    A Mishra    I Sharma  HH Pandya              0  ...         0   \n",
      "\n",
      "        legbye_runs  noball_runs  penalty_runs  batsman_runs  extra_runs  \\\n",
      "5512              1            0             0             0           1   \n",
      "5513              0            0             0             0           5   \n",
      "5514              0            0             0             1           0   \n",
      "5515              0            0             0             1           0   \n",
      "5516              0            0             0             0           0   \n",
      "...             ...          ...           ...           ...         ...   \n",
      "173000            0            0             0             6           0   \n",
      "173001            0            0             0             0           0   \n",
      "173002            0            0             0             0           0   \n",
      "173003            0            0             0             2           0   \n",
      "173004            0            0             0             1           0   \n",
      "\n",
      "        total_runs  player_dismissed dismissal_kind     fielder  \n",
      "5512             1               NaN            NaN         NaN  \n",
      "5513             5               NaN            NaN         NaN  \n",
      "5514             1               NaN            NaN         NaN  \n",
      "5515             1               NaN            NaN         NaN  \n",
      "5516             0               NaN            NaN         NaN  \n",
      "...            ...               ...            ...         ...  \n",
      "173000           6               NaN            NaN         NaN  \n",
      "173001           0               NaN            NaN         NaN  \n",
      "173002           0          K Rabada         caught  KA Pollard  \n",
      "173003           2               NaN            NaN         NaN  \n",
      "173004           1               NaN            NaN         NaN  \n",
      "\n",
      "[5775 rows x 21 columns]\n"
     ]
    }
   ],
   "source": [
    "rslt_df.to_csv (r'C:\\Users\\Asus\\Desktop\\WPL Datasets\\Mumbai vs Delhi deliveries.csv', index = False, header = True)\n",
    "print(rslt_df)"
   ]
  },
  {
   "cell_type": "code",
   "execution_count": 5,
   "metadata": {},
   "outputs": [
    {
     "name": "stdout",
     "output_type": "stream",
     "text": [
      "      match_id  inning    batting_team      bowling_team  over  ball  \\\n",
      "0           24       1  Mumbai Indians  Delhi Daredevils     1     1   \n",
      "1           24       1  Mumbai Indians  Delhi Daredevils     1     2   \n",
      "2           24       1  Mumbai Indians  Delhi Daredevils     1     3   \n",
      "3           24       1  Mumbai Indians  Delhi Daredevils     1     4   \n",
      "4           24       1  Mumbai Indians  Delhi Daredevils     1     5   \n",
      "...        ...     ...             ...               ...   ...   ...   \n",
      "5770     11325       2  Delhi Capitals    Mumbai Indians    20     2   \n",
      "5771     11325       2  Delhi Capitals    Mumbai Indians    20     3   \n",
      "5772     11325       2  Delhi Capitals    Mumbai Indians    20     4   \n",
      "5773     11325       2  Delhi Capitals    Mumbai Indians    20     5   \n",
      "5774     11325       2  Delhi Capitals    Mumbai Indians    20     6   \n",
      "\n",
      "         batsman non_striker     bowler  is_super_over  ...  bye_runs  \\\n",
      "0       PA Patel  JC Buttler   K Rabada              0  ...         0   \n",
      "1     JC Buttler    PA Patel   K Rabada              0  ...         0   \n",
      "2     JC Buttler    PA Patel   K Rabada              0  ...         0   \n",
      "3       PA Patel  JC Buttler   K Rabada              0  ...         0   \n",
      "4     JC Buttler    PA Patel   K Rabada              0  ...         0   \n",
      "...          ...         ...        ...            ...  ...       ...   \n",
      "5770    K Rabada    A Mishra  HH Pandya              0  ...         0   \n",
      "5771    K Rabada    A Mishra  HH Pandya              0  ...         0   \n",
      "5772    K Rabada    A Mishra  HH Pandya              0  ...         0   \n",
      "5773    A Mishra    I Sharma  HH Pandya              0  ...         0   \n",
      "5774    A Mishra    I Sharma  HH Pandya              0  ...         0   \n",
      "\n",
      "      legbye_runs  noball_runs  penalty_runs  batsman_runs  extra_runs  \\\n",
      "0               1            0             0             0           1   \n",
      "1               0            0             0             0           5   \n",
      "2               0            0             0             1           0   \n",
      "3               0            0             0             1           0   \n",
      "4               0            0             0             0           0   \n",
      "...           ...          ...           ...           ...         ...   \n",
      "5770            0            0             0             6           0   \n",
      "5771            0            0             0             0           0   \n",
      "5772            0            0             0             0           0   \n",
      "5773            0            0             0             2           0   \n",
      "5774            0            0             0             1           0   \n",
      "\n",
      "      total_runs  player_dismissed dismissal_kind     fielder  \n",
      "0              1               NaN            NaN         NaN  \n",
      "1              5               NaN            NaN         NaN  \n",
      "2              1               NaN            NaN         NaN  \n",
      "3              1               NaN            NaN         NaN  \n",
      "4              0               NaN            NaN         NaN  \n",
      "...          ...               ...            ...         ...  \n",
      "5770           6               NaN            NaN         NaN  \n",
      "5771           0               NaN            NaN         NaN  \n",
      "5772           0          K Rabada         caught  KA Pollard  \n",
      "5773           2               NaN            NaN         NaN  \n",
      "5774           1               NaN            NaN         NaN  \n",
      "\n",
      "[5775 rows x 21 columns]\n"
     ]
    }
   ],
   "source": [
    "df1 = read_csv(r'C:\\Users\\Asus\\Desktop\\WPL Datasets\\Mumbai vs Delhi deliveries.csv')\n",
    "print(df1)"
   ]
  },
  {
   "cell_type": "code",
   "execution_count": 6,
   "metadata": {},
   "outputs": [
    {
     "name": "stdout",
     "output_type": "stream",
     "text": [
      "24\n"
     ]
    }
   ],
   "source": [
    "matches = df1.groupby(['match_id']).size().count()\n",
    "print(matches)"
   ]
  },
  {
   "cell_type": "code",
   "execution_count": 7,
   "metadata": {},
   "outputs": [
    {
     "name": "stdout",
     "output_type": "stream",
     "text": [
      "      match_id  inning    batting_team      bowling_team  over  ball  \\\n",
      "35          24       1  Mumbai Indians  Delhi Daredevils     6     2   \n",
      "36          24       1  Mumbai Indians  Delhi Daredevils     6     3   \n",
      "37          24       1  Mumbai Indians  Delhi Daredevils     6     4   \n",
      "38          24       1  Mumbai Indians  Delhi Daredevils     6     5   \n",
      "39          24       1  Mumbai Indians  Delhi Daredevils     6     6   \n",
      "...        ...     ...             ...               ...   ...   ...   \n",
      "5558     11325       1  Mumbai Indians    Delhi Capitals     6     1   \n",
      "5559     11325       1  Mumbai Indians    Delhi Capitals     6     2   \n",
      "5563     11325       1  Mumbai Indians    Delhi Capitals     6     6   \n",
      "5564     11325       1  Mumbai Indians    Delhi Capitals     6     7   \n",
      "5565     11325       1  Mumbai Indians    Delhi Capitals     7     1   \n",
      "\n",
      "        batsman non_striker     bowler  is_super_over  ...  bye_runs  \\\n",
      "35    RG Sharma      N Rana  CH Morris              0  ...         0   \n",
      "36    RG Sharma      N Rana  CH Morris              0  ...         0   \n",
      "37    RG Sharma      N Rana  CH Morris              0  ...         0   \n",
      "38    RG Sharma      N Rana  CH Morris              0  ...         0   \n",
      "39    RG Sharma      N Rana  CH Morris              0  ...         0   \n",
      "...         ...         ...        ...            ...  ...       ...   \n",
      "5558  RG Sharma   Q de Kock     K Paul              0  ...         0   \n",
      "5559  RG Sharma   Q de Kock     K Paul              0  ...         0   \n",
      "5563  RG Sharma   Q de Kock     K Paul              0  ...         0   \n",
      "5564  RG Sharma   Q de Kock     K Paul              0  ...         0   \n",
      "5565  RG Sharma   Q de Kock   A Mishra              0  ...         0   \n",
      "\n",
      "      legbye_runs  noball_runs  penalty_runs  batsman_runs  extra_runs  \\\n",
      "35              0            0             0             0           0   \n",
      "36              0            0             0             0           0   \n",
      "37              0            0             0             0           0   \n",
      "38              0            0             0             0           0   \n",
      "39              0            0             0             1           0   \n",
      "...           ...          ...           ...           ...         ...   \n",
      "5558            0            0             0             0           0   \n",
      "5559            0            0             0             1           0   \n",
      "5563            0            1             0             7           1   \n",
      "5564            0            0             0             1           0   \n",
      "5565            0            0             0             0           0   \n",
      "\n",
      "      total_runs  player_dismissed dismissal_kind fielder  \n",
      "35             0               NaN            NaN     NaN  \n",
      "36             0               NaN            NaN     NaN  \n",
      "37             0               NaN            NaN     NaN  \n",
      "38             0               NaN            NaN     NaN  \n",
      "39             1               NaN            NaN     NaN  \n",
      "...          ...               ...            ...     ...  \n",
      "5558           0               NaN            NaN     NaN  \n",
      "5559           1               NaN            NaN     NaN  \n",
      "5563           8               NaN            NaN     NaN  \n",
      "5564           1               NaN            NaN     NaN  \n",
      "5565           0         RG Sharma         bowled     NaN  \n",
      "\n",
      "[426 rows x 21 columns]\n"
     ]
    }
   ],
   "source": [
    "rohit = df1.loc[(df1['batsman'] == 'RG Sharma')]\n",
    "print(rohit)"
   ]
  },
  {
   "cell_type": "code",
   "execution_count": 8,
   "metadata": {},
   "outputs": [
    {
     "name": "stdout",
     "output_type": "stream",
     "text": [
      "563\n"
     ]
    }
   ],
   "source": [
    "column_name = 'batsman_runs'\n",
    "column_sum = rohit[column_name].sum()\n",
    "print(column_sum)"
   ]
  },
  {
   "cell_type": "code",
   "execution_count": 9,
   "metadata": {},
   "outputs": [
    {
     "name": "stdout",
     "output_type": "stream",
     "text": [
      "23.458333333333332\n"
     ]
    }
   ],
   "source": [
    "avg = column_sum/matches\n",
    "print(avg)"
   ]
  },
  {
   "cell_type": "code",
   "execution_count": null,
   "metadata": {},
   "outputs": [],
   "source": []
  }
 ],
 "metadata": {
  "kernelspec": {
   "display_name": "Python 3",
   "language": "python",
   "name": "python3"
  },
  "language_info": {
   "codemirror_mode": {
    "name": "ipython",
    "version": 3
   },
   "file_extension": ".py",
   "mimetype": "text/x-python",
   "name": "python",
   "nbconvert_exporter": "python",
   "pygments_lexer": "ipython3",
   "version": "3.7.4"
  }
 },
 "nbformat": 4,
 "nbformat_minor": 4
}
