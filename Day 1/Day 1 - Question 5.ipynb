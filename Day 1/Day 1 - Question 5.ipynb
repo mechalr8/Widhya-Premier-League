{
 "cells": [
  {
   "cell_type": "code",
   "execution_count": 1,
   "metadata": {},
   "outputs": [],
   "source": [
    "from pandas import *"
   ]
  },
  {
   "cell_type": "code",
   "execution_count": 14,
   "metadata": {
    "scrolled": true
   },
   "outputs": [
    {
     "name": "stdout",
     "output_type": "stream",
     "text": [
      "      match_id  inning    batting_team      bowling_team  over  ball  \\\n",
      "0           24       1  Mumbai Indians  Delhi Daredevils     1     1   \n",
      "1           24       1  Mumbai Indians  Delhi Daredevils     1     2   \n",
      "2           24       1  Mumbai Indians  Delhi Daredevils     1     3   \n",
      "3           24       1  Mumbai Indians  Delhi Daredevils     1     4   \n",
      "4           24       1  Mumbai Indians  Delhi Daredevils     1     5   \n",
      "...        ...     ...             ...               ...   ...   ...   \n",
      "5770     11325       2  Delhi Capitals    Mumbai Indians    20     2   \n",
      "5771     11325       2  Delhi Capitals    Mumbai Indians    20     3   \n",
      "5772     11325       2  Delhi Capitals    Mumbai Indians    20     4   \n",
      "5773     11325       2  Delhi Capitals    Mumbai Indians    20     5   \n",
      "5774     11325       2  Delhi Capitals    Mumbai Indians    20     6   \n",
      "\n",
      "         batsman non_striker     bowler  is_super_over  wide_runs  bye_runs  \\\n",
      "0       PA Patel  JC Buttler   K Rabada              0          0         0   \n",
      "1     JC Buttler    PA Patel   K Rabada              0          5         0   \n",
      "2     JC Buttler    PA Patel   K Rabada              0          0         0   \n",
      "3       PA Patel  JC Buttler   K Rabada              0          0         0   \n",
      "4     JC Buttler    PA Patel   K Rabada              0          0         0   \n",
      "...          ...         ...        ...            ...        ...       ...   \n",
      "5770    K Rabada    A Mishra  HH Pandya              0          0         0   \n",
      "5771    K Rabada    A Mishra  HH Pandya              0          0         0   \n",
      "5772    K Rabada    A Mishra  HH Pandya              0          0         0   \n",
      "5773    A Mishra    I Sharma  HH Pandya              0          0         0   \n",
      "5774    A Mishra    I Sharma  HH Pandya              0          0         0   \n",
      "\n",
      "      legbye_runs  noball_runs  penalty_runs  batsman_runs  extra_runs  \\\n",
      "0               1            0             0             0           1   \n",
      "1               0            0             0             0           5   \n",
      "2               0            0             0             1           0   \n",
      "3               0            0             0             1           0   \n",
      "4               0            0             0             0           0   \n",
      "...           ...          ...           ...           ...         ...   \n",
      "5770            0            0             0             6           0   \n",
      "5771            0            0             0             0           0   \n",
      "5772            0            0             0             0           0   \n",
      "5773            0            0             0             2           0   \n",
      "5774            0            0             0             1           0   \n",
      "\n",
      "      total_runs player_dismissed  \n",
      "0              1              NaN  \n",
      "1              5              NaN  \n",
      "2              1              NaN  \n",
      "3              1              NaN  \n",
      "4              0              NaN  \n",
      "...          ...              ...  \n",
      "5770           6              NaN  \n",
      "5771           0              NaN  \n",
      "5772           0         K Rabada  \n",
      "5773           2              NaN  \n",
      "5774           1              NaN  \n",
      "\n",
      "[5775 rows x 19 columns]\n"
     ]
    }
   ],
   "source": [
    "df = read_cv(r'C:\\Users\\Asus\\Desktop\\WPL Datasets\\MI vs DC deliveries.csv)"
   ]
  },
  {
   "cell_type": "code",
   "execution_count": 5,
   "metadata": {},
   "outputs": [
    {
     "name": "stdout",
     "output_type": "stream",
     "text": [
      "24\n"
     ]
    }
   ],
   "source": [
    "matches = df.groupby(['match_id']).size().count()\n",
    "print(matches)"
   ]
  },
  {
   "cell_type": "code",
   "execution_count": 6,
   "metadata": {},
   "outputs": [
    {
     "name": "stdout",
     "output_type": "stream",
     "text": [
      "227\n"
     ]
    }
   ],
   "source": [
    "column_name = 'wide_runs'\n",
    "column_sum = df[column_name].sum()\n",
    "print(column_sum)"
   ]
  },
  {
   "cell_type": "code",
   "execution_count": 11,
   "metadata": {},
   "outputs": [
    {
     "name": "stdout",
     "output_type": "stream",
     "text": [
      "9.458333333333334\n"
     ]
    }
   ],
   "source": [
    "WidesPerMatch = column_sum/matches\n",
    "print(WidesPerMatch)"
   ]
  },
  {
   "cell_type": "code",
   "execution_count": null,
   "metadata": {},
   "outputs": [],
   "source": []
  }
 ],
 "metadata": {
  "kernelspec": {
   "display_name": "Python 3",
   "language": "python",
   "name": "python3"
  },
  "language_info": {
   "codemirror_mode": {
    "name": "ipython",
    "version": 3
   },
   "file_extension": ".py",
   "mimetype": "text/x-python",
   "name": "python",
   "nbconvert_exporter": "python",
   "pygments_lexer": "ipython3",
   "version": "3.7.4"
  }
 },
 "nbformat": 4,
 "nbformat_minor": 4
}
