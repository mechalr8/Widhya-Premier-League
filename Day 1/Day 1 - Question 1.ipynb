{
 "cells": [
  {
   "cell_type": "code",
   "execution_count": 1,
   "metadata": {},
   "outputs": [],
   "source": [
    "from pandas import *"
   ]
  },
  {
   "cell_type": "code",
   "execution_count": 2,
   "metadata": {},
   "outputs": [],
   "source": [
    "df = read_csv(r'C:\\Users\\Asus\\Desktop\\WPL Datasets\\matches.csv')"
   ]
  },
  {
   "cell_type": "code",
   "execution_count": 3,
   "metadata": {
    "scrolled": true
   },
   "outputs": [
    {
     "name": "stdout",
     "output_type": "stream",
     "text": [
      "        id  season           city       date                        team1  \\\n",
      "0        1    2017      Hyderabad   4/5/2017          Sunrisers Hyderabad   \n",
      "1        2    2017           Pune   4/6/2017               Mumbai Indians   \n",
      "2        3    2017         Rajkot   4/7/2017                Gujarat Lions   \n",
      "3        4    2017         Indore   4/8/2017       Rising Pune Supergiant   \n",
      "4        5    2017      Bangalore   4/8/2017  Royal Challengers Bangalore   \n",
      "..     ...     ...            ...        ...                          ...   \n",
      "751  11347    2019         Mumbai   5/5/2019        Kolkata Knight Riders   \n",
      "752  11412    2019        Chennai   7/5/2019          Chennai Super Kings   \n",
      "753  11413    2019  Visakhapatnam   8/5/2019          Sunrisers Hyderabad   \n",
      "754  11414    2019  Visakhapatnam  10/5/2019               Delhi Capitals   \n",
      "755  11415    2019      Hyderabad  12/5/2019               Mumbai Indians   \n",
      "\n",
      "                           team2                  toss_winner toss_decision  \\\n",
      "0    Royal Challengers Bangalore  Royal Challengers Bangalore         field   \n",
      "1         Rising Pune Supergiant       Rising Pune Supergiant         field   \n",
      "2          Kolkata Knight Riders        Kolkata Knight Riders         field   \n",
      "3                Kings XI Punjab              Kings XI Punjab         field   \n",
      "4               Delhi Daredevils  Royal Challengers Bangalore           bat   \n",
      "..                           ...                          ...           ...   \n",
      "751               Mumbai Indians               Mumbai Indians         field   \n",
      "752               Mumbai Indians          Chennai Super Kings           bat   \n",
      "753               Delhi Capitals               Delhi Capitals         field   \n",
      "754          Chennai Super Kings          Chennai Super Kings         field   \n",
      "755          Chennai Super Kings               Mumbai Indians           bat   \n",
      "\n",
      "     result  dl_applied                       winner  win_by_runs  \\\n",
      "0    normal           0          Sunrisers Hyderabad           35   \n",
      "1    normal           0       Rising Pune Supergiant            0   \n",
      "2    normal           0        Kolkata Knight Riders            0   \n",
      "3    normal           0              Kings XI Punjab            0   \n",
      "4    normal           0  Royal Challengers Bangalore           15   \n",
      "..      ...         ...                          ...          ...   \n",
      "751  normal           0               Mumbai Indians            0   \n",
      "752  normal           0               Mumbai Indians            0   \n",
      "753  normal           0               Delhi Capitals            0   \n",
      "754  normal           0          Chennai Super Kings            0   \n",
      "755  normal           0               Mumbai Indians            1   \n",
      "\n",
      "     win_by_wickets player_of_match  \\\n",
      "0                 0    Yuvraj Singh   \n",
      "1                 7       SPD Smith   \n",
      "2                10         CA Lynn   \n",
      "3                 6      GJ Maxwell   \n",
      "4                 0       KM Jadhav   \n",
      "..              ...             ...   \n",
      "751               9       HH Pandya   \n",
      "752               6        AS Yadav   \n",
      "753               2         RR Pant   \n",
      "754               6    F du Plessis   \n",
      "755               0       JJ Bumrah   \n",
      "\n",
      "                                         venue         umpire1  \\\n",
      "0    Rajiv Gandhi International Stadium, Uppal     AY Dandekar   \n",
      "1      Maharashtra Cricket Association Stadium  A Nand Kishore   \n",
      "2       Saurashtra Cricket Association Stadium     Nitin Menon   \n",
      "3                       Holkar Cricket Stadium    AK Chaudhary   \n",
      "4                        M Chinnaswamy Stadium             NaN   \n",
      "..                                         ...             ...   \n",
      "751                           Wankhede Stadium   Nanda Kishore   \n",
      "752                  M. A. Chidambaram Stadium     Nigel Llong   \n",
      "753                           ACA-VDCA Stadium             NaN   \n",
      "754                           ACA-VDCA Stadium   Sundaram Ravi   \n",
      "755         Rajiv Gandhi Intl. Cricket Stadium     Nitin Menon   \n",
      "\n",
      "            umpire2                  umpire3  \n",
      "0          NJ Llong                      NaN  \n",
      "1            S Ravi                      NaN  \n",
      "2         CK Nandan                      NaN  \n",
      "3     C Shamshuddin                      NaN  \n",
      "4               NaN                      NaN  \n",
      "..              ...                      ...  \n",
      "751        O Nandan                   S Ravi  \n",
      "752     Nitin Menon                Ian Gould  \n",
      "753             NaN                      NaN  \n",
      "754  Bruce Oxenford  Chettithody Shamshuddin  \n",
      "755       Ian Gould              Nigel Llong  \n",
      "\n",
      "[756 rows x 18 columns]\n"
     ]
    }
   ],
   "source": [
    "print(df)"
   ]
  },
  {
   "cell_type": "code",
   "execution_count": 20,
   "metadata": {},
   "outputs": [
    {
     "name": "stdout",
     "output_type": "stream",
     "text": [
      "        id  season           city       date             team1  \\\n",
      "23      24    2017         Mumbai  4/22/2017    Mumbai Indians   \n",
      "43      44    2017          Delhi   5/6/2017    Mumbai Indians   \n",
      "81      82    2008         Mumbai   5/4/2008    Mumbai Indians   \n",
      "108    109    2008          Delhi  5/24/2008    Mumbai Indians   \n",
      "149    150    2009    East London   5/8/2009    Mumbai Indians   \n",
      "169    170    2009      Centurion  5/21/2009    Mumbai Indians   \n",
      "182    183    2010          Delhi  3/17/2010    Mumbai Indians   \n",
      "220    221    2010         Mumbai  4/13/2010    Mumbai Indians   \n",
      "237    238    2011          Delhi  4/10/2011  Delhi Daredevils   \n",
      "281    282    2011         Mumbai   5/7/2011    Mumbai Indians   \n",
      "326    327    2012         Mumbai  4/16/2012    Mumbai Indians   \n",
      "341    342    2012          Delhi  4/27/2012  Delhi Daredevils   \n",
      "389    390    2013         Mumbai   4/9/2013    Mumbai Indians   \n",
      "407    408    2013          Delhi  4/21/2013    Mumbai Indians   \n",
      "472    473    2014        Sharjah  4/27/2014    Mumbai Indians   \n",
      "507    508    2014         Mumbai  5/23/2014    Mumbai Indians   \n",
      "538    539    2015          Delhi  4/23/2015  Delhi Daredevils   \n",
      "555    556    2015         Mumbai   5/5/2015  Delhi Daredevils   \n",
      "592    593    2016          Delhi  4/23/2016  Delhi Daredevils   \n",
      "622    623    2016  Visakhapatnam  5/15/2016    Mumbai Indians   \n",
      "644   7902    2018         Mumbai   14/04/18    Mumbai Indians   \n",
      "690   7948    2018          Delhi   20/05/18  Delhi Daredevils   \n",
      "698  11139    2019         Mumbai   24/03/19    Delhi Capitals   \n",
      "729  11325    2019          Delhi   18/04/19    Mumbai Indians   \n",
      "\n",
      "                team2       toss_winner toss_decision  result  dl_applied  \\\n",
      "23   Delhi Daredevils  Delhi Daredevils         field  normal           0   \n",
      "43   Delhi Daredevils  Delhi Daredevils         field  normal           0   \n",
      "81   Delhi Daredevils  Delhi Daredevils         field  normal           0   \n",
      "108  Delhi Daredevils  Delhi Daredevils         field  normal           0   \n",
      "149  Delhi Daredevils    Mumbai Indians           bat  normal           0   \n",
      "169  Delhi Daredevils  Delhi Daredevils         field  normal           0   \n",
      "182  Delhi Daredevils  Delhi Daredevils         field  normal           0   \n",
      "220  Delhi Daredevils    Mumbai Indians           bat  normal           0   \n",
      "237    Mumbai Indians  Delhi Daredevils           bat  normal           0   \n",
      "281  Delhi Daredevils  Delhi Daredevils         field  normal           0   \n",
      "326  Delhi Daredevils  Delhi Daredevils         field  normal           0   \n",
      "341    Mumbai Indians    Mumbai Indians         field  normal           0   \n",
      "389  Delhi Daredevils    Mumbai Indians           bat  normal           0   \n",
      "407  Delhi Daredevils    Mumbai Indians           bat  normal           0   \n",
      "472  Delhi Daredevils    Mumbai Indians           bat  normal           0   \n",
      "507  Delhi Daredevils  Delhi Daredevils         field  normal           0   \n",
      "538    Mumbai Indians    Mumbai Indians         field  normal           0   \n",
      "555    Mumbai Indians  Delhi Daredevils           bat  normal           0   \n",
      "592    Mumbai Indians    Mumbai Indians         field  normal           0   \n",
      "622  Delhi Daredevils  Delhi Daredevils         field  normal           0   \n",
      "644  Delhi Daredevils  Delhi Daredevils         field  normal           0   \n",
      "690    Mumbai Indians  Delhi Daredevils           bat  normal           0   \n",
      "698    Mumbai Indians    Mumbai Indians         field  normal           0   \n",
      "729    Delhi Capitals    Mumbai Indians           bat  normal           0   \n",
      "\n",
      "               winner  win_by_runs  win_by_wickets  player_of_match  \\\n",
      "23     Mumbai Indians           14               0   MJ McClenaghan   \n",
      "43     Mumbai Indians          146               0      LMP Simmons   \n",
      "81     Mumbai Indians           29               0       SM Pollock   \n",
      "108  Delhi Daredevils            0               5       KD Karthik   \n",
      "149  Delhi Daredevils            0               7          A Nehra   \n",
      "169  Delhi Daredevils            0               4         V Sehwag   \n",
      "182    Mumbai Indians           98               0     SR Tendulkar   \n",
      "220    Mumbai Indians           39               0       KA Pollard   \n",
      "237    Mumbai Indians            0               8       SL Malinga   \n",
      "281    Mumbai Indians           32               0        AT Rayudu   \n",
      "326  Delhi Daredevils            0               7         S Nadeem   \n",
      "341  Delhi Daredevils           37               0         V Sehwag   \n",
      "389    Mumbai Indians           44               0       KD Karthik   \n",
      "407  Delhi Daredevils            0               9         V Sehwag   \n",
      "472  Delhi Daredevils            0               6          M Vijay   \n",
      "507    Mumbai Indians           15               0       MEK Hussey   \n",
      "538  Delhi Daredevils           37               0          SS Iyer   \n",
      "555    Mumbai Indians            0               5  Harbhajan Singh   \n",
      "592  Delhi Daredevils           10               0        SV Samson   \n",
      "622    Mumbai Indians           80               0        KH Pandya   \n",
      "644  Delhi Daredevils            0               7           JJ Roy   \n",
      "690  Delhi Daredevils           11               0         A Mishra   \n",
      "698    Delhi Capitals           37               0          RR Pant   \n",
      "729    Mumbai Indians           40               0        HH Pandya   \n",
      "\n",
      "                                                 venue               umpire1  \\\n",
      "23                                    Wankhede Stadium        A Nand Kishore   \n",
      "43                                    Feroz Shah Kotla           Nitin Menon   \n",
      "81                          Dr DY Patil Sports Academy             IL Howell   \n",
      "108                                   Feroz Shah Kotla             BF Bowden   \n",
      "149                                       Buffalo Park             M Erasmus   \n",
      "169                                    SuperSport Park             IL Howell   \n",
      "182                                   Feroz Shah Kotla           BR Doctrove   \n",
      "220                                  Brabourne Stadium              S Asnani   \n",
      "237                                   Feroz Shah Kotla             AM Saheba   \n",
      "281                                   Wankhede Stadium           K Hariharan   \n",
      "326                                   Wankhede Stadium             BF Bowden   \n",
      "341                                   Feroz Shah Kotla             Aleem Dar   \n",
      "389                                   Wankhede Stadium             M Erasmus   \n",
      "407                                   Feroz Shah Kotla       HDPK Dharmasena   \n",
      "472                            Sharjah Cricket Stadium             Aleem Dar   \n",
      "507                                   Wankhede Stadium                S Ravi   \n",
      "538                                   Feroz Shah Kotla                SD Fry   \n",
      "555                                   Wankhede Stadium       HDPK Dharmasena   \n",
      "592                                   Feroz Shah Kotla                S Ravi   \n",
      "622  Dr. Y.S. Rajasekhara Reddy ACA-VDCA Cricket St...           Nitin Menon   \n",
      "644                                   Wankhede Stadium  K Ananthapadmanabhan   \n",
      "690                                   Feroz Shah Kotla      Kumar Dharmasena   \n",
      "698                                   Wankhede Stadium                S Ravi   \n",
      "729                            Feroz Shah Kotla Ground           Nigel Llong   \n",
      "\n",
      "            umpire2          umpire3  \n",
      "23           S Ravi              NaN  \n",
      "43        CK Nandan              NaN  \n",
      "81      RE Koertzen              NaN  \n",
      "108     K Hariharan              NaN  \n",
      "149     SK Tarapore              NaN  \n",
      "169          S Ravi              NaN  \n",
      "182     SK Tarapore              NaN  \n",
      "220       DJ Harper              NaN  \n",
      "237       RB Tiffin              NaN  \n",
      "281      SJA Taufel              NaN  \n",
      "326     SK Tarapore              NaN  \n",
      "341    BNJ Oxenford              NaN  \n",
      "389     VA Kulkarni              NaN  \n",
      "407          S Ravi              NaN  \n",
      "472     VA Kulkarni              NaN  \n",
      "507       RJ Tucker              NaN  \n",
      "538       CK Nandan              NaN  \n",
      "555     CB Gaffaney              NaN  \n",
      "592   C Shamshuddin              NaN  \n",
      "622       CK Nandan              NaN  \n",
      "644     Nitin Menon       Rod Tucker  \n",
      "690        O Nandan  Vineet Kulkarni  \n",
      "698  Yeshwant Barde         O Nandan  \n",
      "729  Bruce Oxenford   Anil Chaudhary  \n"
     ]
    }
   ],
   "source": [
    "team = ['Mumbai Indians', 'Delhi Capitals', 'Delhi Daredevils']\n",
    "MIvsDC = df.loc[df['team1'].isin(team) & df['team2'].isin(team)]\n",
    "print(MIvsDC)"
   ]
  },
  {
   "cell_type": "code",
   "execution_count": 21,
   "metadata": {},
   "outputs": [
    {
     "name": "stdout",
     "output_type": "stream",
     "text": [
      "24\n"
     ]
    }
   ],
   "source": [
    "total_matches = MIvsDC.groupby('id').size().count()\n",
    "print(total_matches)"
   ]
  },
  {
   "cell_type": "code",
   "execution_count": 22,
   "metadata": {
    "scrolled": true
   },
   "outputs": [
    {
     "name": "stdout",
     "output_type": "stream",
     "text": [
      "        id  season           city       date             team1  \\\n",
      "23      24    2017         Mumbai  4/22/2017    Mumbai Indians   \n",
      "43      44    2017          Delhi   5/6/2017    Mumbai Indians   \n",
      "81      82    2008         Mumbai   5/4/2008    Mumbai Indians   \n",
      "182    183    2010          Delhi  3/17/2010    Mumbai Indians   \n",
      "220    221    2010         Mumbai  4/13/2010    Mumbai Indians   \n",
      "237    238    2011          Delhi  4/10/2011  Delhi Daredevils   \n",
      "281    282    2011         Mumbai   5/7/2011    Mumbai Indians   \n",
      "389    390    2013         Mumbai   4/9/2013    Mumbai Indians   \n",
      "507    508    2014         Mumbai  5/23/2014    Mumbai Indians   \n",
      "555    556    2015         Mumbai   5/5/2015  Delhi Daredevils   \n",
      "622    623    2016  Visakhapatnam  5/15/2016    Mumbai Indians   \n",
      "729  11325    2019          Delhi   18/04/19    Mumbai Indians   \n",
      "\n",
      "                team2       toss_winner toss_decision  result  dl_applied  \\\n",
      "23   Delhi Daredevils  Delhi Daredevils         field  normal           0   \n",
      "43   Delhi Daredevils  Delhi Daredevils         field  normal           0   \n",
      "81   Delhi Daredevils  Delhi Daredevils         field  normal           0   \n",
      "182  Delhi Daredevils  Delhi Daredevils         field  normal           0   \n",
      "220  Delhi Daredevils    Mumbai Indians           bat  normal           0   \n",
      "237    Mumbai Indians  Delhi Daredevils           bat  normal           0   \n",
      "281  Delhi Daredevils  Delhi Daredevils         field  normal           0   \n",
      "389  Delhi Daredevils    Mumbai Indians           bat  normal           0   \n",
      "507  Delhi Daredevils  Delhi Daredevils         field  normal           0   \n",
      "555    Mumbai Indians  Delhi Daredevils           bat  normal           0   \n",
      "622  Delhi Daredevils  Delhi Daredevils         field  normal           0   \n",
      "729    Delhi Capitals    Mumbai Indians           bat  normal           0   \n",
      "\n",
      "             winner  win_by_runs  win_by_wickets  player_of_match  \\\n",
      "23   Mumbai Indians           14               0   MJ McClenaghan   \n",
      "43   Mumbai Indians          146               0      LMP Simmons   \n",
      "81   Mumbai Indians           29               0       SM Pollock   \n",
      "182  Mumbai Indians           98               0     SR Tendulkar   \n",
      "220  Mumbai Indians           39               0       KA Pollard   \n",
      "237  Mumbai Indians            0               8       SL Malinga   \n",
      "281  Mumbai Indians           32               0        AT Rayudu   \n",
      "389  Mumbai Indians           44               0       KD Karthik   \n",
      "507  Mumbai Indians           15               0       MEK Hussey   \n",
      "555  Mumbai Indians            0               5  Harbhajan Singh   \n",
      "622  Mumbai Indians           80               0        KH Pandya   \n",
      "729  Mumbai Indians           40               0        HH Pandya   \n",
      "\n",
      "                                                 venue          umpire1  \\\n",
      "23                                    Wankhede Stadium   A Nand Kishore   \n",
      "43                                    Feroz Shah Kotla      Nitin Menon   \n",
      "81                          Dr DY Patil Sports Academy        IL Howell   \n",
      "182                                   Feroz Shah Kotla      BR Doctrove   \n",
      "220                                  Brabourne Stadium         S Asnani   \n",
      "237                                   Feroz Shah Kotla        AM Saheba   \n",
      "281                                   Wankhede Stadium      K Hariharan   \n",
      "389                                   Wankhede Stadium        M Erasmus   \n",
      "507                                   Wankhede Stadium           S Ravi   \n",
      "555                                   Wankhede Stadium  HDPK Dharmasena   \n",
      "622  Dr. Y.S. Rajasekhara Reddy ACA-VDCA Cricket St...      Nitin Menon   \n",
      "729                            Feroz Shah Kotla Ground      Nigel Llong   \n",
      "\n",
      "            umpire2         umpire3  \n",
      "23           S Ravi             NaN  \n",
      "43        CK Nandan             NaN  \n",
      "81      RE Koertzen             NaN  \n",
      "182     SK Tarapore             NaN  \n",
      "220       DJ Harper             NaN  \n",
      "237       RB Tiffin             NaN  \n",
      "281      SJA Taufel             NaN  \n",
      "389     VA Kulkarni             NaN  \n",
      "507       RJ Tucker             NaN  \n",
      "555     CB Gaffaney             NaN  \n",
      "622       CK Nandan             NaN  \n",
      "729  Bruce Oxenford  Anil Chaudhary  \n"
     ]
    }
   ],
   "source": [
    "winMI = MIvsDC.loc[(df['winner'] == 'Mumbai Indians')]\n",
    "print(winMI)"
   ]
  },
  {
   "cell_type": "code",
   "execution_count": 41,
   "metadata": {},
   "outputs": [
    {
     "name": "stdout",
     "output_type": "stream",
     "text": [
      "12\n"
     ]
    }
   ],
   "source": [
    "TimesWinMI = winMI.groupby('id').size().count()\n",
    "print(TimesWinMI)"
   ]
  },
  {
   "cell_type": "code",
   "execution_count": 35,
   "metadata": {
    "scrolled": true
   },
   "outputs": [
    {
     "name": "stdout",
     "output_type": "stream",
     "text": [
      "31\n"
     ]
    }
   ],
   "source": [
    "wwf = df.loc[(df['toss_winner'] == 'Mumbai Indians') & (df['toss_decision'] == 'field') & (df['winner'] == 'Mumbai Indians')]\n",
    "N_wwf = wwf.groupby('id').size().count()\n",
    "print(N_wwf) "
   ]
  },
  {
   "cell_type": "code",
   "execution_count": 38,
   "metadata": {},
   "outputs": [
    {
     "name": "stdout",
     "output_type": "stream",
     "text": [
      "187\n"
     ]
    }
   ],
   "source": [
    "MI = df.loc[(df['team1'] =='Mumbai Indians') | (df['team2'] =='Mumbai Indians')]\n",
    "N_MI = MI.groupby('id').size().count()\n",
    "print(N_MI)"
   ]
  },
  {
   "cell_type": "code",
   "execution_count": 39,
   "metadata": {},
   "outputs": [
    {
     "name": "stdout",
     "output_type": "stream",
     "text": [
      "25\n"
     ]
    }
   ],
   "source": [
    "wwf = df.loc[(df['toss_winner'] == 'Mumbai Indians') & (df['toss_decision'] == 'bat') & (df['winner'] == 'Mumbai Indians')]\n",
    "N_wwf = wwf.groupby('id').size().count()\n",
    "print(N_wwf)"
   ]
  },
  {
   "cell_type": "code",
   "execution_count": null,
   "metadata": {},
   "outputs": [],
   "source": []
  }
 ],
 "metadata": {
  "kernelspec": {
   "display_name": "Python 3",
   "language": "python",
   "name": "python3"
  },
  "language_info": {
   "codemirror_mode": {
    "name": "ipython",
    "version": 3
   },
   "file_extension": ".py",
   "mimetype": "text/x-python",
   "name": "python",
   "nbconvert_exporter": "python",
   "pygments_lexer": "ipython3",
   "version": "3.7.4"
  }
 },
 "nbformat": 4,
 "nbformat_minor": 4
}
