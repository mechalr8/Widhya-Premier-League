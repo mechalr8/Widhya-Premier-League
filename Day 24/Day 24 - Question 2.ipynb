{
 "cells": [
  {
   "cell_type": "code",
   "execution_count": 1,
   "metadata": {},
   "outputs": [],
   "source": [
    "from pandas import *\n",
    "df = read_csv(r'C:\\Users\\harsi\\OneDrive\\Desktop\\WPL Datasets\\deliveries.csv')"
   ]
  },
  {
   "cell_type": "code",
   "execution_count": 30,
   "metadata": {},
   "outputs": [],
   "source": [
    "def SS(player):\n",
    "    batsman = df.loc[(df['batsman'] == player)]\n",
    "    balls = batsman.loc[(batsman['wide_runs'] == 0) & (batsman['noball_runs'] == 0)]\n",
    "    N_balls = balls.groupby('match_id').count()\n",
    "    N_balls = N_balls[['ball']]\n",
    "    N_balls = N_balls.rename(columns = {'ball':'balls_faced'})\n",
    "    boundary = batsman.loc[batsman['batsman_runs'].isin([4,6])]\n",
    "    boundary_runs = boundary.groupby('match_id').agg({'batsman_runs':['sum']})\n",
    "    boundary_runs.columns = ['boundary_runs']\n",
    "    single = batsman.loc[batsman['batsman_runs'].isin([1,2,3])]\n",
    "    single_runs = single.groupby('match_id').agg({'batsman_runs':['sum']})\n",
    "    single_runs.columns = ['single_runs']\n",
    "    runs = batsman.groupby('match_id').agg({'batsman_runs':['sum']})\n",
    "    runs.columns = ['total_runs']\n",
    "    on_crease = df.loc[(df['batsman'] == player) | (df['non_striker'] == player)]\n",
    "    crease_balls = on_crease.loc[(on_crease['wide_runs'] == 0) & (on_crease['noball_runs'] == 0)]\n",
    "    N_crease_balls = crease_balls.groupby('match_id').count()\n",
    "    N_crease_balls = N_crease_balls[['ball']]\n",
    "    N_crease_balls = N_crease_balls.rename(columns = {'ball':'on_crease_balls'})\n",
    "    result = concat([N_balls, N_crease_balls, boundary_runs, single_runs, runs], axis = 1).fillna(1)\n",
    "    result = result.loc[(result['total_runs'] > 15)]\n",
    "    result['SS'] = ((result['single_runs']/result['boundary_runs'])+(result['balls_faced']/result['on_crease_balls']))/result['total_runs']\n",
    "    result = result['SS'].max()\n",
    "    return result"
   ]
  },
  {
   "cell_type": "code",
   "execution_count": 36,
   "metadata": {},
   "outputs": [
    {
     "name": "stdout",
     "output_type": "stream",
     "text": [
      "            Batsman        SS   norm_SS\n",
      "13        MK Pandey  1.034539  1.000000\n",
      "0         RG Sharma  1.029101  0.994743\n",
      "12          WP Saha  1.026596  0.992321\n",
      "10        DA Warner  0.885959  0.856380\n",
      "6         KH Pandya  0.226035  0.218488\n",
      "4         SS Tiwary  0.215142  0.207959\n",
      "11    KS Williamson  0.149840  0.144837\n",
      "7        KA Pollard  0.149123  0.144144\n",
      "2          AS Yadav  0.148810  0.143841\n",
      "1         Q de Kock  0.101415  0.098029\n",
      "3      Ishan Kishan  0.092459  0.089372\n",
      "16      Rashid Khan  0.078632  0.076007\n",
      "5       DS Kulkarni  0.068182  0.065905\n",
      "14        JO Holder  0.050595  0.048906\n",
      "17   Sandeep Sharma  0.000000  0.000000\n",
      "9         RD Chahar  0.000000  0.000000\n",
      "15         S Nadeem  0.000000  0.000000\n",
      "8   NM Coulter-Nile  0.000000  0.000000\n",
      "18      T Natarajan  0.000000  0.000000\n"
     ]
    }
   ],
   "source": [
    "data = []\n",
    "player = ['RG Sharma', 'Q de Kock', 'AS Yadav', 'Ishan Kishan', 'SS Tiwary', 'DS Kulkarni', 'KH Pandya', 'KA Pollard', 'NM Coulter-Nile', 'RD Chahar',\n",
    "         'DA Warner', 'KS Williamson', 'WP Saha', 'MK Pandey', 'JO Holder', 'S Nadeem', 'Rashid Khan', 'Sandeep Sharma', 'T Natarajan']\n",
    "for i in player:\n",
    "    data.append([i, SS(i)])\n",
    "batsman_SS = DataFrame(data, columns = ['Batsman', 'SS']).fillna(0)\n",
    "batsman_SS = batsman_SS.sort_values(['SS'], ascending = False)\n",
    "batsman_SS['norm_SS'] = (batsman_SS['SS'] - batsman_SS['SS'].min())/(batsman_SS['SS'].max() - batsman_SS['SS'].min())\n",
    "print(batsman_SS)"
   ]
  },
  {
   "cell_type": "code",
   "execution_count": null,
   "metadata": {},
   "outputs": [],
   "source": []
  }
 ],
 "metadata": {
  "kernelspec": {
   "display_name": "Python 3",
   "language": "python",
   "name": "python3"
  },
  "language_info": {
   "codemirror_mode": {
    "name": "ipython",
    "version": 3
   },
   "file_extension": ".py",
   "mimetype": "text/x-python",
   "name": "python",
   "nbconvert_exporter": "python",
   "pygments_lexer": "ipython3",
   "version": "3.7.0"
  }
 },
 "nbformat": 4,
 "nbformat_minor": 4
}
