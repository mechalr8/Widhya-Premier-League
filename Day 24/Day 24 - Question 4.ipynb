{
 "cells": [
  {
   "cell_type": "code",
   "execution_count": 1,
   "metadata": {},
   "outputs": [],
   "source": [
    "from pandas import *\n",
    "df = read_csv(r'C:\\Users\\harsi\\OneDrive\\Desktop\\WPL Datasets\\deliveries.csv')"
   ]
  },
  {
   "cell_type": "code",
   "execution_count": 18,
   "metadata": {},
   "outputs": [],
   "source": [
    "def BL(player):\n",
    "    bowler = df.loc[(df['bowler'] == player)]\n",
    "    balls = bowler.loc[(bowler['wide_runs'] == 0) & (bowler['noball_runs'] == 0)]\n",
    "    N_balls = balls.groupby('match_id').count()\n",
    "    N_balls = N_balls[['ball']]\n",
    "    N_balls = N_balls.rename(columns = {'ball':'balls_bowled'})\n",
    "    boundary = bowler.loc[bowler['batsman_runs'].isin([4,6])]\n",
    "    N_boundary = boundary.groupby('match_id').count()\n",
    "    N_boundary = N_boundary[['batsman_runs']]\n",
    "    N_boundary = N_boundary.rename(columns = {'batsman_runs':'number_of_boundaries'})\n",
    "    result = concat([N_balls, N_boundary], axis = 1).fillna(0)\n",
    "    result['BL'] = result['number_of_boundaries']/result['balls_bowled']\n",
    "    result = result['BL'].max()\n",
    "    return result"
   ]
  },
  {
   "cell_type": "code",
   "execution_count": 24,
   "metadata": {},
   "outputs": [
    {
     "name": "stdout",
     "output_type": "stream",
     "text": [
      "             bowler        BL\n",
      "5       DS Kulkarni  0.750000\n",
      "7        KA Pollard  0.666667\n",
      "0         RG Sharma  0.500000\n",
      "14        JO Holder  0.500000\n",
      "15         S Nadeem  0.500000\n",
      "18      T Natarajan  0.500000\n",
      "17   Sandeep Sharma  0.458333\n",
      "8   NM Coulter-Nile  0.444444\n",
      "6         KH Pandya  0.416667\n",
      "9         RD Chahar  0.333333\n",
      "16      Rashid Khan  0.333333\n",
      "11    KS Williamson  0.166667\n",
      "1         Q de Kock       NaN\n",
      "2          AS Yadav       NaN\n",
      "3      Ishan Kishan       NaN\n",
      "4         SS Tiwary       NaN\n",
      "10        DA Warner       NaN\n",
      "12          WP Saha       NaN\n",
      "13        MK Pandey       NaN\n"
     ]
    }
   ],
   "source": [
    "data = []\n",
    "player = ['RG Sharma', 'Q de Kock', 'AS Yadav', 'Ishan Kishan', 'SS Tiwary', 'DS Kulkarni', 'KH Pandya', 'KA Pollard', 'NM Coulter-Nile', 'RD Chahar',\n",
    "         'DA Warner', 'KS Williamson', 'WP Saha', 'MK Pandey', 'JO Holder', 'S Nadeem', 'Rashid Khan', 'Sandeep Sharma', 'T Natarajan']\n",
    "for i in player:\n",
    "    data.append([i, BL(i)])\n",
    "bowler_BL = DataFrame(data, columns = ['bowler', 'BL'])\n",
    "bowler_BL = bowler_BL.sort_values(['BL'], ascending = False)\n",
    "print(bowler_BL)"
   ]
  },
  {
   "cell_type": "code",
   "execution_count": null,
   "metadata": {},
   "outputs": [],
   "source": []
  }
 ],
 "metadata": {
  "kernelspec": {
   "display_name": "Python 3",
   "language": "python",
   "name": "python3"
  },
  "language_info": {
   "codemirror_mode": {
    "name": "ipython",
    "version": 3
   },
   "file_extension": ".py",
   "mimetype": "text/x-python",
   "name": "python",
   "nbconvert_exporter": "python",
   "pygments_lexer": "ipython3",
   "version": "3.7.0"
  }
 },
 "nbformat": 4,
 "nbformat_minor": 4
}
