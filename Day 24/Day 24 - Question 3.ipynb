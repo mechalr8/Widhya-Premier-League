{
 "cells": [
  {
   "cell_type": "code",
   "execution_count": 1,
   "metadata": {},
   "outputs": [],
   "source": [
    "from pandas import *\n",
    "df = read_csv(r'C:\\Users\\harsi\\OneDrive\\Desktop\\WPL Datasets\\deliveries.csv')"
   ]
  },
  {
   "cell_type": "code",
   "execution_count": 12,
   "metadata": {},
   "outputs": [],
   "source": [
    "def SR(player):\n",
    "    batsman = df.loc[(df['batsman'] == player)]\n",
    "    balls = batsman.loc[(batsman['wide_runs'] == 0) & (batsman['noball_runs'] == 0)]\n",
    "    N_balls = balls.groupby('match_id').count()\n",
    "    N_balls = N_balls[['ball']]\n",
    "    N_balls = N_balls.rename(columns = {'ball':'balls_faced'})\n",
    "    boundary = batsman.loc[batsman['batsman_runs'].isin([4,6])]\n",
    "    N_boundary = boundary.groupby('match_id').count()\n",
    "    N_boundary = N_boundary[['batsman_runs']]\n",
    "    N_boundary = N_boundary.rename(columns = {'batsman_runs':'number_of_boundaries'})\n",
    "    result = concat([N_balls, N_boundary], axis = 1).fillna(0)\n",
    "    result['SR'] = result['number_of_boundaries']*100/result['balls_faced']\n",
    "    result = result['SR'].max()\n",
    "    return result"
   ]
  },
  {
   "cell_type": "code",
   "execution_count": 20,
   "metadata": {},
   "outputs": [
    {
     "name": "stdout",
     "output_type": "stream",
     "text": [
      "            Batsman          SR\n",
      "16      Rashid Khan  100.000000\n",
      "13        MK Pandey  100.000000\n",
      "6         KH Pandya   58.333333\n",
      "7        KA Pollard   53.846154\n",
      "3      Ishan Kishan   52.380952\n",
      "0         RG Sharma   50.000000\n",
      "2          AS Yadav   50.000000\n",
      "5       DS Kulkarni   50.000000\n",
      "8   NM Coulter-Nile   50.000000\n",
      "10        DA Warner   50.000000\n",
      "11    KS Williamson   50.000000\n",
      "12          WP Saha   50.000000\n",
      "1         Q de Kock   35.294118\n",
      "4         SS Tiwary   33.333333\n",
      "9         RD Chahar   28.571429\n",
      "14        JO Holder   25.000000\n",
      "15         S Nadeem   20.000000\n",
      "17   Sandeep Sharma   11.111111\n",
      "18      T Natarajan         NaN\n"
     ]
    }
   ],
   "source": [
    "data = []\n",
    "player = ['RG Sharma', 'Q de Kock', 'AS Yadav', 'Ishan Kishan', 'SS Tiwary', 'DS Kulkarni', 'KH Pandya', 'KA Pollard', 'NM Coulter-Nile', 'RD Chahar',\n",
    "         'DA Warner', 'J Bairstow', 'WP Saha', 'MK Pandey', 'JO Holder', 'S Nadeem', 'Rashid Khan', 'Sandeep Sharma', 'T Natarajan']\n",
    "for i in player:\n",
    "    data.append([i, SR(i)])\n",
    "batsman_SR = DataFrame(data, columns = ['Batsman', 'SR'])\n",
    "batsman_SR = batsman_SR.sort_values(['SR'], ascending = False)\n",
    "print(batsman_SR)"
   ]
  },
  {
   "cell_type": "code",
   "execution_count": null,
   "metadata": {},
   "outputs": [],
   "source": []
  }
 ],
 "metadata": {
  "kernelspec": {
   "display_name": "Python 3",
   "language": "python",
   "name": "python3"
  },
  "language_info": {
   "codemirror_mode": {
    "name": "ipython",
    "version": 3
   },
   "file_extension": ".py",
   "mimetype": "text/x-python",
   "name": "python",
   "nbconvert_exporter": "python",
   "pygments_lexer": "ipython3",
   "version": "3.7.0"
  }
 },
 "nbformat": 4,
 "nbformat_minor": 4
}
