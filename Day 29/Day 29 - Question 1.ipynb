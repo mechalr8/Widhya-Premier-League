{
 "cells": [
  {
   "cell_type": "code",
   "execution_count": 1,
   "metadata": {},
   "outputs": [],
   "source": [
    "from pandas import *\n",
    "df = read_csv(r'C:\\Users\\harsi\\OneDrive\\Desktop\\WPL Datasets\\matches.csv')"
   ]
  },
  {
   "cell_type": "code",
   "execution_count": 2,
   "metadata": {},
   "outputs": [
    {
     "name": "stdout",
     "output_type": "stream",
     "text": [
      "Number of matches played between SRH and DC: 15\n"
     ]
    }
   ],
   "source": [
    "team = ['Sunrisers Hyderabad', 'Delhi Capitals', 'Delhi Daredevils']\n",
    "SRHvsDC = df.loc[(df['team1'].isin(team)) & (df['team2'].isin(team))]\n",
    "N_SRHvsDC = SRHvsDC.groupby('id').size().count()\n",
    "print('Number of matches played between SRH and DC:',N_SRHvsDC)"
   ]
  },
  {
   "cell_type": "code",
   "execution_count": 4,
   "metadata": {},
   "outputs": [
    {
     "name": "stdout",
     "output_type": "stream",
     "text": [
      "Sunrisers Hyderabad won 9 times\n"
     ]
    }
   ],
   "source": [
    "win_team = SRHvsDC.loc[SRHvsDC['winner'] == 'Sunrisers Hyderabad']\n",
    "N_win_team = win_team.groupby('id').size().count()\n",
    "print('Sunrisers Hyderabad won',N_win_team,'times')"
   ]
  },
  {
   "cell_type": "code",
   "execution_count": 6,
   "metadata": {},
   "outputs": [
    {
     "name": "stdout",
     "output_type": "stream",
     "text": [
      "Delhi Capitals won 6 times\n"
     ]
    }
   ],
   "source": [
    "teams = ['Delhi Capitals', 'Delhi Daredevils']\n",
    "win_team = SRHvsDC.loc[SRHvsDC['winner'].isin(teams)]\n",
    "N_win_team = win_team.groupby('id').size().count()\n",
    "print('Delhi Capitals won',N_win_team,'times')"
   ]
  },
  {
   "cell_type": "code",
   "execution_count": null,
   "metadata": {},
   "outputs": [],
   "source": []
  }
 ],
 "metadata": {
  "kernelspec": {
   "display_name": "Python 3",
   "language": "python",
   "name": "python3"
  },
  "language_info": {
   "codemirror_mode": {
    "name": "ipython",
    "version": 3
   },
   "file_extension": ".py",
   "mimetype": "text/x-python",
   "name": "python",
   "nbconvert_exporter": "python",
   "pygments_lexer": "ipython3",
   "version": "3.7.0"
  }
 },
 "nbformat": 4,
 "nbformat_minor": 4
}
