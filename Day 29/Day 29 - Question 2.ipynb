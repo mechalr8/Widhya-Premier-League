{
 "cells": [
  {
   "cell_type": "code",
   "execution_count": 1,
   "metadata": {},
   "outputs": [],
   "source": [
    "from pandas import *\n",
    "df = read_csv(r'C:\\Users\\harsi\\OneDrive\\Desktop\\WPL Datasets\\deliveries.csv')\n",
    "df = df.set_index('match_id')"
   ]
  },
  {
   "cell_type": "code",
   "execution_count": 5,
   "metadata": {},
   "outputs": [],
   "source": [
    "teams = ['Sunrisers Hyderabad', 'Delhi Capitals', 'Delhi Daredevils']\n",
    "SRHvsDC = df.loc[df['batting_team'].isin(teams) & df['bowling_team'].isin(teams)]\n",
    "def DC_runs(run):\n",
    "    teams = ['Delhi Capitals', 'Delhi Daredevils']\n",
    "    bat = SRHvsDC.loc[SRHvsDC['batting_team'].isin(teams)]\n",
    "    bat['runs'] = bat.groupby(['match_id'])['total_runs'].cumsum()\n",
    "    team_runs = bat.loc[bat['runs'] >= run].groupby('match_id').head(1)\n",
    "    team_runs['balls'] = team_runs['over'] * 6 + team_runs['ball']\n",
    "    team_runs1 = team_runs[['balls']]\n",
    "    return team_runs1"
   ]
  },
  {
   "cell_type": "code",
   "execution_count": 9,
   "metadata": {},
   "outputs": [],
   "source": [
    "def SRH_runs(run):\n",
    "    bat = SRHvsDC.loc[SRHvsDC['batting_team'] == 'Sunrisers Hyderabad']\n",
    "    bat['runs'] = bat.groupby(['match_id'])['total_runs'].cumsum()\n",
    "    team_runs = bat.loc[bat['runs'] >= run].groupby('match_id').head(1)\n",
    "    team_runs['balls'] = team_runs['over'] * 6 + team_runs['ball']\n",
    "    team_runs1 = team_runs[['balls']]\n",
    "    return team_runs1"
   ]
  },
  {
   "cell_type": "code",
   "execution_count": 17,
   "metadata": {},
   "outputs": [
    {
     "name": "stdout",
     "output_type": "stream",
     "text": [
      "          SRH_30  SRH_50  DC_30  DC_50  diff\n",
      "match_id                                    \n",
      "21            35    49.0     26     37     3\n",
      "39            26    37.0     28     37     2\n",
      "394           39    62.0     45     71     3\n",
      "428           30    57.0     49     70     6\n",
      "469           29    40.0     31     46     4\n",
      "489           28     NaN     33     41     0\n",
      "531           35    42.0     38     52     7\n",
      "561           30    51.0     33     44    10\n",
      "618           31    40.0     28     43     6\n",
      "628           30    48.0     35     52     1\n",
      "7929          33    40.0     29     40     4\n",
      "7935          31    39.0     38     61    15\n",
      "11152         28    34.0     38     56    12\n",
      "11321         28    49.0     29     41     9\n",
      "11413         24    40.0     30     35    11\n"
     ]
    },
    {
     "name": "stderr",
     "output_type": "stream",
     "text": [
      "c:\\users\\harsi\\appdata\\local\\programs\\python\\python37\\lib\\site-packages\\ipykernel_launcher.py:6: SettingWithCopyWarning: \n",
      "A value is trying to be set on a copy of a slice from a DataFrame.\n",
      "Try using .loc[row_indexer,col_indexer] = value instead\n",
      "\n",
      "See the caveats in the documentation: https://pandas.pydata.org/pandas-docs/stable/user_guide/indexing.html#returning-a-view-versus-a-copy\n",
      "  \n",
      "c:\\users\\harsi\\appdata\\local\\programs\\python\\python37\\lib\\site-packages\\ipykernel_launcher.py:6: SettingWithCopyWarning: \n",
      "A value is trying to be set on a copy of a slice from a DataFrame.\n",
      "Try using .loc[row_indexer,col_indexer] = value instead\n",
      "\n",
      "See the caveats in the documentation: https://pandas.pydata.org/pandas-docs/stable/user_guide/indexing.html#returning-a-view-versus-a-copy\n",
      "  \n",
      "c:\\users\\harsi\\appdata\\local\\programs\\python\\python37\\lib\\site-packages\\ipykernel_launcher.py:3: SettingWithCopyWarning: \n",
      "A value is trying to be set on a copy of a slice from a DataFrame.\n",
      "Try using .loc[row_indexer,col_indexer] = value instead\n",
      "\n",
      "See the caveats in the documentation: https://pandas.pydata.org/pandas-docs/stable/user_guide/indexing.html#returning-a-view-versus-a-copy\n",
      "  This is separate from the ipykernel package so we can avoid doing imports until\n",
      "c:\\users\\harsi\\appdata\\local\\programs\\python\\python37\\lib\\site-packages\\ipykernel_launcher.py:3: SettingWithCopyWarning: \n",
      "A value is trying to be set on a copy of a slice from a DataFrame.\n",
      "Try using .loc[row_indexer,col_indexer] = value instead\n",
      "\n",
      "See the caveats in the documentation: https://pandas.pydata.org/pandas-docs/stable/user_guide/indexing.html#returning-a-view-versus-a-copy\n",
      "  This is separate from the ipykernel package so we can avoid doing imports until\n"
     ]
    }
   ],
   "source": [
    "DC_30 = DC_runs(30).rename(columns = {'balls' : 'DC_30'})\n",
    "DC_50 = DC_runs(50).rename(columns = {'balls' : 'DC_50'})\n",
    "SRH_30 = SRH_runs(30).rename(columns = {'balls' : 'SRH_30'})\n",
    "SRH_50 = SRH_runs(50).rename(columns = {'balls' : 'SRH_50'})\n",
    "result = concat([SRH_30, SRH_50, DC_30, DC_50], axis = 1)\n",
    "result['diff'] = ((result['SRH_50'] - result['SRH_30']) - (result['DC_50'] - result['DC_30'])).fillna(0).abs().astype(int)\n",
    "print(result)"
   ]
  },
  {
   "cell_type": "code",
   "execution_count": 18,
   "metadata": {},
   "outputs": [],
   "source": [
    "def times(r):\n",
    "    a = result.loc[result['diff'].isin(r)]\n",
    "    A = a.groupby('match_id').size().count()\n",
    "    return A"
   ]
  },
  {
   "cell_type": "code",
   "execution_count": 23,
   "metadata": {},
   "outputs": [
    {
     "data": {
      "text/plain": [
       "9"
      ]
     },
     "execution_count": 23,
     "metadata": {},
     "output_type": "execute_result"
    }
   ],
   "source": [
    "times(list(range(0,7)))"
   ]
  },
  {
   "cell_type": "code",
   "execution_count": 24,
   "metadata": {},
   "outputs": [
    {
     "data": {
      "text/plain": [
       "4"
      ]
     },
     "execution_count": 24,
     "metadata": {},
     "output_type": "execute_result"
    }
   ],
   "source": [
    "times(list(range(7,13)))"
   ]
  },
  {
   "cell_type": "code",
   "execution_count": 25,
   "metadata": {},
   "outputs": [
    {
     "data": {
      "text/plain": [
       "1"
      ]
     },
     "execution_count": 25,
     "metadata": {},
     "output_type": "execute_result"
    }
   ],
   "source": [
    "times(list(range(13,19)))"
   ]
  },
  {
   "cell_type": "code",
   "execution_count": 26,
   "metadata": {},
   "outputs": [
    {
     "data": {
      "text/plain": [
       "0"
      ]
     },
     "execution_count": 26,
     "metadata": {},
     "output_type": "execute_result"
    }
   ],
   "source": [
    "maxm = result['diff'].max()\n",
    "times(list(range(19, maxm+1)))"
   ]
  },
  {
   "cell_type": "code",
   "execution_count": null,
   "metadata": {},
   "outputs": [],
   "source": []
  }
 ],
 "metadata": {
  "kernelspec": {
   "display_name": "Python 3",
   "language": "python",
   "name": "python3"
  },
  "language_info": {
   "codemirror_mode": {
    "name": "ipython",
    "version": 3
   },
   "file_extension": ".py",
   "mimetype": "text/x-python",
   "name": "python",
   "nbconvert_exporter": "python",
   "pygments_lexer": "ipython3",
   "version": "3.7.0"
  }
 },
 "nbformat": 4,
 "nbformat_minor": 4
}
