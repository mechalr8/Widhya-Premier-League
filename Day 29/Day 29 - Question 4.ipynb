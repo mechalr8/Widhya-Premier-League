{
 "cells": [
  {
   "cell_type": "code",
   "execution_count": 1,
   "metadata": {},
   "outputs": [],
   "source": [
    "from pandas import *\n",
    "df = read_csv(r'C:\\Users\\harsi\\OneDrive\\Desktop\\WPL Datasets\\deliveries.csv')"
   ]
  },
  {
   "cell_type": "code",
   "execution_count": 10,
   "metadata": {},
   "outputs": [],
   "source": [
    "def boundaries(player):\n",
    "    batsman = df.loc[(df['batsman'] == player)]\n",
    "    boundaries = batsman.loc[batsman['batsman_runs'].isin([4,6])]\n",
    "    N_boundaries = boundaries.groupby('match_id').count()\n",
    "    N_boundaries = N_boundaries[['batsman_runs']]\n",
    "    N_boundaries = N_boundaries['batsman_runs'].max()\n",
    "    return N_boundaries"
   ]
  },
  {
   "cell_type": "code",
   "execution_count": 11,
   "metadata": {},
   "outputs": [
    {
     "name": "stdout",
     "output_type": "stream",
     "text": [
      "           Batsman  boundaries\n",
      "3          RR Pant        22.0\n",
      "8        DA Warner        18.0\n",
      "10         WP Saha        18.0\n",
      "2          SS Iyer        17.0\n",
      "1           P Shaw        15.0\n",
      "0         S Dhawan        15.0\n",
      "11       MK Pandey        14.0\n",
      "9    KS Williamson        12.0\n",
      "5        S Hetmyer        10.0\n",
      "15      SP Goswami         8.0\n",
      "13     Rashid Khan         6.0\n",
      "6         HV Patel         5.0\n",
      "7         K Rabada         5.0\n",
      "4       MP Stoinis         5.0\n",
      "12       JO Holder         3.0\n",
      "16  Sandeep Sharma         1.0\n",
      "17        S Nadeem         1.0\n",
      "14     T Natarajan         NaN\n"
     ]
    }
   ],
   "source": [
    "data = []\n",
    "player = ['S Dhawan', 'P Shaw', 'SS Iyer', 'RR Pant', 'MP Stoinis', 'S Hetmyer', 'HV Patel', 'K Rabada',\n",
    "         'DA Warner', 'KS Williamson', 'WP Saha', 'MK Pandey', 'JO Holder', 'Rashid Khan', 'T Natarajan', 'SP Goswami', 'Sandeep Sharma', 'S Nadeem']\n",
    "for i in player:\n",
    "    data.append([i, boundaries(i)])\n",
    "batsman_boundaries = DataFrame(data, columns = ['Batsman', 'boundaries'])\n",
    "batsman_boundaries = batsman_boundaries.sort_values(['boundaries'], ascending = False)\n",
    "print(batsman_boundaries)"
   ]
  },
  {
   "cell_type": "code",
   "execution_count": null,
   "metadata": {},
   "outputs": [],
   "source": []
  }
 ],
 "metadata": {
  "kernelspec": {
   "display_name": "Python 3",
   "language": "python",
   "name": "python3"
  },
  "language_info": {
   "codemirror_mode": {
    "name": "ipython",
    "version": 3
   },
   "file_extension": ".py",
   "mimetype": "text/x-python",
   "name": "python",
   "nbconvert_exporter": "python",
   "pygments_lexer": "ipython3",
   "version": "3.7.0"
  }
 },
 "nbformat": 4,
 "nbformat_minor": 4
}
