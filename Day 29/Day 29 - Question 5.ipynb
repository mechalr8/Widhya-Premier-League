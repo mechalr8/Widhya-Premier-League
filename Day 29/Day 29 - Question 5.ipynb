{
 "cells": [
  {
   "cell_type": "code",
   "execution_count": 1,
   "metadata": {},
   "outputs": [],
   "source": [
    "from pandas import *\n",
    "df = read_csv(r'C:\\Users\\harsi\\OneDrive\\Desktop\\WPL Datasets\\deliveries.csv')"
   ]
  },
  {
   "cell_type": "code",
   "execution_count": 7,
   "metadata": {},
   "outputs": [
    {
     "name": "stdout",
     "output_type": "stream",
     "text": [
      "          dismissal_kind\n",
      "match_id                \n",
      "1                      2\n",
      "6                      3\n",
      "10                     1\n",
      "14                     1\n",
      "19                     2\n",
      "25                     1\n",
      "32                     1\n",
      "36                     1\n",
      "43                     1\n",
      "47                     1\n",
      "52                     3\n",
      "7897                   1\n",
      "7900                   1\n",
      "7909                   1\n",
      "7913                   1\n",
      "7916                   2\n",
      "7918                   3\n",
      "7921                   1\n",
      "7929                   2\n",
      "7932                   1\n",
      "7944                   3\n",
      "7950                   2\n",
      "7952                   3\n",
      "11138                  1\n",
      "11144                  1\n",
      "11152                  1\n",
      "11310                  1\n",
      "11313                  1\n",
      "11321                  1\n",
      "11324                  2\n",
      "11329                  1\n",
      "11332                  1\n",
      "11336                  1\n",
      "11339                  3\n",
      "11345                  1\n",
      "11413                  2\n"
     ]
    }
   ],
   "source": [
    "bowler = df.loc[(df['bowler'] == 'Rashid Khan')]\n",
    "dismissal_kind = ['bowled', 'caught', 'lbw', 'stumped']\n",
    "wicket = bowler.loc[bowler['dismissal_kind'].isin(dismissal_kind)]\n",
    "wicket = wicket[['match_id', 'dismissal_kind']]\n",
    "N_wicket = wicket.groupby('match_id').count()\n",
    "print(N_wicket)"
   ]
  },
  {
   "cell_type": "code",
   "execution_count": 10,
   "metadata": {},
   "outputs": [],
   "source": [
    "def times(r):\n",
    "    a = N_wicket.loc[N_wicket['dismissal_kind']==r]\n",
    "    A = a.groupby('match_id').size().count()\n",
    "    return A"
   ]
  },
  {
   "cell_type": "code",
   "execution_count": 13,
   "metadata": {},
   "outputs": [
    {
     "data": {
      "text/plain": [
       "23"
      ]
     },
     "execution_count": 13,
     "metadata": {},
     "output_type": "execute_result"
    }
   ],
   "source": [
    "times(1)"
   ]
  },
  {
   "cell_type": "code",
   "execution_count": 14,
   "metadata": {},
   "outputs": [
    {
     "data": {
      "text/plain": [
       "7"
      ]
     },
     "execution_count": 14,
     "metadata": {},
     "output_type": "execute_result"
    }
   ],
   "source": [
    "times(2)"
   ]
  },
  {
   "cell_type": "code",
   "execution_count": 15,
   "metadata": {},
   "outputs": [
    {
     "data": {
      "text/plain": [
       "6"
      ]
     },
     "execution_count": 15,
     "metadata": {},
     "output_type": "execute_result"
    }
   ],
   "source": [
    "times(3)"
   ]
  },
  {
   "cell_type": "code",
   "execution_count": 16,
   "metadata": {},
   "outputs": [
    {
     "name": "stdout",
     "output_type": "stream",
     "text": [
      "46\n"
     ]
    }
   ],
   "source": [
    "matches = bowler.groupby('match_id').size().count()\n",
    "print(matches)"
   ]
  },
  {
   "cell_type": "code",
   "execution_count": 17,
   "metadata": {},
   "outputs": [
    {
     "name": "stdout",
     "output_type": "stream",
     "text": [
      "10\n"
     ]
    }
   ],
   "source": [
    "matches_with_0_wickets = matches - times(1) - times(2) - times(3)\n",
    "print(matches_with_0_wickets)"
   ]
  },
  {
   "cell_type": "code",
   "execution_count": null,
   "metadata": {},
   "outputs": [],
   "source": []
  }
 ],
 "metadata": {
  "kernelspec": {
   "display_name": "Python 3",
   "language": "python",
   "name": "python3"
  },
  "language_info": {
   "codemirror_mode": {
    "name": "ipython",
    "version": 3
   },
   "file_extension": ".py",
   "mimetype": "text/x-python",
   "name": "python",
   "nbconvert_exporter": "python",
   "pygments_lexer": "ipython3",
   "version": "3.7.0"
  }
 },
 "nbformat": 4,
 "nbformat_minor": 4
}
