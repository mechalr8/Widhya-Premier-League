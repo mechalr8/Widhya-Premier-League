{
 "cells": [
  {
   "cell_type": "code",
   "execution_count": 1,
   "metadata": {},
   "outputs": [],
   "source": [
    "from pandas import *\n",
    "df = read_csv(r'C:\\Users\\harsi\\OneDrive\\Desktop\\WPL Datasets\\deliveries.csv')"
   ]
  },
  {
   "cell_type": "code",
   "execution_count": 6,
   "metadata": {},
   "outputs": [
    {
     "name": "stdout",
     "output_type": "stream",
     "text": [
      "          MI_runs  RCB_runs  diff\n",
      "match_id                         \n",
      "12             21        41    20\n",
      "37             55        52     3\n",
      "63             47        40     7\n",
      "90             39        36     3\n",
      "143            25        51    26\n",
      "153            46        39     7\n",
      "188            45        55    10\n",
      "226            34        34     0\n",
      "231            54        44    10\n",
      "242            40        24    16\n",
      "306            52        68    16\n",
      "360            25        35    10\n",
      "367            32        40     8\n",
      "383            38        31     7\n",
      "417            52        35    17\n",
      "462            49        30    19\n",
      "484            50        64    14\n",
      "534            48        33    15\n",
      "562            45        39     6\n",
      "590            51        49     2\n",
      "617            39        25    14\n",
      "7907           71        57    14\n",
      "7924           46        44     2\n",
      "11143          52        60     8\n",
      "11322          69        50    19\n"
     ]
    }
   ],
   "source": [
    "team = ['Mumbai Indians', 'Royal Challengers Bangalore']\n",
    "MIvsRCB = df.loc[df['batting_team'].isin(team) & df['bowling_team'].isin(team) & df['over'].isin(list(range(1,7)))]\n",
    "MI = MIvsRCB.loc[MIvsRCB['batting_team'] == 'Mumbai Indians']\n",
    "MI_runs = MI.groupby('match_id').agg({'total_runs':['sum']})\n",
    "MI_runs.columns = ['MI_runs']\n",
    "RCB = MIvsRCB.loc[MIvsRCB['batting_team'] == 'Royal Challengers Bangalore']\n",
    "RCB_runs = RCB.groupby('match_id').agg({'total_runs':['sum']})\n",
    "RCB_runs.columns = ['RCB_runs']\n",
    "result = concat([MI_runs, RCB_runs], axis = 1)\n",
    "result['diff'] = (result['MI_runs'] - result['RCB_runs']).abs()\n",
    "print(result)"
   ]
  },
  {
   "cell_type": "code",
   "execution_count": 7,
   "metadata": {},
   "outputs": [
    {
     "name": "stdout",
     "output_type": "stream",
     "text": [
      "5\n"
     ]
    }
   ],
   "source": [
    "r1 = list(range(0,6))\n",
    "a = result.loc[result['diff'].isin(r1)]\n",
    "A = a.groupby('match_id').size().count()\n",
    "print(A)"
   ]
  },
  {
   "cell_type": "code",
   "execution_count": 8,
   "metadata": {},
   "outputs": [
    {
     "name": "stdout",
     "output_type": "stream",
     "text": [
      "12\n"
     ]
    }
   ],
   "source": [
    "r2 = list(range(6,15))\n",
    "b = result.loc[result['diff'].isin(r2)]\n",
    "B = b.groupby('match_id').size().count()\n",
    "print(B)"
   ]
  },
  {
   "cell_type": "code",
   "execution_count": 9,
   "metadata": {},
   "outputs": [
    {
     "name": "stdout",
     "output_type": "stream",
     "text": [
      "7\n"
     ]
    }
   ],
   "source": [
    "r3 = list(range(15,23))\n",
    "c = result.loc[result['diff'].isin(r3)]\n",
    "C = c.groupby('match_id').size().count()\n",
    "print(C)"
   ]
  },
  {
   "cell_type": "code",
   "execution_count": 10,
   "metadata": {},
   "outputs": [
    {
     "name": "stdout",
     "output_type": "stream",
     "text": [
      "1\n"
     ]
    }
   ],
   "source": [
    "max_value = result['diff'].max()\n",
    "r4 = list(range(24,max_value+1))\n",
    "d = result.loc[result['diff'].isin(r4)]\n",
    "D = d.groupby('match_id').size().count()\n",
    "print(D)"
   ]
  }
 ],
 "metadata": {
  "kernelspec": {
   "display_name": "Python 3",
   "language": "python",
   "name": "python3"
  },
  "language_info": {
   "codemirror_mode": {
    "name": "ipython",
    "version": 3
   },
   "file_extension": ".py",
   "mimetype": "text/x-python",
   "name": "python",
   "nbconvert_exporter": "python",
   "pygments_lexer": "ipython3",
   "version": "3.7.0"
  }
 },
 "nbformat": 4,
 "nbformat_minor": 4
}
