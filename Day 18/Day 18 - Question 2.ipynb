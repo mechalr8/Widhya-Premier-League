{
 "cells": [
  {
   "cell_type": "code",
   "execution_count": 3,
   "metadata": {},
   "outputs": [],
   "source": [
    "from pandas import *\n",
    "df = read_csv(r'C:\\Users\\harsi\\OneDrive\\Desktop\\WPL Datasets\\deliveries.csv')"
   ]
  },
  {
   "cell_type": "code",
   "execution_count": 9,
   "metadata": {},
   "outputs": [
    {
     "name": "stdout",
     "output_type": "stream",
     "text": [
      "          player_dismissed\n",
      "match_id                  \n",
      "12                       2\n",
      "37                       3\n",
      "63                       3\n",
      "90                       2\n",
      "143                      1\n",
      "153                      1\n",
      "188                      3\n",
      "226                      4\n",
      "231                      4\n",
      "242                      2\n",
      "306                      4\n",
      "360                      3\n",
      "367                      3\n",
      "383                      3\n",
      "417                      5\n",
      "462                      4\n",
      "484                      3\n",
      "534                      3\n",
      "562                      3\n",
      "590                      3\n",
      "617                      1\n",
      "7907                     5\n",
      "7924                     5\n",
      "11143                    4\n",
      "11322                    3\n"
     ]
    }
   ],
   "source": [
    "team = ['Mumbai Indians', 'Royal Challengers Bangalore']\n",
    "MIvsRCB = df.loc[df['batting_team'].isin(team) & df['bowling_team'].isin(team)]\n",
    "wicket = MIvsRCB[['match_id', 'bowler', 'player_dismissed']].dropna()\n",
    "N_wicket = wicket.groupby(['match_id', 'bowler']).count()\n",
    "two_or_more = N_wicket.loc[N_wicket['player_dismissed'] >= 2]\n",
    "N_two_or_more = two_or_more.groupby('match_id').count()\n",
    "print(N_two_or_more)"
   ]
  },
  {
   "cell_type": "code",
   "execution_count": 10,
   "metadata": {},
   "outputs": [
    {
     "name": "stdout",
     "output_type": "stream",
     "text": [
      "3\n"
     ]
    }
   ],
   "source": [
    "r1 = list(range(0,2))\n",
    "a = N_two_or_more.loc[N_two_or_more['player_dismissed'].isin(r1)]\n",
    "A = a.groupby('match_id').size().count()\n",
    "print(A)"
   ]
  },
  {
   "cell_type": "code",
   "execution_count": 11,
   "metadata": {},
   "outputs": [
    {
     "name": "stdout",
     "output_type": "stream",
     "text": [
      "3\n"
     ]
    }
   ],
   "source": [
    "b = N_two_or_more.loc[N_two_or_more['player_dismissed'] == 2]\n",
    "B = b.groupby('match_id').size().count()\n",
    "print(B)"
   ]
  },
  {
   "cell_type": "code",
   "execution_count": 12,
   "metadata": {},
   "outputs": [
    {
     "name": "stdout",
     "output_type": "stream",
     "text": [
      "16\n"
     ]
    }
   ],
   "source": [
    "r2 = list(range(3,5))\n",
    "c = N_two_or_more.loc[N_two_or_more['player_dismissed'].isin(r2)]\n",
    "C = c.groupby('match_id').size().count()\n",
    "print(C)"
   ]
  },
  {
   "cell_type": "code",
   "execution_count": 13,
   "metadata": {},
   "outputs": [
    {
     "name": "stdout",
     "output_type": "stream",
     "text": [
      "3\n"
     ]
    }
   ],
   "source": [
    "maxm = N_two_or_more['player_dismissed'].max()\n",
    "r3 = list(range(5,maxm+1))\n",
    "d = N_two_or_more.loc[N_two_or_more['player_dismissed'].isin(r3)]\n",
    "D = d.groupby('match_id').size().count()\n",
    "print(D)"
   ]
  },
  {
   "cell_type": "code",
   "execution_count": 14,
   "metadata": {},
   "outputs": [
    {
     "name": "stdout",
     "output_type": "stream",
     "text": [
      "3.08\n"
     ]
    }
   ],
   "source": [
    "average = N_two_or_more['player_dismissed'].mean()\n",
    "print(average)"
   ]
  },
  {
   "cell_type": "code",
   "execution_count": null,
   "metadata": {},
   "outputs": [],
   "source": []
  }
 ],
 "metadata": {
  "kernelspec": {
   "display_name": "Python 3",
   "language": "python",
   "name": "python3"
  },
  "language_info": {
   "codemirror_mode": {
    "name": "ipython",
    "version": 3
   },
   "file_extension": ".py",
   "mimetype": "text/x-python",
   "name": "python",
   "nbconvert_exporter": "python",
   "pygments_lexer": "ipython3",
   "version": "3.7.0"
  }
 },
 "nbformat": 4,
 "nbformat_minor": 4
}
