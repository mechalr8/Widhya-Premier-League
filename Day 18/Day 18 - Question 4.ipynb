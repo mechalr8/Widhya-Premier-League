{
 "cells": [
  {
   "cell_type": "code",
   "execution_count": 1,
   "metadata": {},
   "outputs": [],
   "source": [
    "from pandas import *\n",
    "df = read_csv(r'C:\\Users\\harsi\\OneDrive\\Desktop\\WPL Datasets\\deliveries.csv')"
   ]
  },
  {
   "cell_type": "code",
   "execution_count": 27,
   "metadata": {},
   "outputs": [
    {
     "name": "stdout",
     "output_type": "stream",
     "text": [
      "          strike_rate\n",
      "match_id             \n",
      "12                  3\n",
      "37                  4\n",
      "63                  4\n",
      "90                  2\n",
      "143                 2\n",
      "153                 2\n",
      "188                 2\n",
      "226                 3\n",
      "231                 3\n",
      "242                 1\n",
      "306                 3\n",
      "360                 1\n",
      "367                 3\n",
      "383                 3\n",
      "417                 4\n",
      "462                 1\n",
      "484                 5\n",
      "534                 6\n",
      "562                 3\n",
      "590                 8\n",
      "617                 4\n",
      "7907                3\n",
      "7924                3\n",
      "11143               6\n",
      "11322               6\n"
     ]
    }
   ],
   "source": [
    "team = ['Mumbai Indians', 'Royal Challengers Bangalore']\n",
    "MIvsRCB = df.loc[df['batting_team'].isin(team) & df['bowling_team'].isin(team)]\n",
    "runs = MIvsRCB.groupby(['match_id', 'batsman']).agg({'total_runs':['sum']})\n",
    "runs.columns = ['runs']\n",
    "balls = MIvsRCB.loc[(MIvsRCB['wide_runs'] == 0)]\n",
    "balls = balls[['match_id', 'batsman', 'ball']]\n",
    "N_balls = balls.groupby(['match_id', 'batsman']).count()\n",
    "N_balls = N_balls.loc[N_balls['ball'] > 10]\n",
    "boundaries = MIvsRCB.loc[MIvsRCB['batsman_runs'].isin([4,6])]\n",
    "boundaries = boundaries[['match_id', 'batsman', 'batsman_runs']]\n",
    "N_boundaries = boundaries.groupby(['match_id', 'batsman']).count()\n",
    "N_boundaries.columns = ['boundaries']\n",
    "N_boundaries = N_boundaries.loc[N_boundaries['boundaries'] > 3]\n",
    "result = concat([runs, N_balls, N_boundaries], axis = 1, join = 'inner')\n",
    "result['strike_rate'] = result['runs']*100/result['ball']\n",
    "result = result.loc[result['strike_rate'] > 130]\n",
    "N_result = result.groupby('match_id').count()\n",
    "N_result = N_result[['strike_rate']]\n",
    "print(N_result)"
   ]
  },
  {
   "cell_type": "code",
   "execution_count": 28,
   "metadata": {},
   "outputs": [
    {
     "name": "stdout",
     "output_type": "stream",
     "text": [
      "7\n"
     ]
    }
   ],
   "source": [
    "r1 = list(range(0,3))\n",
    "a = N_result.loc[N_result['strike_rate'].isin(r1)]\n",
    "A = a.groupby('match_id').size().count()\n",
    "print(A)"
   ]
  },
  {
   "cell_type": "code",
   "execution_count": 29,
   "metadata": {},
   "outputs": [
    {
     "name": "stdout",
     "output_type": "stream",
     "text": [
      "14\n"
     ]
    }
   ],
   "source": [
    "r2 = list(range(3,6))\n",
    "b = N_result.loc[N_result['strike_rate'].isin(r2)]\n",
    "B = b.groupby('match_id').size().count()\n",
    "print(B)"
   ]
  },
  {
   "cell_type": "code",
   "execution_count": 30,
   "metadata": {},
   "outputs": [
    {
     "name": "stdout",
     "output_type": "stream",
     "text": [
      "4\n"
     ]
    }
   ],
   "source": [
    "r3 = list(range(6,9))\n",
    "c = N_result.loc[N_result['strike_rate'].isin(r3)]\n",
    "C = c.groupby('match_id').size().count()\n",
    "print(C)"
   ]
  },
  {
   "cell_type": "code",
   "execution_count": 31,
   "metadata": {},
   "outputs": [
    {
     "name": "stdout",
     "output_type": "stream",
     "text": [
      "0\n"
     ]
    }
   ],
   "source": [
    "maxm = N_result['strike_rate'].max()\n",
    "r4 = list(range(9,maxm+1))\n",
    "d = N_result.loc[N_result['strike_rate'].isin(r4)]\n",
    "D = d.groupby('match_id').size().count()\n",
    "print(D)"
   ]
  },
  {
   "cell_type": "code",
   "execution_count": 33,
   "metadata": {},
   "outputs": [
    {
     "name": "stdout",
     "output_type": "stream",
     "text": [
      "3.4\n"
     ]
    }
   ],
   "source": [
    "average = N_result['strike_rate'].mean()\n",
    "print(average)"
   ]
  },
  {
   "cell_type": "code",
   "execution_count": null,
   "metadata": {},
   "outputs": [],
   "source": []
  }
 ],
 "metadata": {
  "kernelspec": {
   "display_name": "Python 3",
   "language": "python",
   "name": "python3"
  },
  "language_info": {
   "codemirror_mode": {
    "name": "ipython",
    "version": 3
   },
   "file_extension": ".py",
   "mimetype": "text/x-python",
   "name": "python",
   "nbconvert_exporter": "python",
   "pygments_lexer": "ipython3",
   "version": "3.7.0"
  }
 },
 "nbformat": 4,
 "nbformat_minor": 4
}
