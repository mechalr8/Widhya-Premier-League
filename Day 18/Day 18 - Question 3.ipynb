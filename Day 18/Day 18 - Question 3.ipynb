{
 "cells": [
  {
   "cell_type": "markdown",
   "metadata": {},
   "source": [
    "from pandas import *\n",
    "df = read_csv(r'C:\\Users\\harsi\\OneDrive\\Desktop\\WPL Datasets\\deliveries.csv')"
   ]
  },
  {
   "cell_type": "code",
   "execution_count": 38,
   "metadata": {},
   "outputs": [
    {
     "name": "stdout",
     "output_type": "stream",
     "text": [
      "          economy\n",
      "match_id         \n",
      "12              7\n",
      "37              3\n",
      "63              6\n",
      "90              6\n",
      "143             6\n",
      "153             7\n",
      "188             5\n",
      "226             6\n",
      "231             4\n",
      "242             6\n",
      "306             5\n",
      "360             6\n",
      "367             6\n",
      "383             6\n",
      "417             3\n",
      "462             6\n",
      "484             2\n",
      "534             2\n",
      "562             2\n",
      "590             3\n",
      "617             6\n",
      "7907            3\n",
      "7924            4\n",
      "11143           4\n",
      "11322           5\n"
     ]
    }
   ],
   "source": [
    "team = ['Mumbai Indians', 'Royal Challengers Bangalore']\n",
    "MIvsRCB = df.loc[df['batting_team'].isin(team) & df['bowling_team'].isin(team)]\n",
    "runs = MIvsRCB.groupby(['match_id', 'bowler']).agg({'total_runs':['sum']})\n",
    "runs.columns = ['runs']\n",
    "balls = MIvsRCB.loc[(MIvsRCB['noball_runs'] == 0) & (MIvsRCB['wide_runs'] == 0)]\n",
    "balls = balls[['match_id', 'bowler', 'ball']]\n",
    "N_balls = balls.groupby(['match_id', 'bowler']).count()\n",
    "N_balls = N_balls.loc[N_balls['ball'] > 6]\n",
    "result = concat([runs, N_balls], axis = 1, join = 'inner')\n",
    "result['economy'] = result['runs']/(result['ball']/6)\n",
    "result = result.loc[result['economy'] < 8]\n",
    "N_less_than_8 = result.groupby('match_id').count()\n",
    "N_less_than_8 = N_less_than_8[['economy']]\n",
    "print(N_less_than_8)"
   ]
  },
  {
   "cell_type": "code",
   "execution_count": 39,
   "metadata": {},
   "outputs": [
    {
     "name": "stdout",
     "output_type": "stream",
     "text": [
      "3\n"
     ]
    }
   ],
   "source": [
    "r1 = list(range(0,3))\n",
    "a = N_less_than_8.loc[N_less_than_8['economy'].isin(r1)]\n",
    "A = a.groupby('match_id').size().count()\n",
    "print(A)"
   ]
  },
  {
   "cell_type": "code",
   "execution_count": 40,
   "metadata": {},
   "outputs": [
    {
     "name": "stdout",
     "output_type": "stream",
     "text": [
      "7\n"
     ]
    }
   ],
   "source": [
    "r2 = list(range(3,5))\n",
    "b = N_less_than_8.loc[N_less_than_8['economy'].isin(r2)]\n",
    "B = b.groupby('match_id').size().count()\n",
    "print(B)"
   ]
  },
  {
   "cell_type": "code",
   "execution_count": 41,
   "metadata": {},
   "outputs": [
    {
     "name": "stdout",
     "output_type": "stream",
     "text": [
      "15\n"
     ]
    }
   ],
   "source": [
    "r3 = list(range(5,8))\n",
    "c = N_less_than_8.loc[N_less_than_8['economy'].isin(r3)]\n",
    "C = c.groupby('match_id').size().count()\n",
    "print(C)"
   ]
  },
  {
   "cell_type": "code",
   "execution_count": 42,
   "metadata": {},
   "outputs": [
    {
     "name": "stdout",
     "output_type": "stream",
     "text": [
      "0\n"
     ]
    }
   ],
   "source": [
    "maxm = N_less_than_8['economy'].max()\n",
    "r4 = list(range(8,maxm+1))\n",
    "d = N_less_than_8.loc[N_less_than_8['economy'].isin(r4)]\n",
    "D = d.groupby('match_id').size().count()\n",
    "print(D)"
   ]
  },
  {
   "cell_type": "code",
   "execution_count": 43,
   "metadata": {},
   "outputs": [
    {
     "name": "stdout",
     "output_type": "stream",
     "text": [
      "4.76\n"
     ]
    }
   ],
   "source": [
    "average = N_less_than_8['economy'].mean()\n",
    "print(average)"
   ]
  },
  {
   "cell_type": "code",
   "execution_count": null,
   "metadata": {},
   "outputs": [],
   "source": []
  }
 ],
 "metadata": {
  "kernelspec": {
   "display_name": "Python 3",
   "language": "python",
   "name": "python3"
  },
  "language_info": {
   "codemirror_mode": {
    "name": "ipython",
    "version": 3
   },
   "file_extension": ".py",
   "mimetype": "text/x-python",
   "name": "python",
   "nbconvert_exporter": "python",
   "pygments_lexer": "ipython3",
   "version": "3.7.0"
  }
 },
 "nbformat": 4,
 "nbformat_minor": 4
}
