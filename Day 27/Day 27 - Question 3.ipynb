{
 "cells": [
  {
   "cell_type": "code",
   "execution_count": 1,
   "metadata": {},
   "outputs": [],
   "source": [
    "from pandas import *\n",
    "df = read_csv(r'C:\\Users\\harsi\\OneDrive\\Desktop\\WPL Datasets\\deliveries.csv')"
   ]
  },
  {
   "cell_type": "code",
   "execution_count": 4,
   "metadata": {},
   "outputs": [
    {
     "name": "stdout",
     "output_type": "stream",
     "text": [
      "          runs  ball  fours  boundaries  SR\n",
      "match_id                                   \n",
      "1            5     5      5           5   5\n",
      "432          3     3      3           3   3\n",
      "481          2     2      2           2   2\n",
      "503          1     1      1           1   1\n",
      "525          4     4      4           4   4\n",
      "568          3     3      3           3   3\n",
      "580          5     5      5           5   5\n",
      "603          5     5      5           5   5\n",
      "636          5     5      5           5   5\n",
      "7932         2     2      2           2   2\n",
      "7944         5     5      5           5   5\n",
      "11147        2     2      2           2   2\n",
      "11345        5     5      5           5   5\n"
     ]
    }
   ],
   "source": [
    "team = ['Sunrisers Hyderabad', 'Royal Challengers Bangalore']\n",
    "SRHvsRCB = df.loc[(df['batting_team'].isin(team)) & (df['bowling_team'].isin(team))]\n",
    "runs = SRHvsRCB.groupby(['match_id', 'batsman']).agg({'batsman_runs':['sum']})\n",
    "runs.columns = ['runs']\n",
    "boundary = SRHvsRCB.loc[(SRHvsRCB['batsman_runs'].isin([4,6]))]\n",
    "N_boundary = boundary.groupby(['match_id', 'batsman']).count()\n",
    "N_boundary = N_boundary.rename(columns = {'batsman_runs':'boundaries'})\n",
    "N_boundary = N_boundary[['boundaries']]\n",
    "balls = SRHvsRCB.loc[(SRHvsRCB['wide_runs'] == 0) & (SRHvsRCB['noball_runs'] == 0)]\n",
    "N_balls = balls.groupby(['match_id', 'batsman']).count()\n",
    "N_balls = N_balls[['ball']]\n",
    "fours = SRHvsRCB.loc[(SRHvsRCB['batsman_runs'] == 4)]\n",
    "N_fours = fours.groupby(['match_id', 'batsman']).count()\n",
    "N_fours = N_fours.rename(columns = {'batsman_runs':'fours'})\n",
    "N_fours = N_fours[['fours']]\n",
    "result = concat([runs, N_balls, N_fours, N_boundary], axis = 1).fillna(0)\n",
    "result['SR'] = (result['runs']*100)/result['ball']\n",
    "result = result.loc[(result['ball'] > 10) & (result['SR'] > 130) & (result['boundaries'] > 3) & (result['fours'] >= 2)]\n",
    "result = result.groupby('match_id').count()\n",
    "print(result)"
   ]
  },
  {
   "cell_type": "code",
   "execution_count": 5,
   "metadata": {},
   "outputs": [],
   "source": [
    "def times(r):\n",
    "    a = result.loc[result['runs'].isin(r)]\n",
    "    A = a.groupby('match_id').size().count()\n",
    "    return A"
   ]
  },
  {
   "cell_type": "code",
   "execution_count": 6,
   "metadata": {},
   "outputs": [
    {
     "data": {
      "text/plain": [
       "4"
      ]
     },
     "execution_count": 6,
     "metadata": {},
     "output_type": "execute_result"
    }
   ],
   "source": [
    "r = list(range(0,3))\n",
    "times(r)"
   ]
  },
  {
   "cell_type": "code",
   "execution_count": 7,
   "metadata": {},
   "outputs": [
    {
     "data": {
      "text/plain": [
       "3"
      ]
     },
     "execution_count": 7,
     "metadata": {},
     "output_type": "execute_result"
    }
   ],
   "source": [
    "r = list(range(3,5))\n",
    "times(r)"
   ]
  },
  {
   "cell_type": "code",
   "execution_count": 8,
   "metadata": {},
   "outputs": [
    {
     "data": {
      "text/plain": [
       "6"
      ]
     },
     "execution_count": 8,
     "metadata": {},
     "output_type": "execute_result"
    }
   ],
   "source": [
    "r = list(range(5,7))\n",
    "times(r)"
   ]
  },
  {
   "cell_type": "code",
   "execution_count": 9,
   "metadata": {},
   "outputs": [
    {
     "data": {
      "text/plain": [
       "0"
      ]
     },
     "execution_count": 9,
     "metadata": {},
     "output_type": "execute_result"
    }
   ],
   "source": [
    "maxm = result['runs'].max()\n",
    "r = list(range(7,maxm+1))\n",
    "times(r)"
   ]
  },
  {
   "cell_type": "code",
   "execution_count": null,
   "metadata": {},
   "outputs": [],
   "source": []
  }
 ],
 "metadata": {
  "kernelspec": {
   "display_name": "Python 3",
   "language": "python",
   "name": "python3"
  },
  "language_info": {
   "codemirror_mode": {
    "name": "ipython",
    "version": 3
   },
   "file_extension": ".py",
   "mimetype": "text/x-python",
   "name": "python",
   "nbconvert_exporter": "python",
   "pygments_lexer": "ipython3",
   "version": "3.7.0"
  }
 },
 "nbformat": 4,
 "nbformat_minor": 4
}
