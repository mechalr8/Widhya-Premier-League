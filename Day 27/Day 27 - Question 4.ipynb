{
 "cells": [
  {
   "cell_type": "code",
   "execution_count": 2,
   "metadata": {},
   "outputs": [],
   "source": [
    "from pandas import *\n",
    "df = read_csv(r'C:\\Users\\harsi\\OneDrive\\Desktop\\WPL Datasets\\deliveries.csv')"
   ]
  },
  {
   "cell_type": "code",
   "execution_count": 3,
   "metadata": {},
   "outputs": [],
   "source": [
    "def ratio(player):\n",
    "    batsman = df.loc[(df['batsman'] == player)]\n",
    "    balls = batsman.loc[(batsman['wide_runs'] == 0) & (batsman['noball_runs'] == 0)]\n",
    "    N_balls = balls.groupby('match_id').count()\n",
    "    N_balls = N_balls[['ball']]\n",
    "    N_balls = N_balls.rename(columns = {'ball':'balls_faced'})\n",
    "    runs = batsman.groupby('match_id').agg({'batsman_runs':['sum']})\n",
    "    runs.columns = ['runs']\n",
    "    boundary = batsman.loc[batsman['batsman_runs'].isin([4,6])]\n",
    "    boundary_runs = boundary.groupby('match_id').agg({'batsman_runs':['sum']})\n",
    "    boundary_runs.columns = ['boundary_runs']\n",
    "    single = batsman.loc[batsman['batsman_runs'].isin([1,2,3])]\n",
    "    single_runs = single.groupby('match_id').agg({'batsman_runs':['sum']})\n",
    "    single_runs.columns = ['single_runs']\n",
    "    result = concat([runs, boundary_runs, single_runs, N_balls], axis = 1).fillna(0)\n",
    "    result = result.loc[result['balls_faced'] > 10]\n",
    "    result['ratio'] = (result['boundary_runs'] - result['single_runs'])/result['runs']\n",
    "    result = result['ratio'].max()\n",
    "    return result"
   ]
  },
  {
   "cell_type": "code",
   "execution_count": 1,
   "metadata": {},
   "outputs": [
    {
     "ename": "NameError",
     "evalue": "name 'ratio' is not defined",
     "output_type": "error",
     "traceback": [
      "\u001b[1;31m---------------------------------------------------------------------------\u001b[0m",
      "\u001b[1;31mNameError\u001b[0m                                 Traceback (most recent call last)",
      "\u001b[1;32m<ipython-input-1-d9d746991786>\u001b[0m in \u001b[0;36m<module>\u001b[1;34m\u001b[0m\n\u001b[0;32m      3\u001b[0m          'DA Warner', 'KS Williamson', 'WP Saha', 'MK Pandey', 'JO Holder', 'Rashid Khan', 'T Natarajan', 'SP Goswami', 'Sandeep Sharma', 'S Nadeem']\n\u001b[0;32m      4\u001b[0m \u001b[1;32mfor\u001b[0m \u001b[0mi\u001b[0m \u001b[1;32min\u001b[0m \u001b[0mplayer\u001b[0m\u001b[1;33m:\u001b[0m\u001b[1;33m\u001b[0m\u001b[0m\n\u001b[1;32m----> 5\u001b[1;33m     \u001b[0mdata\u001b[0m\u001b[1;33m.\u001b[0m\u001b[0mappend\u001b[0m\u001b[1;33m(\u001b[0m\u001b[1;33m[\u001b[0m\u001b[0mi\u001b[0m\u001b[1;33m,\u001b[0m \u001b[0mratio\u001b[0m\u001b[1;33m(\u001b[0m\u001b[0mi\u001b[0m\u001b[1;33m)\u001b[0m\u001b[1;33m]\u001b[0m\u001b[1;33m)\u001b[0m\u001b[1;33m\u001b[0m\u001b[0m\n\u001b[0m\u001b[0;32m      6\u001b[0m \u001b[0mbatsman_ratio\u001b[0m \u001b[1;33m=\u001b[0m \u001b[0mDataFrame\u001b[0m\u001b[1;33m(\u001b[0m\u001b[0mdata\u001b[0m\u001b[1;33m,\u001b[0m \u001b[0mcolumns\u001b[0m \u001b[1;33m=\u001b[0m \u001b[1;33m[\u001b[0m\u001b[1;34m'Batsman'\u001b[0m\u001b[1;33m,\u001b[0m \u001b[1;34m'ratio'\u001b[0m\u001b[1;33m]\u001b[0m\u001b[1;33m)\u001b[0m\u001b[1;33m\u001b[0m\u001b[0m\n\u001b[0;32m      7\u001b[0m \u001b[0mbatsman_ratio\u001b[0m \u001b[1;33m=\u001b[0m \u001b[0mbatsman_ratio\u001b[0m\u001b[1;33m.\u001b[0m\u001b[0msort_values\u001b[0m\u001b[1;33m(\u001b[0m\u001b[1;33m[\u001b[0m\u001b[1;34m'ratio'\u001b[0m\u001b[1;33m]\u001b[0m\u001b[1;33m,\u001b[0m \u001b[0mascending\u001b[0m \u001b[1;33m=\u001b[0m \u001b[1;32mFalse\u001b[0m\u001b[1;33m)\u001b[0m\u001b[1;33m\u001b[0m\u001b[0m\n",
      "\u001b[1;31mNameError\u001b[0m: name 'ratio' is not defined"
     ]
    }
   ],
   "source": [
    "data = []\n",
    "player = ['AJ Finch', 'V Kohli', 'AB de Villiers', 'S Dube', 'M Ali', 'A Zampa', 'Washington Sundar', 'YS Chahal', 'Mohammed Siraj', 'N Saini',\n",
    "         'DA Warner', 'KS Williamson', 'WP Saha', 'MK Pandey', 'JO Holder', 'Rashid Khan', 'T Natarajan', 'SP Goswami', 'Sandeep Sharma', 'S Nadeem']\n",
    "for i in player:\n",
    "    data.append([i, ratio(i)])\n",
    "batsman_ratio = DataFrame(data, columns = ['Batsman', 'ratio'])\n",
    "batsman_ratio = batsman_ratio.sort_values(['ratio'], ascending = False)\n",
    "print(batsman_ratio)"
   ]
  },
  {
   "cell_type": "code",
   "execution_count": null,
   "metadata": {},
   "outputs": [],
   "source": []
  }
 ],
 "metadata": {
  "kernelspec": {
   "display_name": "Python 3",
   "language": "python",
   "name": "python3"
  },
  "language_info": {
   "codemirror_mode": {
    "name": "ipython",
    "version": 3
   },
   "file_extension": ".py",
   "mimetype": "text/x-python",
   "name": "python",
   "nbconvert_exporter": "python",
   "pygments_lexer": "ipython3",
   "version": "3.7.0"
  }
 },
 "nbformat": 4,
 "nbformat_minor": 4
}
