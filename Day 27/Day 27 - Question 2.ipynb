{
 "cells": [
  {
   "cell_type": "code",
   "execution_count": 35,
   "metadata": {},
   "outputs": [],
   "source": [
    "from pandas import *\n",
    "df = read_csv(r'C:\\Users\\harsi\\OneDrive\\Desktop\\WPL Datasets\\deliveries.csv')"
   ]
  },
  {
   "cell_type": "code",
   "execution_count": 30,
   "metadata": {},
   "outputs": [
    {
     "name": "stdout",
     "output_type": "stream",
     "text": [
      "          runs  ball  boundary  Economy\n",
      "match_id                               \n",
      "4           33    24         5     8.25\n",
      "8           25    24         4     6.25\n",
      "11          27    18         5     9.00\n",
      "15          41    24         8    10.25\n",
      "19          35    24         4     8.75\n",
      "...        ...   ...       ...      ...\n",
      "7939        36    24         4     9.00\n",
      "7944        40    24         6    10.00\n",
      "7947        30    12         5    15.00\n",
      "7950        30    18         5    10.00\n",
      "7953        53    24         9    13.25\n",
      "\n",
      "[68 rows x 4 columns]\n"
     ]
    }
   ],
   "source": [
    "bowler = df.loc[(df['bowler'] == 'Sandeep Sharma')]\n",
    "runs = bowler.groupby('match_id').agg({'batsman_runs':['sum']})\n",
    "runs.columns = ['runs']\n",
    "balls = bowler.loc[(bowler['wide_runs'] == 0) & (bowler['noball_runs'] == 0)]\n",
    "N_balls = balls.groupby('match_id').count()\n",
    "N_balls = N_balls[['ball']]\n",
    "boundary = bowler.loc[bowler['batsman_runs'].isin([4,6])]\n",
    "N_boundary = boundary.groupby('match_id').count()\n",
    "N_boundary = N_boundary.rename(columns = {'batsman_runs':'boundary'})\n",
    "N_boundary = N_boundary[['boundary']]\n",
    "result = concat([runs, N_balls, N_boundary], axis = 1).fillna(0)\n",
    "result['Economy'] = (result['runs']/(result['ball']/6))\n",
    "print(result)"
   ]
  },
  {
   "cell_type": "code",
   "execution_count": 31,
   "metadata": {},
   "outputs": [
    {
     "name": "stdout",
     "output_type": "stream",
     "text": [
      "33\n"
     ]
    }
   ],
   "source": [
    "option1 = result.loc[(result['Economy'] <= 7.5) & (result['boundary'] <= 4)]\n",
    "N_option1 = option1.groupby('match_id').size().count()\n",
    "print(N_option1)"
   ]
  },
  {
   "cell_type": "code",
   "execution_count": 32,
   "metadata": {},
   "outputs": [
    {
     "name": "stdout",
     "output_type": "stream",
     "text": [
      "0\n"
     ]
    }
   ],
   "source": [
    "option2 = result.loc[(result['Economy'] <= 7.5) & (result['boundary'] > 4)]\n",
    "N_option2 = option2.groupby('match_id').size().count()\n",
    "print(N_option2)"
   ]
  },
  {
   "cell_type": "code",
   "execution_count": 33,
   "metadata": {},
   "outputs": [
    {
     "name": "stdout",
     "output_type": "stream",
     "text": [
      "10\n"
     ]
    }
   ],
   "source": [
    "option3 = result.loc[(result['Economy'] > 7.5) & (result['boundary'] <= 4)]\n",
    "N_option3 = option3.groupby('match_id').size().count()\n",
    "print(N_option3)"
   ]
  },
  {
   "cell_type": "code",
   "execution_count": 34,
   "metadata": {},
   "outputs": [
    {
     "name": "stdout",
     "output_type": "stream",
     "text": [
      "25\n"
     ]
    }
   ],
   "source": [
    "option3 = result.loc[(result['Economy'] > 7.5) & (result['boundary'] > 4)]\n",
    "N_option3 = option3.groupby('match_id').size().count()\n",
    "print(N_option3)"
   ]
  },
  {
   "cell_type": "code",
   "execution_count": null,
   "metadata": {},
   "outputs": [],
   "source": []
  }
 ],
 "metadata": {
  "kernelspec": {
   "display_name": "Python 3",
   "language": "python",
   "name": "python3"
  },
  "language_info": {
   "codemirror_mode": {
    "name": "ipython",
    "version": 3
   },
   "file_extension": ".py",
   "mimetype": "text/x-python",
   "name": "python",
   "nbconvert_exporter": "python",
   "pygments_lexer": "ipython3",
   "version": "3.7.0"
  }
 },
 "nbformat": 4,
 "nbformat_minor": 4
}
