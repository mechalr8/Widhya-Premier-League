{
 "cells": [
  {
   "cell_type": "code",
   "execution_count": 2,
   "metadata": {},
   "outputs": [],
   "source": [
    "from pandas import *\n",
    "df = read_csv(r'C:\\Users\\harsi\\OneDrive\\Desktop\\WPL Datasets\\deliveries.csv')"
   ]
  },
  {
   "cell_type": "code",
   "execution_count": 3,
   "metadata": {},
   "outputs": [],
   "source": [
    "def ratio(player):\n",
    "    batsman = df.loc[(df['batsman'] == player)]\n",
    "    balls = batsman.loc[(batsman['wide_runs'] == 0) & (batsman['noball_runs'] == 0)]\n",
    "    N_balls = balls.groupby('match_id').count()\n",
    "    N_balls = N_balls[['ball']]\n",
    "    N_balls = N_balls.rename(columns = {'ball':'balls_faced'})\n",
    "    runs = batsman.groupby('match_id').agg({'batsman_runs':['sum']})\n",
    "    runs.columns = ['runs']\n",
    "    boundary = batsman.loc[batsman['batsman_runs'].isin([4,6])]\n",
    "    boundary_runs = boundary.groupby('match_id').agg({'batsman_runs':['sum']})\n",
    "    boundary_runs.columns = ['boundary_runs']\n",
    "    single = batsman.loc[batsman['batsman_runs'].isin([1,2,3])]\n",
    "    single_runs = single.groupby('match_id').agg({'batsman_runs':['sum']})\n",
    "    single_runs.columns = ['single_runs']\n",
    "    result = concat([runs, boundary_runs, single_runs, N_balls], axis = 1).fillna(0)\n",
    "    result = result.loc[result['balls_faced'] > 10]\n",
    "    result['ratio'] = (result['boundary_runs'] - result['single_runs'])/result['runs']\n",
    "    result = result['ratio'].max()\n",
    "    return result"
   ]
  },
  {
   "cell_type": "code",
   "execution_count": 4,
   "metadata": {},
   "outputs": [
    {
     "name": "stdout",
     "output_type": "stream",
     "text": [
      "              Batsman     ratio\n",
      "12            WP Saha  0.925926\n",
      "2      AB de Villiers  0.904762\n",
      "13          MK Pandey  0.846154\n",
      "1             V Kohli  0.833333\n",
      "0            AJ Finch  0.818182\n",
      "14          JO Holder  0.750000\n",
      "10          DA Warner  0.714286\n",
      "4               M Ali  0.647059\n",
      "17         SP Goswami  0.454545\n",
      "11      KS Williamson  0.414634\n",
      "9             N Saini  0.333333\n",
      "6   Washington Sundar  0.189189\n",
      "8      Mohammed Siraj  0.066667\n",
      "3              S Dube  0.000000\n",
      "7           YS Chahal -1.000000\n",
      "5             A Zampa       NaN\n",
      "15        Rashid Khan       NaN\n",
      "16        T Natarajan       NaN\n",
      "18     Sandeep Sharma       NaN\n",
      "19           S Nadeem       NaN\n"
     ]
    }
   ],
   "source": [
    "data = []\n",
    "player = ['S Dhawan', 'P Shaw', 'SS Iyer', 'RR Pant', 'MP Stoinis', 'S Hetmyer', 'HV Patel', 'K Rabada',\n",
    "         'DA Warner', 'KS Williamson', 'WP Saha', 'MK Pandey', 'JO Holder', 'Rashid Khan', 'T Natarajan', 'SP Goswami', 'Sandeep Sharma', 'S Nadeem']\n",
    "for i in player:\n",
    "    data.append([i, ratio(i)])\n",
    "batsman_ratio = DataFrame(data, columns = ['Batsman', 'ratio'])\n",
    "batsman_ratio = batsman_ratio.sort_values(['ratio'], ascending = False)\n",
    "print(batsman_ratio)"
   ]
  },
  {
   "cell_type": "code",
   "execution_count": null,
   "metadata": {},
   "outputs": [],
   "source": []
  }
 ],
 "metadata": {
  "kernelspec": {
   "display_name": "Python 3",
   "language": "python",
   "name": "python3"
  },
  "language_info": {
   "codemirror_mode": {
    "name": "ipython",
    "version": 3
   },
   "file_extension": ".py",
   "mimetype": "text/x-python",
   "name": "python",
   "nbconvert_exporter": "python",
   "pygments_lexer": "ipython3",
   "version": "3.7.0"
  }
 },
 "nbformat": 4,
 "nbformat_minor": 4
}
