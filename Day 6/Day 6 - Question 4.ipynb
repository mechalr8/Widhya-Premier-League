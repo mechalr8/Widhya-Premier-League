{
 "cells": [
  {
   "cell_type": "code",
   "execution_count": 1,
   "metadata": {},
   "outputs": [],
   "source": [
    "from pandas import *"
   ]
  },
  {
   "cell_type": "code",
   "execution_count": 2,
   "metadata": {
    "scrolled": true
   },
   "outputs": [
    {
     "name": "stdout",
     "output_type": "stream",
     "text": [
      "        match_id  inning         batting_team                 bowling_team  \\\n",
      "0              1       1  Sunrisers Hyderabad  Royal Challengers Bangalore   \n",
      "1              1       1  Sunrisers Hyderabad  Royal Challengers Bangalore   \n",
      "2              1       1  Sunrisers Hyderabad  Royal Challengers Bangalore   \n",
      "3              1       1  Sunrisers Hyderabad  Royal Challengers Bangalore   \n",
      "4              1       1  Sunrisers Hyderabad  Royal Challengers Bangalore   \n",
      "...          ...     ...                  ...                          ...   \n",
      "179073     11415       2  Chennai Super Kings               Mumbai Indians   \n",
      "179074     11415       2  Chennai Super Kings               Mumbai Indians   \n",
      "179075     11415       2  Chennai Super Kings               Mumbai Indians   \n",
      "179076     11415       2  Chennai Super Kings               Mumbai Indians   \n",
      "179077     11415       2  Chennai Super Kings               Mumbai Indians   \n",
      "\n",
      "        over  ball    batsman non_striker      bowler  is_super_over  ...  \\\n",
      "0          1     1  DA Warner    S Dhawan    TS Mills              0  ...   \n",
      "1          1     2  DA Warner    S Dhawan    TS Mills              0  ...   \n",
      "2          1     3  DA Warner    S Dhawan    TS Mills              0  ...   \n",
      "3          1     4  DA Warner    S Dhawan    TS Mills              0  ...   \n",
      "4          1     5  DA Warner    S Dhawan    TS Mills              0  ...   \n",
      "...      ...   ...        ...         ...         ...            ...  ...   \n",
      "179073    20     2  RA Jadeja   SR Watson  SL Malinga              0  ...   \n",
      "179074    20     3  SR Watson   RA Jadeja  SL Malinga              0  ...   \n",
      "179075    20     4  SR Watson   RA Jadeja  SL Malinga              0  ...   \n",
      "179076    20     5  SN Thakur   RA Jadeja  SL Malinga              0  ...   \n",
      "179077    20     6  SN Thakur   RA Jadeja  SL Malinga              0  ...   \n",
      "\n",
      "        bye_runs  legbye_runs  noball_runs  penalty_runs  batsman_runs  \\\n",
      "0              0            0            0             0             0   \n",
      "1              0            0            0             0             0   \n",
      "2              0            0            0             0             4   \n",
      "3              0            0            0             0             0   \n",
      "4              0            0            0             0             0   \n",
      "...          ...          ...          ...           ...           ...   \n",
      "179073         0            0            0             0             1   \n",
      "179074         0            0            0             0             2   \n",
      "179075         0            0            0             0             1   \n",
      "179076         0            0            0             0             2   \n",
      "179077         0            0            0             0             0   \n",
      "\n",
      "        extra_runs  total_runs  player_dismissed dismissal_kind    fielder  \n",
      "0                0           0               NaN            NaN        NaN  \n",
      "1                0           0               NaN            NaN        NaN  \n",
      "2                0           4               NaN            NaN        NaN  \n",
      "3                0           0               NaN            NaN        NaN  \n",
      "4                2           2               NaN            NaN        NaN  \n",
      "...            ...         ...               ...            ...        ...  \n",
      "179073           0           1               NaN            NaN        NaN  \n",
      "179074           0           2               NaN            NaN        NaN  \n",
      "179075           0           1         SR Watson        run out  KH Pandya  \n",
      "179076           0           2               NaN            NaN        NaN  \n",
      "179077           0           0         SN Thakur            lbw        NaN  \n",
      "\n",
      "[179078 rows x 21 columns]\n"
     ]
    }
   ],
   "source": [
    "df = read_csv(r'C:\\Users\\Asus\\Desktop\\WPL Datasets\\deliveries.csv')\n",
    "print(df)"
   ]
  },
  {
   "cell_type": "code",
   "execution_count": 3,
   "metadata": {
    "scrolled": true
   },
   "outputs": [
    {
     "name": "stdout",
     "output_type": "stream",
     "text": [
      "        match_id  inning           batting_team           bowling_team  over  \\\n",
      "1424           7       1  Kolkata Knight Riders         Mumbai Indians     1   \n",
      "1425           7       1  Kolkata Knight Riders         Mumbai Indians     1   \n",
      "1426           7       1  Kolkata Knight Riders         Mumbai Indians     1   \n",
      "1427           7       1  Kolkata Knight Riders         Mumbai Indians     1   \n",
      "1428           7       1  Kolkata Knight Riders         Mumbai Indians     1   \n",
      "...          ...     ...                    ...                    ...   ...   \n",
      "178097     11347       2         Mumbai Indians  Kolkata Knight Riders    16   \n",
      "178098     11347       2         Mumbai Indians  Kolkata Knight Riders    16   \n",
      "178099     11347       2         Mumbai Indians  Kolkata Knight Riders    16   \n",
      "178100     11347       2         Mumbai Indians  Kolkata Knight Riders    16   \n",
      "178101     11347       2         Mumbai Indians  Kolkata Knight Riders    17   \n",
      "\n",
      "        ball    batsman non_striker      bowler  is_super_over  ...  bye_runs  \\\n",
      "1424       1  G Gambhir     CA Lynn  SL Malinga              0  ...         0   \n",
      "1425       2    CA Lynn   G Gambhir  SL Malinga              0  ...         0   \n",
      "1426       3    CA Lynn   G Gambhir  SL Malinga              0  ...         0   \n",
      "1427       4  G Gambhir     CA Lynn  SL Malinga              0  ...         0   \n",
      "1428       5  G Gambhir     CA Lynn  SL Malinga              0  ...         0   \n",
      "...      ...        ...         ...         ...            ...  ...       ...   \n",
      "178097     3  RG Sharma    AS Yadav   P Krishna              0  ...         0   \n",
      "178098     4  RG Sharma    AS Yadav   P Krishna              0  ...         0   \n",
      "178099     5  RG Sharma    AS Yadav   P Krishna              0  ...         0   \n",
      "178100     6   AS Yadav   RG Sharma   P Krishna              0  ...         0   \n",
      "178101     1   AS Yadav   RG Sharma  AD Russell              0  ...         0   \n",
      "\n",
      "        legbye_runs  noball_runs  penalty_runs  batsman_runs  extra_runs  \\\n",
      "1424              0            0             0             1           0   \n",
      "1425              0            0             0             0           1   \n",
      "1426              0            0             0             1           0   \n",
      "1427              0            0             0             0           0   \n",
      "1428              0            0             0             1           0   \n",
      "...             ...          ...           ...           ...         ...   \n",
      "178097            0            0             0             0           0   \n",
      "178098            0            0             0             4           0   \n",
      "178099            0            0             0             1           0   \n",
      "178100            0            0             0             1           0   \n",
      "178101            0            0             0             6           0   \n",
      "\n",
      "        total_runs  player_dismissed dismissal_kind fielder  \n",
      "1424             1               NaN            NaN     NaN  \n",
      "1425             1               NaN            NaN     NaN  \n",
      "1426             1               NaN            NaN     NaN  \n",
      "1427             0               NaN            NaN     NaN  \n",
      "1428             1               NaN            NaN     NaN  \n",
      "...            ...               ...            ...     ...  \n",
      "178097           0               NaN            NaN     NaN  \n",
      "178098           4               NaN            NaN     NaN  \n",
      "178099           1               NaN            NaN     NaN  \n",
      "178100           1               NaN            NaN     NaN  \n",
      "178101           6               NaN            NaN     NaN  \n",
      "\n",
      "[5903 rows x 21 columns]\n"
     ]
    }
   ],
   "source": [
    "team = ['Mumbai Indians', 'Kolkata Knight Riders']\n",
    "MIvsKKR = df.loc[df['batting_team'].isin(team) & df['bowling_team'].isin(team)]\n",
    "print(MIvsKKR)"
   ]
  },
  {
   "cell_type": "code",
   "execution_count": 4,
   "metadata": {
    "scrolled": true
   },
   "outputs": [
    {
     "name": "stdout",
     "output_type": "stream",
     "text": [
      "          total\n",
      "match_id       \n",
      "7           358\n",
      "53          337\n",
      "58          218\n",
      "75          275\n",
      "99          135\n",
      "132         282\n",
      "138         287\n",
      "191         311\n",
      "230         268\n",
      "303         353\n",
      "305         295\n",
      "363         337\n",
      "370         248\n",
      "413         321\n",
      "434         275\n",
      "458         285\n",
      "497         283\n",
      "518         338\n",
      "567         337\n",
      "581         375\n",
      "600         352\n",
      "7930        364\n",
      "7934        326\n",
      "11338       445\n",
      "11347       280\n"
     ]
    }
   ],
   "source": [
    "runs = MIvsKKR.groupby('match_id').agg({'total_runs':['sum']})\n",
    "runs.columns = ['total']\n",
    "print(runs)"
   ]
  },
  {
   "cell_type": "code",
   "execution_count": 5,
   "metadata": {
    "scrolled": true
   },
   "outputs": [
    {
     "name": "stdout",
     "output_type": "stream",
     "text": [
      "13\n"
     ]
    }
   ],
   "source": [
    "r1 = list(range(0,321))\n",
    "a = runs.loc[runs['total'].isin(r1)]\n",
    "A = a.groupby('match_id').size().count()\n",
    "print(A)"
   ]
  },
  {
   "cell_type": "code",
   "execution_count": 6,
   "metadata": {
    "scrolled": true
   },
   "outputs": [
    {
     "name": "stdout",
     "output_type": "stream",
     "text": [
      "6\n"
     ]
    }
   ],
   "source": [
    "r2 = list(range(321,341))\n",
    "b = runs.loc[runs['total'].isin(r2)]\n",
    "B = b.groupby('match_id').size().count()\n",
    "print(B)"
   ]
  },
  {
   "cell_type": "code",
   "execution_count": 7,
   "metadata": {},
   "outputs": [
    {
     "name": "stdout",
     "output_type": "stream",
     "text": [
      "3\n"
     ]
    }
   ],
   "source": [
    "r3 = list(range(341,361))\n",
    "c = runs.loc[runs['total'].isin(r3)]\n",
    "C = c.groupby('match_id').size().count()\n",
    "print(C)"
   ]
  },
  {
   "cell_type": "code",
   "execution_count": 13,
   "metadata": {},
   "outputs": [
    {
     "name": "stdout",
     "output_type": "stream",
     "text": [
      "3\n"
     ]
    }
   ],
   "source": [
    "max_value = runs['total'].max()\n",
    "r4 = list(range(361,max_value+1))\n",
    "d = runs.loc[runs['total'].isin(r4)]\n",
    "D = d.groupby('match_id').size().count()\n",
    "print(D)"
   ]
  }
 ],
 "metadata": {
  "kernelspec": {
   "display_name": "Python 3",
   "language": "python",
   "name": "python3"
  },
  "language_info": {
   "codemirror_mode": {
    "name": "ipython",
    "version": 3
   },
   "file_extension": ".py",
   "mimetype": "text/x-python",
   "name": "python",
   "nbconvert_exporter": "python",
   "pygments_lexer": "ipython3",
   "version": "3.7.4"
  }
 },
 "nbformat": 4,
 "nbformat_minor": 4
}
