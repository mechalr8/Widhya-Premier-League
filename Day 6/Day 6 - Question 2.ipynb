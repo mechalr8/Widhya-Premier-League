{
 "cells": [
  {
   "cell_type": "code",
   "execution_count": 37,
   "metadata": {},
   "outputs": [],
   "source": [
    "from pandas import *"
   ]
  },
  {
   "cell_type": "code",
   "execution_count": 38,
   "metadata": {
    "scrolled": true
   },
   "outputs": [
    {
     "name": "stdout",
     "output_type": "stream",
     "text": [
      "        match_id  inning         batting_team                 bowling_team  \\\n",
      "0              1       1  Sunrisers Hyderabad  Royal Challengers Bangalore   \n",
      "1              1       1  Sunrisers Hyderabad  Royal Challengers Bangalore   \n",
      "2              1       1  Sunrisers Hyderabad  Royal Challengers Bangalore   \n",
      "3              1       1  Sunrisers Hyderabad  Royal Challengers Bangalore   \n",
      "4              1       1  Sunrisers Hyderabad  Royal Challengers Bangalore   \n",
      "...          ...     ...                  ...                          ...   \n",
      "179073     11415       2  Chennai Super Kings               Mumbai Indians   \n",
      "179074     11415       2  Chennai Super Kings               Mumbai Indians   \n",
      "179075     11415       2  Chennai Super Kings               Mumbai Indians   \n",
      "179076     11415       2  Chennai Super Kings               Mumbai Indians   \n",
      "179077     11415       2  Chennai Super Kings               Mumbai Indians   \n",
      "\n",
      "        over  ball    batsman non_striker      bowler  is_super_over  ...  \\\n",
      "0          1     1  DA Warner    S Dhawan    TS Mills              0  ...   \n",
      "1          1     2  DA Warner    S Dhawan    TS Mills              0  ...   \n",
      "2          1     3  DA Warner    S Dhawan    TS Mills              0  ...   \n",
      "3          1     4  DA Warner    S Dhawan    TS Mills              0  ...   \n",
      "4          1     5  DA Warner    S Dhawan    TS Mills              0  ...   \n",
      "...      ...   ...        ...         ...         ...            ...  ...   \n",
      "179073    20     2  RA Jadeja   SR Watson  SL Malinga              0  ...   \n",
      "179074    20     3  SR Watson   RA Jadeja  SL Malinga              0  ...   \n",
      "179075    20     4  SR Watson   RA Jadeja  SL Malinga              0  ...   \n",
      "179076    20     5  SN Thakur   RA Jadeja  SL Malinga              0  ...   \n",
      "179077    20     6  SN Thakur   RA Jadeja  SL Malinga              0  ...   \n",
      "\n",
      "        bye_runs  legbye_runs  noball_runs  penalty_runs  batsman_runs  \\\n",
      "0              0            0            0             0             0   \n",
      "1              0            0            0             0             0   \n",
      "2              0            0            0             0             4   \n",
      "3              0            0            0             0             0   \n",
      "4              0            0            0             0             0   \n",
      "...          ...          ...          ...           ...           ...   \n",
      "179073         0            0            0             0             1   \n",
      "179074         0            0            0             0             2   \n",
      "179075         0            0            0             0             1   \n",
      "179076         0            0            0             0             2   \n",
      "179077         0            0            0             0             0   \n",
      "\n",
      "        extra_runs  total_runs  player_dismissed dismissal_kind    fielder  \n",
      "0                0           0               NaN            NaN        NaN  \n",
      "1                0           0               NaN            NaN        NaN  \n",
      "2                0           4               NaN            NaN        NaN  \n",
      "3                0           0               NaN            NaN        NaN  \n",
      "4                2           2               NaN            NaN        NaN  \n",
      "...            ...         ...               ...            ...        ...  \n",
      "179073           0           1               NaN            NaN        NaN  \n",
      "179074           0           2               NaN            NaN        NaN  \n",
      "179075           0           1         SR Watson        run out  KH Pandya  \n",
      "179076           0           2               NaN            NaN        NaN  \n",
      "179077           0           0         SN Thakur            lbw        NaN  \n",
      "\n",
      "[179078 rows x 21 columns]\n"
     ]
    }
   ],
   "source": [
    "df = read_csv(r'C:\\Users\\Asus\\Desktop\\WPL Datasets\\deliveries.csv')\n",
    "print(df)"
   ]
  },
  {
   "cell_type": "code",
   "execution_count": 39,
   "metadata": {
    "scrolled": true
   },
   "outputs": [
    {
     "name": "stdout",
     "output_type": "stream",
     "text": [
      "        match_id player_dismissed\n",
      "287            2        RG Sharma\n",
      "289            2       JC Buttler\n",
      "316            2        AT Rayudu\n",
      "330            2        KH Pandya\n",
      "1602           7         PA Patel\n",
      "...          ...              ...\n",
      "178310     11412     Ishan Kishan\n",
      "178311     11412        KH Pandya\n",
      "178901     11415         AS Yadav\n",
      "178908     11415        KH Pandya\n",
      "178921     11415     Ishan Kishan\n",
      "\n",
      "[421 rows x 2 columns]\n"
     ]
    }
   ],
   "source": [
    "overs = list(range(7,16))\n",
    "MI = df.loc[(df['batting_team'] == 'Mumbai Indians') & df['over'].isin(overs)]\n",
    "MI_Wickets = MI[['match_id', 'player_dismissed']].dropna()\n",
    "print(MI_Wickets)"
   ]
  },
  {
   "cell_type": "code",
   "execution_count": 40,
   "metadata": {
    "scrolled": false
   },
   "outputs": [
    {
     "name": "stdout",
     "output_type": "stream",
     "text": [
      "          player_dismissed\n",
      "match_id                  \n",
      "2                        4\n",
      "7                        4\n",
      "10                       2\n",
      "12                       1\n",
      "16                       2\n",
      "...                    ...\n",
      "11338                    3\n",
      "11342                    2\n",
      "11347                    1\n",
      "11412                    2\n",
      "11415                    3\n",
      "\n",
      "[174 rows x 1 columns]\n"
     ]
    }
   ],
   "source": [
    "N_Wickets = MI_Wickets.groupby('match_id').count()\n",
    "print(N_Wickets)"
   ]
  },
  {
   "cell_type": "code",
   "execution_count": 62,
   "metadata": {},
   "outputs": [
    {
     "name": "stdout",
     "output_type": "stream",
     "text": [
      "187\n"
     ]
    }
   ],
   "source": [
    "MI_matches = df.loc[(df['batting_team'] == 'Mumbai Indians')]\n",
    "N_MI = MI_matches.groupby('match_id').size().count()\n",
    "print(N_MI)"
   ]
  },
  {
   "cell_type": "code",
   "execution_count": 42,
   "metadata": {},
   "outputs": [
    {
     "name": "stdout",
     "output_type": "stream",
     "text": [
      "105\n"
     ]
    }
   ],
   "source": [
    "r1 = list(range(0,3))\n",
    "a = N_Wickets.loc[N_Wickets['player_dismissed'].isin(r1)]\n",
    "A = a.groupby('match_id').size().count()\n",
    "print(A)"
   ]
  },
  {
   "cell_type": "code",
   "execution_count": 43,
   "metadata": {},
   "outputs": [
    {
     "name": "stdout",
     "output_type": "stream",
     "text": [
      "58\n"
     ]
    }
   ],
   "source": [
    "r2 = list(range(3,5))\n",
    "b = N_Wickets.loc[N_Wickets['player_dismissed'].isin(r2)]\n",
    "B = b.groupby('match_id').size().count()\n",
    "print(B)"
   ]
  },
  {
   "cell_type": "code",
   "execution_count": 44,
   "metadata": {},
   "outputs": [
    {
     "name": "stdout",
     "output_type": "stream",
     "text": [
      "9\n"
     ]
    }
   ],
   "source": [
    "r3 = list(range(5,7))\n",
    "c = N_Wickets.loc[N_Wickets['player_dismissed'].isin(r3)]\n",
    "C = c.groupby('match_id').size().count()\n",
    "print(C)"
   ]
  },
  {
   "cell_type": "code",
   "execution_count": 45,
   "metadata": {},
   "outputs": [
    {
     "name": "stdout",
     "output_type": "stream",
     "text": [
      "2\n"
     ]
    }
   ],
   "source": [
    "max_value = N_Wickets['player_dismissed'].max()\n",
    "r4 = list(range(7,max_value+1))\n",
    "d = N_Wickets.loc[N_Wickets['player_dismissed'].isin(r4)]\n",
    "D = d.groupby('match_id').size().count()\n",
    "print(D)"
   ]
  },
  {
   "cell_type": "code",
   "execution_count": 63,
   "metadata": {
    "scrolled": true
   },
   "outputs": [
    {
     "name": "stdout",
     "output_type": "stream",
     "text": [
      "        match_id player_dismissed\n",
      "1602           7         PA Patel\n",
      "1608           7       JC Buttler\n",
      "1616           7        RG Sharma\n",
      "1630           7        KH Pandya\n",
      "12381         53        RG Sharma\n",
      "13597         58        RG Sharma\n",
      "30608        132     SR Tendulkar\n",
      "30617        132  Harbhajan Singh\n",
      "30622        132    ST Jayasuriya\n",
      "32028        138     SR Tendulkar\n",
      "32051        138         AM Nayar\n",
      "44997        191         S Dhawan\n",
      "45041        191        SS Tiwary\n",
      "54356        230        JP Duminy\n",
      "54358        230        SS Tiwary\n",
      "71407        303  Harbhajan Singh\n",
      "71421        303        RG Sharma\n",
      "71434        303     SR Tendulkar\n",
      "71902        305      AC Blizzard\n",
      "71905        305        RG Sharma\n",
      "71920        305     SR Tendulkar\n",
      "71932        305        AT Rayudu\n",
      "87520        370     SR Tendulkar\n",
      "87532        370       KD Karthik\n",
      "97887        413       KD Karthik\n",
      "97906        413         DR Smith\n",
      "102821       434     SR Tendulkar\n",
      "102824       434         DR Smith\n",
      "108582       458          AP Tare\n",
      "117759       497        AT Rayudu\n",
      "134229       567        AT Rayudu\n",
      "134261       567        RG Sharma\n",
      "137456       581        HH Pandya\n",
      "137466       581   MJ McClenaghan\n",
      "141918       600        AT Rayudu\n",
      "141931       600        KH Pandya\n",
      "141955       600       JC Buttler\n",
      "159051      7930          E Lewis\n",
      "159066      7930        RG Sharma\n",
      "159082      7930         AS Yadav\n",
      "160023      7934         AS Yadav\n",
      "160059      7934     Ishan Kishan\n",
      "176071     11338          E Lewis\n",
      "176084     11338         AS Yadav\n",
      "176114     11338       KA Pollard\n",
      "178040     11347        Q de Kock\n"
     ]
    }
   ],
   "source": [
    "overs1 = list(range(7,16))\n",
    "MIvsKKRMidOvers = df.loc[(df['batting_team'] == 'Mumbai Indians') & (df['bowling_team'] == 'Kolkata Knight Riders') & df['over'].isin(overs1)]\n",
    "MIvsKKR_Wickets = MIvsKKRMidOvers[['match_id', 'player_dismissed']].dropna()\n",
    "print(MIvsKKR_Wickets)"
   ]
  },
  {
   "cell_type": "code",
   "execution_count": 64,
   "metadata": {
    "scrolled": true
   },
   "outputs": [
    {
     "name": "stdout",
     "output_type": "stream",
     "text": [
      "          player_dismissed\n",
      "match_id                  \n",
      "7                        4\n",
      "53                       1\n",
      "58                       1\n",
      "132                      3\n",
      "138                      2\n",
      "191                      2\n",
      "230                      2\n",
      "303                      3\n",
      "305                      4\n",
      "370                      2\n",
      "413                      2\n",
      "434                      2\n",
      "458                      1\n",
      "497                      1\n",
      "567                      2\n",
      "581                      2\n",
      "600                      3\n",
      "7930                     3\n",
      "7934                     2\n",
      "11338                    3\n",
      "11347                    1\n"
     ]
    }
   ],
   "source": [
    "MIvsKKR_N_Wickets = MIvsKKR_Wickets.groupby('match_id').count()\n",
    "print(MIvsKKR_N_Wickets)"
   ]
  },
  {
   "cell_type": "code",
   "execution_count": 66,
   "metadata": {},
   "outputs": [
    {
     "name": "stdout",
     "output_type": "stream",
     "text": [
      "25\n"
     ]
    }
   ],
   "source": [
    "MIvsKKR = df.loc[(df['batting_team'] == 'Mumbai Indians') & (df['bowling_team'] == 'Kolkata Knight Riders')]\n",
    "N_MIvsKKR = MIvsKKR.groupby('match_id').size().count()\n",
    "print(N_MIvsKKR)"
   ]
  },
  {
   "cell_type": "code",
   "execution_count": 67,
   "metadata": {},
   "outputs": [
    {
     "name": "stdout",
     "output_type": "stream",
     "text": [
      "14\n"
     ]
    }
   ],
   "source": [
    "r11 = list(range(0,3))\n",
    "a1 = MIvsKKR_N_Wickets.loc[MIvsKKR_N_Wickets['player_dismissed'].isin(r11)]\n",
    "A1 = a1.groupby('match_id').size().count()\n",
    "print(A1)"
   ]
  },
  {
   "cell_type": "code",
   "execution_count": 68,
   "metadata": {},
   "outputs": [
    {
     "name": "stdout",
     "output_type": "stream",
     "text": [
      "7\n"
     ]
    }
   ],
   "source": [
    "r21 = list(range(3,5))\n",
    "b1 = MIvsKKR_N_Wickets.loc[MIvsKKR_N_Wickets['player_dismissed'].isin(r21)]\n",
    "B1 = b1.groupby('match_id').size().count()\n",
    "print(B1)"
   ]
  },
  {
   "cell_type": "code",
   "execution_count": 69,
   "metadata": {},
   "outputs": [
    {
     "name": "stdout",
     "output_type": "stream",
     "text": [
      "0\n"
     ]
    }
   ],
   "source": [
    "r31 = list(range(5,7))\n",
    "c1 = MIvsKKR_N_Wickets.loc[MIvsKKR_N_Wickets['player_dismissed'].isin(r31)]\n",
    "C1 = c1.groupby('match_id').size().count()\n",
    "print(C1)"
   ]
  }
 ],
 "metadata": {
  "kernelspec": {
   "display_name": "Python 3",
   "language": "python",
   "name": "python3"
  },
  "language_info": {
   "codemirror_mode": {
    "name": "ipython",
    "version": 3
   },
   "file_extension": ".py",
   "mimetype": "text/x-python",
   "name": "python",
   "nbconvert_exporter": "python",
   "pygments_lexer": "ipython3",
   "version": "3.7.4"
  }
 },
 "nbformat": 4,
 "nbformat_minor": 4
}
