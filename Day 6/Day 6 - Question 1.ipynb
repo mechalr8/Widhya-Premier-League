{
 "cells": [
  {
   "cell_type": "code",
   "execution_count": 1,
   "metadata": {},
   "outputs": [],
   "source": [
    "from pandas import *"
   ]
  },
  {
   "cell_type": "code",
   "execution_count": 2,
   "metadata": {},
   "outputs": [],
   "source": [
    "df = read_csv(r'C:\\Users\\Asus\\Desktop\\WPL Datasets\\matches.csv')"
   ]
  },
  {
   "cell_type": "code",
   "execution_count": 3,
   "metadata": {
    "scrolled": true
   },
   "outputs": [
    {
     "name": "stdout",
     "output_type": "stream",
     "text": [
      "        id  season           city       date                        team1  \\\n",
      "0        1    2017      Hyderabad   4/5/2017          Sunrisers Hyderabad   \n",
      "1        2    2017           Pune   4/6/2017               Mumbai Indians   \n",
      "2        3    2017         Rajkot   4/7/2017                Gujarat Lions   \n",
      "3        4    2017         Indore   4/8/2017       Rising Pune Supergiant   \n",
      "4        5    2017      Bangalore   4/8/2017  Royal Challengers Bangalore   \n",
      "..     ...     ...            ...        ...                          ...   \n",
      "751  11347    2019         Mumbai   5/5/2019        Kolkata Knight Riders   \n",
      "752  11412    2019        Chennai   7/5/2019          Chennai Super Kings   \n",
      "753  11413    2019  Visakhapatnam   8/5/2019          Sunrisers Hyderabad   \n",
      "754  11414    2019  Visakhapatnam  10/5/2019               Delhi Capitals   \n",
      "755  11415    2019      Hyderabad  12/5/2019               Mumbai Indians   \n",
      "\n",
      "                           team2                  toss_winner toss_decision  \\\n",
      "0    Royal Challengers Bangalore  Royal Challengers Bangalore         field   \n",
      "1         Rising Pune Supergiant       Rising Pune Supergiant         field   \n",
      "2          Kolkata Knight Riders        Kolkata Knight Riders         field   \n",
      "3                Kings XI Punjab              Kings XI Punjab         field   \n",
      "4               Delhi Daredevils  Royal Challengers Bangalore           bat   \n",
      "..                           ...                          ...           ...   \n",
      "751               Mumbai Indians               Mumbai Indians         field   \n",
      "752               Mumbai Indians          Chennai Super Kings           bat   \n",
      "753               Delhi Capitals               Delhi Capitals         field   \n",
      "754          Chennai Super Kings          Chennai Super Kings         field   \n",
      "755          Chennai Super Kings               Mumbai Indians           bat   \n",
      "\n",
      "     result  dl_applied                       winner  win_by_runs  \\\n",
      "0    normal           0          Sunrisers Hyderabad           35   \n",
      "1    normal           0       Rising Pune Supergiant            0   \n",
      "2    normal           0        Kolkata Knight Riders            0   \n",
      "3    normal           0              Kings XI Punjab            0   \n",
      "4    normal           0  Royal Challengers Bangalore           15   \n",
      "..      ...         ...                          ...          ...   \n",
      "751  normal           0               Mumbai Indians            0   \n",
      "752  normal           0               Mumbai Indians            0   \n",
      "753  normal           0               Delhi Capitals            0   \n",
      "754  normal           0          Chennai Super Kings            0   \n",
      "755  normal           0               Mumbai Indians            1   \n",
      "\n",
      "     win_by_wickets player_of_match  \\\n",
      "0                 0    Yuvraj Singh   \n",
      "1                 7       SPD Smith   \n",
      "2                10         CA Lynn   \n",
      "3                 6      GJ Maxwell   \n",
      "4                 0       KM Jadhav   \n",
      "..              ...             ...   \n",
      "751               9       HH Pandya   \n",
      "752               6        AS Yadav   \n",
      "753               2         RR Pant   \n",
      "754               6    F du Plessis   \n",
      "755               0       JJ Bumrah   \n",
      "\n",
      "                                         venue         umpire1  \\\n",
      "0    Rajiv Gandhi International Stadium, Uppal     AY Dandekar   \n",
      "1      Maharashtra Cricket Association Stadium  A Nand Kishore   \n",
      "2       Saurashtra Cricket Association Stadium     Nitin Menon   \n",
      "3                       Holkar Cricket Stadium    AK Chaudhary   \n",
      "4                        M Chinnaswamy Stadium             NaN   \n",
      "..                                         ...             ...   \n",
      "751                           Wankhede Stadium   Nanda Kishore   \n",
      "752                  M. A. Chidambaram Stadium     Nigel Llong   \n",
      "753                           ACA-VDCA Stadium             NaN   \n",
      "754                           ACA-VDCA Stadium   Sundaram Ravi   \n",
      "755         Rajiv Gandhi Intl. Cricket Stadium     Nitin Menon   \n",
      "\n",
      "            umpire2                  umpire3  \n",
      "0          NJ Llong                      NaN  \n",
      "1            S Ravi                      NaN  \n",
      "2         CK Nandan                      NaN  \n",
      "3     C Shamshuddin                      NaN  \n",
      "4               NaN                      NaN  \n",
      "..              ...                      ...  \n",
      "751        O Nandan                   S Ravi  \n",
      "752     Nitin Menon                Ian Gould  \n",
      "753             NaN                      NaN  \n",
      "754  Bruce Oxenford  Chettithody Shamshuddin  \n",
      "755       Ian Gould              Nigel Llong  \n",
      "\n",
      "[756 rows x 18 columns]\n"
     ]
    }
   ],
   "source": [
    "print(df)"
   ]
  },
  {
   "cell_type": "code",
   "execution_count": 4,
   "metadata": {},
   "outputs": [
    {
     "name": "stdout",
     "output_type": "stream",
     "text": [
      "        id  season            city       date                  team1  \\\n",
      "6        7    2017          Mumbai   4/9/2017  Kolkata Knight Riders   \n",
      "52      53    2017         Kolkata  5/13/2017         Mumbai Indians   \n",
      "57      58    2017       Bangalore  5/19/2017  Kolkata Knight Riders   \n",
      "74      75    2008         Kolkata  4/29/2008  Kolkata Knight Riders   \n",
      "98      99    2008          Mumbai  5/16/2008  Kolkata Knight Riders   \n",
      "131    132    2009  Port Elizabeth  4/27/2009         Mumbai Indians   \n",
      "137    138    2009     East London   5/1/2009         Mumbai Indians   \n",
      "190    191    2010          Mumbai  3/22/2010  Kolkata Knight Riders   \n",
      "229    230    2010         Kolkata  4/19/2010         Mumbai Indians   \n",
      "302    303    2011         Kolkata  5/22/2011  Kolkata Knight Riders   \n",
      "304    305    2011          Mumbai  5/25/2011  Kolkata Knight Riders   \n",
      "362    363    2012         Kolkata  5/12/2012         Mumbai Indians   \n",
      "369    370    2012          Mumbai  5/16/2012  Kolkata Knight Riders   \n",
      "412    413    2013         Kolkata  4/24/2013  Kolkata Knight Riders   \n",
      "433    434    2013          Mumbai   5/7/2013         Mumbai Indians   \n",
      "457    458    2014       Abu Dhabi  4/16/2014  Kolkata Knight Riders   \n",
      "496    497    2014         Cuttack  5/14/2014         Mumbai Indians   \n",
      "517    518    2015         Kolkata   4/8/2015         Mumbai Indians   \n",
      "566    567    2015          Mumbai  5/14/2015         Mumbai Indians   \n",
      "580    581    2016         Kolkata  4/13/2016  Kolkata Knight Riders   \n",
      "599    600    2016          Mumbai  4/28/2016  Kolkata Knight Riders   \n",
      "672   7930    2018          Mumbai   6/5/2018         Mumbai Indians   \n",
      "676   7934    2018         Kolkata   9/5/2018         Mumbai Indians   \n",
      "742  11338    2019         Kolkata   28/04/19  Kolkata Knight Riders   \n",
      "751  11347    2019          Mumbai   5/5/2019  Kolkata Knight Riders   \n",
      "\n",
      "                     team2            toss_winner toss_decision  result  \\\n",
      "6           Mumbai Indians         Mumbai Indians         field  normal   \n",
      "52   Kolkata Knight Riders  Kolkata Knight Riders         field  normal   \n",
      "57          Mumbai Indians         Mumbai Indians         field  normal   \n",
      "74          Mumbai Indians  Kolkata Knight Riders           bat  normal   \n",
      "98          Mumbai Indians         Mumbai Indians         field  normal   \n",
      "131  Kolkata Knight Riders         Mumbai Indians           bat  normal   \n",
      "137  Kolkata Knight Riders         Mumbai Indians           bat  normal   \n",
      "190         Mumbai Indians  Kolkata Knight Riders           bat  normal   \n",
      "229  Kolkata Knight Riders         Mumbai Indians           bat  normal   \n",
      "302         Mumbai Indians         Mumbai Indians         field  normal   \n",
      "304         Mumbai Indians         Mumbai Indians         field  normal   \n",
      "362  Kolkata Knight Riders         Mumbai Indians           bat  normal   \n",
      "369         Mumbai Indians         Mumbai Indians         field  normal   \n",
      "412         Mumbai Indians  Kolkata Knight Riders           bat  normal   \n",
      "433  Kolkata Knight Riders         Mumbai Indians           bat  normal   \n",
      "457         Mumbai Indians  Kolkata Knight Riders           bat  normal   \n",
      "496  Kolkata Knight Riders  Kolkata Knight Riders         field  normal   \n",
      "517  Kolkata Knight Riders  Kolkata Knight Riders         field  normal   \n",
      "566  Kolkata Knight Riders  Kolkata Knight Riders         field  normal   \n",
      "580         Mumbai Indians         Mumbai Indians         field  normal   \n",
      "599         Mumbai Indians         Mumbai Indians         field  normal   \n",
      "672  Kolkata Knight Riders  Kolkata Knight Riders         field  normal   \n",
      "676  Kolkata Knight Riders  Kolkata Knight Riders         field  normal   \n",
      "742         Mumbai Indians         Mumbai Indians         field  normal   \n",
      "751         Mumbai Indians         Mumbai Indians         field  normal   \n",
      "\n",
      "     dl_applied                 winner  win_by_runs  win_by_wickets  \\\n",
      "6             0         Mumbai Indians            0               4   \n",
      "52            0         Mumbai Indians            9               0   \n",
      "57            0         Mumbai Indians            0               6   \n",
      "74            0         Mumbai Indians            0               7   \n",
      "98            0         Mumbai Indians            0               8   \n",
      "131           0         Mumbai Indians           92               0   \n",
      "137           0         Mumbai Indians            9               0   \n",
      "190           0         Mumbai Indians            0               7   \n",
      "229           0  Kolkata Knight Riders            0               9   \n",
      "302           0         Mumbai Indians            0               5   \n",
      "304           0         Mumbai Indians            0               4   \n",
      "362           0         Mumbai Indians           27               0   \n",
      "369           0  Kolkata Knight Riders           32               0   \n",
      "412           0         Mumbai Indians            0               5   \n",
      "433           0         Mumbai Indians           65               0   \n",
      "457           0  Kolkata Knight Riders           41               0   \n",
      "496           0  Kolkata Knight Riders            0               6   \n",
      "517           0  Kolkata Knight Riders            0               7   \n",
      "566           0         Mumbai Indians            5               0   \n",
      "580           0         Mumbai Indians            0               6   \n",
      "599           0         Mumbai Indians            0               6   \n",
      "672           0         Mumbai Indians           13               0   \n",
      "676           0         Mumbai Indians          102               0   \n",
      "742           0  Kolkata Knight Riders           34               0   \n",
      "751           0         Mumbai Indians            0               9   \n",
      "\n",
      "    player_of_match                  venue           umpire1  \\\n",
      "6            N Rana       Wankhede Stadium       Nitin Menon   \n",
      "52        AT Rayudu           Eden Gardens    A Nand Kishore   \n",
      "57        KV Sharma  M Chinnaswamy Stadium          NJ Llong   \n",
      "74    ST Jayasuriya           Eden Gardens         BF Bowden   \n",
      "98       SM Pollock       Wankhede Stadium       BR Doctrove   \n",
      "131    SR Tendulkar       St George's Park        BG Jerling   \n",
      "137       JP Duminy           Buffalo Park         M Erasmus   \n",
      "190    SR Tendulkar      Brabourne Stadium         SS Hazare   \n",
      "229        M Kartik           Eden Gardens        BG Jerling   \n",
      "302    JEC Franklin           Eden Gardens       SK Tarapore   \n",
      "304        MM Patel       Wankhede Stadium         Asad Rauf   \n",
      "362       RG Sharma           Eden Gardens            S Ravi   \n",
      "369       SP Narine       Wankhede Stadium             S Das   \n",
      "412        DR Smith           Eden Gardens   HDPK Dharmasena   \n",
      "433    SR Tendulkar       Wankhede Stadium   HDPK Dharmasena   \n",
      "457       JH Kallis   Sheikh Zayed Stadium         M Erasmus   \n",
      "496      RV Uthappa       Barabati Stadium      AK Chaudhary   \n",
      "517        M Morkel           Eden Gardens            S Ravi   \n",
      "566       HH Pandya       Wankhede Stadium    RK Illingworth   \n",
      "580       RG Sharma           Eden Gardens       Nitin Menon   \n",
      "599       RG Sharma       Wankhede Stadium       Nitin Menon   \n",
      "672       HH Pandya       Wankhede Stadium  Kumar Dharmasena   \n",
      "676    Ishan Kishan           Eden Gardens    Anil Chaudhary   \n",
      "742      AD Russell           Eden Gardens         Ian Gould   \n",
      "751       HH Pandya       Wankhede Stadium     Nanda Kishore   \n",
      "\n",
      "                  umpire2           umpire3  \n",
      "6               CK Nandan               NaN  \n",
      "52                 S Ravi               NaN  \n",
      "57            Nitin Menon               NaN  \n",
      "74         AV Jayaprakash               NaN  \n",
      "98              DJ Harper               NaN  \n",
      "131             RB Tiffin               NaN  \n",
      "137           SK Tarapore               NaN  \n",
      "190            SJA Taufel               NaN  \n",
      "229           RE Koertzen               NaN  \n",
      "302            SJA Taufel               NaN  \n",
      "304            SJA Taufel               NaN  \n",
      "362            SJA Taufel               NaN  \n",
      "369           BR Doctrove               NaN  \n",
      "412                S Ravi               NaN  \n",
      "433                S Ravi               NaN  \n",
      "457        RK Illingworth               NaN  \n",
      "496              NJ Llong               NaN  \n",
      "517         C Shamshuddin               NaN  \n",
      "566           VA Kulkarni               NaN  \n",
      "580                S Ravi               NaN  \n",
      "599             RJ Tucker               NaN  \n",
      "672          A.D Deshmukh    Anil Chaudhary  \n",
      "676  K Ananthapadmanabhan  Kumar Dharmasena  \n",
      "742           Nitin Menon     Anil Dandekar  \n",
      "751              O Nandan            S Ravi  \n"
     ]
    }
   ],
   "source": [
    "team = ['Mumbai Indians', 'Kolkata Knight Riders']\n",
    "MIvsKKR = df.loc[df['team1'].isin(team) & df['team2'].isin(team)]\n",
    "print(MIvsKKR)"
   ]
  },
  {
   "cell_type": "code",
   "execution_count": 5,
   "metadata": {},
   "outputs": [
    {
     "name": "stdout",
     "output_type": "stream",
     "text": [
      "TOTAL MATCHES PLAYED BETWEEN MI AND KKR: 25\n"
     ]
    }
   ],
   "source": [
    "total_matches = MIvsKKR.groupby('id').size().count()\n",
    "print(\"TOTAL MATCHES PLAYED BETWEEN MI AND KKR:\",total_matches)"
   ]
  },
  {
   "cell_type": "code",
   "execution_count": 7,
   "metadata": {
    "scrolled": true
   },
   "outputs": [
    {
     "name": "stdout",
     "output_type": "stream",
     "text": [
      "MI WON 19 Matches\n"
     ]
    }
   ],
   "source": [
    "WinMI = MIvsKKR.loc[(MIvsKKR['winner'] == 'Mumbai Indians')]\n",
    "TimesWinMI = WinMI.groupby('id').size().count()\n",
    "print(\"MI WON\",TimesWinMI,\"Matches\")"
   ]
  },
  {
   "cell_type": "code",
   "execution_count": 8,
   "metadata": {},
   "outputs": [
    {
     "name": "stdout",
     "output_type": "stream",
     "text": [
      "KKR WON 6 MATCHES\n"
     ]
    }
   ],
   "source": [
    "WinKKR = MIvsKKR.loc[(MIvsKKR['winner'] == 'Kolkata Knight Riders')]\n",
    "TimesWinKKR = WinKKR.groupby('id').size().count()\n",
    "print(\"KKR WON\",TimesWinKKR,\"MATCHES\")"
   ]
  },
  {
   "cell_type": "code",
   "execution_count": null,
   "metadata": {},
   "outputs": [],
   "source": []
  }
 ],
 "metadata": {
  "kernelspec": {
   "display_name": "Python 3",
   "language": "python",
   "name": "python3"
  },
  "language_info": {
   "codemirror_mode": {
    "name": "ipython",
    "version": 3
   },
   "file_extension": ".py",
   "mimetype": "text/x-python",
   "name": "python",
   "nbconvert_exporter": "python",
   "pygments_lexer": "ipython3",
   "version": "3.7.4"
  }
 },
 "nbformat": 4,
 "nbformat_minor": 4
}
