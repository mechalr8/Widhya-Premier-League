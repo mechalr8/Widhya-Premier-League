{
 "cells": [
  {
   "cell_type": "code",
   "execution_count": 1,
   "metadata": {},
   "outputs": [],
   "source": [
    "from pandas import *"
   ]
  },
  {
   "cell_type": "code",
   "execution_count": 2,
   "metadata": {
    "scrolled": true
   },
   "outputs": [
    {
     "name": "stdout",
     "output_type": "stream",
     "text": [
      "        match_id  inning         batting_team                 bowling_team  \\\n",
      "0              1       1  Sunrisers Hyderabad  Royal Challengers Bangalore   \n",
      "1              1       1  Sunrisers Hyderabad  Royal Challengers Bangalore   \n",
      "2              1       1  Sunrisers Hyderabad  Royal Challengers Bangalore   \n",
      "3              1       1  Sunrisers Hyderabad  Royal Challengers Bangalore   \n",
      "4              1       1  Sunrisers Hyderabad  Royal Challengers Bangalore   \n",
      "...          ...     ...                  ...                          ...   \n",
      "179073     11415       2  Chennai Super Kings               Mumbai Indians   \n",
      "179074     11415       2  Chennai Super Kings               Mumbai Indians   \n",
      "179075     11415       2  Chennai Super Kings               Mumbai Indians   \n",
      "179076     11415       2  Chennai Super Kings               Mumbai Indians   \n",
      "179077     11415       2  Chennai Super Kings               Mumbai Indians   \n",
      "\n",
      "        over  ball    batsman non_striker      bowler  is_super_over  ...  \\\n",
      "0          1     1  DA Warner    S Dhawan    TS Mills              0  ...   \n",
      "1          1     2  DA Warner    S Dhawan    TS Mills              0  ...   \n",
      "2          1     3  DA Warner    S Dhawan    TS Mills              0  ...   \n",
      "3          1     4  DA Warner    S Dhawan    TS Mills              0  ...   \n",
      "4          1     5  DA Warner    S Dhawan    TS Mills              0  ...   \n",
      "...      ...   ...        ...         ...         ...            ...  ...   \n",
      "179073    20     2  RA Jadeja   SR Watson  SL Malinga              0  ...   \n",
      "179074    20     3  SR Watson   RA Jadeja  SL Malinga              0  ...   \n",
      "179075    20     4  SR Watson   RA Jadeja  SL Malinga              0  ...   \n",
      "179076    20     5  SN Thakur   RA Jadeja  SL Malinga              0  ...   \n",
      "179077    20     6  SN Thakur   RA Jadeja  SL Malinga              0  ...   \n",
      "\n",
      "        bye_runs  legbye_runs  noball_runs  penalty_runs  batsman_runs  \\\n",
      "0              0            0            0             0             0   \n",
      "1              0            0            0             0             0   \n",
      "2              0            0            0             0             4   \n",
      "3              0            0            0             0             0   \n",
      "4              0            0            0             0             0   \n",
      "...          ...          ...          ...           ...           ...   \n",
      "179073         0            0            0             0             1   \n",
      "179074         0            0            0             0             2   \n",
      "179075         0            0            0             0             1   \n",
      "179076         0            0            0             0             2   \n",
      "179077         0            0            0             0             0   \n",
      "\n",
      "        extra_runs  total_runs  player_dismissed dismissal_kind    fielder  \n",
      "0                0           0               NaN            NaN        NaN  \n",
      "1                0           0               NaN            NaN        NaN  \n",
      "2                0           4               NaN            NaN        NaN  \n",
      "3                0           0               NaN            NaN        NaN  \n",
      "4                2           2               NaN            NaN        NaN  \n",
      "...            ...         ...               ...            ...        ...  \n",
      "179073           0           1               NaN            NaN        NaN  \n",
      "179074           0           2               NaN            NaN        NaN  \n",
      "179075           0           1         SR Watson        run out  KH Pandya  \n",
      "179076           0           2               NaN            NaN        NaN  \n",
      "179077           0           0         SN Thakur            lbw        NaN  \n",
      "\n",
      "[179078 rows x 21 columns]\n"
     ]
    }
   ],
   "source": [
    "df = read_csv(r'C:\\Users\\Asus\\Desktop\\WPL Datasets\\deliveries.csv')\n",
    "print(df)"
   ]
  },
  {
   "cell_type": "code",
   "execution_count": 3,
   "metadata": {
    "scrolled": true
   },
   "outputs": [
    {
     "name": "stdout",
     "output_type": "stream",
     "text": [
      "        match_id  inning    batting_team            bowling_team  over  ball  \\\n",
      "275            2       1  Mumbai Indians  Rising Pune Supergiant     5     3   \n",
      "276            2       1  Mumbai Indians  Rising Pune Supergiant     5     4   \n",
      "278            2       1  Mumbai Indians  Rising Pune Supergiant     5     6   \n",
      "279            2       1  Mumbai Indians  Rising Pune Supergiant     6     1   \n",
      "285            2       1  Mumbai Indians  Rising Pune Supergiant     7     1   \n",
      "...          ...     ...             ...                     ...   ...   ...   \n",
      "178853     11415       1  Mumbai Indians     Chennai Super Kings     4     5   \n",
      "178854     11415       1  Mumbai Indians     Chennai Super Kings     4     6   \n",
      "178856     11415       1  Mumbai Indians     Chennai Super Kings     5     2   \n",
      "178862     11415       1  Mumbai Indians     Chennai Super Kings     6     1   \n",
      "178863     11415       1  Mumbai Indians     Chennai Super Kings     6     2   \n",
      "\n",
      "          batsman non_striker           bowler  is_super_over  ...  bye_runs  \\\n",
      "275     RG Sharma  JC Buttler      Imran Tahir              0  ...         0   \n",
      "276     RG Sharma  JC Buttler      Imran Tahir              0  ...         0   \n",
      "278     RG Sharma  JC Buttler      Imran Tahir              0  ...         0   \n",
      "279     RG Sharma  JC Buttler        DL Chahar              0  ...         0   \n",
      "285     RG Sharma  JC Buttler      Imran Tahir              0  ...         0   \n",
      "...           ...         ...              ...            ...  ...       ...   \n",
      "178853  RG Sharma   Q de Kock  Harbhajan Singh              0  ...         0   \n",
      "178854  RG Sharma   Q de Kock  Harbhajan Singh              0  ...         0   \n",
      "178856  RG Sharma   Q de Kock        SN Thakur              0  ...         0   \n",
      "178862  RG Sharma    AS Yadav        DL Chahar              0  ...         0   \n",
      "178863  RG Sharma    AS Yadav        DL Chahar              0  ...         0   \n",
      "\n",
      "        legbye_runs  noball_runs  penalty_runs  batsman_runs  extra_runs  \\\n",
      "275               0            0             0             0           0   \n",
      "276               0            0             0             1           0   \n",
      "278               0            0             0             1           0   \n",
      "279               0            0             0             1           0   \n",
      "285               0            0             0             0           0   \n",
      "...             ...          ...           ...           ...         ...   \n",
      "178853            0            0             0             0           0   \n",
      "178854            0            0             0             4           0   \n",
      "178856            0            0             0             1           0   \n",
      "178862            0            0             0             0           0   \n",
      "178863            0            0             0             0           0   \n",
      "\n",
      "        total_runs  player_dismissed dismissal_kind   fielder  \n",
      "275              0               NaN            NaN       NaN  \n",
      "276              1               NaN            NaN       NaN  \n",
      "278              1               NaN            NaN       NaN  \n",
      "279              1               NaN            NaN       NaN  \n",
      "285              0               NaN            NaN       NaN  \n",
      "...            ...               ...            ...       ...  \n",
      "178853           0               NaN            NaN       NaN  \n",
      "178854           4               NaN            NaN       NaN  \n",
      "178856           1               NaN            NaN       NaN  \n",
      "178862           0               NaN            NaN       NaN  \n",
      "178863           0         RG Sharma         caught  MS Dhoni  \n",
      "\n",
      "[2907 rows x 21 columns]\n"
     ]
    }
   ],
   "source": [
    "Match = df.loc[(df['batting_team'] == 'Mumbai Indians') & (df['batsman'] == 'RG Sharma')]\n",
    "print(Match)"
   ]
  },
  {
   "cell_type": "code",
   "execution_count": 5,
   "metadata": {
    "scrolled": true
   },
   "outputs": [
    {
     "name": "stdout",
     "output_type": "stream",
     "text": [
      "        match_id dismissal_kind\n",
      "287            2         bowled\n",
      "1616           7            lbw\n",
      "2270          10            lbw\n",
      "2729          12         bowled\n",
      "5564          24         caught\n",
      "...          ...            ...\n",
      "175287     11335         caught\n",
      "176055     11338            lbw\n",
      "176718     11342         caught\n",
      "178227     11412            lbw\n",
      "178863     11415         caught\n",
      "\n",
      "[120 rows x 2 columns]\n"
     ]
    }
   ],
   "source": [
    "Rohit_dismissal = Match[['match_id', 'dismissal_kind']].dropna()\n",
    "print(Rohit_dismissal)"
   ]
  },
  {
   "cell_type": "code",
   "execution_count": 7,
   "metadata": {},
   "outputs": [
    {
     "name": "stdout",
     "output_type": "stream",
     "text": [
      "75\n"
     ]
    }
   ],
   "source": [
    "caught = Rohit_dismissal.loc[(Rohit_dismissal['dismissal_kind'] == 'caught')]\n",
    "N_caught = caught.groupby('match_id').size().count()\n",
    "print(N_caught)"
   ]
  },
  {
   "cell_type": "code",
   "execution_count": 8,
   "metadata": {},
   "outputs": [
    {
     "name": "stdout",
     "output_type": "stream",
     "text": [
      "17\n"
     ]
    }
   ],
   "source": [
    "bowled = Rohit_dismissal.loc[(Rohit_dismissal['dismissal_kind'] == 'bowled')]\n",
    "N_bowled = bowled.groupby('match_id').size().count()\n",
    "print(N_bowled)"
   ]
  },
  {
   "cell_type": "code",
   "execution_count": 9,
   "metadata": {
    "scrolled": false
   },
   "outputs": [
    {
     "name": "stdout",
     "output_type": "stream",
     "text": [
      "10\n"
     ]
    }
   ],
   "source": [
    "lbw = Rohit_dismissal.loc[(Rohit_dismissal['dismissal_kind'] == 'lbw')]\n",
    "N_lbw = lbw.groupby('match_id').size().count()\n",
    "print(N_lbw)"
   ]
  }
 ],
 "metadata": {
  "kernelspec": {
   "display_name": "Python 3",
   "language": "python",
   "name": "python3"
  },
  "language_info": {
   "codemirror_mode": {
    "name": "ipython",
    "version": 3
   },
   "file_extension": ".py",
   "mimetype": "text/x-python",
   "name": "python",
   "nbconvert_exporter": "python",
   "pygments_lexer": "ipython3",
   "version": "3.7.4"
  }
 },
 "nbformat": 4,
 "nbformat_minor": 4
}
