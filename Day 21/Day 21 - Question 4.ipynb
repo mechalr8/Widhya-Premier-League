{
 "cells": [
  {
   "cell_type": "code",
   "execution_count": 1,
   "metadata": {},
   "outputs": [],
   "source": [
    "from pandas import *\n",
    "df = read_csv(r'C:\\Users\\harsi\\OneDrive\\Desktop\\WPL Datasets\\deliveries.csv')"
   ]
  },
  {
   "cell_type": "code",
   "execution_count": 4,
   "metadata": {},
   "outputs": [],
   "source": [
    "teams = ['Sunrisers Hyderabad', 'Royal Challengers Bangalore']\n",
    "SRHvsRCB = df.loc[df['batting_team'].isin(teams) & df['bowling_team'].isin(teams) & df['over'].isin(list(range(1,7)))]\n",
    "def wicket(team):\n",
    "    team = SRHvsRCB.loc[(SRHvsRCB['batting_team'] == team)]\n",
    "    wicket = team[['match_id', 'dismissal_kind']]\n",
    "    N_wicket = wicket.groupby('match_id').count()\n",
    "    return N_wicket"
   ]
  },
  {
   "cell_type": "code",
   "execution_count": 11,
   "metadata": {},
   "outputs": [
    {
     "name": "stdout",
     "output_type": "stream",
     "text": [
      "          SRH  RCB  diff\n",
      "match_id                \n",
      "1           1    1     0\n",
      "388         2    2     0\n",
      "432         1    1     0\n",
      "481         2    2     0\n",
      "503         0    2     2\n",
      "525         0    1     1\n",
      "568         1    4     3\n",
      "580         1    1     0\n",
      "603         1    1     0\n",
      "636         0    0     0\n",
      "7932        2    1     1\n",
      "7944        1    2     1\n",
      "11147       0    3     3\n",
      "11345       1    3     2\n"
     ]
    }
   ],
   "source": [
    "SRH = wicket('Sunrisers Hyderabad').rename(columns = {'dismissal_kind' : 'SRH'})\n",
    "RCB = wicket('Royal Challengers Bangalore').rename(columns = {'dismissal_kind' : 'RCB'})\n",
    "result = concat([SRH, RCB], axis = 1)\n",
    "result['diff'] = (result['SRH'] - result['RCB']).abs()\n",
    "print(result)"
   ]
  },
  {
   "cell_type": "code",
   "execution_count": 9,
   "metadata": {},
   "outputs": [],
   "source": [
    "def times(r):\n",
    "    a = result.loc[result['diff'].isin(r)]\n",
    "    A = a.groupby('match_id').size().count()\n",
    "    return A"
   ]
  },
  {
   "cell_type": "code",
   "execution_count": 12,
   "metadata": {},
   "outputs": [
    {
     "data": {
      "text/plain": [
       "10"
      ]
     },
     "execution_count": 12,
     "metadata": {},
     "output_type": "execute_result"
    }
   ],
   "source": [
    "times(list(range(0,2)))"
   ]
  },
  {
   "cell_type": "code",
   "execution_count": 13,
   "metadata": {},
   "outputs": [
    {
     "data": {
      "text/plain": [
       "4"
      ]
     },
     "execution_count": 13,
     "metadata": {},
     "output_type": "execute_result"
    }
   ],
   "source": [
    "times(list(range(2,4)))"
   ]
  },
  {
   "cell_type": "code",
   "execution_count": 17,
   "metadata": {},
   "outputs": [
    {
     "data": {
      "text/plain": [
       "0"
      ]
     },
     "execution_count": 17,
     "metadata": {},
     "output_type": "execute_result"
    }
   ],
   "source": [
    "times([4])"
   ]
  },
  {
   "cell_type": "code",
   "execution_count": 18,
   "metadata": {},
   "outputs": [
    {
     "data": {
      "text/plain": [
       "0"
      ]
     },
     "execution_count": 18,
     "metadata": {},
     "output_type": "execute_result"
    }
   ],
   "source": [
    "maxm = result['diff'].max()\n",
    "times(list(range(5, maxm+1)))"
   ]
  }
 ],
 "metadata": {
  "kernelspec": {
   "display_name": "Python 3",
   "language": "python",
   "name": "python3"
  },
  "language_info": {
   "codemirror_mode": {
    "name": "ipython",
    "version": 3
   },
   "file_extension": ".py",
   "mimetype": "text/x-python",
   "name": "python",
   "nbconvert_exporter": "python",
   "pygments_lexer": "ipython3",
   "version": "3.7.0"
  }
 },
 "nbformat": 4,
 "nbformat_minor": 4
}
