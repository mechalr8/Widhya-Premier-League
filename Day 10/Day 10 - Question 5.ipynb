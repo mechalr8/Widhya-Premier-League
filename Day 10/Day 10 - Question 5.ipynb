{
 "cells": [
  {
   "cell_type": "code",
   "execution_count": 47,
   "metadata": {},
   "outputs": [],
   "source": [
    "from pandas import *"
   ]
  },
  {
   "cell_type": "code",
   "execution_count": 48,
   "metadata": {
    "scrolled": true
   },
   "outputs": [
    {
     "name": "stdout",
     "output_type": "stream",
     "text": [
      "        match_id  inning         batting_team                 bowling_team  \\\n",
      "0              1       1  Sunrisers Hyderabad  Royal Challengers Bangalore   \n",
      "1              1       1  Sunrisers Hyderabad  Royal Challengers Bangalore   \n",
      "2              1       1  Sunrisers Hyderabad  Royal Challengers Bangalore   \n",
      "3              1       1  Sunrisers Hyderabad  Royal Challengers Bangalore   \n",
      "4              1       1  Sunrisers Hyderabad  Royal Challengers Bangalore   \n",
      "...          ...     ...                  ...                          ...   \n",
      "179073     11415       2  Chennai Super Kings               Mumbai Indians   \n",
      "179074     11415       2  Chennai Super Kings               Mumbai Indians   \n",
      "179075     11415       2  Chennai Super Kings               Mumbai Indians   \n",
      "179076     11415       2  Chennai Super Kings               Mumbai Indians   \n",
      "179077     11415       2  Chennai Super Kings               Mumbai Indians   \n",
      "\n",
      "        over  ball    batsman non_striker      bowler  is_super_over  ...  \\\n",
      "0          1     1  DA Warner    S Dhawan    TS Mills              0  ...   \n",
      "1          1     2  DA Warner    S Dhawan    TS Mills              0  ...   \n",
      "2          1     3  DA Warner    S Dhawan    TS Mills              0  ...   \n",
      "3          1     4  DA Warner    S Dhawan    TS Mills              0  ...   \n",
      "4          1     5  DA Warner    S Dhawan    TS Mills              0  ...   \n",
      "...      ...   ...        ...         ...         ...            ...  ...   \n",
      "179073    20     2  RA Jadeja   SR Watson  SL Malinga              0  ...   \n",
      "179074    20     3  SR Watson   RA Jadeja  SL Malinga              0  ...   \n",
      "179075    20     4  SR Watson   RA Jadeja  SL Malinga              0  ...   \n",
      "179076    20     5  SN Thakur   RA Jadeja  SL Malinga              0  ...   \n",
      "179077    20     6  SN Thakur   RA Jadeja  SL Malinga              0  ...   \n",
      "\n",
      "        bye_runs  legbye_runs  noball_runs  penalty_runs  batsman_runs  \\\n",
      "0              0            0            0             0             0   \n",
      "1              0            0            0             0             0   \n",
      "2              0            0            0             0             4   \n",
      "3              0            0            0             0             0   \n",
      "4              0            0            0             0             0   \n",
      "...          ...          ...          ...           ...           ...   \n",
      "179073         0            0            0             0             1   \n",
      "179074         0            0            0             0             2   \n",
      "179075         0            0            0             0             1   \n",
      "179076         0            0            0             0             2   \n",
      "179077         0            0            0             0             0   \n",
      "\n",
      "        extra_runs  total_runs  player_dismissed dismissal_kind    fielder  \n",
      "0                0           0               NaN            NaN        NaN  \n",
      "1                0           0               NaN            NaN        NaN  \n",
      "2                0           4               NaN            NaN        NaN  \n",
      "3                0           0               NaN            NaN        NaN  \n",
      "4                2           2               NaN            NaN        NaN  \n",
      "...            ...         ...               ...            ...        ...  \n",
      "179073           0           1               NaN            NaN        NaN  \n",
      "179074           0           2               NaN            NaN        NaN  \n",
      "179075           0           1         SR Watson        run out  KH Pandya  \n",
      "179076           0           2               NaN            NaN        NaN  \n",
      "179077           0           0         SN Thakur            lbw        NaN  \n",
      "\n",
      "[179078 rows x 21 columns]\n"
     ]
    }
   ],
   "source": [
    "df = read_csv(r'C:\\Users\\LENOVO\\Desktop\\WPL Datasets\\deliveries.csv')\n",
    "print(df)"
   ]
  },
  {
   "cell_type": "code",
   "execution_count": 49,
   "metadata": {
    "scrolled": true
   },
   "outputs": [
    {
     "name": "stdout",
     "output_type": "stream",
     "text": [
      "        match_id  inning     batting_team         bowling_team  over  ball  \\\n",
      "153032      7905       1  Kings XI Punjab  Chennai Super Kings     2     1   \n",
      "153033      7905       1  Kings XI Punjab  Chennai Super Kings     2     2   \n",
      "153034      7905       1  Kings XI Punjab  Chennai Super Kings     2     3   \n",
      "153035      7905       1  Kings XI Punjab  Chennai Super Kings     2     4   \n",
      "153036      7905       1  Kings XI Punjab  Chennai Super Kings     2     5   \n",
      "...          ...     ...              ...                  ...   ...   ...   \n",
      "177820     11346       2  Kings XI Punjab  Chennai Super Kings    10     5   \n",
      "177821     11346       2  Kings XI Punjab  Chennai Super Kings    10     6   \n",
      "177822     11346       2  Kings XI Punjab  Chennai Super Kings    10     7   \n",
      "177825     11346       2  Kings XI Punjab  Chennai Super Kings    11     2   \n",
      "177827     11346       2  Kings XI Punjab  Chennai Super Kings    11     4   \n",
      "\n",
      "         batsman non_striker           bowler  is_super_over  ...  bye_runs  \\\n",
      "153032  CH Gayle    KL Rahul  Harbhajan Singh              0  ...         0   \n",
      "153033  CH Gayle    KL Rahul  Harbhajan Singh              0  ...         0   \n",
      "153034  CH Gayle    KL Rahul  Harbhajan Singh              0  ...         0   \n",
      "153035  CH Gayle    KL Rahul  Harbhajan Singh              0  ...         0   \n",
      "153036  CH Gayle    KL Rahul  Harbhajan Singh              0  ...         0   \n",
      "...          ...         ...              ...            ...  ...       ...   \n",
      "177820  CH Gayle    KL Rahul         DJ Bravo              0  ...         0   \n",
      "177821  CH Gayle    KL Rahul         DJ Bravo              0  ...         0   \n",
      "177822  CH Gayle    KL Rahul         DJ Bravo              0  ...         0   \n",
      "177825  CH Gayle    KL Rahul  Harbhajan Singh              0  ...         0   \n",
      "177827  CH Gayle    N Pooran  Harbhajan Singh              0  ...         0   \n",
      "\n",
      "        legbye_runs  noball_runs  penalty_runs  batsman_runs  extra_runs  \\\n",
      "153032            0            0             0             4           0   \n",
      "153033            0            0             0             0           0   \n",
      "153034            0            0             0             0           0   \n",
      "153035            0            0             0             0           0   \n",
      "153036            0            0             0             1           0   \n",
      "...             ...          ...           ...           ...         ...   \n",
      "177820            0            0             0             1           1   \n",
      "177821            0            0             0             0           0   \n",
      "177822            0            0             0             1           0   \n",
      "177825            0            0             0             1           0   \n",
      "177827            0            0             0             0           0   \n",
      "\n",
      "        total_runs  player_dismissed dismissal_kind fielder  \n",
      "153032           4               NaN            NaN     NaN  \n",
      "153033           0               NaN            NaN     NaN  \n",
      "153034           0               NaN            NaN     NaN  \n",
      "153035           0               NaN            NaN     NaN  \n",
      "153036           1               NaN            NaN     NaN  \n",
      "...            ...               ...            ...     ...  \n",
      "177820           2               NaN            NaN     NaN  \n",
      "177821           0               NaN            NaN     NaN  \n",
      "177822           1               NaN            NaN     NaN  \n",
      "177825           1               NaN            NaN     NaN  \n",
      "177827           0          CH Gayle         caught     NaN  \n",
      "\n",
      "[599 rows x 21 columns]\n"
     ]
    }
   ],
   "source": [
    "KXIP_Gayle = df.loc[(df['batting_team'] == 'Kings XI Punjab') & (df['batsman'] == 'CH Gayle')]\n",
    "print(KXIP_Gayle)"
   ]
  },
  {
   "cell_type": "code",
   "execution_count": 50,
   "metadata": {
    "scrolled": true
   },
   "outputs": [
    {
     "name": "stdout",
     "output_type": "stream",
     "text": [
      "          runs\n",
      "match_id      \n",
      "7905        64\n",
      "7909       111\n",
      "7911        63\n",
      "7918        23\n",
      "7927        58\n",
      "7931         8\n",
      "7933         2\n",
      "7937        21\n",
      "7941        18\n",
      "7943        18\n",
      "7949         0\n",
      "11140       91\n",
      "11142       21\n",
      "11145       41\n",
      "11309        6\n",
      "11313       16\n",
      "11315       65\n",
      "11319      105\n",
      "11323       34\n",
      "11328       69\n",
      "11333       24\n",
      "11339        4\n",
      "11343       14\n",
      "11346       33\n"
     ]
    }
   ],
   "source": [
    "runs = KXIP_Gayle.groupby('match_id').agg({'batsman_runs':['sum']})\n",
    "runs.columns = ['runs']\n",
    "print(runs)"
   ]
  },
  {
   "cell_type": "code",
   "execution_count": 56,
   "metadata": {
    "scrolled": true
   },
   "outputs": [
    {
     "name": "stdout",
     "output_type": "stream",
     "text": [
      "          player_dismissed\n",
      "match_id                  \n",
      "7905                     1\n",
      "7918                     1\n",
      "7927                     1\n",
      "7931                     1\n",
      "7937                     1\n",
      "7941                     1\n",
      "7943                     1\n",
      "7949                     1\n",
      "11140                    1\n",
      "11142                    1\n",
      "11145                    1\n",
      "11309                    1\n",
      "11313                    1\n",
      "11315                    1\n",
      "11323                    1\n",
      "11328                    1\n",
      "11333                    1\n",
      "11339                    1\n",
      "11343                    1\n",
      "11346                    1\n"
     ]
    }
   ],
   "source": [
    "out = KXIP_Gayle.loc[(KXIP_Gayle['player_dismissed'] == 'CH Gayle')]\n",
    "out1 = out[['match_id', 'player_dismissed']]\n",
    "out2 = out1.groupby('match_id').count()\n",
    "print(out2)"
   ]
  },
  {
   "cell_type": "code",
   "execution_count": 57,
   "metadata": {},
   "outputs": [
    {
     "name": "stdout",
     "output_type": "stream",
     "text": [
      "Empty DataFrame\n",
      "Columns: [match_id, inning, batting_team, bowling_team, over, ball, batsman, non_striker, bowler, is_super_over, wide_runs, bye_runs, legbye_runs, noball_runs, penalty_runs, batsman_runs, extra_runs, total_runs, player_dismissed, dismissal_kind, fielder]\n",
      "Index: []\n",
      "\n",
      "[0 rows x 21 columns]\n"
     ]
    }
   ],
   "source": [
    "KXIP_Gayle1 = df.loc[(df['batting_team'] == 'Kings XI Punjab') & (df['non_striker'] == 'CH Gayle') & (df['player_dismissed'] == 'CH Gayle')]\n",
    "print(KXIP_Gayle1)"
   ]
  },
  {
   "cell_type": "code",
   "execution_count": 53,
   "metadata": {
    "scrolled": true
   },
   "outputs": [
    {
     "name": "stdout",
     "output_type": "stream",
     "text": [
      "          ball\n",
      "match_id      \n",
      "7905        34\n",
      "7909        65\n",
      "7911        39\n",
      "7918        22\n",
      "7927        44\n",
      "7931        11\n",
      "7933         2\n",
      "7937        17\n",
      "7941        14\n",
      "7943        11\n",
      "7949         2\n",
      "11140       52\n",
      "11142       14\n",
      "11145       25\n",
      "11309        8\n",
      "11313       14\n",
      "11315       38\n",
      "11319       68\n",
      "11323       22\n",
      "11328       37\n",
      "11333       11\n",
      "11339        3\n",
      "11343       14\n",
      "11346       32\n"
     ]
    }
   ],
   "source": [
    "balls1 = KXIP_Gayle[['match_id', 'ball']]\n",
    "balls = balls1.groupby('match_id').count()\n",
    "print(balls)"
   ]
  },
  {
   "cell_type": "code",
   "execution_count": 58,
   "metadata": {
    "scrolled": true
   },
   "outputs": [
    {
     "name": "stdout",
     "output_type": "stream",
     "text": [
      "          runs  ball  player_dismissed\n",
      "match_id                              \n",
      "7905        64    34               1.0\n",
      "7909       111    65               NaN\n",
      "7911        63    39               NaN\n",
      "7918        23    22               1.0\n",
      "7927        58    44               1.0\n",
      "7931         8    11               1.0\n",
      "7933         2     2               NaN\n",
      "7937        21    17               1.0\n",
      "7941        18    14               1.0\n",
      "7943        18    11               1.0\n",
      "7949         0     2               1.0\n",
      "11140       91    52               1.0\n",
      "11142       21    14               1.0\n",
      "11145       41    25               1.0\n",
      "11309        6     8               1.0\n",
      "11313       16    14               1.0\n",
      "11315       65    38               1.0\n",
      "11319      105    68               NaN\n",
      "11323       34    22               1.0\n",
      "11328       69    37               1.0\n",
      "11333       24    11               1.0\n",
      "11339        4     3               1.0\n",
      "11343       14    14               1.0\n",
      "11346       33    32               1.0\n"
     ]
    }
   ],
   "source": [
    "result = concat([runs, balls, out2], axis=1, sort=True)\n",
    "print(result)"
   ]
  },
  {
   "cell_type": "code",
   "execution_count": 60,
   "metadata": {
    "scrolled": true
   },
   "outputs": [
    {
     "name": "stdout",
     "output_type": "stream",
     "text": [
      "          runs  ball  player_dismissed\n",
      "match_id                              \n",
      "7905        64    34                 1\n",
      "7909       111    65                 0\n",
      "7911        63    39                 0\n",
      "7918        23    22                 1\n",
      "7927        58    44                 1\n",
      "7931         8    11                 1\n",
      "7933         2     2                 0\n",
      "7937        21    17                 1\n",
      "7941        18    14                 1\n",
      "7943        18    11                 1\n",
      "7949         0     2                 1\n",
      "11140       91    52                 1\n",
      "11142       21    14                 1\n",
      "11145       41    25                 1\n",
      "11309        6     8                 1\n",
      "11313       16    14                 1\n",
      "11315       65    38                 1\n",
      "11319      105    68                 0\n",
      "11323       34    22                 1\n",
      "11328       69    37                 1\n",
      "11333       24    11                 1\n",
      "11339        4     3                 1\n",
      "11343       14    14                 1\n",
      "11346       33    32                 1\n"
     ]
    }
   ],
   "source": [
    "result['player_dismissed'] = result['player_dismissed'].fillna(0)\n",
    "result['player_dismissed'] = result['player_dismissed'].astype(int) \n",
    "print(result)"
   ]
  },
  {
   "cell_type": "code",
   "execution_count": 62,
   "metadata": {
    "scrolled": true
   },
   "outputs": [
    {
     "name": "stdout",
     "output_type": "stream",
     "text": [
      "          runs  ball  player_dismissed  strike_rate\n",
      "match_id                                           \n",
      "7905        64    34                 1          188\n",
      "7909       111    65                 0          170\n",
      "7911        63    39                 0          161\n",
      "7918        23    22                 1          104\n",
      "7927        58    44                 1          131\n",
      "7931         8    11                 1           72\n",
      "7933         2     2                 0          100\n",
      "7937        21    17                 1          123\n",
      "7941        18    14                 1          128\n",
      "7943        18    11                 1          163\n",
      "7949         0     2                 1            0\n",
      "11140       91    52                 1          175\n",
      "11142       21    14                 1          150\n",
      "11145       41    25                 1          164\n",
      "11309        6     8                 1           75\n",
      "11313       16    14                 1          114\n",
      "11315       65    38                 1          171\n",
      "11319      105    68                 0          154\n",
      "11323       34    22                 1          154\n",
      "11328       69    37                 1          186\n",
      "11333       24    11                 1          218\n",
      "11339        4     3                 1          133\n",
      "11343       14    14                 1          100\n",
      "11346       33    32                 1          103\n"
     ]
    }
   ],
   "source": [
    "result['strike_rate'] = result['runs']*100/result['ball']\n",
    "result['strike_rate'] = result['strike_rate'].astype(int) \n",
    "print(result)"
   ]
  },
  {
   "cell_type": "code",
   "execution_count": 72,
   "metadata": {},
   "outputs": [
    {
     "name": "stdout",
     "output_type": "stream",
     "text": [
      "Gayle Not out and Strike rate is less than 130: 1 time\n"
     ]
    }
   ],
   "source": [
    "r1 = list(range(0,130))\n",
    "a = result.loc[result['strike_rate'].isin(r1) & (result['player_dismissed'] == 0)]\n",
    "A = a.groupby('match_id').size().count()\n",
    "print('Gayle Not out and Strike rate is less than 130:',A,'time')"
   ]
  },
  {
   "cell_type": "code",
   "execution_count": 74,
   "metadata": {},
   "outputs": [
    {
     "name": "stdout",
     "output_type": "stream",
     "text": [
      "Gayle Out and Strike rate is more than 130: 11 times\n"
     ]
    }
   ],
   "source": [
    "max_value = result['strike_rate'].max()\n",
    "r2 = list(range(130, max_value+1))\n",
    "b = result.loc[result['strike_rate'].isin(r2) & (result['player_dismissed'] == 1)]\n",
    "B = b.groupby('match_id').size().count()\n",
    "print('Gayle Out and Strike rate is more than 130:',B,'times')"
   ]
  },
  {
   "cell_type": "code",
   "execution_count": 75,
   "metadata": {},
   "outputs": [
    {
     "name": "stdout",
     "output_type": "stream",
     "text": [
      "Gayle Not Out and Strike rate is more than 130: 3 times\n"
     ]
    }
   ],
   "source": [
    "max_value = result['strike_rate'].max()\n",
    "r3 = list(range(130, max_value+1))\n",
    "c = result.loc[result['strike_rate'].isin(r3) & (result['player_dismissed'] == 0)]\n",
    "C = c.groupby('match_id').size().count()\n",
    "print('Gayle Not Out and Strike rate is more than 130:',C,'times')"
   ]
  },
  {
   "cell_type": "code",
   "execution_count": 76,
   "metadata": {},
   "outputs": [
    {
     "name": "stdout",
     "output_type": "stream",
     "text": [
      "Gayle Out and Strike rate is less than 130: 9 times\n"
     ]
    }
   ],
   "source": [
    "r4 = list(range(0,130))\n",
    "d = result.loc[result['strike_rate'].isin(r4) & (result['player_dismissed'] == 1)]\n",
    "D = d.groupby('match_id').size().count()\n",
    "print('Gayle Out and Strike rate is less than 130:',D,'times')"
   ]
  }
 ],
 "metadata": {
  "kernelspec": {
   "display_name": "Python 3",
   "language": "python",
   "name": "python3"
  },
  "language_info": {
   "codemirror_mode": {
    "name": "ipython",
    "version": 3
   },
   "file_extension": ".py",
   "mimetype": "text/x-python",
   "name": "python",
   "nbconvert_exporter": "python",
   "pygments_lexer": "ipython3",
   "version": "3.7.9"
  }
 },
 "nbformat": 4,
 "nbformat_minor": 4
}
