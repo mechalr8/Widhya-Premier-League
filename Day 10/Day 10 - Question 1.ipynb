{
 "cells": [
  {
   "cell_type": "code",
   "execution_count": 2,
   "metadata": {},
   "outputs": [],
   "source": [
    "from pandas import *"
   ]
  },
  {
   "cell_type": "code",
   "execution_count": 3,
   "metadata": {
    "scrolled": true
   },
   "outputs": [
    {
     "name": "stdout",
     "output_type": "stream",
     "text": [
      "        id  season           city        date                        team1  \\\n",
      "0        1    2017      Hyderabad  2017-04-05          Sunrisers Hyderabad   \n",
      "1        2    2017           Pune  2017-04-06               Mumbai Indians   \n",
      "2        3    2017         Rajkot  2017-04-07                Gujarat Lions   \n",
      "3        4    2017         Indore  2017-04-08       Rising Pune Supergiant   \n",
      "4        5    2017      Bangalore  2017-04-08  Royal Challengers Bangalore   \n",
      "..     ...     ...            ...         ...                          ...   \n",
      "751  11347    2019         Mumbai    05/05/19        Kolkata Knight Riders   \n",
      "752  11412    2019        Chennai    07/05/19          Chennai Super Kings   \n",
      "753  11413    2019  Visakhapatnam    08/05/19          Sunrisers Hyderabad   \n",
      "754  11414    2019  Visakhapatnam    10/05/19               Delhi Capitals   \n",
      "755  11415    2019      Hyderabad    12/05/19               Mumbai Indians   \n",
      "\n",
      "                           team2                  toss_winner toss_decision  \\\n",
      "0    Royal Challengers Bangalore  Royal Challengers Bangalore         field   \n",
      "1         Rising Pune Supergiant       Rising Pune Supergiant         field   \n",
      "2          Kolkata Knight Riders        Kolkata Knight Riders         field   \n",
      "3                Kings XI Punjab              Kings XI Punjab         field   \n",
      "4               Delhi Daredevils  Royal Challengers Bangalore           bat   \n",
      "..                           ...                          ...           ...   \n",
      "751               Mumbai Indians               Mumbai Indians         field   \n",
      "752               Mumbai Indians          Chennai Super Kings           bat   \n",
      "753               Delhi Capitals               Delhi Capitals         field   \n",
      "754          Chennai Super Kings          Chennai Super Kings         field   \n",
      "755          Chennai Super Kings               Mumbai Indians           bat   \n",
      "\n",
      "     result  dl_applied                       winner  win_by_runs  \\\n",
      "0    normal           0          Sunrisers Hyderabad           35   \n",
      "1    normal           0       Rising Pune Supergiant            0   \n",
      "2    normal           0        Kolkata Knight Riders            0   \n",
      "3    normal           0              Kings XI Punjab            0   \n",
      "4    normal           0  Royal Challengers Bangalore           15   \n",
      "..      ...         ...                          ...          ...   \n",
      "751  normal           0               Mumbai Indians            0   \n",
      "752  normal           0               Mumbai Indians            0   \n",
      "753  normal           0               Delhi Capitals            0   \n",
      "754  normal           0          Chennai Super Kings            0   \n",
      "755  normal           0               Mumbai Indians            1   \n",
      "\n",
      "     win_by_wickets player_of_match  \\\n",
      "0                 0    Yuvraj Singh   \n",
      "1                 7       SPD Smith   \n",
      "2                10         CA Lynn   \n",
      "3                 6      GJ Maxwell   \n",
      "4                 0       KM Jadhav   \n",
      "..              ...             ...   \n",
      "751               9       HH Pandya   \n",
      "752               6        AS Yadav   \n",
      "753               2         RR Pant   \n",
      "754               6    F du Plessis   \n",
      "755               0       JJ Bumrah   \n",
      "\n",
      "                                         venue         umpire1  \\\n",
      "0    Rajiv Gandhi International Stadium, Uppal     AY Dandekar   \n",
      "1      Maharashtra Cricket Association Stadium  A Nand Kishore   \n",
      "2       Saurashtra Cricket Association Stadium     Nitin Menon   \n",
      "3                       Holkar Cricket Stadium    AK Chaudhary   \n",
      "4                        M Chinnaswamy Stadium             NaN   \n",
      "..                                         ...             ...   \n",
      "751                           Wankhede Stadium   Nanda Kishore   \n",
      "752                  M. A. Chidambaram Stadium     Nigel Llong   \n",
      "753                           ACA-VDCA Stadium             NaN   \n",
      "754                           ACA-VDCA Stadium   Sundaram Ravi   \n",
      "755         Rajiv Gandhi Intl. Cricket Stadium     Nitin Menon   \n",
      "\n",
      "            umpire2                  umpire3  \n",
      "0          NJ Llong                      NaN  \n",
      "1            S Ravi                      NaN  \n",
      "2         CK Nandan                      NaN  \n",
      "3     C Shamshuddin                      NaN  \n",
      "4               NaN                      NaN  \n",
      "..              ...                      ...  \n",
      "751        O Nandan                   S Ravi  \n",
      "752     Nitin Menon                Ian Gould  \n",
      "753             NaN                      NaN  \n",
      "754  Bruce Oxenford  Chettithody Shamshuddin  \n",
      "755       Ian Gould              Nigel Llong  \n",
      "\n",
      "[756 rows x 18 columns]\n"
     ]
    }
   ],
   "source": [
    "df = read_csv(r'C:\\Users\\LENOVO\\Desktop\\WPL Datasets\\matches.csv')\n",
    "print(df)"
   ]
  },
  {
   "cell_type": "code",
   "execution_count": 4,
   "metadata": {
    "scrolled": true
   },
   "outputs": [
    {
     "name": "stdout",
     "output_type": "stream",
     "text": [
      "        id  season          city        date             team1  \\\n",
      "14      15    2017         Delhi  2017-04-15  Delhi Daredevils   \n",
      "34      35    2017    Chandigarh  2017-04-30  Delhi Daredevils   \n",
      "72      73    2008    Chandigarh  2008-04-27  Delhi Daredevils   \n",
      "99     100    2008         Delhi  2008-05-17  Delhi Daredevils   \n",
      "119    120    2009     Cape Town  2009-04-19   Kings XI Punjab   \n",
      "160    161    2009  Bloemfontein  2009-05-15  Delhi Daredevils   \n",
      "176    177    2010    Chandigarh  2010-03-13   Kings XI Punjab   \n",
      "217    218    2010         Delhi  2010-04-11  Delhi Daredevils   \n",
      "258    259    2011         Delhi  2011-04-23  Delhi Daredevils   \n",
      "292    293    2011    Dharamsala  2011-05-15   Kings XI Punjab   \n",
      "368    369    2012         Delhi  2012-05-15   Kings XI Punjab   \n",
      "373    374    2012    Dharamsala  2012-05-19   Kings XI Punjab   \n",
      "411    412    2013    Dharamsala  2013-05-16   Kings XI Punjab   \n",
      "442    443    2013         Delhi  2013-04-23  Delhi Daredevils   \n",
      "501    502    2014         Delhi  2014-05-19  Delhi Daredevils   \n",
      "511    512    2014    Chandigarh  2014-05-25  Delhi Daredevils   \n",
      "527    528    2015          Pune  2015-04-15   Kings XI Punjab   \n",
      "547    548    2015         Delhi  2015-05-01   Kings XI Punjab   \n",
      "582    583    2016         Delhi  2016-04-15   Kings XI Punjab   \n",
      "611    612    2016    Chandigarh  2016-05-07   Kings XI Punjab   \n",
      "637   7895    2018        Mohali    08/04/18  Delhi Daredevils   \n",
      "657   7915    2018         Delhi    23/04/18   Kings XI Punjab   \n",
      "708  11149    2019        Mohali    01/04/19   Kings XI Punjab   \n",
      "732  11328    2019         Delhi    20/04/19   Kings XI Punjab   \n",
      "\n",
      "                team2       toss_winner toss_decision  result  dl_applied  \\\n",
      "14    Kings XI Punjab  Delhi Daredevils           bat  normal           0   \n",
      "34    Kings XI Punjab   Kings XI Punjab         field  normal           0   \n",
      "72    Kings XI Punjab  Delhi Daredevils           bat  normal           0   \n",
      "99    Kings XI Punjab  Delhi Daredevils           bat  normal           1   \n",
      "119  Delhi Daredevils  Delhi Daredevils         field  normal           1   \n",
      "160   Kings XI Punjab   Kings XI Punjab         field  normal           0   \n",
      "176  Delhi Daredevils  Delhi Daredevils         field  normal           0   \n",
      "217   Kings XI Punjab  Delhi Daredevils           bat  normal           0   \n",
      "258   Kings XI Punjab   Kings XI Punjab         field  normal           0   \n",
      "292  Delhi Daredevils  Delhi Daredevils         field  normal           0   \n",
      "368  Delhi Daredevils   Kings XI Punjab           bat  normal           0   \n",
      "373  Delhi Daredevils  Delhi Daredevils         field  normal           0   \n",
      "411  Delhi Daredevils  Delhi Daredevils         field  normal           0   \n",
      "442   Kings XI Punjab   Kings XI Punjab         field  normal           0   \n",
      "501   Kings XI Punjab   Kings XI Punjab         field  normal           0   \n",
      "511   Kings XI Punjab   Kings XI Punjab         field  normal           0   \n",
      "527  Delhi Daredevils   Kings XI Punjab           bat  normal           0   \n",
      "547  Delhi Daredevils  Delhi Daredevils         field  normal           0   \n",
      "582  Delhi Daredevils  Delhi Daredevils         field  normal           0   \n",
      "611  Delhi Daredevils  Delhi Daredevils         field  normal           0   \n",
      "637   Kings XI Punjab   Kings XI Punjab         field  normal           0   \n",
      "657  Delhi Daredevils  Delhi Daredevils         field  normal           0   \n",
      "708    Delhi Capitals    Delhi Capitals         field  normal           0   \n",
      "732    Delhi Capitals    Delhi Capitals         field  normal           0   \n",
      "\n",
      "               winner  win_by_runs  win_by_wickets   player_of_match  \\\n",
      "14   Delhi Daredevils           51               0       CJ Anderson   \n",
      "34    Kings XI Punjab            0              10    Sandeep Sharma   \n",
      "72    Kings XI Punjab            0               4         SM Katich   \n",
      "99    Kings XI Punjab            6               0  DPMD Jayawardene   \n",
      "119  Delhi Daredevils            0              10        DL Vettori   \n",
      "160   Kings XI Punjab            0               6             B Lee   \n",
      "176  Delhi Daredevils            0               5         G Gambhir   \n",
      "217   Kings XI Punjab            0               7         PP Chawla   \n",
      "258  Delhi Daredevils           29               0         DA Warner   \n",
      "292   Kings XI Punjab           29               0         PP Chawla   \n",
      "368  Delhi Daredevils            0               5          UT Yadav   \n",
      "373  Delhi Daredevils            0               6          UT Yadav   \n",
      "411   Kings XI Punjab            7               0         DA Miller   \n",
      "442   Kings XI Punjab            0               5     Harmeet Singh   \n",
      "501   Kings XI Punjab            0               4          AR Patel   \n",
      "511   Kings XI Punjab            0               7           M Vohra   \n",
      "527  Delhi Daredevils            0               5        MA Agarwal   \n",
      "547  Delhi Daredevils            0               9   NM Coulter-Nile   \n",
      "582  Delhi Daredevils            0               8          A Mishra   \n",
      "611   Kings XI Punjab            9               0        MP Stoinis   \n",
      "637   Kings XI Punjab            0               6          KL Rahul   \n",
      "657   Kings XI Punjab            4               0        AS Rajpoot   \n",
      "708   Kings XI Punjab           14               0          S Curran   \n",
      "732    Delhi Capitals            0               5           SS Iyer   \n",
      "\n",
      "                                                 venue          umpire1  \\\n",
      "14                                    Feroz Shah Kotla         YC Barde   \n",
      "34   Punjab Cricket Association IS Bindra Stadium, ...         YC Barde   \n",
      "72          Punjab Cricket Association Stadium, Mohali      RE Koertzen   \n",
      "99                                    Feroz Shah Kotla   AV Jayaprakash   \n",
      "119                                           Newlands        MR Benson   \n",
      "160                                    OUTsurance Oval  HDPK Dharmasena   \n",
      "176         Punjab Cricket Association Stadium, Mohali      BR Doctrove   \n",
      "217                                   Feroz Shah Kotla        BF Bowden   \n",
      "258                                   Feroz Shah Kotla         S Asnani   \n",
      "292       Himachal Pradesh Cricket Association Stadium        Asad Rauf   \n",
      "368                                   Feroz Shah Kotla  HDPK Dharmasena   \n",
      "373       Himachal Pradesh Cricket Association Stadium        BF Bowden   \n",
      "411       Himachal Pradesh Cricket Association Stadium  HDPK Dharmasena   \n",
      "442                                   Feroz Shah Kotla      VA Kulkarni   \n",
      "501                                   Feroz Shah Kotla  HDPK Dharmasena   \n",
      "511         Punjab Cricket Association Stadium, Mohali  HDPK Dharmasena   \n",
      "527            Maharashtra Cricket Association Stadium      CB Gaffaney   \n",
      "547                                   Feroz Shah Kotla   RK Illingworth   \n",
      "582                                   Feroz Shah Kotla           S Ravi   \n",
      "611  Punjab Cricket Association IS Bindra Stadium, ...  HDPK Dharmasena   \n",
      "637  Punjab Cricket Association IS Bindra Stadium, ...       Rod Tucker   \n",
      "657                                   Feroz Shah Kotla         O Nandan   \n",
      "708                                  IS Bindra Stadium   Anil Chaudhary   \n",
      "732                            Feroz Shah Kotla Ground     Ulhas Gandhe   \n",
      "\n",
      "                  umpire2          umpire3  \n",
      "14            Nitin Menon              NaN  \n",
      "34              CK Nandan              NaN  \n",
      "72              I Shivram              NaN  \n",
      "99            RE Koertzen              NaN  \n",
      "119             SD Ranade              NaN  \n",
      "160             IL Howell              NaN  \n",
      "176                S Ravi              NaN  \n",
      "217             AM Saheba              NaN  \n",
      "258           RE Koertzen              NaN  \n",
      "292            SL Shastri              NaN  \n",
      "368          BNJ Oxenford              NaN  \n",
      "373           VA Kulkarni              NaN  \n",
      "411                S Ravi              NaN  \n",
      "442             K Srinath              NaN  \n",
      "501             PG Pathak              NaN  \n",
      "511           VA Kulkarni              NaN  \n",
      "527             K Srinath              NaN  \n",
      "547                S Ravi              NaN  \n",
      "582         C Shamshuddin              NaN  \n",
      "611             CK Nandan              NaN  \n",
      "637  K Ananthapadmanabhan      Nitin Menon  \n",
      "657       A Nanda Kishore   Chris Gaffaney  \n",
      "708        Chris Gaffaney  Vineet Kulkarni  \n",
      "732         C Shamshuddin   Bruce Oxenford  \n"
     ]
    }
   ],
   "source": [
    "team = ('Delhi Daredevils', 'Delhi Capitals', 'Kings XI Punjab')\n",
    "KXIPvsDC = df.loc[df['team1'].isin(team) & df['team2'].isin(team)]\n",
    "print(KXIPvsDC)"
   ]
  },
  {
   "cell_type": "code",
   "execution_count": 5,
   "metadata": {},
   "outputs": [
    {
     "name": "stdout",
     "output_type": "stream",
     "text": [
      "24\n"
     ]
    }
   ],
   "source": [
    "matches = KXIPvsDC.groupby('id').size().count()\n",
    "print(matches)"
   ]
  },
  {
   "cell_type": "code",
   "execution_count": 6,
   "metadata": {},
   "outputs": [
    {
     "name": "stdout",
     "output_type": "stream",
     "text": [
      "14\n"
     ]
    }
   ],
   "source": [
    "KXIP = KXIPvsDC.loc[(KXIPvsDC['winner'] == 'Kings XI Punjab')]\n",
    "Win_KXIP = KXIP.groupby('id').size().count()\n",
    "print(Win_KXIP)"
   ]
  },
  {
   "cell_type": "code",
   "execution_count": 9,
   "metadata": {},
   "outputs": [
    {
     "name": "stdout",
     "output_type": "stream",
     "text": [
      "10\n"
     ]
    }
   ],
   "source": [
    "DC = KXIPvsDC.loc[(KXIPvsDC['winner'] == 'Delhi Capitals') | (KXIPvsDC['winner'] == 'Delhi Daredevils')]\n",
    "Win_DC = DC.groupby('id').size().count()\n",
    "print(Win_DC)"
   ]
  },
  {
   "cell_type": "code",
   "execution_count": null,
   "metadata": {},
   "outputs": [],
   "source": []
  }
 ],
 "metadata": {
  "kernelspec": {
   "display_name": "Python 3",
   "language": "python",
   "name": "python3"
  },
  "language_info": {
   "codemirror_mode": {
    "name": "ipython",
    "version": 3
   },
   "file_extension": ".py",
   "mimetype": "text/x-python",
   "name": "python",
   "nbconvert_exporter": "python",
   "pygments_lexer": "ipython3",
   "version": "3.7.9"
  }
 },
 "nbformat": 4,
 "nbformat_minor": 4
}
