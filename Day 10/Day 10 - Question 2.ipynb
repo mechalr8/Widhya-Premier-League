{
 "cells": [
  {
   "cell_type": "code",
   "execution_count": 1,
   "metadata": {},
   "outputs": [],
   "source": [
    "from pandas import *"
   ]
  },
  {
   "cell_type": "code",
   "execution_count": 2,
   "metadata": {
    "scrolled": true
   },
   "outputs": [
    {
     "name": "stdout",
     "output_type": "stream",
     "text": [
      "        match_id  inning         batting_team                 bowling_team  \\\n",
      "0              1       1  Sunrisers Hyderabad  Royal Challengers Bangalore   \n",
      "1              1       1  Sunrisers Hyderabad  Royal Challengers Bangalore   \n",
      "2              1       1  Sunrisers Hyderabad  Royal Challengers Bangalore   \n",
      "3              1       1  Sunrisers Hyderabad  Royal Challengers Bangalore   \n",
      "4              1       1  Sunrisers Hyderabad  Royal Challengers Bangalore   \n",
      "...          ...     ...                  ...                          ...   \n",
      "179073     11415       2  Chennai Super Kings               Mumbai Indians   \n",
      "179074     11415       2  Chennai Super Kings               Mumbai Indians   \n",
      "179075     11415       2  Chennai Super Kings               Mumbai Indians   \n",
      "179076     11415       2  Chennai Super Kings               Mumbai Indians   \n",
      "179077     11415       2  Chennai Super Kings               Mumbai Indians   \n",
      "\n",
      "        over  ball    batsman non_striker      bowler  is_super_over  ...  \\\n",
      "0          1     1  DA Warner    S Dhawan    TS Mills              0  ...   \n",
      "1          1     2  DA Warner    S Dhawan    TS Mills              0  ...   \n",
      "2          1     3  DA Warner    S Dhawan    TS Mills              0  ...   \n",
      "3          1     4  DA Warner    S Dhawan    TS Mills              0  ...   \n",
      "4          1     5  DA Warner    S Dhawan    TS Mills              0  ...   \n",
      "...      ...   ...        ...         ...         ...            ...  ...   \n",
      "179073    20     2  RA Jadeja   SR Watson  SL Malinga              0  ...   \n",
      "179074    20     3  SR Watson   RA Jadeja  SL Malinga              0  ...   \n",
      "179075    20     4  SR Watson   RA Jadeja  SL Malinga              0  ...   \n",
      "179076    20     5  SN Thakur   RA Jadeja  SL Malinga              0  ...   \n",
      "179077    20     6  SN Thakur   RA Jadeja  SL Malinga              0  ...   \n",
      "\n",
      "        bye_runs  legbye_runs  noball_runs  penalty_runs  batsman_runs  \\\n",
      "0              0            0            0             0             0   \n",
      "1              0            0            0             0             0   \n",
      "2              0            0            0             0             4   \n",
      "3              0            0            0             0             0   \n",
      "4              0            0            0             0             0   \n",
      "...          ...          ...          ...           ...           ...   \n",
      "179073         0            0            0             0             1   \n",
      "179074         0            0            0             0             2   \n",
      "179075         0            0            0             0             1   \n",
      "179076         0            0            0             0             2   \n",
      "179077         0            0            0             0             0   \n",
      "\n",
      "        extra_runs  total_runs  player_dismissed dismissal_kind    fielder  \n",
      "0                0           0               NaN            NaN        NaN  \n",
      "1                0           0               NaN            NaN        NaN  \n",
      "2                0           4               NaN            NaN        NaN  \n",
      "3                0           0               NaN            NaN        NaN  \n",
      "4                2           2               NaN            NaN        NaN  \n",
      "...            ...         ...               ...            ...        ...  \n",
      "179073           0           1               NaN            NaN        NaN  \n",
      "179074           0           2               NaN            NaN        NaN  \n",
      "179075           0           1         SR Watson        run out  KH Pandya  \n",
      "179076           0           2               NaN            NaN        NaN  \n",
      "179077           0           0         SN Thakur            lbw        NaN  \n",
      "\n",
      "[179078 rows x 21 columns]\n"
     ]
    }
   ],
   "source": [
    "df = read_csv(r'C:\\Users\\LENOVO\\Desktop\\WPL Datasets\\deliveries.csv')\n",
    "print(df)"
   ]
  },
  {
   "cell_type": "code",
   "execution_count": 3,
   "metadata": {
    "scrolled": true
   },
   "outputs": [
    {
     "name": "stdout",
     "output_type": "stream",
     "text": [
      "        match_id  inning                 batting_team         bowling_team  \\\n",
      "94952        401       2  Royal Challengers Bangalore     Delhi Daredevils   \n",
      "94953        401       2  Royal Challengers Bangalore     Delhi Daredevils   \n",
      "94954        401       2  Royal Challengers Bangalore     Delhi Daredevils   \n",
      "94955        401       2  Royal Challengers Bangalore     Delhi Daredevils   \n",
      "94956        401       2  Royal Challengers Bangalore     Delhi Daredevils   \n",
      "...          ...     ...                          ...                  ...   \n",
      "177783     11346       2              Kings XI Punjab  Chennai Super Kings   \n",
      "177788     11346       2              Kings XI Punjab  Chennai Super Kings   \n",
      "177789     11346       2              Kings XI Punjab  Chennai Super Kings   \n",
      "177793     11346       2              Kings XI Punjab  Chennai Super Kings   \n",
      "177794     11346       2              Kings XI Punjab  Chennai Super Kings   \n",
      "\n",
      "        over  ball   batsman non_striker           bowler  is_super_over  ...  \\\n",
      "94952      1     2  KL Rahul    CH Gayle          A Nehra              0  ...   \n",
      "94953      1     3  KL Rahul    CH Gayle          A Nehra              0  ...   \n",
      "94954      1     4  KL Rahul    CH Gayle          A Nehra              0  ...   \n",
      "94955      1     5  KL Rahul    CH Gayle          A Nehra              0  ...   \n",
      "94956      1     6  KL Rahul    CH Gayle          A Nehra              0  ...   \n",
      "...      ...   ...       ...         ...              ...            ...  ...   \n",
      "177783     4     6  KL Rahul    CH Gayle  Harbhajan Singh              0  ...   \n",
      "177788     5     5  KL Rahul    CH Gayle        DL Chahar              0  ...   \n",
      "177789     5     6  KL Rahul    CH Gayle        DL Chahar              0  ...   \n",
      "177793     6     4  KL Rahul    CH Gayle         DJ Bravo              0  ...   \n",
      "177794     6     5  KL Rahul    CH Gayle         DJ Bravo              0  ...   \n",
      "\n",
      "        bye_runs  legbye_runs  noball_runs  penalty_runs  batsman_runs  \\\n",
      "94952          0            0            0             0             0   \n",
      "94953          0            0            0             0             0   \n",
      "94954          0            0            0             0             0   \n",
      "94955          0            0            0             0             0   \n",
      "94956          0            0            0             0             1   \n",
      "...          ...          ...          ...           ...           ...   \n",
      "177783         0            0            0             0             6   \n",
      "177788         0            0            0             0             2   \n",
      "177789         0            0            0             0             0   \n",
      "177793         0            4            0             0             4   \n",
      "177794         0            0            0             0             1   \n",
      "\n",
      "        extra_runs  total_runs  player_dismissed dismissal_kind fielder  \n",
      "94952            0           0               NaN            NaN     NaN  \n",
      "94953            0           0               NaN            NaN     NaN  \n",
      "94954            0           0               NaN            NaN     NaN  \n",
      "94955            0           0               NaN            NaN     NaN  \n",
      "94956            0           1               NaN            NaN     NaN  \n",
      "...            ...         ...               ...            ...     ...  \n",
      "177783           0           6               NaN            NaN     NaN  \n",
      "177788           0           2               NaN            NaN     NaN  \n",
      "177789           0           0               NaN            NaN     NaN  \n",
      "177793           4           8               NaN            NaN     NaN  \n",
      "177794           0           1               NaN            NaN     NaN  \n",
      "\n",
      "[623 rows x 21 columns]\n"
     ]
    }
   ],
   "source": [
    "over = list(range(1,7))\n",
    "KL_Rahul = df.loc[(df['batsman'] == 'KL Rahul') & df['over'].isin(over)]\n",
    "print(KL_Rahul)"
   ]
  },
  {
   "cell_type": "code",
   "execution_count": 6,
   "metadata": {
    "scrolled": true
   },
   "outputs": [
    {
     "name": "stdout",
     "output_type": "stream",
     "text": [
      "844\n"
     ]
    }
   ],
   "source": [
    "runs = KL_Rahul['batsman_runs'].sum()\n",
    "print(runs)"
   ]
  },
  {
   "cell_type": "code",
   "execution_count": 8,
   "metadata": {},
   "outputs": [
    {
     "name": "stdout",
     "output_type": "stream",
     "text": [
      "623\n"
     ]
    }
   ],
   "source": [
    "index = KL_Rahul.index\n",
    "balls = len(index)\n",
    "print(balls)"
   ]
  },
  {
   "cell_type": "code",
   "execution_count": 9,
   "metadata": {},
   "outputs": [
    {
     "name": "stdout",
     "output_type": "stream",
     "text": [
      "135.47351524879616\n"
     ]
    }
   ],
   "source": [
    "Strike_Rate = runs*100/balls\n",
    "print(Strike_Rate)"
   ]
  }
 ],
 "metadata": {
  "kernelspec": {
   "display_name": "Python 3",
   "language": "python",
   "name": "python3"
  },
  "language_info": {
   "codemirror_mode": {
    "name": "ipython",
    "version": 3
   },
   "file_extension": ".py",
   "mimetype": "text/x-python",
   "name": "python",
   "nbconvert_exporter": "python",
   "pygments_lexer": "ipython3",
   "version": "3.7.9"
  }
 },
 "nbformat": 4,
 "nbformat_minor": 4
}
