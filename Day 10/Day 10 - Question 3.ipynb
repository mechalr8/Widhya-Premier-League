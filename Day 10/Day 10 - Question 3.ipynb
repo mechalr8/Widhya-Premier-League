{
 "cells": [
  {
   "cell_type": "code",
   "execution_count": 1,
   "metadata": {},
   "outputs": [],
   "source": [
    "from pandas import *"
   ]
  },
  {
   "cell_type": "code",
   "execution_count": 2,
   "metadata": {
    "scrolled": true
   },
   "outputs": [
    {
     "name": "stdout",
     "output_type": "stream",
     "text": [
      "        match_id  inning         batting_team                 bowling_team  \\\n",
      "0              1       1  Sunrisers Hyderabad  Royal Challengers Bangalore   \n",
      "1              1       1  Sunrisers Hyderabad  Royal Challengers Bangalore   \n",
      "2              1       1  Sunrisers Hyderabad  Royal Challengers Bangalore   \n",
      "3              1       1  Sunrisers Hyderabad  Royal Challengers Bangalore   \n",
      "4              1       1  Sunrisers Hyderabad  Royal Challengers Bangalore   \n",
      "...          ...     ...                  ...                          ...   \n",
      "179073     11415       2  Chennai Super Kings               Mumbai Indians   \n",
      "179074     11415       2  Chennai Super Kings               Mumbai Indians   \n",
      "179075     11415       2  Chennai Super Kings               Mumbai Indians   \n",
      "179076     11415       2  Chennai Super Kings               Mumbai Indians   \n",
      "179077     11415       2  Chennai Super Kings               Mumbai Indians   \n",
      "\n",
      "        over  ball    batsman non_striker      bowler  is_super_over  ...  \\\n",
      "0          1     1  DA Warner    S Dhawan    TS Mills              0  ...   \n",
      "1          1     2  DA Warner    S Dhawan    TS Mills              0  ...   \n",
      "2          1     3  DA Warner    S Dhawan    TS Mills              0  ...   \n",
      "3          1     4  DA Warner    S Dhawan    TS Mills              0  ...   \n",
      "4          1     5  DA Warner    S Dhawan    TS Mills              0  ...   \n",
      "...      ...   ...        ...         ...         ...            ...  ...   \n",
      "179073    20     2  RA Jadeja   SR Watson  SL Malinga              0  ...   \n",
      "179074    20     3  SR Watson   RA Jadeja  SL Malinga              0  ...   \n",
      "179075    20     4  SR Watson   RA Jadeja  SL Malinga              0  ...   \n",
      "179076    20     5  SN Thakur   RA Jadeja  SL Malinga              0  ...   \n",
      "179077    20     6  SN Thakur   RA Jadeja  SL Malinga              0  ...   \n",
      "\n",
      "        bye_runs  legbye_runs  noball_runs  penalty_runs  batsman_runs  \\\n",
      "0              0            0            0             0             0   \n",
      "1              0            0            0             0             0   \n",
      "2              0            0            0             0             4   \n",
      "3              0            0            0             0             0   \n",
      "4              0            0            0             0             0   \n",
      "...          ...          ...          ...           ...           ...   \n",
      "179073         0            0            0             0             1   \n",
      "179074         0            0            0             0             2   \n",
      "179075         0            0            0             0             1   \n",
      "179076         0            0            0             0             2   \n",
      "179077         0            0            0             0             0   \n",
      "\n",
      "        extra_runs  total_runs  player_dismissed dismissal_kind    fielder  \n",
      "0                0           0               NaN            NaN        NaN  \n",
      "1                0           0               NaN            NaN        NaN  \n",
      "2                0           4               NaN            NaN        NaN  \n",
      "3                0           0               NaN            NaN        NaN  \n",
      "4                2           2               NaN            NaN        NaN  \n",
      "...            ...         ...               ...            ...        ...  \n",
      "179073           0           1               NaN            NaN        NaN  \n",
      "179074           0           2               NaN            NaN        NaN  \n",
      "179075           0           1         SR Watson        run out  KH Pandya  \n",
      "179076           0           2               NaN            NaN        NaN  \n",
      "179077           0           0         SN Thakur            lbw        NaN  \n",
      "\n",
      "[179078 rows x 21 columns]\n"
     ]
    }
   ],
   "source": [
    "df = read_csv(r'C:\\Users\\LENOVO\\Desktop\\WPL Datasets\\deliveries.csv')\n",
    "print(df)"
   ]
  },
  {
   "cell_type": "code",
   "execution_count": 4,
   "metadata": {
    "scrolled": true
   },
   "outputs": [
    {
     "name": "stdout",
     "output_type": "stream",
     "text": [
      "        match_id  inning      batting_team                 bowling_team  over  \\\n",
      "1084           5       2  Delhi Daredevils  Royal Challengers Bangalore     1   \n",
      "1085           5       2  Delhi Daredevils  Royal Challengers Bangalore     1   \n",
      "1086           5       2  Delhi Daredevils  Royal Challengers Bangalore     1   \n",
      "1087           5       2  Delhi Daredevils  Royal Challengers Bangalore     1   \n",
      "1088           5       2  Delhi Daredevils  Royal Challengers Bangalore     1   \n",
      "...          ...     ...               ...                          ...   ...   \n",
      "178709     11414       1    Delhi Capitals          Chennai Super Kings    20   \n",
      "178710     11414       1    Delhi Capitals          Chennai Super Kings    20   \n",
      "178711     11414       1    Delhi Capitals          Chennai Super Kings    20   \n",
      "178712     11414       1    Delhi Capitals          Chennai Super Kings    20   \n",
      "178713     11414       1    Delhi Capitals          Chennai Super Kings    20   \n",
      "\n",
      "        ball      batsman  non_striker      bowler  is_super_over  ...  \\\n",
      "1084       1      AP Tare  SW Billings  B Stanlake              0  ...   \n",
      "1085       2      AP Tare  SW Billings  B Stanlake              0  ...   \n",
      "1086       3      AP Tare  SW Billings  B Stanlake              0  ...   \n",
      "1087       4      AP Tare  SW Billings  B Stanlake              0  ...   \n",
      "1088       5  SW Billings      AP Tare  B Stanlake              0  ...   \n",
      "...      ...          ...          ...         ...            ...  ...   \n",
      "178709     2     TA Boult     A Mishra   RA Jadeja              0  ...   \n",
      "178710     3     TA Boult     A Mishra   RA Jadeja              0  ...   \n",
      "178711     4     I Sharma     A Mishra   RA Jadeja              0  ...   \n",
      "178712     5     I Sharma     A Mishra   RA Jadeja              0  ...   \n",
      "178713     6     I Sharma     A Mishra   RA Jadeja              0  ...   \n",
      "\n",
      "        bye_runs  legbye_runs  noball_runs  penalty_runs  batsman_runs  \\\n",
      "1084           0            0            0             0             0   \n",
      "1085           0            0            0             0             0   \n",
      "1086           0            0            0             0             0   \n",
      "1087           0            0            0             0             1   \n",
      "1088           0            0            0             0             0   \n",
      "...          ...          ...          ...           ...           ...   \n",
      "178709         0            0            0             0             6   \n",
      "178710         0            0            0             0             0   \n",
      "178711         0            0            0             0             0   \n",
      "178712         0            0            0             0             4   \n",
      "178713         0            0            0             0             6   \n",
      "\n",
      "        extra_runs  total_runs  player_dismissed dismissal_kind fielder  \n",
      "1084             0           0               NaN            NaN     NaN  \n",
      "1085             1           1               NaN            NaN     NaN  \n",
      "1086             0           0               NaN            NaN     NaN  \n",
      "1087             0           1               NaN            NaN     NaN  \n",
      "1088             0           0               NaN            NaN     NaN  \n",
      "...            ...         ...               ...            ...     ...  \n",
      "178709           0           6               NaN            NaN     NaN  \n",
      "178710           0           0          TA Boult         bowled     NaN  \n",
      "178711           0           0               NaN            NaN     NaN  \n",
      "178712           0           4               NaN            NaN     NaN  \n",
      "178713           0           6               NaN            NaN     NaN  \n",
      "\n",
      "[20695 rows x 21 columns]\n"
     ]
    }
   ],
   "source": [
    "DC = df.loc[(df['batting_team'] == 'Delhi Capitals') | (df['batting_team'] == 'Delhi Daredevils')]\n",
    "print(DC)"
   ]
  },
  {
   "cell_type": "code",
   "execution_count": 14,
   "metadata": {},
   "outputs": [
    {
     "name": "stdout",
     "output_type": "stream",
     "text": [
      "          RunsDC\n",
      "match_id        \n",
      "5            142\n",
      "9            205\n",
      "15           188\n",
      "18           168\n",
      "21           176\n",
      "...          ...\n",
      "11337        193\n",
      "11341         99\n",
      "11344        126\n",
      "11413        170\n",
      "11414        155\n",
      "\n",
      "[177 rows x 1 columns]\n"
     ]
    }
   ],
   "source": [
    "RunsDC = DC.groupby(['match_id']).agg({'total_runs':['sum']})\n",
    "RunsDC.columns = ['RunsDC']\n",
    "print(RunsDC)"
   ]
  },
  {
   "cell_type": "code",
   "execution_count": 15,
   "metadata": {
    "scrolled": true
   },
   "outputs": [
    {
     "name": "stdout",
     "output_type": "stream",
     "text": [
      "        match_id  inning      batting_team         bowling_team  over  ball  \\\n",
      "3364          15       1  Delhi Daredevils      Kings XI Punjab     8     4   \n",
      "3365          15       1  Delhi Daredevils      Kings XI Punjab     8     5   \n",
      "3366          15       1  Delhi Daredevils      Kings XI Punjab     8     6   \n",
      "3371          15       1  Delhi Daredevils      Kings XI Punjab     9     2   \n",
      "3372          15       1  Delhi Daredevils      Kings XI Punjab     9     3   \n",
      "...          ...     ...               ...                  ...   ...   ...   \n",
      "178653     11414       1    Delhi Capitals  Chennai Super Kings    11     2   \n",
      "178654     11414       1    Delhi Capitals  Chennai Super Kings    11     3   \n",
      "178655     11414       1    Delhi Capitals  Chennai Super Kings    11     4   \n",
      "178657     11414       1    Delhi Capitals  Chennai Super Kings    11     6   \n",
      "178660     11414       1    Delhi Capitals  Chennai Super Kings    12     3   \n",
      "\n",
      "        batsman  non_striker       bowler  is_super_over  ...  bye_runs  \\\n",
      "3364    SS Iyer  SW Billings     VR Aaron              0  ...         0   \n",
      "3365    SS Iyer  SW Billings     VR Aaron              0  ...         0   \n",
      "3366    SS Iyer  SW Billings     VR Aaron              0  ...         0   \n",
      "3371    SS Iyer  SW Billings  KC Cariappa              0  ...         0   \n",
      "3372    SS Iyer  SW Billings  KC Cariappa              0  ...         0   \n",
      "...         ...          ...          ...            ...  ...       ...   \n",
      "178653  SS Iyer      RR Pant     DJ Bravo              0  ...         0   \n",
      "178654  SS Iyer      RR Pant     DJ Bravo              0  ...         0   \n",
      "178655  SS Iyer      RR Pant     DJ Bravo              0  ...         0   \n",
      "178657  SS Iyer      RR Pant     DJ Bravo              0  ...         0   \n",
      "178660  SS Iyer      RR Pant  Imran Tahir              0  ...         0   \n",
      "\n",
      "        legbye_runs  noball_runs  penalty_runs  batsman_runs  extra_runs  \\\n",
      "3364              0            0             0             0           1   \n",
      "3365              0            0             0             0           0   \n",
      "3366              0            1             0             1           1   \n",
      "3371              0            0             0             0           0   \n",
      "3372              0            0             0             0           0   \n",
      "...             ...          ...           ...           ...         ...   \n",
      "178653            0            0             0             0           0   \n",
      "178654            0            0             0             4           0   \n",
      "178655            0            0             0             1           0   \n",
      "178657            0            0             0             0           0   \n",
      "178660            0            0             0             0           0   \n",
      "\n",
      "        total_runs  player_dismissed dismissal_kind   fielder  \n",
      "3364             1               NaN            NaN       NaN  \n",
      "3365             0               NaN            NaN       NaN  \n",
      "3366             2               NaN            NaN       NaN  \n",
      "3371             0               NaN            NaN       NaN  \n",
      "3372             0               NaN            NaN       NaN  \n",
      "...            ...               ...            ...       ...  \n",
      "178653           0               NaN            NaN       NaN  \n",
      "178654           4               NaN            NaN       NaN  \n",
      "178655           1               NaN            NaN       NaN  \n",
      "178657           0               NaN            NaN       NaN  \n",
      "178660           0           SS Iyer         caught  SK Raina  \n",
      "\n",
      "[1370 rows x 21 columns]\n"
     ]
    }
   ],
   "source": [
    "SSIyer = DC.loc[(DC['batsman'] == 'SS Iyer')]\n",
    "print(SSIyer)"
   ]
  },
  {
   "cell_type": "code",
   "execution_count": 16,
   "metadata": {},
   "outputs": [
    {
     "name": "stdout",
     "output_type": "stream",
     "text": [
      "          RunsSSIyer\n",
      "match_id            \n",
      "15                25\n",
      "18                26\n",
      "21                53\n",
      "24                 6\n",
      "31                48\n",
      "...              ...\n",
      "11337             52\n",
      "11341             44\n",
      "11344             15\n",
      "11413              8\n",
      "11414             15\n",
      "\n",
      "[61 rows x 1 columns]\n"
     ]
    }
   ],
   "source": [
    "RunsSSIyer = SSIyer.groupby(['match_id']).agg({'total_runs':['sum']})\n",
    "RunsSSIyer.columns = ['RunsSSIyer']\n",
    "print(RunsSSIyer)"
   ]
  },
  {
   "cell_type": "code",
   "execution_count": 17,
   "metadata": {},
   "outputs": [
    {
     "name": "stdout",
     "output_type": "stream",
     "text": [
      "          RunsDC  RunsSSIyer\n",
      "match_id                    \n",
      "15           188          25\n",
      "18           168          26\n",
      "21           176          53\n",
      "24           128           6\n",
      "31           160          48\n",
      "...          ...         ...\n",
      "11337        193          52\n",
      "11341         99          44\n",
      "11344        126          15\n",
      "11413        170           8\n",
      "11414        155          15\n",
      "\n",
      "[61 rows x 2 columns]\n"
     ]
    }
   ],
   "source": [
    "result = concat([RunsDC, RunsSSIyer], axis=1, join='inner')\n",
    "print(result)"
   ]
  },
  {
   "cell_type": "code",
   "execution_count": 18,
   "metadata": {},
   "outputs": [
    {
     "name": "stdout",
     "output_type": "stream",
     "text": [
      "          RunsDC  RunsSSIyer  percentage\n",
      "match_id                                \n",
      "15           188          25   13.297872\n",
      "18           168          26   15.476190\n",
      "21           176          53   30.113636\n",
      "24           128           6    4.687500\n",
      "31           160          48   30.000000\n",
      "...          ...         ...         ...\n",
      "11337        193          52   26.943005\n",
      "11341         99          44   44.444444\n",
      "11344        126          15   11.904762\n",
      "11413        170           8    4.705882\n",
      "11414        155          15    9.677419\n",
      "\n",
      "[61 rows x 3 columns]\n"
     ]
    }
   ],
   "source": [
    "result['percentage'] = result['RunsSSIyer']*100/result['RunsDC']\n",
    "print(result)"
   ]
  },
  {
   "cell_type": "code",
   "execution_count": 22,
   "metadata": {},
   "outputs": [
    {
     "name": "stdout",
     "output_type": "stream",
     "text": [
      "17.781842570775584\n"
     ]
    }
   ],
   "source": [
    "final = result['percentage'].mean()\n",
    "print(final)"
   ]
  }
 ],
 "metadata": {
  "kernelspec": {
   "display_name": "Python 3",
   "language": "python",
   "name": "python3"
  },
  "language_info": {
   "codemirror_mode": {
    "name": "ipython",
    "version": 3
   },
   "file_extension": ".py",
   "mimetype": "text/x-python",
   "name": "python",
   "nbconvert_exporter": "python",
   "pygments_lexer": "ipython3",
   "version": "3.7.9"
  }
 },
 "nbformat": 4,
 "nbformat_minor": 4
}
