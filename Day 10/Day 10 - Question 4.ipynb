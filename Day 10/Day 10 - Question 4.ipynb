{
 "cells": [
  {
   "cell_type": "code",
   "execution_count": 2,
   "metadata": {},
   "outputs": [],
   "source": [
    "from pandas import *"
   ]
  },
  {
   "cell_type": "code",
   "execution_count": 3,
   "metadata": {
    "scrolled": true
   },
   "outputs": [
    {
     "name": "stdout",
     "output_type": "stream",
     "text": [
      "        match_id  inning         batting_team                 bowling_team  \\\n",
      "0              1       1  Sunrisers Hyderabad  Royal Challengers Bangalore   \n",
      "1              1       1  Sunrisers Hyderabad  Royal Challengers Bangalore   \n",
      "2              1       1  Sunrisers Hyderabad  Royal Challengers Bangalore   \n",
      "3              1       1  Sunrisers Hyderabad  Royal Challengers Bangalore   \n",
      "4              1       1  Sunrisers Hyderabad  Royal Challengers Bangalore   \n",
      "...          ...     ...                  ...                          ...   \n",
      "179073     11415       2  Chennai Super Kings               Mumbai Indians   \n",
      "179074     11415       2  Chennai Super Kings               Mumbai Indians   \n",
      "179075     11415       2  Chennai Super Kings               Mumbai Indians   \n",
      "179076     11415       2  Chennai Super Kings               Mumbai Indians   \n",
      "179077     11415       2  Chennai Super Kings               Mumbai Indians   \n",
      "\n",
      "        over  ball    batsman non_striker      bowler  is_super_over  ...  \\\n",
      "0          1     1  DA Warner    S Dhawan    TS Mills              0  ...   \n",
      "1          1     2  DA Warner    S Dhawan    TS Mills              0  ...   \n",
      "2          1     3  DA Warner    S Dhawan    TS Mills              0  ...   \n",
      "3          1     4  DA Warner    S Dhawan    TS Mills              0  ...   \n",
      "4          1     5  DA Warner    S Dhawan    TS Mills              0  ...   \n",
      "...      ...   ...        ...         ...         ...            ...  ...   \n",
      "179073    20     2  RA Jadeja   SR Watson  SL Malinga              0  ...   \n",
      "179074    20     3  SR Watson   RA Jadeja  SL Malinga              0  ...   \n",
      "179075    20     4  SR Watson   RA Jadeja  SL Malinga              0  ...   \n",
      "179076    20     5  SN Thakur   RA Jadeja  SL Malinga              0  ...   \n",
      "179077    20     6  SN Thakur   RA Jadeja  SL Malinga              0  ...   \n",
      "\n",
      "        bye_runs  legbye_runs  noball_runs  penalty_runs  batsman_runs  \\\n",
      "0              0            0            0             0             0   \n",
      "1              0            0            0             0             0   \n",
      "2              0            0            0             0             4   \n",
      "3              0            0            0             0             0   \n",
      "4              0            0            0             0             0   \n",
      "...          ...          ...          ...           ...           ...   \n",
      "179073         0            0            0             0             1   \n",
      "179074         0            0            0             0             2   \n",
      "179075         0            0            0             0             1   \n",
      "179076         0            0            0             0             2   \n",
      "179077         0            0            0             0             0   \n",
      "\n",
      "        extra_runs  total_runs  player_dismissed dismissal_kind    fielder  \n",
      "0                0           0               NaN            NaN        NaN  \n",
      "1                0           0               NaN            NaN        NaN  \n",
      "2                0           4               NaN            NaN        NaN  \n",
      "3                0           0               NaN            NaN        NaN  \n",
      "4                2           2               NaN            NaN        NaN  \n",
      "...            ...         ...               ...            ...        ...  \n",
      "179073           0           1               NaN            NaN        NaN  \n",
      "179074           0           2               NaN            NaN        NaN  \n",
      "179075           0           1         SR Watson        run out  KH Pandya  \n",
      "179076           0           2               NaN            NaN        NaN  \n",
      "179077           0           0         SN Thakur            lbw        NaN  \n",
      "\n",
      "[179078 rows x 21 columns]\n"
     ]
    }
   ],
   "source": [
    "df = read_csv(r'C:\\Users\\LENOVO\\Desktop\\WPL Datasets\\deliveries.csv')\n",
    "print(df)"
   ]
  },
  {
   "cell_type": "code",
   "execution_count": 18,
   "metadata": {
    "scrolled": true
   },
   "outputs": [
    {
     "name": "stdout",
     "output_type": "stream",
     "text": [
      "        match_id  inning                 batting_team     bowling_team  over  \\\n",
      "2547          11       2        Kolkata Knight Riders  Kings XI Punjab    10   \n",
      "6209          26       2                Gujarat Lions  Kings XI Punjab    14   \n",
      "6230          26       2                Gujarat Lions  Kings XI Punjab    17   \n",
      "7413          32       1          Sunrisers Hyderabad  Kings XI Punjab    10   \n",
      "8142          35       1             Delhi Daredevils  Kings XI Punjab     7   \n",
      "...          ...     ...                          ...              ...   ...   \n",
      "174741     11333       1  Royal Challengers Bangalore  Kings XI Punjab     8   \n",
      "176275     11339       1          Sunrisers Hyderabad  Kings XI Punjab    19   \n",
      "176278     11339       1          Sunrisers Hyderabad  Kings XI Punjab    20   \n",
      "177751     11346       1          Chennai Super Kings  Kings XI Punjab    19   \n",
      "177757     11346       1          Chennai Super Kings  Kings XI Punjab    20   \n",
      "\n",
      "        ball        batsman     non_striker          bowler  is_super_over  \\\n",
      "2547       6     RV Uthappa       G Gambhir        AR Patel              0   \n",
      "6209       1        AD Nath      KD Karthik     KC Cariappa              0   \n",
      "6230       4         AJ Tye      KD Karthik  Sandeep Sharma              0   \n",
      "7413       6      DA Warner        S Dhawan      GJ Maxwell              0   \n",
      "8142       1        KK Nair         RR Pant        AR Patel              0   \n",
      "...      ...            ...             ...             ...            ...   \n",
      "174741     3          M Ali  AB de Villiers        R Ashwin              0   \n",
      "176275     5  Mohammad Nabi     Rashid Khan  Mohammed Shami              0   \n",
      "176278     1    Rashid Khan       V Shankar         A Singh              0   \n",
      "177751     4   F du Plessis        MS Dhoni        S Curran              0   \n",
      "177757     4      KM Jadhav        MS Dhoni  Mohammed Shami              0   \n",
      "\n",
      "        ...  bye_runs  legbye_runs  noball_runs  penalty_runs  batsman_runs  \\\n",
      "2547    ...         0            0            0             0             0   \n",
      "6209    ...         0            0            0             0             0   \n",
      "6230    ...         0            0            0             0             0   \n",
      "7413    ...         0            0            0             0             0   \n",
      "8142    ...         0            0            0             0             0   \n",
      "...     ...       ...          ...          ...           ...           ...   \n",
      "174741  ...         0            0            0             0             0   \n",
      "176275  ...         0            0            0             0             0   \n",
      "176278  ...         0            0            0             0             0   \n",
      "177751  ...         0            0            0             0             0   \n",
      "177757  ...         0            0            0             0             0   \n",
      "\n",
      "        extra_runs  total_runs  player_dismissed dismissal_kind fielder  \n",
      "2547             0           0        RV Uthappa         bowled     NaN  \n",
      "6209             0           0           AD Nath            lbw     NaN  \n",
      "6230             0           0            AJ Tye         bowled     NaN  \n",
      "7413             0           0         DA Warner         bowled     NaN  \n",
      "8142             0           0           KK Nair         bowled     NaN  \n",
      "...            ...         ...               ...            ...     ...  \n",
      "174741           0           0             M Ali         bowled     NaN  \n",
      "176275           0           0     Mohammad Nabi         bowled     NaN  \n",
      "176278           0           0       Rashid Khan         bowled     NaN  \n",
      "177751           0           0      F du Plessis         bowled     NaN  \n",
      "177757           0           0         KM Jadhav         bowled     NaN  \n",
      "\n",
      "[193 rows x 21 columns]\n"
     ]
    }
   ],
   "source": [
    "out = ['bowled', 'lbw', ' caught']\n",
    "KXIP = df.loc[(df['bowling_team'] == 'Kings XI Punjab') & df['over'].isin(list(range(7,21))) & (df['dismissal_kind'].isin(out))]\n",
    "print(KXIP)"
   ]
  },
  {
   "cell_type": "code",
   "execution_count": 19,
   "metadata": {
    "scrolled": true
   },
   "outputs": [
    {
     "name": "stdout",
     "output_type": "stream",
     "text": [
      "        match_id player_dismissed\n",
      "2547          11       RV Uthappa\n",
      "6209          26          AD Nath\n",
      "6230          26           AJ Tye\n",
      "7413          32        DA Warner\n",
      "8142          35          KK Nair\n",
      "...          ...              ...\n",
      "174741     11333            M Ali\n",
      "176275     11339    Mohammad Nabi\n",
      "176278     11339      Rashid Khan\n",
      "177751     11346     F du Plessis\n",
      "177757     11346        KM Jadhav\n",
      "\n",
      "[193 rows x 2 columns]\n"
     ]
    }
   ],
   "source": [
    "wickets = KXIP[['match_id', 'player_dismissed']]\n",
    "print(wickets)"
   ]
  },
  {
   "cell_type": "code",
   "execution_count": 20,
   "metadata": {},
   "outputs": [
    {
     "name": "stdout",
     "output_type": "stream",
     "text": [
      "          player_dismissed\n",
      "match_id                  \n",
      "11                       1\n",
      "26                       2\n",
      "32                       1\n",
      "35                       3\n",
      "42                       3\n",
      "...                    ...\n",
      "11323                    1\n",
      "11328                    1\n",
      "11333                    1\n",
      "11339                    2\n",
      "11346                    2\n",
      "\n",
      "[105 rows x 1 columns]\n"
     ]
    }
   ],
   "source": [
    "N_wickets = wickets.groupby('match_id').count()\n",
    "print(N_wickets)"
   ]
  },
  {
   "cell_type": "code",
   "execution_count": 21,
   "metadata": {
    "scrolled": true
   },
   "outputs": [
    {
     "name": "stdout",
     "output_type": "stream",
     "text": [
      "        match_id  inning         batting_team     bowling_team  over  ball  \\\n",
      "166772     11145       1       Mumbai Indians  Kings XI Punjab    13     7   \n",
      "167916     11149       2       Delhi Capitals  Kings XI Punjab    17     4   \n",
      "167928     11149       2       Delhi Capitals  Kings XI Punjab    19     3   \n",
      "173738     11328       2       Delhi Capitals  Kings XI Punjab    19     3   \n",
      "176275     11339       1  Sunrisers Hyderabad  Kings XI Punjab    19     5   \n",
      "177757     11346       1  Chennai Super Kings  Kings XI Punjab    20     4   \n",
      "\n",
      "              batsman   non_striker          bowler  is_super_over  ...  \\\n",
      "166772      Q de Kock  Yuvraj Singh  Mohammed Shami              0  ...   \n",
      "167916        RR Pant      C Ingram  Mohammed Shami              0  ...   \n",
      "167928       H Vihari      K Rabada  Mohammed Shami              0  ...   \n",
      "173738       C Ingram       SS Iyer  Mohammed Shami              0  ...   \n",
      "176275  Mohammad Nabi   Rashid Khan  Mohammed Shami              0  ...   \n",
      "177757      KM Jadhav      MS Dhoni  Mohammed Shami              0  ...   \n",
      "\n",
      "        bye_runs  legbye_runs  noball_runs  penalty_runs  batsman_runs  \\\n",
      "166772         0            0            0             0             0   \n",
      "167916         0            0            0             0             0   \n",
      "167928         0            0            0             0             0   \n",
      "173738         0            0            0             0             0   \n",
      "176275         0            0            0             0             0   \n",
      "177757         0            0            0             0             0   \n",
      "\n",
      "        extra_runs  total_runs  player_dismissed dismissal_kind fielder  \n",
      "166772           0           0         Q de Kock            lbw     NaN  \n",
      "167916           0           0           RR Pant         bowled     NaN  \n",
      "167928           0           0          H Vihari         bowled     NaN  \n",
      "173738           0           0          C Ingram         bowled     NaN  \n",
      "176275           0           0     Mohammad Nabi         bowled     NaN  \n",
      "177757           0           0         KM Jadhav         bowled     NaN  \n",
      "\n",
      "[6 rows x 21 columns]\n"
     ]
    }
   ],
   "source": [
    "ShamiWickets = KXIP.loc[(KXIP['bowler'] == 'Mohammed Shami')]\n",
    "print(ShamiWickets)"
   ]
  },
  {
   "cell_type": "code",
   "execution_count": 22,
   "metadata": {},
   "outputs": [
    {
     "name": "stdout",
     "output_type": "stream",
     "text": [
      "        match_id player_dismissed\n",
      "166772     11145        Q de Kock\n",
      "167916     11149          RR Pant\n",
      "167928     11149         H Vihari\n",
      "173738     11328         C Ingram\n",
      "176275     11339    Mohammad Nabi\n",
      "177757     11346        KM Jadhav\n"
     ]
    }
   ],
   "source": [
    "N_ShamiWickets = ShamiWickets[['match_id', 'player_dismissed']]\n",
    "print(N_ShamiWickets)"
   ]
  },
  {
   "cell_type": "code",
   "execution_count": 26,
   "metadata": {},
   "outputs": [
    {
     "name": "stdout",
     "output_type": "stream",
     "text": [
      "          player_dismissed_by_Shami\n",
      "match_id                           \n",
      "11145                             1\n",
      "11149                             2\n",
      "11328                             1\n",
      "11339                             1\n",
      "11346                             1\n"
     ]
    }
   ],
   "source": [
    "NSW = N_ShamiWickets.groupby('match_id').count()\n",
    "NSW.columns = ['player_dismissed_by_Shami']\n",
    "print(NSW)"
   ]
  },
  {
   "cell_type": "code",
   "execution_count": 33,
   "metadata": {},
   "outputs": [
    {
     "name": "stdout",
     "output_type": "stream",
     "text": [
      "          player_dismissed  player_dismissed_by_Shami\n",
      "match_id                                             \n",
      "11                       1                        NaN\n",
      "26                       2                        NaN\n",
      "32                       1                        NaN\n",
      "35                       3                        NaN\n",
      "42                       3                        NaN\n",
      "...                    ...                        ...\n",
      "11323                    1                        NaN\n",
      "11328                    1                        1.0\n",
      "11333                    1                        NaN\n",
      "11339                    2                        1.0\n",
      "11346                    2                        1.0\n",
      "\n",
      "[105 rows x 2 columns]\n"
     ]
    }
   ],
   "source": [
    "result = concat([N_wickets, NSW], axis=1, join='outer')\n",
    "print(result)"
   ]
  },
  {
   "cell_type": "code",
   "execution_count": 34,
   "metadata": {},
   "outputs": [
    {
     "name": "stdout",
     "output_type": "stream",
     "text": [
      "          player_dismissed  player_dismissed_by_Shami\n",
      "match_id                                             \n",
      "11                       1                        0.0\n",
      "26                       2                        0.0\n",
      "32                       1                        0.0\n",
      "35                       3                        0.0\n",
      "42                       3                        0.0\n",
      "...                    ...                        ...\n",
      "11323                    1                        0.0\n",
      "11328                    1                        1.0\n",
      "11333                    1                        0.0\n",
      "11339                    2                        1.0\n",
      "11346                    2                        1.0\n",
      "\n",
      "[105 rows x 2 columns]\n"
     ]
    }
   ],
   "source": [
    "result['player_dismissed_by_Shami'] = result['player_dismissed_by_Shami'].fillna(0)\n",
    "print(result)"
   ]
  },
  {
   "cell_type": "code",
   "execution_count": 46,
   "metadata": {},
   "outputs": [
    {
     "name": "stdout",
     "output_type": "stream",
     "text": [
      "          player_dismissed  player_dismissed_by_Shami  \\\n",
      "match_id                                                \n",
      "11                       1                        0.0   \n",
      "26                       2                        0.0   \n",
      "32                       1                        0.0   \n",
      "35                       3                        0.0   \n",
      "42                       3                        0.0   \n",
      "...                    ...                        ...   \n",
      "11323                    1                        0.0   \n",
      "11328                    1                        1.0   \n",
      "11333                    1                        0.0   \n",
      "11339                    2                        1.0   \n",
      "11346                    2                        1.0   \n",
      "\n",
      "          player_dismissed_without_Shami  \n",
      "match_id                                  \n",
      "11                                     1  \n",
      "26                                     2  \n",
      "32                                     1  \n",
      "35                                     3  \n",
      "42                                     3  \n",
      "...                                  ...  \n",
      "11323                                  1  \n",
      "11328                                  0  \n",
      "11333                                  1  \n",
      "11339                                  1  \n",
      "11346                                  1  \n",
      "\n",
      "[105 rows x 3 columns]\n"
     ]
    }
   ],
   "source": [
    "result['player_dismissed_without_Shami'] = result['player_dismissed'] - result['player_dismissed_by_Shami']\n",
    "result['player_dismissed_without_Shami'] = result['player_dismissed_without_Shami'].astype(int) \n",
    "print(result)"
   ]
  },
  {
   "cell_type": "code",
   "execution_count": 49,
   "metadata": {},
   "outputs": [
    {
     "name": "stdout",
     "output_type": "stream",
     "text": [
      "54\n"
     ]
    }
   ],
   "source": [
    "a = result.loc[result['player_dismissed_without_Shami'].isin([0,1])]\n",
    "A = a.groupby('match_id').size().count()\n",
    "print(A)"
   ]
  },
  {
   "cell_type": "code",
   "execution_count": 56,
   "metadata": {},
   "outputs": [
    {
     "name": "stdout",
     "output_type": "stream",
     "text": [
      "47\n"
     ]
    }
   ],
   "source": [
    "b = result.loc[result['player_dismissed_without_Shami'].isin([2,3])]\n",
    "B = b.groupby('match_id').size().count()\n",
    "print(B)"
   ]
  },
  {
   "cell_type": "code",
   "execution_count": 57,
   "metadata": {},
   "outputs": [
    {
     "name": "stdout",
     "output_type": "stream",
     "text": [
      "4\n"
     ]
    }
   ],
   "source": [
    "c = result.loc[result['player_dismissed_without_Shami'] == 4]\n",
    "C = c.groupby('match_id').size().count()\n",
    "print(C)"
   ]
  },
  {
   "cell_type": "code",
   "execution_count": 58,
   "metadata": {
    "scrolled": true
   },
   "outputs": [
    {
     "name": "stdout",
     "output_type": "stream",
     "text": [
      "4\n"
     ]
    }
   ],
   "source": [
    "max_value = result['player_dismissed_without_Shami'].max()\n",
    "print(max_value)"
   ]
  },
  {
   "cell_type": "code",
   "execution_count": null,
   "metadata": {},
   "outputs": [],
   "source": []
  }
 ],
 "metadata": {
  "kernelspec": {
   "display_name": "Python 3",
   "language": "python",
   "name": "python3"
  },
  "language_info": {
   "codemirror_mode": {
    "name": "ipython",
    "version": 3
   },
   "file_extension": ".py",
   "mimetype": "text/x-python",
   "name": "python",
   "nbconvert_exporter": "python",
   "pygments_lexer": "ipython3",
   "version": "3.7.9"
  }
 },
 "nbformat": 4,
 "nbformat_minor": 4
}
