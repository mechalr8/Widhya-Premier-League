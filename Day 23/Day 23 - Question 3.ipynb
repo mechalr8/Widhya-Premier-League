{
 "cells": [
  {
   "cell_type": "code",
   "execution_count": 1,
   "metadata": {},
   "outputs": [],
   "source": [
    "from pandas import *\n",
    "df = read_csv(r'C:\\Users\\harsi\\OneDrive\\Desktop\\WPL Datasets\\deliveries.csv')"
   ]
  },
  {
   "cell_type": "code",
   "execution_count": 2,
   "metadata": {},
   "outputs": [
    {
     "name": "stdout",
     "output_type": "stream",
     "text": [
      "          dismissal_kind  ball         SR\n",
      "match_id                                 \n",
      "24                   1.0    24  12.225806\n",
      "31                   2.0    20  12.225806\n",
      "41                   2.0    24  12.225806\n",
      "44                   1.0    24  12.225806\n",
      "11139                2.0    24  12.225806\n",
      "11141                1.0    22  12.225806\n",
      "11146                1.0    29  12.225806\n",
      "11149                2.0    24  12.225806\n",
      "11152                1.0    21  12.225806\n",
      "11311                4.0    24  12.225806\n",
      "11317                2.0    24  12.225806\n",
      "11321                4.0    23  12.225806\n",
      "11325                2.0    24  12.225806\n",
      "11328                2.0    24  12.225806\n",
      "11331                2.0    24  12.225806\n",
      "11337                2.0    24  12.225806\n"
     ]
    }
   ],
   "source": [
    "Rabada = df.loc[(df['bowler'] == 'K Rabada')]\n",
    "dismissal_kind = ['caught', 'bowled', 'stumped', 'hit wicket', 'caught and bowled', 'lbw']\n",
    "wicket = Rabada.loc[Rabada['dismissal_kind'].isin(dismissal_kind)]\n",
    "wicket1 = wicket.groupby('match_id').count()\n",
    "N_wicket = wicket1[['dismissal_kind']]\n",
    "ball = Rabada.loc[(Rabada['wide_runs'] == 0) & (Rabada['noball_runs'] == 0)]\n",
    "ball1 = ball.groupby('match_id').count()\n",
    "N_ball = ball1[['ball']]\n",
    "result = concat([N_wicket, N_ball], axis = 1).dropna()\n",
    "result['SR'] = result['ball'].sum()/result['dismissal_kind'].sum()\n",
    "print(result)"
   ]
  },
  {
   "cell_type": "code",
   "execution_count": 4,
   "metadata": {},
   "outputs": [
    {
     "name": "stdout",
     "output_type": "stream",
     "text": [
      "2\n"
     ]
    }
   ],
   "source": [
    "matches = Rabada.groupby('match_id').size().count()\n",
    "N_result = result.groupby('match_id').size().count()\n",
    "No_wicket = matches - N_result\n",
    "print(No_wicket)"
   ]
  },
  {
   "cell_type": "code",
   "execution_count": null,
   "metadata": {},
   "outputs": [],
   "source": []
  }
 ],
 "metadata": {
  "kernelspec": {
   "display_name": "Python 3",
   "language": "python",
   "name": "python3"
  },
  "language_info": {
   "codemirror_mode": {
    "name": "ipython",
    "version": 3
   },
   "file_extension": ".py",
   "mimetype": "text/x-python",
   "name": "python",
   "nbconvert_exporter": "python",
   "pygments_lexer": "ipython3",
   "version": "3.7.0"
  }
 },
 "nbformat": 4,
 "nbformat_minor": 4
}
