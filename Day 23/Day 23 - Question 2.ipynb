{
 "cells": [
  {
   "cell_type": "code",
   "execution_count": 1,
   "metadata": {},
   "outputs": [],
   "source": [
    "from pandas import *\n",
    "df = read_csv(r'C:\\Users\\harsi\\OneDrive\\Desktop\\WPL Datasets\\deliveries.csv')"
   ]
  },
  {
   "cell_type": "code",
   "execution_count": 16,
   "metadata": {},
   "outputs": [],
   "source": [
    "def times(player):\n",
    "    batsman = df.loc[(df['batsman'] == player)]\n",
    "    ball = batsman.loc[(batsman['wide_runs'] == 0) & (batsman['noball_runs'] == 0)]\n",
    "    N_ball = ball.groupby('match_id').count()\n",
    "    N_ball = N_ball[['ball']]\n",
    "    runs = batsman.groupby('match_id').agg({'batsman_runs':['sum']})\n",
    "    runs.columns = ['runs']\n",
    "    boundary = batsman.loc[batsman['batsman_runs'].isin([4,6])]\n",
    "    N_boundaries = boundary.groupby('match_id').count()\n",
    "    N_boundaries = N_boundaries.rename(columns = {'batsman_runs':'boundaries'})\n",
    "    N_boundaries = N_boundaries[['boundaries']]\n",
    "    fours = batsman.loc[(batsman['batsman_runs'] == 4)]\n",
    "    N_fours = fours.groupby('match_id').count()\n",
    "    N_fours = N_fours.rename(columns = {'batsman_runs':'fours'})\n",
    "    N_fours = N_fours[['fours']]\n",
    "    result = concat([N_ball, runs, N_boundaries, N_fours], axis = 1)\n",
    "    result['SR'] = result['runs']*100/result['ball']\n",
    "    result = result.loc[(result['SR'] > 130) & (result['boundaries'] > 3) & (result['fours'] >= 2)]\n",
    "    result = result.groupby('match_id').size().count()\n",
    "    return result"
   ]
  },
  {
   "cell_type": "code",
   "execution_count": 18,
   "metadata": {},
   "outputs": [
    {
     "name": "stdout",
     "output_type": "stream",
     "text": [
      "              Batsman  times\n",
      "0            S Dhawan     41\n",
      "1              P Shaw      9\n",
      "2             SS Iyer     18\n",
      "3             RR Pant     24\n",
      "4          MP Stoinis      7\n",
      "5           S Hetmyer      1\n",
      "6            HV Patel      0\n",
      "7            K Rabada      0\n",
      "8            AR Patel      3\n",
      "9            R Ashwin      2\n",
      "10            V Kohli     45\n",
      "11     AB de Villiers     49\n",
      "12  Washington Sundar      0\n",
      "13             S Dube      0\n",
      "14          CH Morris      4\n",
      "15     Mohammed Siraj      0\n",
      "16          YS Chahal      0\n",
      "17            N Saini      1\n"
     ]
    }
   ],
   "source": [
    "data =[]\n",
    "player = ['S Dhawan', 'P Shaw', 'SS Iyer', 'RR Pant', 'MP Stoinis', 'S Hetmyer', 'HV Patel', 'K Rabada', 'AR Patel', 'R Ashwin', 'V Kohli', 'AB de Villiers', 'Washington Sundar', 'S Dube', 'CH Morris', 'Mohammed Siraj', 'YS Chahal', 'N Saini']\n",
    "for i in player:\n",
    "    data.append([i, times(i)])\n",
    "SR_130 = DataFrame(data, columns = ['Batsman', 'times']).fillna(0)\n",
    "print(SR_130)"
   ]
  },
  {
   "cell_type": "code",
   "execution_count": null,
   "metadata": {},
   "outputs": [],
   "source": []
  }
 ],
 "metadata": {
  "kernelspec": {
   "display_name": "Python 3",
   "language": "python",
   "name": "python3"
  },
  "language_info": {
   "codemirror_mode": {
    "name": "ipython",
    "version": 3
   },
   "file_extension": ".py",
   "mimetype": "text/x-python",
   "name": "python",
   "nbconvert_exporter": "python",
   "pygments_lexer": "ipython3",
   "version": "3.7.0"
  }
 },
 "nbformat": 4,
 "nbformat_minor": 4
}
