{
 "cells": [
  {
   "cell_type": "code",
   "execution_count": 1,
   "metadata": {},
   "outputs": [],
   "source": [
    "from pandas import *\n",
    "df = read_csv(r'C:\\Users\\harsi\\OneDrive\\Desktop\\WPL Datasets\\deliveries.csv')"
   ]
  },
  {
   "cell_type": "code",
   "execution_count": 28,
   "metadata": {
    "scrolled": true
   },
   "outputs": [],
   "source": [
    "def times(player):\n",
    "    bowler = df.loc[(df['bowler'] == player)]\n",
    "    runs = bowler.groupby('match_id').agg({'batsman_runs':['sum']})\n",
    "    runs.columns = ['runs']\n",
    "    balls = bowler.loc[(bowler['wide_runs'] == 0) & (bowler['noball_runs'] == 0)]\n",
    "    boundary = bowler.loc[(bowler['batsman_runs'].isin([4,6]))]\n",
    "    N_boundary = bowler.groupby('match_id').count()\n",
    "    N_boundary = N_boundary.rename(columns = {'batsman_runs':'boundaries'})\n",
    "    N_boundary = N_boundary[['boundaries']]\n",
    "    N_balls = balls.groupby('match_id').count()\n",
    "    N_balls = N_balls[['ball']]\n",
    "    dot_balls = balls.loc[(balls['batsman_runs'] == 0)]\n",
    "    N_dot_balls = dot_balls.groupby('match_id').count()\n",
    "    N_dot_balls = N_dot_balls.rename(columns = {'ball':'dot_balls'})\n",
    "    N_dot_balls = N_dot_balls[['dot_balls']]\n",
    "    result = concat([runs, N_balls, N_dot_balls, N_boundary], axis = 1).fillna(0)\n",
    "    result['Economy'] = result['runs']/(result['ball']/6)\n",
    "    result = result.loc[(result['ball'] > 12) & (result['Economy'] < 8) & (result['boundaries'] < 4) & (result['dot_balls'] > 8)]\n",
    "    result = result.groupby('match_id').size().count()\n",
    "    return result"
   ]
  },
  {
   "cell_type": "code",
   "execution_count": 29,
   "metadata": {},
   "outputs": [
    {
     "name": "stdout",
     "output_type": "stream",
     "text": [
      "               Bowler  times\n",
      "0            S Dhawan      0\n",
      "1              P Shaw      0\n",
      "2             SS Iyer      0\n",
      "3             RR Pant      0\n",
      "4          MP Stoinis      0\n",
      "5           S Hetmyer      0\n",
      "6            HV Patel      0\n",
      "7            K Rabada      0\n",
      "8            AR Patel      0\n",
      "9            R Ashwin      0\n",
      "10            V Kohli      0\n",
      "11     AB de Villiers      0\n",
      "12  Washington Sundar      0\n",
      "13             S Dube      0\n",
      "14          CH Morris      0\n",
      "15     Mohammed Siraj      0\n",
      "16          YS Chahal      0\n",
      "17            N Saini      0\n"
     ]
    }
   ],
   "source": [
    "data =[]\n",
    "player = ['S Dhawan', 'P Shaw', 'SS Iyer', 'RR Pant', 'MP Stoinis', 'S Hetmyer', 'HV Patel', 'K Rabada', 'AR Patel', 'R Ashwin', 'V Kohli', 'AB de Villiers', 'Washington Sundar', 'S Dube', 'CH Morris', 'Mohammed Siraj', 'YS Chahal', 'N Saini']\n",
    "for i in player:\n",
    "    data.append([i, times(i)])\n",
    "condition = DataFrame(data, columns = ['Bowler', 'times']).fillna(0)\n",
    "print(condition)"
   ]
  },
  {
   "cell_type": "code",
   "execution_count": null,
   "metadata": {},
   "outputs": [],
   "source": []
  }
 ],
 "metadata": {
  "kernelspec": {
   "display_name": "Python 3",
   "language": "python",
   "name": "python3"
  },
  "language_info": {
   "codemirror_mode": {
    "name": "ipython",
    "version": 3
   },
   "file_extension": ".py",
   "mimetype": "text/x-python",
   "name": "python",
   "nbconvert_exporter": "python",
   "pygments_lexer": "ipython3",
   "version": "3.7.0"
  }
 },
 "nbformat": 4,
 "nbformat_minor": 4
}
