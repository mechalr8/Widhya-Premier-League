{
 "cells": [
  {
   "cell_type": "code",
   "execution_count": 1,
   "metadata": {},
   "outputs": [],
   "source": [
    "from pandas import *"
   ]
  },
  {
   "cell_type": "code",
   "execution_count": 2,
   "metadata": {
    "scrolled": true
   },
   "outputs": [
    {
     "name": "stdout",
     "output_type": "stream",
     "text": [
      "        match_id  inning         batting_team                 bowling_team  \\\n",
      "0              1       1  Sunrisers Hyderabad  Royal Challengers Bangalore   \n",
      "1              1       1  Sunrisers Hyderabad  Royal Challengers Bangalore   \n",
      "2              1       1  Sunrisers Hyderabad  Royal Challengers Bangalore   \n",
      "3              1       1  Sunrisers Hyderabad  Royal Challengers Bangalore   \n",
      "4              1       1  Sunrisers Hyderabad  Royal Challengers Bangalore   \n",
      "...          ...     ...                  ...                          ...   \n",
      "179073     11415       2  Chennai Super Kings               Mumbai Indians   \n",
      "179074     11415       2  Chennai Super Kings               Mumbai Indians   \n",
      "179075     11415       2  Chennai Super Kings               Mumbai Indians   \n",
      "179076     11415       2  Chennai Super Kings               Mumbai Indians   \n",
      "179077     11415       2  Chennai Super Kings               Mumbai Indians   \n",
      "\n",
      "        over  ball    batsman non_striker      bowler  is_super_over  ...  \\\n",
      "0          1     1  DA Warner    S Dhawan    TS Mills              0  ...   \n",
      "1          1     2  DA Warner    S Dhawan    TS Mills              0  ...   \n",
      "2          1     3  DA Warner    S Dhawan    TS Mills              0  ...   \n",
      "3          1     4  DA Warner    S Dhawan    TS Mills              0  ...   \n",
      "4          1     5  DA Warner    S Dhawan    TS Mills              0  ...   \n",
      "...      ...   ...        ...         ...         ...            ...  ...   \n",
      "179073    20     2  RA Jadeja   SR Watson  SL Malinga              0  ...   \n",
      "179074    20     3  SR Watson   RA Jadeja  SL Malinga              0  ...   \n",
      "179075    20     4  SR Watson   RA Jadeja  SL Malinga              0  ...   \n",
      "179076    20     5  SN Thakur   RA Jadeja  SL Malinga              0  ...   \n",
      "179077    20     6  SN Thakur   RA Jadeja  SL Malinga              0  ...   \n",
      "\n",
      "        bye_runs  legbye_runs  noball_runs  penalty_runs  batsman_runs  \\\n",
      "0              0            0            0             0             0   \n",
      "1              0            0            0             0             0   \n",
      "2              0            0            0             0             4   \n",
      "3              0            0            0             0             0   \n",
      "4              0            0            0             0             0   \n",
      "...          ...          ...          ...           ...           ...   \n",
      "179073         0            0            0             0             1   \n",
      "179074         0            0            0             0             2   \n",
      "179075         0            0            0             0             1   \n",
      "179076         0            0            0             0             2   \n",
      "179077         0            0            0             0             0   \n",
      "\n",
      "        extra_runs  total_runs  player_dismissed dismissal_kind    fielder  \n",
      "0                0           0               NaN            NaN        NaN  \n",
      "1                0           0               NaN            NaN        NaN  \n",
      "2                0           4               NaN            NaN        NaN  \n",
      "3                0           0               NaN            NaN        NaN  \n",
      "4                2           2               NaN            NaN        NaN  \n",
      "...            ...         ...               ...            ...        ...  \n",
      "179073           0           1               NaN            NaN        NaN  \n",
      "179074           0           2               NaN            NaN        NaN  \n",
      "179075           0           1         SR Watson        run out  KH Pandya  \n",
      "179076           0           2               NaN            NaN        NaN  \n",
      "179077           0           0         SN Thakur            lbw        NaN  \n",
      "\n",
      "[179078 rows x 21 columns]\n"
     ]
    }
   ],
   "source": [
    "df = read_csv(r'C:\\Users\\harsi\\OneDrive\\Desktop\\WPL Datasets\\deliveries.csv')\n",
    "print(df)"
   ]
  },
  {
   "cell_type": "code",
   "execution_count": 4,
   "metadata": {
    "scrolled": true
   },
   "outputs": [
    {
     "name": "stdout",
     "output_type": "stream",
     "text": [
      "        match_id  inning                 batting_team           bowling_team  \\\n",
      "10498         45       1  Royal Challengers Bangalore  Kolkata Knight Riders   \n",
      "10499         45       1  Royal Challengers Bangalore  Kolkata Knight Riders   \n",
      "10500         45       1  Royal Challengers Bangalore  Kolkata Knight Riders   \n",
      "10501         45       1  Royal Challengers Bangalore  Kolkata Knight Riders   \n",
      "10502         45       1  Royal Challengers Bangalore  Kolkata Knight Riders   \n",
      "...          ...     ...                          ...                    ...   \n",
      "173125     11326       1  Royal Challengers Bangalore  Kolkata Knight Riders   \n",
      "173126     11326       1  Royal Challengers Bangalore  Kolkata Knight Riders   \n",
      "173127     11326       1  Royal Challengers Bangalore  Kolkata Knight Riders   \n",
      "173128     11326       1  Royal Challengers Bangalore  Kolkata Knight Riders   \n",
      "173129     11326       1  Royal Challengers Bangalore  Kolkata Knight Riders   \n",
      "\n",
      "        over  ball        batsman non_striker     bowler  is_super_over  ...  \\\n",
      "10498     16     1  Mandeep Singh     TM Head  SP Narine              0  ...   \n",
      "10499     16     2        TM Head   KM Jadhav  SP Narine              0  ...   \n",
      "10500     16     3      KM Jadhav     TM Head  SP Narine              0  ...   \n",
      "10501     16     4        TM Head   KM Jadhav  SP Narine              0  ...   \n",
      "10502     16     5      KM Jadhav     TM Head  SP Narine              0  ...   \n",
      "...      ...   ...            ...         ...        ...            ...  ...   \n",
      "173125    20     2     MP Stoinis     V Kohli   H Gurney              0  ...   \n",
      "173126    20     3     MP Stoinis     V Kohli   H Gurney              0  ...   \n",
      "173127    20     4     MP Stoinis     V Kohli   H Gurney              0  ...   \n",
      "173128    20     5        V Kohli  MP Stoinis   H Gurney              0  ...   \n",
      "173129    20     6        V Kohli  MP Stoinis   H Gurney              0  ...   \n",
      "\n",
      "        bye_runs  legbye_runs  noball_runs  penalty_runs  batsman_runs  \\\n",
      "10498          0            0            0             0             0   \n",
      "10499          0            0            0             0             1   \n",
      "10500          0            0            0             0             1   \n",
      "10501          0            0            0             0             1   \n",
      "10502          0            0            0             0             0   \n",
      "...          ...          ...          ...           ...           ...   \n",
      "173125         0            0            0             0             4   \n",
      "173126         0            0            0             0             6   \n",
      "173127         0            0            0             0             1   \n",
      "173128         0            0            0             0             4   \n",
      "173129         0            0            0             0             0   \n",
      "\n",
      "        extra_runs  total_runs  player_dismissed dismissal_kind   fielder  \n",
      "10498            0           0     Mandeep Singh         caught  UT Yadav  \n",
      "10499            0           1               NaN            NaN       NaN  \n",
      "10500            0           1               NaN            NaN       NaN  \n",
      "10501            0           1               NaN            NaN       NaN  \n",
      "10502            0           0               NaN            NaN       NaN  \n",
      "...            ...         ...               ...            ...       ...  \n",
      "173125           0           4               NaN            NaN       NaN  \n",
      "173126           0           6               NaN            NaN       NaN  \n",
      "173127           0           1               NaN            NaN       NaN  \n",
      "173128           0           4               NaN            NaN       NaN  \n",
      "173129           0           0           V Kohli         caught    S Gill  \n",
      "\n",
      "[540 rows x 21 columns]\n"
     ]
    }
   ],
   "source": [
    "KKRvsRCB = df.loc[(df['batting_team'] == 'Royal Challengers Bangalore') & (df['bowling_team'] == 'Kolkata Knight Riders') & df['over'].isin(list(range(16,21)))]\n",
    "print(KKRvsRCB)"
   ]
  },
  {
   "cell_type": "code",
   "execution_count": 11,
   "metadata": {
    "scrolled": true
   },
   "outputs": [
    {
     "name": "stdout",
     "output_type": "stream",
     "text": [
      "         runs\n",
      "match_id     \n",
      "45         53\n",
      "60          1\n",
      "88         13\n",
      "134        45\n",
      "156        57\n",
      "178        46\n",
      "217        42\n",
      "258        23\n",
      "317        42\n",
      "344        56\n",
      "392        41\n",
      "441        31\n",
      "468        32\n",
      "506        59\n",
      "522        60\n",
      "606        73\n",
      "624        51\n",
      "7896       45\n",
      "7922       69\n",
      "11153      66\n",
      "11326      94\n"
     ]
    }
   ],
   "source": [
    "RCBruns = KKRvsRCB.groupby('match_id').agg({'total_runs':['sum']}).astype(int)\n",
    "RCBruns.columns = [['runs']]\n",
    "print(RCBruns)"
   ]
  },
  {
   "cell_type": "code",
   "execution_count": 7,
   "metadata": {},
   "outputs": [
    {
     "name": "stdout",
     "output_type": "stream",
     "text": [
      "21\n"
     ]
    }
   ],
   "source": [
    "N_KKRvsRCB = KKRvsRCB.groupby('match_id').size().count()\n",
    "print(N_KKRvsRCB)"
   ]
  },
  {
   "cell_type": "code",
   "execution_count": 16,
   "metadata": {},
   "outputs": [
    {
     "ename": "SyntaxError",
     "evalue": "invalid syntax (<ipython-input-16-ce99041d89df>, line 1)",
     "output_type": "error",
     "traceback": [
      "\u001b[1;36m  File \u001b[1;32m\"<ipython-input-16-ce99041d89df>\"\u001b[1;36m, line \u001b[1;32m1\u001b[0m\n\u001b[1;33m    5 5 7 4\u001b[0m\n\u001b[1;37m      ^\u001b[0m\n\u001b[1;31mSyntaxError\u001b[0m\u001b[1;31m:\u001b[0m invalid syntax\n"
     ]
    }
   ],
   "source": [
    "5 5 7 4"
   ]
  },
  {
   "cell_type": "code",
   "execution_count": null,
   "metadata": {},
   "outputs": [],
   "source": []
  }
 ],
 "metadata": {
  "kernelspec": {
   "display_name": "Python 3",
   "language": "python",
   "name": "python3"
  },
  "language_info": {
   "codemirror_mode": {
    "name": "ipython",
    "version": 3
   },
   "file_extension": ".py",
   "mimetype": "text/x-python",
   "name": "python",
   "nbconvert_exporter": "python",
   "pygments_lexer": "ipython3",
   "version": "3.9.0"
  }
 },
 "nbformat": 4,
 "nbformat_minor": 4
}
