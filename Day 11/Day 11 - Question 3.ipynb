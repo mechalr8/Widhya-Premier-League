{
 "cells": [
  {
   "cell_type": "code",
   "execution_count": 1,
   "metadata": {},
   "outputs": [],
   "source": [
    "from pandas import *"
   ]
  },
  {
   "cell_type": "code",
   "execution_count": 2,
   "metadata": {
    "scrolled": true
   },
   "outputs": [
    {
     "name": "stdout",
     "output_type": "stream",
     "text": [
      "        match_id  inning         batting_team                 bowling_team  \\\n",
      "0              1       1  Sunrisers Hyderabad  Royal Challengers Bangalore   \n",
      "1              1       1  Sunrisers Hyderabad  Royal Challengers Bangalore   \n",
      "2              1       1  Sunrisers Hyderabad  Royal Challengers Bangalore   \n",
      "3              1       1  Sunrisers Hyderabad  Royal Challengers Bangalore   \n",
      "4              1       1  Sunrisers Hyderabad  Royal Challengers Bangalore   \n",
      "...          ...     ...                  ...                          ...   \n",
      "179073     11415       2  Chennai Super Kings               Mumbai Indians   \n",
      "179074     11415       2  Chennai Super Kings               Mumbai Indians   \n",
      "179075     11415       2  Chennai Super Kings               Mumbai Indians   \n",
      "179076     11415       2  Chennai Super Kings               Mumbai Indians   \n",
      "179077     11415       2  Chennai Super Kings               Mumbai Indians   \n",
      "\n",
      "        over  ball    batsman non_striker      bowler  is_super_over  ...  \\\n",
      "0          1     1  DA Warner    S Dhawan    TS Mills              0  ...   \n",
      "1          1     2  DA Warner    S Dhawan    TS Mills              0  ...   \n",
      "2          1     3  DA Warner    S Dhawan    TS Mills              0  ...   \n",
      "3          1     4  DA Warner    S Dhawan    TS Mills              0  ...   \n",
      "4          1     5  DA Warner    S Dhawan    TS Mills              0  ...   \n",
      "...      ...   ...        ...         ...         ...            ...  ...   \n",
      "179073    20     2  RA Jadeja   SR Watson  SL Malinga              0  ...   \n",
      "179074    20     3  SR Watson   RA Jadeja  SL Malinga              0  ...   \n",
      "179075    20     4  SR Watson   RA Jadeja  SL Malinga              0  ...   \n",
      "179076    20     5  SN Thakur   RA Jadeja  SL Malinga              0  ...   \n",
      "179077    20     6  SN Thakur   RA Jadeja  SL Malinga              0  ...   \n",
      "\n",
      "        bye_runs  legbye_runs  noball_runs  penalty_runs  batsman_runs  \\\n",
      "0              0            0            0             0             0   \n",
      "1              0            0            0             0             0   \n",
      "2              0            0            0             0             4   \n",
      "3              0            0            0             0             0   \n",
      "4              0            0            0             0             0   \n",
      "...          ...          ...          ...           ...           ...   \n",
      "179073         0            0            0             0             1   \n",
      "179074         0            0            0             0             2   \n",
      "179075         0            0            0             0             1   \n",
      "179076         0            0            0             0             2   \n",
      "179077         0            0            0             0             0   \n",
      "\n",
      "        extra_runs  total_runs  player_dismissed dismissal_kind    fielder  \n",
      "0                0           0               NaN            NaN        NaN  \n",
      "1                0           0               NaN            NaN        NaN  \n",
      "2                0           4               NaN            NaN        NaN  \n",
      "3                0           0               NaN            NaN        NaN  \n",
      "4                2           2               NaN            NaN        NaN  \n",
      "...            ...         ...               ...            ...        ...  \n",
      "179073           0           1               NaN            NaN        NaN  \n",
      "179074           0           2               NaN            NaN        NaN  \n",
      "179075           0           1         SR Watson        run out  KH Pandya  \n",
      "179076           0           2               NaN            NaN        NaN  \n",
      "179077           0           0         SN Thakur            lbw        NaN  \n",
      "\n",
      "[179078 rows x 21 columns]\n"
     ]
    }
   ],
   "source": [
    "df = read_csv(r'C:\\Users\\harsi\\OneDrive\\Desktop\\WPL Datasets\\deliveries.csv')\n",
    "print(df)"
   ]
  },
  {
   "cell_type": "code",
   "execution_count": 73,
   "metadata": {
    "scrolled": true
   },
   "outputs": [
    {
     "name": "stdout",
     "output_type": "stream",
     "text": [
      "        match_id  inning                 batting_team         bowling_team  \\\n",
      "1688           8       1  Royal Challengers Bangalore      Kings XI Punjab   \n",
      "1689           8       1  Royal Challengers Bangalore      Kings XI Punjab   \n",
      "1693           8       1  Royal Challengers Bangalore      Kings XI Punjab   \n",
      "1694           8       1  Royal Challengers Bangalore      Kings XI Punjab   \n",
      "1695           8       1  Royal Challengers Bangalore      Kings XI Punjab   \n",
      "...          ...     ...                          ...                  ...   \n",
      "176416     11340       1  Royal Challengers Bangalore     Rajasthan Royals   \n",
      "176417     11340       1  Royal Challengers Bangalore     Rajasthan Royals   \n",
      "176422     11340       1  Royal Challengers Bangalore     Rajasthan Royals   \n",
      "177526     11345       2  Royal Challengers Bangalore  Sunrisers Hyderabad   \n",
      "177533     11345       2  Royal Challengers Bangalore  Sunrisers Hyderabad   \n",
      "\n",
      "        over  ball         batsman   non_striker          bowler  \\\n",
      "1688       2     5  AB de Villiers  Vishnu Vinod  Sandeep Sharma   \n",
      "1689       2     6  AB de Villiers  Vishnu Vinod  Sandeep Sharma   \n",
      "1693       3     4  AB de Villiers  Vishnu Vinod       MM Sharma   \n",
      "1694       3     5  AB de Villiers  Vishnu Vinod       MM Sharma   \n",
      "1695       3     6  AB de Villiers  Vishnu Vinod       MM Sharma   \n",
      "...      ...   ...             ...           ...             ...   \n",
      "176416     1     5  AB de Villiers       V Kohli        VR Aaron   \n",
      "176417     1     6  AB de Villiers       V Kohli        VR Aaron   \n",
      "176422     2     5  AB de Villiers    MP Stoinis         S Gopal   \n",
      "177526     2     4  AB de Villiers       V Kohli         K Ahmed   \n",
      "177533     3     5  AB de Villiers     S Hetmyer         B Kumar   \n",
      "\n",
      "        is_super_over  ...  bye_runs  legbye_runs  noball_runs  penalty_runs  \\\n",
      "1688                0  ...         0            0            0             0   \n",
      "1689                0  ...         0            0            0             0   \n",
      "1693                0  ...         0            0            0             0   \n",
      "1694                0  ...         0            0            0             0   \n",
      "1695                0  ...         0            0            0             0   \n",
      "...               ...  ...       ...          ...          ...           ...   \n",
      "176416              0  ...         0            0            0             0   \n",
      "176417              0  ...         0            0            0             0   \n",
      "176422              0  ...         0            0            0             0   \n",
      "177526              0  ...         0            0            0             0   \n",
      "177533              0  ...         0            0            0             0   \n",
      "\n",
      "        batsman_runs  extra_runs  total_runs  player_dismissed dismissal_kind  \\\n",
      "1688               4           0           4               NaN            NaN   \n",
      "1689               0           0           0               NaN            NaN   \n",
      "1693               0           0           0               NaN            NaN   \n",
      "1694               0           0           0               NaN            NaN   \n",
      "1695               6           0           6               NaN            NaN   \n",
      "...              ...         ...         ...               ...            ...   \n",
      "176416             2           0           2               NaN            NaN   \n",
      "176417             4           0           4               NaN            NaN   \n",
      "176422             0           0           0    AB de Villiers         caught   \n",
      "177526             1           0           1               NaN            NaN   \n",
      "177533             0           0           0    AB de Villiers         caught   \n",
      "\n",
      "           fielder  \n",
      "1688           NaN  \n",
      "1689           NaN  \n",
      "1693           NaN  \n",
      "1694           NaN  \n",
      "1695           NaN  \n",
      "...            ...  \n",
      "176416         NaN  \n",
      "176417         NaN  \n",
      "176422     R Parag  \n",
      "177526         NaN  \n",
      "177533  MJ Guptill  \n",
      "\n",
      "[2395 rows x 21 columns]\n"
     ]
    }
   ],
   "source": [
    "KKRvsRCB = df.loc[(df['batting_team'] == 'Royal Challengers Bangalore') & (df['batsman'] == 'AB de Villiers')]\n",
    "print(KKRvsRCB)"
   ]
  },
  {
   "cell_type": "code",
   "execution_count": 74,
   "metadata": {
    "scrolled": true
   },
   "outputs": [
    {
     "name": "stdout",
     "output_type": "stream",
     "text": [
      "        match_id  over  ball  batsman_runs\n",
      "1688           8     2     5             4\n",
      "1689           8     2     6             0\n",
      "1693           8     3     4             0\n",
      "1694           8     3     5             0\n",
      "1695           8     3     6             6\n",
      "...          ...   ...   ...           ...\n",
      "176416     11340     1     5             2\n",
      "176417     11340     1     6             4\n",
      "176422     11340     2     5             0\n",
      "177526     11345     2     4             1\n",
      "177533     11345     3     5             0\n",
      "\n",
      "[2395 rows x 4 columns]\n"
     ]
    }
   ],
   "source": [
    "ABD = KKRvsRCB[['match_id', 'over', 'ball', 'batsman_runs']]\n",
    "print(ABD)"
   ]
  },
  {
   "cell_type": "code",
   "execution_count": 75,
   "metadata": {
    "scrolled": true
   },
   "outputs": [
    {
     "name": "stdout",
     "output_type": "stream",
     "text": [
      "1688       4\n",
      "1689       4\n",
      "1693       4\n",
      "1694       4\n",
      "1695      10\n",
      "          ..\n",
      "176416     6\n",
      "176417    10\n",
      "176422    10\n",
      "177526     1\n",
      "177533     1\n",
      "Name: batsman_runs, Length: 2395, dtype: int64\n"
     ]
    }
   ],
   "source": [
    "ABD_runs = ABD.groupby('match_id')['batsman_runs'].cumsum()\n",
    "print(ABD_runs)"
   ]
  },
  {
   "cell_type": "code",
   "execution_count": 76,
   "metadata": {},
   "outputs": [
    {
     "name": "stdout",
     "output_type": "stream",
     "text": [
      "        match_id  over  ball\n",
      "1688           8     2     5\n",
      "1689           8     2     6\n",
      "1693           8     3     4\n",
      "1694           8     3     5\n",
      "1695           8     3     6\n",
      "...          ...   ...   ...\n",
      "176416     11340     1     5\n",
      "176417     11340     1     6\n",
      "176422     11340     2     5\n",
      "177526     11345     2     4\n",
      "177533     11345     3     5\n",
      "\n",
      "[2395 rows x 3 columns]\n"
     ]
    }
   ],
   "source": [
    "runs = ABD.drop(['batsman_runs'], axis = 1)\n",
    "print(runs)"
   ]
  },
  {
   "cell_type": "code",
   "execution_count": 77,
   "metadata": {},
   "outputs": [
    {
     "name": "stdout",
     "output_type": "stream",
     "text": [
      "        match_id  over  ball  batsman_runs\n",
      "1688           8     2     5             4\n",
      "1689           8     2     6             4\n",
      "1693           8     3     4             4\n",
      "1694           8     3     5             4\n",
      "1695           8     3     6            10\n",
      "...          ...   ...   ...           ...\n",
      "176416     11340     1     5             6\n",
      "176417     11340     1     6            10\n",
      "176422     11340     2     5            10\n",
      "177526     11345     2     4             1\n",
      "177533     11345     3     5             1\n",
      "\n",
      "[2395 rows x 4 columns]\n"
     ]
    }
   ],
   "source": [
    "result = concat([runs, ABD_runs], axis=1)\n",
    "print(result)"
   ]
  },
  {
   "cell_type": "code",
   "execution_count": 78,
   "metadata": {
    "scrolled": false
   },
   "outputs": [
    {
     "name": "stdout",
     "output_type": "stream",
     "text": [
      "        match_id  over  ball  batsman_runs\n",
      "1753           8    13     3            30\n",
      "1758           8    14     2            30\n",
      "1759           8    14     3            31\n",
      "1768           8    15     6            31\n",
      "1771           8    16     3            37\n",
      "...          ...   ...   ...           ...\n",
      "174810     11333    19     4            72\n",
      "174811     11333    19     5            78\n",
      "174812     11333    19     6            79\n",
      "174813     11333    20     1            85\n",
      "174814     11333    20     2            86\n",
      "\n",
      "[765 rows x 4 columns]\n"
     ]
    }
   ],
   "source": [
    "final = result.loc[(result['batsman_runs']) >= 30]\n",
    "print(final)"
   ]
  },
  {
   "cell_type": "code",
   "execution_count": 81,
   "metadata": {
    "scrolled": true
   },
   "outputs": [
    {
     "name": "stdout",
     "output_type": "stream",
     "text": [
      "    match_id  over  ball  batsman_runs\n",
      "0          8    13     3            30\n",
      "1         37     9     5            30\n",
      "2        237    15     7            30\n",
      "3        242    15     3            30\n",
      "4        248    14     5            31\n",
      "5        296    12     1            30\n",
      "6        312    15     1            30\n",
      "7        329    20     4            32\n",
      "8        333    13     5            31\n",
      "9        338    17     6            30\n",
      "10       356    18     5            31\n",
      "11       396    15     2            33\n",
      "12       401    12     4            31\n",
      "13       411    19     4            31\n",
      "14       426    20     1            30\n",
      "15       438    19     4            31\n",
      "16       448    20     3            31\n",
      "17       462    12     1            30\n",
      "18       481    14     1            30\n",
      "19       488    14     1            35\n",
      "20       492    18     1            32\n",
      "21       495    15     1            33\n",
      "22       525    16     3            35\n",
      "23       534    13     4            31\n",
      "24       540    11     5            30\n",
      "25       546     7     2            31\n",
      "26       557    16     2            30\n",
      "27       562     9     3            31\n",
      "28       574    15     4            30\n",
      "29       580     8     5            30\n",
      "30       587     6     2            33\n",
      "31       592    10     5            31\n",
      "32       603    14     1            33\n",
      "33       615    16     3            32\n",
      "34       620     8     6            30\n",
      "35       624    15     6            34\n",
      "36       633    11     2            30\n",
      "37      7896    12     3            33\n",
      "38      7901    15     5            30\n",
      "39      7912    10     3            33\n",
      "40      7917    11     1            32\n",
      "41      7938    11     4            32\n",
      "42      7944     7     2            33\n",
      "43      7946     8     1            30\n",
      "44     11143    15     3            33\n",
      "45     11153    14     3            34\n",
      "46     11319    13     5            33\n",
      "47     11322    12     1            30\n",
      "48     11333    15     3            35\n"
     ]
    }
   ],
   "source": [
    "grouped_final = final.groupby('match_id')\n",
    "first_values = grouped_final.first()\n",
    "first_values = first_values.reset_index()\n",
    "print(first_values)"
   ]
  },
  {
   "cell_type": "code",
   "execution_count": 135,
   "metadata": {
    "scrolled": true
   },
   "outputs": [
    {
     "name": "stdout",
     "output_type": "stream",
     "text": [
      "          ball\n",
      "match_id      \n",
      "8           49\n",
      "37          28\n",
      "237         41\n",
      "242         37\n",
      "248         45\n",
      "296         27\n",
      "312         42\n",
      "329         14\n",
      "333         41\n",
      "338         24\n",
      "356         17\n",
      "396         33\n",
      "401         36\n",
      "411          9\n",
      "426         23\n",
      "438         17\n",
      "448         20\n",
      "462         48\n",
      "481         43\n",
      "488         28\n",
      "492         32\n",
      "495         17\n",
      "525         29\n",
      "534         12\n",
      "540         34\n",
      "546         47\n",
      "557         24\n",
      "562         61\n",
      "574         40\n",
      "580         44\n",
      "587         33\n",
      "592         46\n",
      "603         33\n",
      "615         35\n",
      "620         53\n",
      "624         32\n",
      "633         48\n",
      "7896        23\n",
      "7901        40\n",
      "7912        40\n",
      "7917        31\n",
      "7938        37\n",
      "7944        41\n",
      "7946        36\n",
      "11143       42\n",
      "11153       34\n",
      "11319       38\n",
      "11322       51\n",
      "11333       46\n"
     ]
    }
   ],
   "source": [
    "balls = result.groupby('match_id').count().reset_index()\n",
    "balls1 = balls.loc[balls['match_id'].isin(first_values['match_id'])]\n",
    "balls2 = balls1.groupby('match_id')\n",
    "balls3 = balls2.first()\n",
    "balls4 = balls3.drop(['over', 'batsman_runs'], axis = 1)\n",
    "print(balls4)"
   ]
  },
  {
   "cell_type": "code",
   "execution_count": 138,
   "metadata": {
    "scrolled": true
   },
   "outputs": [
    {
     "name": "stdout",
     "output_type": "stream",
     "text": [
      "          over  batsman_runs\n",
      "match_id                    \n",
      "8           13            30\n",
      "37           9            30\n",
      "237         15            30\n",
      "242         15            30\n",
      "248         14            31\n",
      "296         12            30\n",
      "312         15            30\n",
      "329         20            32\n",
      "333         13            31\n",
      "338         17            30\n",
      "356         18            31\n",
      "396         15            33\n",
      "401         12            31\n",
      "411         19            31\n",
      "426         20            30\n",
      "438         19            31\n",
      "448         20            31\n",
      "462         12            30\n",
      "481         14            30\n",
      "488         14            35\n",
      "492         18            32\n",
      "495         15            33\n",
      "525         16            35\n",
      "534         13            31\n",
      "540         11            30\n",
      "546          7            31\n",
      "557         16            30\n",
      "562          9            31\n",
      "574         15            30\n",
      "580          8            30\n",
      "587          6            33\n",
      "592         10            31\n",
      "603         14            33\n",
      "615         16            32\n",
      "620          8            30\n",
      "624         15            34\n",
      "633         11            30\n",
      "7896        12            33\n",
      "7901        15            30\n",
      "7912        10            33\n",
      "7917        11            32\n",
      "7938        11            32\n",
      "7944         7            33\n",
      "7946         8            30\n",
      "11143       15            33\n",
      "11153       14            34\n",
      "11319       13            33\n",
      "11322       12            30\n",
      "11333       15            35\n"
     ]
    }
   ],
   "source": [
    "first_values1 = first_values.groupby('match_id')\n",
    "first_values2 = first_values1.first()\n",
    "w_ball = first_values2.drop(['ball'], axis = 1)\n",
    "print(w_ball)"
   ]
  },
  {
   "cell_type": "code",
   "execution_count": 139,
   "metadata": {
    "scrolled": true
   },
   "outputs": [
    {
     "name": "stdout",
     "output_type": "stream",
     "text": [
      "          ball  over  batsman_runs\n",
      "match_id                          \n",
      "8           49    13            30\n",
      "37          28     9            30\n",
      "237         41    15            30\n",
      "242         37    15            30\n",
      "248         45    14            31\n",
      "296         27    12            30\n",
      "312         42    15            30\n",
      "329         14    20            32\n",
      "333         41    13            31\n",
      "338         24    17            30\n",
      "356         17    18            31\n",
      "396         33    15            33\n",
      "401         36    12            31\n",
      "411          9    19            31\n",
      "426         23    20            30\n",
      "438         17    19            31\n",
      "448         20    20            31\n",
      "462         48    12            30\n",
      "481         43    14            30\n",
      "488         28    14            35\n",
      "492         32    18            32\n",
      "495         17    15            33\n",
      "525         29    16            35\n",
      "534         12    13            31\n",
      "540         34    11            30\n",
      "546         47     7            31\n",
      "557         24    16            30\n",
      "562         61     9            31\n",
      "574         40    15            30\n",
      "580         44     8            30\n",
      "587         33     6            33\n",
      "592         46    10            31\n",
      "603         33    14            33\n",
      "615         35    16            32\n",
      "620         53     8            30\n",
      "624         32    15            34\n",
      "633         48    11            30\n",
      "7896        23    12            33\n",
      "7901        40    15            30\n",
      "7912        40    10            33\n",
      "7917        31    11            32\n",
      "7938        37    11            32\n",
      "7944        41     7            33\n",
      "7946        36     8            30\n",
      "11143       42    15            33\n",
      "11153       34    14            34\n",
      "11319       38    13            33\n",
      "11322       51    12            30\n",
      "11333       46    15            35\n"
     ]
    }
   ],
   "source": [
    "result1 = concat([balls4, w_ball], axis=1, join = 'outer')\n",
    "print(result1)"
   ]
  },
  {
   "cell_type": "code",
   "execution_count": 141,
   "metadata": {},
   "outputs": [
    {
     "name": "stdout",
     "output_type": "stream",
     "text": [
      "116\n"
     ]
    }
   ],
   "source": [
    "matches = KKRvsRCB.groupby('match_id').size().count()\n",
    "print(matches)"
   ]
  },
  {
   "cell_type": "code",
   "execution_count": 143,
   "metadata": {},
   "outputs": [
    {
     "name": "stdout",
     "output_type": "stream",
     "text": [
      "49\n"
     ]
    }
   ],
   "source": [
    "matches_30_or_more_score = result1.groupby('match_id').size().count()\n",
    "print(matches_30_or_more_score)"
   ]
  },
  {
   "cell_type": "code",
   "execution_count": 145,
   "metadata": {},
   "outputs": [
    {
     "name": "stdout",
     "output_type": "stream",
     "text": [
      "67\n"
     ]
    }
   ],
   "source": [
    "not_score_30_runs = matches - matches_30_or_more_score\n",
    "print(not_score_30_runs)"
   ]
  },
  {
   "cell_type": "code",
   "execution_count": 146,
   "metadata": {},
   "outputs": [
    {
     "name": "stdout",
     "output_type": "stream",
     "text": [
      "6\n"
     ]
    }
   ],
   "source": [
    "r1 = list(range(0,19))\n",
    "a = result1.loc[result1['ball'].isin(r1)]\n",
    "A = a.groupby('match_id').size().count()\n",
    "print(A)"
   ]
  },
  {
   "cell_type": "code",
   "execution_count": 147,
   "metadata": {},
   "outputs": [
    {
     "name": "stdout",
     "output_type": "stream",
     "text": [
      "5\n"
     ]
    }
   ],
   "source": [
    "r2 = list(range(18,25))\n",
    "b = result1.loc[result1['ball'].isin(r2)]\n",
    "B = b.groupby('match_id').size().count()\n",
    "print(B)"
   ]
  },
  {
   "cell_type": "code",
   "execution_count": 148,
   "metadata": {},
   "outputs": [
    {
     "name": "stdout",
     "output_type": "stream",
     "text": [
      "38\n"
     ]
    }
   ],
   "source": [
    "max_value = result1['ball'].max()\n",
    "r3 = list(range(25,max_value+1))\n",
    "c = result1.loc[result1['ball'].isin(r3)]\n",
    "C = c.groupby('match_id').size().count()\n",
    "print(C)"
   ]
  },
  {
   "cell_type": "code",
   "execution_count": null,
   "metadata": {},
   "outputs": [],
   "source": []
  }
 ],
 "metadata": {
  "kernelspec": {
   "display_name": "Python 3",
   "language": "python",
   "name": "python3"
  },
  "language_info": {
   "codemirror_mode": {
    "name": "ipython",
    "version": 3
   },
   "file_extension": ".py",
   "mimetype": "text/x-python",
   "name": "python",
   "nbconvert_exporter": "python",
   "pygments_lexer": "ipython3",
   "version": "3.9.0"
  }
 },
 "nbformat": 4,
 "nbformat_minor": 4
}
