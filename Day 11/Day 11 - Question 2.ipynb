{
 "cells": [
  {
   "cell_type": "code",
   "execution_count": 1,
   "metadata": {},
   "outputs": [],
   "source": [
    "from pandas import *"
   ]
  },
  {
   "cell_type": "code",
   "execution_count": 2,
   "metadata": {
    "scrolled": true
   },
   "outputs": [
    {
     "name": "stdout",
     "output_type": "stream",
     "text": [
      "        match_id  inning         batting_team                 bowling_team  \\\n",
      "0              1       1  Sunrisers Hyderabad  Royal Challengers Bangalore   \n",
      "1              1       1  Sunrisers Hyderabad  Royal Challengers Bangalore   \n",
      "2              1       1  Sunrisers Hyderabad  Royal Challengers Bangalore   \n",
      "3              1       1  Sunrisers Hyderabad  Royal Challengers Bangalore   \n",
      "4              1       1  Sunrisers Hyderabad  Royal Challengers Bangalore   \n",
      "...          ...     ...                  ...                          ...   \n",
      "179073     11415       2  Chennai Super Kings               Mumbai Indians   \n",
      "179074     11415       2  Chennai Super Kings               Mumbai Indians   \n",
      "179075     11415       2  Chennai Super Kings               Mumbai Indians   \n",
      "179076     11415       2  Chennai Super Kings               Mumbai Indians   \n",
      "179077     11415       2  Chennai Super Kings               Mumbai Indians   \n",
      "\n",
      "        over  ball    batsman non_striker      bowler  is_super_over  ...  \\\n",
      "0          1     1  DA Warner    S Dhawan    TS Mills              0  ...   \n",
      "1          1     2  DA Warner    S Dhawan    TS Mills              0  ...   \n",
      "2          1     3  DA Warner    S Dhawan    TS Mills              0  ...   \n",
      "3          1     4  DA Warner    S Dhawan    TS Mills              0  ...   \n",
      "4          1     5  DA Warner    S Dhawan    TS Mills              0  ...   \n",
      "...      ...   ...        ...         ...         ...            ...  ...   \n",
      "179073    20     2  RA Jadeja   SR Watson  SL Malinga              0  ...   \n",
      "179074    20     3  SR Watson   RA Jadeja  SL Malinga              0  ...   \n",
      "179075    20     4  SR Watson   RA Jadeja  SL Malinga              0  ...   \n",
      "179076    20     5  SN Thakur   RA Jadeja  SL Malinga              0  ...   \n",
      "179077    20     6  SN Thakur   RA Jadeja  SL Malinga              0  ...   \n",
      "\n",
      "        bye_runs  legbye_runs  noball_runs  penalty_runs  batsman_runs  \\\n",
      "0              0            0            0             0             0   \n",
      "1              0            0            0             0             0   \n",
      "2              0            0            0             0             4   \n",
      "3              0            0            0             0             0   \n",
      "4              0            0            0             0             0   \n",
      "...          ...          ...          ...           ...           ...   \n",
      "179073         0            0            0             0             1   \n",
      "179074         0            0            0             0             2   \n",
      "179075         0            0            0             0             1   \n",
      "179076         0            0            0             0             2   \n",
      "179077         0            0            0             0             0   \n",
      "\n",
      "        extra_runs  total_runs  player_dismissed dismissal_kind    fielder  \n",
      "0                0           0               NaN            NaN        NaN  \n",
      "1                0           0               NaN            NaN        NaN  \n",
      "2                0           4               NaN            NaN        NaN  \n",
      "3                0           0               NaN            NaN        NaN  \n",
      "4                2           2               NaN            NaN        NaN  \n",
      "...            ...         ...               ...            ...        ...  \n",
      "179073           0           1               NaN            NaN        NaN  \n",
      "179074           0           2               NaN            NaN        NaN  \n",
      "179075           0           1         SR Watson        run out  KH Pandya  \n",
      "179076           0           2               NaN            NaN        NaN  \n",
      "179077           0           0         SN Thakur            lbw        NaN  \n",
      "\n",
      "[179078 rows x 21 columns]\n"
     ]
    }
   ],
   "source": [
    "df = read_csv(r'C:\\Users\\harsi\\OneDrive\\Desktop\\WPL Datasets\\deliveries.csv')\n",
    "print(df)"
   ]
  },
  {
   "cell_type": "code",
   "execution_count": 4,
   "metadata": {
    "scrolled": true
   },
   "outputs": [
    {
     "name": "stdout",
     "output_type": "stream",
     "text": [
      "        match_id  inning                 batting_team           bowling_team  \\\n",
      "6408          27       2  Royal Challengers Bangalore  Kolkata Knight Riders   \n",
      "6409          27       2  Royal Challengers Bangalore  Kolkata Knight Riders   \n",
      "6410          27       2  Royal Challengers Bangalore  Kolkata Knight Riders   \n",
      "6411          27       2  Royal Challengers Bangalore  Kolkata Knight Riders   \n",
      "6412          27       2  Royal Challengers Bangalore  Kolkata Knight Riders   \n",
      "...          ...     ...                          ...                    ...   \n",
      "173125     11326       1  Royal Challengers Bangalore  Kolkata Knight Riders   \n",
      "173126     11326       1  Royal Challengers Bangalore  Kolkata Knight Riders   \n",
      "173127     11326       1  Royal Challengers Bangalore  Kolkata Knight Riders   \n",
      "173128     11326       1  Royal Challengers Bangalore  Kolkata Knight Riders   \n",
      "173129     11326       1  Royal Challengers Bangalore  Kolkata Knight Riders   \n",
      "\n",
      "        over  ball     batsman non_striker    bowler  is_super_over  ...  \\\n",
      "6408       6     1    CH Gayle   STR Binny  UT Yadav              0  ...   \n",
      "6409       6     2    CH Gayle   STR Binny  UT Yadav              0  ...   \n",
      "6410       6     3    CH Gayle   STR Binny  UT Yadav              0  ...   \n",
      "6411       6     4    CH Gayle   STR Binny  UT Yadav              0  ...   \n",
      "6412       6     5    CH Gayle   STR Binny  UT Yadav              0  ...   \n",
      "...      ...   ...         ...         ...       ...            ...  ...   \n",
      "173125    20     2  MP Stoinis     V Kohli  H Gurney              0  ...   \n",
      "173126    20     3  MP Stoinis     V Kohli  H Gurney              0  ...   \n",
      "173127    20     4  MP Stoinis     V Kohli  H Gurney              0  ...   \n",
      "173128    20     5     V Kohli  MP Stoinis  H Gurney              0  ...   \n",
      "173129    20     6     V Kohli  MP Stoinis  H Gurney              0  ...   \n",
      "\n",
      "        bye_runs  legbye_runs  noball_runs  penalty_runs  batsman_runs  \\\n",
      "6408           0            0            0             0             0   \n",
      "6409           0            0            0             0             0   \n",
      "6410           0            0            0             0             4   \n",
      "6411           0            2            0             0             0   \n",
      "6412           0            0            0             0             1   \n",
      "...          ...          ...          ...           ...           ...   \n",
      "173125         0            0            0             0             4   \n",
      "173126         0            0            0             0             6   \n",
      "173127         0            0            0             0             1   \n",
      "173128         0            0            0             0             4   \n",
      "173129         0            0            0             0             0   \n",
      "\n",
      "        extra_runs  total_runs  player_dismissed dismissal_kind fielder  \n",
      "6408             0           0               NaN            NaN     NaN  \n",
      "6409             0           0               NaN            NaN     NaN  \n",
      "6410             0           4               NaN            NaN     NaN  \n",
      "6411             2           2               NaN            NaN     NaN  \n",
      "6412             0           1               NaN            NaN     NaN  \n",
      "...            ...         ...               ...            ...     ...  \n",
      "173125           0           4               NaN            NaN     NaN  \n",
      "173126           0           6               NaN            NaN     NaN  \n",
      "173127           0           1               NaN            NaN     NaN  \n",
      "173128           0           4               NaN            NaN     NaN  \n",
      "173129           0           0           V Kohli         caught  S Gill  \n",
      "\n",
      "[1939 rows x 21 columns]\n"
     ]
    }
   ],
   "source": [
    "overs = list(range(6,21))\n",
    "KKRvsRCB = df.loc[(df['batting_team'] == 'Royal Challengers Bangalore') & (df['bowling_team'] == 'Kolkata Knight Riders') & df['over'].isin(overs)]\n",
    "print(KKRvsRCB)"
   ]
  },
  {
   "cell_type": "code",
   "execution_count": 6,
   "metadata": {
    "scrolled": true
   },
   "outputs": [
    {
     "name": "stdout",
     "output_type": "stream",
     "text": [
      "        match_id player_dismissed\n",
      "6416          27         CH Gayle\n",
      "6419          27        STR Binny\n",
      "6423          27           P Negi\n",
      "6429          27         S Badree\n",
      "6433          27         TS Mills\n",
      "...          ...              ...\n",
      "168774     11153          V Kohli\n",
      "168785     11153   AB de Villiers\n",
      "173059     11326          AD Nath\n",
      "173103     11326            M Ali\n",
      "173129     11326          V Kohli\n",
      "\n",
      "[100 rows x 2 columns]\n"
     ]
    }
   ],
   "source": [
    "RCB_wickets = KKRvsRCB[['match_id', 'player_dismissed']].dropna()\n",
    "print(RCB_wickets)"
   ]
  },
  {
   "cell_type": "code",
   "execution_count": 7,
   "metadata": {},
   "outputs": [
    {
     "name": "stdout",
     "output_type": "stream",
     "text": [
      "          player_dismissed\n",
      "match_id                  \n",
      "27                       6\n",
      "45                       3\n",
      "60                       7\n",
      "88                       2\n",
      "134                      5\n",
      "156                      4\n",
      "178                      5\n",
      "217                      2\n",
      "258                      1\n",
      "291                      5\n",
      "317                      7\n",
      "344                      5\n",
      "392                      1\n",
      "441                      8\n",
      "468                      5\n",
      "506                      4\n",
      "522                      6\n",
      "550                      1\n",
      "606                      6\n",
      "624                      1\n",
      "7896                     6\n",
      "7922                     4\n",
      "11153                    3\n",
      "11326                    3\n"
     ]
    }
   ],
   "source": [
    "N_wickets = RCB_wickets.groupby('match_id').count()\n",
    "print(N_wickets)"
   ]
  },
  {
   "cell_type": "code",
   "execution_count": 8,
   "metadata": {},
   "outputs": [
    {
     "name": "stdout",
     "output_type": "stream",
     "text": [
      "4\n"
     ]
    }
   ],
   "source": [
    "r1 = [0,1]\n",
    "a = N_wickets.loc[(N_wickets['player_dismissed'].isin(r1))]\n",
    "A = a.groupby('match_id').size().count()\n",
    "print(A)"
   ]
  },
  {
   "cell_type": "code",
   "execution_count": 9,
   "metadata": {},
   "outputs": [
    {
     "name": "stdout",
     "output_type": "stream",
     "text": [
      "5\n"
     ]
    }
   ],
   "source": [
    "r2 = [2,3]\n",
    "b = N_wickets.loc[(N_wickets['player_dismissed'].isin(r2))]\n",
    "B = b.groupby('match_id').size().count()\n",
    "print(B)"
   ]
  },
  {
   "cell_type": "code",
   "execution_count": 10,
   "metadata": {},
   "outputs": [
    {
     "name": "stdout",
     "output_type": "stream",
     "text": [
      "3\n"
     ]
    }
   ],
   "source": [
    "c = N_wickets.loc[(N_wickets['player_dismissed'] == 4)]\n",
    "C = c.groupby('match_id').size().count()\n",
    "print(C)"
   ]
  },
  {
   "cell_type": "code",
   "execution_count": 12,
   "metadata": {},
   "outputs": [
    {
     "name": "stdout",
     "output_type": "stream",
     "text": [
      "12\n"
     ]
    }
   ],
   "source": [
    "maxm = N_wickets['player_dismissed'].max()\n",
    "r4 = list(range(5,maxm+1))\n",
    "d = N_wickets.loc[(N_wickets['player_dismissed'].isin(r4))]\n",
    "D = d.groupby('match_id').size().count()\n",
    "print(D)"
   ]
  },
  {
   "cell_type": "code",
   "execution_count": null,
   "metadata": {},
   "outputs": [],
   "source": []
  }
 ],
 "metadata": {
  "kernelspec": {
   "display_name": "Python 3",
   "language": "python",
   "name": "python3"
  },
  "language_info": {
   "codemirror_mode": {
    "name": "ipython",
    "version": 3
   },
   "file_extension": ".py",
   "mimetype": "text/x-python",
   "name": "python",
   "nbconvert_exporter": "python",
   "pygments_lexer": "ipython3",
   "version": "3.9.0"
  }
 },
 "nbformat": 4,
 "nbformat_minor": 4
}
