{
 "cells": [
  {
   "cell_type": "code",
   "execution_count": 2,
   "metadata": {},
   "outputs": [],
   "source": [
    "from pandas import *"
   ]
  },
  {
   "cell_type": "code",
   "execution_count": 3,
   "metadata": {},
   "outputs": [],
   "source": [
    "df = read_csv(r'C:\\Users\\Asus\\Desktop\\WPL Datasets\\matches.csv')"
   ]
  },
  {
   "cell_type": "code",
   "execution_count": 4,
   "metadata": {
    "scrolled": true
   },
   "outputs": [
    {
     "name": "stdout",
     "output_type": "stream",
     "text": [
      "        id  season           city       date                        team1  \\\n",
      "0        1    2017      Hyderabad   4/5/2017          Sunrisers Hyderabad   \n",
      "1        2    2017           Pune   4/6/2017               Mumbai Indians   \n",
      "2        3    2017         Rajkot   4/7/2017                Gujarat Lions   \n",
      "3        4    2017         Indore   4/8/2017       Rising Pune Supergiant   \n",
      "4        5    2017      Bangalore   4/8/2017  Royal Challengers Bangalore   \n",
      "..     ...     ...            ...        ...                          ...   \n",
      "751  11347    2019         Mumbai   5/5/2019        Kolkata Knight Riders   \n",
      "752  11412    2019        Chennai   7/5/2019          Chennai Super Kings   \n",
      "753  11413    2019  Visakhapatnam   8/5/2019          Sunrisers Hyderabad   \n",
      "754  11414    2019  Visakhapatnam  10/5/2019               Delhi Capitals   \n",
      "755  11415    2019      Hyderabad  12/5/2019               Mumbai Indians   \n",
      "\n",
      "                           team2                  toss_winner toss_decision  \\\n",
      "0    Royal Challengers Bangalore  Royal Challengers Bangalore         field   \n",
      "1         Rising Pune Supergiant       Rising Pune Supergiant         field   \n",
      "2          Kolkata Knight Riders        Kolkata Knight Riders         field   \n",
      "3                Kings XI Punjab              Kings XI Punjab         field   \n",
      "4               Delhi Daredevils  Royal Challengers Bangalore           bat   \n",
      "..                           ...                          ...           ...   \n",
      "751               Mumbai Indians               Mumbai Indians         field   \n",
      "752               Mumbai Indians          Chennai Super Kings           bat   \n",
      "753               Delhi Capitals               Delhi Capitals         field   \n",
      "754          Chennai Super Kings          Chennai Super Kings         field   \n",
      "755          Chennai Super Kings               Mumbai Indians           bat   \n",
      "\n",
      "     result  dl_applied                       winner  win_by_runs  \\\n",
      "0    normal           0          Sunrisers Hyderabad           35   \n",
      "1    normal           0       Rising Pune Supergiant            0   \n",
      "2    normal           0        Kolkata Knight Riders            0   \n",
      "3    normal           0              Kings XI Punjab            0   \n",
      "4    normal           0  Royal Challengers Bangalore           15   \n",
      "..      ...         ...                          ...          ...   \n",
      "751  normal           0               Mumbai Indians            0   \n",
      "752  normal           0               Mumbai Indians            0   \n",
      "753  normal           0               Delhi Capitals            0   \n",
      "754  normal           0          Chennai Super Kings            0   \n",
      "755  normal           0               Mumbai Indians            1   \n",
      "\n",
      "     win_by_wickets player_of_match  \\\n",
      "0                 0    Yuvraj Singh   \n",
      "1                 7       SPD Smith   \n",
      "2                10         CA Lynn   \n",
      "3                 6      GJ Maxwell   \n",
      "4                 0       KM Jadhav   \n",
      "..              ...             ...   \n",
      "751               9       HH Pandya   \n",
      "752               6        AS Yadav   \n",
      "753               2         RR Pant   \n",
      "754               6    F du Plessis   \n",
      "755               0       JJ Bumrah   \n",
      "\n",
      "                                         venue         umpire1  \\\n",
      "0    Rajiv Gandhi International Stadium, Uppal     AY Dandekar   \n",
      "1      Maharashtra Cricket Association Stadium  A Nand Kishore   \n",
      "2       Saurashtra Cricket Association Stadium     Nitin Menon   \n",
      "3                       Holkar Cricket Stadium    AK Chaudhary   \n",
      "4                        M Chinnaswamy Stadium             NaN   \n",
      "..                                         ...             ...   \n",
      "751                           Wankhede Stadium   Nanda Kishore   \n",
      "752                  M. A. Chidambaram Stadium     Nigel Llong   \n",
      "753                           ACA-VDCA Stadium             NaN   \n",
      "754                           ACA-VDCA Stadium   Sundaram Ravi   \n",
      "755         Rajiv Gandhi Intl. Cricket Stadium     Nitin Menon   \n",
      "\n",
      "            umpire2                  umpire3  \n",
      "0          NJ Llong                      NaN  \n",
      "1            S Ravi                      NaN  \n",
      "2         CK Nandan                      NaN  \n",
      "3     C Shamshuddin                      NaN  \n",
      "4               NaN                      NaN  \n",
      "..              ...                      ...  \n",
      "751        O Nandan                   S Ravi  \n",
      "752     Nitin Menon                Ian Gould  \n",
      "753             NaN                      NaN  \n",
      "754  Bruce Oxenford  Chettithody Shamshuddin  \n",
      "755       Ian Gould              Nigel Llong  \n",
      "\n",
      "[756 rows x 18 columns]\n"
     ]
    }
   ],
   "source": [
    "print(df)"
   ]
  },
  {
   "cell_type": "code",
   "execution_count": 5,
   "metadata": {},
   "outputs": [
    {
     "name": "stdout",
     "output_type": "stream",
     "text": [
      "        id  season           city       date                team1  \\\n",
      "84      85    2008        Chennai   5/6/2008  Chennai Super Kings   \n",
      "113    114    2008      Hyderabad  5/27/2008      Deccan Chargers   \n",
      "130    131    2009         Durban  4/27/2009  Chennai Super Kings   \n",
      "143    144    2009    East London   5/4/2009  Chennai Super Kings   \n",
      "178    179    2010        Chennai  3/14/2010      Deccan Chargers   \n",
      "215    216    2010         Nagpur  4/10/2010  Chennai Super Kings   \n",
      "231    232    2010         Mumbai  4/22/2010  Chennai Super Kings   \n",
      "271    272    2011        Chennai   5/1/2011  Chennai Super Kings   \n",
      "312    313    2012  Visakhapatnam   4/7/2012  Chennai Super Kings   \n",
      "351    352    2012        Chennai   5/4/2012  Chennai Super Kings   \n",
      "413    414    2013        Chennai  4/25/2013  Sunrisers Hyderabad   \n",
      "434    435    2013      Hyderabad   5/8/2013  Chennai Super Kings   \n",
      "473    474    2014        Sharjah  4/27/2014  Sunrisers Hyderabad   \n",
      "506    507    2014         Ranchi  5/22/2014  Chennai Super Kings   \n",
      "520    521    2015        Chennai  4/11/2015  Chennai Super Kings   \n",
      "550    551    2015      Hyderabad   5/2/2015  Sunrisers Hyderabad   \n",
      "655   7913    2018      Hyderabad   22/04/18  Chennai Super Kings   \n",
      "681   7939    2018           Pune   13/05/18  Sunrisers Hyderabad   \n",
      "692   7950    2018         Mumbai   22/05/18  Sunrisers Hyderabad   \n",
      "695   7953    2018         Mumbai   27/05/18  Sunrisers Hyderabad   \n",
      "728  11324    2019      Hyderabad   17/04/19  Chennai Super Kings   \n",
      "736  11332    2019        Chennai   23/04/19  Sunrisers Hyderabad   \n",
      "\n",
      "                   team2          toss_winner toss_decision  result  \\\n",
      "84       Deccan Chargers      Deccan Chargers         field  normal   \n",
      "113  Chennai Super Kings      Deccan Chargers           bat  normal   \n",
      "130      Deccan Chargers      Deccan Chargers         field  normal   \n",
      "143      Deccan Chargers  Chennai Super Kings           bat  normal   \n",
      "178  Chennai Super Kings      Deccan Chargers           bat  normal   \n",
      "215      Deccan Chargers  Chennai Super Kings           bat  normal   \n",
      "231      Deccan Chargers  Chennai Super Kings           bat  normal   \n",
      "271      Deccan Chargers  Chennai Super Kings           bat  normal   \n",
      "312      Deccan Chargers      Deccan Chargers         field  normal   \n",
      "351      Deccan Chargers  Chennai Super Kings           bat  normal   \n",
      "413  Chennai Super Kings  Sunrisers Hyderabad           bat  normal   \n",
      "434  Sunrisers Hyderabad  Sunrisers Hyderabad         field  normal   \n",
      "473  Chennai Super Kings  Sunrisers Hyderabad           bat  normal   \n",
      "506  Sunrisers Hyderabad  Sunrisers Hyderabad         field  normal   \n",
      "520  Sunrisers Hyderabad  Chennai Super Kings           bat  normal   \n",
      "550  Chennai Super Kings  Chennai Super Kings         field  normal   \n",
      "655  Sunrisers Hyderabad  Sunrisers Hyderabad         field  normal   \n",
      "681  Chennai Super Kings  Chennai Super Kings         field  normal   \n",
      "692  Chennai Super Kings  Chennai Super Kings         field  normal   \n",
      "695  Chennai Super Kings  Chennai Super Kings         field  normal   \n",
      "728  Sunrisers Hyderabad  Chennai Super Kings           bat  normal   \n",
      "736  Chennai Super Kings  Chennai Super Kings         field  normal   \n",
      "\n",
      "     dl_applied               winner  win_by_runs  win_by_wickets  \\\n",
      "84            0      Deccan Chargers            0               7   \n",
      "113           0  Chennai Super Kings            0               7   \n",
      "130           0      Deccan Chargers            0               6   \n",
      "143           0  Chennai Super Kings           78               0   \n",
      "178           0      Deccan Chargers           31               0   \n",
      "215           0      Deccan Chargers            0               6   \n",
      "231           0  Chennai Super Kings           38               0   \n",
      "271           0  Chennai Super Kings           19               0   \n",
      "312           0  Chennai Super Kings           74               0   \n",
      "351           0  Chennai Super Kings           10               0   \n",
      "413           0  Chennai Super Kings            0               5   \n",
      "434           0  Chennai Super Kings           77               0   \n",
      "473           0  Chennai Super Kings            0               5   \n",
      "506           0  Sunrisers Hyderabad            0               6   \n",
      "520           0  Chennai Super Kings           45               0   \n",
      "550           0  Sunrisers Hyderabad           22               0   \n",
      "655           0  Chennai Super Kings            4               0   \n",
      "681           0  Chennai Super Kings            0               8   \n",
      "692           0  Chennai Super Kings            0               2   \n",
      "695           0  Chennai Super Kings            0               8   \n",
      "728           0  Sunrisers Hyderabad            0               6   \n",
      "736           0  Chennai Super Kings            0               6   \n",
      "\n",
      "    player_of_match                                              venue  \\\n",
      "84     AC Gilchrist                    MA Chidambaram Stadium, Chepauk   \n",
      "113        SK Raina          Rajiv Gandhi International Stadium, Uppal   \n",
      "130        HH Gibbs                                          Kingsmead   \n",
      "143        MS Dhoni                                       Buffalo Park   \n",
      "178      WPUJC Vaas                    MA Chidambaram Stadium, Chepauk   \n",
      "215       RJ Harris       Vidarbha Cricket Association Stadium, Jamtha   \n",
      "231    DE Bollinger                         Dr DY Patil Sports Academy   \n",
      "271       JA Morkel                    MA Chidambaram Stadium, Chepauk   \n",
      "312       RA Jadeja  Dr. Y.S. Rajasekhara Reddy ACA-VDCA Cricket St...   \n",
      "351        SK Raina                    MA Chidambaram Stadium, Chepauk   \n",
      "413        MS Dhoni                    MA Chidambaram Stadium, Chepauk   \n",
      "434        SK Raina          Rajiv Gandhi International Stadium, Uppal   \n",
      "473        DR Smith                            Sharjah Cricket Stadium   \n",
      "506       DA Warner                 JSCA International Stadium Complex   \n",
      "520     BB McCullum                    MA Chidambaram Stadium, Chepauk   \n",
      "550       DA Warner          Rajiv Gandhi International Stadium, Uppal   \n",
      "655       AT Rayudu          Rajiv Gandhi International Stadium, Uppal   \n",
      "681       AT Rayudu            Maharashtra Cricket Association Stadium   \n",
      "692    F du Plessis                                   Wankhede Stadium   \n",
      "695       SR Watson                                   Wankhede Stadium   \n",
      "728       DA Warner                 Rajiv Gandhi Intl. Cricket Stadium   \n",
      "736       SR Watson                          M. A. Chidambaram Stadium   \n",
      "\n",
      "             umpire1          umpire2          umpire3  \n",
      "84         MR Benson        RB Tiffin              NaN  \n",
      "113       BG Jerling        AM Saheba              NaN  \n",
      "130        IL Howell   TH Wijewardene              NaN  \n",
      "143      BR Doctrove        M Erasmus              NaN  \n",
      "178      K Hariharan        DJ Harper              NaN  \n",
      "215  HDPK Dharmasena       SJA Taufel              NaN  \n",
      "231      BR Doctrove        RB Tiffin              NaN  \n",
      "271        Aleem Dar        RB Tiffin              NaN  \n",
      "312        JD Cloete  HDPK Dharmasena              NaN  \n",
      "351  HDPK Dharmasena     BNJ Oxenford              NaN  \n",
      "413        Aleem Dar            S Das              NaN  \n",
      "434            S Das         NJ Llong              NaN  \n",
      "473     AK Chaudhary      VA Kulkarni              NaN  \n",
      "506     BNJ Oxenford    C Shamshuddin              NaN  \n",
      "520   RK Illingworth      VA Kulkarni              NaN  \n",
      "550     AK Chaudhary     K Srinivasan              NaN  \n",
      "655   Anil Chaudhary  Vineet Kulkarni      Nigel Llong  \n",
      "681   Marais Erasmus   Yeshwant Barde    Anil Dandekar  \n",
      "692   Marais Erasmus    C Shamshuddin           S Ravi  \n",
      "695   Marais Erasmus           S Ravi      Nitin Menon  \n",
      "728        Ian Gould     Ulhas Gandhe    C Shamshuddin  \n",
      "736      Nigel Llong   Anil Chaudhary  Vineet Kulkarni  \n"
     ]
    }
   ],
   "source": [
    "team = ['Deccan Chargers', 'Sunrisers Hyderabad', 'Chennai Super Kings']\n",
    "SRHvsCSK = df.loc[df['team1'].isin(team) & df['team2'].isin(team)]\n",
    "print(SRHvsCSK)"
   ]
  },
  {
   "cell_type": "code",
   "execution_count": 6,
   "metadata": {},
   "outputs": [
    {
     "name": "stdout",
     "output_type": "stream",
     "text": [
      "TOTAL MATCHES PLAYED BETWEEN SRH AND CSK: 22\n"
     ]
    }
   ],
   "source": [
    "total_matches = SRHvsCSK.groupby('id').size().count()\n",
    "print(\"TOTAL MATCHES PLAYED BETWEEN SRH AND CSK:\",total_matches)"
   ]
  },
  {
   "cell_type": "code",
   "execution_count": 7,
   "metadata": {
    "scrolled": true
   },
   "outputs": [
    {
     "name": "stdout",
     "output_type": "stream",
     "text": [
      "SRH WON 7 Matches\n"
     ]
    }
   ],
   "source": [
    "WinSRH = SRHvsCSK.loc[(df['winner'] == 'Sunrisers Hyderabad') | (df['winner'] == 'Deccan Chargers')]\n",
    "TimesWinSRH = WinSRH.groupby('id').size().count()\n",
    "print(\"SRH WON\",TimesWinSRH,\"Matches\")"
   ]
  },
  {
   "cell_type": "code",
   "execution_count": 8,
   "metadata": {},
   "outputs": [
    {
     "name": "stdout",
     "output_type": "stream",
     "text": [
      "CSK WON 15 MATCHES\n"
     ]
    }
   ],
   "source": [
    "WinCSK = SRHvsCSK.loc[(df['winner'] == 'Chennai Super Kings')]\n",
    "TimesWinCSK = WinCSK.groupby('id').size().count()\n",
    "print(\"CSK WON\",TimesWinCSK,\"MATCHES\")"
   ]
  },
  {
   "cell_type": "code",
   "execution_count": null,
   "metadata": {},
   "outputs": [],
   "source": []
  }
 ],
 "metadata": {
  "kernelspec": {
   "display_name": "Python 3",
   "language": "python",
   "name": "python3"
  },
  "language_info": {
   "codemirror_mode": {
    "name": "ipython",
    "version": 3
   },
   "file_extension": ".py",
   "mimetype": "text/x-python",
   "name": "python",
   "nbconvert_exporter": "python",
   "pygments_lexer": "ipython3",
   "version": "3.7.4"
  }
 },
 "nbformat": 4,
 "nbformat_minor": 4
}
