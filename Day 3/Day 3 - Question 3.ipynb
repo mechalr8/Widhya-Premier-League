{
 "cells": [
  {
   "cell_type": "code",
   "execution_count": 2,
   "metadata": {},
   "outputs": [],
   "source": [
    "from pandas import *"
   ]
  },
  {
   "cell_type": "code",
   "execution_count": 3,
   "metadata": {},
   "outputs": [],
   "source": [
    "df = read_csv(r'C:\\Users\\Asus\\Desktop\\WPL Datasets\\deliveries.csv')"
   ]
  },
  {
   "cell_type": "code",
   "execution_count": 4,
   "metadata": {
    "scrolled": true
   },
   "outputs": [
    {
     "name": "stdout",
     "output_type": "stream",
     "text": [
      "        match_id  inning         batting_team                 bowling_team  \\\n",
      "0              1       1  Sunrisers Hyderabad  Royal Challengers Bangalore   \n",
      "1              1       1  Sunrisers Hyderabad  Royal Challengers Bangalore   \n",
      "2              1       1  Sunrisers Hyderabad  Royal Challengers Bangalore   \n",
      "3              1       1  Sunrisers Hyderabad  Royal Challengers Bangalore   \n",
      "4              1       1  Sunrisers Hyderabad  Royal Challengers Bangalore   \n",
      "...          ...     ...                  ...                          ...   \n",
      "179073     11415       2  Chennai Super Kings               Mumbai Indians   \n",
      "179074     11415       2  Chennai Super Kings               Mumbai Indians   \n",
      "179075     11415       2  Chennai Super Kings               Mumbai Indians   \n",
      "179076     11415       2  Chennai Super Kings               Mumbai Indians   \n",
      "179077     11415       2  Chennai Super Kings               Mumbai Indians   \n",
      "\n",
      "        over  ball    batsman non_striker      bowler  is_super_over  ...  \\\n",
      "0          1     1  DA Warner    S Dhawan    TS Mills              0  ...   \n",
      "1          1     2  DA Warner    S Dhawan    TS Mills              0  ...   \n",
      "2          1     3  DA Warner    S Dhawan    TS Mills              0  ...   \n",
      "3          1     4  DA Warner    S Dhawan    TS Mills              0  ...   \n",
      "4          1     5  DA Warner    S Dhawan    TS Mills              0  ...   \n",
      "...      ...   ...        ...         ...         ...            ...  ...   \n",
      "179073    20     2  RA Jadeja   SR Watson  SL Malinga              0  ...   \n",
      "179074    20     3  SR Watson   RA Jadeja  SL Malinga              0  ...   \n",
      "179075    20     4  SR Watson   RA Jadeja  SL Malinga              0  ...   \n",
      "179076    20     5  SN Thakur   RA Jadeja  SL Malinga              0  ...   \n",
      "179077    20     6  SN Thakur   RA Jadeja  SL Malinga              0  ...   \n",
      "\n",
      "        bye_runs  legbye_runs  noball_runs  penalty_runs  batsman_runs  \\\n",
      "0              0            0            0             0             0   \n",
      "1              0            0            0             0             0   \n",
      "2              0            0            0             0             4   \n",
      "3              0            0            0             0             0   \n",
      "4              0            0            0             0             0   \n",
      "...          ...          ...          ...           ...           ...   \n",
      "179073         0            0            0             0             1   \n",
      "179074         0            0            0             0             2   \n",
      "179075         0            0            0             0             1   \n",
      "179076         0            0            0             0             2   \n",
      "179077         0            0            0             0             0   \n",
      "\n",
      "        extra_runs  total_runs  player_dismissed dismissal_kind    fielder  \n",
      "0                0           0               NaN            NaN        NaN  \n",
      "1                0           0               NaN            NaN        NaN  \n",
      "2                0           4               NaN            NaN        NaN  \n",
      "3                0           0               NaN            NaN        NaN  \n",
      "4                2           2               NaN            NaN        NaN  \n",
      "...            ...         ...               ...            ...        ...  \n",
      "179073           0           1               NaN            NaN        NaN  \n",
      "179074           0           2               NaN            NaN        NaN  \n",
      "179075           0           1         SR Watson        run out  KH Pandya  \n",
      "179076           0           2               NaN            NaN        NaN  \n",
      "179077           0           0         SN Thakur            lbw        NaN  \n",
      "\n",
      "[179078 rows x 21 columns]\n"
     ]
    }
   ],
   "source": [
    "print(df)"
   ]
  },
  {
   "cell_type": "code",
   "execution_count": 6,
   "metadata": {
    "scrolled": true
   },
   "outputs": [
    {
     "name": "stdout",
     "output_type": "stream",
     "text": [
      "        match_id  inning         batting_team         bowling_team  over  \\\n",
      "19788         85       1  Chennai Super Kings      Deccan Chargers     1   \n",
      "19789         85       1  Chennai Super Kings      Deccan Chargers     1   \n",
      "19790         85       1  Chennai Super Kings      Deccan Chargers     1   \n",
      "19791         85       1  Chennai Super Kings      Deccan Chargers     1   \n",
      "19792         85       1  Chennai Super Kings      Deccan Chargers     1   \n",
      "...          ...     ...                  ...                  ...   ...   \n",
      "174689     11332       2  Chennai Super Kings  Sunrisers Hyderabad    20   \n",
      "174690     11332       2  Chennai Super Kings  Sunrisers Hyderabad    20   \n",
      "174691     11332       2  Chennai Super Kings  Sunrisers Hyderabad    20   \n",
      "174692     11332       2  Chennai Super Kings  Sunrisers Hyderabad    20   \n",
      "174693     11332       2  Chennai Super Kings  Sunrisers Hyderabad    20   \n",
      "\n",
      "        ball    batsman non_striker         bowler  is_super_over  ...  \\\n",
      "19788      1   PA Patel  SP Fleming  DP Vijaykumar              0  ...   \n",
      "19789      2   PA Patel  SP Fleming  DP Vijaykumar              0  ...   \n",
      "19790      3   PA Patel  SP Fleming  DP Vijaykumar              0  ...   \n",
      "19791      4   PA Patel  SP Fleming  DP Vijaykumar              0  ...   \n",
      "19792      5   PA Patel  SP Fleming  DP Vijaykumar              0  ...   \n",
      "...      ...        ...         ...            ...            ...  ...   \n",
      "174689     1  AT Rayudu   KM Jadhav       S Sharma              0  ...   \n",
      "174690     2  KM Jadhav   AT Rayudu       S Sharma              0  ...   \n",
      "174691     3  KM Jadhav   AT Rayudu       S Sharma              0  ...   \n",
      "174692     4  AT Rayudu   KM Jadhav       S Sharma              0  ...   \n",
      "174693     5  KM Jadhav    DJ Bravo       S Sharma              0  ...   \n",
      "\n",
      "        bye_runs  legbye_runs  noball_runs  penalty_runs  batsman_runs  \\\n",
      "19788          0            0            0             0             0   \n",
      "19789          0            0            0             0             0   \n",
      "19790          0            0            0             0             4   \n",
      "19791          0            0            0             0             0   \n",
      "19792          0            0            0             0             0   \n",
      "...          ...          ...          ...           ...           ...   \n",
      "174689         0            0            0             0             1   \n",
      "174690         0            0            0             0             6   \n",
      "174691         0            0            0             0             1   \n",
      "174692         0            0            0             0             0   \n",
      "174693         0            0            0             0             1   \n",
      "\n",
      "        extra_runs  total_runs  player_dismissed dismissal_kind    fielder  \n",
      "19788            0           0               NaN            NaN        NaN  \n",
      "19789            0           0               NaN            NaN        NaN  \n",
      "19790            0           4               NaN            NaN        NaN  \n",
      "19791            0           0               NaN            NaN        NaN  \n",
      "19792            0           0               NaN            NaN        NaN  \n",
      "...            ...         ...               ...            ...        ...  \n",
      "174689           0           1               NaN            NaN        NaN  \n",
      "174690           0           6               NaN            NaN        NaN  \n",
      "174691           0           1               NaN            NaN        NaN  \n",
      "174692           0           0         AT Rayudu         caught  V Shankar  \n",
      "174693           0           1               NaN            NaN        NaN  \n",
      "\n",
      "[5343 rows x 21 columns]\n"
     ]
    }
   ],
   "source": [
    "team = ['Deccan Chargers', 'Sunrisers Hyderabad', 'Chennai Super Kings']\n",
    "rslt_df = df.loc[df['batting_team'].isin(team) & df['bowling_team'].isin(team)]\n",
    "print(rslt_df)"
   ]
  },
  {
   "cell_type": "code",
   "execution_count": 8,
   "metadata": {
    "scrolled": true
   },
   "outputs": [
    {
     "name": "stdout",
     "output_type": "stream",
     "text": [
      "        match_id  inning         batting_team         bowling_team  over  \\\n",
      "19788         85       1  Chennai Super Kings      Deccan Chargers     1   \n",
      "19789         85       1  Chennai Super Kings      Deccan Chargers     1   \n",
      "19790         85       1  Chennai Super Kings      Deccan Chargers     1   \n",
      "19791         85       1  Chennai Super Kings      Deccan Chargers     1   \n",
      "19792         85       1  Chennai Super Kings      Deccan Chargers     1   \n",
      "...          ...     ...                  ...                  ...   ...   \n",
      "174689     11332       2  Chennai Super Kings  Sunrisers Hyderabad    20   \n",
      "174690     11332       2  Chennai Super Kings  Sunrisers Hyderabad    20   \n",
      "174691     11332       2  Chennai Super Kings  Sunrisers Hyderabad    20   \n",
      "174692     11332       2  Chennai Super Kings  Sunrisers Hyderabad    20   \n",
      "174693     11332       2  Chennai Super Kings  Sunrisers Hyderabad    20   \n",
      "\n",
      "        ball    batsman non_striker         bowler  is_super_over  ...  \\\n",
      "19788      1   PA Patel  SP Fleming  DP Vijaykumar              0  ...   \n",
      "19789      2   PA Patel  SP Fleming  DP Vijaykumar              0  ...   \n",
      "19790      3   PA Patel  SP Fleming  DP Vijaykumar              0  ...   \n",
      "19791      4   PA Patel  SP Fleming  DP Vijaykumar              0  ...   \n",
      "19792      5   PA Patel  SP Fleming  DP Vijaykumar              0  ...   \n",
      "...      ...        ...         ...            ...            ...  ...   \n",
      "174689     1  AT Rayudu   KM Jadhav       S Sharma              0  ...   \n",
      "174690     2  KM Jadhav   AT Rayudu       S Sharma              0  ...   \n",
      "174691     3  KM Jadhav   AT Rayudu       S Sharma              0  ...   \n",
      "174692     4  AT Rayudu   KM Jadhav       S Sharma              0  ...   \n",
      "174693     5  KM Jadhav    DJ Bravo       S Sharma              0  ...   \n",
      "\n",
      "        bye_runs  legbye_runs  noball_runs  penalty_runs  batsman_runs  \\\n",
      "19788          0            0            0             0             0   \n",
      "19789          0            0            0             0             0   \n",
      "19790          0            0            0             0             4   \n",
      "19791          0            0            0             0             0   \n",
      "19792          0            0            0             0             0   \n",
      "...          ...          ...          ...           ...           ...   \n",
      "174689         0            0            0             0             1   \n",
      "174690         0            0            0             0             6   \n",
      "174691         0            0            0             0             1   \n",
      "174692         0            0            0             0             0   \n",
      "174693         0            0            0             0             1   \n",
      "\n",
      "        extra_runs  total_runs  player_dismissed dismissal_kind    fielder  \n",
      "19788            0           0               NaN            NaN        NaN  \n",
      "19789            0           0               NaN            NaN        NaN  \n",
      "19790            0           4               NaN            NaN        NaN  \n",
      "19791            0           0               NaN            NaN        NaN  \n",
      "19792            0           0               NaN            NaN        NaN  \n",
      "...            ...         ...               ...            ...        ...  \n",
      "174689           0           1               NaN            NaN        NaN  \n",
      "174690           0           6               NaN            NaN        NaN  \n",
      "174691           0           1               NaN            NaN        NaN  \n",
      "174692           0           0         AT Rayudu         caught  V Shankar  \n",
      "174693           0           1               NaN            NaN        NaN  \n",
      "\n",
      "[5343 rows x 21 columns]\n"
     ]
    }
   ],
   "source": [
    "rslt_df.to_csv (r'C:\\Users\\Asus\\Desktop\\WPL Datasets\\Hyderabad vs Chennai deliveries.csv', index = False, header = True)\n",
    "print(rslt_df)"
   ]
  },
  {
   "cell_type": "code",
   "execution_count": 9,
   "metadata": {
    "scrolled": true
   },
   "outputs": [
    {
     "name": "stdout",
     "output_type": "stream",
     "text": [
      "      match_id  inning         batting_team         bowling_team  over  ball  \\\n",
      "0           85       1  Chennai Super Kings      Deccan Chargers     1     1   \n",
      "1           85       1  Chennai Super Kings      Deccan Chargers     1     2   \n",
      "2           85       1  Chennai Super Kings      Deccan Chargers     1     3   \n",
      "3           85       1  Chennai Super Kings      Deccan Chargers     1     4   \n",
      "4           85       1  Chennai Super Kings      Deccan Chargers     1     5   \n",
      "...        ...     ...                  ...                  ...   ...   ...   \n",
      "5338     11332       2  Chennai Super Kings  Sunrisers Hyderabad    20     1   \n",
      "5339     11332       2  Chennai Super Kings  Sunrisers Hyderabad    20     2   \n",
      "5340     11332       2  Chennai Super Kings  Sunrisers Hyderabad    20     3   \n",
      "5341     11332       2  Chennai Super Kings  Sunrisers Hyderabad    20     4   \n",
      "5342     11332       2  Chennai Super Kings  Sunrisers Hyderabad    20     5   \n",
      "\n",
      "        batsman non_striker         bowler  is_super_over  ...  bye_runs  \\\n",
      "0      PA Patel  SP Fleming  DP Vijaykumar              0  ...         0   \n",
      "1      PA Patel  SP Fleming  DP Vijaykumar              0  ...         0   \n",
      "2      PA Patel  SP Fleming  DP Vijaykumar              0  ...         0   \n",
      "3      PA Patel  SP Fleming  DP Vijaykumar              0  ...         0   \n",
      "4      PA Patel  SP Fleming  DP Vijaykumar              0  ...         0   \n",
      "...         ...         ...            ...            ...  ...       ...   \n",
      "5338  AT Rayudu   KM Jadhav       S Sharma              0  ...         0   \n",
      "5339  KM Jadhav   AT Rayudu       S Sharma              0  ...         0   \n",
      "5340  KM Jadhav   AT Rayudu       S Sharma              0  ...         0   \n",
      "5341  AT Rayudu   KM Jadhav       S Sharma              0  ...         0   \n",
      "5342  KM Jadhav    DJ Bravo       S Sharma              0  ...         0   \n",
      "\n",
      "      legbye_runs  noball_runs  penalty_runs  batsman_runs  extra_runs  \\\n",
      "0               0            0             0             0           0   \n",
      "1               0            0             0             0           0   \n",
      "2               0            0             0             4           0   \n",
      "3               0            0             0             0           0   \n",
      "4               0            0             0             0           0   \n",
      "...           ...          ...           ...           ...         ...   \n",
      "5338            0            0             0             1           0   \n",
      "5339            0            0             0             6           0   \n",
      "5340            0            0             0             1           0   \n",
      "5341            0            0             0             0           0   \n",
      "5342            0            0             0             1           0   \n",
      "\n",
      "      total_runs  player_dismissed dismissal_kind    fielder  \n",
      "0              0               NaN            NaN        NaN  \n",
      "1              0               NaN            NaN        NaN  \n",
      "2              4               NaN            NaN        NaN  \n",
      "3              0               NaN            NaN        NaN  \n",
      "4              0               NaN            NaN        NaN  \n",
      "...          ...               ...            ...        ...  \n",
      "5338           1               NaN            NaN        NaN  \n",
      "5339           6               NaN            NaN        NaN  \n",
      "5340           1               NaN            NaN        NaN  \n",
      "5341           0         AT Rayudu         caught  V Shankar  \n",
      "5342           1               NaN            NaN        NaN  \n",
      "\n",
      "[5343 rows x 21 columns]\n"
     ]
    }
   ],
   "source": [
    "df1 = read_csv(r'C:\\Users\\Asus\\Desktop\\WPL Datasets\\Hyderabad vs Chennai deliveries.csv')\n",
    "print(df1)"
   ]
  },
  {
   "cell_type": "code",
   "execution_count": 12,
   "metadata": {
    "scrolled": true
   },
   "outputs": [
    {
     "name": "stdout",
     "output_type": "stream",
     "text": [
      "      match_id  inning         batting_team         bowling_team  over  ball  \\\n",
      "2925       474       1  Sunrisers Hyderabad  Chennai Super Kings     3     3   \n",
      "2926       474       1  Sunrisers Hyderabad  Chennai Super Kings     3     4   \n",
      "3272       507       2  Sunrisers Hyderabad  Chennai Super Kings     1     1   \n",
      "3273       507       2  Sunrisers Hyderabad  Chennai Super Kings     1     2   \n",
      "3274       507       2  Sunrisers Hyderabad  Chennai Super Kings     1     3   \n",
      "...        ...     ...                  ...                  ...   ...   ...   \n",
      "5176     11332       1  Sunrisers Hyderabad  Chennai Super Kings    13     3   \n",
      "5178     11332       1  Sunrisers Hyderabad  Chennai Super Kings    13     5   \n",
      "5180     11332       1  Sunrisers Hyderabad  Chennai Super Kings    14     1   \n",
      "5181     11332       1  Sunrisers Hyderabad  Chennai Super Kings    14     2   \n",
      "5182     11332       1  Sunrisers Hyderabad  Chennai Super Kings    14     3   \n",
      "\n",
      "        batsman non_striker           bowler  is_super_over  ...  bye_runs  \\\n",
      "2925  DA Warner    AJ Finch    BW Hilfenhaus              0  ...         0   \n",
      "2926  DA Warner    AJ Finch    BW Hilfenhaus              0  ...         0   \n",
      "3272  DA Warner    S Dhawan        MM Sharma              0  ...         0   \n",
      "3273  DA Warner    S Dhawan        MM Sharma              0  ...         0   \n",
      "3274  DA Warner    S Dhawan        MM Sharma              0  ...         0   \n",
      "...         ...         ...              ...            ...  ...       ...   \n",
      "5176  DA Warner   MK Pandey        RA Jadeja              0  ...         0   \n",
      "5178  DA Warner   MK Pandey        RA Jadeja              0  ...         0   \n",
      "5180  DA Warner   MK Pandey  Harbhajan Singh              0  ...         0   \n",
      "5181  DA Warner   MK Pandey  Harbhajan Singh              0  ...         0   \n",
      "5182  DA Warner   MK Pandey  Harbhajan Singh              0  ...         0   \n",
      "\n",
      "      legbye_runs  noball_runs  penalty_runs  batsman_runs  extra_runs  \\\n",
      "2925            0            0             0             0           0   \n",
      "2926            0            0             0             0           0   \n",
      "3272            0            0             0             0           0   \n",
      "3273            0            0             0             0           0   \n",
      "3274            0            0             0             4           0   \n",
      "...           ...          ...           ...           ...         ...   \n",
      "5176            0            0             0             1           0   \n",
      "5178            0            0             0             1           0   \n",
      "5180            0            0             0             2           0   \n",
      "5181            0            0             0             2           0   \n",
      "5182            0            0             0             0           0   \n",
      "\n",
      "      total_runs  player_dismissed dismissal_kind   fielder  \n",
      "2925           0               NaN            NaN       NaN  \n",
      "2926           0         DA Warner            lbw       NaN  \n",
      "3272           0               NaN            NaN       NaN  \n",
      "3273           0               NaN            NaN       NaN  \n",
      "3274           4               NaN            NaN       NaN  \n",
      "...          ...               ...            ...       ...  \n",
      "5176           1               NaN            NaN       NaN  \n",
      "5178           1               NaN            NaN       NaN  \n",
      "5180           2               NaN            NaN       NaN  \n",
      "5181           2               NaN            NaN       NaN  \n",
      "5182           0         DA Warner        stumped  MS Dhoni  \n",
      "\n",
      "[192 rows x 21 columns]\n"
     ]
    }
   ],
   "source": [
    "team1 = ['Deccan Chargers', 'Sunrisers Hyderabad']\n",
    "warner = df1.loc[df1['batting_team'].isin(team1) & (df1['batsman'] == 'DA Warner')]\n",
    "print(warner)"
   ]
  },
  {
   "cell_type": "code",
   "execution_count": 13,
   "metadata": {},
   "outputs": [
    {
     "name": "stdout",
     "output_type": "stream",
     "text": [
      "314\n"
     ]
    }
   ],
   "source": [
    "column_name = 'batsman_runs'\n",
    "total_runs = warner[column_name].sum()\n",
    "print(total_runs)"
   ]
  },
  {
   "cell_type": "code",
   "execution_count": 14,
   "metadata": {},
   "outputs": [
    {
     "name": "stdout",
     "output_type": "stream",
     "text": [
      "6\n"
     ]
    }
   ],
   "source": [
    "matches = warner.groupby('match_id').size().count()\n",
    "print(matches)"
   ]
  },
  {
   "cell_type": "code",
   "execution_count": 15,
   "metadata": {},
   "outputs": [
    {
     "name": "stdout",
     "output_type": "stream",
     "text": [
      "52.333333333333336\n"
     ]
    }
   ],
   "source": [
    "player_avg = total_runs/matches\n",
    "print(player_avg)"
   ]
  },
  {
   "cell_type": "code",
   "execution_count": null,
   "metadata": {},
   "outputs": [],
   "source": []
  }
 ],
 "metadata": {
  "kernelspec": {
   "display_name": "Python 3",
   "language": "python",
   "name": "python3"
  },
  "language_info": {
   "codemirror_mode": {
    "name": "ipython",
    "version": 3
   },
   "file_extension": ".py",
   "mimetype": "text/x-python",
   "name": "python",
   "nbconvert_exporter": "python",
   "pygments_lexer": "ipython3",
   "version": "3.7.4"
  }
 },
 "nbformat": 4,
 "nbformat_minor": 4
}
