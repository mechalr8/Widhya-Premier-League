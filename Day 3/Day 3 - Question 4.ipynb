{
 "cells": [
  {
   "cell_type": "code",
   "execution_count": 3,
   "metadata": {},
   "outputs": [],
   "source": [
    "from pandas import *"
   ]
  },
  {
   "cell_type": "code",
   "execution_count": 4,
   "metadata": {
    "scrolled": true
   },
   "outputs": [
    {
     "name": "stdout",
     "output_type": "stream",
     "text": [
      "      match_id  inning         batting_team         bowling_team  over  ball  \\\n",
      "0           85       1  Chennai Super Kings      Deccan Chargers     1     1   \n",
      "1           85       1  Chennai Super Kings      Deccan Chargers     1     2   \n",
      "2           85       1  Chennai Super Kings      Deccan Chargers     1     3   \n",
      "3           85       1  Chennai Super Kings      Deccan Chargers     1     4   \n",
      "4           85       1  Chennai Super Kings      Deccan Chargers     1     5   \n",
      "...        ...     ...                  ...                  ...   ...   ...   \n",
      "5338     11332       2  Chennai Super Kings  Sunrisers Hyderabad    20     1   \n",
      "5339     11332       2  Chennai Super Kings  Sunrisers Hyderabad    20     2   \n",
      "5340     11332       2  Chennai Super Kings  Sunrisers Hyderabad    20     3   \n",
      "5341     11332       2  Chennai Super Kings  Sunrisers Hyderabad    20     4   \n",
      "5342     11332       2  Chennai Super Kings  Sunrisers Hyderabad    20     5   \n",
      "\n",
      "        batsman non_striker         bowler  is_super_over  ...  bye_runs  \\\n",
      "0      PA Patel  SP Fleming  DP Vijaykumar              0  ...         0   \n",
      "1      PA Patel  SP Fleming  DP Vijaykumar              0  ...         0   \n",
      "2      PA Patel  SP Fleming  DP Vijaykumar              0  ...         0   \n",
      "3      PA Patel  SP Fleming  DP Vijaykumar              0  ...         0   \n",
      "4      PA Patel  SP Fleming  DP Vijaykumar              0  ...         0   \n",
      "...         ...         ...            ...            ...  ...       ...   \n",
      "5338  AT Rayudu   KM Jadhav       S Sharma              0  ...         0   \n",
      "5339  KM Jadhav   AT Rayudu       S Sharma              0  ...         0   \n",
      "5340  KM Jadhav   AT Rayudu       S Sharma              0  ...         0   \n",
      "5341  AT Rayudu   KM Jadhav       S Sharma              0  ...         0   \n",
      "5342  KM Jadhav    DJ Bravo       S Sharma              0  ...         0   \n",
      "\n",
      "      legbye_runs  noball_runs  penalty_runs  batsman_runs  extra_runs  \\\n",
      "0               0            0             0             0           0   \n",
      "1               0            0             0             0           0   \n",
      "2               0            0             0             4           0   \n",
      "3               0            0             0             0           0   \n",
      "4               0            0             0             0           0   \n",
      "...           ...          ...           ...           ...         ...   \n",
      "5338            0            0             0             1           0   \n",
      "5339            0            0             0             6           0   \n",
      "5340            0            0             0             1           0   \n",
      "5341            0            0             0             0           0   \n",
      "5342            0            0             0             1           0   \n",
      "\n",
      "      total_runs  player_dismissed dismissal_kind    fielder  \n",
      "0              0               NaN            NaN        NaN  \n",
      "1              0               NaN            NaN        NaN  \n",
      "2              4               NaN            NaN        NaN  \n",
      "3              0               NaN            NaN        NaN  \n",
      "4              0               NaN            NaN        NaN  \n",
      "...          ...               ...            ...        ...  \n",
      "5338           1               NaN            NaN        NaN  \n",
      "5339           6               NaN            NaN        NaN  \n",
      "5340           1               NaN            NaN        NaN  \n",
      "5341           0         AT Rayudu         caught  V Shankar  \n",
      "5342           1               NaN            NaN        NaN  \n",
      "\n",
      "[5343 rows x 21 columns]\n"
     ]
    }
   ],
   "source": [
    "df = read_csv(r'C:\\Users\\Asus\\Desktop\\WPL Datasets\\Hyderabad vs Chennai deliveries.csv')\n",
    "print(df)"
   ]
  },
  {
   "cell_type": "code",
   "execution_count": 8,
   "metadata": {
    "scrolled": true
   },
   "outputs": [
    {
     "name": "stdout",
     "output_type": "stream",
     "text": [
      "      match_id  inning         batting_team         bowling_team  over  ball  \\\n",
      "0           85       1  Chennai Super Kings      Deccan Chargers     1     1   \n",
      "1           85       1  Chennai Super Kings      Deccan Chargers     1     2   \n",
      "2           85       1  Chennai Super Kings      Deccan Chargers     1     3   \n",
      "3           85       1  Chennai Super Kings      Deccan Chargers     1     4   \n",
      "4           85       1  Chennai Super Kings      Deccan Chargers     1     5   \n",
      "...        ...     ...                  ...                  ...   ...   ...   \n",
      "5338     11332       2  Chennai Super Kings  Sunrisers Hyderabad    20     1   \n",
      "5339     11332       2  Chennai Super Kings  Sunrisers Hyderabad    20     2   \n",
      "5340     11332       2  Chennai Super Kings  Sunrisers Hyderabad    20     3   \n",
      "5341     11332       2  Chennai Super Kings  Sunrisers Hyderabad    20     4   \n",
      "5342     11332       2  Chennai Super Kings  Sunrisers Hyderabad    20     5   \n",
      "\n",
      "        batsman non_striker         bowler  is_super_over  wide_runs  \\\n",
      "0      PA Patel  SP Fleming  DP Vijaykumar              0          0   \n",
      "1      PA Patel  SP Fleming  DP Vijaykumar              0          0   \n",
      "2      PA Patel  SP Fleming  DP Vijaykumar              0          0   \n",
      "3      PA Patel  SP Fleming  DP Vijaykumar              0          0   \n",
      "4      PA Patel  SP Fleming  DP Vijaykumar              0          0   \n",
      "...         ...         ...            ...            ...        ...   \n",
      "5338  AT Rayudu   KM Jadhav       S Sharma              0          0   \n",
      "5339  KM Jadhav   AT Rayudu       S Sharma              0          0   \n",
      "5340  KM Jadhav   AT Rayudu       S Sharma              0          0   \n",
      "5341  AT Rayudu   KM Jadhav       S Sharma              0          0   \n",
      "5342  KM Jadhav    DJ Bravo       S Sharma              0          0   \n",
      "\n",
      "      bye_runs  legbye_runs  noball_runs  penalty_runs  batsman_runs  \\\n",
      "0            0            0            0             0             0   \n",
      "1            0            0            0             0             0   \n",
      "2            0            0            0             0             4   \n",
      "3            0            0            0             0             0   \n",
      "4            0            0            0             0             0   \n",
      "...        ...          ...          ...           ...           ...   \n",
      "5338         0            0            0             0             1   \n",
      "5339         0            0            0             0             6   \n",
      "5340         0            0            0             0             1   \n",
      "5341         0            0            0             0             0   \n",
      "5342         0            0            0             0             1   \n",
      "\n",
      "      extra_runs  total_runs player_dismissed  \n",
      "0              0           0              NaN  \n",
      "1              0           0              NaN  \n",
      "2              0           4              NaN  \n",
      "3              0           0              NaN  \n",
      "4              0           0              NaN  \n",
      "...          ...         ...              ...  \n",
      "5338           0           1              NaN  \n",
      "5339           0           6              NaN  \n",
      "5340           0           1              NaN  \n",
      "5341           0           0        AT Rayudu  \n",
      "5342           0           1              NaN  \n",
      "\n",
      "[5343 rows x 19 columns]\n"
     ]
    }
   ],
   "source": [
    "df1 = df.drop(['fielder', 'dismissal_kind'], axis = 1)\n",
    "print(df1)"
   ]
  },
  {
   "cell_type": "code",
   "execution_count": 9,
   "metadata": {
    "scrolled": true
   },
   "outputs": [
    {
     "name": "stdout",
     "output_type": "stream",
     "text": [
      "      match_id  inning         batting_team         bowling_team  over  ball  \\\n",
      "0           85       1  Chennai Super Kings      Deccan Chargers     1     1   \n",
      "1           85       1  Chennai Super Kings      Deccan Chargers     1     2   \n",
      "2           85       1  Chennai Super Kings      Deccan Chargers     1     3   \n",
      "3           85       1  Chennai Super Kings      Deccan Chargers     1     4   \n",
      "4           85       1  Chennai Super Kings      Deccan Chargers     1     5   \n",
      "...        ...     ...                  ...                  ...   ...   ...   \n",
      "5338     11332       2  Chennai Super Kings  Sunrisers Hyderabad    20     1   \n",
      "5339     11332       2  Chennai Super Kings  Sunrisers Hyderabad    20     2   \n",
      "5340     11332       2  Chennai Super Kings  Sunrisers Hyderabad    20     3   \n",
      "5341     11332       2  Chennai Super Kings  Sunrisers Hyderabad    20     4   \n",
      "5342     11332       2  Chennai Super Kings  Sunrisers Hyderabad    20     5   \n",
      "\n",
      "        batsman non_striker         bowler  is_super_over  wide_runs  \\\n",
      "0      PA Patel  SP Fleming  DP Vijaykumar              0          0   \n",
      "1      PA Patel  SP Fleming  DP Vijaykumar              0          0   \n",
      "2      PA Patel  SP Fleming  DP Vijaykumar              0          0   \n",
      "3      PA Patel  SP Fleming  DP Vijaykumar              0          0   \n",
      "4      PA Patel  SP Fleming  DP Vijaykumar              0          0   \n",
      "...         ...         ...            ...            ...        ...   \n",
      "5338  AT Rayudu   KM Jadhav       S Sharma              0          0   \n",
      "5339  KM Jadhav   AT Rayudu       S Sharma              0          0   \n",
      "5340  KM Jadhav   AT Rayudu       S Sharma              0          0   \n",
      "5341  AT Rayudu   KM Jadhav       S Sharma              0          0   \n",
      "5342  KM Jadhav    DJ Bravo       S Sharma              0          0   \n",
      "\n",
      "      bye_runs  legbye_runs  noball_runs  penalty_runs  batsman_runs  \\\n",
      "0            0            0            0             0             0   \n",
      "1            0            0            0             0             0   \n",
      "2            0            0            0             0             4   \n",
      "3            0            0            0             0             0   \n",
      "4            0            0            0             0             0   \n",
      "...        ...          ...          ...           ...           ...   \n",
      "5338         0            0            0             0             1   \n",
      "5339         0            0            0             0             6   \n",
      "5340         0            0            0             0             1   \n",
      "5341         0            0            0             0             0   \n",
      "5342         0            0            0             0             1   \n",
      "\n",
      "      extra_runs  total_runs player_dismissed  \n",
      "0              0           0              NaN  \n",
      "1              0           0              NaN  \n",
      "2              0           4              NaN  \n",
      "3              0           0              NaN  \n",
      "4              0           0              NaN  \n",
      "...          ...         ...              ...  \n",
      "5338           0           1              NaN  \n",
      "5339           0           6              NaN  \n",
      "5340           0           1              NaN  \n",
      "5341           0           0        AT Rayudu  \n",
      "5342           0           1              NaN  \n",
      "\n",
      "[2698 rows x 19 columns]\n"
     ]
    }
   ],
   "source": [
    "CSKBatting = df1.loc[(df1['batting_team'] == 'Chennai Super Kings')]\n",
    "print(CSKBatting)"
   ]
  },
  {
   "cell_type": "code",
   "execution_count": 12,
   "metadata": {
    "scrolled": true
   },
   "outputs": [
    {
     "name": "stdout",
     "output_type": "stream",
     "text": [
      "      match_id  inning         batting_team         bowling_team  over  ball  \\\n",
      "5           85       1  Chennai Super Kings      Deccan Chargers     1     6   \n",
      "21          85       1  Chennai Super Kings      Deccan Chargers     4     4   \n",
      "35          85       1  Chennai Super Kings      Deccan Chargers     6     4   \n",
      "43          85       1  Chennai Super Kings      Deccan Chargers     7     5   \n",
      "84          85       1  Chennai Super Kings      Deccan Chargers    14     3   \n",
      "...        ...     ...                  ...                  ...   ...   ...   \n",
      "4960     11324       1  Chennai Super Kings  Sunrisers Hyderabad    15     5   \n",
      "5236     11332       2  Chennai Super Kings  Sunrisers Hyderabad     3     3   \n",
      "5282     11332       2  Chennai Super Kings  Sunrisers Hyderabad    10     7   \n",
      "5326     11332       2  Chennai Super Kings  Sunrisers Hyderabad    18     1   \n",
      "5341     11332       2  Chennai Super Kings  Sunrisers Hyderabad    20     4   \n",
      "\n",
      "           batsman non_striker         bowler  is_super_over  wide_runs  \\\n",
      "5         PA Patel  SP Fleming  DP Vijaykumar              0          0   \n",
      "21      S Anirudha  SP Fleming       RP Singh              0          0   \n",
      "35      SP Fleming    SK Raina      SB Styris              0          0   \n",
      "43     S Badrinath    SK Raina  Shahid Afridi              0          0   \n",
      "84        SK Raina    MS Dhoni      SB Bangar              0          0   \n",
      "...            ...         ...            ...            ...        ...   \n",
      "4960   SW Billings   AT Rayudu        K Ahmed              0          0   \n",
      "5236  F du Plessis   SR Watson        B Kumar              0          0   \n",
      "5282      SK Raina   SR Watson    Rashid Khan              0          0   \n",
      "5326     SR Watson   AT Rayudu        B Kumar              0          0   \n",
      "5341     AT Rayudu   KM Jadhav       S Sharma              0          0   \n",
      "\n",
      "      bye_runs  legbye_runs  noball_runs  penalty_runs  batsman_runs  \\\n",
      "5            0            0            0             0             0   \n",
      "21           0            0            0             0             0   \n",
      "35           0            0            0             0             0   \n",
      "43           0            0            0             0             0   \n",
      "84           0            0            0             0             0   \n",
      "...        ...          ...          ...           ...           ...   \n",
      "4960         0            0            0             0             0   \n",
      "5236         0            0            0             0             0   \n",
      "5282         0            0            0             0             0   \n",
      "5326         0            0            0             0             0   \n",
      "5341         0            0            0             0             0   \n",
      "\n",
      "      extra_runs  total_runs player_dismissed  \n",
      "5              0           0         PA Patel  \n",
      "21             0           0       S Anirudha  \n",
      "35             0           0       SP Fleming  \n",
      "43             0           0      S Badrinath  \n",
      "84             0           0         SK Raina  \n",
      "...          ...         ...              ...  \n",
      "4960           0           0      SW Billings  \n",
      "5236           0           0     F du Plessis  \n",
      "5282           0           0         SK Raina  \n",
      "5326           0           0        SR Watson  \n",
      "5341           0           0        AT Rayudu  \n",
      "\n",
      "[110 rows x 19 columns]\n"
     ]
    }
   ],
   "source": [
    "wickets = CSKBatting.dropna()\n",
    "print(wickets)"
   ]
  },
  {
   "cell_type": "code",
   "execution_count": 13,
   "metadata": {},
   "outputs": [
    {
     "name": "stdout",
     "output_type": "stream",
     "text": [
      "22\n"
     ]
    }
   ],
   "source": [
    "matches = df.groupby('match_id').size().count()\n",
    "print(matches)"
   ]
  },
  {
   "cell_type": "code",
   "execution_count": 14,
   "metadata": {
    "scrolled": true
   },
   "outputs": [
    {
     "name": "stdout",
     "output_type": "stream",
     "text": [
      "110\n"
     ]
    }
   ],
   "source": [
    "index = wickets.index\n",
    "N_wickets = len(index)\n",
    "print(N_wickets)"
   ]
  },
  {
   "cell_type": "code",
   "execution_count": 15,
   "metadata": {},
   "outputs": [
    {
     "name": "stdout",
     "output_type": "stream",
     "text": [
      "5.0\n"
     ]
    }
   ],
   "source": [
    "avg = N_wickets/matches\n",
    "print(avg)"
   ]
  },
  {
   "cell_type": "code",
   "execution_count": null,
   "metadata": {},
   "outputs": [],
   "source": []
  }
 ],
 "metadata": {
  "kernelspec": {
   "display_name": "Python 3",
   "language": "python",
   "name": "python3"
  },
  "language_info": {
   "codemirror_mode": {
    "name": "ipython",
    "version": 3
   },
   "file_extension": ".py",
   "mimetype": "text/x-python",
   "name": "python",
   "nbconvert_exporter": "python",
   "pygments_lexer": "ipython3",
   "version": "3.7.4"
  }
 },
 "nbformat": 4,
 "nbformat_minor": 4
}
