{
 "cells": [
  {
   "cell_type": "code",
   "execution_count": 1,
   "metadata": {},
   "outputs": [],
   "source": [
    "from pandas import *"
   ]
  },
  {
   "cell_type": "code",
   "execution_count": 2,
   "metadata": {
    "scrolled": true
   },
   "outputs": [
    {
     "name": "stdout",
     "output_type": "stream",
     "text": [
      "        match_id  inning         batting_team                 bowling_team  \\\n",
      "0              1       1  Sunrisers Hyderabad  Royal Challengers Bangalore   \n",
      "1              1       1  Sunrisers Hyderabad  Royal Challengers Bangalore   \n",
      "2              1       1  Sunrisers Hyderabad  Royal Challengers Bangalore   \n",
      "3              1       1  Sunrisers Hyderabad  Royal Challengers Bangalore   \n",
      "4              1       1  Sunrisers Hyderabad  Royal Challengers Bangalore   \n",
      "...          ...     ...                  ...                          ...   \n",
      "179073     11415       2  Chennai Super Kings               Mumbai Indians   \n",
      "179074     11415       2  Chennai Super Kings               Mumbai Indians   \n",
      "179075     11415       2  Chennai Super Kings               Mumbai Indians   \n",
      "179076     11415       2  Chennai Super Kings               Mumbai Indians   \n",
      "179077     11415       2  Chennai Super Kings               Mumbai Indians   \n",
      "\n",
      "        over  ball    batsman non_striker      bowler  is_super_over  ...  \\\n",
      "0          1     1  DA Warner    S Dhawan    TS Mills              0  ...   \n",
      "1          1     2  DA Warner    S Dhawan    TS Mills              0  ...   \n",
      "2          1     3  DA Warner    S Dhawan    TS Mills              0  ...   \n",
      "3          1     4  DA Warner    S Dhawan    TS Mills              0  ...   \n",
      "4          1     5  DA Warner    S Dhawan    TS Mills              0  ...   \n",
      "...      ...   ...        ...         ...         ...            ...  ...   \n",
      "179073    20     2  RA Jadeja   SR Watson  SL Malinga              0  ...   \n",
      "179074    20     3  SR Watson   RA Jadeja  SL Malinga              0  ...   \n",
      "179075    20     4  SR Watson   RA Jadeja  SL Malinga              0  ...   \n",
      "179076    20     5  SN Thakur   RA Jadeja  SL Malinga              0  ...   \n",
      "179077    20     6  SN Thakur   RA Jadeja  SL Malinga              0  ...   \n",
      "\n",
      "        bye_runs  legbye_runs  noball_runs  penalty_runs  batsman_runs  \\\n",
      "0              0            0            0             0             0   \n",
      "1              0            0            0             0             0   \n",
      "2              0            0            0             0             4   \n",
      "3              0            0            0             0             0   \n",
      "4              0            0            0             0             0   \n",
      "...          ...          ...          ...           ...           ...   \n",
      "179073         0            0            0             0             1   \n",
      "179074         0            0            0             0             2   \n",
      "179075         0            0            0             0             1   \n",
      "179076         0            0            0             0             2   \n",
      "179077         0            0            0             0             0   \n",
      "\n",
      "        extra_runs  total_runs  player_dismissed dismissal_kind    fielder  \n",
      "0                0           0               NaN            NaN        NaN  \n",
      "1                0           0               NaN            NaN        NaN  \n",
      "2                0           4               NaN            NaN        NaN  \n",
      "3                0           0               NaN            NaN        NaN  \n",
      "4                2           2               NaN            NaN        NaN  \n",
      "...            ...         ...               ...            ...        ...  \n",
      "179073           0           1               NaN            NaN        NaN  \n",
      "179074           0           2               NaN            NaN        NaN  \n",
      "179075           0           1         SR Watson        run out  KH Pandya  \n",
      "179076           0           2               NaN            NaN        NaN  \n",
      "179077           0           0         SN Thakur            lbw        NaN  \n",
      "\n",
      "[179078 rows x 21 columns]\n"
     ]
    }
   ],
   "source": [
    "df = read_csv(r'C:\\Users\\Asus\\Desktop\\WPL Datasets\\deliveries.csv')\n",
    "print(df)"
   ]
  },
  {
   "cell_type": "code",
   "execution_count": 3,
   "metadata": {
    "scrolled": true
   },
   "outputs": [
    {
     "name": "stdout",
     "output_type": "stream",
     "text": [
      "        match_id  inning         batting_team         bowling_team  over  \\\n",
      "19788         85       1  Chennai Super Kings      Deccan Chargers     1   \n",
      "19789         85       1  Chennai Super Kings      Deccan Chargers     1   \n",
      "19790         85       1  Chennai Super Kings      Deccan Chargers     1   \n",
      "19791         85       1  Chennai Super Kings      Deccan Chargers     1   \n",
      "19792         85       1  Chennai Super Kings      Deccan Chargers     1   \n",
      "...          ...     ...                  ...                  ...   ...   \n",
      "174689     11332       2  Chennai Super Kings  Sunrisers Hyderabad    20   \n",
      "174690     11332       2  Chennai Super Kings  Sunrisers Hyderabad    20   \n",
      "174691     11332       2  Chennai Super Kings  Sunrisers Hyderabad    20   \n",
      "174692     11332       2  Chennai Super Kings  Sunrisers Hyderabad    20   \n",
      "174693     11332       2  Chennai Super Kings  Sunrisers Hyderabad    20   \n",
      "\n",
      "        ball    batsman non_striker         bowler  is_super_over  ...  \\\n",
      "19788      1   PA Patel  SP Fleming  DP Vijaykumar              0  ...   \n",
      "19789      2   PA Patel  SP Fleming  DP Vijaykumar              0  ...   \n",
      "19790      3   PA Patel  SP Fleming  DP Vijaykumar              0  ...   \n",
      "19791      4   PA Patel  SP Fleming  DP Vijaykumar              0  ...   \n",
      "19792      5   PA Patel  SP Fleming  DP Vijaykumar              0  ...   \n",
      "...      ...        ...         ...            ...            ...  ...   \n",
      "174689     1  AT Rayudu   KM Jadhav       S Sharma              0  ...   \n",
      "174690     2  KM Jadhav   AT Rayudu       S Sharma              0  ...   \n",
      "174691     3  KM Jadhav   AT Rayudu       S Sharma              0  ...   \n",
      "174692     4  AT Rayudu   KM Jadhav       S Sharma              0  ...   \n",
      "174693     5  KM Jadhav    DJ Bravo       S Sharma              0  ...   \n",
      "\n",
      "        bye_runs  legbye_runs  noball_runs  penalty_runs  batsman_runs  \\\n",
      "19788          0            0            0             0             0   \n",
      "19789          0            0            0             0             0   \n",
      "19790          0            0            0             0             4   \n",
      "19791          0            0            0             0             0   \n",
      "19792          0            0            0             0             0   \n",
      "...          ...          ...          ...           ...           ...   \n",
      "174689         0            0            0             0             1   \n",
      "174690         0            0            0             0             6   \n",
      "174691         0            0            0             0             1   \n",
      "174692         0            0            0             0             0   \n",
      "174693         0            0            0             0             1   \n",
      "\n",
      "        extra_runs  total_runs  player_dismissed dismissal_kind    fielder  \n",
      "19788            0           0               NaN            NaN        NaN  \n",
      "19789            0           0               NaN            NaN        NaN  \n",
      "19790            0           4               NaN            NaN        NaN  \n",
      "19791            0           0               NaN            NaN        NaN  \n",
      "19792            0           0               NaN            NaN        NaN  \n",
      "...            ...         ...               ...            ...        ...  \n",
      "174689           0           1               NaN            NaN        NaN  \n",
      "174690           0           6               NaN            NaN        NaN  \n",
      "174691           0           1               NaN            NaN        NaN  \n",
      "174692           0           0         AT Rayudu         caught  V Shankar  \n",
      "174693           0           1               NaN            NaN        NaN  \n",
      "\n",
      "[5343 rows x 21 columns]\n"
     ]
    }
   ],
   "source": [
    "team = ['Deccan Chargers', 'Sunrisers Hyderabad', 'Chennai Super Kings']\n",
    "SRHvsCSK = df.loc[df['batting_team'].isin(team) & df['bowling_team'].isin(team)]\n",
    "print(SRHvsCSK)"
   ]
  },
  {
   "cell_type": "code",
   "execution_count": 8,
   "metadata": {},
   "outputs": [
    {
     "name": "stdout",
     "output_type": "stream",
     "text": [
      "22\n"
     ]
    }
   ],
   "source": [
    "matches = SRHvsCSK.groupby(['match_id']).size().count()\n",
    "print(matches)"
   ]
  },
  {
   "cell_type": "code",
   "execution_count": 11,
   "metadata": {
    "scrolled": true
   },
   "outputs": [
    {
     "name": "stdout",
     "output_type": "stream",
     "text": [
      "163\n"
     ]
    }
   ],
   "source": [
    "WideBalls = SRHvsCSK.loc[(SRHvsCSK['wide_runs'] > 0)]\n",
    "index = WideBalls.index\n",
    "N_WideBalls = len(index)\n",
    "print(N_WideBalls)"
   ]
  },
  {
   "cell_type": "code",
   "execution_count": 12,
   "metadata": {},
   "outputs": [
    {
     "name": "stdout",
     "output_type": "stream",
     "text": [
      "7.409090909090909\n"
     ]
    }
   ],
   "source": [
    "WideBallsPerMatch = N_WideBalls/matches\n",
    "print(WideBallsPerMatch)"
   ]
  },
  {
   "cell_type": "code",
   "execution_count": null,
   "metadata": {},
   "outputs": [],
   "source": []
  }
 ],
 "metadata": {
  "kernelspec": {
   "display_name": "Python 3",
   "language": "python",
   "name": "python3"
  },
  "language_info": {
   "codemirror_mode": {
    "name": "ipython",
    "version": 3
   },
   "file_extension": ".py",
   "mimetype": "text/x-python",
   "name": "python",
   "nbconvert_exporter": "python",
   "pygments_lexer": "ipython3",
   "version": "3.7.4"
  }
 },
 "nbformat": 4,
 "nbformat_minor": 4
}
