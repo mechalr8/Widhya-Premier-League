{
 "cells": [
  {
   "cell_type": "code",
   "execution_count": 13,
   "metadata": {},
   "outputs": [],
   "source": [
    "from pandas import *\n",
    "df = read_csv(r'C:\\Users\\harsi\\OneDrive\\Desktop\\WPL Datasets\\deliveries.csv')"
   ]
  },
  {
   "cell_type": "code",
   "execution_count": 27,
   "metadata": {
    "scrolled": false
   },
   "outputs": [
    {
     "name": "stdout",
     "output_type": "stream",
     "text": [
      "          dismissal_kind  ball      SR\n",
      "match_id                              \n",
      "39                   2.0    24  17.225\n",
      "49                   1.0    24  17.225\n",
      "51                   2.0    24  17.225\n",
      "453                  1.0    24  17.225\n",
      "459                  1.0    24  17.225\n",
      "463                  1.0    24  17.225\n",
      "465                  1.0    24  17.225\n",
      "480                  1.0    24  17.225\n",
      "495                  1.0    24  17.225\n",
      "502                  1.0    24  17.225\n",
      "512                  1.0    18  17.225\n",
      "587                  2.0    24  17.225\n",
      "607                  1.0    24  17.225\n",
      "612                  1.0    18  17.225\n",
      "618                  1.0    18  17.225\n",
      "7899                 1.0    23  17.225\n",
      "7902                 1.0    24  17.225\n",
      "7906                 1.0    24  17.225\n",
      "11142                1.0    24  17.225\n",
      "11145                2.0    24  17.225\n",
      "11149                2.0    24  17.225\n",
      "11313                1.0    24  17.225\n",
      "11315                3.0    24  17.225\n",
      "11319                1.0    24  17.225\n",
      "11323                2.0    24  17.225\n",
      "11328                1.0    24  17.225\n",
      "11333                1.0    24  17.225\n",
      "11339                2.0    24  17.225\n",
      "11343                1.0    18  17.225\n",
      "11346                2.0    18  17.225\n"
     ]
    }
   ],
   "source": [
    "Shami = df.loc[(df['bowler'] == 'Mohammed Shami')]\n",
    "dismissal_kind = ['caught', 'bowled', 'stumped', 'hit wicket', 'caught and bowled', 'lbw']\n",
    "wicket = Shami.loc[Shami1['dismissal_kind'].isin(dismissal_kind)]\n",
    "wicket1 = wicket.groupby('match_id').count()\n",
    "N_wicket = wicket1[['dismissal_kind']]\n",
    "ball = Shami.loc[(Shami['wide_runs'] == 0) & (Shami['noball_runs'] == 0)]\n",
    "ball1 = ball.groupby('match_id').count()\n",
    "N_ball = ball1[['ball']]\n",
    "result = concat([N_wicket, N_ball], axis = 1).dropna()\n",
    "result['SR'] = result['ball'].sum()/result['dismissal_kind'].sum()\n",
    "print(result)"
   ]
  },
  {
   "cell_type": "code",
   "execution_count": 35,
   "metadata": {},
   "outputs": [
    {
     "name": "stdout",
     "output_type": "stream",
     "text": [
      "19\n"
     ]
    }
   ],
   "source": [
    "matches = Shami.groupby('match_id').size().count()\n",
    "N_result = result.groupby('match_id').size().count()\n",
    "No_wicket = matches - N_result\n",
    "print(No_wicket)"
   ]
  },
  {
   "cell_type": "code",
   "execution_count": null,
   "metadata": {},
   "outputs": [],
   "source": []
  }
 ],
 "metadata": {
  "kernelspec": {
   "display_name": "Python 3",
   "language": "python",
   "name": "python3"
  },
  "language_info": {
   "codemirror_mode": {
    "name": "ipython",
    "version": 3
   },
   "file_extension": ".py",
   "mimetype": "text/x-python",
   "name": "python",
   "nbconvert_exporter": "python",
   "pygments_lexer": "ipython3",
   "version": "3.7.0"
  }
 },
 "nbformat": 4,
 "nbformat_minor": 4
}
