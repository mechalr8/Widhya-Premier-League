{
 "cells": [
  {
   "cell_type": "code",
   "execution_count": 100,
   "metadata": {},
   "outputs": [],
   "source": [
    "from pandas import *\n",
    "df = read_csv(r'C:\\Users\\harsi\\OneDrive\\Desktop\\WPL Datasets\\deliveries.csv')"
   ]
  },
  {
   "cell_type": "code",
   "execution_count": 101,
   "metadata": {
    "scrolled": true
   },
   "outputs": [],
   "source": [
    "def OPP_batsman(batsman):\n",
    "    batsman = df.loc[(df['batsman'] == batsman)]\n",
    "    batsman_runs = batsman.groupby('match_id').agg({'batsman_runs':['sum']})\n",
    "    batsman_runs.columns = ['batsman_runs']\n",
    "    batsman_balls = batsman.loc[(batsman['noball_runs'] == 0) & (batsman['wide_runs'] == 0)]\n",
    "    batsman_balls1 = batsman_balls[['match_id', 'ball']]\n",
    "    N_batsman_balls = batsman_balls1.groupby('match_id').count()\n",
    "    batsman_boundaries = batsman.loc[batsman['batsman_runs'].isin([4,6])]\n",
    "    batsman_boundary_runs = batsman_boundaries.groupby('match_id').agg({'batsman_runs':['sum']})\n",
    "    batsman_boundary_runs.columns = ['batsman_boundary_runs']\n",
    "    batsman_singles = batsman.loc[batsman['batsman_runs'].isin([1,2,3])]\n",
    "    batsman_single_runs = batsman_singles.groupby('match_id').agg({'batsman_runs':['sum']})\n",
    "    batsman_single_runs.columns = ['batsman_single_runs']\n",
    "    result = concat([batsman_runs, N_batsman_balls, batsman_boundary_runs, batsman_single_runs], axis = 1).fillna(0)\n",
    "    result['OPP'] = (((result['batsman_runs']/result['ball'])+result['batsman_boundary_runs']-result['batsman_single_runs'])/result['ball']).abs()\n",
    "    result = result['OPP'].max()\n",
    "    return result"
   ]
  },
  {
   "cell_type": "code",
   "execution_count": 102,
   "metadata": {},
   "outputs": [
    {
     "name": "stdout",
     "output_type": "stream",
     "text": [
      "           Batsman   bat_OPP  norm_bat_OPP\n",
      "0         KL Rahul  3.011719      0.356351\n",
      "1    Mandeep Singh  2.666667      0.311828\n",
      "2         CH Gayle  3.650000      0.438710\n",
      "3         N Pooran  2.110000      0.240000\n",
      "4       GJ Maxwell  2.400000      0.277419\n",
      "5         DJ Hooda  6.222222      0.770609\n",
      "6        CJ Jordan  0.562500      0.040323\n",
      "7        R Bishnoi  1.091837      0.108624\n",
      "8   Mohammed Shami  3.000000      0.354839\n",
      "9         M Ashwin  0.250000      0.000000\n",
      "10       BA Stokes  4.500000      0.548387\n",
      "11      RV Uthappa  8.000000      1.000000\n",
      "12       SPD Smith  3.000000      0.354839\n",
      "13       SV Samson  2.750000      0.322581\n",
      "14       R Tewatia  1.777778      0.197133\n",
      "15         R Parag  1.777778      0.197133\n",
      "16        VR Aaron  2.666667      0.311828\n",
      "17        J Archer  1.194444      0.121864\n",
      "18         S Gopal  1.777778      0.197133\n",
      "19      JC Buttler  2.330000      0.268387\n"
     ]
    }
   ],
   "source": [
    "data = []\n",
    "batsman = ['KL Rahul', 'Mandeep Singh', 'CH Gayle', 'N Pooran', 'GJ Maxwell', 'DJ Hooda', 'CJ Jordan', 'R Bishnoi', 'Mohammed Shami', 'M Ashwin', 'BA Stokes', 'RV Uthappa', 'SPD Smith', 'SV Samson', 'R Tewatia', 'R Parag', 'VR Aaron', 'J Archer', 'S Gopal', 'JC Buttler']\n",
    "for i in batsman:\n",
    "    data.append([i, OPP_batsman(i)])\n",
    "batsman_OPP = DataFrame(data,columns=['Batsman','bat_OPP'])\n",
    "batsman_OPP['norm_bat_OPP'] = (batsman_OPP['bat_OPP'] - batsman_OPP['bat_OPP'].min())/(batsman_OPP['bat_OPP'].max() - batsman_OPP['bat_OPP'].min())\n",
    "print(batsman_OPP)"
   ]
  },
  {
   "cell_type": "code",
   "execution_count": 103,
   "metadata": {},
   "outputs": [],
   "source": [
    "def OPP_bowler(bowler):\n",
    "    bowler = df.loc[(df['bowler']) == bowler]\n",
    "    boundaries = bowler.loc[bowler['batsman_runs'].isin([4,6])]\n",
    "    N_boundaries = boundaries.groupby('match_id').count()\n",
    "    N_boundaries = N_boundaries[['batsman_runs']]\n",
    "    boundary_runs = boundaries.groupby('match_id').agg({'batsman_runs':['sum']})\n",
    "    boundary_runs.columns = ['boundary_runs']\n",
    "    balls = bowler.loc[(bowler['noball_runs'] == 0) & (bowler['wide_runs'] == 0)]\n",
    "    N_balls = balls.groupby('match_id').count()\n",
    "    N_balls = N_balls[['ball']]\n",
    "    result = concat([N_boundaries, N_balls, boundary_runs], axis = 1).fillna(0)\n",
    "    result['OPP'] = (result['boundary_runs']/result['batsman_runs'])/result['ball']\n",
    "    result = result['OPP'].max()\n",
    "    return result"
   ]
  },
  {
   "cell_type": "code",
   "execution_count": 104,
   "metadata": {},
   "outputs": [
    {
     "name": "stdout",
     "output_type": "stream",
     "text": [
      "            Bowler  bowl_OPP  norm_bowl_OPP\n",
      "0         KL Rahul  0.000000       0.000000\n",
      "1    Mandeep Singh  0.888889       0.222222\n",
      "2         CH Gayle  1.000000       0.250000\n",
      "3         N Pooran  0.000000       0.000000\n",
      "4       GJ Maxwell  1.000000       0.250000\n",
      "5         DJ Hooda  4.000000       1.000000\n",
      "6        CJ Jordan  1.000000       0.250000\n",
      "7        R Bishnoi  0.000000       0.000000\n",
      "8   Mohammed Shami  0.833333       0.208333\n",
      "9         M Ashwin  0.833333       0.208333\n",
      "10       BA Stokes  0.800000       0.200000\n",
      "11      RV Uthappa  0.000000       0.000000\n",
      "12       SPD Smith  2.000000       0.500000\n",
      "13       SV Samson  0.000000       0.000000\n",
      "14       R Tewatia  0.833333       0.208333\n",
      "15         R Parag  1.000000       0.250000\n",
      "16        VR Aaron  0.833333       0.208333\n",
      "17        J Archer  0.277778       0.069444\n",
      "18         S Gopal  0.833333       0.208333\n",
      "19      JC Buttler  0.000000       0.000000\n"
     ]
    }
   ],
   "source": [
    "data = []\n",
    "bowler = ['KL Rahul', 'Mandeep Singh', 'CH Gayle', 'N Pooran', 'GJ Maxwell', 'DJ Hooda', 'CJ Jordan', 'R Bishnoi', 'Mohammed Shami', 'M Ashwin', 'BA Stokes', 'RV Uthappa', 'SPD Smith', 'SV Samson', 'R Tewatia', 'R Parag', 'VR Aaron', 'J Archer', 'S Gopal', 'JC Buttler']\n",
    "for j in bowler:\n",
    "    data.append([j, OPP_bowler(j)])\n",
    "bowler_OPP = DataFrame(data,columns=['Bowler','bowl_OPP']).fillna(0)\n",
    "bowler_OPP['norm_bowl_OPP'] = (bowler_OPP['bowl_OPP'] - bowler_OPP['bowl_OPP'].min())/(bowler_OPP['bowl_OPP'].max() - bowler_OPP['bowl_OPP'].min())\n",
    "print(bowler_OPP)"
   ]
  },
  {
   "cell_type": "code",
   "execution_count": 105,
   "metadata": {},
   "outputs": [
    {
     "name": "stdout",
     "output_type": "stream",
     "text": [
      "       Batsman   bat_OPP  norm_bat_OPP      Bowler  bowl_OPP  norm_bowl_OPP  \\\n",
      "5     DJ Hooda  6.222222      0.770609    DJ Hooda       4.0            1.0   \n",
      "11  RV Uthappa  8.000000      1.000000  RV Uthappa       0.0            0.0   \n",
      "\n",
      "         OPP  \n",
      "5   1.770609  \n",
      "11  1.000000  \n"
     ]
    }
   ],
   "source": [
    "final = concat([batsman_OPP, bowler_OPP], axis = 1)\n",
    "final['OPP'] = final['norm_bat_OPP']+final['norm_bowl_OPP']\n",
    "final = final.sort_values(['OPP'], ascending = False).head(2)\n",
    "print(final)"
   ]
  },
  {
   "cell_type": "code",
   "execution_count": null,
   "metadata": {},
   "outputs": [],
   "source": []
  }
 ],
 "metadata": {
  "kernelspec": {
   "display_name": "Python 3",
   "language": "python",
   "name": "python3"
  },
  "language_info": {
   "codemirror_mode": {
    "name": "ipython",
    "version": 3
   },
   "file_extension": ".py",
   "mimetype": "text/x-python",
   "name": "python",
   "nbconvert_exporter": "python",
   "pygments_lexer": "ipython3",
   "version": "3.7.0"
  }
 },
 "nbformat": 4,
 "nbformat_minor": 4
}
