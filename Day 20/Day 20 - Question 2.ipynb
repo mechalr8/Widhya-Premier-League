{
 "cells": [
  {
   "cell_type": "code",
   "execution_count": 27,
   "metadata": {},
   "outputs": [],
   "source": [
    "from pandas import *\n",
    "df = read_csv(r'C:\\Users\\harsi\\OneDrive\\Desktop\\WPL Datasets\\deliveries.csv')"
   ]
  },
  {
   "cell_type": "code",
   "execution_count": 28,
   "metadata": {},
   "outputs": [],
   "source": [
    "def ratio(player):\n",
    "    batsman = df.loc[(df['batsman'] == player)]\n",
    "    balls = batsman.groupby('match_id').count()\n",
    "    balls = balls['ball']\n",
    "    runs = batsman.groupby('match_id').agg({'batsman_runs':['sum']})\n",
    "    runs.columns = ['runs']\n",
    "    boundaries = batsman.loc[batsman['batsman_runs'].isin([4,6])]\n",
    "    boundary_runs = boundaries.groupby('match_id').agg({'batsman_runs':['sum']})\n",
    "    boundary_runs.columns = ['boundary_runs']\n",
    "    result = concat([runs, boundary_runs, balls], axis = 1).fillna(0)\n",
    "    result = result.loc[result['ball'] > 10]\n",
    "    result = (result['boundary_runs']/result['runs']).mean()\n",
    "    return result"
   ]
  },
  {
   "cell_type": "code",
   "execution_count": 32,
   "metadata": {},
   "outputs": [
    {
     "name": "stdout",
     "output_type": "stream",
     "text": [
      "            player    ratio1\n",
      "7        R Bishnoi  0.888889\n",
      "2         CH Gayle  0.745474\n",
      "4       GJ Maxwell  0.691790\n",
      "3         N Pooran  0.647202\n",
      "19      JC Buttler  0.626712\n",
      "0         KL Rahul  0.592458\n",
      "11      RV Uthappa  0.579580\n",
      "17        J Archer  0.562882\n",
      "15         R Parag  0.560000\n",
      "13       SV Samson  0.509922\n",
      "1    Mandeep Singh  0.506686\n",
      "12       SPD Smith  0.449938\n",
      "10       BA Stokes  0.419409\n",
      "14       R Tewatia  0.366071\n",
      "5         DJ Hooda  0.365299\n",
      "16        VR Aaron  0.294118\n",
      "18         S Gopal  0.220238\n",
      "6        CJ Jordan       NaN\n",
      "8   Mohammed Shami       NaN\n",
      "9         M Ashwin       NaN\n"
     ]
    }
   ],
   "source": [
    "data = []\n",
    "player = ['KL Rahul', 'Mandeep Singh', 'CH Gayle', 'N Pooran', 'GJ Maxwell', 'DJ Hooda', 'CJ Jordan', 'R Bishnoi', 'Mohammed Shami', 'M Ashwin', 'BA Stokes', 'RV Uthappa', 'SPD Smith', 'SV Samson', 'R Tewatia', 'R Parag', 'VR Aaron', 'J Archer', 'S Gopal', 'JC Buttler']\n",
    "for i in player:\n",
    "    data.append([i, ratio(i)])\n",
    "ratio1 = DataFrame(data,columns=['player','ratio1'])\n",
    "ratio1 = ratio1.sort_values(['ratio1'], ascending = False)\n",
    "print(ratio1)"
   ]
  },
  {
   "cell_type": "code",
   "execution_count": null,
   "metadata": {},
   "outputs": [],
   "source": []
  }
 ],
 "metadata": {
  "kernelspec": {
   "display_name": "Python 3",
   "language": "python",
   "name": "python3"
  },
  "language_info": {
   "codemirror_mode": {
    "name": "ipython",
    "version": 3
   },
   "file_extension": ".py",
   "mimetype": "text/x-python",
   "name": "python",
   "nbconvert_exporter": "python",
   "pygments_lexer": "ipython3",
   "version": "3.7.0"
  }
 },
 "nbformat": 4,
 "nbformat_minor": 4
}
