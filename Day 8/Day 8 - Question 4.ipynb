{
 "cells": [
  {
   "cell_type": "code",
   "execution_count": 1,
   "metadata": {},
   "outputs": [],
   "source": [
    "from pandas import *"
   ]
  },
  {
   "cell_type": "code",
   "execution_count": 2,
   "metadata": {
    "scrolled": true
   },
   "outputs": [
    {
     "name": "stdout",
     "output_type": "stream",
     "text": [
      "        match_id  inning         batting_team                 bowling_team  \\\n",
      "0              1       1  Sunrisers Hyderabad  Royal Challengers Bangalore   \n",
      "1              1       1  Sunrisers Hyderabad  Royal Challengers Bangalore   \n",
      "2              1       1  Sunrisers Hyderabad  Royal Challengers Bangalore   \n",
      "3              1       1  Sunrisers Hyderabad  Royal Challengers Bangalore   \n",
      "4              1       1  Sunrisers Hyderabad  Royal Challengers Bangalore   \n",
      "...          ...     ...                  ...                          ...   \n",
      "179073     11415       2  Chennai Super Kings               Mumbai Indians   \n",
      "179074     11415       2  Chennai Super Kings               Mumbai Indians   \n",
      "179075     11415       2  Chennai Super Kings               Mumbai Indians   \n",
      "179076     11415       2  Chennai Super Kings               Mumbai Indians   \n",
      "179077     11415       2  Chennai Super Kings               Mumbai Indians   \n",
      "\n",
      "        over  ball    batsman non_striker      bowler  is_super_over  ...  \\\n",
      "0          1     1  DA Warner    S Dhawan    TS Mills              0  ...   \n",
      "1          1     2  DA Warner    S Dhawan    TS Mills              0  ...   \n",
      "2          1     3  DA Warner    S Dhawan    TS Mills              0  ...   \n",
      "3          1     4  DA Warner    S Dhawan    TS Mills              0  ...   \n",
      "4          1     5  DA Warner    S Dhawan    TS Mills              0  ...   \n",
      "...      ...   ...        ...         ...         ...            ...  ...   \n",
      "179073    20     2  RA Jadeja   SR Watson  SL Malinga              0  ...   \n",
      "179074    20     3  SR Watson   RA Jadeja  SL Malinga              0  ...   \n",
      "179075    20     4  SR Watson   RA Jadeja  SL Malinga              0  ...   \n",
      "179076    20     5  SN Thakur   RA Jadeja  SL Malinga              0  ...   \n",
      "179077    20     6  SN Thakur   RA Jadeja  SL Malinga              0  ...   \n",
      "\n",
      "        bye_runs  legbye_runs  noball_runs  penalty_runs  batsman_runs  \\\n",
      "0              0            0            0             0             0   \n",
      "1              0            0            0             0             0   \n",
      "2              0            0            0             0             4   \n",
      "3              0            0            0             0             0   \n",
      "4              0            0            0             0             0   \n",
      "...          ...          ...          ...           ...           ...   \n",
      "179073         0            0            0             0             1   \n",
      "179074         0            0            0             0             2   \n",
      "179075         0            0            0             0             1   \n",
      "179076         0            0            0             0             2   \n",
      "179077         0            0            0             0             0   \n",
      "\n",
      "        extra_runs  total_runs  player_dismissed dismissal_kind    fielder  \n",
      "0                0           0               NaN            NaN        NaN  \n",
      "1                0           0               NaN            NaN        NaN  \n",
      "2                0           4               NaN            NaN        NaN  \n",
      "3                0           0               NaN            NaN        NaN  \n",
      "4                2           2               NaN            NaN        NaN  \n",
      "...            ...         ...               ...            ...        ...  \n",
      "179073           0           1               NaN            NaN        NaN  \n",
      "179074           0           2               NaN            NaN        NaN  \n",
      "179075           0           1         SR Watson        run out  KH Pandya  \n",
      "179076           0           2               NaN            NaN        NaN  \n",
      "179077           0           0         SN Thakur            lbw        NaN  \n",
      "\n",
      "[179078 rows x 21 columns]\n"
     ]
    }
   ],
   "source": [
    "df = read_csv(r'C:\\Users\\harsi\\OneDrive\\Desktop\\WPL Datasets\\deliveries.csv')\n",
    "print(df)"
   ]
  },
  {
   "cell_type": "code",
   "execution_count": 13,
   "metadata": {
    "scrolled": true
   },
   "outputs": [
    {
     "name": "stdout",
     "output_type": "stream",
     "text": [
      "        match_id  inning                 batting_team  \\\n",
      "94969        401       2  Royal Challengers Bangalore   \n",
      "101685       429       1  Royal Challengers Bangalore   \n",
      "109239       461       1          Sunrisers Hyderabad   \n",
      "110527       466       2          Sunrisers Hyderabad   \n",
      "112244       474       1          Sunrisers Hyderabad   \n",
      "113044       477       1          Sunrisers Hyderabad   \n",
      "113882       481       1          Sunrisers Hyderabad   \n",
      "116769       493       1          Sunrisers Hyderabad   \n",
      "128504       541       2          Sunrisers Hyderabad   \n",
      "139409       590       1  Royal Challengers Bangalore   \n",
      "139863       592       1  Royal Challengers Bangalore   \n",
      "142665       603       2  Royal Challengers Bangalore   \n",
      "143279       606       1  Royal Challengers Bangalore   \n",
      "144618       611       2  Royal Challengers Bangalore   \n",
      "149631       633       2  Royal Challengers Bangalore   \n",
      "150858      7895       2              Kings XI Punjab   \n",
      "152117      7901       1              Kings XI Punjab   \n",
      "153074      7905       1              Kings XI Punjab   \n",
      "154663      7911       2              Kings XI Punjab   \n",
      "155428      7915       1              Kings XI Punjab   \n",
      "158316      7927       1              Kings XI Punjab   \n",
      "161697      7941       1              Kings XI Punjab   \n",
      "162280      7943       2              Kings XI Punjab   \n",
      "165457     11140       1              Kings XI Punjab   \n",
      "166085     11142       2              Kings XI Punjab   \n",
      "169147     11309       2              Kings XI Punjab   \n",
      "171348     11319       1              Kings XI Punjab   \n",
      "172387     11323       1              Kings XI Punjab   \n",
      "173507     11328       1              Kings XI Punjab   \n",
      "174882     11333       2              Kings XI Punjab   \n",
      "176401     11339       2              Kings XI Punjab   \n",
      "176949     11343       1              Kings XI Punjab   \n",
      "177826     11346       2              Kings XI Punjab   \n",
      "\n",
      "                       bowling_team  over  ball   batsman     non_striker  \\\n",
      "94969              Delhi Daredevils     3     6  KL Rahul        CH Gayle   \n",
      "101685              Kings XI Punjab    20     6  KL Rahul    MC Henriques   \n",
      "109239             Rajasthan Royals    17     7  KL Rahul       DJG Sammy   \n",
      "110527              Kings XI Punjab    15     1  KL Rahul       KV Sharma   \n",
      "112244          Chennai Super Kings    11     3  KL Rahul        AJ Finch   \n",
      "113044               Mumbai Indians    20     2  KL Rahul         NV Ojha   \n",
      "113882  Royal Challengers Bangalore     4     6  KL Rahul        S Dhawan   \n",
      "116769               Mumbai Indians    10     5  KL Rahul        AJ Finch   \n",
      "128504               Mumbai Indians    15     5  KL Rahul       RS Bopara   \n",
      "139409               Mumbai Indians     4     5  KL Rahul         V Kohli   \n",
      "139863      Rising Pune Supergiants     4     4  KL Rahul         V Kohli   \n",
      "142665          Sunrisers Hyderabad    10     6  KL Rahul  AB de Villiers   \n",
      "143279        Kolkata Knight Riders    12     1  KL Rahul         V Kohli   \n",
      "144618      Rising Pune Supergiants    12     1  KL Rahul         V Kohli   \n",
      "149631                Gujarat Lions     4     3  KL Rahul  AB de Villiers   \n",
      "150858             Delhi Daredevils     5     5  KL Rahul    Yuvraj Singh   \n",
      "152117  Royal Challengers Bangalore    12     1  KL Rahul         KK Nair   \n",
      "153074          Chennai Super Kings     8     6  KL Rahul        CH Gayle   \n",
      "154663        Kolkata Knight Riders    10     4  KL Rahul        CH Gayle   \n",
      "155428             Delhi Daredevils     5     3  KL Rahul      MA Agarwal   \n",
      "158316               Mumbai Indians     7     4  KL Rahul        CH Gayle   \n",
      "161697  Royal Challengers Bangalore     5     3  KL Rahul        CH Gayle   \n",
      "162280               Mumbai Indians    19     4  KL Rahul        AR Patel   \n",
      "165457             Rajasthan Royals     1     4  KL Rahul        CH Gayle   \n",
      "166085        Kolkata Knight Riders     2     4  KL Rahul        CH Gayle   \n",
      "169147          Chennai Super Kings    18     3  KL Rahul         SN Khan   \n",
      "171348  Royal Challengers Bangalore     7     2  KL Rahul        CH Gayle   \n",
      "172387             Rajasthan Royals    18     1  KL Rahul       DA Miller   \n",
      "173507               Delhi Capitals     2     4  KL Rahul        CH Gayle   \n",
      "174882  Royal Challengers Bangalore    11     1  KL Rahul       DA Miller   \n",
      "176401          Sunrisers Hyderabad    19     3  KL Rahul         S Singh   \n",
      "176949        Kolkata Knight Riders     3     3  KL Rahul        CH Gayle   \n",
      "177826          Chennai Super Kings    11     3  KL Rahul        CH Gayle   \n",
      "\n",
      "                   bowler  is_super_over  ...  bye_runs  legbye_runs  \\\n",
      "94969             A Nehra              0  ...         0            0   \n",
      "101685      Azhar Mahmood              0  ...         0            0   \n",
      "109239        DS Kulkarni              0  ...         0            0   \n",
      "110527           AR Patel              0  ...         0            0   \n",
      "112244           DR Smith              0  ...         0            0   \n",
      "113044         SL Malinga              0  ...         0            0   \n",
      "113882           AB Dinda              0  ...         0            0   \n",
      "116769            PP Ojha              0  ...         0            0   \n",
      "128504     MJ McClenaghan              0  ...         0            0   \n",
      "139409     MJ McClenaghan              0  ...         0            0   \n",
      "139863        NLTC Perera              0  ...         0            0   \n",
      "142665       MC Henriques              0  ...         0            0   \n",
      "143279          PP Chawla              0  ...         0            0   \n",
      "144618            A Zampa              0  ...         0            0   \n",
      "149631        DS Kulkarni              0  ...         0            0   \n",
      "150858           TA Boult              0  ...         0            0   \n",
      "152117  Washington Sundar              0  ...         0            0   \n",
      "153074    Harbhajan Singh              0  ...         0            0   \n",
      "154663          SP Narine              0  ...         0            0   \n",
      "155428         L Plunkett              0  ...         0            0   \n",
      "158316         M Markande              0  ...         0            0   \n",
      "161697           UT Yadav              0  ...         0            0   \n",
      "162280          JJ Bumrah              0  ...         0            0   \n",
      "165457        DS Kulkarni              0  ...         0            0   \n",
      "166085         L Ferguson              0  ...         0            0   \n",
      "169147       S Kuggeleijn              0  ...         0            0   \n",
      "171348          YS Chahal              0  ...         0            0   \n",
      "172387         JD Unadkat              0  ...         0            0   \n",
      "173507       S Lamichhane              0  ...         0            0   \n",
      "174882              M Ali              0  ...         0            0   \n",
      "176401            K Ahmed              0  ...         0            0   \n",
      "176949          S Warrier              0  ...         0            0   \n",
      "177826    Harbhajan Singh              0  ...         0            0   \n",
      "\n",
      "        noball_runs  penalty_runs  batsman_runs  extra_runs  total_runs  \\\n",
      "94969             0             0             0           0           0   \n",
      "101685            0             0             0           0           0   \n",
      "109239            0             0             0           0           0   \n",
      "110527            0             0             0           0           0   \n",
      "112244            0             0             0           0           0   \n",
      "113044            0             0             0           0           0   \n",
      "113882            0             0             0           0           0   \n",
      "116769            0             0             0           0           0   \n",
      "128504            0             0             0           0           0   \n",
      "139409            0             0             0           0           0   \n",
      "139863            0             0             0           0           0   \n",
      "142665            0             0             0           0           0   \n",
      "143279            0             0             0           0           0   \n",
      "144618            0             0             0           0           0   \n",
      "149631            0             0             0           0           0   \n",
      "150858            0             0             0           0           0   \n",
      "152117            0             0             0           0           0   \n",
      "153074            0             0             0           0           0   \n",
      "154663            0             0             0           0           0   \n",
      "155428            0             0             0           0           0   \n",
      "158316            0             0             0           0           0   \n",
      "161697            0             0             0           0           0   \n",
      "162280            0             0             0           0           0   \n",
      "165457            0             0             0           0           0   \n",
      "166085            0             0             0           0           0   \n",
      "169147            0             0             0           0           0   \n",
      "171348            0             0             0           0           0   \n",
      "172387            0             0             0           0           0   \n",
      "173507            0             0             0           0           0   \n",
      "174882            0             0             0           0           0   \n",
      "176401            0             0             0           0           0   \n",
      "176949            0             0             0           0           0   \n",
      "177826            0             0             0           0           0   \n",
      "\n",
      "        player_dismissed dismissal_kind           fielder  \n",
      "94969           KL Rahul         caught  DPMD Jayawardene  \n",
      "101685          KL Rahul         caught     Mandeep Singh  \n",
      "109239          KL Rahul         caught         AM Rahane  \n",
      "110527          KL Rahul         caught         DA Miller  \n",
      "112244          KL Rahul         caught         IC Pandey  \n",
      "113044          KL Rahul         caught         CM Gautam  \n",
      "113882          KL Rahul         caught          CH Gayle  \n",
      "116769          KL Rahul        run out         RG Sharma  \n",
      "128504          KL Rahul         caught         AT Rayudu  \n",
      "139409          KL Rahul         caught   Harbhajan Singh  \n",
      "139863          KL Rahul         caught          I Sharma  \n",
      "142665          KL Rahul         caught           NV Ojha  \n",
      "143279          KL Rahul         caught         YK Pathan  \n",
      "144618          KL Rahul         caught         GJ Bailey  \n",
      "149631          KL Rahul         caught          DR Smith  \n",
      "150858          KL Rahul         caught    Mohammed Shami  \n",
      "152117          KL Rahul         caught           SN Khan  \n",
      "153074          KL Rahul         caught          DJ Bravo  \n",
      "154663          KL Rahul         caught          T Curran  \n",
      "155428          KL Rahul         caught        Avesh Khan  \n",
      "158316          KL Rahul         caught         JP Duminy  \n",
      "161697          KL Rahul         caught   C de Grandhomme  \n",
      "162280          KL Rahul         caught       BCJ Cutting  \n",
      "165457          KL Rahul         caught        JC Buttler  \n",
      "166085          KL Rahul         caught     Kuldeep Yadav  \n",
      "169147          KL Rahul         caught         RA Jadeja  \n",
      "171348          KL Rahul        stumped          PA Patel  \n",
      "172387          KL Rahul         caught          J Archer  \n",
      "173507          KL Rahul        stumped           RR Pant  \n",
      "174882          KL Rahul         caught        TG Southee  \n",
      "176401          KL Rahul         caught     KS Williamson  \n",
      "176949          KL Rahul         caught           CA Lynn  \n",
      "177826          KL Rahul         caught       Imran Tahir  \n",
      "\n",
      "[33 rows x 21 columns]\n"
     ]
    }
   ],
   "source": [
    "KLR_out = df.loc[(df['batsman'] == 'KL Rahul') & (df['player_dismissed'] == 'KL Rahul')].dropna()\n",
    "print(KLR_out)"
   ]
  },
  {
   "cell_type": "code",
   "execution_count": 17,
   "metadata": {
    "scrolled": true
   },
   "outputs": [
    {
     "name": "stdout",
     "output_type": "stream",
     "text": [
      "Empty DataFrame\n",
      "Columns: [match_id, inning, batting_team, bowling_team, over, ball, batsman, non_striker, bowler, is_super_over, wide_runs, bye_runs, legbye_runs, noball_runs, penalty_runs, batsman_runs, extra_runs, total_runs, player_dismissed, dismissal_kind, fielder]\n",
      "Index: []\n",
      "\n",
      "[0 rows x 21 columns]\n"
     ]
    }
   ],
   "source": [
    "KLR_runout = df.loc[(df['non_striker'] == 'KL Rahul') & (df['player_dismissed'] == 'KL Rahul')]\n",
    "print(KLR_runout)"
   ]
  },
  {
   "cell_type": "code",
   "execution_count": 11,
   "metadata": {},
   "outputs": [
    {
     "name": "stdout",
     "output_type": "stream",
     "text": [
      "58\n"
     ]
    }
   ],
   "source": [
    "KLR = df.loc[(df['batsman'] == 'KL Rahul')]\n",
    "matches = KLR.groupby('match_id').size().count()\n",
    "print(matches)"
   ]
  },
  {
   "cell_type": "code",
   "execution_count": 18,
   "metadata": {},
   "outputs": [
    {
     "name": "stdout",
     "output_type": "stream",
     "text": [
      "30\n"
     ]
    }
   ],
   "source": [
    "caught = KLR_out.loc[(KLR_out['dismissal_kind'] == 'caught')]\n",
    "b = caught.groupby('match_id').size().count()\n",
    "print(b)"
   ]
  },
  {
   "cell_type": "code",
   "execution_count": 19,
   "metadata": {},
   "outputs": [
    {
     "name": "stdout",
     "output_type": "stream",
     "text": [
      "0\n"
     ]
    }
   ],
   "source": [
    "bowled = KLR_out.loc[(KLR_out['dismissal_kind'] == 'bowled')]\n",
    "c = bowled.groupby('match_id').size().count()\n",
    "print(c)"
   ]
  },
  {
   "cell_type": "code",
   "execution_count": 20,
   "metadata": {},
   "outputs": [
    {
     "name": "stdout",
     "output_type": "stream",
     "text": [
      "33\n"
     ]
    }
   ],
   "source": [
    "N_KLR_out = KLR_out.groupby('match_id').size().count()\n",
    "print(N_KLR_out)"
   ]
  },
  {
   "cell_type": "code",
   "execution_count": 21,
   "metadata": {},
   "outputs": [
    {
     "name": "stdout",
     "output_type": "stream",
     "text": [
      "3\n"
     ]
    }
   ],
   "source": [
    "lbw_and_others = N_KLR_out - b - c\n",
    "print(lbw_and_others)"
   ]
  },
  {
   "cell_type": "code",
   "execution_count": 23,
   "metadata": {},
   "outputs": [
    {
     "name": "stdout",
     "output_type": "stream",
     "text": [
      "25\n"
     ]
    }
   ],
   "source": [
    "KLR_notout = matches - N_KLR_out\n",
    "print(KLR_notout)"
   ]
  },
  {
   "cell_type": "code",
   "execution_count": null,
   "metadata": {},
   "outputs": [],
   "source": []
  }
 ],
 "metadata": {
  "kernelspec": {
   "display_name": "Python 3",
   "language": "python",
   "name": "python3"
  },
  "language_info": {
   "codemirror_mode": {
    "name": "ipython",
    "version": 3
   },
   "file_extension": ".py",
   "mimetype": "text/x-python",
   "name": "python",
   "nbconvert_exporter": "python",
   "pygments_lexer": "ipython3",
   "version": "3.9.0"
  }
 },
 "nbformat": 4,
 "nbformat_minor": 4
}
