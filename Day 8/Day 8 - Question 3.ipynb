{
 "cells": [
  {
   "cell_type": "code",
   "execution_count": 2,
   "metadata": {},
   "outputs": [],
   "source": [
    "from pandas import *"
   ]
  },
  {
   "cell_type": "code",
   "execution_count": 3,
   "metadata": {
    "scrolled": true
   },
   "outputs": [
    {
     "name": "stdout",
     "output_type": "stream",
     "text": [
      "        match_id  inning         batting_team                 bowling_team  \\\n",
      "0              1       1  Sunrisers Hyderabad  Royal Challengers Bangalore   \n",
      "1              1       1  Sunrisers Hyderabad  Royal Challengers Bangalore   \n",
      "2              1       1  Sunrisers Hyderabad  Royal Challengers Bangalore   \n",
      "3              1       1  Sunrisers Hyderabad  Royal Challengers Bangalore   \n",
      "4              1       1  Sunrisers Hyderabad  Royal Challengers Bangalore   \n",
      "...          ...     ...                  ...                          ...   \n",
      "179073     11415       2  Chennai Super Kings               Mumbai Indians   \n",
      "179074     11415       2  Chennai Super Kings               Mumbai Indians   \n",
      "179075     11415       2  Chennai Super Kings               Mumbai Indians   \n",
      "179076     11415       2  Chennai Super Kings               Mumbai Indians   \n",
      "179077     11415       2  Chennai Super Kings               Mumbai Indians   \n",
      "\n",
      "        over  ball    batsman non_striker      bowler  is_super_over  ...  \\\n",
      "0          1     1  DA Warner    S Dhawan    TS Mills              0  ...   \n",
      "1          1     2  DA Warner    S Dhawan    TS Mills              0  ...   \n",
      "2          1     3  DA Warner    S Dhawan    TS Mills              0  ...   \n",
      "3          1     4  DA Warner    S Dhawan    TS Mills              0  ...   \n",
      "4          1     5  DA Warner    S Dhawan    TS Mills              0  ...   \n",
      "...      ...   ...        ...         ...         ...            ...  ...   \n",
      "179073    20     2  RA Jadeja   SR Watson  SL Malinga              0  ...   \n",
      "179074    20     3  SR Watson   RA Jadeja  SL Malinga              0  ...   \n",
      "179075    20     4  SR Watson   RA Jadeja  SL Malinga              0  ...   \n",
      "179076    20     5  SN Thakur   RA Jadeja  SL Malinga              0  ...   \n",
      "179077    20     6  SN Thakur   RA Jadeja  SL Malinga              0  ...   \n",
      "\n",
      "        bye_runs  legbye_runs  noball_runs  penalty_runs  batsman_runs  \\\n",
      "0              0            0            0             0             0   \n",
      "1              0            0            0             0             0   \n",
      "2              0            0            0             0             4   \n",
      "3              0            0            0             0             0   \n",
      "4              0            0            0             0             0   \n",
      "...          ...          ...          ...           ...           ...   \n",
      "179073         0            0            0             0             1   \n",
      "179074         0            0            0             0             2   \n",
      "179075         0            0            0             0             1   \n",
      "179076         0            0            0             0             2   \n",
      "179077         0            0            0             0             0   \n",
      "\n",
      "        extra_runs  total_runs  player_dismissed dismissal_kind    fielder  \n",
      "0                0           0               NaN            NaN        NaN  \n",
      "1                0           0               NaN            NaN        NaN  \n",
      "2                0           4               NaN            NaN        NaN  \n",
      "3                0           0               NaN            NaN        NaN  \n",
      "4                2           2               NaN            NaN        NaN  \n",
      "...            ...         ...               ...            ...        ...  \n",
      "179073           0           1               NaN            NaN        NaN  \n",
      "179074           0           2               NaN            NaN        NaN  \n",
      "179075           0           1         SR Watson        run out  KH Pandya  \n",
      "179076           0           2               NaN            NaN        NaN  \n",
      "179077           0           0         SN Thakur            lbw        NaN  \n",
      "\n",
      "[179078 rows x 21 columns]\n"
     ]
    }
   ],
   "source": [
    "df = read_csv(r'C:\\Users\\harsi\\OneDrive\\Desktop\\WPL Datasets\\deliveries.csv')\n",
    "print(df)"
   ]
  },
  {
   "cell_type": "code",
   "execution_count": 5,
   "metadata": {
    "scrolled": true
   },
   "outputs": [
    {
     "name": "stdout",
     "output_type": "stream",
     "text": [
      "        match_id  inning     batting_team            bowling_team  over  ball  \\\n",
      "838            4       2  Kings XI Punjab  Rising Pune Supergiant     1     1   \n",
      "839            4       2  Kings XI Punjab  Rising Pune Supergiant     1     2   \n",
      "840            4       2  Kings XI Punjab  Rising Pune Supergiant     1     3   \n",
      "841            4       2  Kings XI Punjab  Rising Pune Supergiant     1     4   \n",
      "842            4       2  Kings XI Punjab  Rising Pune Supergiant     1     5   \n",
      "...          ...     ...              ...                     ...   ...   ...   \n",
      "177793     11346       2  Kings XI Punjab     Chennai Super Kings     6     4   \n",
      "177794     11346       2  Kings XI Punjab     Chennai Super Kings     6     5   \n",
      "177795     11346       2  Kings XI Punjab     Chennai Super Kings     6     6   \n",
      "177796     11346       2  Kings XI Punjab     Chennai Super Kings     6     7   \n",
      "177797     11346       2  Kings XI Punjab     Chennai Super Kings     6     8   \n",
      "\n",
      "         batsman non_striker    bowler  is_super_over  ...  bye_runs  \\\n",
      "838      HM Amla     M Vohra  AB Dinda              0  ...         0   \n",
      "839      HM Amla     M Vohra  AB Dinda              0  ...         0   \n",
      "840      HM Amla     M Vohra  AB Dinda              0  ...         0   \n",
      "841      HM Amla     M Vohra  AB Dinda              0  ...         0   \n",
      "842      M Vohra     HM Amla  AB Dinda              0  ...         0   \n",
      "...          ...         ...       ...            ...  ...       ...   \n",
      "177793  KL Rahul    CH Gayle  DJ Bravo              0  ...         0   \n",
      "177794  KL Rahul    CH Gayle  DJ Bravo              0  ...         0   \n",
      "177795  CH Gayle    KL Rahul  DJ Bravo              0  ...         0   \n",
      "177796  CH Gayle    KL Rahul  DJ Bravo              0  ...         0   \n",
      "177797  CH Gayle    KL Rahul  DJ Bravo              0  ...         0   \n",
      "\n",
      "        legbye_runs  noball_runs  penalty_runs  batsman_runs  extra_runs  \\\n",
      "838               0            0             0             0           0   \n",
      "839               0            0             0             0           0   \n",
      "840               0            0             0             4           0   \n",
      "841               0            0             0             1           0   \n",
      "842               0            0             0             1           0   \n",
      "...             ...          ...           ...           ...         ...   \n",
      "177793            4            0             0             4           4   \n",
      "177794            0            0             0             1           0   \n",
      "177795            0            0             0             1           1   \n",
      "177796            0            0             0             1           1   \n",
      "177797            0            0             0             0           0   \n",
      "\n",
      "        total_runs  player_dismissed dismissal_kind fielder  \n",
      "838              0               NaN            NaN     NaN  \n",
      "839              0               NaN            NaN     NaN  \n",
      "840              4               NaN            NaN     NaN  \n",
      "841              1               NaN            NaN     NaN  \n",
      "842              1               NaN            NaN     NaN  \n",
      "...            ...               ...            ...     ...  \n",
      "177793           8               NaN            NaN     NaN  \n",
      "177794           1               NaN            NaN     NaN  \n",
      "177795           2               NaN            NaN     NaN  \n",
      "177796           2               NaN            NaN     NaN  \n",
      "177797           0               NaN            NaN     NaN  \n",
      "\n",
      "[6600 rows x 21 columns]\n"
     ]
    }
   ],
   "source": [
    "KXIPbattingPP = df.loc[(df['batting_team'] == 'Kings XI Punjab') & (df['over'].isin(list(range(1,7))))]\n",
    "print(KXIPbattingPP)"
   ]
  },
  {
   "cell_type": "code",
   "execution_count": 11,
   "metadata": {},
   "outputs": [
    {
     "name": "stdout",
     "output_type": "stream",
     "text": [
      "        match_id player_dismissed\n",
      "856            4          M Vohra\n",
      "871            4          WP Saha\n",
      "1837           8          M Vohra\n",
      "2390          11          M Vohra\n",
      "3454          15          M Vohra\n",
      "...          ...              ...\n",
      "173526     11328       MA Agarwal\n",
      "174840     11333         CH Gayle\n",
      "176299     11339         CH Gayle\n",
      "176949     11343         KL Rahul\n",
      "176959     11343         CH Gayle\n",
      "\n",
      "[268 rows x 2 columns]\n"
     ]
    }
   ],
   "source": [
    "KXIPbattingPPwickets = KXIPbattingPP[['match_id', 'player_dismissed']].dropna()\n",
    "print(KXIPbattingPPwickets)"
   ]
  },
  {
   "cell_type": "code",
   "execution_count": 18,
   "metadata": {},
   "outputs": [
    {
     "name": "stdout",
     "output_type": "stream",
     "text": [
      "          player_dismissed\n",
      "match_id                  \n",
      "4                        2\n",
      "8                        1\n",
      "11                       1\n",
      "15                       3\n",
      "19                       2\n",
      "...                    ...\n",
      "11323                    1\n",
      "11328                    2\n",
      "11333                    1\n",
      "11339                    1\n",
      "11343                    2\n",
      "\n",
      "[144 rows x 1 columns]\n"
     ]
    }
   ],
   "source": [
    "wickets = KXIPbattingPPwickets.groupby('match_id').count()\n",
    "print(wickets)"
   ]
  },
  {
   "cell_type": "code",
   "execution_count": 19,
   "metadata": {},
   "outputs": [
    {
     "name": "stdout",
     "output_type": "stream",
     "text": [
      "176\n"
     ]
    }
   ],
   "source": [
    "matches = KXIPbattingPP.groupby('match_id').size().count()\n",
    "print(matches)"
   ]
  },
  {
   "cell_type": "code",
   "execution_count": 28,
   "metadata": {},
   "outputs": [
    {
     "name": "stdout",
     "output_type": "stream",
     "text": [
      "53\n"
     ]
    }
   ],
   "source": [
    "b = wickets.loc[(wickets['player_dismissed'] == 2)]\n",
    "B = b.groupby('match_id').size().count()\n",
    "print(B)"
   ]
  },
  {
   "cell_type": "code",
   "execution_count": 29,
   "metadata": {},
   "outputs": [
    {
     "name": "stdout",
     "output_type": "stream",
     "text": [
      "19\n"
     ]
    }
   ],
   "source": [
    "c = wickets.loc[(wickets['player_dismissed'] == 3)]\n",
    "C = c.groupby('match_id').size().count()\n",
    "print(C)"
   ]
  },
  {
   "cell_type": "code",
   "execution_count": 35,
   "metadata": {},
   "outputs": [
    {
     "name": "stdout",
     "output_type": "stream",
     "text": [
      "10\n"
     ]
    }
   ],
   "source": [
    "max_value = wickets['player_dismissed'].max()\n",
    "r = list(range(4,max_value+1))\n",
    "d = wickets.loc[wickets['player_dismissed'].isin(r)]\n",
    "D = d.groupby('match_id').size().count()\n",
    "print(D)"
   ]
  },
  {
   "cell_type": "code",
   "execution_count": 36,
   "metadata": {},
   "outputs": [
    {
     "name": "stdout",
     "output_type": "stream",
     "text": [
      "94\n"
     ]
    }
   ],
   "source": [
    "wickets_0_to_1 = matches - B - C - D\n",
    "print(wickets_0_to_2)"
   ]
  },
  {
   "cell_type": "code",
   "execution_count": null,
   "metadata": {},
   "outputs": [],
   "source": []
  }
 ],
 "metadata": {
  "kernelspec": {
   "display_name": "Python 3",
   "language": "python",
   "name": "python3"
  },
  "language_info": {
   "codemirror_mode": {
    "name": "ipython",
    "version": 3
   },
   "file_extension": ".py",
   "mimetype": "text/x-python",
   "name": "python",
   "nbconvert_exporter": "python",
   "pygments_lexer": "ipython3",
   "version": "3.9.0"
  }
 },
 "nbformat": 4,
 "nbformat_minor": 4
}
