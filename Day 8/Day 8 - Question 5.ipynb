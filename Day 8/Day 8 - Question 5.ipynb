{
 "cells": [
  {
   "cell_type": "code",
   "execution_count": 1,
   "metadata": {},
   "outputs": [],
   "source": [
    "from pandas import *"
   ]
  },
  {
   "cell_type": "code",
   "execution_count": 2,
   "metadata": {
    "scrolled": true
   },
   "outputs": [
    {
     "name": "stdout",
     "output_type": "stream",
     "text": [
      "        match_id  inning         batting_team                 bowling_team  \\\n",
      "0              1       1  Sunrisers Hyderabad  Royal Challengers Bangalore   \n",
      "1              1       1  Sunrisers Hyderabad  Royal Challengers Bangalore   \n",
      "2              1       1  Sunrisers Hyderabad  Royal Challengers Bangalore   \n",
      "3              1       1  Sunrisers Hyderabad  Royal Challengers Bangalore   \n",
      "4              1       1  Sunrisers Hyderabad  Royal Challengers Bangalore   \n",
      "...          ...     ...                  ...                          ...   \n",
      "179073     11415       2  Chennai Super Kings               Mumbai Indians   \n",
      "179074     11415       2  Chennai Super Kings               Mumbai Indians   \n",
      "179075     11415       2  Chennai Super Kings               Mumbai Indians   \n",
      "179076     11415       2  Chennai Super Kings               Mumbai Indians   \n",
      "179077     11415       2  Chennai Super Kings               Mumbai Indians   \n",
      "\n",
      "        over  ball    batsman non_striker      bowler  is_super_over  ...  \\\n",
      "0          1     1  DA Warner    S Dhawan    TS Mills              0  ...   \n",
      "1          1     2  DA Warner    S Dhawan    TS Mills              0  ...   \n",
      "2          1     3  DA Warner    S Dhawan    TS Mills              0  ...   \n",
      "3          1     4  DA Warner    S Dhawan    TS Mills              0  ...   \n",
      "4          1     5  DA Warner    S Dhawan    TS Mills              0  ...   \n",
      "...      ...   ...        ...         ...         ...            ...  ...   \n",
      "179073    20     2  RA Jadeja   SR Watson  SL Malinga              0  ...   \n",
      "179074    20     3  SR Watson   RA Jadeja  SL Malinga              0  ...   \n",
      "179075    20     4  SR Watson   RA Jadeja  SL Malinga              0  ...   \n",
      "179076    20     5  SN Thakur   RA Jadeja  SL Malinga              0  ...   \n",
      "179077    20     6  SN Thakur   RA Jadeja  SL Malinga              0  ...   \n",
      "\n",
      "        bye_runs  legbye_runs  noball_runs  penalty_runs  batsman_runs  \\\n",
      "0              0            0            0             0             0   \n",
      "1              0            0            0             0             0   \n",
      "2              0            0            0             0             4   \n",
      "3              0            0            0             0             0   \n",
      "4              0            0            0             0             0   \n",
      "...          ...          ...          ...           ...           ...   \n",
      "179073         0            0            0             0             1   \n",
      "179074         0            0            0             0             2   \n",
      "179075         0            0            0             0             1   \n",
      "179076         0            0            0             0             2   \n",
      "179077         0            0            0             0             0   \n",
      "\n",
      "        extra_runs  total_runs  player_dismissed dismissal_kind    fielder  \n",
      "0                0           0               NaN            NaN        NaN  \n",
      "1                0           0               NaN            NaN        NaN  \n",
      "2                0           4               NaN            NaN        NaN  \n",
      "3                0           0               NaN            NaN        NaN  \n",
      "4                2           2               NaN            NaN        NaN  \n",
      "...            ...         ...               ...            ...        ...  \n",
      "179073           0           1               NaN            NaN        NaN  \n",
      "179074           0           2               NaN            NaN        NaN  \n",
      "179075           0           1         SR Watson        run out  KH Pandya  \n",
      "179076           0           2               NaN            NaN        NaN  \n",
      "179077           0           0         SN Thakur            lbw        NaN  \n",
      "\n",
      "[179078 rows x 21 columns]\n"
     ]
    }
   ],
   "source": [
    "df = read_csv(r'C:\\Users\\harsi\\OneDrive\\Desktop\\WPL Datasets\\deliveries.csv')\n",
    "print(df)"
   ]
  },
  {
   "cell_type": "code",
   "execution_count": 3,
   "metadata": {
    "scrolled": true
   },
   "outputs": [
    {
     "name": "stdout",
     "output_type": "stream",
     "text": [
      "        match_id  inning     batting_team     bowling_team  over  ball  \\\n",
      "5055          22       1  Kings XI Punjab   Mumbai Indians     1     1   \n",
      "5056          22       1  Kings XI Punjab   Mumbai Indians     1     2   \n",
      "5057          22       1  Kings XI Punjab   Mumbai Indians     1     3   \n",
      "5058          22       1  Kings XI Punjab   Mumbai Indians     1     4   \n",
      "5059          22       1  Kings XI Punjab   Mumbai Indians     1     5   \n",
      "...          ...     ...              ...              ...   ...   ...   \n",
      "170579     11315       2   Mumbai Indians  Kings XI Punjab    20     3   \n",
      "170580     11315       2   Mumbai Indians  Kings XI Punjab    20     4   \n",
      "170581     11315       2   Mumbai Indians  Kings XI Punjab    20     5   \n",
      "170582     11315       2   Mumbai Indians  Kings XI Punjab    20     6   \n",
      "170583     11315       2   Mumbai Indians  Kings XI Punjab    20     7   \n",
      "\n",
      "           batsman non_striker      bowler  is_super_over  ...  bye_runs  \\\n",
      "5055       HM Amla    SE Marsh   HH Pandya              0  ...         0   \n",
      "5056      SE Marsh     HM Amla   HH Pandya              0  ...         0   \n",
      "5057      SE Marsh     HM Amla   HH Pandya              0  ...         0   \n",
      "5058      SE Marsh     HM Amla   HH Pandya              0  ...         0   \n",
      "5059      SE Marsh     HM Amla   HH Pandya              0  ...         0   \n",
      "...            ...         ...         ...            ...  ...       ...   \n",
      "170579  KA Pollard    A Joseph  AS Rajpoot              0  ...         0   \n",
      "170580    A Joseph   RD Chahar  AS Rajpoot              0  ...         0   \n",
      "170581    A Joseph   RD Chahar  AS Rajpoot              0  ...         0   \n",
      "170582   RD Chahar    A Joseph  AS Rajpoot              0  ...         0   \n",
      "170583    A Joseph   RD Chahar  AS Rajpoot              0  ...         0   \n",
      "\n",
      "        legbye_runs  noball_runs  penalty_runs  batsman_runs  extra_runs  \\\n",
      "5055              0            0             0             1           0   \n",
      "5056              0            0             0             0           0   \n",
      "5057              0            0             0             4           0   \n",
      "5058              0            0             0             0           0   \n",
      "5059              0            0             0             1           0   \n",
      "...             ...          ...           ...           ...         ...   \n",
      "170579            0            0             0             0           0   \n",
      "170580            0            0             0             0           0   \n",
      "170581            0            0             0             1           0   \n",
      "170582            0            0             0             1           0   \n",
      "170583            0            0             0             2           0   \n",
      "\n",
      "        total_runs  player_dismissed dismissal_kind    fielder  \n",
      "5055             1               NaN            NaN        NaN  \n",
      "5056             0               NaN            NaN        NaN  \n",
      "5057             4               NaN            NaN        NaN  \n",
      "5058             0               NaN            NaN        NaN  \n",
      "5059             1               NaN            NaN        NaN  \n",
      "...            ...               ...            ...        ...  \n",
      "170579           0        KA Pollard         caught  DA Miller  \n",
      "170580           0               NaN            NaN        NaN  \n",
      "170581           1               NaN            NaN        NaN  \n",
      "170582           1               NaN            NaN        NaN  \n",
      "170583           2               NaN            NaN        NaN  \n",
      "\n",
      "[5834 rows x 21 columns]\n"
     ]
    }
   ],
   "source": [
    "team = ('Mumbai Indians', 'Kings XI Punjab')\n",
    "MIvsKXIP = df.loc[df['batting_team'].isin(team) & df['bowling_team'].isin(team)]\n",
    "print(MIvsKXIP)"
   ]
  },
  {
   "cell_type": "code",
   "execution_count": 5,
   "metadata": {
    "scrolled": true
   },
   "outputs": [
    {
     "name": "stdout",
     "output_type": "stream",
     "text": [
      "        match_id player_dismissed\n",
      "5089          22         SE Marsh\n",
      "5121          22          WP Saha\n",
      "5157          22       GJ Maxwell\n",
      "5162          22       MP Stoinis\n",
      "5218          22         PA Patel\n",
      "...          ...              ...\n",
      "170509     11315        Q de Kock\n",
      "170530     11315     Ishan Kishan\n",
      "170551     11315        HH Pandya\n",
      "170556     11315        KH Pandya\n",
      "170579     11315       KA Pollard\n",
      "\n",
      "[294 rows x 2 columns]\n"
     ]
    }
   ],
   "source": [
    "MIvsKXIPwickets = MIvsKXIP[['match_id', 'player_dismissed']].dropna()\n",
    "print(MIvsKXIPwickets)"
   ]
  },
  {
   "cell_type": "code",
   "execution_count": 6,
   "metadata": {},
   "outputs": [
    {
     "name": "stdout",
     "output_type": "stream",
     "text": [
      "          player_dismissed\n",
      "match_id                  \n",
      "22                       6\n",
      "50                       9\n",
      "69                      19\n",
      "106                     14\n",
      "135                     15\n",
      "157                     11\n",
      "201                     16\n",
      "215                     13\n",
      "273                     13\n",
      "287                     18\n",
      "336                     10\n",
      "340                      9\n",
      "421                     13\n",
      "450                     17\n",
      "479                     10\n",
      "505                     11\n",
      "524                     12\n",
      "552                     10\n",
      "597                     13\n",
      "619                     12\n",
      "7927                    10\n",
      "7943                    13\n",
      "11145                    9\n",
      "11315                   11\n"
     ]
    }
   ],
   "source": [
    "N_wickets = MIvsKXIPwickets.groupby('match_id').count()\n",
    "print(N_wickets)"
   ]
  },
  {
   "cell_type": "code",
   "execution_count": 7,
   "metadata": {},
   "outputs": [
    {
     "name": "stdout",
     "output_type": "stream",
     "text": [
      "24\n"
     ]
    }
   ],
   "source": [
    "N_MIvsKXIP = MIvsKXIP.groupby('match_id').size().count()\n",
    "print(N_MIvsKXIP)"
   ]
  },
  {
   "cell_type": "code",
   "execution_count": 8,
   "metadata": {},
   "outputs": [
    {
     "name": "stdout",
     "output_type": "stream",
     "text": [
      "8\n"
     ]
    }
   ],
   "source": [
    "r1 = list(range(6,11))\n",
    "a = N_wickets.loc[N_wickets['player_dismissed'].isin(r1)]\n",
    "A = a.groupby('match_id').size().count()\n",
    "print(A)"
   ]
  },
  {
   "cell_type": "code",
   "execution_count": 10,
   "metadata": {},
   "outputs": [
    {
     "name": "stdout",
     "output_type": "stream",
     "text": [
      "12\n"
     ]
    }
   ],
   "source": [
    "r2 = list(range(11,16))\n",
    "b = N_wickets.loc[N_wickets['player_dismissed'].isin(r2)]\n",
    "B = b.groupby('match_id').size().count()\n",
    "print(B)"
   ]
  },
  {
   "cell_type": "code",
   "execution_count": 11,
   "metadata": {},
   "outputs": [
    {
     "name": "stdout",
     "output_type": "stream",
     "text": [
      "4\n"
     ]
    }
   ],
   "source": [
    "r3 = list(range(16,21))\n",
    "c = N_wickets.loc[N_wickets['player_dismissed'].isin(r3)]\n",
    "C = c.groupby('match_id').size().count()\n",
    "print(C)"
   ]
  },
  {
   "cell_type": "code",
   "execution_count": 13,
   "metadata": {},
   "outputs": [
    {
     "name": "stdout",
     "output_type": "stream",
     "text": [
      "0\n"
     ]
    }
   ],
   "source": [
    "times_0_to_5_wickets = N_MIvsKXIP-A-B-C\n",
    "print(times_0_to_5_wickets)"
   ]
  },
  {
   "cell_type": "code",
   "execution_count": null,
   "metadata": {},
   "outputs": [],
   "source": []
  }
 ],
 "metadata": {
  "kernelspec": {
   "display_name": "Python 3",
   "language": "python",
   "name": "python3"
  },
  "language_info": {
   "codemirror_mode": {
    "name": "ipython",
    "version": 3
   },
   "file_extension": ".py",
   "mimetype": "text/x-python",
   "name": "python",
   "nbconvert_exporter": "python",
   "pygments_lexer": "ipython3",
   "version": "3.9.0"
  }
 },
 "nbformat": 4,
 "nbformat_minor": 4
}
