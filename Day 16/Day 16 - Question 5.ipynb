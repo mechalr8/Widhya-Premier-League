{
 "cells": [
  {
   "cell_type": "code",
   "execution_count": 1,
   "metadata": {},
   "outputs": [],
   "source": [
    "from pandas import *\n",
    "df = read_csv(r'C:\\Users\\harsi\\OneDrive\\Desktop\\WPL Datasets\\deliveries.csv')"
   ]
  },
  {
   "cell_type": "code",
   "execution_count": 2,
   "metadata": {},
   "outputs": [
    {
     "name": "stdout",
     "output_type": "stream",
     "text": [
      "          noball_runs\n",
      "match_id             \n",
      "11                  2\n",
      "81                  1\n",
      "196                 2\n",
      "208                 1\n",
      "415                 1\n",
      "472                 1\n",
      "517                 1\n",
      "7911                1\n",
      "11142               1\n"
     ]
    }
   ],
   "source": [
    "team = ('Kings XI Punjab', 'Kolkata Knight Riders')\n",
    "KXIPvsKKR_noball = df.loc[df['batting_team'].isin(team) & df['bowling_team'].isin(team) & df['noball_runs'] > 0]\n",
    "noball = KXIPvsKKR_noball[['match_id', 'noball_runs']]\n",
    "N_noball = noball.groupby('match_id').count()\n",
    "print(N_noball)"
   ]
  },
  {
   "cell_type": "code",
   "execution_count": 4,
   "metadata": {},
   "outputs": [
    {
     "name": "stdout",
     "output_type": "stream",
     "text": [
      "2\n"
     ]
    }
   ],
   "source": [
    "r2 = list(range(2,4))\n",
    "b = N_noball.loc[N_noball['noball_runs'].isin(r2)]\n",
    "B = b.groupby('match_id').size().count()\n",
    "print(B)"
   ]
  },
  {
   "cell_type": "code",
   "execution_count": 5,
   "metadata": {},
   "outputs": [
    {
     "name": "stdout",
     "output_type": "stream",
     "text": [
      "0\n"
     ]
    }
   ],
   "source": [
    "r3 = list(range(4,6))\n",
    "c = N_noball.loc[N_noball['noball_runs'].isin(r3)]\n",
    "C = c.groupby('match_id').size().count()\n",
    "print(C)"
   ]
  },
  {
   "cell_type": "code",
   "execution_count": 6,
   "metadata": {},
   "outputs": [
    {
     "name": "stdout",
     "output_type": "stream",
     "text": [
      "0\n"
     ]
    }
   ],
   "source": [
    "maxm = N_noball['noball_runs'].max()\n",
    "r4 = list(range(6,maxm+1))\n",
    "d = N_noball.loc[N_noball['noball_runs'].isin(r4)]\n",
    "D = d.groupby('match_id').size().count()\n",
    "print(D)"
   ]
  },
  {
   "cell_type": "code",
   "execution_count": 8,
   "metadata": {},
   "outputs": [
    {
     "name": "stdout",
     "output_type": "stream",
     "text": [
      "25\n"
     ]
    }
   ],
   "source": [
    "KXIPvsKKR = df.loc[df['batting_team'].isin(team) & df['bowling_team'].isin(team)]\n",
    "total_matches = KXIPvsKKR.groupby('match_id').size().count()\n",
    "print(total_matches)"
   ]
  },
  {
   "cell_type": "code",
   "execution_count": 10,
   "metadata": {},
   "outputs": [
    {
     "name": "stdout",
     "output_type": "stream",
     "text": [
      "23\n"
     ]
    }
   ],
   "source": [
    "A = total_matches - B - C - D\n",
    "print(A)"
   ]
  },
  {
   "cell_type": "code",
   "execution_count": null,
   "metadata": {},
   "outputs": [],
   "source": []
  }
 ],
 "metadata": {
  "kernelspec": {
   "display_name": "Python 3",
   "language": "python",
   "name": "python3"
  },
  "language_info": {
   "codemirror_mode": {
    "name": "ipython",
    "version": 3
   },
   "file_extension": ".py",
   "mimetype": "text/x-python",
   "name": "python",
   "nbconvert_exporter": "python",
   "pygments_lexer": "ipython3",
   "version": "3.7.0"
  }
 },
 "nbformat": 4,
 "nbformat_minor": 4
}
