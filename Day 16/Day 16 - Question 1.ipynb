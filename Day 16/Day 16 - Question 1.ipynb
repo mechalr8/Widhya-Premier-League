{
 "cells": [
  {
   "cell_type": "code",
   "execution_count": 1,
   "metadata": {},
   "outputs": [],
   "source": [
    "from pandas import *\n",
    "df = read_csv(r'C:\\Users\\harsi\\OneDrive\\Desktop\\WPL Datasets\\matches.csv')"
   ]
  },
  {
   "cell_type": "code",
   "execution_count": 2,
   "metadata": {},
   "outputs": [
    {
     "name": "stdout",
     "output_type": "stream",
     "text": [
      "25\n"
     ]
    }
   ],
   "source": [
    "team = ('Kings XI Punjab', 'Kolkata Knight Riders')\n",
    "KXIPvsKKR = df.loc[df['team1'].isin(team) & df['team2'].isin(team)]\n",
    "N_KXIPvsKKR = KXIPvsKKR.groupby('id').size().count()\n",
    "print(N_KXIPvsKKR)"
   ]
  },
  {
   "cell_type": "code",
   "execution_count": 3,
   "metadata": {},
   "outputs": [
    {
     "name": "stdout",
     "output_type": "stream",
     "text": [
      "8\n"
     ]
    }
   ],
   "source": [
    "KXIPwin = KXIPvsKKR.loc[(KXIPvsKKR['winner'] == 'Kings XI Punjab')]\n",
    "N_KXIPwin = KXIPwin.groupby('id').size().count()\n",
    "print(N_KXIPwin)"
   ]
  },
  {
   "cell_type": "code",
   "execution_count": 4,
   "metadata": {},
   "outputs": [
    {
     "name": "stdout",
     "output_type": "stream",
     "text": [
      "17\n"
     ]
    }
   ],
   "source": [
    "KKRwin = KXIPvsKKR.loc[(KXIPvsKKR['winner'] == 'Kolkata Knight Riders')]\n",
    "N_KKRwin = KKRwin.groupby('id').size().count()\n",
    "print(N_KKRwin)"
   ]
  }
 ],
 "metadata": {
  "kernelspec": {
   "display_name": "Python 3",
   "language": "python",
   "name": "python3"
  },
  "language_info": {
   "codemirror_mode": {
    "name": "ipython",
    "version": 3
   },
   "file_extension": ".py",
   "mimetype": "text/x-python",
   "name": "python",
   "nbconvert_exporter": "python",
   "pygments_lexer": "ipython3",
   "version": "3.7.0"
  }
 },
 "nbformat": 4,
 "nbformat_minor": 4
}
