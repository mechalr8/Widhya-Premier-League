{
 "cells": [
  {
   "cell_type": "code",
   "execution_count": 1,
   "metadata": {},
   "outputs": [],
   "source": [
    "from pandas import *\n",
    "df = read_csv(r'C:\\Users\\harsi\\OneDrive\\Desktop\\WPL Datasets\\deliveries.csv')"
   ]
  },
  {
   "cell_type": "code",
   "execution_count": 6,
   "metadata": {},
   "outputs": [
    {
     "name": "stdout",
     "output_type": "stream",
     "text": [
      "          ball\n",
      "match_id      \n",
      "11          79\n",
      "48          75\n",
      "81          88\n",
      "112         92\n",
      "123         72\n",
      "142         87\n",
      "196         85\n",
      "208         54\n",
      "270         98\n",
      "325         85\n",
      "330         75\n",
      "400         85\n",
      "415         91\n",
      "472        100\n",
      "491         76\n",
      "514         97\n",
      "517         76\n",
      "532         88\n",
      "560         80\n",
      "589         73\n",
      "608         75\n",
      "7911        60\n",
      "7937        63\n",
      "11142       81\n",
      "11343       66\n"
     ]
    }
   ],
   "source": [
    "team = ('Kings XI Punjab', 'Kolkata Knight Riders')\n",
    "KXIPvsKKR = df.loc[df['batting_team'].isin(team) & df['bowling_team'].isin(team)]\n",
    "dot_balls = KXIPvsKKR.loc[(KXIPvsKKR['total_runs'] == 0)]\n",
    "dot_balls = dot_balls[['match_id', 'ball']]\n",
    "N_dot_balls = dot_balls.groupby('match_id').count()\n",
    "print(N_dot_balls)"
   ]
  },
  {
   "cell_type": "code",
   "execution_count": 7,
   "metadata": {},
   "outputs": [
    {
     "name": "stdout",
     "output_type": "stream",
     "text": [
      "1\n"
     ]
    }
   ],
   "source": [
    "r1 = list(range(0,60))\n",
    "a = N_dot_balls.loc[N_dot_balls['ball'].isin(r1)]\n",
    "A = a.groupby('match_id').size().count()\n",
    "print(A)"
   ]
  },
  {
   "cell_type": "code",
   "execution_count": 8,
   "metadata": {},
   "outputs": [
    {
     "name": "stdout",
     "output_type": "stream",
     "text": [
      "19\n"
     ]
    }
   ],
   "source": [
    "r2 = list(range(60,91))\n",
    "b = N_dot_balls.loc[N_dot_balls['ball'].isin(r2)]\n",
    "B = b.groupby('match_id').size().count()\n",
    "print(B)"
   ]
  },
  {
   "cell_type": "code",
   "execution_count": 9,
   "metadata": {},
   "outputs": [
    {
     "name": "stdout",
     "output_type": "stream",
     "text": [
      "5\n"
     ]
    }
   ],
   "source": [
    "r3 = list(range(91,121))\n",
    "c = N_dot_balls.loc[N_dot_balls['ball'].isin(r3)]\n",
    "C = c.groupby('match_id').size().count()\n",
    "print(C)"
   ]
  },
  {
   "cell_type": "code",
   "execution_count": 11,
   "metadata": {},
   "outputs": [
    {
     "name": "stdout",
     "output_type": "stream",
     "text": [
      "0\n"
     ]
    }
   ],
   "source": [
    "maxm = N_dot_balls['ball'].max()\n",
    "r4 = list(range(121,maxm+1))\n",
    "d = N_dot_balls.loc[N_dot_balls['ball'].isin(r4)]\n",
    "D = d.groupby('match_id').size().count()\n",
    "print(D)"
   ]
  },
  {
   "cell_type": "code",
   "execution_count": null,
   "metadata": {},
   "outputs": [],
   "source": []
  }
 ],
 "metadata": {
  "kernelspec": {
   "display_name": "Python 3",
   "language": "python",
   "name": "python3"
  },
  "language_info": {
   "codemirror_mode": {
    "name": "ipython",
    "version": 3
   },
   "file_extension": ".py",
   "mimetype": "text/x-python",
   "name": "python",
   "nbconvert_exporter": "python",
   "pygments_lexer": "ipython3",
   "version": "3.7.0"
  }
 },
 "nbformat": 4,
 "nbformat_minor": 4
}
