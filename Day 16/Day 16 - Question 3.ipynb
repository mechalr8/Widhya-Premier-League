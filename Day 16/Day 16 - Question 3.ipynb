{
 "cells": [
  {
   "cell_type": "code",
   "execution_count": 1,
   "metadata": {},
   "outputs": [],
   "source": [
    "from pandas import *\n",
    "df = read_csv(r'C:\\Users\\harsi\\OneDrive\\Desktop\\WPL Datasets\\deliveries.csv')"
   ]
  },
  {
   "cell_type": "code",
   "execution_count": 8,
   "metadata": {},
   "outputs": [
    {
     "name": "stdout",
     "output_type": "stream",
     "text": [
      "          player_dismissed\n",
      "match_id                  \n",
      "11                       5\n",
      "48                       6\n",
      "81                       2\n",
      "112                      5\n",
      "123                      2\n",
      "142                      1\n",
      "196                      3\n",
      "208                      2\n",
      "270                      1\n",
      "325                      6\n",
      "330                      3\n",
      "400                      8\n",
      "415                      3\n",
      "472                      6\n",
      "491                      4\n",
      "514                      5\n",
      "517                      6\n",
      "532                      5\n",
      "560                      7\n",
      "589                      4\n",
      "608                      7\n",
      "7911                     4\n",
      "7937                     6\n",
      "11142                    2\n",
      "11343                    2\n"
     ]
    }
   ],
   "source": [
    "team = ('Kings XI Punjab', 'Kolkata Knight Riders')\n",
    "KXIPvsKKR 0-= df.loc[df['batting_team'].isin(team) & df['bowling_team'].isin(team) & df['over'].isin(list(range(16,121)))].fillna(0)\n",
    "wicket = KXIPvsKKR.loc[KXIPvsKKR['player_dismissed'] != 0]\n",
    "wicket = wicket[['match_id', 'player_dismissed']]\n",
    "N_wicket = wicket.groupby('match_id').count()\n",
    "print(N_wicket)"
   ]
  },
  {
   "cell_type": "code",
   "execution_count": 11,
   "metadata": {},
   "outputs": [
    {
     "name": "stdout",
     "output_type": "stream",
     "text": [
      "10\n"
     ]
    }
   ],
   "source": [
    "r1 = list(range(0,4))\n",
    "a = N_wicket.loc[N_wicket['player_dismissed'].isin(r1)]\n",
    "A = a.groupby('match_id').size().count()\n",
    "print(A)"
   ]
  },
  {
   "cell_type": "code",
   "execution_count": 12,
   "metadata": {},
   "outputs": [
    {
     "name": "stdout",
     "output_type": "stream",
     "text": [
      "12\n"
     ]
    }
   ],
   "source": [
    "r2 = list(range(4,7))\n",
    "b = N_wicket.loc[N_wicket['player_dismissed'].isin(r2)]\n",
    "B = b.groupby('match_id').size().count()\n",
    "print(B)"
   ]
  },
  {
   "cell_type": "code",
   "execution_count": 14,
   "metadata": {},
   "outputs": [
    {
     "name": "stdout",
     "output_type": "stream",
     "text": [
      "3\n"
     ]
    }
   ],
   "source": [
    "r3 = list(range(7,10))\n",
    "c = N_wicket.loc[N_wicket['player_dismissed'].isin(r3)]\n",
    "C = c.groupby('match_id').size().count()\n",
    "print(C)"
   ]
  },
  {
   "cell_type": "code",
   "execution_count": 15,
   "metadata": {},
   "outputs": [
    {
     "name": "stdout",
     "output_type": "stream",
     "text": [
      "0\n"
     ]
    }
   ],
   "source": [
    "maxm = N_wicket['player_dismissed'].max()\n",
    "r4 = list(range(10,maxm+1))\n",
    "d = N_wicket.loc[N_wicket['player_dismissed'].isin(r4)]\n",
    "D = d.groupby('match_id').size().count()\n",
    "print(D)"
   ]
  },
  {
   "cell_type": "code",
   "execution_count": null,
   "metadata": {},
   "outputs": [],
   "source": []
  }
 ],
 "metadata": {
  "kernelspec": {
   "display_name": "Python 3",
   "language": "python",
   "name": "python3"
  },
  "language_info": {
   "codemirror_mode": {
    "name": "ipython",
    "version": 3
   },
   "file_extension": ".py",
   "mimetype": "text/x-python",
   "name": "python",
   "nbconvert_exporter": "python",
   "pygments_lexer": "ipython3",
   "version": "3.7.0"
  }
 },
 "nbformat": 4,
 "nbformat_minor": 4
}
