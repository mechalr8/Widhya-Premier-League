{
 "cells": [
  {
   "cell_type": "code",
   "execution_count": 1,
   "metadata": {},
   "outputs": [],
   "source": [
    "from pandas import *\n",
    "df = read_csv(r'C:\\Users\\harsi\\OneDrive\\Desktop\\WPL Datasets\\deliveries.csv')"
   ]
  },
  {
   "cell_type": "code",
   "execution_count": 15,
   "metadata": {
    "scrolled": true
   },
   "outputs": [
    {
     "name": "stdout",
     "output_type": "stream",
     "text": [
      "          KXIP_runs  GJ_runs  percent\n",
      "match_id                             \n",
      "4               164       44       26\n",
      "8               150       43       28\n",
      "11              170       25       14\n",
      "15              137        0        0\n",
      "19              154       10        6\n",
      "22              198       40       20\n",
      "26              188       31       16\n",
      "32              181        0        0\n",
      "42              138        6        4\n",
      "46              189       20       10\n",
      "48              167       44       26\n",
      "50              230       47       20\n",
      "54               73        0        0\n",
      "460             206       95       46\n",
      "464             193       89       46\n",
      "466             193       95       49\n",
      "472             132       15       11\n",
      "475             127        6        4\n",
      "479             168       45       26\n",
      "486             231       90       38\n",
      "488             198       25       12\n",
      "491             149       14        9\n",
      "496             211       43       20\n",
      "502             165       14        8\n",
      "505             156        2        1\n",
      "512             119        0        0\n",
      "514             135        6        4\n",
      "516             226       13        5\n",
      "517             199        0        0\n",
      "520             136        7        5\n",
      "524             177        6        3\n",
      "528             165       15        9\n",
      "532             155       33       21\n",
      "536             206        2        0\n",
      "552             149       12        8\n",
      "557              88        1        1\n",
      "560             183       43       23\n",
      "564             180       11        6\n",
      "566             106       10        9\n",
      "569             130        6        4\n",
      "579             161        2        1\n",
      "583             111        0        0\n",
      "586             153       32       20\n",
      "589             138        4        2\n",
      "594             143        1        0\n",
      "597             164       56       34\n",
      "604             154        0        0\n",
      "608             157       68       43\n",
      "612             181       16        8\n",
      "619             127        0        0\n"
     ]
    }
   ],
   "source": [
    "KXIP = df.loc[df['batting_team'] == 'Kings XI Punjab']\n",
    "KXIP_ = KXIP[['match_id', 'total_runs']]\n",
    "runs = KXIP_.groupby('match_id').agg({'total_runs':['sum']})\n",
    "runs.columns = ['KXIP_runs']\n",
    "Maxwell = KXIP.loc[KXIP['batsman'] == 'GJ Maxwell']\n",
    "Maxwell = Maxwell[['match_id', 'batsman_runs']]\n",
    "Maxwell_runs = Maxwell.groupby('match_id').agg({'batsman_runs':['sum']})\n",
    "Maxwell_runs.columns = ['GJ_runs']\n",
    "result = concat([runs, Maxwell_runs], axis = 1, join = 'inner')\n",
    "result['percent'] = (result['GJ_runs']*100/result['KXIP_runs']).abs().astype(int)\n",
    "print(result)"
   ]
  },
  {
   "cell_type": "code",
   "execution_count": 17,
   "metadata": {},
   "outputs": [
    {
     "name": "stdout",
     "output_type": "stream",
     "text": [
      "26\n"
     ]
    }
   ],
   "source": [
    "r1 = list(range(0,9))\n",
    "a = result.loc[result['percent'].isin(r1)]\n",
    "A = a.groupby('match_id').size().count()\n",
    "print(A)"
   ]
  },
  {
   "cell_type": "code",
   "execution_count": 18,
   "metadata": {},
   "outputs": [
    {
     "name": "stdout",
     "output_type": "stream",
     "text": [
      "7\n"
     ]
    }
   ],
   "source": [
    "r2 = list(range(9,15))\n",
    "b = result.loc[result['percent'].isin(r2)]\n",
    "B = b.groupby('match_id').size().count()\n",
    "print(B)"
   ]
  },
  {
   "cell_type": "code",
   "execution_count": 19,
   "metadata": {},
   "outputs": [
    {
     "name": "stdout",
     "output_type": "stream",
     "text": [
      "6\n"
     ]
    }
   ],
   "source": [
    "r3 = list(range(15,23))\n",
    "c = result.loc[result['percent'].isin(r3)]\n",
    "C = c.groupby('match_id').size().count()\n",
    "print(C)"
   ]
  },
  {
   "cell_type": "code",
   "execution_count": 20,
   "metadata": {},
   "outputs": [
    {
     "name": "stdout",
     "output_type": "stream",
     "text": [
      "11\n"
     ]
    }
   ],
   "source": [
    "maxm = result['percent'].max()\n",
    "r4 = list(range(23,maxm+1))\n",
    "d = result.loc[result['percent'].isin(r4)]\n",
    "D = d.groupby('match_id').size().count()\n",
    "print(D)"
   ]
  }
 ],
 "metadata": {
  "kernelspec": {
   "display_name": "Python 3",
   "language": "python",
   "name": "python3"
  },
  "language_info": {
   "codemirror_mode": {
    "name": "ipython",
    "version": 3
   },
   "file_extension": ".py",
   "mimetype": "text/x-python",
   "name": "python",
   "nbconvert_exporter": "python",
   "pygments_lexer": "ipython3",
   "version": "3.7.0"
  }
 },
 "nbformat": 4,
 "nbformat_minor": 4
}
