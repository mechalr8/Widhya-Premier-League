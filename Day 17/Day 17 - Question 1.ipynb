{
 "cells": [
  {
   "cell_type": "code",
   "execution_count": 2,
   "metadata": {},
   "outputs": [],
   "source": [
    "from pandas import *\n",
    "df = read_csv(r'C:\\Users\\harsi\\OneDrive\\Desktop\\WPL Datasets\\matches.csv')"
   ]
  },
  {
   "cell_type": "code",
   "execution_count": 4,
   "metadata": {},
   "outputs": [
    {
     "name": "stdout",
     "output_type": "stream",
     "text": [
      "15\n"
     ]
    }
   ],
   "source": [
    "team = ['Sunrisers Hyderabad', 'Delhi Daredevils', 'Delhi Capitals']\n",
    "SRHvsDC = df.loc[df['team1'].isin(team) & df['team2'].isin(team)]\n",
    "N_SRHvsDC = SRHvsDC.groupby('id').size().count()\n",
    "print(N_SRHvsDC)"
   ]
  },
  {
   "cell_type": "code",
   "execution_count": 7,
   "metadata": {},
   "outputs": [
    {
     "name": "stdout",
     "output_type": "stream",
     "text": [
      "9\n"
     ]
    }
   ],
   "source": [
    "winSRH = SRHvsDC.loc[SRHvsDC['winner'] == 'Sunrisers Hyderabad']\n",
    "N_winSRH = winSRH.groupby('id').size().count()\n",
    "print(N_winSRH)"
   ]
  },
  {
   "cell_type": "code",
   "execution_count": 9,
   "metadata": {},
   "outputs": [
    {
     "name": "stdout",
     "output_type": "stream",
     "text": [
      "6\n"
     ]
    }
   ],
   "source": [
    "team1 = ['Delhi Capitals', 'Delhi Daredevils']\n",
    "winDC = SRHvsDC.loc[SRHvsDC['winner'].isin(team1)]\n",
    "N_winDC = winDC.groupby('id').size().count()\n",
    "print(N_winDC)"
   ]
  },
  {
   "cell_type": "code",
   "execution_count": null,
   "metadata": {},
   "outputs": [],
   "source": []
  }
 ],
 "metadata": {
  "kernelspec": {
   "display_name": "Python 3",
   "language": "python",
   "name": "python3"
  },
  "language_info": {
   "codemirror_mode": {
    "name": "ipython",
    "version": 3
   },
   "file_extension": ".py",
   "mimetype": "text/x-python",
   "name": "python",
   "nbconvert_exporter": "python",
   "pygments_lexer": "ipython3",
   "version": "3.7.0"
  }
 },
 "nbformat": 4,
 "nbformat_minor": 4
}
