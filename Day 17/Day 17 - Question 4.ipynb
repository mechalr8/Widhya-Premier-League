{
 "cells": [
  {
   "cell_type": "code",
   "execution_count": 1,
   "metadata": {},
   "outputs": [],
   "source": [
    "from pandas import *\n",
    "df = read_csv(r'C:\\Users\\harsi\\OneDrive\\Desktop\\WPL Datasets\\deliveries.csv')"
   ]
  },
  {
   "cell_type": "code",
   "execution_count": 9,
   "metadata": {},
   "outputs": [
    {
     "name": "stdout",
     "output_type": "stream",
     "text": [
      "          SRH_runs  DC_runs  diff\n",
      "match_id                         \n",
      "21              39       56    17\n",
      "39              66       62     4\n",
      "394             38       29     9\n",
      "428             41       26    15\n",
      "469             55       44    11\n",
      "489             44       52     8\n",
      "531             50       40    10\n",
      "561             41       49     8\n",
      "618             51       50     1\n",
      "628             46       37     9\n",
      "7929            64       61     3\n",
      "7935            52       39    13\n",
      "11152           71       37    34\n",
      "11321           41       53    12\n",
      "11413           54       56     2\n"
     ]
    }
   ],
   "source": [
    "team = ['Sunrisers Hyderabad', 'Delhi Daredevils', 'Delhi Capitals']\n",
    "SRHvsDC = df.loc[df['batting_team'].isin(team) & df['bowling_team'].isin(team) & df['over'].isin(list(range(1,7)))]\n",
    "SRH = SRHvsDC.loc[SRHvsDC['batting_team'] == 'Sunrisers Hyderabad']\n",
    "SRH_runs = SRH.groupby('match_id').agg({'total_runs':['sum']})\n",
    "SRH_runs.columns = ['SRH_runs']\n",
    "team1 = ['Delhi Daredevils', 'Delhi Capitals']\n",
    "DC = SRHvsDC.loc[SRHvsDC['batting_team'].isin(team1)]\n",
    "DC_runs = DC.groupby('match_id').agg({'total_runs':['sum']})\n",
    "DC_runs.columns = ['DC_runs']\n",
    "result = concat([SRH_runs, DC_runs], axis = 1)\n",
    "result['diff'] = (result['SRH_runs'] - result['DC_runs']).abs()\n",
    "print(result)"
   ]
  },
  {
   "cell_type": "code",
   "execution_count": 10,
   "metadata": {},
   "outputs": [
    {
     "name": "stdout",
     "output_type": "stream",
     "text": [
      "4\n"
     ]
    }
   ],
   "source": [
    "r1 = list(range(0,6))\n",
    "a = result.loc[result['diff'].isin(r1)]\n",
    "A = a.groupby('match_id').size().count()\n",
    "print(A)"
   ]
  },
  {
   "cell_type": "code",
   "execution_count": 11,
   "metadata": {},
   "outputs": [
    {
     "name": "stdout",
     "output_type": "stream",
     "text": [
      "8\n"
     ]
    }
   ],
   "source": [
    "r2 = list(range(6,15))\n",
    "b = result.loc[result['diff'].isin(r2)]\n",
    "B = b.groupby('match_id').size().count()\n",
    "print(B)"
   ]
  },
  {
   "cell_type": "code",
   "execution_count": 12,
   "metadata": {},
   "outputs": [
    {
     "name": "stdout",
     "output_type": "stream",
     "text": [
      "2\n"
     ]
    }
   ],
   "source": [
    "r3 = list(range(15,23))\n",
    "c = result.loc[result['diff'].isin(r3)]\n",
    "C = c.groupby('match_id').size().count()\n",
    "print(C)"
   ]
  },
  {
   "cell_type": "code",
   "execution_count": 13,
   "metadata": {},
   "outputs": [
    {
     "name": "stdout",
     "output_type": "stream",
     "text": [
      "1\n"
     ]
    }
   ],
   "source": [
    "max_value = result['diff'].max()\n",
    "r4 = list(range(24,max_value+1))\n",
    "d = result.loc[result['diff'].isin(r4)]\n",
    "D = d.groupby('match_id').size().count()\n",
    "print(D)"
   ]
  },
  {
   "cell_type": "code",
   "execution_count": null,
   "metadata": {},
   "outputs": [],
   "source": []
  }
 ],
 "metadata": {
  "kernelspec": {
   "display_name": "Python 3",
   "language": "python",
   "name": "python3"
  },
  "language_info": {
   "codemirror_mode": {
    "name": "ipython",
    "version": 3
   },
   "file_extension": ".py",
   "mimetype": "text/x-python",
   "name": "python",
   "nbconvert_exporter": "python",
   "pygments_lexer": "ipython3",
   "version": "3.7.0"
  }
 },
 "nbformat": 4,
 "nbformat_minor": 4
}
