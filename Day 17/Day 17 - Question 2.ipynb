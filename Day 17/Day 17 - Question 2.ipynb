{
 "cells": [
  {
   "cell_type": "code",
   "execution_count": 1,
   "metadata": {},
   "outputs": [],
   "source": [
    "from pandas import *\n",
    "df = read_csv(r'C:\\Users\\harsi\\OneDrive\\Desktop\\WPL Datasets\\deliveries.csv')"
   ]
  },
  {
   "cell_type": "code",
   "execution_count": 2,
   "metadata": {},
   "outputs": [
    {
     "name": "stdout",
     "output_type": "stream",
     "text": [
      "          total_runs\n",
      "match_id            \n",
      "21               367\n",
      "39               374\n",
      "394              229\n",
      "428              161\n",
      "469              364\n",
      "489              187\n",
      "531              330\n",
      "561              320\n",
      "618              296\n",
      "628              319\n",
      "7929             336\n",
      "7935             383\n",
      "11152            276\n",
      "11321            285\n",
      "11413            341\n"
     ]
    }
   ],
   "source": [
    "team = ['Sunrisers Hyderabad', 'Delhi Daredevils', 'Delhi Capitals']\n",
    "SRHvsDC = df.loc[df['batting_team'].isin(team) & df['bowling_team'].isin(team)]\n",
    "total_runs = SRHvsDC.groupby('match_id').agg({'total_runs':['sum']})\n",
    "total_runs.columns = ['total_runs']\n",
    "print(total_runs)"
   ]
  },
  {
   "cell_type": "code",
   "execution_count": 3,
   "metadata": {},
   "outputs": [
    {
     "name": "stdout",
     "output_type": "stream",
     "text": [
      "8\n"
     ]
    }
   ],
   "source": [
    "r1 = list(range(0,321))\n",
    "a = total_runs.loc[total_runs['total_runs'].isin(r1)]\n",
    "A = a.groupby('match_id').size().count()\n",
    "print(A)"
   ]
  },
  {
   "cell_type": "code",
   "execution_count": 4,
   "metadata": {},
   "outputs": [
    {
     "name": "stdout",
     "output_type": "stream",
     "text": [
      "2\n"
     ]
    }
   ],
   "source": [
    "r2 = list(range(321,341))\n",
    "b = total_runs.loc[total_runs['total_runs'].isin(r2)]\n",
    "B = b.groupby('match_id').size().count()\n",
    "print(B)"
   ]
  },
  {
   "cell_type": "code",
   "execution_count": 5,
   "metadata": {},
   "outputs": [
    {
     "name": "stdout",
     "output_type": "stream",
     "text": [
      "1\n"
     ]
    }
   ],
   "source": [
    "r3 = list(range(341,361))\n",
    "c = total_runs.loc[total_runs['total_runs'].isin(r3)]\n",
    "C = c.groupby('match_id').size().count()\n",
    "print(C)"
   ]
  },
  {
   "cell_type": "code",
   "execution_count": 6,
   "metadata": {},
   "outputs": [
    {
     "name": "stdout",
     "output_type": "stream",
     "text": [
      "4\n"
     ]
    }
   ],
   "source": [
    "max_value = total_runs['total_runs'].max()\n",
    "r4 = list(range(361,max_value+1))\n",
    "d = total_runs.loc[total_runs['total_runs'].isin(r4)]\n",
    "D = d.groupby('match_id').size().count()\n",
    "print(D)"
   ]
  },
  {
   "cell_type": "code",
   "execution_count": null,
   "metadata": {},
   "outputs": [],
   "source": []
  }
 ],
 "metadata": {
  "kernelspec": {
   "display_name": "Python 3",
   "language": "python",
   "name": "python3"
  },
  "language_info": {
   "codemirror_mode": {
    "name": "ipython",
    "version": 3
   },
   "file_extension": ".py",
   "mimetype": "text/x-python",
   "name": "python",
   "nbconvert_exporter": "python",
   "pygments_lexer": "ipython3",
   "version": "3.7.0"
  }
 },
 "nbformat": 4,
 "nbformat_minor": 4
}
