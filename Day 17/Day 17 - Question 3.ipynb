{
 "cells": [
  {
   "cell_type": "code",
   "execution_count": 1,
   "metadata": {},
   "outputs": [],
   "source": [
    "from pandas import *\n",
    "df = read_csv(r'C:\\Users\\harsi\\OneDrive\\Desktop\\WPL Datasets\\deliveries.csv')"
   ]
  },
  {
   "cell_type": "code",
   "execution_count": 6,
   "metadata": {
    "scrolled": true
   },
   "outputs": [
    {
     "name": "stdout",
     "output_type": "stream",
     "text": [
      "          dismissal_kind\n",
      "match_id                \n",
      "21                     7\n",
      "39                     5\n",
      "394                   11\n",
      "428                    5\n",
      "469                    5\n",
      "489                    7\n",
      "531                    7\n",
      "561                    6\n",
      "618                    5\n",
      "628                    6\n",
      "7929                   3\n",
      "7935                   3\n",
      "11152                 10\n",
      "11321                 13\n",
      "11413                 11\n"
     ]
    }
   ],
   "source": [
    "team = ['Sunrisers Hyderabad', 'Delhi Daredevils', 'Delhi Capitals']\n",
    "wicket = ['caught', 'caught and bowled']\n",
    "SRHvsDC = df.loc[df['batting_team'].isin(team) & df['bowling_team'].isin(team) & df['dismissal_kind'].isin(wicket)]\n",
    "out = SRHvsDC[['match_id', 'dismissal_kind']]\n",
    "N_out = out.groupby('match_id').count()\n",
    "print(N_out)"
   ]
  },
  {
   "cell_type": "code",
   "execution_count": 9,
   "metadata": {},
   "outputs": [
    {
     "name": "stdout",
     "output_type": "stream",
     "text": [
      "2\n"
     ]
    }
   ],
   "source": [
    "r1 = list(range(0,4))\n",
    "a = N_out.loc[N_out['dismissal_kind'].isin(r1)]\n",
    "A = a.groupby('match_id').size().count()\n",
    "print(A)"
   ]
  },
  {
   "cell_type": "code",
   "execution_count": 10,
   "metadata": {},
   "outputs": [
    {
     "name": "stdout",
     "output_type": "stream",
     "text": [
      "9\n"
     ]
    }
   ],
   "source": [
    "r2 = list(range(4,8))\n",
    "b = N_out.loc[N_out['dismissal_kind'].isin(r2)]\n",
    "B = b.groupby('match_id').size().count()\n",
    "print(B)"
   ]
  },
  {
   "cell_type": "code",
   "execution_count": 11,
   "metadata": {},
   "outputs": [
    {
     "name": "stdout",
     "output_type": "stream",
     "text": [
      "3\n"
     ]
    }
   ],
   "source": [
    "r3 = list(range(8,13))\n",
    "c = N_out.loc[N_out['dismissal_kind'].isin(r3)]\n",
    "C = c.groupby('match_id').size().count()\n",
    "print(C)"
   ]
  },
  {
   "cell_type": "code",
   "execution_count": 14,
   "metadata": {},
   "outputs": [
    {
     "name": "stdout",
     "output_type": "stream",
     "text": [
      "1\n"
     ]
    }
   ],
   "source": [
    "max_value = N_out['dismissal_kind'].max()\n",
    "r4 = list(range(13,max_value+1))\n",
    "d = N_out.loc[N_out['dismissal_kind'].isin(r4)]\n",
    "D = d.groupby('match_id').size().count()\n",
    "print(D)"
   ]
  },
  {
   "cell_type": "code",
   "execution_count": null,
   "metadata": {},
   "outputs": [],
   "source": []
  }
 ],
 "metadata": {
  "kernelspec": {
   "display_name": "Python 3",
   "language": "python",
   "name": "python3"
  },
  "language_info": {
   "codemirror_mode": {
    "name": "ipython",
    "version": 3
   },
   "file_extension": ".py",
   "mimetype": "text/x-python",
   "name": "python",
   "nbconvert_exporter": "python",
   "pygments_lexer": "ipython3",
   "version": "3.7.0"
  }
 },
 "nbformat": 4,
 "nbformat_minor": 4
}
