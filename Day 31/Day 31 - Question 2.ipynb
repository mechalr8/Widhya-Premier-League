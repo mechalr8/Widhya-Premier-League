{
 "cells": [
  {
   "cell_type": "code",
   "execution_count": 1,
   "metadata": {},
   "outputs": [],
   "source": [
    "from pandas import *\n",
    "df = read_csv(r'C:\\Users\\harsi\\OneDrive\\Desktop\\WPL Datasets\\deliveries.csv')"
   ]
  },
  {
   "cell_type": "code",
   "execution_count": 2,
   "metadata": {},
   "outputs": [
    {
     "name": "stdout",
     "output_type": "stream",
     "text": [
      "          dismissal_kind\n",
      "match_id                \n",
      "24                     1\n",
      "31                     2\n",
      "41                     2\n",
      "44                     1\n",
      "11139                  2\n",
      "11141                  1\n",
      "11146                  1\n",
      "11149                  2\n",
      "11152                  1\n",
      "11311                  4\n",
      "11317                  2\n",
      "11321                  4\n",
      "11325                  2\n",
      "11328                  2\n",
      "11331                  2\n",
      "11337                  2\n"
     ]
    }
   ],
   "source": [
    "bowler = df.loc[(df['bowler'] == 'K Rabada')]\n",
    "dismissal_kind = ['bowled', 'caught', 'lbw', 'stumped']\n",
    "wicket = bowler.loc[bowler['dismissal_kind'].isin(dismissal_kind)]\n",
    "wicket = wicket[['match_id', 'dismissal_kind']]\n",
    "N_wicket = wicket.groupby('match_id').count()\n",
    "print(N_wicket)"
   ]
  },
  {
   "cell_type": "code",
   "execution_count": 3,
   "metadata": {},
   "outputs": [],
   "source": [
    "def times(r):\n",
    "    a = N_wicket.loc[N_wicket['dismissal_kind']==r]\n",
    "    A = a.groupby('match_id').size().count()\n",
    "    return A"
   ]
  },
  {
   "cell_type": "code",
   "execution_count": 4,
   "metadata": {},
   "outputs": [
    {
     "data": {
      "text/plain": [
       "5"
      ]
     },
     "execution_count": 4,
     "metadata": {},
     "output_type": "execute_result"
    }
   ],
   "source": [
    "times(1)"
   ]
  },
  {
   "cell_type": "code",
   "execution_count": 5,
   "metadata": {},
   "outputs": [
    {
     "data": {
      "text/plain": [
       "9"
      ]
     },
     "execution_count": 5,
     "metadata": {},
     "output_type": "execute_result"
    }
   ],
   "source": [
    "times(2)"
   ]
  },
  {
   "cell_type": "code",
   "execution_count": 8,
   "metadata": {},
   "outputs": [
    {
     "data": {
      "text/plain": [
       "2"
      ]
     },
     "execution_count": 8,
     "metadata": {},
     "output_type": "execute_result"
    }
   ],
   "source": [
    "three_or_more = N_wicket.groupby('match_id').size().count() - times(1) - times(2)\n",
    "three_or_more"
   ]
  },
  {
   "cell_type": "code",
   "execution_count": 10,
   "metadata": {},
   "outputs": [
    {
     "data": {
      "text/plain": [
       "2"
      ]
     },
     "execution_count": 10,
     "metadata": {},
     "output_type": "execute_result"
    }
   ],
   "source": [
    "zero = bowler.groupby('match_id').size().count() - N_wicket.groupby('match_id').size().count()\n",
    "zero"
   ]
  },
  {
   "cell_type": "code",
   "execution_count": null,
   "metadata": {},
   "outputs": [],
   "source": []
  }
 ],
 "metadata": {
  "kernelspec": {
   "display_name": "Python 3",
   "language": "python",
   "name": "python3"
  },
  "language_info": {
   "codemirror_mode": {
    "name": "ipython",
    "version": 3
   },
   "file_extension": ".py",
   "mimetype": "text/x-python",
   "name": "python",
   "nbconvert_exporter": "python",
   "pygments_lexer": "ipython3",
   "version": "3.7.0"
  }
 },
 "nbformat": 4,
 "nbformat_minor": 4
}
