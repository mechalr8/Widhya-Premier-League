{
 "cells": [
  {
   "cell_type": "code",
   "execution_count": 1,
   "metadata": {},
   "outputs": [],
   "source": [
    "from pandas import *\n",
    "df = read_csv(r'C:\\Users\\harsi\\OneDrive\\Desktop\\WPL Datasets\\deliveries.csv')"
   ]
  },
  {
   "cell_type": "code",
   "execution_count": 6,
   "metadata": {},
   "outputs": [
    {
     "name": "stdout",
     "output_type": "stream",
     "text": [
      "        match_id  noball_runs\n",
      "5626          24            1\n",
      "19155         82            1\n",
      "19265         82            1\n",
      "25292        109            1\n",
      "34942        150            1\n",
      "34967        150            1\n",
      "39796        170            1\n",
      "39963        170            1\n",
      "43040        183            1\n",
      "43042        183            1\n",
      "52174        221            1\n",
      "52175        221            1\n",
      "52375        221            1\n",
      "66854        282            1\n",
      "66867        282            1\n",
      "77046        327            2\n",
      "92201        390            1\n",
      "96632        408            1\n",
      "96671        408            1\n",
      "96730        408            1\n",
      "112051       473            1\n",
      "120607       508            1\n",
      "127927       539            1\n",
      "140222       593            1\n",
      "165208     11139            1\n",
      "165226     11139            1\n",
      "172793     11325            1\n"
     ]
    }
   ],
   "source": [
    "team = ['Mumbai Indians', 'Delhi Capitals', 'Delhi Daredevils']\n",
    "MIvsDC = df.loc[(df['batting_team'].isin(team)) & (df['bowling_team'].isin(team))]\n",
    "no_balls = MIvsDC.loc[(MIvsDC['noball_runs'] > 0)]\n",
    "N_no_balls = no_balls.groupby('match_id').count()\n",
    "N_no_balls = no_balls[['match_id', 'noball_runs']]\n",
    "print(N_no_balls)"
   ]
  },
  {
   "cell_type": "code",
   "execution_count": 7,
   "metadata": {},
   "outputs": [],
   "source": [
    "def times(r):\n",
    "    a = N_no_balls.loc[(N_no_balls['noball_runs'].isin(r))]\n",
    "    A = a.groupby('match_id').size().count()\n",
    "    return A"
   ]
  },
  {
   "cell_type": "code",
   "execution_count": 10,
   "metadata": {},
   "outputs": [
    {
     "data": {
      "text/plain": [
       "17"
      ]
     },
     "execution_count": 10,
     "metadata": {},
     "output_type": "execute_result"
    }
   ],
   "source": [
    "times(list(range(1,3)))"
   ]
  },
  {
   "cell_type": "code",
   "execution_count": 11,
   "metadata": {},
   "outputs": [
    {
     "data": {
      "text/plain": [
       "0"
      ]
     },
     "execution_count": 11,
     "metadata": {},
     "output_type": "execute_result"
    }
   ],
   "source": [
    "times(list(range(3,4)))"
   ]
  },
  {
   "cell_type": "code",
   "execution_count": 12,
   "metadata": {},
   "outputs": [
    {
     "data": {
      "text/plain": [
       "0"
      ]
     },
     "execution_count": 12,
     "metadata": {},
     "output_type": "execute_result"
    }
   ],
   "source": [
    "times(list(range(4, N_no_balls['noball_runs'].max() + 1)))"
   ]
  },
  {
   "cell_type": "code",
   "execution_count": 13,
   "metadata": {},
   "outputs": [
    {
     "name": "stdout",
     "output_type": "stream",
     "text": [
      "7\n"
     ]
    }
   ],
   "source": [
    "zero = MIvsDC.groupby('match_id').size().count() - times(list(range(1,3)))\n",
    "print(zero)"
   ]
  },
  {
   "cell_type": "code",
   "execution_count": null,
   "metadata": {},
   "outputs": [],
   "source": []
  }
 ],
 "metadata": {
  "kernelspec": {
   "display_name": "Python 3",
   "language": "python",
   "name": "python3"
  },
  "language_info": {
   "codemirror_mode": {
    "name": "ipython",
    "version": 3
   },
   "file_extension": ".py",
   "mimetype": "text/x-python",
   "name": "python",
   "nbconvert_exporter": "python",
   "pygments_lexer": "ipython3",
   "version": "3.7.0"
  }
 },
 "nbformat": 4,
 "nbformat_minor": 4
}
