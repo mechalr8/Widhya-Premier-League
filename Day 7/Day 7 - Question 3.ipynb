{
 "cells": [
  {
   "cell_type": "code",
   "execution_count": 3,
   "metadata": {},
   "outputs": [],
   "source": [
    "from pandas import *"
   ]
  },
  {
   "cell_type": "code",
   "execution_count": 4,
   "metadata": {
    "scrolled": true
   },
   "outputs": [
    {
     "name": "stdout",
     "output_type": "stream",
     "text": [
      "        match_id  inning         batting_team                 bowling_team  \\\n",
      "0              1       1  Sunrisers Hyderabad  Royal Challengers Bangalore   \n",
      "1              1       1  Sunrisers Hyderabad  Royal Challengers Bangalore   \n",
      "2              1       1  Sunrisers Hyderabad  Royal Challengers Bangalore   \n",
      "3              1       1  Sunrisers Hyderabad  Royal Challengers Bangalore   \n",
      "4              1       1  Sunrisers Hyderabad  Royal Challengers Bangalore   \n",
      "...          ...     ...                  ...                          ...   \n",
      "179073     11415       2  Chennai Super Kings               Mumbai Indians   \n",
      "179074     11415       2  Chennai Super Kings               Mumbai Indians   \n",
      "179075     11415       2  Chennai Super Kings               Mumbai Indians   \n",
      "179076     11415       2  Chennai Super Kings               Mumbai Indians   \n",
      "179077     11415       2  Chennai Super Kings               Mumbai Indians   \n",
      "\n",
      "        over  ball    batsman non_striker      bowler  is_super_over  ...  \\\n",
      "0          1     1  DA Warner    S Dhawan    TS Mills              0  ...   \n",
      "1          1     2  DA Warner    S Dhawan    TS Mills              0  ...   \n",
      "2          1     3  DA Warner    S Dhawan    TS Mills              0  ...   \n",
      "3          1     4  DA Warner    S Dhawan    TS Mills              0  ...   \n",
      "4          1     5  DA Warner    S Dhawan    TS Mills              0  ...   \n",
      "...      ...   ...        ...         ...         ...            ...  ...   \n",
      "179073    20     2  RA Jadeja   SR Watson  SL Malinga              0  ...   \n",
      "179074    20     3  SR Watson   RA Jadeja  SL Malinga              0  ...   \n",
      "179075    20     4  SR Watson   RA Jadeja  SL Malinga              0  ...   \n",
      "179076    20     5  SN Thakur   RA Jadeja  SL Malinga              0  ...   \n",
      "179077    20     6  SN Thakur   RA Jadeja  SL Malinga              0  ...   \n",
      "\n",
      "        bye_runs  legbye_runs  noball_runs  penalty_runs  batsman_runs  \\\n",
      "0              0            0            0             0             0   \n",
      "1              0            0            0             0             0   \n",
      "2              0            0            0             0             4   \n",
      "3              0            0            0             0             0   \n",
      "4              0            0            0             0             0   \n",
      "...          ...          ...          ...           ...           ...   \n",
      "179073         0            0            0             0             1   \n",
      "179074         0            0            0             0             2   \n",
      "179075         0            0            0             0             1   \n",
      "179076         0            0            0             0             2   \n",
      "179077         0            0            0             0             0   \n",
      "\n",
      "        extra_runs  total_runs  player_dismissed dismissal_kind    fielder  \n",
      "0                0           0               NaN            NaN        NaN  \n",
      "1                0           0               NaN            NaN        NaN  \n",
      "2                0           4               NaN            NaN        NaN  \n",
      "3                0           0               NaN            NaN        NaN  \n",
      "4                2           2               NaN            NaN        NaN  \n",
      "...            ...         ...               ...            ...        ...  \n",
      "179073           0           1               NaN            NaN        NaN  \n",
      "179074           0           2               NaN            NaN        NaN  \n",
      "179075           0           1         SR Watson        run out  KH Pandya  \n",
      "179076           0           2               NaN            NaN        NaN  \n",
      "179077           0           0         SN Thakur            lbw        NaN  \n",
      "\n",
      "[179078 rows x 21 columns]\n"
     ]
    }
   ],
   "source": [
    "df = read_csv(r'C:\\Users\\Asus\\Desktop\\WPL Datasets\\deliveries.csv')\n",
    "print(df)"
   ]
  },
  {
   "cell_type": "code",
   "execution_count": 6,
   "metadata": {
    "scrolled": true
   },
   "outputs": [
    {
     "name": "stdout",
     "output_type": "stream",
     "text": [
      "        match_id player_dismissed\n",
      "20339         87        G Gambhir\n",
      "20344         87         S Dhawan\n",
      "20346         87     Shoaib Malik\n",
      "28896        125        MK Tiwary\n",
      "32944        141        DA Warner\n",
      "32949        141         M Manhas\n",
      "32953        141       KD Karthik\n",
      "32957        141       PJ Sangwan\n",
      "32963        141         R Bhatia\n",
      "43455        185       KD Karthik\n",
      "43473        185         R Bhatia\n",
      "68440        289  Y Venugopal Rao\n",
      "68452        289         JR Hopes\n",
      "68465        289      AB McDonald\n",
      "89980        380      Sunny Gupta\n",
      "89984        380         UT Yadav\n",
      "89986        380         VR Aaron\n",
      "95785        404         M Morkel\n",
      "95790        404        KM Jadhav\n",
      "95798        404         UT Yadav\n",
      "105853       446        DA Warner\n",
      "105860       446        IK Pathan\n",
      "105861       446          A Nehra\n",
      "110313       465         S Nadeem\n",
      "123166       519        JP Duminy\n",
      "123179       519  NM Coulter-Nile\n",
      "123186       519         A Mishra\n",
      "123191       519      Imran Tahir\n",
      "134058       565        JA Morkel\n",
      "157584      7923          RR Pant\n",
      "165802     11141          RR Pant\n",
      "165804     11141         C Ingram\n",
      "165809     11141           K Paul\n",
      "165813     11141         S Dhawan\n",
      "176679     11341        J Suchith\n",
      "176685     11341         A Mishra\n",
      "178687     11414     S Rutherford\n",
      "178700     11414           K Paul\n",
      "178705     11414          RR Pant\n",
      "178710     11414         TA Boult\n"
     ]
    }
   ],
   "source": [
    "overs = list(range(16,21))\n",
    "team = ['Delhi Daredevils', 'Delhi Capitals']\n",
    "CSK15_200vers = df.loc[(df['bowling_team'] == 'Chennai Super Kings') & df['over'].isin(overs) & df['batting_team'].isin(team)]\n",
    "wickets = CSK15_200vers[['match_id', 'player_dismissed']].dropna()\n",
    "print(wickets)"
   ]
  },
  {
   "cell_type": "code",
   "execution_count": 7,
   "metadata": {
    "scrolled": false
   },
   "outputs": [
    {
     "name": "stdout",
     "output_type": "stream",
     "text": [
      "          player_dismissed\n",
      "match_id                  \n",
      "87                       3\n",
      "125                      1\n",
      "141                      5\n",
      "185                      2\n",
      "289                      3\n",
      "380                      3\n",
      "404                      3\n",
      "446                      3\n",
      "465                      1\n",
      "519                      4\n",
      "565                      1\n",
      "7923                     1\n",
      "11141                    4\n",
      "11341                    2\n",
      "11414                    4\n"
     ]
    }
   ],
   "source": [
    "N_wickets = wickets.groupby('match_id').count()\n",
    "print(N_wickets)"
   ]
  },
  {
   "cell_type": "code",
   "execution_count": 9,
   "metadata": {},
   "outputs": [
    {
     "name": "stdout",
     "output_type": "stream",
     "text": [
      "21\n"
     ]
    }
   ],
   "source": [
    "matches = df.loc[(df['bowling_team'] == 'Chennai Super Kings') & df['batting_team'].isin(team)]\n",
    "N_matches = matches.groupby('match_id').size().count()\n",
    "print(N_matches)"
   ]
  },
  {
   "cell_type": "code",
   "execution_count": 11,
   "metadata": {},
   "outputs": [
    {
     "name": "stdout",
     "output_type": "stream",
     "text": [
      "8\n"
     ]
    }
   ],
   "source": [
    "r2 = list(range(3,5))\n",
    "b = N_wickets.loc[N_wickets['player_dismissed'].isin(r2)]\n",
    "B = b.groupby('match_id').size().count()\n",
    "print(B)"
   ]
  },
  {
   "cell_type": "code",
   "execution_count": 12,
   "metadata": {},
   "outputs": [
    {
     "name": "stdout",
     "output_type": "stream",
     "text": [
      "1\n"
     ]
    }
   ],
   "source": [
    "r3 = list(range(5,7))\n",
    "c = N_wickets.loc[N_wickets['player_dismissed'].isin(r3)]\n",
    "C = c.groupby('match_id').size().count()\n",
    "print(C)"
   ]
  },
  {
   "cell_type": "code",
   "execution_count": 13,
   "metadata": {},
   "outputs": [
    {
     "name": "stdout",
     "output_type": "stream",
     "text": [
      "12\n"
     ]
    }
   ],
   "source": [
    "Times_CSK_took_between_0_and_2_wickets = N_matches-(B+C)\n",
    "print(Times_CSK_took_between_0_and_2_wickets)"
   ]
  }
 ],
 "metadata": {
  "kernelspec": {
   "display_name": "Python 3",
   "language": "python",
   "name": "python3"
  },
  "language_info": {
   "codemirror_mode": {
    "name": "ipython",
    "version": 3
   },
   "file_extension": ".py",
   "mimetype": "text/x-python",
   "name": "python",
   "nbconvert_exporter": "python",
   "pygments_lexer": "ipython3",
   "version": "3.7.4"
  }
 },
 "nbformat": 4,
 "nbformat_minor": 4
}
