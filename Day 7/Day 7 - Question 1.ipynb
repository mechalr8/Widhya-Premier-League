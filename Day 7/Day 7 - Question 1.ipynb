{
 "cells": [
  {
   "cell_type": "code",
   "execution_count": 1,
   "metadata": {},
   "outputs": [],
   "source": [
    "from pandas import *"
   ]
  },
  {
   "cell_type": "code",
   "execution_count": 2,
   "metadata": {
    "scrolled": true
   },
   "outputs": [
    {
     "name": "stdout",
     "output_type": "stream",
     "text": [
      "        id  season           city       date                        team1  \\\n",
      "0        1    2017      Hyderabad   4/5/2017          Sunrisers Hyderabad   \n",
      "1        2    2017           Pune   4/6/2017               Mumbai Indians   \n",
      "2        3    2017         Rajkot   4/7/2017                Gujarat Lions   \n",
      "3        4    2017         Indore   4/8/2017       Rising Pune Supergiant   \n",
      "4        5    2017      Bangalore   4/8/2017  Royal Challengers Bangalore   \n",
      "..     ...     ...            ...        ...                          ...   \n",
      "751  11347    2019         Mumbai   5/5/2019        Kolkata Knight Riders   \n",
      "752  11412    2019        Chennai   7/5/2019          Chennai Super Kings   \n",
      "753  11413    2019  Visakhapatnam   8/5/2019          Sunrisers Hyderabad   \n",
      "754  11414    2019  Visakhapatnam  10/5/2019               Delhi Capitals   \n",
      "755  11415    2019      Hyderabad  12/5/2019               Mumbai Indians   \n",
      "\n",
      "                           team2                  toss_winner toss_decision  \\\n",
      "0    Royal Challengers Bangalore  Royal Challengers Bangalore         field   \n",
      "1         Rising Pune Supergiant       Rising Pune Supergiant         field   \n",
      "2          Kolkata Knight Riders        Kolkata Knight Riders         field   \n",
      "3                Kings XI Punjab              Kings XI Punjab         field   \n",
      "4               Delhi Daredevils  Royal Challengers Bangalore           bat   \n",
      "..                           ...                          ...           ...   \n",
      "751               Mumbai Indians               Mumbai Indians         field   \n",
      "752               Mumbai Indians          Chennai Super Kings           bat   \n",
      "753               Delhi Capitals               Delhi Capitals         field   \n",
      "754          Chennai Super Kings          Chennai Super Kings         field   \n",
      "755          Chennai Super Kings               Mumbai Indians           bat   \n",
      "\n",
      "     result  dl_applied                       winner  win_by_runs  \\\n",
      "0    normal           0          Sunrisers Hyderabad           35   \n",
      "1    normal           0       Rising Pune Supergiant            0   \n",
      "2    normal           0        Kolkata Knight Riders            0   \n",
      "3    normal           0              Kings XI Punjab            0   \n",
      "4    normal           0  Royal Challengers Bangalore           15   \n",
      "..      ...         ...                          ...          ...   \n",
      "751  normal           0               Mumbai Indians            0   \n",
      "752  normal           0               Mumbai Indians            0   \n",
      "753  normal           0               Delhi Capitals            0   \n",
      "754  normal           0          Chennai Super Kings            0   \n",
      "755  normal           0               Mumbai Indians            1   \n",
      "\n",
      "     win_by_wickets player_of_match  \\\n",
      "0                 0    Yuvraj Singh   \n",
      "1                 7       SPD Smith   \n",
      "2                10         CA Lynn   \n",
      "3                 6      GJ Maxwell   \n",
      "4                 0       KM Jadhav   \n",
      "..              ...             ...   \n",
      "751               9       HH Pandya   \n",
      "752               6        AS Yadav   \n",
      "753               2         RR Pant   \n",
      "754               6    F du Plessis   \n",
      "755               0       JJ Bumrah   \n",
      "\n",
      "                                         venue         umpire1  \\\n",
      "0    Rajiv Gandhi International Stadium, Uppal     AY Dandekar   \n",
      "1      Maharashtra Cricket Association Stadium  A Nand Kishore   \n",
      "2       Saurashtra Cricket Association Stadium     Nitin Menon   \n",
      "3                       Holkar Cricket Stadium    AK Chaudhary   \n",
      "4                        M Chinnaswamy Stadium             NaN   \n",
      "..                                         ...             ...   \n",
      "751                           Wankhede Stadium   Nanda Kishore   \n",
      "752                  M. A. Chidambaram Stadium     Nigel Llong   \n",
      "753                           ACA-VDCA Stadium             NaN   \n",
      "754                           ACA-VDCA Stadium   Sundaram Ravi   \n",
      "755         Rajiv Gandhi Intl. Cricket Stadium     Nitin Menon   \n",
      "\n",
      "            umpire2                  umpire3  \n",
      "0          NJ Llong                      NaN  \n",
      "1            S Ravi                      NaN  \n",
      "2         CK Nandan                      NaN  \n",
      "3     C Shamshuddin                      NaN  \n",
      "4               NaN                      NaN  \n",
      "..              ...                      ...  \n",
      "751        O Nandan                   S Ravi  \n",
      "752     Nitin Menon                Ian Gould  \n",
      "753             NaN                      NaN  \n",
      "754  Bruce Oxenford  Chettithody Shamshuddin  \n",
      "755       Ian Gould              Nigel Llong  \n",
      "\n",
      "[756 rows x 18 columns]\n"
     ]
    }
   ],
   "source": [
    "df = read_csv(r'C:\\Users\\Asus\\Desktop\\WPL Datasets\\matches.csv')\n",
    "print(df)"
   ]
  },
  {
   "cell_type": "code",
   "execution_count": 3,
   "metadata": {
    "scrolled": true
   },
   "outputs": [
    {
     "name": "stdout",
     "output_type": "stream",
     "text": [
      "        id  season           city       date                team1  \\\n",
      "78      79    2008        Chennai   5/2/2008  Chennai Super Kings   \n",
      "86      87    2008          Delhi   5/8/2008     Delhi Daredevils   \n",
      "124    125    2009         Durban  4/23/2009     Delhi Daredevils   \n",
      "140    141    2009   Johannesburg   5/2/2009  Chennai Super Kings   \n",
      "184    185    2010          Delhi  3/19/2010     Delhi Daredevils   \n",
      "223    224    2010        Chennai  4/15/2010  Chennai Super Kings   \n",
      "288    289    2011        Chennai  5/12/2011  Chennai Super Kings   \n",
      "317    318    2012          Delhi  4/10/2012  Chennai Super Kings   \n",
      "363    364    2012        Chennai  5/12/2012     Delhi Daredevils   \n",
      "379    380    2012        Chennai  5/25/2012  Chennai Super Kings   \n",
      "403    404    2013          Delhi  4/18/2013  Chennai Super Kings   \n",
      "445    446    2013        Chennai  5/14/2013  Chennai Super Kings   \n",
      "464    465    2014      Abu Dhabi  4/21/2014  Chennai Super Kings   \n",
      "482    483    2014          Delhi   5/5/2014     Delhi Daredevils   \n",
      "518    519    2015        Chennai   4/9/2015  Chennai Super Kings   \n",
      "564    565    2015         Raipur  5/12/2015  Chennai Super Kings   \n",
      "665   7923    2018           Pune   30/04/18  Chennai Super Kings   \n",
      "687   7945    2018          Delhi   18/05/18     Delhi Daredevils   \n",
      "700  11141    2019          Delhi   26/03/19       Delhi Capitals   \n",
      "745  11341    2019        Chennai   1/5/2019  Chennai Super Kings   \n",
      "754  11414    2019  Visakhapatnam  10/5/2019       Delhi Capitals   \n",
      "\n",
      "                   team2          toss_winner toss_decision  result  \\\n",
      "78      Delhi Daredevils  Chennai Super Kings           bat  normal   \n",
      "86   Chennai Super Kings  Chennai Super Kings         field  normal   \n",
      "124  Chennai Super Kings     Delhi Daredevils           bat  normal   \n",
      "140     Delhi Daredevils     Delhi Daredevils         field  normal   \n",
      "184  Chennai Super Kings     Delhi Daredevils           bat  normal   \n",
      "223     Delhi Daredevils  Chennai Super Kings           bat  normal   \n",
      "288     Delhi Daredevils  Chennai Super Kings           bat  normal   \n",
      "317     Delhi Daredevils     Delhi Daredevils         field  normal   \n",
      "363  Chennai Super Kings  Chennai Super Kings         field  normal   \n",
      "379     Delhi Daredevils     Delhi Daredevils         field  normal   \n",
      "403     Delhi Daredevils  Chennai Super Kings           bat  normal   \n",
      "445     Delhi Daredevils  Chennai Super Kings           bat  normal   \n",
      "464     Delhi Daredevils  Chennai Super Kings           bat  normal   \n",
      "482  Chennai Super Kings  Chennai Super Kings         field  normal   \n",
      "518     Delhi Daredevils     Delhi Daredevils         field  normal   \n",
      "564     Delhi Daredevils  Chennai Super Kings           bat  normal   \n",
      "665     Delhi Daredevils     Delhi Daredevils         field  normal   \n",
      "687  Chennai Super Kings  Chennai Super Kings         field  normal   \n",
      "700  Chennai Super Kings       Delhi Capitals           bat  normal   \n",
      "745       Delhi Capitals       Delhi Capitals         field  normal   \n",
      "754  Chennai Super Kings  Chennai Super Kings         field  normal   \n",
      "\n",
      "     dl_applied               winner  win_by_runs  win_by_wickets  \\\n",
      "78            0     Delhi Daredevils            0               8   \n",
      "86            0  Chennai Super Kings            0               4   \n",
      "124           0     Delhi Daredevils            9               0   \n",
      "140           0  Chennai Super Kings           18               0   \n",
      "184           0  Chennai Super Kings            0               5   \n",
      "223           0     Delhi Daredevils            0               6   \n",
      "288           0  Chennai Super Kings           18               0   \n",
      "317           0     Delhi Daredevils            0               8   \n",
      "363           0  Chennai Super Kings            0               9   \n",
      "379           0  Chennai Super Kings           86               0   \n",
      "403           0  Chennai Super Kings           86               0   \n",
      "445           0  Chennai Super Kings           33               0   \n",
      "464           0  Chennai Super Kings           93               0   \n",
      "482           0  Chennai Super Kings            0               8   \n",
      "518           0  Chennai Super Kings            1               0   \n",
      "564           0     Delhi Daredevils            0               6   \n",
      "665           0  Chennai Super Kings           13               0   \n",
      "687           0     Delhi Daredevils           34               0   \n",
      "700           0  Chennai Super Kings            0               6   \n",
      "745           0  Chennai Super Kings           80               0   \n",
      "754           0  Chennai Super Kings            0               6   \n",
      "\n",
      "    player_of_match                                             venue  \\\n",
      "78         V Sehwag                   MA Chidambaram Stadium, Chepauk   \n",
      "86         MS Dhoni                                  Feroz Shah Kotla   \n",
      "124  AB de Villiers                                         Kingsmead   \n",
      "140       SB Jakati                             New Wanderers Stadium   \n",
      "184       ML Hayden                                  Feroz Shah Kotla   \n",
      "223       G Gambhir                   MA Chidambaram Stadium, Chepauk   \n",
      "288        MS Dhoni                   MA Chidambaram Stadium, Chepauk   \n",
      "317        M Morkel                                  Feroz Shah Kotla   \n",
      "363   BW Hilfenhaus                   MA Chidambaram Stadium, Chepauk   \n",
      "379         M Vijay                   MA Chidambaram Stadium, Chepauk   \n",
      "403      MEK Hussey                                  Feroz Shah Kotla   \n",
      "445        MS Dhoni                   MA Chidambaram Stadium, Chepauk   \n",
      "464        SK Raina                              Sheikh Zayed Stadium   \n",
      "482        DR Smith                                  Feroz Shah Kotla   \n",
      "518         A Nehra                   MA Chidambaram Stadium, Chepauk   \n",
      "564          Z Khan  Shaheed Veer Narayan Singh International Stadium   \n",
      "665       SR Watson           Maharashtra Cricket Association Stadium   \n",
      "687        HV Patel                                  Feroz Shah Kotla   \n",
      "700       SR Watson                           Feroz Shah Kotla Ground   \n",
      "745        MS Dhoni                         M. A. Chidambaram Stadium   \n",
      "754    F du Plessis                                  ACA-VDCA Stadium   \n",
      "\n",
      "              umpire1          umpire2                  umpire3  \n",
      "78          BF Bowden      K Hariharan                      NaN  \n",
      "86          Aleem Dar        RB Tiffin                      NaN  \n",
      "124       BR Doctrove       SJA Taufel                      NaN  \n",
      "140         DJ Harper      RE Koertzen                      NaN  \n",
      "184       BR Doctrove      SK Tarapore                      NaN  \n",
      "223   HDPK Dharmasena        SS Hazare                      NaN  \n",
      "288         AM Saheba       SL Shastri                      NaN  \n",
      "317         Asad Rauf      SK Tarapore                      NaN  \n",
      "363             S Das      BR Doctrove                      NaN  \n",
      "379       BR Doctrove       SJA Taufel                      NaN  \n",
      "403         M Erasmus      VA Kulkarni                      NaN  \n",
      "445     C Shamshuddin        RJ Tucker                      NaN  \n",
      "464    RK Illingworth    C Shamshuddin                      NaN  \n",
      "482      RM Deshpande     BNJ Oxenford                      NaN  \n",
      "518    RK Illingworth      VA Kulkarni                      NaN  \n",
      "564    RK Illingworth      VA Kulkarni                      NaN  \n",
      "665     C Shamshuddin    Anil Dandekar                 O Nandan  \n",
      "687  Kumar Dharmasena  Vineet Kulkarni                 O Nandan  \n",
      "700    Marais Erasmus      Nitin Menon            Anil Dandekar  \n",
      "745     Anil Dandekar      Nitin Menon                Ian Gould  \n",
      "754     Sundaram Ravi   Bruce Oxenford  Chettithody Shamshuddin  \n"
     ]
    }
   ],
   "source": [
    "team = ['Chennai Super Kings', 'Delhi Daredevils', 'Delhi Capitals']\n",
    "CSKvsDC = df.loc[df['team1'].isin(team) & df['team2'].isin(team)]\n",
    "print(CSKvsDC)"
   ]
  },
  {
   "cell_type": "code",
   "execution_count": 4,
   "metadata": {},
   "outputs": [
    {
     "name": "stdout",
     "output_type": "stream",
     "text": [
      "TOTAL MATCHES PLAYED BETWEEN CSK AND DC: 21\n"
     ]
    }
   ],
   "source": [
    "total_matches = CSKvsDC.groupby('id').size().count()\n",
    "print(\"TOTAL MATCHES PLAYED BETWEEN CSK AND DC:\",total_matches)"
   ]
  },
  {
   "cell_type": "code",
   "execution_count": 5,
   "metadata": {},
   "outputs": [
    {
     "name": "stdout",
     "output_type": "stream",
     "text": [
      "CSK WON 15 Matches\n"
     ]
    }
   ],
   "source": [
    "WinCSK = CSKvsDC.loc[(CSKvsDC['winner'] == 'Chennai Super Kings')]\n",
    "TimesWinCSK = WinCSK.groupby('id').size().count()\n",
    "print(\"CSK WON\",TimesWinCSK,\"Matches\")"
   ]
  },
  {
   "cell_type": "code",
   "execution_count": 7,
   "metadata": {
    "scrolled": true
   },
   "outputs": [
    {
     "name": "stdout",
     "output_type": "stream",
     "text": [
      "DC WON 6 MATCHES\n"
     ]
    }
   ],
   "source": [
    "WinDC = CSKvsDC.loc[(CSKvsDC['winner'] == 'Delhi Daredevils') | (CSKvsDC['winner'] == 'Delhi Capitals')]\n",
    "TimesWinDC = WinDC.groupby('id').size().count()\n",
    "print(\"DC WON\",TimesWinDC,\"MATCHES\")"
   ]
  }
 ],
 "metadata": {
  "kernelspec": {
   "display_name": "Python 3",
   "language": "python",
   "name": "python3"
  },
  "language_info": {
   "codemirror_mode": {
    "name": "ipython",
    "version": 3
   },
   "file_extension": ".py",
   "mimetype": "text/x-python",
   "name": "python",
   "nbconvert_exporter": "python",
   "pygments_lexer": "ipython3",
   "version": "3.7.4"
  }
 },
 "nbformat": 4,
 "nbformat_minor": 4
}
