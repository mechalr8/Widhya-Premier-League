{
 "cells": [
  {
   "cell_type": "code",
   "execution_count": 24,
   "metadata": {},
   "outputs": [],
   "source": [
    "from pandas import *"
   ]
  },
  {
   "cell_type": "code",
   "execution_count": 25,
   "metadata": {
    "scrolled": true
   },
   "outputs": [
    {
     "name": "stdout",
     "output_type": "stream",
     "text": [
      "        match_id  inning         batting_team                 bowling_team  \\\n",
      "0              1       1  Sunrisers Hyderabad  Royal Challengers Bangalore   \n",
      "1              1       1  Sunrisers Hyderabad  Royal Challengers Bangalore   \n",
      "2              1       1  Sunrisers Hyderabad  Royal Challengers Bangalore   \n",
      "3              1       1  Sunrisers Hyderabad  Royal Challengers Bangalore   \n",
      "4              1       1  Sunrisers Hyderabad  Royal Challengers Bangalore   \n",
      "...          ...     ...                  ...                          ...   \n",
      "179073     11415       2  Chennai Super Kings               Mumbai Indians   \n",
      "179074     11415       2  Chennai Super Kings               Mumbai Indians   \n",
      "179075     11415       2  Chennai Super Kings               Mumbai Indians   \n",
      "179076     11415       2  Chennai Super Kings               Mumbai Indians   \n",
      "179077     11415       2  Chennai Super Kings               Mumbai Indians   \n",
      "\n",
      "        over  ball    batsman non_striker      bowler  is_super_over  ...  \\\n",
      "0          1     1  DA Warner    S Dhawan    TS Mills              0  ...   \n",
      "1          1     2  DA Warner    S Dhawan    TS Mills              0  ...   \n",
      "2          1     3  DA Warner    S Dhawan    TS Mills              0  ...   \n",
      "3          1     4  DA Warner    S Dhawan    TS Mills              0  ...   \n",
      "4          1     5  DA Warner    S Dhawan    TS Mills              0  ...   \n",
      "...      ...   ...        ...         ...         ...            ...  ...   \n",
      "179073    20     2  RA Jadeja   SR Watson  SL Malinga              0  ...   \n",
      "179074    20     3  SR Watson   RA Jadeja  SL Malinga              0  ...   \n",
      "179075    20     4  SR Watson   RA Jadeja  SL Malinga              0  ...   \n",
      "179076    20     5  SN Thakur   RA Jadeja  SL Malinga              0  ...   \n",
      "179077    20     6  SN Thakur   RA Jadeja  SL Malinga              0  ...   \n",
      "\n",
      "        bye_runs  legbye_runs  noball_runs  penalty_runs  batsman_runs  \\\n",
      "0              0            0            0             0             0   \n",
      "1              0            0            0             0             0   \n",
      "2              0            0            0             0             4   \n",
      "3              0            0            0             0             0   \n",
      "4              0            0            0             0             0   \n",
      "...          ...          ...          ...           ...           ...   \n",
      "179073         0            0            0             0             1   \n",
      "179074         0            0            0             0             2   \n",
      "179075         0            0            0             0             1   \n",
      "179076         0            0            0             0             2   \n",
      "179077         0            0            0             0             0   \n",
      "\n",
      "        extra_runs  total_runs  player_dismissed dismissal_kind    fielder  \n",
      "0                0           0               NaN            NaN        NaN  \n",
      "1                0           0               NaN            NaN        NaN  \n",
      "2                0           4               NaN            NaN        NaN  \n",
      "3                0           0               NaN            NaN        NaN  \n",
      "4                2           2               NaN            NaN        NaN  \n",
      "...            ...         ...               ...            ...        ...  \n",
      "179073           0           1               NaN            NaN        NaN  \n",
      "179074           0           2               NaN            NaN        NaN  \n",
      "179075           0           1         SR Watson        run out  KH Pandya  \n",
      "179076           0           2               NaN            NaN        NaN  \n",
      "179077           0           0         SN Thakur            lbw        NaN  \n",
      "\n",
      "[179078 rows x 21 columns]\n"
     ]
    }
   ],
   "source": [
    "df = read_csv(r'C:\\Users\\Asus\\Desktop\\WPL Datasets\\deliveries.csv')\n",
    "print(df)"
   ]
  },
  {
   "cell_type": "code",
   "execution_count": 26,
   "metadata": {
    "scrolled": true
   },
   "outputs": [
    {
     "name": "stdout",
     "output_type": "stream",
     "text": [
      "        match_id  inning         batting_team      bowling_team  over  ball  \\\n",
      "18372         79       1  Chennai Super Kings  Delhi Daredevils     1     1   \n",
      "18373         79       1  Chennai Super Kings  Delhi Daredevils     1     2   \n",
      "18374         79       1  Chennai Super Kings  Delhi Daredevils     1     3   \n",
      "18375         79       1  Chennai Super Kings  Delhi Daredevils     1     4   \n",
      "18376         79       1  Chennai Super Kings  Delhi Daredevils     1     5   \n",
      "...          ...     ...                  ...               ...   ...   ...   \n",
      "178825     11414       2  Chennai Super Kings    Delhi Capitals    19     2   \n",
      "178826     11414       2  Chennai Super Kings    Delhi Capitals    19     3   \n",
      "178827     11414       2  Chennai Super Kings    Delhi Capitals    19     4   \n",
      "178828     11414       2  Chennai Super Kings    Delhi Capitals    19     5   \n",
      "178829     11414       2  Chennai Super Kings    Delhi Capitals    19     6   \n",
      "\n",
      "           batsman non_striker      bowler  is_super_over  ...  bye_runs  \\\n",
      "18372     PA Patel  SP Fleming  GD McGrath              0  ...         0   \n",
      "18373   SP Fleming    PA Patel  GD McGrath              0  ...         0   \n",
      "18374   SP Fleming    PA Patel  GD McGrath              0  ...         0   \n",
      "18375   SP Fleming    PA Patel  GD McGrath              0  ...         0   \n",
      "18376   SP Fleming    PA Patel  GD McGrath              0  ...         0   \n",
      "...            ...         ...         ...            ...  ...       ...   \n",
      "178825    MS Dhoni   AT Rayudu    I Sharma              0  ...         0   \n",
      "178826    MS Dhoni   AT Rayudu    I Sharma              0  ...         0   \n",
      "178827    MS Dhoni   AT Rayudu    I Sharma              0  ...         0   \n",
      "178828   AT Rayudu    DJ Bravo    I Sharma              0  ...         0   \n",
      "178829    DJ Bravo   AT Rayudu    I Sharma              0  ...         0   \n",
      "\n",
      "        legbye_runs  noball_runs  penalty_runs  batsman_runs  extra_runs  \\\n",
      "18372             0            0             0             1           0   \n",
      "18373             0            0             0             0           0   \n",
      "18374             0            0             0             0           0   \n",
      "18375             0            0             0             0           0   \n",
      "18376             0            0             0             3           0   \n",
      "...             ...          ...           ...           ...         ...   \n",
      "178825            0            0             0             2           0   \n",
      "178826            0            0             0             0           0   \n",
      "178827            0            0             0             0           0   \n",
      "178828            0            0             0             1           0   \n",
      "178829            4            0             0             4           4   \n",
      "\n",
      "        total_runs  player_dismissed dismissal_kind fielder  \n",
      "18372            1               NaN            NaN     NaN  \n",
      "18373            0               NaN            NaN     NaN  \n",
      "18374            0               NaN            NaN     NaN  \n",
      "18375            0               NaN            NaN     NaN  \n",
      "18376            3               NaN            NaN     NaN  \n",
      "...            ...               ...            ...     ...  \n",
      "178825           2               NaN            NaN     NaN  \n",
      "178826           0               NaN            NaN     NaN  \n",
      "178827           0          MS Dhoni         caught  K Paul  \n",
      "178828           1               NaN            NaN     NaN  \n",
      "178829           8               NaN            NaN     NaN  \n",
      "\n",
      "[2553 rows x 21 columns]\n"
     ]
    }
   ],
   "source": [
    "team = ['Delhi Daredevils', 'Delhi Capitals']\n",
    "CSKbattingvsDCbowling = df.loc[df['bowling_team'].isin(team) & (df['batting_team'] == 'Chennai Super Kings')]\n",
    "print(CSKbattingvsDCbowling)"
   ]
  },
  {
   "cell_type": "code",
   "execution_count": 27,
   "metadata": {},
   "outputs": [
    {
     "name": "stdout",
     "output_type": "stream",
     "text": [
      "21\n"
     ]
    }
   ],
   "source": [
    "N_matches = CSKbattingvsDCbowling.groupby('match_id').size().count()\n",
    "print(N_matches)"
   ]
  },
  {
   "cell_type": "code",
   "execution_count": 28,
   "metadata": {
    "scrolled": true
   },
   "outputs": [
    {
     "name": "stdout",
     "output_type": "stream",
     "text": [
      "        match_id  inning         batting_team      bowling_team  over  ball  \\\n",
      "18372         79       1  Chennai Super Kings  Delhi Daredevils     1     1   \n",
      "18373         79       1  Chennai Super Kings  Delhi Daredevils     1     2   \n",
      "18374         79       1  Chennai Super Kings  Delhi Daredevils     1     3   \n",
      "18375         79       1  Chennai Super Kings  Delhi Daredevils     1     4   \n",
      "18376         79       1  Chennai Super Kings  Delhi Daredevils     1     5   \n",
      "...          ...     ...                  ...               ...   ...   ...   \n",
      "178825     11414       2  Chennai Super Kings    Delhi Capitals    19     2   \n",
      "178826     11414       2  Chennai Super Kings    Delhi Capitals    19     3   \n",
      "178827     11414       2  Chennai Super Kings    Delhi Capitals    19     4   \n",
      "178828     11414       2  Chennai Super Kings    Delhi Capitals    19     5   \n",
      "178829     11414       2  Chennai Super Kings    Delhi Capitals    19     6   \n",
      "\n",
      "           batsman non_striker      bowler  is_super_over  ...  legbye_runs  \\\n",
      "18372     PA Patel  SP Fleming  GD McGrath              0  ...            0   \n",
      "18373   SP Fleming    PA Patel  GD McGrath              0  ...            0   \n",
      "18374   SP Fleming    PA Patel  GD McGrath              0  ...            0   \n",
      "18375   SP Fleming    PA Patel  GD McGrath              0  ...            0   \n",
      "18376   SP Fleming    PA Patel  GD McGrath              0  ...            0   \n",
      "...            ...         ...         ...            ...  ...          ...   \n",
      "178825    MS Dhoni   AT Rayudu    I Sharma              0  ...            0   \n",
      "178826    MS Dhoni   AT Rayudu    I Sharma              0  ...            0   \n",
      "178827    MS Dhoni   AT Rayudu    I Sharma              0  ...            0   \n",
      "178828   AT Rayudu    DJ Bravo    I Sharma              0  ...            0   \n",
      "178829    DJ Bravo   AT Rayudu    I Sharma              0  ...            4   \n",
      "\n",
      "        noball_runs  penalty_runs  batsman_runs  extra_runs  total_runs  \\\n",
      "18372             0             0             1           0           1   \n",
      "18373             0             0             0           0           0   \n",
      "18374             0             0             0           0           0   \n",
      "18375             0             0             0           0           0   \n",
      "18376             0             0             3           0           3   \n",
      "...             ...           ...           ...         ...         ...   \n",
      "178825            0             0             2           0           2   \n",
      "178826            0             0             0           0           0   \n",
      "178827            0             0             0           0           0   \n",
      "178828            0             0             1           0           1   \n",
      "178829            0             0             4           4           8   \n",
      "\n",
      "        player_dismissed  dismissal_kind fielder cum_runs  \n",
      "18372                NaN             NaN     NaN        1  \n",
      "18373                NaN             NaN     NaN        1  \n",
      "18374                NaN             NaN     NaN        1  \n",
      "18375                NaN             NaN     NaN        1  \n",
      "18376                NaN             NaN     NaN        4  \n",
      "...                  ...             ...     ...      ...  \n",
      "178825               NaN             NaN     NaN      153  \n",
      "178826               NaN             NaN     NaN      153  \n",
      "178827          MS Dhoni          caught  K Paul      153  \n",
      "178828               NaN             NaN     NaN      154  \n",
      "178829               NaN             NaN     NaN      162  \n",
      "\n",
      "[2553 rows x 22 columns]\n"
     ]
    },
    {
     "name": "stderr",
     "output_type": "stream",
     "text": [
      "c:\\users\\asus\\appdata\\local\\programs\\python\\python37\\lib\\site-packages\\ipykernel_launcher.py:1: SettingWithCopyWarning: \n",
      "A value is trying to be set on a copy of a slice from a DataFrame.\n",
      "Try using .loc[row_indexer,col_indexer] = value instead\n",
      "\n",
      "See the caveats in the documentation: https://pandas.pydata.org/pandas-docs/stable/user_guide/indexing.html#returning-a-view-versus-a-copy\n",
      "  \"\"\"Entry point for launching an IPython kernel.\n"
     ]
    }
   ],
   "source": [
    "CSKbattingvsDCbowling['cum_runs'] = CSKbattingvsDCbowling.groupby(['match_id'])['total_runs'].apply(lambda x: x.cumsum())\n",
    "print(CSKbattingvsDCbowling)"
   ]
  },
  {
   "cell_type": "code",
   "execution_count": 30,
   "metadata": {
    "scrolled": false
   },
   "outputs": [],
   "source": [
    "CSKbattingvsDCbowling.to_csv(r'C:\\Users\\Asus\\Desktop\\WPL Datasets\\CSKcumruns.csv',index=False)"
   ]
  },
  {
   "cell_type": "code",
   "execution_count": 31,
   "metadata": {
    "scrolled": true
   },
   "outputs": [
    {
     "name": "stdout",
     "output_type": "stream",
     "text": [
      "      match_id  inning         batting_team      bowling_team  over  ball  \\\n",
      "0           79       1  Chennai Super Kings  Delhi Daredevils     1     1   \n",
      "1           79       1  Chennai Super Kings  Delhi Daredevils     1     2   \n",
      "2           79       1  Chennai Super Kings  Delhi Daredevils     1     3   \n",
      "3           79       1  Chennai Super Kings  Delhi Daredevils     1     4   \n",
      "4           79       1  Chennai Super Kings  Delhi Daredevils     1     5   \n",
      "...        ...     ...                  ...               ...   ...   ...   \n",
      "2548     11414       2  Chennai Super Kings    Delhi Capitals    19     2   \n",
      "2549     11414       2  Chennai Super Kings    Delhi Capitals    19     3   \n",
      "2550     11414       2  Chennai Super Kings    Delhi Capitals    19     4   \n",
      "2551     11414       2  Chennai Super Kings    Delhi Capitals    19     5   \n",
      "2552     11414       2  Chennai Super Kings    Delhi Capitals    19     6   \n",
      "\n",
      "         batsman non_striker      bowler  is_super_over  ...  legbye_runs  \\\n",
      "0       PA Patel  SP Fleming  GD McGrath              0  ...            0   \n",
      "1     SP Fleming    PA Patel  GD McGrath              0  ...            0   \n",
      "2     SP Fleming    PA Patel  GD McGrath              0  ...            0   \n",
      "3     SP Fleming    PA Patel  GD McGrath              0  ...            0   \n",
      "4     SP Fleming    PA Patel  GD McGrath              0  ...            0   \n",
      "...          ...         ...         ...            ...  ...          ...   \n",
      "2548    MS Dhoni   AT Rayudu    I Sharma              0  ...            0   \n",
      "2549    MS Dhoni   AT Rayudu    I Sharma              0  ...            0   \n",
      "2550    MS Dhoni   AT Rayudu    I Sharma              0  ...            0   \n",
      "2551   AT Rayudu    DJ Bravo    I Sharma              0  ...            0   \n",
      "2552    DJ Bravo   AT Rayudu    I Sharma              0  ...            4   \n",
      "\n",
      "      noball_runs  penalty_runs  batsman_runs  extra_runs  total_runs  \\\n",
      "0               0             0             1           0           1   \n",
      "1               0             0             0           0           0   \n",
      "2               0             0             0           0           0   \n",
      "3               0             0             0           0           0   \n",
      "4               0             0             3           0           3   \n",
      "...           ...           ...           ...         ...         ...   \n",
      "2548            0             0             2           0           2   \n",
      "2549            0             0             0           0           0   \n",
      "2550            0             0             0           0           0   \n",
      "2551            0             0             1           0           1   \n",
      "2552            0             0             4           4           8   \n",
      "\n",
      "      player_dismissed  dismissal_kind fielder cum_runs  \n",
      "0                  NaN             NaN     NaN        1  \n",
      "1                  NaN             NaN     NaN        1  \n",
      "2                  NaN             NaN     NaN        1  \n",
      "3                  NaN             NaN     NaN        1  \n",
      "4                  NaN             NaN     NaN        4  \n",
      "...                ...             ...     ...      ...  \n",
      "2548               NaN             NaN     NaN      153  \n",
      "2549               NaN             NaN     NaN      153  \n",
      "2550          MS Dhoni          caught  K Paul      153  \n",
      "2551               NaN             NaN     NaN      154  \n",
      "2552               NaN             NaN     NaN      162  \n",
      "\n",
      "[2553 rows x 22 columns]\n"
     ]
    }
   ],
   "source": [
    "df1 = read_csv(r'C:\\Users\\Asus\\Desktop\\WPL Datasets\\CSKcumruns.csv')\n",
    "print(df1)"
   ]
  },
  {
   "cell_type": "code",
   "execution_count": 32,
   "metadata": {
    "scrolled": true
   },
   "outputs": [
    {
     "name": "stdout",
     "output_type": "stream",
     "text": [
      "      match_id  inning         batting_team      bowling_team  over  ball  \\\n",
      "74          79       1  Chennai Super Kings  Delhi Daredevils    12     4   \n",
      "75          79       1  Chennai Super Kings  Delhi Daredevils    12     5   \n",
      "76          79       1  Chennai Super Kings  Delhi Daredevils    12     6   \n",
      "77          79       1  Chennai Super Kings  Delhi Daredevils    13     1   \n",
      "78          79       1  Chennai Super Kings  Delhi Daredevils    13     2   \n",
      "...        ...     ...                  ...               ...   ...   ...   \n",
      "2548     11414       2  Chennai Super Kings    Delhi Capitals    19     2   \n",
      "2549     11414       2  Chennai Super Kings    Delhi Capitals    19     3   \n",
      "2550     11414       2  Chennai Super Kings    Delhi Capitals    19     4   \n",
      "2551     11414       2  Chennai Super Kings    Delhi Capitals    19     5   \n",
      "2552     11414       2  Chennai Super Kings    Delhi Capitals    19     6   \n",
      "\n",
      "        batsman non_striker         bowler  is_super_over  ...  legbye_runs  \\\n",
      "74     S Vidyut    MS Dhoni  Mohammad Asif              0  ...            0   \n",
      "75     S Vidyut    MS Dhoni  Mohammad Asif              0  ...            0   \n",
      "76     MS Dhoni    S Vidyut  Mohammad Asif              0  ...            0   \n",
      "77     S Vidyut    MS Dhoni     GD McGrath              0  ...            0   \n",
      "78     MS Dhoni    S Vidyut     GD McGrath              0  ...            0   \n",
      "...         ...         ...            ...            ...  ...          ...   \n",
      "2548   MS Dhoni   AT Rayudu       I Sharma              0  ...            0   \n",
      "2549   MS Dhoni   AT Rayudu       I Sharma              0  ...            0   \n",
      "2550   MS Dhoni   AT Rayudu       I Sharma              0  ...            0   \n",
      "2551  AT Rayudu    DJ Bravo       I Sharma              0  ...            0   \n",
      "2552   DJ Bravo   AT Rayudu       I Sharma              0  ...            4   \n",
      "\n",
      "      noball_runs  penalty_runs  batsman_runs  extra_runs  total_runs  \\\n",
      "74              0             0             4           0           4   \n",
      "75              0             0             1           0           1   \n",
      "76              0             0             2           0           2   \n",
      "77              0             0             1           0           1   \n",
      "78              0             0             4           0           4   \n",
      "...           ...           ...           ...         ...         ...   \n",
      "2548            0             0             2           0           2   \n",
      "2549            0             0             0           0           0   \n",
      "2550            0             0             0           0           0   \n",
      "2551            0             0             1           0           1   \n",
      "2552            0             0             4           4           8   \n",
      "\n",
      "      player_dismissed  dismissal_kind fielder cum_runs  \n",
      "74                 NaN             NaN     NaN      103  \n",
      "75                 NaN             NaN     NaN      104  \n",
      "76                 NaN             NaN     NaN      106  \n",
      "77                 NaN             NaN     NaN      107  \n",
      "78                 NaN             NaN     NaN      111  \n",
      "...                ...             ...     ...      ...  \n",
      "2548               NaN             NaN     NaN      153  \n",
      "2549               NaN             NaN     NaN      153  \n",
      "2550          MS Dhoni          caught  K Paul      153  \n",
      "2551               NaN             NaN     NaN      154  \n",
      "2552               NaN             NaN     NaN      162  \n",
      "\n",
      "[875 rows x 22 columns]\n"
     ]
    }
   ],
   "source": [
    "CSK_100_runs = df1.loc[(df1['cum_runs'] >= 100)]\n",
    "print(CSK_100_runs)"
   ]
  },
  {
   "cell_type": "code",
   "execution_count": 33,
   "metadata": {},
   "outputs": [
    {
     "name": "stdout",
     "output_type": "stream",
     "text": [
      "          inning         batting_team      bowling_team  over  ball  \\\n",
      "match_id                                                              \n",
      "79             1  Chennai Super Kings  Delhi Daredevils    12     4   \n",
      "87             2  Chennai Super Kings  Delhi Daredevils    11     6   \n",
      "125            2  Chennai Super Kings  Delhi Daredevils    10     3   \n",
      "141            1  Chennai Super Kings  Delhi Daredevils    12     5   \n",
      "185            2  Chennai Super Kings  Delhi Daredevils    10     6   \n",
      "224            1  Chennai Super Kings  Delhi Daredevils    19     8   \n",
      "289            1  Chennai Super Kings  Delhi Daredevils    15     2   \n",
      "318            1  Chennai Super Kings  Delhi Daredevils    19     2   \n",
      "364            2  Chennai Super Kings  Delhi Daredevils    14     5   \n",
      "380            1  Chennai Super Kings  Delhi Daredevils    11     5   \n",
      "404            1  Chennai Super Kings  Delhi Daredevils    14     5   \n",
      "446            1  Chennai Super Kings  Delhi Daredevils    14     6   \n",
      "465            1  Chennai Super Kings  Delhi Daredevils    14     5   \n",
      "483            2  Chennai Super Kings  Delhi Daredevils    13     6   \n",
      "519            1  Chennai Super Kings  Delhi Daredevils    13     1   \n",
      "565            1  Chennai Super Kings  Delhi Daredevils    18     1   \n",
      "7923           1  Chennai Super Kings  Delhi Daredevils    11     2   \n",
      "7945           2  Chennai Super Kings  Delhi Daredevils    16     1   \n",
      "11141          2  Chennai Super Kings    Delhi Capitals    10     4   \n",
      "11341          1  Chennai Super Kings    Delhi Capitals    15     2   \n",
      "11414          2  Chennai Super Kings    Delhi Capitals    12     4   \n",
      "\n",
      "               batsman   non_striker          bowler  is_super_over  \\\n",
      "match_id                                                              \n",
      "79            S Vidyut      MS Dhoni   Mohammad Asif              0   \n",
      "87            MS Dhoni     JA Morkel      PJ Sangwan              0   \n",
      "125           SK Raina      MS Dhoni      PJ Sangwan              0   \n",
      "141        S Badrinath      SK Raina      PJ Sangwan              0   \n",
      "185          ML Hayden      SK Raina        R Bhatia              0   \n",
      "224        S Badrinath  DE Bollinger       DP Nannes              0   \n",
      "289        S Badrinath      MS Dhoni        S Nadeem              0   \n",
      "318           DJ Bravo     JA Morkel        UT Yadav              0   \n",
      "364            M Vijay      SK Raina        VR Aaron              0   \n",
      "380            M Vijay      SK Raina        V Sehwag              0   \n",
      "404           MS Dhoni    MEK Hussey        M Morkel              0   \n",
      "446          RA Jadeja      MS Dhoni          S Kaul              0   \n",
      "465           SK Raina  F du Plessis       JP Duminy              0   \n",
      "483           DR Smith      SK Raina  Mohammed Shami              0   \n",
      "519       F du Plessis     RA Jadeja       JP Duminy              0   \n",
      "565           DJ Bravo      MS Dhoni       GS Sandhu              0   \n",
      "7923      F du Plessis     SR Watson       V Shankar              0   \n",
      "7945         RA Jadeja      MS Dhoni    S Lamichhane              0   \n",
      "11141        KM Jadhav      SK Raina       R Tewatia              0   \n",
      "11341         SK Raina      MS Dhoni       J Suchith              0   \n",
      "11414         SK Raina     SR Watson          K Paul              0   \n",
      "\n",
      "          wide_runs  ...  legbye_runs  noball_runs  penalty_runs  \\\n",
      "match_id             ...                                           \n",
      "79                0  ...            0            0             0   \n",
      "87                0  ...            0            0             0   \n",
      "125               0  ...            0            0             0   \n",
      "141               0  ...            0            0             0   \n",
      "185               0  ...            0            0             0   \n",
      "224               0  ...            0            0             0   \n",
      "289               0  ...            0            0             0   \n",
      "318               0  ...            0            0             0   \n",
      "364               0  ...            0            0             0   \n",
      "380               0  ...            0            0             0   \n",
      "404               0  ...            0            0             0   \n",
      "446               0  ...            0            0             0   \n",
      "465               0  ...            0            0             0   \n",
      "483               0  ...            0            0             0   \n",
      "519               0  ...            0            0             0   \n",
      "565               0  ...            0            0             0   \n",
      "7923              0  ...            0            1             0   \n",
      "7945              0  ...            0            0             0   \n",
      "11141             0  ...            0            0             0   \n",
      "11341             0  ...            0            0             0   \n",
      "11414             0  ...            0            0             0   \n",
      "\n",
      "          batsman_runs  extra_runs  total_runs  player_dismissed  \\\n",
      "match_id                                                           \n",
      "79                   4           0           4          S Vidyut   \n",
      "87                   1           0           1         JA Morkel   \n",
      "125                  2           0           2          MS Dhoni   \n",
      "141                  6           0           6          SK Raina   \n",
      "185                  6           0           6         ML Hayden   \n",
      "224                  1           0           1       S Badrinath   \n",
      "289                  4           0           4       S Badrinath   \n",
      "318                  2           0           2          DJ Bravo   \n",
      "364                  6           0           6               NaN   \n",
      "380                  6           0           6          SK Raina   \n",
      "404                  4           0           4          MS Dhoni   \n",
      "446                  1           0           1         RA Jadeja   \n",
      "465                  2           0           2          SK Raina   \n",
      "483                  6           0           6          DR Smith   \n",
      "519                  4           0           4      F du Plessis   \n",
      "565                  6           0           6          DJ Bravo   \n",
      "7923                 2           1           3      F du Plessis   \n",
      "7945                 6           0           6          MS Dhoni   \n",
      "11141                4           0           4          SK Raina   \n",
      "11341                4           0           4          SK Raina   \n",
      "11414                1           0           1         SR Watson   \n",
      "\n",
      "             dismissal_kind      fielder cum_runs  \n",
      "match_id                                           \n",
      "79                   caught    VY Mahesh      103  \n",
      "87                  run out     V Sehwag      100  \n",
      "125                  caught   KD Karthik      100  \n",
      "141                  caught   TM Dilshan      102  \n",
      "185                  caught   TM Dilshan      102  \n",
      "224                  caught    DA Warner      100  \n",
      "289                 run out      Y Nagar      103  \n",
      "318                  bowled     V Sehwag      100  \n",
      "364                     NaN          NaN      101  \n",
      "380       caught and bowled       P Negi      103  \n",
      "404                  caught  BMAJ Mendis      103  \n",
      "446                  bowled          NaN      100  \n",
      "465                  caught      M Vijay      101  \n",
      "483                  caught      M Vijay      102  \n",
      "519                  caught      SS Iyer      100  \n",
      "565                  caught    JP Duminy      105  \n",
      "7923                 caught     TA Boult      102  \n",
      "7945                 caught      SS Iyer      101  \n",
      "11141                caught      RR Pant      100  \n",
      "11341                caught     S Dhawan      100  \n",
      "11414                caught     TA Boult      100  \n",
      "\n",
      "[21 rows x 21 columns]\n"
     ]
    }
   ],
   "source": [
    "grouped = CSK_100_runs.groupby('match_id')\n",
    "first = grouped.first()\n",
    "first = first.reset_index(\n",
    "print(first))"
   ]
  },
  {
   "cell_type": "code",
   "execution_count": 34,
   "metadata": {
    "scrolled": true
   },
   "outputs": [
    {
     "name": "stdout",
     "output_type": "stream",
     "text": [
      "    match_id  inning         batting_team      bowling_team  over  ball  \\\n",
      "0         79       1  Chennai Super Kings  Delhi Daredevils    12     4   \n",
      "1         87       2  Chennai Super Kings  Delhi Daredevils    11     6   \n",
      "2        125       2  Chennai Super Kings  Delhi Daredevils    10     3   \n",
      "3        141       1  Chennai Super Kings  Delhi Daredevils    12     5   \n",
      "4        185       2  Chennai Super Kings  Delhi Daredevils    10     6   \n",
      "5        224       1  Chennai Super Kings  Delhi Daredevils    19     8   \n",
      "6        289       1  Chennai Super Kings  Delhi Daredevils    15     2   \n",
      "7        318       1  Chennai Super Kings  Delhi Daredevils    19     2   \n",
      "8        364       2  Chennai Super Kings  Delhi Daredevils    14     5   \n",
      "9        380       1  Chennai Super Kings  Delhi Daredevils    11     5   \n",
      "10       404       1  Chennai Super Kings  Delhi Daredevils    14     5   \n",
      "11       446       1  Chennai Super Kings  Delhi Daredevils    14     6   \n",
      "12       465       1  Chennai Super Kings  Delhi Daredevils    14     5   \n",
      "13       483       2  Chennai Super Kings  Delhi Daredevils    13     6   \n",
      "14       519       1  Chennai Super Kings  Delhi Daredevils    13     1   \n",
      "15       565       1  Chennai Super Kings  Delhi Daredevils    18     1   \n",
      "16      7923       1  Chennai Super Kings  Delhi Daredevils    11     2   \n",
      "17      7945       2  Chennai Super Kings  Delhi Daredevils    16     1   \n",
      "18     11141       2  Chennai Super Kings    Delhi Capitals    10     4   \n",
      "19     11341       1  Chennai Super Kings    Delhi Capitals    15     2   \n",
      "20     11414       2  Chennai Super Kings    Delhi Capitals    12     4   \n",
      "\n",
      "         batsman   non_striker          bowler  is_super_over  ...  \\\n",
      "0       S Vidyut      MS Dhoni   Mohammad Asif              0  ...   \n",
      "1       MS Dhoni     JA Morkel      PJ Sangwan              0  ...   \n",
      "2       SK Raina      MS Dhoni      PJ Sangwan              0  ...   \n",
      "3    S Badrinath      SK Raina      PJ Sangwan              0  ...   \n",
      "4      ML Hayden      SK Raina        R Bhatia              0  ...   \n",
      "5    S Badrinath  DE Bollinger       DP Nannes              0  ...   \n",
      "6    S Badrinath      MS Dhoni        S Nadeem              0  ...   \n",
      "7       DJ Bravo     JA Morkel        UT Yadav              0  ...   \n",
      "8        M Vijay      SK Raina        VR Aaron              0  ...   \n",
      "9        M Vijay      SK Raina        V Sehwag              0  ...   \n",
      "10      MS Dhoni    MEK Hussey        M Morkel              0  ...   \n",
      "11     RA Jadeja      MS Dhoni          S Kaul              0  ...   \n",
      "12      SK Raina  F du Plessis       JP Duminy              0  ...   \n",
      "13      DR Smith      SK Raina  Mohammed Shami              0  ...   \n",
      "14  F du Plessis     RA Jadeja       JP Duminy              0  ...   \n",
      "15      DJ Bravo      MS Dhoni       GS Sandhu              0  ...   \n",
      "16  F du Plessis     SR Watson       V Shankar              0  ...   \n",
      "17     RA Jadeja      MS Dhoni    S Lamichhane              0  ...   \n",
      "18     KM Jadhav      SK Raina       R Tewatia              0  ...   \n",
      "19      SK Raina      MS Dhoni       J Suchith              0  ...   \n",
      "20      SK Raina     SR Watson          K Paul              0  ...   \n",
      "\n",
      "    noball_runs  penalty_runs  batsman_runs  extra_runs  total_runs  \\\n",
      "0             0             0             4           0           4   \n",
      "1             0             0             1           0           1   \n",
      "2             0             0             2           0           2   \n",
      "3             0             0             6           0           6   \n",
      "4             0             0             6           0           6   \n",
      "5             0             0             1           0           1   \n",
      "6             0             0             4           0           4   \n",
      "7             0             0             2           0           2   \n",
      "8             0             0             6           0           6   \n",
      "9             0             0             6           0           6   \n",
      "10            0             0             4           0           4   \n",
      "11            0             0             1           0           1   \n",
      "12            0             0             2           0           2   \n",
      "13            0             0             6           0           6   \n",
      "14            0             0             4           0           4   \n",
      "15            0             0             6           0           6   \n",
      "16            1             0             2           1           3   \n",
      "17            0             0             6           0           6   \n",
      "18            0             0             4           0           4   \n",
      "19            0             0             4           0           4   \n",
      "20            0             0             1           0           1   \n",
      "\n",
      "    player_dismissed     dismissal_kind      fielder cum_runs balls  \n",
      "0           S Vidyut             caught    VY Mahesh      103    76  \n",
      "1          JA Morkel            run out     V Sehwag      100    72  \n",
      "2           MS Dhoni             caught   KD Karthik      100    63  \n",
      "3           SK Raina             caught   TM Dilshan      102    77  \n",
      "4          ML Hayden             caught   TM Dilshan      102    66  \n",
      "5        S Badrinath             caught    DA Warner      100   122  \n",
      "6        S Badrinath            run out      Y Nagar      103    92  \n",
      "7           DJ Bravo             bowled     V Sehwag      100   116  \n",
      "8                NaN                NaN          NaN      101    89  \n",
      "9           SK Raina  caught and bowled       P Negi      103    71  \n",
      "10          MS Dhoni             caught  BMAJ Mendis      103    89  \n",
      "11         RA Jadeja             bowled          NaN      100    90  \n",
      "12          SK Raina             caught      M Vijay      101    89  \n",
      "13          DR Smith             caught      M Vijay      102    84  \n",
      "14      F du Plessis             caught      SS Iyer      100    79  \n",
      "15          DJ Bravo             caught    JP Duminy      105   109  \n",
      "16      F du Plessis             caught     TA Boult      102    68  \n",
      "17          MS Dhoni             caught      SS Iyer      101    97  \n",
      "18          SK Raina             caught      RR Pant      100    64  \n",
      "19          SK Raina             caught     S Dhawan      100    92  \n",
      "20         SR Watson             caught     TA Boult      100    76  \n",
      "\n",
      "[21 rows x 23 columns]\n"
     ]
    }
   ],
   "source": [
    "first['balls'] = 6*first['over']+first['ball']\n",
    "print(first)"
   ]
  },
  {
   "cell_type": "code",
   "execution_count": 35,
   "metadata": {},
   "outputs": [
    {
     "name": "stdout",
     "output_type": "stream",
     "text": [
      "0\n"
     ]
    }
   ],
   "source": [
    "r1 = list(range(0-41))\n",
    "a = first.loc[first['balls'].isin(r1)]\n",
    "A = a.groupby('match_id').size().count()\n",
    "print(A)"
   ]
  },
  {
   "cell_type": "code",
   "execution_count": 36,
   "metadata": {},
   "outputs": [
    {
     "name": "stdout",
     "output_type": "stream",
     "text": [
      "0\n"
     ]
    }
   ],
   "source": [
    "r2 = list(range(41-60))\n",
    "b = first.loc[first['balls'].isin(r2)]\n",
    "B = b.groupby('match_id').size().count()\n",
    "print(B)"
   ]
  },
  {
   "cell_type": "code",
   "execution_count": 37,
   "metadata": {},
   "outputs": [
    {
     "name": "stdout",
     "output_type": "stream",
     "text": [
      "0\n"
     ]
    }
   ],
   "source": [
    "r3 = list(range(61-71))\n",
    "c = first.loc[first['balls'].isin(r3)]\n",
    "C = c.groupby('match_id').size().count()\n",
    "print(C)"
   ]
  },
  {
   "cell_type": "code",
   "execution_count": 23,
   "metadata": {},
   "outputs": [
    {
     "name": "stdout",
     "output_type": "stream",
     "text": [
      "0\n"
     ]
    }
   ],
   "source": [
    "max_value = first['balls'].max()\n",
    "r4 = list(range(71,max_value+1))\n",
    "d = first.loc[first['balls'].isin(r3)]\n",
    "D = c.groupby('match_id').size().count()\n",
    "print(D)"
   ]
  },
  {
   "cell_type": "code",
   "execution_count": null,
   "metadata": {},
   "outputs": [],
   "source": []
  }
 ],
 "metadata": {
  "kernelspec": {
   "display_name": "Python 3",
   "language": "python",
   "name": "python3"
  },
  "language_info": {
   "codemirror_mode": {
    "name": "ipython",
    "version": 3
   },
   "file_extension": ".py",
   "mimetype": "text/x-python",
   "name": "python",
   "nbconvert_exporter": "python",
   "pygments_lexer": "ipython3",
   "version": "3.7.4"
  }
 },
 "nbformat": 4,
 "nbformat_minor": 4
}
