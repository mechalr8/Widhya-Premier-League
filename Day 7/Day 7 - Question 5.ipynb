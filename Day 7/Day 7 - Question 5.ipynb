{
 "cells": [
  {
   "cell_type": "code",
   "execution_count": 1,
   "metadata": {},
   "outputs": [],
   "source": [
    "from pandas import *"
   ]
  },
  {
   "cell_type": "code",
   "execution_count": 2,
   "metadata": {
    "scrolled": true
   },
   "outputs": [
    {
     "name": "stdout",
     "output_type": "stream",
     "text": [
      "        match_id  inning         batting_team                 bowling_team  \\\n",
      "0              1       1  Sunrisers Hyderabad  Royal Challengers Bangalore   \n",
      "1              1       1  Sunrisers Hyderabad  Royal Challengers Bangalore   \n",
      "2              1       1  Sunrisers Hyderabad  Royal Challengers Bangalore   \n",
      "3              1       1  Sunrisers Hyderabad  Royal Challengers Bangalore   \n",
      "4              1       1  Sunrisers Hyderabad  Royal Challengers Bangalore   \n",
      "...          ...     ...                  ...                          ...   \n",
      "179073     11415       2  Chennai Super Kings               Mumbai Indians   \n",
      "179074     11415       2  Chennai Super Kings               Mumbai Indians   \n",
      "179075     11415       2  Chennai Super Kings               Mumbai Indians   \n",
      "179076     11415       2  Chennai Super Kings               Mumbai Indians   \n",
      "179077     11415       2  Chennai Super Kings               Mumbai Indians   \n",
      "\n",
      "        over  ball    batsman non_striker      bowler  is_super_over  ...  \\\n",
      "0          1     1  DA Warner    S Dhawan    TS Mills              0  ...   \n",
      "1          1     2  DA Warner    S Dhawan    TS Mills              0  ...   \n",
      "2          1     3  DA Warner    S Dhawan    TS Mills              0  ...   \n",
      "3          1     4  DA Warner    S Dhawan    TS Mills              0  ...   \n",
      "4          1     5  DA Warner    S Dhawan    TS Mills              0  ...   \n",
      "...      ...   ...        ...         ...         ...            ...  ...   \n",
      "179073    20     2  RA Jadeja   SR Watson  SL Malinga              0  ...   \n",
      "179074    20     3  SR Watson   RA Jadeja  SL Malinga              0  ...   \n",
      "179075    20     4  SR Watson   RA Jadeja  SL Malinga              0  ...   \n",
      "179076    20     5  SN Thakur   RA Jadeja  SL Malinga              0  ...   \n",
      "179077    20     6  SN Thakur   RA Jadeja  SL Malinga              0  ...   \n",
      "\n",
      "        bye_runs  legbye_runs  noball_runs  penalty_runs  batsman_runs  \\\n",
      "0              0            0            0             0             0   \n",
      "1              0            0            0             0             0   \n",
      "2              0            0            0             0             4   \n",
      "3              0            0            0             0             0   \n",
      "4              0            0            0             0             0   \n",
      "...          ...          ...          ...           ...           ...   \n",
      "179073         0            0            0             0             1   \n",
      "179074         0            0            0             0             2   \n",
      "179075         0            0            0             0             1   \n",
      "179076         0            0            0             0             2   \n",
      "179077         0            0            0             0             0   \n",
      "\n",
      "        extra_runs  total_runs  player_dismissed dismissal_kind    fielder  \n",
      "0                0           0               NaN            NaN        NaN  \n",
      "1                0           0               NaN            NaN        NaN  \n",
      "2                0           4               NaN            NaN        NaN  \n",
      "3                0           0               NaN            NaN        NaN  \n",
      "4                2           2               NaN            NaN        NaN  \n",
      "...            ...         ...               ...            ...        ...  \n",
      "179073           0           1               NaN            NaN        NaN  \n",
      "179074           0           2               NaN            NaN        NaN  \n",
      "179075           0           1         SR Watson        run out  KH Pandya  \n",
      "179076           0           2               NaN            NaN        NaN  \n",
      "179077           0           0         SN Thakur            lbw        NaN  \n",
      "\n",
      "[179078 rows x 21 columns]\n"
     ]
    }
   ],
   "source": [
    "df = read_csv(r'C:\\Users\\Asus\\Desktop\\WPL Datasets\\deliveries.csv')\n",
    "print(df)"
   ]
  },
  {
   "cell_type": "code",
   "execution_count": 20,
   "metadata": {
    "scrolled": true
   },
   "outputs": [
    {
     "name": "stdout",
     "output_type": "stream",
     "text": [
      "        match_id  inning         batting_team      bowling_team  over  ball  \\\n",
      "18372         79       1  Chennai Super Kings  Delhi Daredevils     1     1   \n",
      "18373         79       1  Chennai Super Kings  Delhi Daredevils     1     2   \n",
      "18374         79       1  Chennai Super Kings  Delhi Daredevils     1     3   \n",
      "18375         79       1  Chennai Super Kings  Delhi Daredevils     1     4   \n",
      "18376         79       1  Chennai Super Kings  Delhi Daredevils     1     5   \n",
      "...          ...     ...                  ...               ...   ...   ...   \n",
      "178825     11414       2  Chennai Super Kings    Delhi Capitals    19     2   \n",
      "178826     11414       2  Chennai Super Kings    Delhi Capitals    19     3   \n",
      "178827     11414       2  Chennai Super Kings    Delhi Capitals    19     4   \n",
      "178828     11414       2  Chennai Super Kings    Delhi Capitals    19     5   \n",
      "178829     11414       2  Chennai Super Kings    Delhi Capitals    19     6   \n",
      "\n",
      "           batsman non_striker      bowler  is_super_over  ...  bye_runs  \\\n",
      "18372     PA Patel  SP Fleming  GD McGrath              0  ...         0   \n",
      "18373   SP Fleming    PA Patel  GD McGrath              0  ...         0   \n",
      "18374   SP Fleming    PA Patel  GD McGrath              0  ...         0   \n",
      "18375   SP Fleming    PA Patel  GD McGrath              0  ...         0   \n",
      "18376   SP Fleming    PA Patel  GD McGrath              0  ...         0   \n",
      "...            ...         ...         ...            ...  ...       ...   \n",
      "178825    MS Dhoni   AT Rayudu    I Sharma              0  ...         0   \n",
      "178826    MS Dhoni   AT Rayudu    I Sharma              0  ...         0   \n",
      "178827    MS Dhoni   AT Rayudu    I Sharma              0  ...         0   \n",
      "178828   AT Rayudu    DJ Bravo    I Sharma              0  ...         0   \n",
      "178829    DJ Bravo   AT Rayudu    I Sharma              0  ...         0   \n",
      "\n",
      "        legbye_runs  noball_runs  penalty_runs  batsman_runs  extra_runs  \\\n",
      "18372             0            0             0             1           0   \n",
      "18373             0            0             0             0           0   \n",
      "18374             0            0             0             0           0   \n",
      "18375             0            0             0             0           0   \n",
      "18376             0            0             0             3           0   \n",
      "...             ...          ...           ...           ...         ...   \n",
      "178825            0            0             0             2           0   \n",
      "178826            0            0             0             0           0   \n",
      "178827            0            0             0             0           0   \n",
      "178828            0            0             0             1           0   \n",
      "178829            4            0             0             4           4   \n",
      "\n",
      "        total_runs  player_dismissed dismissal_kind fielder  \n",
      "18372            1               NaN            NaN     NaN  \n",
      "18373            0               NaN            NaN     NaN  \n",
      "18374            0               NaN            NaN     NaN  \n",
      "18375            0               NaN            NaN     NaN  \n",
      "18376            3               NaN            NaN     NaN  \n",
      "...            ...               ...            ...     ...  \n",
      "178825           2               NaN            NaN     NaN  \n",
      "178826           0               NaN            NaN     NaN  \n",
      "178827           0          MS Dhoni         caught  K Paul  \n",
      "178828           1               NaN            NaN     NaN  \n",
      "178829           8               NaN            NaN     NaN  \n",
      "\n",
      "[4991 rows x 21 columns]\n"
     ]
    }
   ],
   "source": [
    "team = ['Chennai Super Kings', 'Delhi Daredevils', 'Delhi Capitals']\n",
    "CSKvsDC = df.loc[df['bowling_team'].isin(team) & df['batting_team'].isin(team)]\n",
    "print(CSKvsDC)"
   ]
  },
  {
   "cell_type": "code",
   "execution_count": 21,
   "metadata": {
    "scrolled": true
   },
   "outputs": [
    {
     "name": "stdout",
     "output_type": "stream",
     "text": [
      "        match_id  noball_runs\n",
      "18391         79            1\n",
      "18392         79            1\n",
      "18537         79            1\n",
      "18544         79            1\n",
      "20237         87            1\n",
      "20238         87            1\n",
      "28946        125            1\n",
      "32856        141            1\n",
      "43382        185            1\n",
      "52926        224            1\n",
      "52941        224            1\n",
      "68322        289            1\n",
      "122955       519            1\n",
      "157413      7923            1\n",
      "165915     11141            1\n",
      "176579     11341            1\n",
      "178678     11414            1\n"
     ]
    }
   ],
   "source": [
    "balls = CSKvsDC[['match_id', 'noball_runs']]\n",
    "no_balls = balls.loc[(balls['noball_runs'] > 0)]\n",
    "print(no_balls)"
   ]
  },
  {
   "cell_type": "code",
   "execution_count": 16,
   "metadata": {},
   "outputs": [
    {
     "name": "stdout",
     "output_type": "stream",
     "text": [
      "          noball_runs\n",
      "match_id             \n",
      "79                  4\n",
      "87                  2\n",
      "125                 1\n",
      "141                 1\n",
      "185                 1\n",
      "224                 2\n",
      "289                 1\n",
      "519                 1\n",
      "7923                1\n",
      "11141               1\n",
      "11341               1\n",
      "11414               1\n"
     ]
    }
   ],
   "source": [
    "N_noballs = no_balls.groupby('match_id').count()\n",
    "print(N_noballs)"
   ]
  },
  {
   "cell_type": "code",
   "execution_count": 22,
   "metadata": {},
   "outputs": [
    {
     "name": "stdout",
     "output_type": "stream",
     "text": [
      "21\n"
     ]
    }
   ],
   "source": [
    "N_matches = CSKvsDC.groupby('match_id').size().count()\n",
    "print(N_matches)"
   ]
  },
  {
   "cell_type": "code",
   "execution_count": 17,
   "metadata": {},
   "outputs": [
    {
     "name": "stdout",
     "output_type": "stream",
     "text": [
      "2\n"
     ]
    }
   ],
   "source": [
    "r2 = list(range(2,4))\n",
    "b = N_noballs.loc[N_noballs['noball_runs'].isin(r2)]\n",
    "B = b.groupby('match_id').size().count()\n",
    "print(B)"
   ]
  },
  {
   "cell_type": "code",
   "execution_count": 18,
   "metadata": {},
   "outputs": [
    {
     "name": "stdout",
     "output_type": "stream",
     "text": [
      "1\n"
     ]
    }
   ],
   "source": [
    "c = N_noballs.loc[(N_noballs['noball_runs'] == 4)]\n",
    "C = c.groupby('match_id').size().count()\n",
    "print(C)"
   ]
  },
  {
   "cell_type": "code",
   "execution_count": 19,
   "metadata": {},
   "outputs": [
    {
     "name": "stdout",
     "output_type": "stream",
     "text": [
      "0\n"
     ]
    }
   ],
   "source": [
    "max_value = N_noballs['noball_runs'].max()\n",
    "r4 = list(range(5,max_value+1))\n",
    "d = N_noballs.loc[N_noballs['noball_runs'].isin(r4)]\n",
    "D = d.groupby('match_id').size().count()\n",
    "print(D)"
   ]
  },
  {
   "cell_type": "code",
   "execution_count": 23,
   "metadata": {},
   "outputs": [
    {
     "name": "stdout",
     "output_type": "stream",
     "text": [
      "18\n"
     ]
    }
   ],
   "source": [
    "Times_when_0_to_1_noballs_are_bowled = N_matches-(B+C+D)\n",
    "print(Times_when_0_to_2_noballs_are_bowled)"
   ]
  }
 ],
 "metadata": {
  "kernelspec": {
   "display_name": "Python 3",
   "language": "python",
   "name": "python3"
  },
  "language_info": {
   "codemirror_mode": {
    "name": "ipython",
    "version": 3
   },
   "file_extension": ".py",
   "mimetype": "text/x-python",
   "name": "python",
   "nbconvert_exporter": "python",
   "pygments_lexer": "ipython3",
   "version": "3.7.4"
  }
 },
 "nbformat": 4,
 "nbformat_minor": 4
}
