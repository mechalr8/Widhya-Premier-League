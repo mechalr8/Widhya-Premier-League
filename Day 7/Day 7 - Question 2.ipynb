{
 "cells": [
  {
   "cell_type": "code",
   "execution_count": 1,
   "metadata": {},
   "outputs": [],
   "source": [
    "from pandas import *"
   ]
  },
  {
   "cell_type": "code",
   "execution_count": 2,
   "metadata": {
    "scrolled": true
   },
   "outputs": [
    {
     "name": "stdout",
     "output_type": "stream",
     "text": [
      "        match_id  inning         batting_team                 bowling_team  \\\n",
      "0              1       1  Sunrisers Hyderabad  Royal Challengers Bangalore   \n",
      "1              1       1  Sunrisers Hyderabad  Royal Challengers Bangalore   \n",
      "2              1       1  Sunrisers Hyderabad  Royal Challengers Bangalore   \n",
      "3              1       1  Sunrisers Hyderabad  Royal Challengers Bangalore   \n",
      "4              1       1  Sunrisers Hyderabad  Royal Challengers Bangalore   \n",
      "...          ...     ...                  ...                          ...   \n",
      "179073     11415       2  Chennai Super Kings               Mumbai Indians   \n",
      "179074     11415       2  Chennai Super Kings               Mumbai Indians   \n",
      "179075     11415       2  Chennai Super Kings               Mumbai Indians   \n",
      "179076     11415       2  Chennai Super Kings               Mumbai Indians   \n",
      "179077     11415       2  Chennai Super Kings               Mumbai Indians   \n",
      "\n",
      "        over  ball    batsman non_striker      bowler  is_super_over  ...  \\\n",
      "0          1     1  DA Warner    S Dhawan    TS Mills              0  ...   \n",
      "1          1     2  DA Warner    S Dhawan    TS Mills              0  ...   \n",
      "2          1     3  DA Warner    S Dhawan    TS Mills              0  ...   \n",
      "3          1     4  DA Warner    S Dhawan    TS Mills              0  ...   \n",
      "4          1     5  DA Warner    S Dhawan    TS Mills              0  ...   \n",
      "...      ...   ...        ...         ...         ...            ...  ...   \n",
      "179073    20     2  RA Jadeja   SR Watson  SL Malinga              0  ...   \n",
      "179074    20     3  SR Watson   RA Jadeja  SL Malinga              0  ...   \n",
      "179075    20     4  SR Watson   RA Jadeja  SL Malinga              0  ...   \n",
      "179076    20     5  SN Thakur   RA Jadeja  SL Malinga              0  ...   \n",
      "179077    20     6  SN Thakur   RA Jadeja  SL Malinga              0  ...   \n",
      "\n",
      "        bye_runs  legbye_runs  noball_runs  penalty_runs  batsman_runs  \\\n",
      "0              0            0            0             0             0   \n",
      "1              0            0            0             0             0   \n",
      "2              0            0            0             0             4   \n",
      "3              0            0            0             0             0   \n",
      "4              0            0            0             0             0   \n",
      "...          ...          ...          ...           ...           ...   \n",
      "179073         0            0            0             0             1   \n",
      "179074         0            0            0             0             2   \n",
      "179075         0            0            0             0             1   \n",
      "179076         0            0            0             0             2   \n",
      "179077         0            0            0             0             0   \n",
      "\n",
      "        extra_runs  total_runs  player_dismissed dismissal_kind    fielder  \n",
      "0                0           0               NaN            NaN        NaN  \n",
      "1                0           0               NaN            NaN        NaN  \n",
      "2                0           4               NaN            NaN        NaN  \n",
      "3                0           0               NaN            NaN        NaN  \n",
      "4                2           2               NaN            NaN        NaN  \n",
      "...            ...         ...               ...            ...        ...  \n",
      "179073           0           1               NaN            NaN        NaN  \n",
      "179074           0           2               NaN            NaN        NaN  \n",
      "179075           0           1         SR Watson        run out  KH Pandya  \n",
      "179076           0           2               NaN            NaN        NaN  \n",
      "179077           0           0         SN Thakur            lbw        NaN  \n",
      "\n",
      "[179078 rows x 21 columns]\n"
     ]
    }
   ],
   "source": [
    "df = read_csv(r'C:\\Users\\Asus\\Desktop\\WPL Datasets\\deliveries.csv')\n",
    "print(df)"
   ]
  },
  {
   "cell_type": "code",
   "execution_count": 8,
   "metadata": {
    "scrolled": true
   },
   "outputs": [
    {
     "name": "stdout",
     "output_type": "stream",
     "text": [
      "        match_id  inning         batting_team      bowling_team  over  ball  \\\n",
      "18372         79       1  Chennai Super Kings  Delhi Daredevils     1     1   \n",
      "18373         79       1  Chennai Super Kings  Delhi Daredevils     1     2   \n",
      "18374         79       1  Chennai Super Kings  Delhi Daredevils     1     3   \n",
      "18375         79       1  Chennai Super Kings  Delhi Daredevils     1     4   \n",
      "18376         79       1  Chennai Super Kings  Delhi Daredevils     1     5   \n",
      "...          ...     ...                  ...               ...   ...   ...   \n",
      "178825     11414       2  Chennai Super Kings    Delhi Capitals    19     2   \n",
      "178826     11414       2  Chennai Super Kings    Delhi Capitals    19     3   \n",
      "178827     11414       2  Chennai Super Kings    Delhi Capitals    19     4   \n",
      "178828     11414       2  Chennai Super Kings    Delhi Capitals    19     5   \n",
      "178829     11414       2  Chennai Super Kings    Delhi Capitals    19     6   \n",
      "\n",
      "           batsman non_striker      bowler  is_super_over  ...  bye_runs  \\\n",
      "18372     PA Patel  SP Fleming  GD McGrath              0  ...         0   \n",
      "18373   SP Fleming    PA Patel  GD McGrath              0  ...         0   \n",
      "18374   SP Fleming    PA Patel  GD McGrath              0  ...         0   \n",
      "18375   SP Fleming    PA Patel  GD McGrath              0  ...         0   \n",
      "18376   SP Fleming    PA Patel  GD McGrath              0  ...         0   \n",
      "...            ...         ...         ...            ...  ...       ...   \n",
      "178825    MS Dhoni   AT Rayudu    I Sharma              0  ...         0   \n",
      "178826    MS Dhoni   AT Rayudu    I Sharma              0  ...         0   \n",
      "178827    MS Dhoni   AT Rayudu    I Sharma              0  ...         0   \n",
      "178828   AT Rayudu    DJ Bravo    I Sharma              0  ...         0   \n",
      "178829    DJ Bravo   AT Rayudu    I Sharma              0  ...         0   \n",
      "\n",
      "        legbye_runs  noball_runs  penalty_runs  batsman_runs  extra_runs  \\\n",
      "18372             0            0             0             1           0   \n",
      "18373             0            0             0             0           0   \n",
      "18374             0            0             0             0           0   \n",
      "18375             0            0             0             0           0   \n",
      "18376             0            0             0             3           0   \n",
      "...             ...          ...           ...           ...         ...   \n",
      "178825            0            0             0             2           0   \n",
      "178826            0            0             0             0           0   \n",
      "178827            0            0             0             0           0   \n",
      "178828            0            0             0             1           0   \n",
      "178829            4            0             0             4           4   \n",
      "\n",
      "        total_runs  player_dismissed dismissal_kind fielder  \n",
      "18372            1               NaN            NaN     NaN  \n",
      "18373            0               NaN            NaN     NaN  \n",
      "18374            0               NaN            NaN     NaN  \n",
      "18375            0               NaN            NaN     NaN  \n",
      "18376            3               NaN            NaN     NaN  \n",
      "...            ...               ...            ...     ...  \n",
      "178825           2               NaN            NaN     NaN  \n",
      "178826           0               NaN            NaN     NaN  \n",
      "178827           0          MS Dhoni         caught  K Paul  \n",
      "178828           1               NaN            NaN     NaN  \n",
      "178829           8               NaN            NaN     NaN  \n",
      "\n",
      "[2553 rows x 21 columns]\n"
     ]
    }
   ],
   "source": [
    "team = ['Delhi Daredevils', 'Delhi Capitals']\n",
    "CSKbattingvsDCbowling = df.loc[df['bowling_team'].isin(team) & (df['batting_team'] == 'Chennai Super Kings')]\n",
    "print(CSKbattingvsDCbowling)"
   ]
  },
  {
   "cell_type": "code",
   "execution_count": 9,
   "metadata": {
    "scrolled": true
   },
   "outputs": [
    {
     "name": "stdout",
     "output_type": "stream",
     "text": [
      "          total\n",
      "match_id       \n",
      "79          169\n",
      "87          188\n",
      "125         180\n",
      "141         163\n",
      "185         190\n",
      "224         112\n",
      "289         176\n",
      "318         110\n",
      "364         115\n",
      "380         222\n",
      "404         169\n",
      "446         168\n",
      "465         177\n",
      "483         181\n",
      "519         150\n",
      "565         119\n",
      "7923        218\n",
      "7945        130\n",
      "11141       157\n",
      "11341       186\n",
      "11414       162\n"
     ]
    }
   ],
   "source": [
    "runs = CSKbattingvsDCbowling.groupby('match_id').agg({'total_runs':['sum']})\n",
    "runs.columns = ['total']\n",
    "print(runs)"
   ]
  },
  {
   "cell_type": "code",
   "execution_count": 10,
   "metadata": {
    "scrolled": true
   },
   "outputs": [
    {
     "name": "stdout",
     "output_type": "stream",
     "text": [
      "6\n"
     ]
    }
   ],
   "source": [
    "r1 = list(range(0,151))\n",
    "a = runs.loc[runs['total'].isin(r1)]\n",
    "A = a.groupby('match_id').size().count()\n",
    "print(A)"
   ]
  },
  {
   "cell_type": "code",
   "execution_count": 13,
   "metadata": {
    "scrolled": true
   },
   "outputs": [
    {
     "name": "stdout",
     "output_type": "stream",
     "text": [
      "3\n"
     ]
    }
   ],
   "source": [
    "r2 = list(range(151,166))\n",
    "b = runs.loc[runs['total'].isin(r2)]\n",
    "B = b.groupby('match_id').size().count()\n",
    "print(B)"
   ]
  },
  {
   "cell_type": "code",
   "execution_count": 14,
   "metadata": {},
   "outputs": [
    {
     "name": "stdout",
     "output_type": "stream",
     "text": [
      "3\n"
     ]
    }
   ],
   "source": [
    "r3 = list(range(166,176))\n",
    "c = runs.loc[runs['total'].isin(r3)]\n",
    "C = c.groupby('match_id').size().count()\n",
    "print(C)"
   ]
  },
  {
   "cell_type": "code",
   "execution_count": 15,
   "metadata": {},
   "outputs": [
    {
     "name": "stdout",
     "output_type": "stream",
     "text": [
      "9\n"
     ]
    }
   ],
   "source": [
    "max_value = runs['total'].max()\n",
    "r4 = list(range(176,max_value+1))\n",
    "d = runs.loc[runs['total'].isin(r4)]\n",
    "D = d.groupby('match_id').size().count()\n",
    "print(D)"
   ]
  },
  {
   "cell_type": "code",
   "execution_count": null,
   "metadata": {},
   "outputs": [],
   "source": []
  }
 ],
 "metadata": {
  "kernelspec": {
   "display_name": "Python 3",
   "language": "python",
   "name": "python3"
  },
  "language_info": {
   "codemirror_mode": {
    "name": "ipython",
    "version": 3
   },
   "file_extension": ".py",
   "mimetype": "text/x-python",
   "name": "python",
   "nbconvert_exporter": "python",
   "pygments_lexer": "ipython3",
   "version": "3.7.4"
  }
 },
 "nbformat": 4,
 "nbformat_minor": 4
}
