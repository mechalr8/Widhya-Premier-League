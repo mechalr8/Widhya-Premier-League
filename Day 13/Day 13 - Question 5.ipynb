{
 "cells": [
  {
   "cell_type": "code",
   "execution_count": 77,
   "metadata": {},
   "outputs": [],
   "source": [
    "from pandas import *"
   ]
  },
  {
   "cell_type": "code",
   "execution_count": 78,
   "metadata": {
    "scrolled": true
   },
   "outputs": [
    {
     "name": "stdout",
     "output_type": "stream",
     "text": [
      "        match_id  inning         batting_team                 bowling_team  \\\n",
      "0              1       1  Sunrisers Hyderabad  Royal Challengers Bangalore   \n",
      "1              1       1  Sunrisers Hyderabad  Royal Challengers Bangalore   \n",
      "2              1       1  Sunrisers Hyderabad  Royal Challengers Bangalore   \n",
      "3              1       1  Sunrisers Hyderabad  Royal Challengers Bangalore   \n",
      "4              1       1  Sunrisers Hyderabad  Royal Challengers Bangalore   \n",
      "...          ...     ...                  ...                          ...   \n",
      "179073     11415       2  Chennai Super Kings               Mumbai Indians   \n",
      "179074     11415       2  Chennai Super Kings               Mumbai Indians   \n",
      "179075     11415       2  Chennai Super Kings               Mumbai Indians   \n",
      "179076     11415       2  Chennai Super Kings               Mumbai Indians   \n",
      "179077     11415       2  Chennai Super Kings               Mumbai Indians   \n",
      "\n",
      "        over  ball    batsman non_striker      bowler  is_super_over  ...  \\\n",
      "0          1     1  DA Warner    S Dhawan    TS Mills              0  ...   \n",
      "1          1     2  DA Warner    S Dhawan    TS Mills              0  ...   \n",
      "2          1     3  DA Warner    S Dhawan    TS Mills              0  ...   \n",
      "3          1     4  DA Warner    S Dhawan    TS Mills              0  ...   \n",
      "4          1     5  DA Warner    S Dhawan    TS Mills              0  ...   \n",
      "...      ...   ...        ...         ...         ...            ...  ...   \n",
      "179073    20     2  RA Jadeja   SR Watson  SL Malinga              0  ...   \n",
      "179074    20     3  SR Watson   RA Jadeja  SL Malinga              0  ...   \n",
      "179075    20     4  SR Watson   RA Jadeja  SL Malinga              0  ...   \n",
      "179076    20     5  SN Thakur   RA Jadeja  SL Malinga              0  ...   \n",
      "179077    20     6  SN Thakur   RA Jadeja  SL Malinga              0  ...   \n",
      "\n",
      "        bye_runs  legbye_runs  noball_runs  penalty_runs  batsman_runs  \\\n",
      "0              0            0            0             0             0   \n",
      "1              0            0            0             0             0   \n",
      "2              0            0            0             0             4   \n",
      "3              0            0            0             0             0   \n",
      "4              0            0            0             0             0   \n",
      "...          ...          ...          ...           ...           ...   \n",
      "179073         0            0            0             0             1   \n",
      "179074         0            0            0             0             2   \n",
      "179075         0            0            0             0             1   \n",
      "179076         0            0            0             0             2   \n",
      "179077         0            0            0             0             0   \n",
      "\n",
      "        extra_runs  total_runs  player_dismissed dismissal_kind    fielder  \n",
      "0                0           0               NaN            NaN        NaN  \n",
      "1                0           0               NaN            NaN        NaN  \n",
      "2                0           4               NaN            NaN        NaN  \n",
      "3                0           0               NaN            NaN        NaN  \n",
      "4                2           2               NaN            NaN        NaN  \n",
      "...            ...         ...               ...            ...        ...  \n",
      "179073           0           1               NaN            NaN        NaN  \n",
      "179074           0           2               NaN            NaN        NaN  \n",
      "179075           0           1         SR Watson        run out  KH Pandya  \n",
      "179076           0           2               NaN            NaN        NaN  \n",
      "179077           0           0         SN Thakur            lbw        NaN  \n",
      "\n",
      "[179078 rows x 21 columns]\n"
     ]
    }
   ],
   "source": [
    "df = read_csv(r'C:\\Users\\harsi\\OneDrive\\Desktop\\WPL Datasets\\deliveries.csv')\n",
    "print(df)"
   ]
  },
  {
   "cell_type": "code",
   "execution_count": 86,
   "metadata": {
    "scrolled": true
   },
   "outputs": [
    {
     "name": "stdout",
     "output_type": "stream",
     "text": [
      "0.619047619047619\n"
     ]
    }
   ],
   "source": [
    "DL_Chahar = df.loc[(df['bowler'] == 'DL Chahar')]\n",
    "wicket = ['caught', 'bowled', 'lbw', 'hit_wicket', 'stumped']\n",
    "DL_out = DL_Chahar.loc[DL_Chahar['dismissal_kind'].isin(wicket)]\n",
    "N_DL_out = DL_out[['match_id', 'dismissal_kind']]\n",
    "N_DL_out = N_DL_out.groupby('match_id').count()\n",
    "DL_dot = DL_Chahar.loc[(DL_Chahar['total_runs'] == 0)]\n",
    "N_DL_dot = DL_dot[['match_id', 'ball']]\n",
    "N_DL_dot = N_DL_dot.groupby('match_id').count()\n",
    "DL_runs = DL_Chahar.loc[(DL_Chahar['total_runs'] != 0)]\n",
    "N_DL_runs = DL_runs.groupby('match_id').agg({'total_runs':['sum']})\n",
    "N_DL_runs.columns = ['runs']\n",
    "DL_bounds = DL_Chahar.loc[(DL_Chahar['batsman_runs'].isin([4,6]))]\n",
    "N_DL_bounds = DL_bounds[['match_id', 'batsman_runs']]\n",
    "N_DL_bounds = N_DL_bounds.groupby('match_id').count()\n",
    "N_DL_runs.columns = ['boundaries']\n",
    "DL_balls = DL_Chahar[['match_id', 'ball']]\n",
    "DL_balls = DL_balls.groupby('match_id').count()\n",
    "DL_result = concat([N_DL_out, N_DL_dot, N_DL_runs, N_DL_bounds, DL_balls], axis = 1)\n",
    "DL_result['dismissal_kind'] = DL_result['dismissal_kind'].fillna(0).astype(int)\n",
    "DL_result.to_csv(r'C:\\Users\\harsi\\OneDrive\\Desktop\\WPL Datasets\\DL.csv')\n",
    "DL = read_csv(r'C:\\Users\\harsi\\OneDrive\\Desktop\\WPL Datasets\\DL.csv')\n",
    "DL['BLS'] = (DL['dismissal_kind']+DL['ball']-(DL['boundaries']/DL['batsman_runs']))/DL['ball.1']\n",
    "DL_max_value = DL['BLS'].max()\n",
    "print(DL_max_value)"
   ]
  },
  {
   "cell_type": "code",
   "execution_count": 88,
   "metadata": {
    "scrolled": false
   },
   "outputs": [
    {
     "name": "stdout",
     "output_type": "stream",
     "text": [
      "0.5833333333333334\n"
     ]
    }
   ],
   "source": [
    "RA_Jadeja = df.loc[(df['bowler'] == 'RA Jadeja')]\n",
    "wicket = ['caught', 'bowled', 'lbw', 'hit_wicket', 'stumped']\n",
    "RA_out = RA_Jadeja.loc[RA_Jadeja['dismissal_kind'].isin(wicket)]\n",
    "N_RA_out = RA_out[['match_id', 'dismissal_kind']]\n",
    "N_RA_out = N_RA_out.groupby('match_id').count()\n",
    "RA_dot = RA_Jadeja.loc[(RA_Jadeja['total_runs'] == 0)]\n",
    "N_RA_dot = RA_dot[['match_id', 'ball']]\n",
    "N_RA_dot = N_RA_dot.groupby('match_id').count()\n",
    "RA_runs = RA_Jadeja.loc[(RA_Jadeja['total_runs'] != 0)]\n",
    "N_RA_runs = RA_runs.groupby('match_id').agg({'total_runs':['sum']})\n",
    "N_RA_runs.columns = ['runs']\n",
    "RA_bounds = RA_Jadeja.loc[(RA_Jadeja['batsman_runs'].isin([4,6]))]\n",
    "N_RA_bounds = RA_bounds[['match_id', 'batsman_runs']]\n",
    "N_RA_bounds = N_RA_bounds.groupby('match_id').count()\n",
    "N_RA_runs.columns = ['boundaries']\n",
    "RA_balls = RA_Jadeja[['match_id', 'ball']]\n",
    "RA_balls = RA_balls.groupby('match_id').count()\n",
    "RA_result = concat([N_RA_out, N_RA_dot, N_RA_runs, N_RA_bounds, RA_balls], axis = 1)\n",
    "RA_result['dismissal_kind'] = RA_result['dismissal_kind'].fillna(0).astype(int)\n",
    "RA_result.to_csv(r'C:\\Users\\harsi\\OneDrive\\Desktop\\WPL Datasets\\RA.csv')\n",
    "RA = read_csv(r'C:\\Users\\harsi\\OneDrive\\Desktop\\WPL Datasets\\RA.csv')\n",
    "RA['BLS'] = (RA['dismissal_kind']+RA['ball']-(RA['boundaries']/RA['batsman_runs']))/RA['ball.1']\n",
    "RA_max_value = RA['BLS'].max()\n",
    "print(RA_max_value)"
   ]
  },
  {
   "cell_type": "code",
   "execution_count": 90,
   "metadata": {},
   "outputs": [
    {
     "name": "stdout",
     "output_type": "stream",
     "text": [
      "0.5555555555555556\n"
     ]
    }
   ],
   "source": [
    "JJ_Bumrah = df.loc[(df['bowler'] == 'JJ Bumrah')]\n",
    "wicket = ['caught', 'bowled', 'lbw', 'hit_wicket', 'stumped']\n",
    "JJ_out = JJ_Bumrah.loc[JJ_Bumrah['dismissal_kind'].isin(wicket)]\n",
    "N_JJ_out = JJ_out[['match_id', 'dismissal_kind']]\n",
    "N_JJ_out = N_JJ_out.groupby('match_id').count()\n",
    "JJ_dot = JJ_Bumrah.loc[(JJ_Bumrah['total_runs'] == 0)]\n",
    "N_JJ_dot = JJ_dot[['match_id', 'ball']]\n",
    "N_JJ_dot = N_JJ_dot.groupby('match_id').count()\n",
    "JJ_runs = JJ_Bumrah.loc[(JJ_Bumrah['total_runs'] != 0)]\n",
    "N_JJ_runs = JJ_runs.groupby('match_id').agg({'total_runs':['sum']})\n",
    "N_JJ_runs.columns = ['runs']\n",
    "JJ_bounds = JJ_Bumrah.loc[(JJ_Bumrah['batsman_runs'].isin([4,6]))]\n",
    "N_JJ_bounds = JJ_bounds[['match_id', 'batsman_runs']]\n",
    "N_JJ_bounds = N_JJ_bounds.groupby('match_id').count()\n",
    "N_JJ_runs.columns = ['boundaries']\n",
    "JJ_balls = JJ_Bumrah[['match_id', 'ball']]\n",
    "JJ_balls = JJ_balls.groupby('match_id').count()\n",
    "JJ_result = concat([N_JJ_out, N_JJ_dot, N_JJ_runs, N_JJ_bounds, JJ_balls], axis = 1)\n",
    "JJ_result['dismissal_kind'] = JJ_result['dismissal_kind'].fillna(0).astype(int)\n",
    "JJ_result.to_csv(r'C:\\Users\\harsi\\OneDrive\\Desktop\\WPL Datasets\\JJ.csv')\n",
    "JJ = read_csv(r'C:\\Users\\harsi\\OneDrive\\Desktop\\WPL Datasets\\JJ.csv')\n",
    "JJ['BLS'] = (JJ['dismissal_kind']+JJ['ball']-(JJ['boundaries']/JJ['batsman_runs']))/JJ['ball.1']\n",
    "JJ_max_value = JJ['BLS'].max()\n",
    "print(JJ_max_value)"
   ]
  },
  {
   "cell_type": "code",
   "execution_count": 91,
   "metadata": {},
   "outputs": [
    {
     "name": "stdout",
     "output_type": "stream",
     "text": [
      "0.2916666666666667\n"
     ]
    }
   ],
   "source": [
    "KH_Pandya = df.loc[(df['bowler'] == 'KH Pandya')]\n",
    "wicket = ['caught', 'bowled', 'lbw', 'hit_wicket', 'stumped']\n",
    "KH_out = KH_Pandya.loc[KH_Pandya['dismissal_kind'].isin(wicket)]\n",
    "N_KH_out = KH_out[['match_id', 'dismissal_kind']]\n",
    "N_KH_out = N_KH_out.groupby('match_id').count()\n",
    "KH_dot = KH_Pandya.loc[(KH_Pandya['total_runs'] == 0)]\n",
    "N_KH_dot = KH_dot[['match_id', 'ball']]\n",
    "N_KH_dot = N_KH_dot.groupby('match_id').count()\n",
    "KH_runs = KH_Pandya.loc[(KH_Pandya['total_runs'] != 0)]\n",
    "N_KH_runs = KH_runs.groupby('match_id').agg({'total_runs':['sum']})\n",
    "N_KH_runs.columns = ['runs']\n",
    "KH_bounds = KH_Pandya.loc[(KH_Pandya['batsman_runs'].isin([4,6]))]\n",
    "N_KH_bounds = KH_bounds[['match_id', 'batsman_runs']]\n",
    "N_KH_bounds = N_KH_bounds.groupby('match_id').count()\n",
    "N_KH_runs.columns = ['boundaries']\n",
    "KH_balls = KH_Pandya[['match_id', 'ball']]\n",
    "KH_balls = KH_balls.groupby('match_id').count()\n",
    "KH_result = concat([N_KH_out, N_KH_dot, N_KH_runs, N_KH_bounds, KH_balls], axis = 1)\n",
    "KH_result['dismissal_kind'] = KH_result['dismissal_kind'].fillna(0).astype(int)\n",
    "KH_result.to_csv(r'C:\\Users\\harsi\\OneDrive\\Desktop\\WPL Datasets\\JJ.csv')\n",
    "KH = read_csv(r'C:\\Users\\harsi\\OneDrive\\Desktop\\WPL Datasets\\JJ.csv')\n",
    "KH['BLS'] = (KH['dismissal_kind']+KH['ball']-(KH['boundaries']/KH['batsman_runs']))/KH['ball.1']\n",
    "KH_max_value = KH['BLS'].max()\n",
    "print(KH_max_value)"
   ]
  },
  {
   "cell_type": "code",
   "execution_count": 97,
   "metadata": {},
   "outputs": [
    {
     "name": "stdout",
     "output_type": "stream",
     "text": [
      "0.42361111111111116\n"
     ]
    }
   ],
   "source": [
    "TA_Boult = df.loc[(df['bowler'] == 'TA Boult')]\n",
    "wicket = ['caught', 'bowled', 'lbw', 'hit_wicket', 'stumped']\n",
    "TA_out = TA_Boult.loc[TA_Boult['dismissal_kind'].isin(wicket)]\n",
    "N_TA_out = TA_out[['match_id', 'dismissal_kind']]\n",
    "N_TA_out = N_TA_out.groupby('match_id').count()\n",
    "TA_dot = TA_Boult.loc[(TA_Boult['total_runs'] == 0)]\n",
    "N_TA_dot = TA_dot[['match_id', 'ball']]\n",
    "N_TA_dot = N_TA_dot.groupby('match_id').count()\n",
    "TA_runs = TA_Boult.loc[(TA_Boult['total_runs'] != 0)]\n",
    "N_TA_runs = TA_runs.groupby('match_id').agg({'total_runs':['sum']})\n",
    "N_TA_runs.columns = ['runs']\n",
    "TA_bounds = TA_Boult.loc[(TA_Boult['batsman_runs'].isin([4,6]))]\n",
    "N_TA_bounds = TA_bounds[['match_id', 'batsman_runs']]\n",
    "N_TA_bounds = N_TA_bounds.groupby('match_id').count()\n",
    "N_TA_runs.columns = ['boundaries']\n",
    "TA_balls = TA_Boult[['match_id', 'ball']]\n",
    "TA_balls = TA_balls.groupby('match_id').count()\n",
    "TA_result = concat([N_TA_out, N_TA_dot, N_TA_runs, N_TA_bounds, TA_balls], axis = 1)\n",
    "TA_result['dismissal_kind'] = TA_result['dismissal_kind'].fillna(0).astype(int)\n",
    "TA_result.to_csv(r'C:\\Users\\harsi\\OneDrive\\Desktop\\WPL Datasets\\TA.csv')\n",
    "TA = read_csv(r'C:\\Users\\harsi\\OneDrive\\Desktop\\WPL Datasets\\TA.csv')\n",
    "TA['BLS'] = (TA['dismissal_kind']+TA['ball']-(TA['boundaries']/TA['batsman_runs']))/TA['ball.1']\n",
    "TA_max_value = TA['BLS'].max()\n",
    "print(TA_max_value)"
   ]
  },
  {
   "cell_type": "code",
   "execution_count": 98,
   "metadata": {},
   "outputs": [
    {
     "name": "stdout",
     "output_type": "stream",
     "text": [
      "0.28846153846153844\n"
     ]
    }
   ],
   "source": [
    "RD_Chahar = df.loc[(df['bowler'] == 'RD Chahar')]\n",
    "wicket = ['caught', 'bowled', 'lbw', 'hit_wicket', 'stumped']\n",
    "RD_out = RD_Chahar.loc[RD_Chahar['dismissal_kind'].isin(wicket)]\n",
    "N_RD_out = RD_out[['match_id', 'dismissal_kind']]\n",
    "N_RD_out = N_RD_out.groupby('match_id').count()\n",
    "RD_dot = RD_Chahar.loc[(RD_Chahar['total_runs'] == 0)]\n",
    "N_RD_dot = RD_dot[['match_id', 'ball']]\n",
    "N_RD_dot = N_RD_dot.groupby('match_id').count()\n",
    "RD_runs = RD_Chahar.loc[(RD_Chahar['total_runs'] != 0)]\n",
    "N_RD_runs = RD_runs.groupby('match_id').agg({'total_runs':['sum']})\n",
    "N_RD_runs.columns = ['runs']\n",
    "RD_bounds = RD_Chahar.loc[(RD_Chahar['batsman_runs'].isin([4,6]))]\n",
    "N_RD_bounds = RD_bounds[['match_id', 'batsman_runs']]\n",
    "N_RD_bounds = N_RD_bounds.groupby('match_id').count()\n",
    "N_RD_runs.columns = ['boundaries']\n",
    "RD_balls = RD_Chahar[['match_id', 'ball']]\n",
    "RD_balls = RD_balls.groupby('match_id').count()\n",
    "RD_result = concat([N_RD_out, N_RD_dot, N_RD_runs, N_RD_bounds, RD_balls], axis = 1)\n",
    "RD_result['dismissal_kind'] = RD_result['dismissal_kind'].fillna(0).astype(int)\n",
    "RD_result.to_csv(r'C:\\Users\\harsi\\OneDrive\\Desktop\\WPL Datasets\\RD.csv')\n",
    "RD = read_csv(r'C:\\Users\\harsi\\OneDrive\\Desktop\\WPL Datasets\\RD.csv')\n",
    "RD['BLS'] = (RD['dismissal_kind']+RD['ball']-(RD['boundaries']/RD['batsman_runs']))/RD['ball.1']\n",
    "RD_max_value = RD['BLS'].max()\n",
    "print(RD_max_value)"
   ]
  },
  {
   "cell_type": "code",
   "execution_count": null,
   "metadata": {},
   "outputs": [],
   "source": []
  }
 ],
 "metadata": {
  "kernelspec": {
   "display_name": "Python 3",
   "language": "python",
   "name": "python3"
  },
  "language_info": {
   "codemirror_mode": {
    "name": "ipython",
    "version": 3
   },
   "file_extension": ".py",
   "mimetype": "text/x-python",
   "name": "python",
   "nbconvert_exporter": "python",
   "pygments_lexer": "ipython3",
   "version": "3.7.0"
  }
 },
 "nbformat": 4,
 "nbformat_minor": 4
}
