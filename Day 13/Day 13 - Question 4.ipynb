{
 "cells": [
  {
   "cell_type": "code",
   "execution_count": 1,
   "metadata": {},
   "outputs": [],
   "source": [
    "from pandas import *"
   ]
  },
  {
   "cell_type": "code",
   "execution_count": 47,
   "metadata": {},
   "outputs": [
    {
     "name": "stdout",
     "output_type": "stream",
     "text": [
      "match_id  inning  over\n",
      "67        1       1       1\n",
      "                  2       2\n",
      "                  3       2\n",
      "                  5       1\n",
      "                  6       2\n",
      "                         ..\n",
      "11415     2       6       2\n",
      "                  9       1\n",
      "                  12      1\n",
      "                  16      3\n",
      "                  19      1\n",
      "Length: 540, dtype: int64\n"
     ]
    }
   ],
   "source": [
    "df = read_csv(r'C:\\Users\\harsi\\OneDrive\\Desktop\\WPL Datasets\\deliveries.csv')\n",
    "team = ['Mumbai Indians', 'Chennai Super Kings']\n",
    "boundary4 = df.loc[df['batting_team'].isin(team) & df['bowling_team'].isin(team) & (df['batsman_runs'] == 4)]\n",
    "boundary4 = boundary4[['match_id', 'inning', 'over', 'batsman_runs']]\n",
    "boundary4 = boundary4.groupby(['match_id', 'inning', 'over'])\n",
    "boundary4 = boundary4.size()\n",
    "print(boundary4)"
   ]
  },
  {
   "cell_type": "code",
   "execution_count": 48,
   "metadata": {
    "scrolled": false
   },
   "outputs": [
    {
     "name": "stdout",
     "output_type": "stream",
     "text": [
      "match_id  inning  over\n",
      "67        1       3       1\n",
      "                  10      1\n",
      "                  11      1\n",
      "                  14      2\n",
      "                  20      1\n",
      "                         ..\n",
      "11415     1       18      2\n",
      "          2       4       1\n",
      "                  6       1\n",
      "                  16      1\n",
      "                  18      3\n",
      "Length: 272, dtype: int64\n"
     ]
    }
   ],
   "source": [
    "boundary6 = df.loc[df['batting_team'].isin(team) & df['bowling_team'].isin(team) & (df['batsman_runs'] == 6)]\n",
    "boundary6 = boundary6[['match_id', 'inning', 'over', 'batsman_runs']]\n",
    "boundary6 = boundary6.groupby(['match_id', 'inning', 'over'])\n",
    "boundary6 = boundary6.size()\n",
    "print(boundary6)"
   ]
  },
  {
   "cell_type": "code",
   "execution_count": 52,
   "metadata": {
    "scrolled": true
   },
   "outputs": [
    {
     "name": "stdout",
     "output_type": "stream",
     "text": [
      "                      0  1\n",
      "match_id inning over      \n",
      "67       1      3     2  1\n",
      "                11    1  1\n",
      "                20    1  1\n",
      "         2      5     3  1\n",
      "                16    1  1\n",
      "...                  .. ..\n",
      "11335    2      4     1  1\n",
      "11412    2      6     1  1\n",
      "11415    2      4     2  1\n",
      "                6     2  1\n",
      "                16    3  1\n",
      "\n",
      "[127 rows x 2 columns]\n"
     ]
    }
   ],
   "source": [
    "result = concat([boundary4, boundary6], axis = 1, join = 'inner')\n",
    "print(result)"
   ]
  },
  {
   "cell_type": "code",
   "execution_count": 73,
   "metadata": {
    "scrolled": true
   },
   "outputs": [
    {
     "name": "stdout",
     "output_type": "stream",
     "text": [
      "          fours  sixes\n",
      "match_id              \n",
      "67            6      6\n",
      "96            5      5\n",
      "118           1      1\n",
      "162           4      4\n",
      "194           4      4\n",
      "234           4      4\n",
      "257           5      5\n",
      "308           4      4\n",
      "355           7      7\n",
      "379           7      7\n",
      "386           3      3\n",
      "430           4      4\n",
      "454           4      4\n",
      "457           1      1\n",
      "470           4      4\n",
      "490           5      5\n",
      "515           5      5\n",
      "530          11     11\n",
      "559           4      4\n",
      "573           8      8\n",
      "576           6      6\n",
      "7894          7      7\n",
      "7920          5      5\n",
      "11151         4      4\n",
      "11335         5      5\n",
      "11412         1      1\n",
      "11415         3      3\n"
     ]
    }
   ],
   "source": [
    "final = result.groupby(['match_id']).count()\n",
    "final.columns = ['fours', 'sixes']\n",
    "print(final)"
   ]
  },
  {
   "cell_type": "code",
   "execution_count": 75,
   "metadata": {
    "scrolled": true
   },
   "outputs": [
    {
     "name": "stdout",
     "output_type": "stream",
     "text": [
      "11\n"
     ]
    }
   ],
   "source": [
    "r2 = list(range(3,5))\n",
    "b = final.loc[(final['fours'].isin(r2))]\n",
    "B = b.groupby('match_id').size().count()\n",
    "print(B)"
   ]
  },
  {
   "cell_type": "code",
   "execution_count": 77,
   "metadata": {},
   "outputs": [
    {
     "name": "stdout",
     "output_type": "stream",
     "text": [
      "8\n"
     ]
    }
   ],
   "source": [
    "r3 = list(range(5,7))\n",
    "c = final.loc[(final['fours'].isin(r3))]\n",
    "C = c.groupby('match_id').size().count()\n",
    "print(C)"
   ]
  },
  {
   "cell_type": "code",
   "execution_count": 78,
   "metadata": {
    "scrolled": true
   },
   "outputs": [
    {
     "name": "stdout",
     "output_type": "stream",
     "text": [
      "5\n"
     ]
    }
   ],
   "source": [
    "max_value = final['fours'].max()\n",
    "r4 = list(range(7,max_value+1))\n",
    "d = final.loc[(final['fours'].isin(r4))]\n",
    "D = d.groupby('match_id').size().count()\n",
    "print(D)"
   ]
  },
  {
   "cell_type": "code",
   "execution_count": 79,
   "metadata": {},
   "outputs": [
    {
     "name": "stdout",
     "output_type": "stream",
     "text": [
      "28\n"
     ]
    }
   ],
   "source": [
    "matches = boundary4.groupby('match_id').size().count()\n",
    "print(matches)"
   ]
  },
  {
   "cell_type": "code",
   "execution_count": 81,
   "metadata": {
    "scrolled": true
   },
   "outputs": [
    {
     "name": "stdout",
     "output_type": "stream",
     "text": [
      "4\n"
     ]
    }
   ],
   "source": [
    "E = matches - B - C - D\n",
    "print(E)"
   ]
  }
 ],
 "metadata": {
  "kernelspec": {
   "display_name": "Python 3",
   "language": "python",
   "name": "python3"
  },
  "language_info": {
   "codemirror_mode": {
    "name": "ipython",
    "version": 3
   },
   "file_extension": ".py",
   "mimetype": "text/x-python",
   "name": "python",
   "nbconvert_exporter": "python",
   "pygments_lexer": "ipython3",
   "version": "3.7.0"
  }
 },
 "nbformat": 4,
 "nbformat_minor": 4
}
