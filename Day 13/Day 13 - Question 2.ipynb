{
 "cells": [
  {
   "cell_type": "code",
   "execution_count": 2,
   "metadata": {},
   "outputs": [],
   "source": [
    "from pandas import *"
   ]
  },
  {
   "cell_type": "code",
   "execution_count": 3,
   "metadata": {
    "scrolled": true
   },
   "outputs": [
    {
     "name": "stdout",
     "output_type": "stream",
     "text": [
      "        match_id  inning         batting_team                 bowling_team  \\\n",
      "0              1       1  Sunrisers Hyderabad  Royal Challengers Bangalore   \n",
      "1              1       1  Sunrisers Hyderabad  Royal Challengers Bangalore   \n",
      "2              1       1  Sunrisers Hyderabad  Royal Challengers Bangalore   \n",
      "3              1       1  Sunrisers Hyderabad  Royal Challengers Bangalore   \n",
      "4              1       1  Sunrisers Hyderabad  Royal Challengers Bangalore   \n",
      "...          ...     ...                  ...                          ...   \n",
      "179073     11415       2  Chennai Super Kings               Mumbai Indians   \n",
      "179074     11415       2  Chennai Super Kings               Mumbai Indians   \n",
      "179075     11415       2  Chennai Super Kings               Mumbai Indians   \n",
      "179076     11415       2  Chennai Super Kings               Mumbai Indians   \n",
      "179077     11415       2  Chennai Super Kings               Mumbai Indians   \n",
      "\n",
      "        over  ball    batsman non_striker      bowler  is_super_over  ...  \\\n",
      "0          1     1  DA Warner    S Dhawan    TS Mills              0  ...   \n",
      "1          1     2  DA Warner    S Dhawan    TS Mills              0  ...   \n",
      "2          1     3  DA Warner    S Dhawan    TS Mills              0  ...   \n",
      "3          1     4  DA Warner    S Dhawan    TS Mills              0  ...   \n",
      "4          1     5  DA Warner    S Dhawan    TS Mills              0  ...   \n",
      "...      ...   ...        ...         ...         ...            ...  ...   \n",
      "179073    20     2  RA Jadeja   SR Watson  SL Malinga              0  ...   \n",
      "179074    20     3  SR Watson   RA Jadeja  SL Malinga              0  ...   \n",
      "179075    20     4  SR Watson   RA Jadeja  SL Malinga              0  ...   \n",
      "179076    20     5  SN Thakur   RA Jadeja  SL Malinga              0  ...   \n",
      "179077    20     6  SN Thakur   RA Jadeja  SL Malinga              0  ...   \n",
      "\n",
      "        bye_runs  legbye_runs  noball_runs  penalty_runs  batsman_runs  \\\n",
      "0              0            0            0             0             0   \n",
      "1              0            0            0             0             0   \n",
      "2              0            0            0             0             4   \n",
      "3              0            0            0             0             0   \n",
      "4              0            0            0             0             0   \n",
      "...          ...          ...          ...           ...           ...   \n",
      "179073         0            0            0             0             1   \n",
      "179074         0            0            0             0             2   \n",
      "179075         0            0            0             0             1   \n",
      "179076         0            0            0             0             2   \n",
      "179077         0            0            0             0             0   \n",
      "\n",
      "        extra_runs  total_runs  player_dismissed dismissal_kind    fielder  \n",
      "0                0           0               NaN            NaN        NaN  \n",
      "1                0           0               NaN            NaN        NaN  \n",
      "2                0           4               NaN            NaN        NaN  \n",
      "3                0           0               NaN            NaN        NaN  \n",
      "4                2           2               NaN            NaN        NaN  \n",
      "...            ...         ...               ...            ...        ...  \n",
      "179073           0           1               NaN            NaN        NaN  \n",
      "179074           0           2               NaN            NaN        NaN  \n",
      "179075           0           1         SR Watson        run out  KH Pandya  \n",
      "179076           0           2               NaN            NaN        NaN  \n",
      "179077           0           0         SN Thakur            lbw        NaN  \n",
      "\n",
      "[179078 rows x 21 columns]\n"
     ]
    }
   ],
   "source": [
    "df = read_csv(r'C:\\Users\\harsi\\OneDrive\\Desktop\\WPL Datasets\\deliveries.csv')\n",
    "print(df)"
   ]
  },
  {
   "cell_type": "code",
   "execution_count": 4,
   "metadata": {
    "scrolled": true
   },
   "outputs": [
    {
     "name": "stdout",
     "output_type": "stream",
     "text": [
      "        match_id  inning         batting_team         bowling_team  over  \\\n",
      "95087        402       1  Sunrisers Hyderabad        Pune Warriors     1   \n",
      "95088        402       1  Sunrisers Hyderabad        Pune Warriors     1   \n",
      "95089        402       1  Sunrisers Hyderabad        Pune Warriors     1   \n",
      "95091        402       1  Sunrisers Hyderabad        Pune Warriors     2   \n",
      "95092        402       1  Sunrisers Hyderabad        Pune Warriors     2   \n",
      "...          ...     ...                  ...                  ...   ...   \n",
      "178851     11415       1       Mumbai Indians  Chennai Super Kings     4   \n",
      "178855     11415       1       Mumbai Indians  Chennai Super Kings     5   \n",
      "178857     11415       1       Mumbai Indians  Chennai Super Kings     5   \n",
      "178858     11415       1       Mumbai Indians  Chennai Super Kings     5   \n",
      "178859     11415       1       Mumbai Indians  Chennai Super Kings     5   \n",
      "\n",
      "        ball    batsman non_striker           bowler  is_super_over  ...  \\\n",
      "95087      3  Q de Kock    PA Patel          B Kumar              0  ...   \n",
      "95088      4  Q de Kock    PA Patel          B Kumar              0  ...   \n",
      "95089      5  Q de Kock    PA Patel          B Kumar              0  ...   \n",
      "95091      1  Q de Kock    PA Patel         AB Dinda              0  ...   \n",
      "95092      2  Q de Kock    PA Patel         AB Dinda              0  ...   \n",
      "...      ...        ...         ...              ...            ...  ...   \n",
      "178851     3  Q de Kock   RG Sharma  Harbhajan Singh              0  ...   \n",
      "178855     1  Q de Kock   RG Sharma        SN Thakur              0  ...   \n",
      "178857     3  Q de Kock   RG Sharma        SN Thakur              0  ...   \n",
      "178858     4  Q de Kock   RG Sharma        SN Thakur              0  ...   \n",
      "178859     5  Q de Kock   RG Sharma        SN Thakur              0  ...   \n",
      "\n",
      "        bye_runs  legbye_runs  noball_runs  penalty_runs  batsman_runs  \\\n",
      "95087          0            0            0             0             0   \n",
      "95088          0            0            0             0             0   \n",
      "95089          0            0            0             0             1   \n",
      "95091          0            0            0             0             0   \n",
      "95092          0            0            0             0             0   \n",
      "...          ...          ...          ...           ...           ...   \n",
      "178851         0            0            0             0             1   \n",
      "178855         0            0            0             0             1   \n",
      "178857         0            0            0             0             0   \n",
      "178858         0            0            0             0             6   \n",
      "178859         0            0            0             0             0   \n",
      "\n",
      "        extra_runs  total_runs  player_dismissed dismissal_kind   fielder  \n",
      "95087            0           0               NaN            NaN       NaN  \n",
      "95088            0           0               NaN            NaN       NaN  \n",
      "95089            0           1               NaN            NaN       NaN  \n",
      "95091            0           0               NaN            NaN       NaN  \n",
      "95092            0           0               NaN            NaN       NaN  \n",
      "...            ...         ...               ...            ...       ...  \n",
      "178851           0           1               NaN            NaN       NaN  \n",
      "178855           0           1               NaN            NaN       NaN  \n",
      "178857           0           0               NaN            NaN       NaN  \n",
      "178858           0           6               NaN            NaN       NaN  \n",
      "178859           0           0         Q de Kock         caught  MS Dhoni  \n",
      "\n",
      "[1136 rows x 21 columns]\n"
     ]
    }
   ],
   "source": [
    "Q_de_Kock = df.loc[(df['batsman'] == 'Q de Kock')]\n",
    "print(Q_de_Kock)"
   ]
  },
  {
   "cell_type": "code",
   "execution_count": 5,
   "metadata": {
    "scrolled": true
   },
   "outputs": [
    {
     "name": "stdout",
     "output_type": "stream",
     "text": [
      "        match_id  inning         batting_team         bowling_team  over  \\\n",
      "95087        402       1  Sunrisers Hyderabad        Pune Warriors     1   \n",
      "95088        402       1  Sunrisers Hyderabad        Pune Warriors     1   \n",
      "95089        402       1  Sunrisers Hyderabad        Pune Warriors     1   \n",
      "95091        402       1  Sunrisers Hyderabad        Pune Warriors     2   \n",
      "95092        402       1  Sunrisers Hyderabad        Pune Warriors     2   \n",
      "...          ...     ...                  ...                  ...   ...   \n",
      "178842     11415       1       Mumbai Indians  Chennai Super Kings     3   \n",
      "178843     11415       1       Mumbai Indians  Chennai Super Kings     3   \n",
      "178844     11415       1       Mumbai Indians  Chennai Super Kings     3   \n",
      "178845     11415       1       Mumbai Indians  Chennai Super Kings     3   \n",
      "178846     11415       1       Mumbai Indians  Chennai Super Kings     3   \n",
      "\n",
      "        ball    batsman non_striker     bowler  is_super_over  ...  bye_runs  \\\n",
      "95087      3  Q de Kock    PA Patel    B Kumar              0  ...         0   \n",
      "95088      4  Q de Kock    PA Patel    B Kumar              0  ...         0   \n",
      "95089      5  Q de Kock    PA Patel    B Kumar              0  ...         0   \n",
      "95091      1  Q de Kock    PA Patel   AB Dinda              0  ...         0   \n",
      "95092      2  Q de Kock    PA Patel   AB Dinda              0  ...         0   \n",
      "...      ...        ...         ...        ...            ...  ...       ...   \n",
      "178842     1  Q de Kock   RG Sharma  DL Chahar              0  ...         0   \n",
      "178843     2  Q de Kock   RG Sharma  DL Chahar              0  ...         0   \n",
      "178844     3  Q de Kock   RG Sharma  DL Chahar              0  ...         0   \n",
      "178845     4  Q de Kock   RG Sharma  DL Chahar              0  ...         0   \n",
      "178846     5  Q de Kock   RG Sharma  DL Chahar              0  ...         0   \n",
      "\n",
      "        legbye_runs  noball_runs  penalty_runs  batsman_runs  extra_runs  \\\n",
      "95087             0            0             0             0           0   \n",
      "95088             0            0             0             0           0   \n",
      "95089             0            0             0             1           0   \n",
      "95091             0            0             0             0           0   \n",
      "95092             0            0             0             0           0   \n",
      "...             ...          ...           ...           ...         ...   \n",
      "178842            0            0             0             6           0   \n",
      "178843            0            0             0             1           1   \n",
      "178844            0            0             0             0           0   \n",
      "178845            0            0             0             6           0   \n",
      "178846            0            0             0             0           0   \n",
      "\n",
      "        total_runs  player_dismissed dismissal_kind fielder  \n",
      "95087            0               NaN            NaN     NaN  \n",
      "95088            0               NaN            NaN     NaN  \n",
      "95089            1               NaN            NaN     NaN  \n",
      "95091            0               NaN            NaN     NaN  \n",
      "95092            0               NaN            NaN     NaN  \n",
      "...            ...               ...            ...     ...  \n",
      "178842           6               NaN            NaN     NaN  \n",
      "178843           2               NaN            NaN     NaN  \n",
      "178844           0               NaN            NaN     NaN  \n",
      "178845           6               NaN            NaN     NaN  \n",
      "178846           0               NaN            NaN     NaN  \n",
      "\n",
      "[451 rows x 21 columns]\n"
     ]
    }
   ],
   "source": [
    "grouped_Q_De_Kock = Q_de_Kock.groupby('match_id')\n",
    "top_10_rows = grouped_Q_De_Kock. head(10)\n",
    "print(top_10_rows)"
   ]
  },
  {
   "cell_type": "code",
   "execution_count": 6,
   "metadata": {
    "scrolled": true
   },
   "outputs": [
    {
     "name": "stdout",
     "output_type": "stream",
     "text": [
      "        match_id  inning         batting_team           bowling_team  over  \\\n",
      "97961        414       1  Sunrisers Hyderabad    Chennai Super Kings     1   \n",
      "111183       469       2     Delhi Daredevils    Sunrisers Hyderabad     2   \n",
      "112073       473       2     Delhi Daredevils         Mumbai Indians     1   \n",
      "112088       473       2     Delhi Daredevils         Mumbai Indians     4   \n",
      "113625       480       1     Delhi Daredevils       Rajasthan Royals     1   \n",
      "...          ...     ...                  ...                    ...   ...   \n",
      "178004     11347       2       Mumbai Indians  Kolkata Knight Riders     1   \n",
      "178236     11412       2       Mumbai Indians    Chennai Super Kings     2   \n",
      "178242     11412       2       Mumbai Indians    Chennai Super Kings     3   \n",
      "178842     11415       1       Mumbai Indians    Chennai Super Kings     3   \n",
      "178845     11415       1       Mumbai Indians    Chennai Super Kings     3   \n",
      "\n",
      "        ball    batsman non_striker           bowler  is_super_over  ...  \\\n",
      "97961      2  Q de Kock    S Dhawan        MM Sharma              0  ...   \n",
      "111183     1  Q de Kock     M Vijay         DW Steyn              0  ...   \n",
      "112073     6  Q de Kock     M Vijay       SL Malinga              0  ...   \n",
      "112088     3  Q de Kock     M Vijay  Harbhajan Singh              0  ...   \n",
      "113625     2  Q de Kock     M Vijay        STR Binny              0  ...   \n",
      "...      ...        ...         ...              ...            ...  ...   \n",
      "178004     3  Q de Kock   RG Sharma        S Warrier              0  ...   \n",
      "178236     5  Q de Kock    AS Yadav  Harbhajan Singh              0  ...   \n",
      "178242     4  Q de Kock    AS Yadav        DL Chahar              0  ...   \n",
      "178842     1  Q de Kock   RG Sharma        DL Chahar              0  ...   \n",
      "178845     4  Q de Kock   RG Sharma        DL Chahar              0  ...   \n",
      "\n",
      "        bye_runs  legbye_runs  noball_runs  penalty_runs  batsman_runs  \\\n",
      "97961          0            0            0             0             4   \n",
      "111183         0            0            0             0             4   \n",
      "112073         0            0            0             0             4   \n",
      "112088         0            0            0             0             4   \n",
      "113625         0            0            0             0             4   \n",
      "...          ...          ...          ...           ...           ...   \n",
      "178004         0            0            0             0             6   \n",
      "178236         0            0            0             0             4   \n",
      "178242         0            0            0             0             4   \n",
      "178842         0            0            0             0             6   \n",
      "178845         0            0            0             0             6   \n",
      "\n",
      "        extra_runs  total_runs  player_dismissed dismissal_kind fielder  \n",
      "97961            0           4               NaN            NaN     NaN  \n",
      "111183           0           4               NaN            NaN     NaN  \n",
      "112073           0           4               NaN            NaN     NaN  \n",
      "112088           0           4               NaN            NaN     NaN  \n",
      "113625           0           4               NaN            NaN     NaN  \n",
      "...            ...         ...               ...            ...     ...  \n",
      "178004           0           6               NaN            NaN     NaN  \n",
      "178236           0           4               NaN            NaN     NaN  \n",
      "178242           0           4               NaN            NaN     NaN  \n",
      "178842           0           6               NaN            NaN     NaN  \n",
      "178845           0           6               NaN            NaN     NaN  \n",
      "\n",
      "[71 rows x 21 columns]\n"
     ]
    }
   ],
   "source": [
    "fours_and_sixes = top_10_rows.loc[top_10_rows['batsman_runs'].isin([4,6])]\n",
    "print(fours_and_sixes)"
   ]
  },
  {
   "cell_type": "code",
   "execution_count": 7,
   "metadata": {},
   "outputs": [
    {
     "name": "stdout",
     "output_type": "stream",
     "text": [
      "          runs\n",
      "match_id      \n",
      "414          4\n",
      "469          4\n",
      "473          8\n",
      "480          8\n",
      "483          4\n",
      "485          8\n",
      "495          4\n",
      "561         12\n",
      "571          4\n",
      "578         10\n",
      "583          4\n",
      "587         20\n",
      "593          8\n",
      "599          4\n",
      "607          8\n",
      "612          4\n",
      "618          8\n",
      "623          6\n",
      "632          4\n",
      "7896         4\n",
      "7901         8\n",
      "7904        12\n",
      "7907         8\n",
      "7912         4\n",
      "7917        12\n",
      "7922         8\n",
      "11139       14\n",
      "11143        4\n",
      "11145       12\n",
      "11151        4\n",
      "11310        6\n",
      "11315        8\n",
      "11318       10\n",
      "11322       12\n",
      "11325        4\n",
      "11335       10\n",
      "11342        8\n",
      "11347        6\n",
      "11412        8\n",
      "11415       12\n"
     ]
    }
   ],
   "source": [
    "runs = fours_and_sixes.groupby('match_id').agg({'batsman_runs':['sum']})\n",
    "runs.columns = ['runs']\n",
    "print(runs)"
   ]
  },
  {
   "cell_type": "code",
   "execution_count": 9,
   "metadata": {},
   "outputs": [
    {
     "name": "stdout",
     "output_type": "stream",
     "text": [
      "times Q de Kock scored 10-14 runs: 10\n"
     ]
    }
   ],
   "source": [
    "r1 = list(range(10,15))\n",
    "a = runs.loc[runs['runs'].isin(r1)]\n",
    "A = a.groupby('match_id').size().count()\n",
    "print('times Q de Kock scored 10-14 runs:',A)"
   ]
  },
  {
   "cell_type": "code",
   "execution_count": 10,
   "metadata": {},
   "outputs": [
    {
     "name": "stdout",
     "output_type": "stream",
     "text": [
      "times Q de Kock scored 15-20 runs: 1\n"
     ]
    }
   ],
   "source": [
    "r2 = list(range(15,21))\n",
    "b = runs.loc[runs['runs'].isin(r2)]\n",
    "B = b.groupby('match_id').size().count()\n",
    "print('times Q de Kock scored 15-20 runs:',B)"
   ]
  },
  {
   "cell_type": "code",
   "execution_count": 11,
   "metadata": {},
   "outputs": [
    {
     "name": "stdout",
     "output_type": "stream",
     "text": [
      "29\n"
     ]
    }
   ],
   "source": [
    "r3 = list(range(0,10))\n",
    "c = runs.loc[runs['runs'].isin(r3)]\n",
    "C = c.groupby('match_id').size().count()\n",
    "print(C)"
   ]
  },
  {
   "cell_type": "code",
   "execution_count": 12,
   "metadata": {},
   "outputs": [
    {
     "name": "stdout",
     "output_type": "stream",
     "text": [
      "50\n"
     ]
    }
   ],
   "source": [
    "matches = Q_de_Kock.groupby('match_id').size().count()\n",
    "print(matches)"
   ]
  },
  {
   "cell_type": "code",
   "execution_count": 13,
   "metadata": {},
   "outputs": [
    {
     "name": "stdout",
     "output_type": "stream",
     "text": [
      "40\n"
     ]
    }
   ],
   "source": [
    "index = runs.index\n",
    "D = len(index)\n",
    "print(D)"
   ]
  },
  {
   "cell_type": "code",
   "execution_count": 14,
   "metadata": {},
   "outputs": [
    {
     "name": "stdout",
     "output_type": "stream",
     "text": [
      "times Q de Kock socred 0-10 runs: 39\n"
     ]
    }
   ],
   "source": [
    "E = matches - D + C\n",
    "print('times Q de Kock socred 0-10 runs:',E)"
   ]
  },
  {
   "cell_type": "code",
   "execution_count": null,
   "metadata": {},
   "outputs": [],
   "source": []
  }
 ],
 "metadata": {
  "kernelspec": {
   "display_name": "Python 3",
   "language": "python",
   "name": "python3"
  },
  "language_info": {
   "codemirror_mode": {
    "name": "ipython",
    "version": 3
   },
   "file_extension": ".py",
   "mimetype": "text/x-python",
   "name": "python",
   "nbconvert_exporter": "python",
   "pygments_lexer": "ipython3",
   "version": "3.7.0"
  }
 },
 "nbformat": 4,
 "nbformat_minor": 4
}
