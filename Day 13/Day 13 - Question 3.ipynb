{
 "cells": [
  {
   "cell_type": "code",
   "execution_count": 43,
   "metadata": {},
   "outputs": [],
   "source": [
    "from pandas import *"
   ]
  },
  {
   "cell_type": "code",
   "execution_count": 44,
   "metadata": {
    "scrolled": true
   },
   "outputs": [
    {
     "name": "stdout",
     "output_type": "stream",
     "text": [
      "        match_id  inning         batting_team                 bowling_team  \\\n",
      "0              1       1  Sunrisers Hyderabad  Royal Challengers Bangalore   \n",
      "1              1       1  Sunrisers Hyderabad  Royal Challengers Bangalore   \n",
      "2              1       1  Sunrisers Hyderabad  Royal Challengers Bangalore   \n",
      "3              1       1  Sunrisers Hyderabad  Royal Challengers Bangalore   \n",
      "4              1       1  Sunrisers Hyderabad  Royal Challengers Bangalore   \n",
      "...          ...     ...                  ...                          ...   \n",
      "179073     11415       2  Chennai Super Kings               Mumbai Indians   \n",
      "179074     11415       2  Chennai Super Kings               Mumbai Indians   \n",
      "179075     11415       2  Chennai Super Kings               Mumbai Indians   \n",
      "179076     11415       2  Chennai Super Kings               Mumbai Indians   \n",
      "179077     11415       2  Chennai Super Kings               Mumbai Indians   \n",
      "\n",
      "        over  ball    batsman non_striker      bowler  is_super_over  ...  \\\n",
      "0          1     1  DA Warner    S Dhawan    TS Mills              0  ...   \n",
      "1          1     2  DA Warner    S Dhawan    TS Mills              0  ...   \n",
      "2          1     3  DA Warner    S Dhawan    TS Mills              0  ...   \n",
      "3          1     4  DA Warner    S Dhawan    TS Mills              0  ...   \n",
      "4          1     5  DA Warner    S Dhawan    TS Mills              0  ...   \n",
      "...      ...   ...        ...         ...         ...            ...  ...   \n",
      "179073    20     2  RA Jadeja   SR Watson  SL Malinga              0  ...   \n",
      "179074    20     3  SR Watson   RA Jadeja  SL Malinga              0  ...   \n",
      "179075    20     4  SR Watson   RA Jadeja  SL Malinga              0  ...   \n",
      "179076    20     5  SN Thakur   RA Jadeja  SL Malinga              0  ...   \n",
      "179077    20     6  SN Thakur   RA Jadeja  SL Malinga              0  ...   \n",
      "\n",
      "        bye_runs  legbye_runs  noball_runs  penalty_runs  batsman_runs  \\\n",
      "0              0            0            0             0             0   \n",
      "1              0            0            0             0             0   \n",
      "2              0            0            0             0             4   \n",
      "3              0            0            0             0             0   \n",
      "4              0            0            0             0             0   \n",
      "...          ...          ...          ...           ...           ...   \n",
      "179073         0            0            0             0             1   \n",
      "179074         0            0            0             0             2   \n",
      "179075         0            0            0             0             1   \n",
      "179076         0            0            0             0             2   \n",
      "179077         0            0            0             0             0   \n",
      "\n",
      "        extra_runs  total_runs  player_dismissed dismissal_kind    fielder  \n",
      "0                0           0               NaN            NaN        NaN  \n",
      "1                0           0               NaN            NaN        NaN  \n",
      "2                0           4               NaN            NaN        NaN  \n",
      "3                0           0               NaN            NaN        NaN  \n",
      "4                2           2               NaN            NaN        NaN  \n",
      "...            ...         ...               ...            ...        ...  \n",
      "179073           0           1               NaN            NaN        NaN  \n",
      "179074           0           2               NaN            NaN        NaN  \n",
      "179075           0           1         SR Watson        run out  KH Pandya  \n",
      "179076           0           2               NaN            NaN        NaN  \n",
      "179077           0           0         SN Thakur            lbw        NaN  \n",
      "\n",
      "[179078 rows x 21 columns]\n"
     ]
    }
   ],
   "source": [
    "df = read_csv(r'C:\\Users\\harsi\\OneDrive\\Desktop\\WPL Datasets\\deliveries.csv')\n",
    "print(df)"
   ]
  },
  {
   "cell_type": "code",
   "execution_count": 45,
   "metadata": {
    "scrolled": true
   },
   "outputs": [
    {
     "name": "stdout",
     "output_type": "stream",
     "text": [
      "                         ball\n",
      "match_id bowler              \n",
      "2        HH Pandya         24\n",
      "         JJ Bumrah         24\n",
      "         KA Pollard        12\n",
      "         KH Pandya         12\n",
      "         MJ McClenaghan    24\n",
      "...                       ...\n",
      "11415    JJ Bumrah         24\n",
      "         KH Pandya         18\n",
      "         MJ McClenaghan    26\n",
      "         RD Chahar         24\n",
      "         SL Malinga        25\n",
      "\n",
      "[1125 rows x 1 columns]\n"
     ]
    }
   ],
   "source": [
    "MI = df.loc[(df['bowling_team'] == 'Mumbai Indians')]\n",
    "balls = MI[['match_id', 'bowler', 'ball']]\n",
    "balls = balls.groupby(['match_id', 'bowler']).count()\n",
    "print(balls)"
   ]
  },
  {
   "cell_type": "code",
   "execution_count": 46,
   "metadata": {
    "scrolled": true
   },
   "outputs": [
    {
     "name": "stdout",
     "output_type": "stream",
     "text": [
      "                         dot_balls\n",
      "match_id bowler                   \n",
      "2        HH Pandya               4\n",
      "         JJ Bumrah               6\n",
      "         KH Pandya               2\n",
      "         MJ McClenaghan          9\n",
      "         TG Southee              8\n",
      "...                            ...\n",
      "11415    JJ Bumrah              11\n",
      "         KH Pandya               8\n",
      "         MJ McClenaghan         12\n",
      "         RD Chahar              13\n",
      "         SL Malinga              7\n",
      "\n",
      "[1094 rows x 1 columns]\n"
     ]
    }
   ],
   "source": [
    "dot_balls = MI.loc[(MI['total_runs'] == 0)]\n",
    "dot_balls = dot_balls[['match_id', 'bowler', 'ball']]\n",
    "dot_balls = dot_balls.groupby(['match_id', 'bowler']).count()\n",
    "dot_balls.columns = ['dot_balls']\n",
    "print(dot_balls)"
   ]
  },
  {
   "cell_type": "code",
   "execution_count": 47,
   "metadata": {
    "scrolled": true
   },
   "outputs": [
    {
     "name": "stdout",
     "output_type": "stream",
     "text": [
      "                         ball  dot_balls\n",
      "match_id bowler                         \n",
      "2        HH Pandya         24        4.0\n",
      "         JJ Bumrah         24        6.0\n",
      "         KA Pollard        12        NaN\n",
      "         KH Pandya         12        2.0\n",
      "         MJ McClenaghan    24        9.0\n",
      "...                       ...        ...\n",
      "11415    JJ Bumrah         24       11.0\n",
      "         KH Pandya         18        8.0\n",
      "         MJ McClenaghan    26       12.0\n",
      "         RD Chahar         24       13.0\n",
      "         SL Malinga        25        7.0\n",
      "\n",
      "[1125 rows x 2 columns]\n"
     ]
    }
   ],
   "source": [
    "result = concat([balls, dot_balls], axis = 1)\n",
    "print(result)"
   ]
  },
  {
   "cell_type": "code",
   "execution_count": 48,
   "metadata": {},
   "outputs": [
    {
     "name": "stdout",
     "output_type": "stream",
     "text": [
      "                         ball  dot_balls\n",
      "match_id bowler                         \n",
      "2        HH Pandya         24        4.0\n",
      "         JJ Bumrah         24        6.0\n",
      "         KA Pollard        12        0.0\n",
      "         KH Pandya         12        2.0\n",
      "         MJ McClenaghan    24        9.0\n",
      "...                       ...        ...\n",
      "11415    JJ Bumrah         24       11.0\n",
      "         KH Pandya         18        8.0\n",
      "         MJ McClenaghan    26       12.0\n",
      "         RD Chahar         24       13.0\n",
      "         SL Malinga        25        7.0\n",
      "\n",
      "[1125 rows x 2 columns]\n"
     ]
    }
   ],
   "source": [
    "result['dot_balls'] = result['dot_balls'].fillna(0)\n",
    "print(result)"
   ]
  },
  {
   "cell_type": "code",
   "execution_count": 49,
   "metadata": {},
   "outputs": [
    {
     "name": "stdout",
     "output_type": "stream",
     "text": [
      "                         ball  dot_balls     ratio\n",
      "match_id bowler                                   \n",
      "2        HH Pandya         24        4.0  0.166667\n",
      "         JJ Bumrah         24        6.0  0.250000\n",
      "         KA Pollard        12        0.0  0.000000\n",
      "         KH Pandya         12        2.0  0.166667\n",
      "         MJ McClenaghan    24        9.0  0.375000\n",
      "...                       ...        ...       ...\n",
      "11415    JJ Bumrah         24       11.0  0.458333\n",
      "         KH Pandya         18        8.0  0.444444\n",
      "         MJ McClenaghan    26       12.0  0.461538\n",
      "         RD Chahar         24       13.0  0.541667\n",
      "         SL Malinga        25        7.0  0.280000\n",
      "\n",
      "[1125 rows x 3 columns]\n"
     ]
    }
   ],
   "source": [
    "result['ratio'] = result['dot_balls']/result['ball']\n",
    "print(result)"
   ]
  },
  {
   "cell_type": "code",
   "execution_count": 56,
   "metadata": {
    "scrolled": true
   },
   "outputs": [
    {
     "name": "stdout",
     "output_type": "stream",
     "text": [
      "        match_id  inning    batting_team           bowling_team  over  ball  \\\n",
      "1552           7       2  Mumbai Indians  Kolkata Knight Riders     1     1   \n",
      "1553           7       2  Mumbai Indians  Kolkata Knight Riders     1     2   \n",
      "1554           7       2  Mumbai Indians  Kolkata Knight Riders     1     3   \n",
      "1555           7       2  Mumbai Indians  Kolkata Knight Riders     1     4   \n",
      "1556           7       2  Mumbai Indians  Kolkata Knight Riders     1     5   \n",
      "...          ...     ...             ...                    ...   ...   ...   \n",
      "165439     11139       2  Mumbai Indians         Delhi Capitals    18     2   \n",
      "165440     11139       2  Mumbai Indians         Delhi Capitals    18     3   \n",
      "165441     11139       2  Mumbai Indians         Delhi Capitals    18     4   \n",
      "165442     11139       2  Mumbai Indians         Delhi Capitals    18     5   \n",
      "165443     11139       2  Mumbai Indians         Delhi Capitals    18     6   \n",
      "\n",
      "               batsman     non_striker    bowler  is_super_over  ...  \\\n",
      "1552          PA Patel      JC Buttler  TA Boult              0  ...   \n",
      "1553          PA Patel      JC Buttler  TA Boult              0  ...   \n",
      "1554          PA Patel      JC Buttler  TA Boult              0  ...   \n",
      "1555          PA Patel      JC Buttler  TA Boult              0  ...   \n",
      "1556          PA Patel      JC Buttler  TA Boult              0  ...   \n",
      "...                ...             ...       ...            ...  ...   \n",
      "165439    Yuvraj Singh  MJ McClenaghan  TA Boult              0  ...   \n",
      "165440    Yuvraj Singh  MJ McClenaghan  TA Boult              0  ...   \n",
      "165441    Yuvraj Singh  MJ McClenaghan  TA Boult              0  ...   \n",
      "165442  MJ McClenaghan    Yuvraj Singh  TA Boult              0  ...   \n",
      "165443  MJ McClenaghan    Yuvraj Singh  TA Boult              0  ...   \n",
      "\n",
      "        bye_runs  legbye_runs  noball_runs  penalty_runs  batsman_runs  \\\n",
      "1552           0            0            0             0             0   \n",
      "1553           0            0            0             0             0   \n",
      "1554           0            0            0             0             4   \n",
      "1555           0            0            0             0             0   \n",
      "1556           0            0            0             0             1   \n",
      "...          ...          ...          ...           ...           ...   \n",
      "165439         0            0            0             0             0   \n",
      "165440         0            0            0             0             4   \n",
      "165441         0            0            0             0             1   \n",
      "165442         0            0            0             0             0   \n",
      "165443         0            0            0             0             4   \n",
      "\n",
      "        extra_runs  total_runs  player_dismissed dismissal_kind fielder  \n",
      "1552             0           0               NaN            NaN     NaN  \n",
      "1553             0           0               NaN            NaN     NaN  \n",
      "1554             0           4               NaN            NaN     NaN  \n",
      "1555             0           0               NaN            NaN     NaN  \n",
      "1556             0           1               NaN            NaN     NaN  \n",
      "...            ...         ...               ...            ...     ...  \n",
      "165439           0           0               NaN            NaN     NaN  \n",
      "165440           0           4               NaN            NaN     NaN  \n",
      "165441           0           1               NaN            NaN     NaN  \n",
      "165442           0           0               NaN            NaN     NaN  \n",
      "165443           0           4               NaN            NaN     NaN  \n",
      "\n",
      "[151 rows x 21 columns]\n"
     ]
    }
   ],
   "source": [
    "TBoult = df.loc[(df['batting_team'] == 'Mumbai Indians') & (df['bowler'] == 'TA Boult')]\n",
    "print(TBoult)"
   ]
  },
  {
   "cell_type": "code",
   "execution_count": 61,
   "metadata": {},
   "outputs": [
    {
     "name": "stdout",
     "output_type": "stream",
     "text": [
      "                   ball  dot_balls     ratio\n",
      "match_id bowler                             \n",
      "7        TA Boult    24          6  0.250000\n",
      "53       TA Boult    26         12  0.461538\n",
      "541      TA Boult    26          8  0.307692\n",
      "7902     TA Boult    25          5  0.200000\n",
      "7948     TA Boult    25          8  0.320000\n",
      "11139    TA Boult    25          7  0.280000\n"
     ]
    }
   ],
   "source": [
    "balls1 = TBoult[['match_id', 'bowler', 'ball']]\n",
    "balls1 = balls1.groupby(['match_id', 'bowler']).count()\n",
    "dot_balls1 = TBoult.loc[(TBoult['total_runs'] == 0)]\n",
    "dot_balls1 = dot_balls1[['match_id', 'bowler', 'ball']]\n",
    "dot_balls1 = dot_balls1.groupby(['match_id', 'bowler']).count()\n",
    "dot_balls1.columns = ['dot_balls']\n",
    "result1 = concat([balls1, dot_balls1], axis = 1)\n",
    "result1['ratio'] = result1['dot_balls']/result1['ball']\n",
    "print(result1)"
   ]
  },
  {
   "cell_type": "code",
   "execution_count": 62,
   "metadata": {},
   "outputs": [
    {
     "name": "stdout",
     "output_type": "stream",
     "text": [
      "                         ball  dot_balls     ratio\n",
      "match_id bowler                                   \n",
      "2        HH Pandya         24        4.0  0.166667\n",
      "         JJ Bumrah         24        6.0  0.250000\n",
      "         KA Pollard        12        0.0  0.000000\n",
      "         KH Pandya         12        2.0  0.166667\n",
      "         MJ McClenaghan    24        9.0  0.375000\n",
      "...                       ...        ...       ...\n",
      "53       TA Boult          26       12.0  0.461538\n",
      "541      TA Boult          26        8.0  0.307692\n",
      "7902     TA Boult          25        5.0  0.200000\n",
      "7948     TA Boult          25        8.0  0.320000\n",
      "11139    TA Boult          25        7.0  0.280000\n",
      "\n",
      "[1131 rows x 3 columns]\n"
     ]
    }
   ],
   "source": [
    "final = concat([result, result1])\n",
    "print(final)"
   ]
  },
  {
   "cell_type": "code",
   "execution_count": 63,
   "metadata": {},
   "outputs": [
    {
     "name": "stdout",
     "output_type": "stream",
     "text": [
      "match_id  match_id  bowler         \n",
      "2         2         MJ McClenaghan     0.375000\n",
      "7         7         KH Pandya          0.333333\n",
      "10        10        Harbhajan Singh    0.583333\n",
      "12        12        Harbhajan Singh    0.458333\n",
      "16        16        MJ McClenaghan     0.461538\n",
      "                                         ...   \n",
      "11338     11338     HH Pandya          0.380952\n",
      "11342     11342     RD Chahar          0.416667\n",
      "11347     11347     RD Chahar          0.666667\n",
      "11412     11412     KH Pandya          0.541667\n",
      "11415     11415     HH Pandya          0.571429\n",
      "Name: ratio, Length: 187, dtype: float64\n"
     ]
    }
   ],
   "source": [
    "final = final.groupby('match_id')['ratio'].nlargest()\n",
    "final_result = final.groupby('match_id').head(1)\n",
    "print(final_result)"
   ]
  },
  {
   "cell_type": "code",
   "execution_count": 64,
   "metadata": {},
   "outputs": [],
   "source": [
    "final_result.to_csv(r'C:\\Users\\harsi\\OneDrive\\Desktop\\WPL Datasets\\MI_best_bowlers.csv')"
   ]
  },
  {
   "cell_type": "code",
   "execution_count": 65,
   "metadata": {},
   "outputs": [
    {
     "name": "stdout",
     "output_type": "stream",
     "text": [
      "     match_id  match_id.1           bowler     ratio\n",
      "0           2           2   MJ McClenaghan  0.375000\n",
      "1           7           7        KH Pandya  0.333333\n",
      "2          10          10  Harbhajan Singh  0.583333\n",
      "3          12          12  Harbhajan Singh  0.458333\n",
      "4          16          16   MJ McClenaghan  0.461538\n",
      "..        ...         ...              ...       ...\n",
      "182     11338       11338        HH Pandya  0.380952\n",
      "183     11342       11342        RD Chahar  0.416667\n",
      "184     11347       11347        RD Chahar  0.666667\n",
      "185     11412       11412        KH Pandya  0.541667\n",
      "186     11415       11415        HH Pandya  0.571429\n",
      "\n",
      "[187 rows x 4 columns]\n"
     ]
    }
   ],
   "source": [
    "df1 = read_csv(r'C:\\Users\\harsi\\OneDrive\\Desktop\\WPL Datasets\\MI_best_bowlers.csv')\n",
    "print(df1)"
   ]
  },
  {
   "cell_type": "code",
   "execution_count": 66,
   "metadata": {},
   "outputs": [
    {
     "name": "stdout",
     "output_type": "stream",
     "text": [
      "14\n"
     ]
    }
   ],
   "source": [
    "JJ_Bumrah = df1.loc[(df1['bowler'] == 'JJ Bumrah')]\n",
    "A = JJ_Bumrah.groupby('match_id').size().count()\n",
    "print(A)"
   ]
  },
  {
   "cell_type": "code",
   "execution_count": 67,
   "metadata": {},
   "outputs": [
    {
     "name": "stdout",
     "output_type": "stream",
     "text": [
      "3\n"
     ]
    }
   ],
   "source": [
    "RD_Chahar = df1.loc[(df1['bowler'] == 'RD Chahar')]\n",
    "B = RD_Chahar.groupby('match_id').size().count()\n",
    "print(B)"
   ]
  },
  {
   "cell_type": "code",
   "execution_count": 68,
   "metadata": {},
   "outputs": [
    {
     "name": "stdout",
     "output_type": "stream",
     "text": [
      "0\n"
     ]
    }
   ],
   "source": [
    "TA_Boult = df1.loc[(df1['bowler'] == 'TA_Boult')]\n",
    "C = TA_Boult.groupby('match_id').size().count()\n",
    "print(C)"
   ]
  },
  {
   "cell_type": "code",
   "execution_count": null,
   "metadata": {},
   "outputs": [],
   "source": [
    "On claculating the"
   ]
  }
 ],
 "metadata": {
  "kernelspec": {
   "display_name": "Python 3",
   "language": "python",
   "name": "python3"
  },
  "language_info": {
   "codemirror_mode": {
    "name": "ipython",
    "version": 3
   },
   "file_extension": ".py",
   "mimetype": "text/x-python",
   "name": "python",
   "nbconvert_exporter": "python",
   "pygments_lexer": "ipython3",
   "version": "3.7.0"
  }
 },
 "nbformat": 4,
 "nbformat_minor": 4
}
