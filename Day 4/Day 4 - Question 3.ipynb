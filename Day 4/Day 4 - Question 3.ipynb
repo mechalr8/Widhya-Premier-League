{
 "cells": [
  {
   "cell_type": "code",
   "execution_count": 1,
   "metadata": {},
   "outputs": [],
   "source": [
    "from pandas import *"
   ]
  },
  {
   "cell_type": "code",
   "execution_count": 2,
   "metadata": {},
   "outputs": [],
   "source": [
    "df = read_csv(r'C:\\Users\\Asus\\Desktop\\WPL Datasets\\deliveries.csv')"
   ]
  },
  {
   "cell_type": "code",
   "execution_count": 3,
   "metadata": {
    "scrolled": true
   },
   "outputs": [
    {
     "name": "stdout",
     "output_type": "stream",
     "text": [
      "        match_id  inning         batting_team                 bowling_team  \\\n",
      "0              1       1  Sunrisers Hyderabad  Royal Challengers Bangalore   \n",
      "1              1       1  Sunrisers Hyderabad  Royal Challengers Bangalore   \n",
      "2              1       1  Sunrisers Hyderabad  Royal Challengers Bangalore   \n",
      "3              1       1  Sunrisers Hyderabad  Royal Challengers Bangalore   \n",
      "4              1       1  Sunrisers Hyderabad  Royal Challengers Bangalore   \n",
      "...          ...     ...                  ...                          ...   \n",
      "179073     11415       2  Chennai Super Kings               Mumbai Indians   \n",
      "179074     11415       2  Chennai Super Kings               Mumbai Indians   \n",
      "179075     11415       2  Chennai Super Kings               Mumbai Indians   \n",
      "179076     11415       2  Chennai Super Kings               Mumbai Indians   \n",
      "179077     11415       2  Chennai Super Kings               Mumbai Indians   \n",
      "\n",
      "        over  ball    batsman non_striker      bowler  is_super_over  ...  \\\n",
      "0          1     1  DA Warner    S Dhawan    TS Mills              0  ...   \n",
      "1          1     2  DA Warner    S Dhawan    TS Mills              0  ...   \n",
      "2          1     3  DA Warner    S Dhawan    TS Mills              0  ...   \n",
      "3          1     4  DA Warner    S Dhawan    TS Mills              0  ...   \n",
      "4          1     5  DA Warner    S Dhawan    TS Mills              0  ...   \n",
      "...      ...   ...        ...         ...         ...            ...  ...   \n",
      "179073    20     2  RA Jadeja   SR Watson  SL Malinga              0  ...   \n",
      "179074    20     3  SR Watson   RA Jadeja  SL Malinga              0  ...   \n",
      "179075    20     4  SR Watson   RA Jadeja  SL Malinga              0  ...   \n",
      "179076    20     5  SN Thakur   RA Jadeja  SL Malinga              0  ...   \n",
      "179077    20     6  SN Thakur   RA Jadeja  SL Malinga              0  ...   \n",
      "\n",
      "        bye_runs  legbye_runs  noball_runs  penalty_runs  batsman_runs  \\\n",
      "0              0            0            0             0             0   \n",
      "1              0            0            0             0             0   \n",
      "2              0            0            0             0             4   \n",
      "3              0            0            0             0             0   \n",
      "4              0            0            0             0             0   \n",
      "...          ...          ...          ...           ...           ...   \n",
      "179073         0            0            0             0             1   \n",
      "179074         0            0            0             0             2   \n",
      "179075         0            0            0             0             1   \n",
      "179076         0            0            0             0             2   \n",
      "179077         0            0            0             0             0   \n",
      "\n",
      "        extra_runs  total_runs  player_dismissed dismissal_kind    fielder  \n",
      "0                0           0               NaN            NaN        NaN  \n",
      "1                0           0               NaN            NaN        NaN  \n",
      "2                0           4               NaN            NaN        NaN  \n",
      "3                0           0               NaN            NaN        NaN  \n",
      "4                2           2               NaN            NaN        NaN  \n",
      "...            ...         ...               ...            ...        ...  \n",
      "179073           0           1               NaN            NaN        NaN  \n",
      "179074           0           2               NaN            NaN        NaN  \n",
      "179075           0           1         SR Watson        run out  KH Pandya  \n",
      "179076           0           2               NaN            NaN        NaN  \n",
      "179077           0           0         SN Thakur            lbw        NaN  \n",
      "\n",
      "[179078 rows x 21 columns]\n"
     ]
    }
   ],
   "source": [
    "print(df)"
   ]
  },
  {
   "cell_type": "code",
   "execution_count": 4,
   "metadata": {
    "scrolled": true
   },
   "outputs": [
    {
     "name": "stdout",
     "output_type": "stream",
     "text": [
      "        match_id  inning      batting_team      bowling_team  over  ball  \\\n",
      "14335         62       1  Rajasthan Royals  Delhi Daredevils     1     1   \n",
      "14336         62       1  Rajasthan Royals  Delhi Daredevils     1     2   \n",
      "14337         62       1  Rajasthan Royals  Delhi Daredevils     1     3   \n",
      "14338         62       1  Rajasthan Royals  Delhi Daredevils     1     4   \n",
      "14339         62       1  Rajasthan Royals  Delhi Daredevils     1     5   \n",
      "...          ...     ...               ...               ...   ...   ...   \n",
      "177388     11344       2    Delhi Capitals  Rajasthan Royals    16     3   \n",
      "177389     11344       2    Delhi Capitals  Rajasthan Royals    16     4   \n",
      "177390     11344       2    Delhi Capitals  Rajasthan Royals    16     5   \n",
      "177391     11344       2    Delhi Capitals  Rajasthan Royals    16     6   \n",
      "177392     11344       2    Delhi Capitals  Rajasthan Royals    17     1   \n",
      "\n",
      "         batsman non_striker      bowler  is_super_over  ...  bye_runs  \\\n",
      "14335    T Kohli   YK Pathan  GD McGrath              0  ...         0   \n",
      "14336    T Kohli   YK Pathan  GD McGrath              0  ...         0   \n",
      "14337    T Kohli   YK Pathan  GD McGrath              0  ...         0   \n",
      "14338    T Kohli   YK Pathan  GD McGrath              0  ...         0   \n",
      "14339    T Kohli   YK Pathan  GD McGrath              0  ...         0   \n",
      "...          ...         ...         ...            ...  ...       ...   \n",
      "177388   RR Pant    AR Patel     S Gopal              0  ...         0   \n",
      "177389  AR Patel     RR Pant     S Gopal              0  ...         0   \n",
      "177390   RR Pant    AR Patel     S Gopal              0  ...         0   \n",
      "177391   RR Pant    AR Patel     S Gopal              0  ...         0   \n",
      "177392   RR Pant    AR Patel     I Sodhi              0  ...         0   \n",
      "\n",
      "        legbye_runs  noball_runs  penalty_runs  batsman_runs  extra_runs  \\\n",
      "14335             0            0             0             0           0   \n",
      "14336             0            0             0             0           0   \n",
      "14337             0            0             0             0           0   \n",
      "14338             0            0             0             0           1   \n",
      "14339             0            0             0             0           0   \n",
      "...             ...          ...           ...           ...         ...   \n",
      "177388            0            0             0             1           0   \n",
      "177389            0            0             0             1           0   \n",
      "177390            0            0             0             6           0   \n",
      "177391            0            0             0             1           0   \n",
      "177392            0            0             0             6           0   \n",
      "\n",
      "        total_runs  player_dismissed dismissal_kind fielder  \n",
      "14335            0               NaN            NaN     NaN  \n",
      "14336            0               NaN            NaN     NaN  \n",
      "14337            0               NaN            NaN     NaN  \n",
      "14338            1               NaN            NaN     NaN  \n",
      "14339            0               NaN            NaN     NaN  \n",
      "...            ...               ...            ...     ...  \n",
      "177388           1               NaN            NaN     NaN  \n",
      "177389           1               NaN            NaN     NaN  \n",
      "177390           6               NaN            NaN     NaN  \n",
      "177391           1               NaN            NaN     NaN  \n",
      "177392           6               NaN            NaN     NaN  \n",
      "\n",
      "[4617 rows x 21 columns]\n"
     ]
    }
   ],
   "source": [
    "team = ['Delhi Daredevils', 'Delhi Capitals', 'Rajasthan Royals']\n",
    "rslt_df = df.loc[df['batting_team'].isin(team) & df['bowling_team'].isin(team)]\n",
    "print(rslt_df)"
   ]
  },
  {
   "cell_type": "code",
   "execution_count": 5,
   "metadata": {
    "scrolled": true
   },
   "outputs": [
    {
     "name": "stdout",
     "output_type": "stream",
     "text": [
      "        match_id  inning      batting_team      bowling_team  over  ball  \\\n",
      "14335         62       1  Rajasthan Royals  Delhi Daredevils     1     1   \n",
      "14336         62       1  Rajasthan Royals  Delhi Daredevils     1     2   \n",
      "14337         62       1  Rajasthan Royals  Delhi Daredevils     1     3   \n",
      "14338         62       1  Rajasthan Royals  Delhi Daredevils     1     4   \n",
      "14339         62       1  Rajasthan Royals  Delhi Daredevils     1     5   \n",
      "...          ...     ...               ...               ...   ...   ...   \n",
      "177388     11344       2    Delhi Capitals  Rajasthan Royals    16     3   \n",
      "177389     11344       2    Delhi Capitals  Rajasthan Royals    16     4   \n",
      "177390     11344       2    Delhi Capitals  Rajasthan Royals    16     5   \n",
      "177391     11344       2    Delhi Capitals  Rajasthan Royals    16     6   \n",
      "177392     11344       2    Delhi Capitals  Rajasthan Royals    17     1   \n",
      "\n",
      "         batsman non_striker      bowler  is_super_over  ...  bye_runs  \\\n",
      "14335    T Kohli   YK Pathan  GD McGrath              0  ...         0   \n",
      "14336    T Kohli   YK Pathan  GD McGrath              0  ...         0   \n",
      "14337    T Kohli   YK Pathan  GD McGrath              0  ...         0   \n",
      "14338    T Kohli   YK Pathan  GD McGrath              0  ...         0   \n",
      "14339    T Kohli   YK Pathan  GD McGrath              0  ...         0   \n",
      "...          ...         ...         ...            ...  ...       ...   \n",
      "177388   RR Pant    AR Patel     S Gopal              0  ...         0   \n",
      "177389  AR Patel     RR Pant     S Gopal              0  ...         0   \n",
      "177390   RR Pant    AR Patel     S Gopal              0  ...         0   \n",
      "177391   RR Pant    AR Patel     S Gopal              0  ...         0   \n",
      "177392   RR Pant    AR Patel     I Sodhi              0  ...         0   \n",
      "\n",
      "        legbye_runs  noball_runs  penalty_runs  batsman_runs  extra_runs  \\\n",
      "14335             0            0             0             0           0   \n",
      "14336             0            0             0             0           0   \n",
      "14337             0            0             0             0           0   \n",
      "14338             0            0             0             0           1   \n",
      "14339             0            0             0             0           0   \n",
      "...             ...          ...           ...           ...         ...   \n",
      "177388            0            0             0             1           0   \n",
      "177389            0            0             0             1           0   \n",
      "177390            0            0             0             6           0   \n",
      "177391            0            0             0             1           0   \n",
      "177392            0            0             0             6           0   \n",
      "\n",
      "        total_runs  player_dismissed dismissal_kind fielder  \n",
      "14335            0               NaN            NaN     NaN  \n",
      "14336            0               NaN            NaN     NaN  \n",
      "14337            0               NaN            NaN     NaN  \n",
      "14338            1               NaN            NaN     NaN  \n",
      "14339            0               NaN            NaN     NaN  \n",
      "...            ...               ...            ...     ...  \n",
      "177388           1               NaN            NaN     NaN  \n",
      "177389           1               NaN            NaN     NaN  \n",
      "177390           6               NaN            NaN     NaN  \n",
      "177391           1               NaN            NaN     NaN  \n",
      "177392           6               NaN            NaN     NaN  \n",
      "\n",
      "[4617 rows x 21 columns]\n"
     ]
    }
   ],
   "source": [
    "rslt_df.to_csv (r'C:\\Users\\Asus\\Desktop\\WPL Datasets\\Rajasthan vs Delhi deliveries.csv', index = False, header = True)\n",
    "print(rslt_df)"
   ]
  },
  {
   "cell_type": "code",
   "execution_count": 6,
   "metadata": {
    "scrolled": true
   },
   "outputs": [
    {
     "name": "stdout",
     "output_type": "stream",
     "text": [
      "      match_id  inning      batting_team      bowling_team  over  ball  \\\n",
      "0           62       1  Rajasthan Royals  Delhi Daredevils     1     1   \n",
      "1           62       1  Rajasthan Royals  Delhi Daredevils     1     2   \n",
      "2           62       1  Rajasthan Royals  Delhi Daredevils     1     3   \n",
      "3           62       1  Rajasthan Royals  Delhi Daredevils     1     4   \n",
      "4           62       1  Rajasthan Royals  Delhi Daredevils     1     5   \n",
      "...        ...     ...               ...               ...   ...   ...   \n",
      "4612     11344       2    Delhi Capitals  Rajasthan Royals    16     3   \n",
      "4613     11344       2    Delhi Capitals  Rajasthan Royals    16     4   \n",
      "4614     11344       2    Delhi Capitals  Rajasthan Royals    16     5   \n",
      "4615     11344       2    Delhi Capitals  Rajasthan Royals    16     6   \n",
      "4616     11344       2    Delhi Capitals  Rajasthan Royals    17     1   \n",
      "\n",
      "       batsman non_striker      bowler  is_super_over  ...  bye_runs  \\\n",
      "0      T Kohli   YK Pathan  GD McGrath              0  ...         0   \n",
      "1      T Kohli   YK Pathan  GD McGrath              0  ...         0   \n",
      "2      T Kohli   YK Pathan  GD McGrath              0  ...         0   \n",
      "3      T Kohli   YK Pathan  GD McGrath              0  ...         0   \n",
      "4      T Kohli   YK Pathan  GD McGrath              0  ...         0   \n",
      "...        ...         ...         ...            ...  ...       ...   \n",
      "4612   RR Pant    AR Patel     S Gopal              0  ...         0   \n",
      "4613  AR Patel     RR Pant     S Gopal              0  ...         0   \n",
      "4614   RR Pant    AR Patel     S Gopal              0  ...         0   \n",
      "4615   RR Pant    AR Patel     S Gopal              0  ...         0   \n",
      "4616   RR Pant    AR Patel     I Sodhi              0  ...         0   \n",
      "\n",
      "      legbye_runs  noball_runs  penalty_runs  batsman_runs  extra_runs  \\\n",
      "0               0            0             0             0           0   \n",
      "1               0            0             0             0           0   \n",
      "2               0            0             0             0           0   \n",
      "3               0            0             0             0           1   \n",
      "4               0            0             0             0           0   \n",
      "...           ...          ...           ...           ...         ...   \n",
      "4612            0            0             0             1           0   \n",
      "4613            0            0             0             1           0   \n",
      "4614            0            0             0             6           0   \n",
      "4615            0            0             0             1           0   \n",
      "4616            0            0             0             6           0   \n",
      "\n",
      "      total_runs  player_dismissed dismissal_kind fielder  \n",
      "0              0               NaN            NaN     NaN  \n",
      "1              0               NaN            NaN     NaN  \n",
      "2              0               NaN            NaN     NaN  \n",
      "3              1               NaN            NaN     NaN  \n",
      "4              0               NaN            NaN     NaN  \n",
      "...          ...               ...            ...     ...  \n",
      "4612           1               NaN            NaN     NaN  \n",
      "4613           1               NaN            NaN     NaN  \n",
      "4614           6               NaN            NaN     NaN  \n",
      "4615           1               NaN            NaN     NaN  \n",
      "4616           6               NaN            NaN     NaN  \n",
      "\n",
      "[4617 rows x 21 columns]\n"
     ]
    }
   ],
   "source": [
    "df1 = read_csv(r'C:\\Users\\Asus\\Desktop\\WPL Datasets\\Rajasthan vs Delhi deliveries.csv')\n",
    "print(df1)"
   ]
  },
  {
   "cell_type": "code",
   "execution_count": 8,
   "metadata": {
    "scrolled": true
   },
   "outputs": [
    {
     "name": "stdout",
     "output_type": "stream",
     "text": [
      "      match_id  inning      batting_team      bowling_team  over  ball  \\\n",
      "3474       523       2  Rajasthan Royals  Delhi Daredevils     6     3   \n",
      "3475       523       2  Rajasthan Royals  Delhi Daredevils     6     4   \n",
      "3476       523       2  Rajasthan Royals  Delhi Daredevils     6     5   \n",
      "3477       523       2  Rajasthan Royals  Delhi Daredevils     6     6   \n",
      "3480       523       2  Rajasthan Royals  Delhi Daredevils     7     3   \n",
      "3482       523       2  Rajasthan Royals  Delhi Daredevils     7     5   \n",
      "3483       523       2  Rajasthan Royals  Delhi Daredevils     7     6   \n",
      "3484       523       2  Rajasthan Royals  Delhi Daredevils     8     1   \n",
      "3485       523       2  Rajasthan Royals  Delhi Daredevils     8     2   \n",
      "4167     11331       1  Rajasthan Royals    Delhi Capitals     3     4   \n",
      "4169     11331       1  Rajasthan Royals    Delhi Capitals     3     6   \n",
      "4170     11331       1  Rajasthan Royals    Delhi Capitals     4     1   \n",
      "4171     11331       1  Rajasthan Royals    Delhi Capitals     4     2   \n",
      "4172     11331       1  Rajasthan Royals    Delhi Capitals     4     3   \n",
      "4173     11331       1  Rajasthan Royals    Delhi Capitals     4     4   \n",
      "4174     11331       1  Rajasthan Royals    Delhi Capitals     4     5   \n",
      "4176     11331       1  Rajasthan Royals    Delhi Capitals     5     1   \n",
      "4181     11331       1  Rajasthan Royals    Delhi Capitals     5     6   \n",
      "4182     11331       1  Rajasthan Royals    Delhi Capitals     6     1   \n",
      "4187     11331       1  Rajasthan Royals    Delhi Capitals     6     6   \n",
      "4189     11331       1  Rajasthan Royals    Delhi Capitals     7     2   \n",
      "4195     11331       1  Rajasthan Royals    Delhi Capitals     8     2   \n",
      "4196     11331       1  Rajasthan Royals    Delhi Capitals     8     3   \n",
      "4200     11331       1  Rajasthan Royals    Delhi Capitals     8     7   \n",
      "4202     11331       1  Rajasthan Royals    Delhi Capitals     9     2   \n",
      "4203     11331       1  Rajasthan Royals    Delhi Capitals     9     3   \n",
      "4204     11331       1  Rajasthan Royals    Delhi Capitals     9     4   \n",
      "4205     11331       1  Rajasthan Royals    Delhi Capitals     9     5   \n",
      "4207     11331       1  Rajasthan Royals    Delhi Capitals    10     1   \n",
      "4214     11331       1  Rajasthan Royals    Delhi Capitals    11     2   \n",
      "4215     11331       1  Rajasthan Royals    Delhi Capitals    11     3   \n",
      "4216     11331       1  Rajasthan Royals    Delhi Capitals    11     4   \n",
      "4217     11331       1  Rajasthan Royals    Delhi Capitals    11     5   \n",
      "4221     11331       1  Rajasthan Royals    Delhi Capitals    12     3   \n",
      "4222     11331       1  Rajasthan Royals    Delhi Capitals    12     4   \n",
      "4223     11331       1  Rajasthan Royals    Delhi Capitals    12     5   \n",
      "4224     11331       1  Rajasthan Royals    Delhi Capitals    12     6   \n",
      "4225     11331       1  Rajasthan Royals    Delhi Capitals    12     7   \n",
      "4227     11331       1  Rajasthan Royals    Delhi Capitals    13     1   \n",
      "4231     11331       1  Rajasthan Royals    Delhi Capitals    13     5   \n",
      "4232     11331       1  Rajasthan Royals    Delhi Capitals    13     6   \n",
      "4233     11331       1  Rajasthan Royals    Delhi Capitals    14     1   \n",
      "\n",
      "        batsman non_striker           bowler  is_super_over  ...  bye_runs  \\\n",
      "3474  SPD Smith   AM Rahane  NM Coulter-Nile              0  ...         0   \n",
      "3475  SPD Smith   AM Rahane  NM Coulter-Nile              0  ...         0   \n",
      "3476  SPD Smith   AM Rahane  NM Coulter-Nile              0  ...         0   \n",
      "3477  SPD Smith   AM Rahane  NM Coulter-Nile              0  ...         0   \n",
      "3480  SPD Smith   AM Rahane       AD Mathews              0  ...         0   \n",
      "3482  SPD Smith   AM Rahane       AD Mathews              0  ...         0   \n",
      "3483  SPD Smith   AM Rahane       AD Mathews              0  ...         0   \n",
      "3484  SPD Smith   AM Rahane         A Mishra              0  ...         0   \n",
      "3485  SPD Smith   AM Rahane         A Mishra              0  ...         0   \n",
      "4167  SPD Smith   AM Rahane         AR Patel              0  ...         0   \n",
      "4169  SPD Smith   AM Rahane         AR Patel              0  ...         0   \n",
      "4170  SPD Smith   AM Rahane         I Sharma              0  ...         0   \n",
      "4171  SPD Smith   AM Rahane         I Sharma              0  ...         0   \n",
      "4172  SPD Smith   AM Rahane         I Sharma              0  ...         0   \n",
      "4173  SPD Smith   AM Rahane         I Sharma              0  ...         0   \n",
      "4174  SPD Smith   AM Rahane         I Sharma              0  ...         0   \n",
      "4176  SPD Smith   AM Rahane         AR Patel              0  ...         0   \n",
      "4181  SPD Smith   AM Rahane         AR Patel              0  ...         0   \n",
      "4182  SPD Smith   AM Rahane         K Rabada              0  ...         0   \n",
      "4187  SPD Smith   AM Rahane         K Rabada              0  ...         0   \n",
      "4189  SPD Smith   AM Rahane         A Mishra              0  ...         0   \n",
      "4195  SPD Smith   AM Rahane        CH Morris              0  ...         0   \n",
      "4196  SPD Smith   AM Rahane        CH Morris              0  ...         0   \n",
      "4200  SPD Smith   AM Rahane        CH Morris              0  ...         0   \n",
      "4202  SPD Smith   AM Rahane         A Mishra              0  ...         0   \n",
      "4203  SPD Smith   AM Rahane         A Mishra              0  ...         0   \n",
      "4204  SPD Smith   AM Rahane         A Mishra              0  ...         0   \n",
      "4205  SPD Smith   AM Rahane         A Mishra              0  ...         0   \n",
      "4207  SPD Smith   AM Rahane         AR Patel              0  ...         0   \n",
      "4214  SPD Smith   AM Rahane         A Mishra              0  ...         0   \n",
      "4215  SPD Smith   AM Rahane         A Mishra              0  ...         0   \n",
      "4216  SPD Smith   AM Rahane         A Mishra              0  ...         0   \n",
      "4217  SPD Smith   AM Rahane         A Mishra              0  ...         0   \n",
      "4221  SPD Smith   AM Rahane     S Rutherford              0  ...         0   \n",
      "4222  SPD Smith   AM Rahane     S Rutherford              0  ...         0   \n",
      "4223  SPD Smith   AM Rahane     S Rutherford              0  ...         0   \n",
      "4224  SPD Smith   AM Rahane     S Rutherford              0  ...         0   \n",
      "4225  SPD Smith   AM Rahane     S Rutherford              0  ...         0   \n",
      "4227  SPD Smith   AM Rahane        CH Morris              0  ...         0   \n",
      "4231  SPD Smith   AM Rahane        CH Morris              0  ...         0   \n",
      "4232  SPD Smith   AM Rahane        CH Morris              0  ...         0   \n",
      "4233  SPD Smith   AM Rahane         AR Patel              0  ...         0   \n",
      "\n",
      "      legbye_runs  noball_runs  penalty_runs  batsman_runs  extra_runs  \\\n",
      "3474            0            0             0             0           0   \n",
      "3475            0            0             0             0           0   \n",
      "3476            0            0             0             0           0   \n",
      "3477            0            0             0             4           0   \n",
      "3480            0            0             0             1           0   \n",
      "3482            0            0             0             4           0   \n",
      "3483            0            0             0             1           0   \n",
      "3484            0            0             0             0           0   \n",
      "3485            0            0             0             0           0   \n",
      "4167            0            0             0             1           0   \n",
      "4169            0            0             0             1           0   \n",
      "4170            0            0             0             0           0   \n",
      "4171            0            0             0             0           0   \n",
      "4172            0            0             0             0           0   \n",
      "4173            0            0             0             4           0   \n",
      "4174            0            0             0             3           0   \n",
      "4176            0            0             0             1           0   \n",
      "4181            0            0             0             1           0   \n",
      "4182            0            0             0             1           0   \n",
      "4187            0            0             0             0           0   \n",
      "4189            0            0             0             1           0   \n",
      "4195            0            0             0             0           0   \n",
      "4196            0            0             0             1           0   \n",
      "4200            0            0             0             4           0   \n",
      "4202            0            0             0             2           0   \n",
      "4203            0            0             0             4           0   \n",
      "4204            0            0             0             0           0   \n",
      "4205            0            0             0             1           0   \n",
      "4207            0            0             0             1           0   \n",
      "4214            0            0             0             4           0   \n",
      "4215            0            0             0             4           0   \n",
      "4216            0            0             0             0           0   \n",
      "4217            0            0             0             1           0   \n",
      "4221            0            0             0             4           0   \n",
      "4222            0            0             0             4           0   \n",
      "4223            0            0             0             4           0   \n",
      "4224            0            0             0             1           1   \n",
      "4225            0            0             0             1           0   \n",
      "4227            0            0             0             1           0   \n",
      "4231            0            0             0             0           0   \n",
      "4232            0            0             0             1           0   \n",
      "4233            0            0             0             0           0   \n",
      "\n",
      "      total_runs  player_dismissed dismissal_kind     fielder  \n",
      "3474           0               NaN            NaN         NaN  \n",
      "3475           0               NaN            NaN         NaN  \n",
      "3476           0               NaN            NaN         NaN  \n",
      "3477           4               NaN            NaN         NaN  \n",
      "3480           1               NaN            NaN         NaN  \n",
      "3482           4               NaN            NaN         NaN  \n",
      "3483           1               NaN            NaN         NaN  \n",
      "3484           0               NaN            NaN         NaN  \n",
      "3485           0         SPD Smith         caught  MA Agarwal  \n",
      "4167           1               NaN            NaN         NaN  \n",
      "4169           1               NaN            NaN         NaN  \n",
      "4170           0               NaN            NaN         NaN  \n",
      "4171           0               NaN            NaN         NaN  \n",
      "4172           0               NaN            NaN         NaN  \n",
      "4173           4               NaN            NaN         NaN  \n",
      "4174           3               NaN            NaN         NaN  \n",
      "4176           1               NaN            NaN         NaN  \n",
      "4181           1               NaN            NaN         NaN  \n",
      "4182           1               NaN            NaN         NaN  \n",
      "4187           0               NaN            NaN         NaN  \n",
      "4189           1               NaN            NaN         NaN  \n",
      "4195           0               NaN            NaN         NaN  \n",
      "4196           1               NaN            NaN         NaN  \n",
      "4200           4               NaN            NaN         NaN  \n",
      "4202           2               NaN            NaN         NaN  \n",
      "4203           4               NaN            NaN         NaN  \n",
      "4204           0               NaN            NaN         NaN  \n",
      "4205           1               NaN            NaN         NaN  \n",
      "4207           1               NaN            NaN         NaN  \n",
      "4214           4               NaN            NaN         NaN  \n",
      "4215           4               NaN            NaN         NaN  \n",
      "4216           0               NaN            NaN         NaN  \n",
      "4217           1               NaN            NaN         NaN  \n",
      "4221           4               NaN            NaN         NaN  \n",
      "4222           4               NaN            NaN         NaN  \n",
      "4223           4               NaN            NaN         NaN  \n",
      "4224           2               NaN            NaN         NaN  \n",
      "4225           1               NaN            NaN         NaN  \n",
      "4227           1               NaN            NaN         NaN  \n",
      "4231           0               NaN            NaN         NaN  \n",
      "4232           1               NaN            NaN         NaN  \n",
      "4233           0         SPD Smith         caught   CH Morris  \n",
      "\n",
      "[42 rows x 21 columns]\n"
     ]
    }
   ],
   "source": [
    "team1 = ['Rajasthan Royals']\n",
    "smith = df1.loc[df1['batting_team'].isin(team1) & (df1['batsman'] == 'SPD Smith')]\n",
    "print(smith)"
   ]
  },
  {
   "cell_type": "code",
   "execution_count": 9,
   "metadata": {},
   "outputs": [
    {
     "name": "stdout",
     "output_type": "stream",
     "text": [
      "61\n"
     ]
    }
   ],
   "source": [
    "column_name = 'batsman_runs'\n",
    "total_runs = smith[column_name].sum()\n",
    "print(total_runs)"
   ]
  },
  {
   "cell_type": "code",
   "execution_count": 10,
   "metadata": {},
   "outputs": [
    {
     "name": "stdout",
     "output_type": "stream",
     "text": [
      "2\n"
     ]
    }
   ],
   "source": [
    "matches = smith.groupby('match_id').size().count()\n",
    "print(matches)"
   ]
  },
  {
   "cell_type": "code",
   "execution_count": 11,
   "metadata": {},
   "outputs": [
    {
     "name": "stdout",
     "output_type": "stream",
     "text": [
      "30.5\n"
     ]
    }
   ],
   "source": [
    "player_avg = total_runs/matches\n",
    "print(player_avg)"
   ]
  },
  {
   "cell_type": "code",
   "execution_count": 12,
   "metadata": {},
   "outputs": [
    {
     "name": "stdout",
     "output_type": "stream",
     "text": [
      "          Smith_Total_runs\n",
      "match_id                  \n",
      "523                     10\n",
      "11331                   51\n"
     ]
    }
   ],
   "source": [
    "Smith_runs = smith.groupby('match_id').agg({'batsman_runs': ['sum']})\n",
    "Smith_runs.columns = ['Smith_Total_runs']\n",
    "print(Smith_runs)"
   ]
  },
  {
   "cell_type": "code",
   "execution_count": null,
   "metadata": {},
   "outputs": [],
   "source": []
  }
 ],
 "metadata": {
  "kernelspec": {
   "display_name": "Python 3",
   "language": "python",
   "name": "python3"
  },
  "language_info": {
   "codemirror_mode": {
    "name": "ipython",
    "version": 3
   },
   "file_extension": ".py",
   "mimetype": "text/x-python",
   "name": "python",
   "nbconvert_exporter": "python",
   "pygments_lexer": "ipython3",
   "version": "3.7.4"
  }
 },
 "nbformat": 4,
 "nbformat_minor": 4
}
