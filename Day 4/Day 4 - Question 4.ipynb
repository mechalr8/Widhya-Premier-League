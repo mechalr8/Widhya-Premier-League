{
 "cells": [
  {
   "cell_type": "code",
   "execution_count": 2,
   "metadata": {},
   "outputs": [],
   "source": [
    "from pandas import *"
   ]
  },
  {
   "cell_type": "code",
   "execution_count": 3,
   "metadata": {
    "scrolled": true
   },
   "outputs": [
    {
     "name": "stdout",
     "output_type": "stream",
     "text": [
      "        match_id  inning         batting_team                 bowling_team  \\\n",
      "0              1       1  Sunrisers Hyderabad  Royal Challengers Bangalore   \n",
      "1              1       1  Sunrisers Hyderabad  Royal Challengers Bangalore   \n",
      "2              1       1  Sunrisers Hyderabad  Royal Challengers Bangalore   \n",
      "3              1       1  Sunrisers Hyderabad  Royal Challengers Bangalore   \n",
      "4              1       1  Sunrisers Hyderabad  Royal Challengers Bangalore   \n",
      "...          ...     ...                  ...                          ...   \n",
      "179073     11415       2  Chennai Super Kings               Mumbai Indians   \n",
      "179074     11415       2  Chennai Super Kings               Mumbai Indians   \n",
      "179075     11415       2  Chennai Super Kings               Mumbai Indians   \n",
      "179076     11415       2  Chennai Super Kings               Mumbai Indians   \n",
      "179077     11415       2  Chennai Super Kings               Mumbai Indians   \n",
      "\n",
      "        over  ball    batsman non_striker      bowler  is_super_over  ...  \\\n",
      "0          1     1  DA Warner    S Dhawan    TS Mills              0  ...   \n",
      "1          1     2  DA Warner    S Dhawan    TS Mills              0  ...   \n",
      "2          1     3  DA Warner    S Dhawan    TS Mills              0  ...   \n",
      "3          1     4  DA Warner    S Dhawan    TS Mills              0  ...   \n",
      "4          1     5  DA Warner    S Dhawan    TS Mills              0  ...   \n",
      "...      ...   ...        ...         ...         ...            ...  ...   \n",
      "179073    20     2  RA Jadeja   SR Watson  SL Malinga              0  ...   \n",
      "179074    20     3  SR Watson   RA Jadeja  SL Malinga              0  ...   \n",
      "179075    20     4  SR Watson   RA Jadeja  SL Malinga              0  ...   \n",
      "179076    20     5  SN Thakur   RA Jadeja  SL Malinga              0  ...   \n",
      "179077    20     6  SN Thakur   RA Jadeja  SL Malinga              0  ...   \n",
      "\n",
      "        bye_runs  legbye_runs  noball_runs  penalty_runs  batsman_runs  \\\n",
      "0              0            0            0             0             0   \n",
      "1              0            0            0             0             0   \n",
      "2              0            0            0             0             4   \n",
      "3              0            0            0             0             0   \n",
      "4              0            0            0             0             0   \n",
      "...          ...          ...          ...           ...           ...   \n",
      "179073         0            0            0             0             1   \n",
      "179074         0            0            0             0             2   \n",
      "179075         0            0            0             0             1   \n",
      "179076         0            0            0             0             2   \n",
      "179077         0            0            0             0             0   \n",
      "\n",
      "        extra_runs  total_runs  player_dismissed dismissal_kind    fielder  \n",
      "0                0           0               NaN            NaN        NaN  \n",
      "1                0           0               NaN            NaN        NaN  \n",
      "2                0           4               NaN            NaN        NaN  \n",
      "3                0           0               NaN            NaN        NaN  \n",
      "4                2           2               NaN            NaN        NaN  \n",
      "...            ...         ...               ...            ...        ...  \n",
      "179073           0           1               NaN            NaN        NaN  \n",
      "179074           0           2               NaN            NaN        NaN  \n",
      "179075           0           1         SR Watson        run out  KH Pandya  \n",
      "179076           0           2               NaN            NaN        NaN  \n",
      "179077           0           0         SN Thakur            lbw        NaN  \n",
      "\n",
      "[179078 rows x 21 columns]\n"
     ]
    }
   ],
   "source": [
    "df = read_csv(r'C:\\Users\\Asus\\Desktop\\WPL Datasets\\deliveries.csv')\n",
    "print(df)"
   ]
  },
  {
   "cell_type": "code",
   "execution_count": 4,
   "metadata": {
    "scrolled": true
   },
   "outputs": [
    {
     "name": "stdout",
     "output_type": "stream",
     "text": [
      "        match_id  inning      batting_team      bowling_team  over  ball  \\\n",
      "14335         62       1  Rajasthan Royals  Delhi Daredevils     1     1   \n",
      "14336         62       1  Rajasthan Royals  Delhi Daredevils     1     2   \n",
      "14337         62       1  Rajasthan Royals  Delhi Daredevils     1     3   \n",
      "14338         62       1  Rajasthan Royals  Delhi Daredevils     1     4   \n",
      "14339         62       1  Rajasthan Royals  Delhi Daredevils     1     5   \n",
      "...          ...     ...               ...               ...   ...   ...   \n",
      "177388     11344       2    Delhi Capitals  Rajasthan Royals    16     3   \n",
      "177389     11344       2    Delhi Capitals  Rajasthan Royals    16     4   \n",
      "177390     11344       2    Delhi Capitals  Rajasthan Royals    16     5   \n",
      "177391     11344       2    Delhi Capitals  Rajasthan Royals    16     6   \n",
      "177392     11344       2    Delhi Capitals  Rajasthan Royals    17     1   \n",
      "\n",
      "         batsman non_striker      bowler  is_super_over  ...  bye_runs  \\\n",
      "14335    T Kohli   YK Pathan  GD McGrath              0  ...         0   \n",
      "14336    T Kohli   YK Pathan  GD McGrath              0  ...         0   \n",
      "14337    T Kohli   YK Pathan  GD McGrath              0  ...         0   \n",
      "14338    T Kohli   YK Pathan  GD McGrath              0  ...         0   \n",
      "14339    T Kohli   YK Pathan  GD McGrath              0  ...         0   \n",
      "...          ...         ...         ...            ...  ...       ...   \n",
      "177388   RR Pant    AR Patel     S Gopal              0  ...         0   \n",
      "177389  AR Patel     RR Pant     S Gopal              0  ...         0   \n",
      "177390   RR Pant    AR Patel     S Gopal              0  ...         0   \n",
      "177391   RR Pant    AR Patel     S Gopal              0  ...         0   \n",
      "177392   RR Pant    AR Patel     I Sodhi              0  ...         0   \n",
      "\n",
      "        legbye_runs  noball_runs  penalty_runs  batsman_runs  extra_runs  \\\n",
      "14335             0            0             0             0           0   \n",
      "14336             0            0             0             0           0   \n",
      "14337             0            0             0             0           0   \n",
      "14338             0            0             0             0           1   \n",
      "14339             0            0             0             0           0   \n",
      "...             ...          ...           ...           ...         ...   \n",
      "177388            0            0             0             1           0   \n",
      "177389            0            0             0             1           0   \n",
      "177390            0            0             0             6           0   \n",
      "177391            0            0             0             1           0   \n",
      "177392            0            0             0             6           0   \n",
      "\n",
      "        total_runs  player_dismissed dismissal_kind fielder  \n",
      "14335            0               NaN            NaN     NaN  \n",
      "14336            0               NaN            NaN     NaN  \n",
      "14337            0               NaN            NaN     NaN  \n",
      "14338            1               NaN            NaN     NaN  \n",
      "14339            0               NaN            NaN     NaN  \n",
      "...            ...               ...            ...     ...  \n",
      "177388           1               NaN            NaN     NaN  \n",
      "177389           1               NaN            NaN     NaN  \n",
      "177390           6               NaN            NaN     NaN  \n",
      "177391           1               NaN            NaN     NaN  \n",
      "177392           6               NaN            NaN     NaN  \n",
      "\n",
      "[4617 rows x 21 columns]\n"
     ]
    }
   ],
   "source": [
    "team = ['Delhi Daredevils', 'Delhi Capitals', 'Rajasthan Royals']\n",
    "DCvsRR = df.loc[df['bowling_team'].isin(team) & df['batting_team'].isin(team)]\n",
    "print(DCvsRR)"
   ]
  },
  {
   "cell_type": "code",
   "execution_count": 5,
   "metadata": {
    "scrolled": true
   },
   "outputs": [
    {
     "name": "stdout",
     "output_type": "stream",
     "text": [
      "        match_id  inning      batting_team      bowling_team  over  ball  \\\n",
      "14338         62       1  Rajasthan Royals  Delhi Daredevils     1     4   \n",
      "14411         62       1  Rajasthan Royals  Delhi Daredevils    13     4   \n",
      "14468         62       2  Delhi Daredevils  Rajasthan Royals     2     6   \n",
      "14489         62       2  Delhi Daredevils  Rajasthan Royals     6     2   \n",
      "14503         62       2  Delhi Daredevils  Rajasthan Royals     8     3   \n",
      "...          ...     ...               ...               ...   ...   ...   \n",
      "177268     11344       1  Rajasthan Royals    Delhi Capitals    17     2   \n",
      "177269     11344       1  Rajasthan Royals    Delhi Capitals    17     3   \n",
      "177275     11344       1  Rajasthan Royals    Delhi Capitals    18     1   \n",
      "177292     11344       1  Rajasthan Royals    Delhi Capitals    20     5   \n",
      "177379     11344       2    Delhi Capitals  Rajasthan Royals    15     1   \n",
      "\n",
      "             batsman non_striker      bowler  is_super_over  ...  bye_runs  \\\n",
      "14338        T Kohli   YK Pathan  GD McGrath              0  ...         0   \n",
      "14411      RA Jadeja  D Salunkhe    R Bhatia              0  ...         0   \n",
      "14468       S Dhawan   G Gambhir   SR Watson              0  ...         0   \n",
      "14489      G Gambhir    S Dhawan  SK Trivedi              0  ...         0   \n",
      "14503       S Dhawan   G Gambhir  SK Trivedi              0  ...         0   \n",
      "...              ...         ...         ...            ...  ...       ...   \n",
      "177268       R Parag     I Sodhi    I Sharma              0  ...         0   \n",
      "177269       I Sodhi     R Parag    I Sharma              0  ...         0   \n",
      "177275       R Parag     I Sodhi    TA Boult              0  ...         0   \n",
      "177292       R Parag    VR Aaron    TA Boult              0  ...         0   \n",
      "177379  S Rutherford     RR Pant    VR Aaron              0  ...         0   \n",
      "\n",
      "        legbye_runs  noball_runs  penalty_runs  batsman_runs  extra_runs  \\\n",
      "14338             0            0             0             0           1   \n",
      "14411             0            0             0             0           2   \n",
      "14468             0            0             0             0           1   \n",
      "14489             0            0             0             0           1   \n",
      "14503             0            0             0             0           1   \n",
      "...             ...          ...           ...           ...         ...   \n",
      "177268            0            0             0             2           2   \n",
      "177269            0            0             0             3           3   \n",
      "177275            0            0             0             1           1   \n",
      "177292            0            0             0             1           1   \n",
      "177379            0            0             0             1           1   \n",
      "\n",
      "        total_runs  player_dismissed dismissal_kind fielder  \n",
      "14338            1               NaN            NaN     NaN  \n",
      "14411            2               NaN            NaN     NaN  \n",
      "14468            1               NaN            NaN     NaN  \n",
      "14489            1               NaN            NaN     NaN  \n",
      "14503            1               NaN            NaN     NaN  \n",
      "...            ...               ...            ...     ...  \n",
      "177268           4               NaN            NaN     NaN  \n",
      "177269           6               NaN            NaN     NaN  \n",
      "177275           2               NaN            NaN     NaN  \n",
      "177292           2               NaN            NaN     NaN  \n",
      "177379           2               NaN            NaN     NaN  \n",
      "\n",
      "[146 rows x 21 columns]\n"
     ]
    }
   ],
   "source": [
    "wide = DCvsRR.loc[(DCvsRR['wide_runs'] > 0)]\n",
    "print(wide)"
   ]
  },
  {
   "cell_type": "code",
   "execution_count": 6,
   "metadata": {
    "scrolled": true
   },
   "outputs": [
    {
     "name": "stdout",
     "output_type": "stream",
     "text": [
      "          inning  batting_team  bowling_team  over  ball  batsman  \\\n",
      "match_id                                                            \n",
      "62             8             8             8     8     8        8   \n",
      "93             8             8             8     8     8        8   \n",
      "115            6             6             6     6     6        6   \n",
      "133            6             6             6     6     6        6   \n",
      "165            6             6             6     6     6        6   \n",
      "180            9             9             9     9     9        9   \n",
      "203            6             6             6     6     6        6   \n",
      "241            4             4             4     4     4        4   \n",
      "345            7             7             7     7     7        7   \n",
      "349            4             4             4     4     4        4   \n",
      "385            8             8             8     8     8        8   \n",
      "433           10            10            10    10    10       10   \n",
      "480            4             4             4     4     4        4   \n",
      "498           10            10            10    10    10       10   \n",
      "523           12            12            12    12    12       12   \n",
      "553           15            15            15    15    15       15   \n",
      "7899           3             3             3     3     3        3   \n",
      "7925           9             9             9     9     9        9   \n",
      "11331          4             4             4     4     4        4   \n",
      "11344          7             7             7     7     7        7   \n",
      "\n",
      "          non_striker  bowler  is_super_over  wide_runs  bye_runs  \\\n",
      "match_id                                                            \n",
      "62                  8       8              8          8         8   \n",
      "93                  8       8              8          8         8   \n",
      "115                 6       6              6          6         6   \n",
      "133                 6       6              6          6         6   \n",
      "165                 6       6              6          6         6   \n",
      "180                 9       9              9          9         9   \n",
      "203                 6       6              6          6         6   \n",
      "241                 4       4              4          4         4   \n",
      "345                 7       7              7          7         7   \n",
      "349                 4       4              4          4         4   \n",
      "385                 8       8              8          8         8   \n",
      "433                10      10             10         10        10   \n",
      "480                 4       4              4          4         4   \n",
      "498                10      10             10         10        10   \n",
      "523                12      12             12         12        12   \n",
      "553                15      15             15         15        15   \n",
      "7899                3       3              3          3         3   \n",
      "7925                9       9              9          9         9   \n",
      "11331               4       4              4          4         4   \n",
      "11344               7       7              7          7         7   \n",
      "\n",
      "          legbye_runs  noball_runs  penalty_runs  batsman_runs  extra_runs  \\\n",
      "match_id                                                                     \n",
      "62                  8            8             8             8           8   \n",
      "93                  8            8             8             8           8   \n",
      "115                 6            6             6             6           6   \n",
      "133                 6            6             6             6           6   \n",
      "165                 6            6             6             6           6   \n",
      "180                 9            9             9             9           9   \n",
      "203                 6            6             6             6           6   \n",
      "241                 4            4             4             4           4   \n",
      "345                 7            7             7             7           7   \n",
      "349                 4            4             4             4           4   \n",
      "385                 8            8             8             8           8   \n",
      "433                10           10            10            10          10   \n",
      "480                 4            4             4             4           4   \n",
      "498                10           10            10            10          10   \n",
      "523                12           12            12            12          12   \n",
      "553                15           15            15            15          15   \n",
      "7899                3            3             3             3           3   \n",
      "7925                9            9             9             9           9   \n",
      "11331               4            4             4             4           4   \n",
      "11344               7            7             7             7           7   \n",
      "\n",
      "          total_runs  player_dismissed  dismissal_kind  fielder  \n",
      "match_id                                                         \n",
      "62                 8                 0               0        0  \n",
      "93                 8                 0               0        0  \n",
      "115                6                 0               0        0  \n",
      "133                6                 0               0        0  \n",
      "165                6                 0               0        0  \n",
      "180                9                 0               0        0  \n",
      "203                6                 0               0        0  \n",
      "241                4                 0               0        0  \n",
      "345                7                 0               0        0  \n",
      "349                4                 0               0        0  \n",
      "385                8                 0               0        0  \n",
      "433               10                 0               0        0  \n",
      "480                4                 0               0        0  \n",
      "498               10                 0               0        0  \n",
      "523               12                 0               0        0  \n",
      "553               15                 0               0        0  \n",
      "7899               3                 0               0        0  \n",
      "7925               9                 0               0        0  \n",
      "11331              4                 0               0        0  \n",
      "11344              7                 0               0        0  \n"
     ]
    }
   ],
   "source": [
    "N_wide = wide.groupby('match_id').count()\n",
    "print(N_wide)"
   ]
  },
  {
   "cell_type": "code",
   "execution_count": 8,
   "metadata": {},
   "outputs": [
    {
     "name": "stdout",
     "output_type": "stream",
     "text": [
      "0\n"
     ]
    }
   ],
   "source": [
    "r1 = list(range(0,2))\n",
    "a = N_wide.loc[N_wide['wide_runs'].isin(r1)]\n",
    "A = a.groupby('match_id').size().count()\n",
    "print(A)"
   ]
  },
  {
   "cell_type": "code",
   "execution_count": 9,
   "metadata": {},
   "outputs": [
    {
     "name": "stdout",
     "output_type": "stream",
     "text": [
      "1\n"
     ]
    }
   ],
   "source": [
    "r2 = list(range(2,4))\n",
    "b = N_wide.loc[N_wide['wide_runs'].isin(r2)]\n",
    "B = b.groupby('match_id').size().count()\n",
    "print(B)"
   ]
  },
  {
   "cell_type": "code",
   "execution_count": 10,
   "metadata": {},
   "outputs": [
    {
     "name": "stdout",
     "output_type": "stream",
     "text": [
      "4\n"
     ]
    }
   ],
   "source": [
    "r3 = list(range(4,6))\n",
    "c = N_wide.loc[N_wide['wide_runs'].isin(r3)]\n",
    "C = c.groupby('match_id').size().count()\n",
    "print(C)"
   ]
  },
  {
   "cell_type": "code",
   "execution_count": 12,
   "metadata": {},
   "outputs": [
    {
     "name": "stdout",
     "output_type": "stream",
     "text": [
      "15\n"
     ]
    }
   ],
   "source": [
    "max_value = N_wide['wide_runs'].max()\n",
    "r4 = list(range(6,max_value+1))\n",
    "d = N_wide.loc[N_wide['wide_runs'].isin(r4)]\n",
    "D = d.groupby('match_id').size().count()\n",
    "print(D)"
   ]
  },
  {
   "cell_type": "code",
   "execution_count": 37,
   "metadata": {},
   "outputs": [
    {
     "name": "stdout",
     "output_type": "stream",
     "text": [
      "146\n"
     ]
    }
   ],
   "source": [
    "column_name = 'wide_runs'\n",
    "total_wides = N_wide[column_name].sum()\n",
    "print(total_wides)"
   ]
  },
  {
   "cell_type": "code",
   "execution_count": 38,
   "metadata": {},
   "outputs": [
    {
     "name": "stdout",
     "output_type": "stream",
     "text": [
      "20\n"
     ]
    }
   ],
   "source": [
    "matches = N_wide.groupby('match_id').size().count()\n",
    "print(matches)"
   ]
  },
  {
   "cell_type": "code",
   "execution_count": 39,
   "metadata": {},
   "outputs": [
    {
     "name": "stdout",
     "output_type": "stream",
     "text": [
      "7.3\n"
     ]
    }
   ],
   "source": [
    "avg_wides = total_wides/matches\n",
    "print(avg_wides)"
   ]
  },
  {
   "cell_type": "code",
   "execution_count": null,
   "metadata": {},
   "outputs": [],
   "source": []
  }
 ],
 "metadata": {
  "kernelspec": {
   "display_name": "Python 3",
   "language": "python",
   "name": "python3"
  },
  "language_info": {
   "codemirror_mode": {
    "name": "ipython",
    "version": 3
   },
   "file_extension": ".py",
   "mimetype": "text/x-python",
   "name": "python",
   "nbconvert_exporter": "python",
   "pygments_lexer": "ipython3",
   "version": "3.7.4"
  }
 },
 "nbformat": 4,
 "nbformat_minor": 4
}
