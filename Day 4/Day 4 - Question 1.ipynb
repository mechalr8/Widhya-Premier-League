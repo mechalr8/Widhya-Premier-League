{
 "cells": [
  {
   "cell_type": "code",
   "execution_count": 1,
   "metadata": {},
   "outputs": [],
   "source": [
    "from pandas import *"
   ]
  },
  {
   "cell_type": "code",
   "execution_count": 2,
   "metadata": {},
   "outputs": [],
   "source": [
    "df = read_csv(r'C:\\Users\\Asus\\Desktop\\WPL Datasets\\matches.csv')"
   ]
  },
  {
   "cell_type": "code",
   "execution_count": 3,
   "metadata": {
    "scrolled": true
   },
   "outputs": [
    {
     "name": "stdout",
     "output_type": "stream",
     "text": [
      "        id  season           city       date                        team1  \\\n",
      "0        1    2017      Hyderabad   4/5/2017          Sunrisers Hyderabad   \n",
      "1        2    2017           Pune   4/6/2017               Mumbai Indians   \n",
      "2        3    2017         Rajkot   4/7/2017                Gujarat Lions   \n",
      "3        4    2017         Indore   4/8/2017       Rising Pune Supergiant   \n",
      "4        5    2017      Bangalore   4/8/2017  Royal Challengers Bangalore   \n",
      "..     ...     ...            ...        ...                          ...   \n",
      "751  11347    2019         Mumbai   5/5/2019        Kolkata Knight Riders   \n",
      "752  11412    2019        Chennai   7/5/2019          Chennai Super Kings   \n",
      "753  11413    2019  Visakhapatnam   8/5/2019          Sunrisers Hyderabad   \n",
      "754  11414    2019  Visakhapatnam  10/5/2019               Delhi Capitals   \n",
      "755  11415    2019      Hyderabad  12/5/2019               Mumbai Indians   \n",
      "\n",
      "                           team2                  toss_winner toss_decision  \\\n",
      "0    Royal Challengers Bangalore  Royal Challengers Bangalore         field   \n",
      "1         Rising Pune Supergiant       Rising Pune Supergiant         field   \n",
      "2          Kolkata Knight Riders        Kolkata Knight Riders         field   \n",
      "3                Kings XI Punjab              Kings XI Punjab         field   \n",
      "4               Delhi Daredevils  Royal Challengers Bangalore           bat   \n",
      "..                           ...                          ...           ...   \n",
      "751               Mumbai Indians               Mumbai Indians         field   \n",
      "752               Mumbai Indians          Chennai Super Kings           bat   \n",
      "753               Delhi Capitals               Delhi Capitals         field   \n",
      "754          Chennai Super Kings          Chennai Super Kings         field   \n",
      "755          Chennai Super Kings               Mumbai Indians           bat   \n",
      "\n",
      "     result  dl_applied                       winner  win_by_runs  \\\n",
      "0    normal           0          Sunrisers Hyderabad           35   \n",
      "1    normal           0       Rising Pune Supergiant            0   \n",
      "2    normal           0        Kolkata Knight Riders            0   \n",
      "3    normal           0              Kings XI Punjab            0   \n",
      "4    normal           0  Royal Challengers Bangalore           15   \n",
      "..      ...         ...                          ...          ...   \n",
      "751  normal           0               Mumbai Indians            0   \n",
      "752  normal           0               Mumbai Indians            0   \n",
      "753  normal           0               Delhi Capitals            0   \n",
      "754  normal           0          Chennai Super Kings            0   \n",
      "755  normal           0               Mumbai Indians            1   \n",
      "\n",
      "     win_by_wickets player_of_match  \\\n",
      "0                 0    Yuvraj Singh   \n",
      "1                 7       SPD Smith   \n",
      "2                10         CA Lynn   \n",
      "3                 6      GJ Maxwell   \n",
      "4                 0       KM Jadhav   \n",
      "..              ...             ...   \n",
      "751               9       HH Pandya   \n",
      "752               6        AS Yadav   \n",
      "753               2         RR Pant   \n",
      "754               6    F du Plessis   \n",
      "755               0       JJ Bumrah   \n",
      "\n",
      "                                         venue         umpire1  \\\n",
      "0    Rajiv Gandhi International Stadium, Uppal     AY Dandekar   \n",
      "1      Maharashtra Cricket Association Stadium  A Nand Kishore   \n",
      "2       Saurashtra Cricket Association Stadium     Nitin Menon   \n",
      "3                       Holkar Cricket Stadium    AK Chaudhary   \n",
      "4                        M Chinnaswamy Stadium             NaN   \n",
      "..                                         ...             ...   \n",
      "751                           Wankhede Stadium   Nanda Kishore   \n",
      "752                  M. A. Chidambaram Stadium     Nigel Llong   \n",
      "753                           ACA-VDCA Stadium             NaN   \n",
      "754                           ACA-VDCA Stadium   Sundaram Ravi   \n",
      "755         Rajiv Gandhi Intl. Cricket Stadium     Nitin Menon   \n",
      "\n",
      "            umpire2                  umpire3  \n",
      "0          NJ Llong                      NaN  \n",
      "1            S Ravi                      NaN  \n",
      "2         CK Nandan                      NaN  \n",
      "3     C Shamshuddin                      NaN  \n",
      "4               NaN                      NaN  \n",
      "..              ...                      ...  \n",
      "751        O Nandan                   S Ravi  \n",
      "752     Nitin Menon                Ian Gould  \n",
      "753             NaN                      NaN  \n",
      "754  Bruce Oxenford  Chettithody Shamshuddin  \n",
      "755       Ian Gould              Nigel Llong  \n",
      "\n",
      "[756 rows x 18 columns]\n"
     ]
    }
   ],
   "source": [
    "print(df)"
   ]
  },
  {
   "cell_type": "code",
   "execution_count": 4,
   "metadata": {},
   "outputs": [
    {
     "name": "stdout",
     "output_type": "stream",
     "text": [
      "        id  season          city       date             team1  \\\n",
      "61      62    2008         Delhi  4/19/2008  Rajasthan Royals   \n",
      "92      93    2008        Jaipur  5/11/2008  Delhi Daredevils   \n",
      "114    115    2008        Mumbai  5/30/2008  Rajasthan Royals   \n",
      "132    133    2009     Centurion  4/28/2009  Delhi Daredevils   \n",
      "164    165    2009  Bloemfontein  5/17/2009  Delhi Daredevils   \n",
      "179    180    2010     Ahmedabad  3/15/2010  Rajasthan Royals   \n",
      "202    203    2010         Delhi  3/31/2010  Delhi Daredevils   \n",
      "240    241    2011        Jaipur  4/12/2011  Delhi Daredevils   \n",
      "344    345    2012         Delhi  4/29/2012  Delhi Daredevils   \n",
      "348    349    2012        Jaipur   5/1/2012  Rajasthan Royals   \n",
      "384    385    2013         Delhi   4/6/2013  Rajasthan Royals   \n",
      "432    433    2013        Jaipur   5/7/2013  Delhi Daredevils   \n",
      "479    480    2014         Delhi   5/3/2014  Delhi Daredevils   \n",
      "497    498    2014     Ahmedabad  5/15/2014  Rajasthan Royals   \n",
      "522    523    2015         Delhi  4/12/2015  Delhi Daredevils   \n",
      "552    553    2015        Mumbai   5/3/2015  Rajasthan Royals   \n",
      "641   7899    2018        Jaipur  11/4/2018  Rajasthan Royals   \n",
      "667   7925    2018         Delhi   2/5/2018  Delhi Daredevils   \n",
      "735  11331    2019        Jaipur   22/04/19  Rajasthan Royals   \n",
      "748  11344    2019         Delhi   4/5/2019  Rajasthan Royals   \n",
      "\n",
      "                team2       toss_winner toss_decision  result  dl_applied  \\\n",
      "61   Delhi Daredevils  Rajasthan Royals           bat  normal           0   \n",
      "92   Rajasthan Royals  Rajasthan Royals         field  normal           0   \n",
      "114  Delhi Daredevils  Delhi Daredevils         field  normal           0   \n",
      "132  Rajasthan Royals  Delhi Daredevils           bat  normal           0   \n",
      "164  Rajasthan Royals  Delhi Daredevils           bat  normal           0   \n",
      "179  Delhi Daredevils  Delhi Daredevils         field  normal           0   \n",
      "202  Rajasthan Royals  Delhi Daredevils           bat  normal           0   \n",
      "240  Rajasthan Royals  Delhi Daredevils           bat  normal           0   \n",
      "344  Rajasthan Royals  Delhi Daredevils           bat  normal           0   \n",
      "348  Delhi Daredevils  Rajasthan Royals           bat  normal           0   \n",
      "384  Delhi Daredevils  Rajasthan Royals           bat  normal           0   \n",
      "432  Rajasthan Royals  Delhi Daredevils           bat  normal           0   \n",
      "479  Rajasthan Royals  Rajasthan Royals         field  normal           0   \n",
      "497  Delhi Daredevils  Delhi Daredevils         field  normal           0   \n",
      "522  Rajasthan Royals  Rajasthan Royals         field  normal           0   \n",
      "552  Delhi Daredevils  Delhi Daredevils         field  normal           0   \n",
      "641  Delhi Daredevils  Delhi Daredevils         field  normal           1   \n",
      "667  Rajasthan Royals  Rajasthan Royals         field  normal           1   \n",
      "735    Delhi Capitals    Delhi Capitals         field  normal           0   \n",
      "748    Delhi Capitals  Rajasthan Royals           bat  normal           0   \n",
      "\n",
      "               winner  win_by_runs  win_by_wickets player_of_match  \\\n",
      "61   Delhi Daredevils            0               9     MF Maharoof   \n",
      "92   Rajasthan Royals            0               3       SR Watson   \n",
      "114  Rajasthan Royals          105               0       SR Watson   \n",
      "132  Rajasthan Royals            0               5       YK Pathan   \n",
      "164  Delhi Daredevils           14               0  AB de Villiers   \n",
      "179  Delhi Daredevils            0               6        V Sehwag   \n",
      "202  Delhi Daredevils           67               0      KD Karthik   \n",
      "240  Rajasthan Royals            0               6        SK Warne   \n",
      "344  Delhi Daredevils            1               0        V Sehwag   \n",
      "348  Delhi Daredevils            0               6          P Negi   \n",
      "384  Rajasthan Royals            5               0        R Dravid   \n",
      "432  Rajasthan Royals            0               9       AM Rahane   \n",
      "479  Rajasthan Royals            0               7         KK Nair   \n",
      "497  Rajasthan Royals           62               0       AM Rahane   \n",
      "522  Rajasthan Royals            0               3        DJ Hooda   \n",
      "552  Rajasthan Royals           14               0       AM Rahane   \n",
      "641  Rajasthan Royals           10               0       SV Samson   \n",
      "667  Delhi Daredevils            4               0         RR Pant   \n",
      "735    Delhi Capitals            0               6         RR Pant   \n",
      "748    Delhi Capitals            0               5        A Mishra   \n",
      "\n",
      "                            venue               umpire1  \\\n",
      "61               Feroz Shah Kotla             Aleem Dar   \n",
      "92         Sawai Mansingh Stadium              SJ Davis   \n",
      "114              Wankhede Stadium             BF Bowden   \n",
      "132               SuperSport Park            GAV Baxter   \n",
      "164               OUTsurance Oval             SS Hazare   \n",
      "179  Sardar Patel Stadium, Motera            BG Jerling   \n",
      "202              Feroz Shah Kotla       HDPK Dharmasena   \n",
      "240        Sawai Mansingh Stadium             Aleem Dar   \n",
      "344              Feroz Shah Kotla                S Ravi   \n",
      "348        Sawai Mansingh Stadium             JD Cloete   \n",
      "384              Feroz Shah Kotla                 S Das   \n",
      "432        Sawai Mansingh Stadium             Aleem Dar   \n",
      "479              Feroz Shah Kotla             SS Hazare   \n",
      "497  Sardar Patel Stadium, Motera                S Ravi   \n",
      "522              Feroz Shah Kotla                SD Fry   \n",
      "552             Brabourne Stadium       HDPK Dharmasena   \n",
      "641        Sawai Mansingh Stadium  K Ananthapadmanabhan   \n",
      "667              Feroz Shah Kotla              O Nandan   \n",
      "735        Sawai Mansingh Stadium                S Ravi   \n",
      "748       Feroz Shah Kotla Ground             Ian Gould   \n",
      "\n",
      "                   umpire2         umpire3  \n",
      "61          GA Pratapkumar             NaN  \n",
      "92             RE Koertzen             NaN  \n",
      "114            RE Koertzen             NaN  \n",
      "132            RE Koertzen             NaN  \n",
      "164              IL Howell             NaN  \n",
      "179            RE Koertzen             NaN  \n",
      "202             SJA Taufel             NaN  \n",
      "240              RB Tiffin             NaN  \n",
      "344              RJ Tucker             NaN  \n",
      "348             SJA Taufel             NaN  \n",
      "384          C Shamshuddin             NaN  \n",
      "432              RJ Tucker             NaN  \n",
      "479                 S Ravi             NaN  \n",
      "497              RJ Tucker             NaN  \n",
      "522            CB Gaffaney             NaN  \n",
      "552            CB Gaffaney             NaN  \n",
      "641             Rod Tucker     Nitin Menon  \n",
      "667  Virender Kumar Sharma  Bruce Oxenford  \n",
      "735          Nanda Kishore  Yeshwant Barde  \n",
      "748          Anil Dandekar     Nitin Menon  \n"
     ]
    }
   ],
   "source": [
    "team = ['Delhi Daredevils', 'Delhi Capitals', 'Rajasthan Royals']\n",
    "DCvsRR = df.loc[df['team1'].isin(team) & df['team2'].isin(team)]\n",
    "print(DCvsRR)"
   ]
  },
  {
   "cell_type": "code",
   "execution_count": 5,
   "metadata": {},
   "outputs": [
    {
     "name": "stdout",
     "output_type": "stream",
     "text": [
      "TOTAL MATCHES PLAYED BETWEEN DC AND RR: 20\n"
     ]
    }
   ],
   "source": [
    "total_matches = DCvsRR.groupby('id').size().count()\n",
    "print(\"TOTAL MATCHES PLAYED BETWEEN DC AND RR:\",total_matches)"
   ]
  },
  {
   "cell_type": "code",
   "execution_count": 7,
   "metadata": {
    "scrolled": true
   },
   "outputs": [
    {
     "name": "stdout",
     "output_type": "stream",
     "text": [
      "DC WON 9 Matches\n"
     ]
    }
   ],
   "source": [
    "WinDC = DCvsRR.loc[(DCvsRR['winner'] == 'Delhi Daredevils') | (df['winner'] == 'Delhi Capitals')]\n",
    "TimesWinDC = WinDC.groupby('id').size().count()\n",
    "print(\"DC WON\",TimesWinDC,\"Matches\")"
   ]
  },
  {
   "cell_type": "code",
   "execution_count": 8,
   "metadata": {},
   "outputs": [
    {
     "name": "stdout",
     "output_type": "stream",
     "text": [
      "RR WON 11 MATCHES\n"
     ]
    }
   ],
   "source": [
    "WinRR = DCvsRR.loc[(DCvsRR['winner'] == 'Rajasthan Royals')]\n",
    "TimesWinRR = WinRR.groupby('id').size().count()\n",
    "print(\"RR WON\",TimesWinRR,\"MATCHES\")"
   ]
  },
  {
   "cell_type": "code",
   "execution_count": null,
   "metadata": {},
   "outputs": [],
   "source": []
  }
 ],
 "metadata": {
  "kernelspec": {
   "display_name": "Python 3",
   "language": "python",
   "name": "python3"
  },
  "language_info": {
   "codemirror_mode": {
    "name": "ipython",
    "version": 3
   },
   "file_extension": ".py",
   "mimetype": "text/x-python",
   "name": "python",
   "nbconvert_exporter": "python",
   "pygments_lexer": "ipython3",
   "version": "3.7.4"
  }
 },
 "nbformat": 4,
 "nbformat_minor": 4
}
