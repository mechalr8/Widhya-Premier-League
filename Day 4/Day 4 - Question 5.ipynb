{
 "cells": [
  {
   "cell_type": "code",
   "execution_count": 1,
   "metadata": {},
   "outputs": [],
   "source": [
    "from pandas import *"
   ]
  },
  {
   "cell_type": "code",
   "execution_count": 5,
   "metadata": {
    "scrolled": true
   },
   "outputs": [
    {
     "name": "stdout",
     "output_type": "stream",
     "text": [
      "      match_id  inning      batting_team      bowling_team  over  ball  \\\n",
      "0           62       1  Rajasthan Royals  Delhi Daredevils     1     1   \n",
      "1           62       1  Rajasthan Royals  Delhi Daredevils     1     2   \n",
      "2           62       1  Rajasthan Royals  Delhi Daredevils     1     3   \n",
      "3           62       1  Rajasthan Royals  Delhi Daredevils     1     4   \n",
      "4           62       1  Rajasthan Royals  Delhi Daredevils     1     5   \n",
      "...        ...     ...               ...               ...   ...   ...   \n",
      "4612     11344       2    Delhi Capitals  Rajasthan Royals    16     3   \n",
      "4613     11344       2    Delhi Capitals  Rajasthan Royals    16     4   \n",
      "4614     11344       2    Delhi Capitals  Rajasthan Royals    16     5   \n",
      "4615     11344       2    Delhi Capitals  Rajasthan Royals    16     6   \n",
      "4616     11344       2    Delhi Capitals  Rajasthan Royals    17     1   \n",
      "\n",
      "       batsman non_striker      bowler  is_super_over  ...  bye_runs  \\\n",
      "0      T Kohli   YK Pathan  GD McGrath              0  ...         0   \n",
      "1      T Kohli   YK Pathan  GD McGrath              0  ...         0   \n",
      "2      T Kohli   YK Pathan  GD McGrath              0  ...         0   \n",
      "3      T Kohli   YK Pathan  GD McGrath              0  ...         0   \n",
      "4      T Kohli   YK Pathan  GD McGrath              0  ...         0   \n",
      "...        ...         ...         ...            ...  ...       ...   \n",
      "4612   RR Pant    AR Patel     S Gopal              0  ...         0   \n",
      "4613  AR Patel     RR Pant     S Gopal              0  ...         0   \n",
      "4614   RR Pant    AR Patel     S Gopal              0  ...         0   \n",
      "4615   RR Pant    AR Patel     S Gopal              0  ...         0   \n",
      "4616   RR Pant    AR Patel     I Sodhi              0  ...         0   \n",
      "\n",
      "      legbye_runs  noball_runs  penalty_runs  batsman_runs  extra_runs  \\\n",
      "0               0            0             0             0           0   \n",
      "1               0            0             0             0           0   \n",
      "2               0            0             0             0           0   \n",
      "3               0            0             0             0           1   \n",
      "4               0            0             0             0           0   \n",
      "...           ...          ...           ...           ...         ...   \n",
      "4612            0            0             0             1           0   \n",
      "4613            0            0             0             1           0   \n",
      "4614            0            0             0             6           0   \n",
      "4615            0            0             0             1           0   \n",
      "4616            0            0             0             6           0   \n",
      "\n",
      "      total_runs  player_dismissed dismissal_kind fielder  \n",
      "0              0               NaN            NaN     NaN  \n",
      "1              0               NaN            NaN     NaN  \n",
      "2              0               NaN            NaN     NaN  \n",
      "3              1               NaN            NaN     NaN  \n",
      "4              0               NaN            NaN     NaN  \n",
      "...          ...               ...            ...     ...  \n",
      "4612           1               NaN            NaN     NaN  \n",
      "4613           1               NaN            NaN     NaN  \n",
      "4614           6               NaN            NaN     NaN  \n",
      "4615           1               NaN            NaN     NaN  \n",
      "4616           6               NaN            NaN     NaN  \n",
      "\n",
      "[4617 rows x 21 columns]\n"
     ]
    }
   ],
   "source": [
    "df = read_csv(r'C:\\Users\\Asus\\Desktop\\WPL Datasets\\Rajasthan vs Delhi deliveries.csv')\n",
    "print(df)"
   ]
  },
  {
   "cell_type": "code",
   "execution_count": 6,
   "metadata": {
    "scrolled": true
   },
   "outputs": [
    {
     "name": "stdout",
     "output_type": "stream",
     "text": [
      "      match_id  inning      batting_team      bowling_team  over  ball  \\\n",
      "0           62       1  Rajasthan Royals  Delhi Daredevils     1     1   \n",
      "1           62       1  Rajasthan Royals  Delhi Daredevils     1     2   \n",
      "2           62       1  Rajasthan Royals  Delhi Daredevils     1     3   \n",
      "3           62       1  Rajasthan Royals  Delhi Daredevils     1     4   \n",
      "4           62       1  Rajasthan Royals  Delhi Daredevils     1     5   \n",
      "...        ...     ...               ...               ...   ...   ...   \n",
      "4612     11344       2    Delhi Capitals  Rajasthan Royals    16     3   \n",
      "4613     11344       2    Delhi Capitals  Rajasthan Royals    16     4   \n",
      "4614     11344       2    Delhi Capitals  Rajasthan Royals    16     5   \n",
      "4615     11344       2    Delhi Capitals  Rajasthan Royals    16     6   \n",
      "4616     11344       2    Delhi Capitals  Rajasthan Royals    17     1   \n",
      "\n",
      "       batsman non_striker      bowler  is_super_over  wide_runs  bye_runs  \\\n",
      "0      T Kohli   YK Pathan  GD McGrath              0          0         0   \n",
      "1      T Kohli   YK Pathan  GD McGrath              0          0         0   \n",
      "2      T Kohli   YK Pathan  GD McGrath              0          0         0   \n",
      "3      T Kohli   YK Pathan  GD McGrath              0          1         0   \n",
      "4      T Kohli   YK Pathan  GD McGrath              0          0         0   \n",
      "...        ...         ...         ...            ...        ...       ...   \n",
      "4612   RR Pant    AR Patel     S Gopal              0          0         0   \n",
      "4613  AR Patel     RR Pant     S Gopal              0          0         0   \n",
      "4614   RR Pant    AR Patel     S Gopal              0          0         0   \n",
      "4615   RR Pant    AR Patel     S Gopal              0          0         0   \n",
      "4616   RR Pant    AR Patel     I Sodhi              0          0         0   \n",
      "\n",
      "      legbye_runs  noball_runs  penalty_runs  batsman_runs  extra_runs  \\\n",
      "0               0            0             0             0           0   \n",
      "1               0            0             0             0           0   \n",
      "2               0            0             0             0           0   \n",
      "3               0            0             0             0           1   \n",
      "4               0            0             0             0           0   \n",
      "...           ...          ...           ...           ...         ...   \n",
      "4612            0            0             0             1           0   \n",
      "4613            0            0             0             1           0   \n",
      "4614            0            0             0             6           0   \n",
      "4615            0            0             0             1           0   \n",
      "4616            0            0             0             6           0   \n",
      "\n",
      "      total_runs player_dismissed  \n",
      "0              0              NaN  \n",
      "1              0              NaN  \n",
      "2              0              NaN  \n",
      "3              1              NaN  \n",
      "4              0              NaN  \n",
      "...          ...              ...  \n",
      "4612           1              NaN  \n",
      "4613           1              NaN  \n",
      "4614           6              NaN  \n",
      "4615           1              NaN  \n",
      "4616           6              NaN  \n",
      "\n",
      "[4617 rows x 19 columns]\n"
     ]
    }
   ],
   "source": [
    "df1 = df.drop(['fielder', 'dismissal_kind'], axis = 1)\n",
    "print(df1)"
   ]
  },
  {
   "cell_type": "code",
   "execution_count": 7,
   "metadata": {
    "scrolled": true
   },
   "outputs": [
    {
     "name": "stdout",
     "output_type": "stream",
     "text": [
      "      match_id  inning      batting_team      bowling_team  over  ball  \\\n",
      "0           62       1  Rajasthan Royals  Delhi Daredevils     1     1   \n",
      "1           62       1  Rajasthan Royals  Delhi Daredevils     1     2   \n",
      "2           62       1  Rajasthan Royals  Delhi Daredevils     1     3   \n",
      "3           62       1  Rajasthan Royals  Delhi Daredevils     1     4   \n",
      "4           62       1  Rajasthan Royals  Delhi Daredevils     1     5   \n",
      "...        ...     ...               ...               ...   ...   ...   \n",
      "4612     11344       2    Delhi Capitals  Rajasthan Royals    16     3   \n",
      "4613     11344       2    Delhi Capitals  Rajasthan Royals    16     4   \n",
      "4614     11344       2    Delhi Capitals  Rajasthan Royals    16     5   \n",
      "4615     11344       2    Delhi Capitals  Rajasthan Royals    16     6   \n",
      "4616     11344       2    Delhi Capitals  Rajasthan Royals    17     1   \n",
      "\n",
      "       batsman non_striker      bowler  is_super_over  wide_runs  bye_runs  \\\n",
      "0      T Kohli   YK Pathan  GD McGrath              0          0         0   \n",
      "1      T Kohli   YK Pathan  GD McGrath              0          0         0   \n",
      "2      T Kohli   YK Pathan  GD McGrath              0          0         0   \n",
      "3      T Kohli   YK Pathan  GD McGrath              0          1         0   \n",
      "4      T Kohli   YK Pathan  GD McGrath              0          0         0   \n",
      "...        ...         ...         ...            ...        ...       ...   \n",
      "4612   RR Pant    AR Patel     S Gopal              0          0         0   \n",
      "4613  AR Patel     RR Pant     S Gopal              0          0         0   \n",
      "4614   RR Pant    AR Patel     S Gopal              0          0         0   \n",
      "4615   RR Pant    AR Patel     S Gopal              0          0         0   \n",
      "4616   RR Pant    AR Patel     I Sodhi              0          0         0   \n",
      "\n",
      "      legbye_runs  noball_runs  penalty_runs  batsman_runs  extra_runs  \\\n",
      "0               0            0             0             0           0   \n",
      "1               0            0             0             0           0   \n",
      "2               0            0             0             0           0   \n",
      "3               0            0             0             0           1   \n",
      "4               0            0             0             0           0   \n",
      "...           ...          ...           ...           ...         ...   \n",
      "4612            0            0             0             1           0   \n",
      "4613            0            0             0             1           0   \n",
      "4614            0            0             0             6           0   \n",
      "4615            0            0             0             1           0   \n",
      "4616            0            0             0             6           0   \n",
      "\n",
      "      total_runs player_dismissed  \n",
      "0              0              NaN  \n",
      "1              0              NaN  \n",
      "2              0              NaN  \n",
      "3              1              NaN  \n",
      "4              0              NaN  \n",
      "...          ...              ...  \n",
      "4612           1              NaN  \n",
      "4613           1              NaN  \n",
      "4614           6              NaN  \n",
      "4615           1              NaN  \n",
      "4616           6              NaN  \n",
      "\n",
      "[4617 rows x 19 columns]\n"
     ]
    }
   ],
   "source": [
    "team = ['Delhi Daredevils', 'Delhi Capitals', 'Rajasthan Royals']\n",
    "DCvsRR = df1.loc[df1['batting_team'].isin(team) & df1['bowling_team'].isin(team)]\n",
    "print(DCvsRR)"
   ]
  },
  {
   "cell_type": "code",
   "execution_count": 8,
   "metadata": {
    "scrolled": true
   },
   "outputs": [
    {
     "name": "stdout",
     "output_type": "stream",
     "text": [
      "      match_id  inning      batting_team      bowling_team  over  ball  \\\n",
      "15          62       1  Rajasthan Royals  Delhi Daredevils     3     3   \n",
      "23          62       1  Rajasthan Royals  Delhi Daredevils     4     5   \n",
      "38          62       1  Rajasthan Royals  Delhi Daredevils     7     2   \n",
      "46          62       1  Rajasthan Royals  Delhi Daredevils     8     4   \n",
      "63          62       1  Rajasthan Royals  Delhi Daredevils    11     3   \n",
      "...        ...     ...               ...               ...   ...   ...   \n",
      "4537     11344       2    Delhi Capitals  Rajasthan Royals     4     1   \n",
      "4538     11344       2    Delhi Capitals  Rajasthan Royals     4     2   \n",
      "4563     11344       2    Delhi Capitals  Rajasthan Royals     8     3   \n",
      "4600     11344       2    Delhi Capitals  Rajasthan Royals    14     4   \n",
      "4611     11344       2    Delhi Capitals  Rajasthan Royals    16     2   \n",
      "\n",
      "           batsman non_striker       bowler  is_super_over  wide_runs  \\\n",
      "15         T Kohli   YK Pathan   GD McGrath              0          0   \n",
      "23       YK Pathan   SR Watson     B Geeves              0          0   \n",
      "38       SR Watson      M Kaif     R Bhatia              0          0   \n",
      "46      DS Lehmann      M Kaif  MF Maharoof              0          0   \n",
      "63          M Kaif   RA Jadeja     R Bhatia              0          0   \n",
      "...            ...         ...          ...            ...        ...   \n",
      "4537      S Dhawan      P Shaw      I Sodhi              0          0   \n",
      "4538        P Shaw     SS Iyer      I Sodhi              0          0   \n",
      "4563       SS Iyer     RR Pant      S Gopal              0          0   \n",
      "4600      C Ingram     RR Pant      I Sodhi              0          0   \n",
      "4611  S Rutherford     RR Pant      S Gopal              0          0   \n",
      "\n",
      "      bye_runs  legbye_runs  noball_runs  penalty_runs  batsman_runs  \\\n",
      "15           0            0            0             0             0   \n",
      "23           0            0            0             0             0   \n",
      "38           0            0            0             0             1   \n",
      "46           0            0            0             0             0   \n",
      "63           0            0            0             0             0   \n",
      "...        ...          ...          ...           ...           ...   \n",
      "4537         0            0            0             0             0   \n",
      "4538         0            0            0             0             0   \n",
      "4563         0            0            0             0             0   \n",
      "4600         0            0            0             0             0   \n",
      "4611         0            0            0             0             0   \n",
      "\n",
      "      extra_runs  total_runs player_dismissed  \n",
      "15             0           0          T Kohli  \n",
      "23             0           0        YK Pathan  \n",
      "38             0           1        SR Watson  \n",
      "46             0           0       DS Lehmann  \n",
      "63             0           0           M Kaif  \n",
      "...          ...         ...              ...  \n",
      "4537           0           0         S Dhawan  \n",
      "4538           0           0           P Shaw  \n",
      "4563           0           0          SS Iyer  \n",
      "4600           0           0         C Ingram  \n",
      "4611           0           0     S Rutherford  \n",
      "\n",
      "[225 rows x 19 columns]\n"
     ]
    }
   ],
   "source": [
    "wickets = DCvsRR.dropna()\n",
    "print(wickets)"
   ]
  },
  {
   "cell_type": "code",
   "execution_count": 13,
   "metadata": {},
   "outputs": [
    {
     "name": "stdout",
     "output_type": "stream",
     "text": [
      "      match_id player_dismissed\n",
      "15          62          T Kohli\n",
      "23          62        YK Pathan\n",
      "38          62        SR Watson\n",
      "46          62       DS Lehmann\n",
      "63          62           M Kaif\n",
      "...        ...              ...\n",
      "4537     11344         S Dhawan\n",
      "4538     11344           P Shaw\n",
      "4563     11344          SS Iyer\n",
      "4600     11344         C Ingram\n",
      "4611     11344     S Rutherford\n",
      "\n",
      "[225 rows x 2 columns]\n"
     ]
    }
   ],
   "source": [
    "N_Wickets = wickets[['match_id', 'player_dismissed']]\n",
    "print(N_Wickets)"
   ]
  },
  {
   "cell_type": "code",
   "execution_count": 16,
   "metadata": {
    "scrolled": true
   },
   "outputs": [
    {
     "name": "stdout",
     "output_type": "stream",
     "text": [
      "          player_dismissed\n",
      "match_id                  \n",
      "62                       9\n",
      "93                      14\n",
      "115                     19\n",
      "133                     12\n",
      "165                     12\n",
      "180                     10\n",
      "203                     16\n",
      "241                     10\n",
      "345                      9\n",
      "349                     10\n",
      "385                     13\n",
      "433                      5\n",
      "480                      8\n",
      "498                     15\n",
      "523                     10\n",
      "553                      9\n",
      "7899                     9\n",
      "7925                    11\n",
      "11331                   10\n",
      "11344                   14\n"
     ]
    }
   ],
   "source": [
    "Wickets_Every_Match = N_Wickets.groupby('match_id').count()\n",
    "print(Wickets_Every_Match)"
   ]
  },
  {
   "cell_type": "code",
   "execution_count": 19,
   "metadata": {},
   "outputs": [
    {
     "name": "stdout",
     "output_type": "stream",
     "text": [
      "1\n"
     ]
    }
   ],
   "source": [
    "r1 = list(range(0,6))\n",
    "a = Wickets_Every_Match.loc[Wickets_Every_Match['player_dismissed'].isin(r1)]\n",
    "A = a.groupby('match_id').size().count()\n",
    "print(A)"
   ]
  },
  {
   "cell_type": "code",
   "execution_count": 21,
   "metadata": {},
   "outputs": [
    {
     "name": "stdout",
     "output_type": "stream",
     "text": [
      "10\n"
     ]
    }
   ],
   "source": [
    "r2 = list(range(6,11))\n",
    "b = Wickets_Every_Match.loc[Wickets_Every_Match['player_dismissed'].isin(r2)]\n",
    "B = b.groupby('match_id').size().count()\n",
    "print(B)"
   ]
  },
  {
   "cell_type": "code",
   "execution_count": 22,
   "metadata": {},
   "outputs": [
    {
     "name": "stdout",
     "output_type": "stream",
     "text": [
      "7\n"
     ]
    }
   ],
   "source": [
    "r3 = list(range(11,16))\n",
    "c = Wickets_Every_Match.loc[Wickets_Every_Match['player_dismissed'].isin(r3)]\n",
    "C = c.groupby('match_id').size().count()\n",
    "print(C)"
   ]
  },
  {
   "cell_type": "code",
   "execution_count": 23,
   "metadata": {},
   "outputs": [
    {
     "name": "stdout",
     "output_type": "stream",
     "text": [
      "2\n"
     ]
    }
   ],
   "source": [
    "r4 = list(range(16,21))\n",
    "d = Wickets_Every_Match.loc[Wickets_Every_Match['player_dismissed'].isin(r4)]\n",
    "D = d.groupby('match_id').size().count()\n",
    "print(D)"
   ]
  },
  {
   "cell_type": "code",
   "execution_count": 24,
   "metadata": {},
   "outputs": [
    {
     "name": "stdout",
     "output_type": "stream",
     "text": [
      "225\n"
     ]
    }
   ],
   "source": [
    "total = Wickets_Every_Match['player_dismissed'].sum()\n",
    "print(total)"
   ]
  },
  {
   "cell_type": "code",
   "execution_count": 27,
   "metadata": {},
   "outputs": [
    {
     "name": "stdout",
     "output_type": "stream",
     "text": [
      "20\n"
     ]
    }
   ],
   "source": [
    "matches = Wickets_Every_Match.groupby('match_id').size().count()\n",
    "print(matches)"
   ]
  },
  {
   "cell_type": "code",
   "execution_count": 28,
   "metadata": {},
   "outputs": [
    {
     "name": "stdout",
     "output_type": "stream",
     "text": [
      "11.25\n"
     ]
    }
   ],
   "source": [
    "Avg = total/matches\n",
    "print(Avg)"
   ]
  },
  {
   "cell_type": "code",
   "execution_count": null,
   "metadata": {},
   "outputs": [],
   "source": []
  }
 ],
 "metadata": {
  "kernelspec": {
   "display_name": "Python 3",
   "language": "python",
   "name": "python3"
  },
  "language_info": {
   "codemirror_mode": {
    "name": "ipython",
    "version": 3
   },
   "file_extension": ".py",
   "mimetype": "text/x-python",
   "name": "python",
   "nbconvert_exporter": "python",
   "pygments_lexer": "ipython3",
   "version": "3.7.4"
  }
 },
 "nbformat": 4,
 "nbformat_minor": 4
}
