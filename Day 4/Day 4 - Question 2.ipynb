{
 "cells": [
  {
   "cell_type": "code",
   "execution_count": 2,
   "metadata": {},
   "outputs": [],
   "source": [
    "from pandas import *"
   ]
  },
  {
   "cell_type": "code",
   "execution_count": 3,
   "metadata": {
    "scrolled": true
   },
   "outputs": [
    {
     "name": "stdout",
     "output_type": "stream",
     "text": [
      "        match_id  inning         batting_team                 bowling_team  \\\n",
      "0              1       1  Sunrisers Hyderabad  Royal Challengers Bangalore   \n",
      "1              1       1  Sunrisers Hyderabad  Royal Challengers Bangalore   \n",
      "2              1       1  Sunrisers Hyderabad  Royal Challengers Bangalore   \n",
      "3              1       1  Sunrisers Hyderabad  Royal Challengers Bangalore   \n",
      "4              1       1  Sunrisers Hyderabad  Royal Challengers Bangalore   \n",
      "...          ...     ...                  ...                          ...   \n",
      "179073     11415       2  Chennai Super Kings               Mumbai Indians   \n",
      "179074     11415       2  Chennai Super Kings               Mumbai Indians   \n",
      "179075     11415       2  Chennai Super Kings               Mumbai Indians   \n",
      "179076     11415       2  Chennai Super Kings               Mumbai Indians   \n",
      "179077     11415       2  Chennai Super Kings               Mumbai Indians   \n",
      "\n",
      "        over  ball    batsman non_striker      bowler  is_super_over  ...  \\\n",
      "0          1     1  DA Warner    S Dhawan    TS Mills              0  ...   \n",
      "1          1     2  DA Warner    S Dhawan    TS Mills              0  ...   \n",
      "2          1     3  DA Warner    S Dhawan    TS Mills              0  ...   \n",
      "3          1     4  DA Warner    S Dhawan    TS Mills              0  ...   \n",
      "4          1     5  DA Warner    S Dhawan    TS Mills              0  ...   \n",
      "...      ...   ...        ...         ...         ...            ...  ...   \n",
      "179073    20     2  RA Jadeja   SR Watson  SL Malinga              0  ...   \n",
      "179074    20     3  SR Watson   RA Jadeja  SL Malinga              0  ...   \n",
      "179075    20     4  SR Watson   RA Jadeja  SL Malinga              0  ...   \n",
      "179076    20     5  SN Thakur   RA Jadeja  SL Malinga              0  ...   \n",
      "179077    20     6  SN Thakur   RA Jadeja  SL Malinga              0  ...   \n",
      "\n",
      "        bye_runs  legbye_runs  noball_runs  penalty_runs  batsman_runs  \\\n",
      "0              0            0            0             0             0   \n",
      "1              0            0            0             0             0   \n",
      "2              0            0            0             0             4   \n",
      "3              0            0            0             0             0   \n",
      "4              0            0            0             0             0   \n",
      "...          ...          ...          ...           ...           ...   \n",
      "179073         0            0            0             0             1   \n",
      "179074         0            0            0             0             2   \n",
      "179075         0            0            0             0             1   \n",
      "179076         0            0            0             0             2   \n",
      "179077         0            0            0             0             0   \n",
      "\n",
      "        extra_runs  total_runs  player_dismissed dismissal_kind    fielder  \n",
      "0                0           0               NaN            NaN        NaN  \n",
      "1                0           0               NaN            NaN        NaN  \n",
      "2                0           4               NaN            NaN        NaN  \n",
      "3                0           0               NaN            NaN        NaN  \n",
      "4                2           2               NaN            NaN        NaN  \n",
      "...            ...         ...               ...            ...        ...  \n",
      "179073           0           1               NaN            NaN        NaN  \n",
      "179074           0           2               NaN            NaN        NaN  \n",
      "179075           0           1         SR Watson        run out  KH Pandya  \n",
      "179076           0           2               NaN            NaN        NaN  \n",
      "179077           0           0         SN Thakur            lbw        NaN  \n",
      "\n",
      "[179078 rows x 21 columns]\n"
     ]
    }
   ],
   "source": [
    "df = read_csv(r'C:\\Users\\Asus\\Desktop\\WPL Datasets\\deliveries.csv')\n",
    "print(df)"
   ]
  },
  {
   "cell_type": "code",
   "execution_count": 4,
   "metadata": {
    "scrolled": true
   },
   "outputs": [
    {
     "name": "stdout",
     "output_type": "stream",
     "text": [
      "        match_id  inning      batting_team      bowling_team  over  ball  \\\n",
      "14335         62       1  Rajasthan Royals  Delhi Daredevils     1     1   \n",
      "14336         62       1  Rajasthan Royals  Delhi Daredevils     1     2   \n",
      "14337         62       1  Rajasthan Royals  Delhi Daredevils     1     3   \n",
      "14338         62       1  Rajasthan Royals  Delhi Daredevils     1     4   \n",
      "14339         62       1  Rajasthan Royals  Delhi Daredevils     1     5   \n",
      "...          ...     ...               ...               ...   ...   ...   \n",
      "177388     11344       2    Delhi Capitals  Rajasthan Royals    16     3   \n",
      "177389     11344       2    Delhi Capitals  Rajasthan Royals    16     4   \n",
      "177390     11344       2    Delhi Capitals  Rajasthan Royals    16     5   \n",
      "177391     11344       2    Delhi Capitals  Rajasthan Royals    16     6   \n",
      "177392     11344       2    Delhi Capitals  Rajasthan Royals    17     1   \n",
      "\n",
      "         batsman non_striker      bowler  is_super_over  ...  bye_runs  \\\n",
      "14335    T Kohli   YK Pathan  GD McGrath              0  ...         0   \n",
      "14336    T Kohli   YK Pathan  GD McGrath              0  ...         0   \n",
      "14337    T Kohli   YK Pathan  GD McGrath              0  ...         0   \n",
      "14338    T Kohli   YK Pathan  GD McGrath              0  ...         0   \n",
      "14339    T Kohli   YK Pathan  GD McGrath              0  ...         0   \n",
      "...          ...         ...         ...            ...  ...       ...   \n",
      "177388   RR Pant    AR Patel     S Gopal              0  ...         0   \n",
      "177389  AR Patel     RR Pant     S Gopal              0  ...         0   \n",
      "177390   RR Pant    AR Patel     S Gopal              0  ...         0   \n",
      "177391   RR Pant    AR Patel     S Gopal              0  ...         0   \n",
      "177392   RR Pant    AR Patel     I Sodhi              0  ...         0   \n",
      "\n",
      "        legbye_runs  noball_runs  penalty_runs  batsman_runs  extra_runs  \\\n",
      "14335             0            0             0             0           0   \n",
      "14336             0            0             0             0           0   \n",
      "14337             0            0             0             0           0   \n",
      "14338             0            0             0             0           1   \n",
      "14339             0            0             0             0           0   \n",
      "...             ...          ...           ...           ...         ...   \n",
      "177388            0            0             0             1           0   \n",
      "177389            0            0             0             1           0   \n",
      "177390            0            0             0             6           0   \n",
      "177391            0            0             0             1           0   \n",
      "177392            0            0             0             6           0   \n",
      "\n",
      "        total_runs  player_dismissed dismissal_kind fielder  \n",
      "14335            0               NaN            NaN     NaN  \n",
      "14336            0               NaN            NaN     NaN  \n",
      "14337            0               NaN            NaN     NaN  \n",
      "14338            1               NaN            NaN     NaN  \n",
      "14339            0               NaN            NaN     NaN  \n",
      "...            ...               ...            ...     ...  \n",
      "177388           1               NaN            NaN     NaN  \n",
      "177389           1               NaN            NaN     NaN  \n",
      "177390           6               NaN            NaN     NaN  \n",
      "177391           1               NaN            NaN     NaN  \n",
      "177392           6               NaN            NaN     NaN  \n",
      "\n",
      "[4617 rows x 21 columns]\n"
     ]
    }
   ],
   "source": [
    "team = ['Delhi Daredevils', 'Delhi Capitals', 'Rajasthan Royals']\n",
    "DCvsRR = df.loc[df['batting_team'].isin(team) & df['bowling_team'].isin(team)]\n",
    "print(DCvsRR)"
   ]
  },
  {
   "cell_type": "code",
   "execution_count": 5,
   "metadata": {
    "scrolled": true
   },
   "outputs": [
    {
     "name": "stdout",
     "output_type": "stream",
     "text": [
      "        match_id  inning      batting_team      bowling_team  over  ball  \\\n",
      "14457         62       2  Delhi Daredevils  Rajasthan Royals     1     1   \n",
      "14458         62       2  Delhi Daredevils  Rajasthan Royals     1     2   \n",
      "14459         62       2  Delhi Daredevils  Rajasthan Royals     1     3   \n",
      "14460         62       2  Delhi Daredevils  Rajasthan Royals     1     4   \n",
      "14461         62       2  Delhi Daredevils  Rajasthan Royals     1     5   \n",
      "...          ...     ...               ...               ...   ...   ...   \n",
      "177326     11344       2    Delhi Capitals  Rajasthan Royals     6     2   \n",
      "177327     11344       2    Delhi Capitals  Rajasthan Royals     6     3   \n",
      "177328     11344       2    Delhi Capitals  Rajasthan Royals     6     4   \n",
      "177329     11344       2    Delhi Capitals  Rajasthan Royals     6     5   \n",
      "177330     11344       2    Delhi Capitals  Rajasthan Royals     6     6   \n",
      "\n",
      "          batsman non_striker    bowler  is_super_over  ...  bye_runs  \\\n",
      "14457   G Gambhir    V Sehwag  MM Patel              0  ...         0   \n",
      "14458   G Gambhir    V Sehwag  MM Patel              0  ...         0   \n",
      "14459   G Gambhir    V Sehwag  MM Patel              0  ...         0   \n",
      "14460   G Gambhir    V Sehwag  MM Patel              0  ...         0   \n",
      "14461   G Gambhir    V Sehwag  MM Patel              0  ...         0   \n",
      "...           ...         ...       ...            ...  ...       ...   \n",
      "177326    SS Iyer     RR Pant   I Sodhi              0  ...         0   \n",
      "177327    SS Iyer     RR Pant   I Sodhi              0  ...         0   \n",
      "177328    SS Iyer     RR Pant   I Sodhi              0  ...         0   \n",
      "177329    SS Iyer     RR Pant   I Sodhi              0  ...         0   \n",
      "177330    RR Pant     SS Iyer   I Sodhi              0  ...         0   \n",
      "\n",
      "        legbye_runs  noball_runs  penalty_runs  batsman_runs  extra_runs  \\\n",
      "14457             0            0             0             0           0   \n",
      "14458             0            0             0             0           0   \n",
      "14459             0            0             0             0           0   \n",
      "14460             0            0             0             0           0   \n",
      "14461             0            0             0             4           0   \n",
      "...             ...          ...           ...           ...         ...   \n",
      "177326            0            0             0             6           0   \n",
      "177327            0            0             0             6           0   \n",
      "177328            0            0             0             0           0   \n",
      "177329            0            0             0             1           0   \n",
      "177330            0            0             0             4           0   \n",
      "\n",
      "        total_runs  player_dismissed dismissal_kind fielder  \n",
      "14457            0               NaN            NaN     NaN  \n",
      "14458            0               NaN            NaN     NaN  \n",
      "14459            0               NaN            NaN     NaN  \n",
      "14460            0               NaN            NaN     NaN  \n",
      "14461            4               NaN            NaN     NaN  \n",
      "...            ...               ...            ...     ...  \n",
      "177326           6               NaN            NaN     NaN  \n",
      "177327           6               NaN            NaN     NaN  \n",
      "177328           0               NaN            NaN     NaN  \n",
      "177329           1               NaN            NaN     NaN  \n",
      "177330           4               NaN            NaN     NaN  \n",
      "\n",
      "[748 rows x 21 columns]\n"
     ]
    }
   ],
   "source": [
    "overs = [1,2,3,4,5,6]\n",
    "team1 = ['Delhi Daredevils', 'Delhi Capitals']\n",
    "PP_Overs = DCvsRR.loc[DCvsRR['over'].isin(overs) & DCvsRR['batting_team'].isin(team1)]\n",
    "print(PP_Overs)"
   ]
  },
  {
   "cell_type": "code",
   "execution_count": 6,
   "metadata": {
    "scrolled": true
   },
   "outputs": [
    {
     "name": "stdout",
     "output_type": "stream",
     "text": [
      "          total_runs_sum\n",
      "match_id                \n",
      "62                    55\n",
      "93                    47\n",
      "115                   28\n",
      "133                   42\n",
      "165                   35\n",
      "180                   60\n",
      "203                   52\n",
      "241                   30\n",
      "345                   42\n",
      "349                   61\n",
      "385                   39\n",
      "433                   42\n",
      "480                   46\n",
      "498                   34\n",
      "523                   51\n",
      "553                   55\n",
      "7899                  63\n",
      "7925                  62\n",
      "11331                 59\n",
      "11344                 50\n"
     ]
    }
   ],
   "source": [
    "DC_PP_Overs = PP_Overs.groupby('match_id').agg({'total_runs': ['sum']})\n",
    "DC_PP_Overs.columns = ['total_runs_sum']\n",
    "print(DC_PP_Overs)"
   ]
  },
  {
   "cell_type": "code",
   "execution_count": 11,
   "metadata": {
    "scrolled": true
   },
   "outputs": [
    {
     "name": "stdout",
     "output_type": "stream",
     "text": [
      "2\n"
     ]
    }
   ],
   "source": [
    "range1 = list(range(0,31))\n",
    "a = DC_PP_Overs.loc[DC_PP_Overs['total_runs_sum'].isin(range1)]\n",
    "A = a.groupby('match_id').size().count()\n",
    "print(A)"
   ]
  },
  {
   "cell_type": "code",
   "execution_count": 13,
   "metadata": {},
   "outputs": [
    {
     "name": "stdout",
     "output_type": "stream",
     "text": [
      "3\n"
     ]
    }
   ],
   "source": [
    "range2 = list(range(31,41))\n",
    "b = DC_PP_Overs.loc[DC_PP_Overs['total_runs_sum'].isin(range2)]\n",
    "B = b.groupby('match_id').size().count()\n",
    "print(B)"
   ]
  },
  {
   "cell_type": "code",
   "execution_count": 14,
   "metadata": {},
   "outputs": [
    {
     "name": "stdout",
     "output_type": "stream",
     "text": [
      "6\n"
     ]
    }
   ],
   "source": [
    "range3 = list(range(41,51))\n",
    "c = DC_PP_Overs.loc[DC_PP_Overs['total_runs_sum'].isin(range3)]\n",
    "C = c.groupby('match_id').size().count()\n",
    "print(C)"
   ]
  },
  {
   "cell_type": "code",
   "execution_count": 16,
   "metadata": {},
   "outputs": [
    {
     "name": "stdout",
     "output_type": "stream",
     "text": [
      "9\n"
     ]
    }
   ],
   "source": [
    "max_value = DC_PP_Overs['total_runs_sum'].max()\n",
    "range4 = list(range(51,max_value+1))\n",
    "d = DC_PP_Overs.loc[DC_PP_Overs['total_runs_sum'].isin(range4)]\n",
    "D = d.groupby('match_id').size().count()\n",
    "print(D)"
   ]
  },
  {
   "cell_type": "code",
   "execution_count": 18,
   "metadata": {},
   "outputs": [
    {
     "name": "stdout",
     "output_type": "stream",
     "text": [
      "953\n"
     ]
    }
   ],
   "source": [
    "column_name = 'total_runs_sum'\n",
    "total = DC_PP_Overs[column_name].sum()\n",
    "print(total)"
   ]
  },
  {
   "cell_type": "code",
   "execution_count": 19,
   "metadata": {},
   "outputs": [
    {
     "name": "stdout",
     "output_type": "stream",
     "text": [
      "20\n"
     ]
    }
   ],
   "source": [
    "matches = DC_PP_Overs.groupby('match_id').size().count()\n",
    "print(matches)"
   ]
  },
  {
   "cell_type": "code",
   "execution_count": 20,
   "metadata": {},
   "outputs": [
    {
     "name": "stdout",
     "output_type": "stream",
     "text": [
      "47.65\n"
     ]
    }
   ],
   "source": [
    "AvgRunsInPP = total/matches\n",
    "print(AvgRunsInPP)"
   ]
  },
  {
   "cell_type": "code",
   "execution_count": null,
   "metadata": {},
   "outputs": [],
   "source": []
  }
 ],
 "metadata": {
  "kernelspec": {
   "display_name": "Python 3",
   "language": "python",
   "name": "python3"
  },
  "language_info": {
   "codemirror_mode": {
    "name": "ipython",
    "version": 3
   },
   "file_extension": ".py",
   "mimetype": "text/x-python",
   "name": "python",
   "nbconvert_exporter": "python",
   "pygments_lexer": "ipython3",
   "version": "3.7.4"
  }
 },
 "nbformat": 4,
 "nbformat_minor": 4
}
