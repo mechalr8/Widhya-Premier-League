{
 "cells": [
  {
   "cell_type": "code",
   "execution_count": 5,
   "metadata": {},
   "outputs": [],
   "source": [
    "from pandas import *\n",
    "from numpy import inf\n",
    "df = read_csv(r'C:\\Users\\harsi\\OneDrive\\Desktop\\WPL Datasets\\deliveries.csv')\n",
    "df = df.drop(['is_super_over'], axis = 1)\n",
    "df = df.loc[(df['wide_runs'] == 0) & (df['noball_runs'] == 0)]"
   ]
  },
  {
   "cell_type": "code",
   "execution_count": 15,
   "metadata": {},
   "outputs": [
    {
     "name": "stdout",
     "output_type": "stream",
     "text": [
      "15.5\n"
     ]
    }
   ],
   "source": [
    "RD_Chahar = df.loc[(df['bowler'] == 'J Archer')]\n",
    "wicket = ['caught', 'bowled', 'lbw', 'hit wicket', 'stumped']\n",
    "RD_out = RD_Chahar.loc[RD_Chahar['dismissal_kind'].isin(wicket)]\n",
    "N_RD_out = RD_out[['match_id', 'dismissal_kind']]\n",
    "N_RD_out = N_RD_out.groupby('match_id').count()\n",
    "RD_dot = RD_Chahar.loc[(RD_Chahar['total_runs'] == 0)]\n",
    "N_RD_dot = RD_dot[['match_id', 'ball']]\n",
    "N_RD_dot = N_RD_dot.groupby('match_id').count()\n",
    "RD_runs = RD_Chahar.loc[(RD_Chahar['batsman_runs'].isin([4,6]))]\n",
    "N_RD_runs = RD_runs.groupby('match_id').agg({'batsman_runs':['sum']})\n",
    "N_RD_runs.columns = ['runs']\n",
    "RD_bounds = RD_Chahar.loc[(RD_Chahar['batsman_runs'].isin([4,6]))]\n",
    "N_RD_bounds = RD_bounds[['match_id', 'batsman_runs']]\n",
    "N_RD_bounds = N_RD_bounds.groupby('match_id').count()\n",
    "N_RD_bounds.columns = ['boundaries']\n",
    "RD_balls = RD_Chahar[['match_id', 'ball']]\n",
    "N_RD_balls = RD_balls.groupby('match_id').count()\n",
    "RD_result = concat([N_RD_out, N_RD_dot, N_RD_runs, N_RD_bounds, N_RD_balls], axis = 1)\n",
    "RD_result['dismissal_kind'] = RD_result['dismissal_kind'].fillna(0).astype(int)\n",
    "RD_result.to_csv(r'C:\\Users\\harsi\\OneDrive\\Desktop\\WPL Datasets\\RD.csv')\n",
    "RD = read_csv(r'C:\\Users\\harsi\\OneDrive\\Desktop\\WPL Datasets\\RD.csv')\n",
    "RD = RD.loc[(RD['ball.1'] > 6)]\n",
    "RD['BLS'] = (RD['dismissal_kind']+RD['ball']*2-(RD['runs']/RD['boundaries']))/(RD['ball.1']-RD['ball']*2.5)\n",
    "RD = RD.loc[(RD['BLS'] != inf)]['BLS'].abs().max()\n",
    "print(RD)"
   ]
  },
  {
   "cell_type": "code",
   "execution_count": 21,
   "metadata": {},
   "outputs": [
    {
     "name": "stdout",
     "output_type": "stream",
     "text": [
      "24.0\n"
     ]
    }
   ],
   "source": [
    "RD_Chahar = df.loc[(df['bowler'] == 'TA Boult')]\n",
    "wicket = ['caught', 'bowled', 'lbw', 'hit wicket', 'stumped']\n",
    "RD_out = RD_Chahar.loc[RD_Chahar['dismissal_kind'].isin(wicket)]\n",
    "N_RD_out = RD_out[['match_id', 'dismissal_kind']]\n",
    "N_RD_out = N_RD_out.groupby('match_id').count()\n",
    "RD_dot = RD_Chahar.loc[(RD_Chahar['total_runs'] == 0)]\n",
    "N_RD_dot = RD_dot[['match_id', 'ball']]\n",
    "N_RD_dot = N_RD_dot.groupby('match_id').count()\n",
    "RD_runs = RD_Chahar.loc[(RD_Chahar['batsman_runs'].isin([4,6]))]\n",
    "N_RD_runs = RD_runs.groupby('match_id').agg({'batsman_runs':['sum']})\n",
    "N_RD_runs.columns = ['runs']\n",
    "RD_bounds = RD_Chahar.loc[(RD_Chahar['batsman_runs'].isin([4,6]))]\n",
    "N_RD_bounds = RD_bounds[['match_id', 'batsman_runs']]\n",
    "N_RD_bounds = N_RD_bounds.groupby('match_id').count()\n",
    "N_RD_bounds.columns = ['boundaries']\n",
    "RD_balls = RD_Chahar.loc[(df['wide_runs'] == 0) & (df['noball_runs'] == 0)]\n",
    "RD_balls = RD_balls[['match_id', 'ball']]\n",
    "N_RD_balls = RD_balls.groupby('match_id').count()\n",
    "RD_result = concat([N_RD_out, N_RD_dot, N_RD_runs, N_RD_bounds, N_RD_balls], axis = 1)\n",
    "RD_result['dismissal_kind'] = RD_result['dismissal_kind'].fillna(0).astype(int)\n",
    "RD_result.to_csv(r'C:\\Users\\harsi\\OneDrive\\Desktop\\WPL Datasets\\RD.csv')\n",
    "RD = read_csv(r'C:\\Users\\harsi\\OneDrive\\Desktop\\WPL Datasets\\RD.csv')\n",
    "RD = RD.loc[(RD['ball.1'] > 6)]\n",
    "RD['BLS'] = (RD['dismissal_kind']+RD['ball']*2-(RD['runs']/RD['boundaries']))/(RD['ball.1']-RD['ball']*2.5)\n",
    "RD = RD.loc[(RD['BLS'] != inf)]['BLS'].abs().max()\n",
    "print(RD)"
   ]
  },
  {
   "cell_type": "code",
   "execution_count": 17,
   "metadata": {
    "scrolled": true
   },
   "outputs": [
    {
     "name": "stdout",
     "output_type": "stream",
     "text": [
      "19.333333333333336\n"
     ]
    }
   ],
   "source": [
    "RD_Chahar = df.loc[(df['bowler'] == 'JJ Bumrah')]\n",
    "wicket = ['caught', 'bowled', 'lbw', 'hit wicket', 'stumped']\n",
    "RD_out = RD_Chahar.loc[RD_Chahar['dismissal_kind'].isin(wicket)]\n",
    "N_RD_out = RD_out[['match_id', 'dismissal_kind']]\n",
    "N_RD_out = N_RD_out.groupby('match_id').count()\n",
    "RD_dot = RD_Chahar.loc[(RD_Chahar['total_runs'] == 0)]\n",
    "N_RD_dot = RD_dot[['match_id', 'ball']]\n",
    "N_RD_dot = N_RD_dot.groupby('match_id').count()\n",
    "RD_runs = RD_Chahar.loc[(RD_Chahar['batsman_runs'].isin([4,6]))]\n",
    "N_RD_runs = RD_runs.groupby('match_id').agg({'batsman_runs':['sum']})\n",
    "N_RD_runs.columns = ['runs']\n",
    "RD_bounds = RD_Chahar.loc[(RD_Chahar['batsman_runs'].isin([4,6]))]\n",
    "N_RD_bounds = RD_bounds[['match_id', 'batsman_runs']]\n",
    "N_RD_bounds = N_RD_bounds.groupby('match_id').count()\n",
    "N_RD_bounds.columns = ['boundaries']\n",
    "RD_balls = RD_Chahar[['match_id', 'ball']]\n",
    "N_RD_balls = RD_balls.groupby('match_id').count()\n",
    "RD_result = concat([N_RD_out, N_RD_dot, N_RD_runs, N_RD_bounds, N_RD_balls], axis = 1)\n",
    "RD_result['dismissal_kind'] = RD_result['dismissal_kind'].fillna(0).astype(int)\n",
    "RD_result.to_csv(r'C:\\Users\\harsi\\OneDrive\\Desktop\\WPL Datasets\\RD.csv')\n",
    "RD = read_csv(r'C:\\Users\\harsi\\OneDrive\\Desktop\\WPL Datasets\\RD.csv')\n",
    "RD = RD.loc[(RD['ball.1'] > 6)]\n",
    "RD['BLS'] = (RD['dismissal_kind']+RD['ball']*2-(RD['runs']/RD['boundaries']))/(RD['ball.1']-RD['ball']*2.5)\n",
    "RD = RD.loc[(RD['BLS'] != inf)]['BLS'].abs().max()\n",
    "print(RD)"
   ]
  },
  {
   "cell_type": "code",
   "execution_count": 18,
   "metadata": {},
   "outputs": [
    {
     "name": "stdout",
     "output_type": "stream",
     "text": [
      "16.0\n"
     ]
    }
   ],
   "source": [
    "RD_Chahar = df.loc[(df['bowler'] == 'R Tewatia')]\n",
    "wicket = ['caught', 'bowled', 'lbw', 'hit wicket', 'stumped']\n",
    "RD_out = RD_Chahar.loc[RD_Chahar['dismissal_kind'].isin(wicket)]\n",
    "N_RD_out = RD_out[['match_id', 'dismissal_kind']]\n",
    "N_RD_out = N_RD_out.groupby('match_id').count()\n",
    "RD_dot = RD_Chahar.loc[(RD_Chahar['total_runs'] == 0)]\n",
    "N_RD_dot = RD_dot[['match_id', 'ball']]\n",
    "N_RD_dot = N_RD_dot.groupby('match_id').count()\n",
    "RD_runs = RD_Chahar.loc[(RD_Chahar['batsman_runs'].isin([4,6]))]\n",
    "N_RD_runs = RD_runs.groupby('match_id').agg({'batsman_runs':['sum']})\n",
    "N_RD_runs.columns = ['runs']\n",
    "RD_bounds = RD_Chahar.loc[(RD_Chahar['batsman_runs'].isin([4,6]))]\n",
    "N_RD_bounds = RD_bounds[['match_id', 'batsman_runs']]\n",
    "N_RD_bounds = N_RD_bounds.groupby('match_id').count()\n",
    "N_RD_bounds.columns = ['boundaries']\n",
    "RD_balls = RD_Chahar[['match_id', 'ball']]\n",
    "N_RD_balls = RD_balls.groupby('match_id').count()\n",
    "RD_result = concat([N_RD_out, N_RD_dot, N_RD_runs, N_RD_bounds, N_RD_balls], axis = 1)\n",
    "RD_result['dismissal_kind'] = RD_result['dismissal_kind'].fillna(0).astype(int)\n",
    "RD_result.to_csv(r'C:\\Users\\harsi\\OneDrive\\Desktop\\WPL Datasets\\RD.csv')\n",
    "RD = read_csv(r'C:\\Users\\harsi\\OneDrive\\Desktop\\WPL Datasets\\RD.csv')\n",
    "RD = RD.loc[(RD['ball.1'] > 6)]\n",
    "RD['BLS'] = (RD['dismissal_kind']+RD['ball']*2-(RD['runs']/RD['boundaries']))/(RD['ball.1']-RD['ball']*2.5)\n",
    "RD = RD.loc[(RD['BLS'] != inf)]['BLS'].abs().max()\n",
    "print(RD)"
   ]
  },
  {
   "cell_type": "code",
   "execution_count": 19,
   "metadata": {},
   "outputs": [
    {
     "name": "stdout",
     "output_type": "stream",
     "text": [
      "21.2\n"
     ]
    }
   ],
   "source": [
    "RD_Chahar = df.loc[(df['bowler'] == 'BA Stokes')]\n",
    "wicket = ['caught', 'bowled', 'lbw', 'hit wicket', 'stumped']\n",
    "RD_out = RD_Chahar.loc[RD_Chahar['dismissal_kind'].isin(wicket)]\n",
    "N_RD_out = RD_out[['match_id', 'dismissal_kind']]\n",
    "N_RD_out = N_RD_out.groupby('match_id').count()\n",
    "RD_dot = RD_Chahar.loc[(RD_Chahar['total_runs'] == 0)]\n",
    "N_RD_dot = RD_dot[['match_id', 'ball']]\n",
    "N_RD_dot = N_RD_dot.groupby('match_id').count()\n",
    "RD_runs = RD_Chahar.loc[(RD_Chahar['batsman_runs'].isin([4,6]))]\n",
    "N_RD_runs = RD_runs.groupby('match_id').agg({'batsman_runs':['sum']})\n",
    "N_RD_runs.columns = ['runs']\n",
    "RD_bounds = RD_Chahar.loc[(RD_Chahar['batsman_runs'].isin([4,6]))]\n",
    "N_RD_bounds = RD_bounds[['match_id', 'batsman_runs']]\n",
    "N_RD_bounds = N_RD_bounds.groupby('match_id').count()\n",
    "N_RD_bounds.columns = ['boundaries']\n",
    "RD_balls = RD_Chahar[['match_id', 'ball']]\n",
    "N_RD_balls = RD_balls.groupby('match_id').count()\n",
    "RD_result = concat([N_RD_out, N_RD_dot, N_RD_runs, N_RD_bounds, N_RD_balls], axis = 1)\n",
    "RD_result['dismissal_kind'] = RD_result['dismissal_kind'].fillna(0).astype(int)\n",
    "RD_result.to_csv(r'C:\\Users\\harsi\\OneDrive\\Desktop\\WPL Datasets\\RD.csv')\n",
    "RD = read_csv(r'C:\\Users\\harsi\\OneDrive\\Desktop\\WPL Datasets\\RD.csv')\n",
    "RD = RD.loc[(RD['ball.1'] > 6)]\n",
    "RD['BLS'] = (RD['dismissal_kind']+RD['ball']*2-(RD['runs']/RD['boundaries']))/(RD['ball.1']-RD['ball']*2.5)\n",
    "RD = RD.loc[(RD['BLS'] != inf)]['BLS'].abs().max()\n",
    "print(RD)"
   ]
  },
  {
   "cell_type": "code",
   "execution_count": 20,
   "metadata": {},
   "outputs": [
    {
     "name": "stdout",
     "output_type": "stream",
     "text": [
      "18.5\n"
     ]
    }
   ],
   "source": [
    "RD_Chahar = df.loc[(df['bowler'] == 'RD Chahar')]\n",
    "wicket = ['caught', 'bowled', 'lbw', 'hit wicket', 'stumped']\n",
    "RD_out = RD_Chahar.loc[RD_Chahar['dismissal_kind'].isin(wicket)]\n",
    "N_RD_out = RD_out[['match_id', 'dismissal_kind']]\n",
    "N_RD_out = N_RD_out.groupby('match_id').count()\n",
    "RD_dot = RD_Chahar.loc[(RD_Chahar['total_runs'] == 0)]\n",
    "N_RD_dot = RD_dot[['match_id', 'ball']]\n",
    "N_RD_dot = N_RD_dot.groupby('match_id').count()\n",
    "RD_runs = RD_Chahar.loc[(RD_Chahar['batsman_runs'].isin([4,6]))]\n",
    "N_RD_runs = RD_runs.groupby('match_id').agg({'batsman_runs':['sum']})\n",
    "N_RD_runs.columns = ['runs']\n",
    "RD_bounds = RD_Chahar.loc[(RD_Chahar['batsman_runs'].isin([4,6]))]\n",
    "N_RD_bounds = RD_bounds[['match_id', 'batsman_runs']]\n",
    "N_RD_bounds = N_RD_bounds.groupby('match_id').count()\n",
    "N_RD_bounds.columns = ['boundaries']\n",
    "RD_balls = RD_Chahar[['match_id', 'ball']]\n",
    "N_RD_balls = RD_balls.groupby('match_id').count()\n",
    "RD_result = concat([N_RD_out, N_RD_dot, N_RD_runs, N_RD_bounds, N_RD_balls], axis = 1)\n",
    "RD_result['dismissal_kind'] = RD_result['dismissal_kind'].fillna(0).astype(int)\n",
    "RD_result.to_csv(r'C:\\Users\\harsi\\OneDrive\\Desktop\\WPL Datasets\\RD.csv')\n",
    "RD = read_csv(r'C:\\Users\\harsi\\OneDrive\\Desktop\\WPL Datasets\\RD.csv')\n",
    "RD = RD.loc[(RD['ball.1'] > 6)]\n",
    "RD['BLS'] = (RD['dismissal_kind']+RD['ball']*2-(RD['runs']/RD['boundaries']))/(RD['ball.1']-RD['ball']*2.5)\n",
    "RD = RD.loc[(RD['BLS'] != inf)]['BLS'].abs().max()\n",
    "print(RD)"
   ]
  },
  {
   "cell_type": "code",
   "execution_count": null,
   "metadata": {},
   "outputs": [],
   "source": []
  }
 ],
 "metadata": {
  "kernelspec": {
   "display_name": "Python 3",
   "language": "python",
   "name": "python3"
  },
  "language_info": {
   "codemirror_mode": {
    "name": "ipython",
    "version": 3
   },
   "file_extension": ".py",
   "mimetype": "text/x-python",
   "name": "python",
   "nbconvert_exporter": "python",
   "pygments_lexer": "ipython3",
   "version": "3.7.0"
  }
 },
 "nbformat": 4,
 "nbformat_minor": 4
}
