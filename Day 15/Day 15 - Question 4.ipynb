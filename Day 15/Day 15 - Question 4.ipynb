{
 "cells": [
  {
   "cell_type": "code",
   "execution_count": 1,
   "metadata": {},
   "outputs": [],
   "source": [
    "from pandas import *"
   ]
  },
  {
   "cell_type": "code",
   "execution_count": 20,
   "metadata": {
    "collapsed": true
   },
   "outputs": [
    {
     "name": "stdout",
     "output_type": "stream",
     "text": [
      "match_id\n",
      "86        94\n",
      "113      106\n",
      "160       87\n",
      "176       76\n",
      "219      107\n",
      "299       69\n",
      "319       80\n",
      "377       89\n",
      "403       75\n",
      "447       91\n",
      "456       88\n",
      "501      100\n",
      "513       82\n",
      "526       89\n",
      "549       74\n",
      "7914      80\n",
      "7940      75\n",
      "11318     66\n",
      "11327     69\n",
      "Name: balls_rr, dtype: int64\n"
     ]
    },
    {
     "name": "stderr",
     "output_type": "stream",
     "text": [
      "c:\\users\\harsi\\appdata\\local\\programs\\python\\python37\\lib\\site-packages\\ipykernel_launcher.py:5: SettingWithCopyWarning: \n",
      "A value is trying to be set on a copy of a slice from a DataFrame.\n",
      "Try using .loc[row_indexer,col_indexer] = value instead\n",
      "\n",
      "See the caveats in the documentation: https://pandas.pydata.org/pandas-docs/stable/user_guide/indexing.html#returning-a-view-versus-a-copy\n",
      "  \"\"\"\n"
     ]
    }
   ],
   "source": [
    "df = read_csv(r'C:\\Users\\harsi\\OneDrive\\Desktop\\WPL Datasets\\deliveries.csv')\n",
    "team = ('Rajasthan Royals', 'Mumbai Indians')\n",
    "RRvsMI = df.loc[df['batting_team'].isin(team) & df['bowling_team'].isin(team)]\n",
    "RR = RRvsMI.loc[(RRvsMI['batting_team'] == 'Rajasthan Royals')]\n",
    "RR['rr_runs_cumulative'] = RR.groupby('match_id')['total_runs'].cumsum()\n",
    "RR = RR.loc[(RR['rr_runs_cumulative'] >= 100)]\n",
    "hundred_RR = RR.groupby('match_id').first()\n",
    "hundred_RR['balls_rr'] = hundred_RR['ball'] + hundred_RR['over']*6\n",
    "hundred_RR = hundred_RR['balls_rr']\n",
    "print(hundred_RR)"
   ]
  },
  {
   "cell_type": "code",
   "execution_count": 21,
   "metadata": {
    "collapsed": true
   },
   "outputs": [
    {
     "name": "stdout",
     "output_type": "stream",
     "text": [
      "match_id\n",
      "86        94\n",
      "113      100\n",
      "160       97\n",
      "176       67\n",
      "219       87\n",
      "299      103\n",
      "319       80\n",
      "377       75\n",
      "447       76\n",
      "456       79\n",
      "501       80\n",
      "513       58\n",
      "526      103\n",
      "549       85\n",
      "7914      69\n",
      "7940      79\n",
      "11318     74\n",
      "11327     76\n",
      "Name: balls_mi, dtype: int64\n"
     ]
    },
    {
     "name": "stderr",
     "output_type": "stream",
     "text": [
      "c:\\users\\harsi\\appdata\\local\\programs\\python\\python37\\lib\\site-packages\\ipykernel_launcher.py:2: SettingWithCopyWarning: \n",
      "A value is trying to be set on a copy of a slice from a DataFrame.\n",
      "Try using .loc[row_indexer,col_indexer] = value instead\n",
      "\n",
      "See the caveats in the documentation: https://pandas.pydata.org/pandas-docs/stable/user_guide/indexing.html#returning-a-view-versus-a-copy\n",
      "  \n"
     ]
    }
   ],
   "source": [
    "MI = RRvsMI.loc[(RRvsMI['batting_team'] == 'Mumbai Indians')]\n",
    "MI['mi_runs_cumulative'] = MI.groupby('match_id')['total_runs'].cumsum()\n",
    "MI = MI.loc[(MI['mi_runs_cumulative'] >= 100)]\n",
    "hundred_MI = MI.groupby('match_id').first()\n",
    "hundred_MI['balls_mi'] = hundred_MI['ball'] + hundred_MI['over']*6\n",
    "hundred_MI = hundred_MI['balls_mi']\n",
    "print(hundred_MI)"
   ]
  },
  {
   "cell_type": "code",
   "execution_count": 27,
   "metadata": {
    "collapsed": true
   },
   "outputs": [
    {
     "name": "stdout",
     "output_type": "stream",
     "text": [
      "          balls_rr  balls_mi  difference\n",
      "match_id                                \n",
      "86              94      94.0        12.0\n",
      "113            106     100.0        12.0\n",
      "160             87      97.0        12.0\n",
      "176             76      67.0        12.0\n",
      "219            107      87.0        12.0\n",
      "299             69     103.0        12.0\n",
      "319             80      80.0        12.0\n",
      "377             89      75.0        12.0\n",
      "403             75       NaN        12.0\n",
      "447             91      76.0        12.0\n",
      "456             88      79.0        12.0\n",
      "501            100      80.0        12.0\n",
      "513             82      58.0        12.0\n",
      "526             89     103.0        12.0\n",
      "549             74      85.0        12.0\n",
      "7914            80      69.0        12.0\n",
      "7940            75      79.0        12.0\n",
      "11318           66      74.0        12.0\n",
      "11327           69      76.0        12.0\n"
     ]
    }
   ],
   "source": [
    "result = concat([hundred_RR, hundred_MI], axis = 1)\n",
    "result['difference'] = (result['balls_rr'] - result['balls_mi']).abs().mean()\n",
    "print(result)"
   ]
  },
  {
   "cell_type": "code",
   "execution_count": null,
   "metadata": {},
   "outputs": [],
   "source": []
  }
 ],
 "metadata": {
  "kernelspec": {
   "display_name": "Python 3",
   "language": "python",
   "name": "python3"
  },
  "language_info": {
   "codemirror_mode": {
    "name": "ipython",
    "version": 3
   },
   "file_extension": ".py",
   "mimetype": "text/x-python",
   "name": "python",
   "nbconvert_exporter": "python",
   "pygments_lexer": "ipython3",
   "version": "3.7.0"
  }
 },
 "nbformat": 4,
 "nbformat_minor": 4
}
