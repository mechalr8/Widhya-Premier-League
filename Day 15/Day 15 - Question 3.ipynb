{
 "cells": [
  {
   "cell_type": "code",
   "execution_count": 4,
   "metadata": {},
   "outputs": [],
   "source": [
    "from pandas import *"
   ]
  },
  {
   "cell_type": "code",
   "execution_count": 6,
   "metadata": {
    "scrolled": true
   },
   "outputs": [
    {
     "name": "stdout",
     "output_type": "stream",
     "text": [
      "        match_id  inning         batting_team                 bowling_team  \\\n",
      "0              1       1  Sunrisers Hyderabad  Royal Challengers Bangalore   \n",
      "1              1       1  Sunrisers Hyderabad  Royal Challengers Bangalore   \n",
      "2              1       1  Sunrisers Hyderabad  Royal Challengers Bangalore   \n",
      "3              1       1  Sunrisers Hyderabad  Royal Challengers Bangalore   \n",
      "4              1       1  Sunrisers Hyderabad  Royal Challengers Bangalore   \n",
      "...          ...     ...                  ...                          ...   \n",
      "179073     11415       2  Chennai Super Kings               Mumbai Indians   \n",
      "179074     11415       2  Chennai Super Kings               Mumbai Indians   \n",
      "179075     11415       2  Chennai Super Kings               Mumbai Indians   \n",
      "179076     11415       2  Chennai Super Kings               Mumbai Indians   \n",
      "179077     11415       2  Chennai Super Kings               Mumbai Indians   \n",
      "\n",
      "        over  ball    batsman non_striker      bowler  is_super_over  ...  \\\n",
      "0          1     1  DA Warner    S Dhawan    TS Mills              0  ...   \n",
      "1          1     2  DA Warner    S Dhawan    TS Mills              0  ...   \n",
      "2          1     3  DA Warner    S Dhawan    TS Mills              0  ...   \n",
      "3          1     4  DA Warner    S Dhawan    TS Mills              0  ...   \n",
      "4          1     5  DA Warner    S Dhawan    TS Mills              0  ...   \n",
      "...      ...   ...        ...         ...         ...            ...  ...   \n",
      "179073    20     2  RA Jadeja   SR Watson  SL Malinga              0  ...   \n",
      "179074    20     3  SR Watson   RA Jadeja  SL Malinga              0  ...   \n",
      "179075    20     4  SR Watson   RA Jadeja  SL Malinga              0  ...   \n",
      "179076    20     5  SN Thakur   RA Jadeja  SL Malinga              0  ...   \n",
      "179077    20     6  SN Thakur   RA Jadeja  SL Malinga              0  ...   \n",
      "\n",
      "        bye_runs  legbye_runs  noball_runs  penalty_runs  batsman_runs  \\\n",
      "0              0            0            0             0             0   \n",
      "1              0            0            0             0             0   \n",
      "2              0            0            0             0             4   \n",
      "3              0            0            0             0             0   \n",
      "4              0            0            0             0             0   \n",
      "...          ...          ...          ...           ...           ...   \n",
      "179073         0            0            0             0             1   \n",
      "179074         0            0            0             0             2   \n",
      "179075         0            0            0             0             1   \n",
      "179076         0            0            0             0             2   \n",
      "179077         0            0            0             0             0   \n",
      "\n",
      "        extra_runs  total_runs  player_dismissed dismissal_kind    fielder  \n",
      "0                0           0               NaN            NaN        NaN  \n",
      "1                0           0               NaN            NaN        NaN  \n",
      "2                0           4               NaN            NaN        NaN  \n",
      "3                0           0               NaN            NaN        NaN  \n",
      "4                2           2               NaN            NaN        NaN  \n",
      "...            ...         ...               ...            ...        ...  \n",
      "179073           0           1               NaN            NaN        NaN  \n",
      "179074           0           2               NaN            NaN        NaN  \n",
      "179075           0           1         SR Watson        run out  KH Pandya  \n",
      "179076           0           2               NaN            NaN        NaN  \n",
      "179077           0           0         SN Thakur            lbw        NaN  \n",
      "\n",
      "[179078 rows x 21 columns]\n"
     ]
    }
   ],
   "source": [
    "df = read_csv(r'C:\\Users\\harsi\\OneDrive\\Desktop\\WPL Datasets\\deliveries.csv')\n",
    "print(df)"
   ]
  },
  {
   "cell_type": "code",
   "execution_count": 41,
   "metadata": {},
   "outputs": [
    {
     "name": "stdout",
     "output_type": "stream",
     "text": [
      "3\n"
     ]
    }
   ],
   "source": [
    "batsman = df.loc[(df['batsman'] == 'Q de Kock')][['match_id', 'batsman_runs']]\n",
    "runs = batsman.groupby('match_id').agg({'batsman_runs':['sum']})\n",
    "runs.columns = ['total_runs']\n",
    "boundaries = batsman.loc[batsman['batsman_runs'].isin([4,6])]\n",
    "boundary_runs = boundaries.groupby('match_id').agg({'batsman_runs':['sum']})\n",
    "boundary_runs.columns = ['boundary_runs']\n",
    "result = concat([runs, boundary_runs], axis = 1).fillna(0).astype(int)\n",
    "result['ratio'] = result['boundary_runs']/result['total_runs']\n",
    "result = result.loc[(result['ratio'] == 1.0)].groupby('match_id').size().count()\n",
    "print(result)"
   ]
  },
  {
   "cell_type": "code",
   "execution_count": 42,
   "metadata": {},
   "outputs": [
    {
     "name": "stdout",
     "output_type": "stream",
     "text": [
      "1\n"
     ]
    }
   ],
   "source": [
    "batsman = df.loc[(df['batsman'] == 'SV Samson')][['match_id', 'batsman_runs']]\n",
    "runs = batsman.groupby('match_id').agg({'batsman_runs':['sum']})\n",
    "runs.columns = ['total_runs']\n",
    "boundaries = batsman.loc[batsman['batsman_runs'].isin([4,6])]\n",
    "boundary_runs = boundaries.groupby('match_id').agg({'batsman_runs':['sum']})\n",
    "boundary_runs.columns = ['boundary_runs']\n",
    "result = concat([runs, boundary_runs], axis = 1).fillna(0).astype(int)\n",
    "result['ratio'] = result['boundary_runs']/result['total_runs']\n",
    "result = result.loc[(result['ratio'] == 1.0)].groupby('match_id').size().count()\n",
    "print(result)"
   ]
  },
  {
   "cell_type": "code",
   "execution_count": 43,
   "metadata": {},
   "outputs": [
    {
     "name": "stdout",
     "output_type": "stream",
     "text": [
      "1\n"
     ]
    }
   ],
   "source": [
    "batsman = df.loc[(df['batsman'] == 'Ishan Kishan')][['match_id', 'batsman_runs']]\n",
    "runs = batsman.groupby('match_id').agg({'batsman_runs':['sum']})\n",
    "runs.columns = ['total_runs']\n",
    "boundaries = batsman.loc[batsman['batsman_runs'].isin([4,6])]\n",
    "boundary_runs = boundaries.groupby('match_id').agg({'batsman_runs':['sum']})\n",
    "boundary_runs.columns = ['boundary_runs']\n",
    "result = concat([runs, boundary_runs], axis = 1).fillna(0).astype(int)\n",
    "result['ratio'] = result['boundary_runs']/result['total_runs']\n",
    "result = result.loc[(result['ratio'] == 1.0)].groupby('match_id').size().count()\n",
    "print(result)"
   ]
  },
  {
   "cell_type": "code",
   "execution_count": 44,
   "metadata": {},
   "outputs": [
    {
     "name": "stdout",
     "output_type": "stream",
     "text": [
      "3\n"
     ]
    }
   ],
   "source": [
    "batsman = df.loc[(df['batsman'] == 'SPD Smith')][['match_id', 'batsman_runs']]\n",
    "runs = batsman.groupby('match_id').agg({'batsman_runs':['sum']})\n",
    "runs.columns = ['total_runs']\n",
    "boundaries = batsman.loc[batsman['batsman_runs'].isin([4,6])]\n",
    "boundary_runs = boundaries.groupby('match_id').agg({'batsman_runs':['sum']})\n",
    "boundary_runs.columns = ['boundary_runs']\n",
    "result = concat([runs, boundary_runs], axis = 1).fillna(0).astype(int)\n",
    "result['ratio'] = result['boundary_runs']/result['total_runs']\n",
    "result = result.loc[(result['ratio'] == 1.0)].groupby('match_id').size().count()\n",
    "print(result)"
   ]
  },
  {
   "cell_type": "code",
   "execution_count": 45,
   "metadata": {},
   "outputs": [
    {
     "name": "stdout",
     "output_type": "stream",
     "text": [
      "1\n"
     ]
    }
   ],
   "source": [
    "batsman = df.loc[(df['batsman'] == 'KA Pollard')][['match_id', 'batsman_runs']]\n",
    "runs = batsman.groupby('match_id').agg({'batsman_runs':['sum']})\n",
    "runs.columns = ['total_runs']\n",
    "boundaries = batsman.loc[batsman['batsman_runs'].isin([4,6])]\n",
    "boundary_runs = boundaries.groupby('match_id').agg({'batsman_runs':['sum']})\n",
    "boundary_runs.columns = ['boundary_runs']\n",
    "result = concat([runs, boundary_runs], axis = 1).fillna(0).astype(int)\n",
    "result['ratio'] = result['boundary_runs']/result['total_runs']\n",
    "result = result.loc[(result['ratio'] == 1.0)].groupby('match_id').size().count()\n",
    "print(result)"
   ]
  },
  {
   "cell_type": "code",
   "execution_count": 46,
   "metadata": {},
   "outputs": [
    {
     "name": "stdout",
     "output_type": "stream",
     "text": [
      "1\n"
     ]
    }
   ],
   "source": [
    "batsman = df.loc[(df['batsman'] == 'BA Stokes')][['match_id', 'batsman_runs']]\n",
    "runs = batsman.groupby('match_id').agg({'batsman_runs':['sum']})\n",
    "runs.columns = ['total_runs']\n",
    "boundaries = batsman.loc[batsman['batsman_runs'].isin([4,6])]\n",
    "boundary_runs = boundaries.groupby('match_id').agg({'batsman_runs':['sum']})\n",
    "boundary_runs.columns = ['boundary_runs']\n",
    "result = concat([runs, boundary_runs], axis = 1).fillna(0).astype(int)\n",
    "result['ratio'] = result['boundary_runs']/result['total_runs']\n",
    "result = result.loc[(result['ratio'] == 1.0)].groupby('match_id').size().count()\n",
    "print(result)"
   ]
  },
  {
   "cell_type": "code",
   "execution_count": null,
   "metadata": {},
   "outputs": [],
   "source": []
  }
 ],
 "metadata": {
  "kernelspec": {
   "display_name": "Python 3",
   "language": "python",
   "name": "python3"
  },
  "language_info": {
   "codemirror_mode": {
    "name": "ipython",
    "version": 3
   },
   "file_extension": ".py",
   "mimetype": "text/x-python",
   "name": "python",
   "nbconvert_exporter": "python",
   "pygments_lexer": "ipython3",
   "version": "3.7.0"
  }
 },
 "nbformat": 4,
 "nbformat_minor": 4
}
