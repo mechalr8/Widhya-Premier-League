{
 "cells": [
  {
   "cell_type": "code",
   "execution_count": 3,
   "metadata": {},
   "outputs": [],
   "source": [
    "from pandas import *\n",
    "df = read_csv(r'C:\\Users\\harsi\\OneDrive\\Desktop\\WPL Datasets\\deliveries.csv')"
   ]
  },
  {
   "cell_type": "code",
   "execution_count": 11,
   "metadata": {},
   "outputs": [
    {
     "name": "stdout",
     "output_type": "stream",
     "text": [
      "3.1666666666666665\n"
     ]
    }
   ],
   "source": [
    "batsman = df.loc[(df['batsman'] == 'Q de Kock')][['match_id', 'batsman_runs']]\n",
    "runs = batsman.groupby('match_id').agg({'batsman_runs':['sum']})\n",
    "runs.columns = ['total_runs']\n",
    "boundaries = batsman.loc[batsman['batsman_runs'].isin([4,6])]\n",
    "boundary_runs = boundaries.groupby('match_id').agg({'batsman_runs':['sum']})\n",
    "boundary_runs.columns = ['boundary_runs']\n",
    "singles = batsman.loc[batsman['batsman_runs'].isin([1,2,3])]\n",
    "single_runs = singles.groupby('match_id').agg({'batsman_runs':['sum']})\n",
    "single_runs.columns = ['single_runs']\n",
    "balls = batsman.groupby('match_id').count()\n",
    "result = concat([runs, boundary_runs, single_runs, balls], axis = 1).fillna(0)\n",
    "result['BIS'] = ((result['total_runs'] + result['boundary_runs'] - result['single_runs']*0.5)/result['batsman_runs']).abs()\n",
    "result = result['BIS'].max()\n",
    "print(result)"
   ]
  },
  {
   "cell_type": "code",
   "execution_count": 12,
   "metadata": {},
   "outputs": [
    {
     "name": "stdout",
     "output_type": "stream",
     "text": [
      "4.214285714285714\n"
     ]
    }
   ],
   "source": [
    "batsman = df.loc[(df['batsman'] == 'SPD Smith')][['match_id', 'batsman_runs']]\n",
    "runs = batsman.groupby('match_id').agg({'batsman_runs':['sum']})\n",
    "runs.columns = ['total_runs']\n",
    "boundaries = batsman.loc[batsman['batsman_runs'].isin([4,6])]\n",
    "boundary_runs = boundaries.groupby('match_id').agg({'batsman_runs':['sum']})\n",
    "boundary_runs.columns = ['boundary_runs']\n",
    "singles = batsman.loc[batsman['batsman_runs'].isin([1,2,3])]\n",
    "single_runs = singles.groupby('match_id').agg({'batsman_runs':['sum']})\n",
    "single_runs.columns = ['single_runs']\n",
    "balls = batsman.groupby('match_id').count()\n",
    "result = concat([runs, boundary_runs, single_runs, balls], axis = 1).fillna(0)\n",
    "result['BIS'] = ((result['total_runs'] + result['boundary_runs'] - result['single_runs']*0.5)/result['batsman_runs']).abs()\n",
    "result = result['BIS'].max()\n",
    "print(result)"
   ]
  },
  {
   "cell_type": "code",
   "execution_count": 13,
   "metadata": {},
   "outputs": [
    {
     "name": "stdout",
     "output_type": "stream",
     "text": [
      "6.115384615384615\n"
     ]
    }
   ],
   "source": [
    "batsman = df.loc[(df['batsman'] == 'KA Pollard')][['match_id', 'batsman_runs']]\n",
    "runs = batsman.groupby('match_id').agg({'batsman_runs':['sum']})\n",
    "runs.columns = ['total_runs']\n",
    "boundaries = batsman.loc[batsman['batsman_runs'].isin([4,6])]\n",
    "boundary_runs = boundaries.groupby('match_id').agg({'batsman_runs':['sum']})\n",
    "boundary_runs.columns = ['boundary_runs']\n",
    "singles = batsman.loc[batsman['batsman_runs'].isin([1,2,3])]\n",
    "single_runs = singles.groupby('match_id').agg({'batsman_runs':['sum']})\n",
    "single_runs.columns = ['single_runs']\n",
    "balls = batsman.groupby('match_id').count()\n",
    "result = concat([runs, boundary_runs, single_runs, balls], axis = 1).fillna(0)\n",
    "result['BIS'] = ((result['total_runs'] + result['boundary_runs'] - result['single_runs']*0.5)/result['batsman_runs']).abs()\n",
    "result = result['BIS'].max()\n",
    "print(result)"
   ]
  },
  {
   "cell_type": "code",
   "execution_count": 14,
   "metadata": {},
   "outputs": [
    {
     "name": "stdout",
     "output_type": "stream",
     "text": [
      "5.25\n"
     ]
    }
   ],
   "source": [
    "batsman = df.loc[(df['batsman'] == 'Ishan Kishan')][['match_id', 'batsman_runs']]\n",
    "runs = batsman.groupby('match_id').agg({'batsman_runs':['sum']})\n",
    "runs.columns = ['total_runs']\n",
    "boundaries = batsman.loc[batsman['batsman_runs'].isin([4,6])]\n",
    "boundary_runs = boundaries.groupby('match_id').agg({'batsman_runs':['sum']})\n",
    "boundary_runs.columns = ['boundary_runs']\n",
    "singles = batsman.loc[batsman['batsman_runs'].isin([1,2,3])]\n",
    "single_runs = singles.groupby('match_id').agg({'batsman_runs':['sum']})\n",
    "single_runs.columns = ['single_runs']\n",
    "balls = batsman.groupby('match_id').count()\n",
    "result = concat([runs, boundary_runs, single_runs, balls], axis = 1).fillna(0)\n",
    "result['BIS'] = ((result['total_runs'] + result['boundary_runs'] - result['single_runs']*0.5)/result['batsman_runs']).abs()\n",
    "result = result['BIS'].max()\n",
    "print(result)"
   ]
  },
  {
   "cell_type": "code",
   "execution_count": 15,
   "metadata": {},
   "outputs": [
    {
     "name": "stdout",
     "output_type": "stream",
     "text": [
      "4.25\n"
     ]
    }
   ],
   "source": [
    "batsman = df.loc[(df['batsman'] == 'SV Samson')][['match_id', 'batsman_runs']]\n",
    "runs = batsman.groupby('match_id').agg({'batsman_runs':['sum']})\n",
    "runs.columns = ['total_runs']\n",
    "boundaries = batsman.loc[batsman['batsman_runs'].isin([4,6])]\n",
    "boundary_runs = boundaries.groupby('match_id').agg({'batsman_runs':['sum']})\n",
    "boundary_runs.columns = ['boundary_runs']\n",
    "singles = batsman.loc[batsman['batsman_runs'].isin([1,2,3])]\n",
    "single_runs = singles.groupby('match_id').agg({'batsman_runs':['sum']})\n",
    "single_runs.columns = ['single_runs']\n",
    "balls = batsman.groupby('match_id').count()\n",
    "result = concat([runs, boundary_runs, single_runs, balls], axis = 1).fillna(0)\n",
    "result['BIS'] = ((result['total_runs'] + result['boundary_runs'] - result['single_runs']*0.5)/result['batsman_runs']).abs()\n",
    "result = result['BIS'].max()\n",
    "print(result)"
   ]
  },
  {
   "cell_type": "code",
   "execution_count": 18,
   "metadata": {
    "scrolled": true
   },
   "outputs": [
    {
     "name": "stdout",
     "output_type": "stream",
     "text": [
      "7.125\n"
     ]
    }
   ],
   "source": [
    "batsman = df.loc[(df['batsman'] == 'HH Pandya')][['match_id', 'batsman_runs']]\n",
    "runs = batsman.groupby('match_id').agg({'batsman_runs':['sum']})\n",
    "runs.columns = ['total_runs']\n",
    "boundaries = batsman.loc[batsman['batsman_runs'].isin([4,6])]\n",
    "boundary_runs = boundaries.groupby('match_id').agg({'batsman_runs':['sum']})\n",
    "boundary_runs.columns = ['boundary_runs']\n",
    "singles = batsman.loc[batsman['batsman_runs'].isin([1,2,3])]\n",
    "single_runs = singles.groupby('match_id').agg({'batsman_runs':['sum']})\n",
    "single_runs.columns = ['single_runs']\n",
    "balls = batsman.groupby('match_id').count()\n",
    "result = concat([runs, boundary_runs, single_runs, balls], axis = 1).fillna(0)\n",
    "result['BIS'] = ((result['total_runs'] + result['boundary_runs'] - result['single_runs']*0.5)/result['batsman_runs']).abs()\n",
    "result = result['BIS'].max()\n",
    "print(result)"
   ]
  },
  {
   "cell_type": "raw",
   "metadata": {},
   "source": [
    "Ha"
   ]
  },
  {
   "cell_type": "code",
   "execution_count": null,
   "metadata": {},
   "outputs": [],
   "source": []
  }
 ],
 "metadata": {
  "kernelspec": {
   "display_name": "Python 3",
   "language": "python",
   "name": "python3"
  },
  "language_info": {
   "codemirror_mode": {
    "name": "ipython",
    "version": 3
   },
   "file_extension": ".py",
   "mimetype": "text/x-python",
   "name": "python",
   "nbconvert_exporter": "python",
   "pygments_lexer": "ipython3",
   "version": "3.7.0"
  }
 },
 "nbformat": 4,
 "nbformat_minor": 4
}
