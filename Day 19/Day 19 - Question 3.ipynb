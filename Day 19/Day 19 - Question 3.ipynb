{
 "cells": [
  {
   "cell_type": "code",
   "execution_count": 2,
   "metadata": {},
   "outputs": [],
   "source": [
    "from pandas import *\n",
    "df = read_csv(r'C:\\Users\\harsi\\OneDrive\\Desktop\\WPL Datasets\\deliveries.csv')"
   ]
  },
  {
   "cell_type": "code",
   "execution_count": 3,
   "metadata": {
    "scrolled": false
   },
   "outputs": [
    {
     "name": "stdout",
     "output_type": "stream",
     "text": [
      "          dismissal_kind  ball      SR\n",
      "match_id                              \n",
      "7894                   1    18  15.625\n",
      "7910                   2    28  15.625\n",
      "7913                   3    24  15.625\n",
      "7939                   1    27  15.625\n",
      "7945                   1    20  15.625\n",
      "7949                   1    27  15.625\n",
      "7950                   1    26  15.625\n",
      "11141                  1    25  15.625\n",
      "11148                  2    25  15.625\n",
      "11151                  1    18  15.625\n",
      "11309                  1    27  15.625\n",
      "11314                  3    28  15.625\n",
      "11316                  2    24  15.625\n",
      "11324                  1    18  15.625\n",
      "11330                  2    25  15.625\n",
      "11332                  1    26  15.625\n",
      "11335                  1    25  15.625\n",
      "11341                  1    18  15.625\n",
      "11412                  1    21  15.625\n",
      "11414                  2    25  15.625\n",
      "11415                  3    25  15.625\n"
     ]
    }
   ],
   "source": [
    "CSK = df.loc[(df['bowling_team'] == 'Chennai Super Kings') & (df['bowler'] == 'DL Chahar')]\n",
    "CSK_DL = CSK[['match_id', 'dismissal_kind']]\n",
    "wicket = CSK_DL.groupby('match_id').count()\n",
    "wicket = wicket.loc[(wicket['dismissal_kind'] != 0)]\n",
    "balls = CSK.groupby('match_id').count()\n",
    "balls = balls[['ball']]\n",
    "result = concat([wicket, balls], axis = 1, join = 'inner')\n",
    "result['SR'] = result['ball'].sum()/result['dismissal_kind'].sum()\n",
    "print(result)"
   ]
  },
  {
   "cell_type": "code",
   "execution_count": 4,
   "metadata": {},
   "outputs": [
    {
     "name": "stdout",
     "output_type": "stream",
     "text": [
      "8\n"
     ]
    }
   ],
   "source": [
    "N_CSK_DL = CSK_DL.groupby('match_id').size().count()\n",
    "N_result = result.groupby('match_id').size().count()\n",
    "no_wicket = N_CSK_DL - N_result\n",
    "print(no_wicket)"
   ]
  },
  {
   "cell_type": "code",
   "execution_count": null,
   "metadata": {},
   "outputs": [],
   "source": []
  }
 ],
 "metadata": {
  "kernelspec": {
   "display_name": "Python 3",
   "language": "python",
   "name": "python3"
  },
  "language_info": {
   "codemirror_mode": {
    "name": "ipython",
    "version": 3
   },
   "file_extension": ".py",
   "mimetype": "text/x-python",
   "name": "python",
   "nbconvert_exporter": "python",
   "pygments_lexer": "ipython3",
   "version": "3.7.0"
  }
 },
 "nbformat": 4,
 "nbformat_minor": 4
}
