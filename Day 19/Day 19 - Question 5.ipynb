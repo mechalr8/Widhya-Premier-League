{
 "cells": [
  {
   "cell_type": "code",
   "execution_count": 1,
   "metadata": {},
   "outputs": [],
   "source": [
    "from pandas import *\n",
    "df = read_csv(r'C:\\Users\\harsi\\OneDrive\\Desktop\\WPL Datasets\\deliveries.csv')"
   ]
  },
  {
   "cell_type": "code",
   "execution_count": 6,
   "metadata": {
    "scrolled": true
   },
   "outputs": [
    {
     "name": "stdout",
     "output_type": "stream",
     "text": [
      "          noball_runs\n",
      "match_id             \n",
      "71                  3\n",
      "103                 1\n",
      "166                 1\n",
      "347                 1\n",
      "381                 3\n",
      "418                 1\n",
      "478                 2\n",
      "504                 1\n",
      "7898                1\n",
      "11314               2\n"
     ]
    }
   ],
   "source": [
    "team = ['Kolkata Knight Riders', 'Chennai Super Kings']\n",
    "CSKvsKKR = df.loc[df['batting_team'].isin(team) & df['bowling_team'].isin(team)]\n",
    "no_balls = CSKvsKKR.loc[(CSKvsKKR['noball_runs'] > 0)]\n",
    "no_balls = no_balls[['match_id', 'noball_runs']]\n",
    "N_no_balls = no_balls.groupby('match_id').count()\n",
    "print(N_no_balls)"
   ]
  },
  {
   "cell_type": "code",
   "execution_count": 7,
   "metadata": {},
   "outputs": [
    {
     "name": "stdout",
     "output_type": "stream",
     "text": [
      "4\n"
     ]
    }
   ],
   "source": [
    "range2 = list(range(2,4))\n",
    "a = N_no_balls.loc[N_no_balls['noball_runs'].isin(range2)]\n",
    "A = a.groupby('match_id').size().count()\n",
    "print(A)"
   ]
  },
  {
   "cell_type": "code",
   "execution_count": 8,
   "metadata": {},
   "outputs": [
    {
     "name": "stdout",
     "output_type": "stream",
     "text": [
      "0\n"
     ]
    }
   ],
   "source": [
    "range3 = list(range(4,6))\n",
    "b = N_no_balls.loc[N_no_balls['noball_runs'].isin(range3)]\n",
    "B = b.groupby('match_id').size().count()\n",
    "print(B)"
   ]
  },
  {
   "cell_type": "code",
   "execution_count": 9,
   "metadata": {},
   "outputs": [
    {
     "name": "stdout",
     "output_type": "stream",
     "text": [
      "0\n"
     ]
    }
   ],
   "source": [
    "maxm = N_no_balls['noball_runs'].max()\n",
    "range4 = list(range(6, maxm+1))\n",
    "c = N_no_balls.loc[N_no_balls['noball_runs'].isin(range4)]\n",
    "C = c.groupby('match_id').size().count()\n",
    "print(C)"
   ]
  },
  {
   "cell_type": "code",
   "execution_count": 11,
   "metadata": {},
   "outputs": [
    {
     "name": "stdout",
     "output_type": "stream",
     "text": [
      "16\n"
     ]
    }
   ],
   "source": [
    "matches = CSKvsKKR.groupby('match_id').size().count()\n",
    "zero_one_no_balls = matches - A - B - C\n",
    "print(zero_one_no_balls)"
   ]
  },
  {
   "cell_type": "code",
   "execution_count": null,
   "metadata": {},
   "outputs": [],
   "source": []
  }
 ],
 "metadata": {
  "kernelspec": {
   "display_name": "Python 3",
   "language": "python",
   "name": "python3"
  },
  "language_info": {
   "codemirror_mode": {
    "name": "ipython",
    "version": 3
   },
   "file_extension": ".py",
   "mimetype": "text/x-python",
   "name": "python",
   "nbconvert_exporter": "python",
   "pygments_lexer": "ipython3",
   "version": "3.7.0"
  }
 },
 "nbformat": 4,
 "nbformat_minor": 4
}
