{
 "cells": [
  {
   "cell_type": "code",
   "execution_count": 35,
   "metadata": {},
   "outputs": [],
   "source": [
    "from pandas import *\n",
    "df = read_csv(r'C:\\Users\\harsi\\OneDrive\\Desktop\\WPL Datasets\\deliveries.csv')\n",
    "df = df.set_index('match_id')"
   ]
  },
  {
   "cell_type": "code",
   "execution_count": 42,
   "metadata": {},
   "outputs": [
    {
     "name": "stdout",
     "output_type": "stream",
     "text": [
      "          CSK_balls  KKR_balls  diff\n",
      "match_id                            \n",
      "71             64.0       71.0   7.0\n",
      "103             NaN       75.0   NaN\n",
      "166            55.0       60.0   5.0\n",
      "182            81.0       76.0   5.0\n",
      "222            48.0       81.0  33.0\n",
      "235            63.0       66.0   3.0\n",
      "281            93.0        NaN   NaN\n",
      "347            68.0       72.0   4.0\n",
      "368            54.0       57.0   3.0\n",
      "381            58.0       51.0   7.0\n",
      "406           101.0       80.0  21.0\n",
      "418            50.0       57.0   7.0\n",
      "478            62.0       83.0  21.0\n",
      "504            82.0       59.0  23.0\n",
      "527            50.0       72.0  22.0\n",
      "547            67.0       76.0   9.0\n",
      "7898           40.0       52.0  12.0\n",
      "7926           52.0       55.0   3.0\n",
      "11314          84.0       93.0   9.0\n",
      "11320          68.0       58.0  10.0\n"
     ]
    },
    {
     "name": "stderr",
     "output_type": "stream",
     "text": [
      "c:\\users\\harsi\\appdata\\local\\programs\\python\\python37\\lib\\site-packages\\ipykernel_launcher.py:4: SettingWithCopyWarning: \n",
      "A value is trying to be set on a copy of a slice from a DataFrame.\n",
      "Try using .loc[row_indexer,col_indexer] = value instead\n",
      "\n",
      "See the caveats in the documentation: https://pandas.pydata.org/pandas-docs/stable/user_guide/indexing.html#returning-a-view-versus-a-copy\n",
      "  after removing the cwd from sys.path.\n",
      "c:\\users\\harsi\\appdata\\local\\programs\\python\\python37\\lib\\site-packages\\ipykernel_launcher.py:10: SettingWithCopyWarning: \n",
      "A value is trying to be set on a copy of a slice from a DataFrame.\n",
      "Try using .loc[row_indexer,col_indexer] = value instead\n",
      "\n",
      "See the caveats in the documentation: https://pandas.pydata.org/pandas-docs/stable/user_guide/indexing.html#returning-a-view-versus-a-copy\n",
      "  # Remove the CWD from sys.path while we load stuff.\n"
     ]
    }
   ],
   "source": [
    "team = ['Kolkata Knight Riders', 'Chennai Super Kings']\n",
    "CSKvsKKR = df.loc[df['batting_team'].isin(team) & df['bowling_team'].isin(team)]\n",
    "CSK_bat = CSKvsKKR.loc[CSKvsKKR['batting_team'] == 'Chennai Super Kings']\n",
    "CSK_bat['CSK_runs'] = CSK_bat.groupby(['match_id'])['total_runs'].cumsum()\n",
    "CSK_75 = CSK_bat.loc[CSK_bat['CSK_runs'] >= 75]\n",
    "CSK_75 = CSK_75.groupby('match_id').head(1)\n",
    "CSK_75['CSK_balls'] = CSK_75['over'] * 6 + CSK_75['ball']\n",
    "CSK_75 = CSK_75[['CSK_balls']]\n",
    "KKR_bat = CSKvsKKR.loc[CSKvsKKR['batting_team'] == 'Kolkata Knight Riders']\n",
    "KKR_bat['KKR_runs'] = KKR_bat.groupby(['match_id'])['total_runs'].cumsum()\n",
    "KKR_75 = KKR_bat.loc[KKR_bat['KKR_runs'] >= 75]\n",
    "KKR_75 = KKR_75.groupby('match_id').head(1)\n",
    "KKR_75['KKR_balls'] = KKR_75['over'] * 6 + KKR_75['ball']\n",
    "KKR_75 = KKR_75[['KKR_balls']]\n",
    "result = concat([CSK_75, KKR_75], axis = 1)\n",
    "result['diff'] = (result['CSK_balls'] - result['KKR_balls']).abs()\n",
    "print(result)"
   ]
  },
  {
   "cell_type": "code",
   "execution_count": 43,
   "metadata": {},
   "outputs": [
    {
     "name": "stdout",
     "output_type": "stream",
     "text": [
      "9\n"
     ]
    }
   ],
   "source": [
    "range1 = list(range(0,8))\n",
    "a = result.loc[result['diff'].isin(range1)]\n",
    "A = a.groupby('match_id').size().count()\n",
    "print(A)"
   ]
  },
  {
   "cell_type": "code",
   "execution_count": 45,
   "metadata": {},
   "outputs": [
    {
     "name": "stdout",
     "output_type": "stream",
     "text": [
      "4\n"
     ]
    }
   ],
   "source": [
    "range2 = list(range(8,16))\n",
    "b = result.loc[result['diff'].isin(range2)]\n",
    "B = b.groupby('match_id').size().count()\n",
    "print(B)"
   ]
  },
  {
   "cell_type": "code",
   "execution_count": 46,
   "metadata": {},
   "outputs": [
    {
     "name": "stdout",
     "output_type": "stream",
     "text": [
      "0\n"
     ]
    }
   ],
   "source": [
    "range3 = list(range(16,21))\n",
    "c = result.loc[result['diff'].isin(range3)]\n",
    "C = c.groupby('match_id').size().count()\n",
    "print(C)"
   ]
  },
  {
   "cell_type": "code",
   "execution_count": 48,
   "metadata": {},
   "outputs": [
    {
     "name": "stdout",
     "output_type": "stream",
     "text": [
      "7\n"
     ]
    }
   ],
   "source": [
    "matches = CSKvsKKR.groupby('match_id').size().count()\n",
    "balls_21ormore = matches - A - B - C\n",
    "print(balls_21ormore)"
   ]
  },
  {
   "cell_type": "code",
   "execution_count": null,
   "metadata": {},
   "outputs": [],
   "source": [
    "The diffe"
   ]
  }
 ],
 "metadata": {
  "kernelspec": {
   "display_name": "Python 3",
   "language": "python",
   "name": "python3"
  },
  "language_info": {
   "codemirror_mode": {
    "name": "ipython",
    "version": 3
   },
   "file_extension": ".py",
   "mimetype": "text/x-python",
   "name": "python",
   "nbconvert_exporter": "python",
   "pygments_lexer": "ipython3",
   "version": "3.7.0"
  }
 },
 "nbformat": 4,
 "nbformat_minor": 4
}
