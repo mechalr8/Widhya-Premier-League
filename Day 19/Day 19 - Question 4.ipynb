{
 "cells": [
  {
   "cell_type": "code",
   "execution_count": 46,
   "metadata": {},
   "outputs": [],
   "source": [
    "from pandas import *\n",
    "df = read_csv(r'C:\\Users\\harsi\\OneDrive\\Desktop\\WPL Datasets\\deliveries.csv')"
   ]
  },
  {
   "cell_type": "code",
   "execution_count": 53,
   "metadata": {},
   "outputs": [
    {
     "name": "stdout",
     "output_type": "stream",
     "text": [
      "                      fours  sixes\n",
      "match_id inning over              \n",
      "71       1      2       2.0    1.0\n",
      "                6       1.0    1.0\n",
      "         2      17      1.0    1.0\n",
      "166      1      17      1.0    1.0\n",
      "                20      1.0    2.0\n",
      "...                     ...    ...\n",
      "11320    1      3       2.0    1.0\n",
      "                14      1.0    3.0\n",
      "                15      1.0    1.0\n",
      "         2      11      1.0    1.0\n",
      "                14      1.0    1.0\n",
      "\n",
      "[80 rows x 2 columns]\n"
     ]
    }
   ],
   "source": [
    "team = ['Kolkata Knight Riders', 'Chennai Super Kings']\n",
    "CSKvsKKR = df.loc[df['batting_team'].isin(team) & df['bowling_team'].isin(team)]\n",
    "runs = CSKvsKKR[['match_id', 'inning', 'over', 'batsman_runs']]\n",
    "fours = runs.loc[runs['batsman_runs'] == 4]\n",
    "fours.columns = ['match_id', 'inning', 'over', 'fours']\n",
    "fours = fours.groupby(['match_id', 'inning', 'over']).count()\n",
    "sixes = runs.loc[runs['batsman_runs'] == 6]\n",
    "sixes.columns = ['match_id', 'inning', 'over', 'sixes']\n",
    "sixes = sixes.groupby(['match_id', 'inning', 'over']).count()\n",
    "result = concat([fours, sixes], axis=1).dropna()\n",
    "print(result)"
   ]
  },
  {
   "cell_type": "code",
   "execution_count": 54,
   "metadata": {
    "scrolled": true
   },
   "outputs": [
    {
     "name": "stdout",
     "output_type": "stream",
     "text": [
      "          fours  sixes\n",
      "match_id              \n",
      "71            3      3\n",
      "166           6      6\n",
      "182           4      4\n",
      "222           4      4\n",
      "235           4      4\n",
      "347           1      1\n",
      "368           9      9\n",
      "381           6      6\n",
      "406           1      1\n",
      "418           6      6\n",
      "478           5      5\n",
      "504           4      4\n",
      "527           5      5\n",
      "547           6      6\n",
      "7898          7      7\n",
      "7926          1      1\n",
      "11314         3      3\n",
      "11320         5      5\n"
     ]
    }
   ],
   "source": [
    "fours_and_sixes = result.groupby('match_id').count()\n",
    "print(fours_and_sixes)"
   ]
  },
  {
   "cell_type": "code",
   "execution_count": 55,
   "metadata": {},
   "outputs": [
    {
     "name": "stdout",
     "output_type": "stream",
     "text": [
      "6\n"
     ]
    }
   ],
   "source": [
    "range2 = list(range(3,5))\n",
    "b = fours_and_sixes.loc[fours_and_sixes['fours'].isin(range2)]\n",
    "B = b.groupby('match_id').size().count()\n",
    "print(B)"
   ]
  },
  {
   "cell_type": "code",
   "execution_count": 56,
   "metadata": {},
   "outputs": [
    {
     "name": "stdout",
     "output_type": "stream",
     "text": [
      "7\n"
     ]
    }
   ],
   "source": [
    "range3 = list(range(5,7))\n",
    "c = fours_and_sixes.loc[fours_and_sixes['fours'].isin(range3)]\n",
    "C = c.groupby('match_id').size().count()\n",
    "print(C)"
   ]
  },
  {
   "cell_type": "code",
   "execution_count": 57,
   "metadata": {},
   "outputs": [
    {
     "name": "stdout",
     "output_type": "stream",
     "text": [
      "2\n"
     ]
    }
   ],
   "source": [
    "maxm = fours_and_sixes['fours'].max()\n",
    "range4 = list(range(7,maxm+1))\n",
    "d = fours_and_sixes.loc[fours_and_sixes['fours'].isin(range4)]\n",
    "D = d.groupby('match_id').size().count()\n",
    "print(D)"
   ]
  },
  {
   "cell_type": "code",
   "execution_count": 58,
   "metadata": {},
   "outputs": [
    {
     "name": "stdout",
     "output_type": "stream",
     "text": [
      "5\n"
     ]
    }
   ],
   "source": [
    "matches = CSKvsKKR.groupby('match_id').size().count()\n",
    "overs_0_2 = matches - B - C - D\n",
    "print(overs_0_2)"
   ]
  },
  {
   "cell_type": "code",
   "execution_count": null,
   "metadata": {},
   "outputs": [],
   "source": []
  }
 ],
 "metadata": {
  "kernelspec": {
   "display_name": "Python 3",
   "language": "python",
   "name": "python3"
  },
  "language_info": {
   "codemirror_mode": {
    "name": "ipython",
    "version": 3
   },
   "file_extension": ".py",
   "mimetype": "text/x-python",
   "name": "python",
   "nbconvert_exporter": "python",
   "pygments_lexer": "ipython3",
   "version": "3.7.0"
  }
 },
 "nbformat": 4,
 "nbformat_minor": 4
}
