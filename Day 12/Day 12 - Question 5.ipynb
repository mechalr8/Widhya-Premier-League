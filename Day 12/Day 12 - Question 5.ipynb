{
 "cells": [
  {
   "cell_type": "code",
   "execution_count": 1,
   "metadata": {},
   "outputs": [],
   "source": [
    "from pandas import *"
   ]
  },
  {
   "cell_type": "code",
   "execution_count": 2,
   "metadata": {
    "scrolled": true
   },
   "outputs": [
    {
     "name": "stdout",
     "output_type": "stream",
     "text": [
      "        match_id  inning         batting_team                 bowling_team  \\\n",
      "0              1       1  Sunrisers Hyderabad  Royal Challengers Bangalore   \n",
      "1              1       1  Sunrisers Hyderabad  Royal Challengers Bangalore   \n",
      "2              1       1  Sunrisers Hyderabad  Royal Challengers Bangalore   \n",
      "3              1       1  Sunrisers Hyderabad  Royal Challengers Bangalore   \n",
      "4              1       1  Sunrisers Hyderabad  Royal Challengers Bangalore   \n",
      "...          ...     ...                  ...                          ...   \n",
      "179073     11415       2  Chennai Super Kings               Mumbai Indians   \n",
      "179074     11415       2  Chennai Super Kings               Mumbai Indians   \n",
      "179075     11415       2  Chennai Super Kings               Mumbai Indians   \n",
      "179076     11415       2  Chennai Super Kings               Mumbai Indians   \n",
      "179077     11415       2  Chennai Super Kings               Mumbai Indians   \n",
      "\n",
      "        over  ball    batsman non_striker      bowler  is_super_over  ...  \\\n",
      "0          1     1  DA Warner    S Dhawan    TS Mills              0  ...   \n",
      "1          1     2  DA Warner    S Dhawan    TS Mills              0  ...   \n",
      "2          1     3  DA Warner    S Dhawan    TS Mills              0  ...   \n",
      "3          1     4  DA Warner    S Dhawan    TS Mills              0  ...   \n",
      "4          1     5  DA Warner    S Dhawan    TS Mills              0  ...   \n",
      "...      ...   ...        ...         ...         ...            ...  ...   \n",
      "179073    20     2  RA Jadeja   SR Watson  SL Malinga              0  ...   \n",
      "179074    20     3  SR Watson   RA Jadeja  SL Malinga              0  ...   \n",
      "179075    20     4  SR Watson   RA Jadeja  SL Malinga              0  ...   \n",
      "179076    20     5  SN Thakur   RA Jadeja  SL Malinga              0  ...   \n",
      "179077    20     6  SN Thakur   RA Jadeja  SL Malinga              0  ...   \n",
      "\n",
      "        bye_runs  legbye_runs  noball_runs  penalty_runs  batsman_runs  \\\n",
      "0              0            0            0             0             0   \n",
      "1              0            0            0             0             0   \n",
      "2              0            0            0             0             4   \n",
      "3              0            0            0             0             0   \n",
      "4              0            0            0             0             0   \n",
      "...          ...          ...          ...           ...           ...   \n",
      "179073         0            0            0             0             1   \n",
      "179074         0            0            0             0             2   \n",
      "179075         0            0            0             0             1   \n",
      "179076         0            0            0             0             2   \n",
      "179077         0            0            0             0             0   \n",
      "\n",
      "        extra_runs  total_runs  player_dismissed dismissal_kind    fielder  \n",
      "0                0           0               NaN            NaN        NaN  \n",
      "1                0           0               NaN            NaN        NaN  \n",
      "2                0           4               NaN            NaN        NaN  \n",
      "3                0           0               NaN            NaN        NaN  \n",
      "4                2           2               NaN            NaN        NaN  \n",
      "...            ...         ...               ...            ...        ...  \n",
      "179073           0           1               NaN            NaN        NaN  \n",
      "179074           0           2               NaN            NaN        NaN  \n",
      "179075           0           1         SR Watson        run out  KH Pandya  \n",
      "179076           0           2               NaN            NaN        NaN  \n",
      "179077           0           0         SN Thakur            lbw        NaN  \n",
      "\n",
      "[179078 rows x 21 columns]\n"
     ]
    }
   ],
   "source": [
    "df = read_csv(r'C:\\Users\\harsi\\OneDrive\\Desktop\\WPL Datasets\\deliveries.csv')\n",
    "print(df)"
   ]
  },
  {
   "cell_type": "code",
   "execution_count": 4,
   "metadata": {
    "scrolled": true
   },
   "outputs": [
    {
     "name": "stdout",
     "output_type": "stream",
     "text": [
      "        match_id  inning         batting_team         bowling_team  over  \\\n",
      "98439        416       1  Sunrisers Hyderabad     Rajasthan Royals     1   \n",
      "98440        416       1  Sunrisers Hyderabad     Rajasthan Royals     1   \n",
      "98441        416       1  Sunrisers Hyderabad     Rajasthan Royals     1   \n",
      "98442        416       1  Sunrisers Hyderabad     Rajasthan Royals     1   \n",
      "98443        416       1  Sunrisers Hyderabad     Rajasthan Royals     1   \n",
      "...          ...     ...                  ...                  ...   ...   \n",
      "175660     11336       2     Rajasthan Royals  Sunrisers Hyderabad    19   \n",
      "175661     11336       2     Rajasthan Royals  Sunrisers Hyderabad    19   \n",
      "175662     11336       2     Rajasthan Royals  Sunrisers Hyderabad    19   \n",
      "175663     11336       2     Rajasthan Royals  Sunrisers Hyderabad    19   \n",
      "175664     11336       2     Rajasthan Royals  Sunrisers Hyderabad    20   \n",
      "\n",
      "        ball    batsman non_striker           bowler  is_super_over  ...  \\\n",
      "98439      1   PA Reddy    S Dhawan       A Chandila              0  ...   \n",
      "98440      2   PA Reddy    S Dhawan       A Chandila              0  ...   \n",
      "98441      3   PA Reddy    S Dhawan       A Chandila              0  ...   \n",
      "98442      4   PA Reddy    S Dhawan       A Chandila              0  ...   \n",
      "98443      5   PA Reddy    S Dhawan       A Chandila              0  ...   \n",
      "...      ...        ...         ...              ...            ...  ...   \n",
      "175660     3   A Turner   SV Samson           S Kaul              0  ...   \n",
      "175661     4   A Turner   SV Samson           S Kaul              0  ...   \n",
      "175662     5  SV Samson    A Turner           S Kaul              0  ...   \n",
      "175663     6   A Turner   SV Samson           S Kaul              0  ...   \n",
      "175664     1  SV Samson    A Turner  Shakib Al Hasan              0  ...   \n",
      "\n",
      "        bye_runs  legbye_runs  noball_runs  penalty_runs  batsman_runs  \\\n",
      "98439          0            0            0             0             0   \n",
      "98440          0            0            0             0             0   \n",
      "98441          0            0            0             0             2   \n",
      "98442          0            0            0             0             0   \n",
      "98443          0            0            0             0             0   \n",
      "...          ...          ...          ...           ...           ...   \n",
      "175660         0            0            0             0             0   \n",
      "175661         0            0            0             0             1   \n",
      "175662         0            1            0             0             1   \n",
      "175663         0            0            0             0             0   \n",
      "175664         0            0            0             0             4   \n",
      "\n",
      "        extra_runs  total_runs  player_dismissed dismissal_kind    fielder  \n",
      "98439            0           0               NaN            NaN        NaN  \n",
      "98440            0           0               NaN            NaN        NaN  \n",
      "98441            0           2               NaN            NaN        NaN  \n",
      "98442            0           0               NaN            NaN        NaN  \n",
      "98443            0           0          PA Reddy         caught  SR Watson  \n",
      "...            ...         ...               ...            ...        ...  \n",
      "175660           0           0               NaN            NaN        NaN  \n",
      "175661           0           1               NaN            NaN        NaN  \n",
      "175662           1           2               NaN            NaN        NaN  \n",
      "175663           0           0               NaN            NaN        NaN  \n",
      "175664           0           4               NaN            NaN        NaN  \n",
      "\n",
      "[2661 rows x 21 columns]\n"
     ]
    }
   ],
   "source": [
    "team = ['Sunrisers Hyderabad', 'Rajasthan Royals']\n",
    "RRvsSRH = df.loc[df['batting_team'].isin(team) & df['bowling_team'].isin(team)]\n",
    "print(RRvsSRH)"
   ]
  },
  {
   "cell_type": "code",
   "execution_count": 6,
   "metadata": {
    "scrolled": true
   },
   "outputs": [
    {
     "name": "stdout",
     "output_type": "stream",
     "text": [
      "        match_id  inning         batting_team         bowling_team  over  \\\n",
      "125481       529       1  Sunrisers Hyderabad     Rajasthan Royals    11   \n",
      "151345      7897       2  Sunrisers Hyderabad     Rajasthan Royals     6   \n",
      "166513     11144       1     Rajasthan Royals  Sunrisers Hyderabad    11   \n",
      "\n",
      "        ball    batsman    non_striker       bowler  is_super_over  ...  \\\n",
      "125481     2    NV Ojha     EJG Morgan  JP Faulkner              0  ...   \n",
      "151345     1   S Dhawan  KS Williamson   B Laughlin              0  ...   \n",
      "166513     3  SV Samson      AM Rahane       S Kaul              0  ...   \n",
      "\n",
      "        bye_runs  legbye_runs  noball_runs  penalty_runs  batsman_runs  \\\n",
      "125481         0            0            1             0             0   \n",
      "151345         0            0            1             0             2   \n",
      "166513         0            0            1             0             2   \n",
      "\n",
      "        extra_runs  total_runs  player_dismissed dismissal_kind fielder  \n",
      "125481           1           1               NaN            NaN     NaN  \n",
      "151345           1           3               NaN            NaN     NaN  \n",
      "166513           1           3               NaN            NaN     NaN  \n",
      "\n",
      "[3 rows x 21 columns]\n"
     ]
    }
   ],
   "source": [
    "noball = RRvsSRH.loc[(RRvsSRH['noball_runs'] > 0)]\n",
    "print(noball)"
   ]
  },
  {
   "cell_type": "code",
   "execution_count": 7,
   "metadata": {},
   "outputs": [
    {
     "name": "stdout",
     "output_type": "stream",
     "text": [
      "11\n"
     ]
    }
   ],
   "source": [
    "N_RRvsSRH = RRvsSRH.groupby('match_id').size().count()\n",
    "print(N_RRvsSRH)"
   ]
  },
  {
   "cell_type": "code",
   "execution_count": null,
   "metadata": {},
   "outputs": [],
   "source": [
    "N_noba"
   ]
  }
 ],
 "metadata": {
  "kernelspec": {
   "display_name": "Python 3",
   "language": "python",
   "name": "python3"
  },
  "language_info": {
   "codemirror_mode": {
    "name": "ipython",
    "version": 3
   },
   "file_extension": ".py",
   "mimetype": "text/x-python",
   "name": "python",
   "nbconvert_exporter": "python",
   "pygments_lexer": "ipython3",
   "version": "3.9.0"
  }
 },
 "nbformat": 4,
 "nbformat_minor": 4
}
