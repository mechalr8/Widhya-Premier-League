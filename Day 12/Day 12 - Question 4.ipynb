{
 "cells": [
  {
   "cell_type": "code",
   "execution_count": 141,
   "metadata": {},
   "outputs": [],
   "source": [
    "from pandas import *"
   ]
  },
  {
   "cell_type": "code",
   "execution_count": 142,
   "metadata": {
    "scrolled": true
   },
   "outputs": [
    {
     "name": "stdout",
     "output_type": "stream",
     "text": [
      "        match_id  inning         batting_team                 bowling_team  \\\n",
      "0              1       1  Sunrisers Hyderabad  Royal Challengers Bangalore   \n",
      "1              1       1  Sunrisers Hyderabad  Royal Challengers Bangalore   \n",
      "2              1       1  Sunrisers Hyderabad  Royal Challengers Bangalore   \n",
      "3              1       1  Sunrisers Hyderabad  Royal Challengers Bangalore   \n",
      "4              1       1  Sunrisers Hyderabad  Royal Challengers Bangalore   \n",
      "...          ...     ...                  ...                          ...   \n",
      "179073     11415       2  Chennai Super Kings               Mumbai Indians   \n",
      "179074     11415       2  Chennai Super Kings               Mumbai Indians   \n",
      "179075     11415       2  Chennai Super Kings               Mumbai Indians   \n",
      "179076     11415       2  Chennai Super Kings               Mumbai Indians   \n",
      "179077     11415       2  Chennai Super Kings               Mumbai Indians   \n",
      "\n",
      "        over  ball    batsman non_striker      bowler  is_super_over  ...  \\\n",
      "0          1     1  DA Warner    S Dhawan    TS Mills              0  ...   \n",
      "1          1     2  DA Warner    S Dhawan    TS Mills              0  ...   \n",
      "2          1     3  DA Warner    S Dhawan    TS Mills              0  ...   \n",
      "3          1     4  DA Warner    S Dhawan    TS Mills              0  ...   \n",
      "4          1     5  DA Warner    S Dhawan    TS Mills              0  ...   \n",
      "...      ...   ...        ...         ...         ...            ...  ...   \n",
      "179073    20     2  RA Jadeja   SR Watson  SL Malinga              0  ...   \n",
      "179074    20     3  SR Watson   RA Jadeja  SL Malinga              0  ...   \n",
      "179075    20     4  SR Watson   RA Jadeja  SL Malinga              0  ...   \n",
      "179076    20     5  SN Thakur   RA Jadeja  SL Malinga              0  ...   \n",
      "179077    20     6  SN Thakur   RA Jadeja  SL Malinga              0  ...   \n",
      "\n",
      "        bye_runs  legbye_runs  noball_runs  penalty_runs  batsman_runs  \\\n",
      "0              0            0            0             0             0   \n",
      "1              0            0            0             0             0   \n",
      "2              0            0            0             0             4   \n",
      "3              0            0            0             0             0   \n",
      "4              0            0            0             0             0   \n",
      "...          ...          ...          ...           ...           ...   \n",
      "179073         0            0            0             0             1   \n",
      "179074         0            0            0             0             2   \n",
      "179075         0            0            0             0             1   \n",
      "179076         0            0            0             0             2   \n",
      "179077         0            0            0             0             0   \n",
      "\n",
      "        extra_runs  total_runs  player_dismissed dismissal_kind    fielder  \n",
      "0                0           0               NaN            NaN        NaN  \n",
      "1                0           0               NaN            NaN        NaN  \n",
      "2                0           4               NaN            NaN        NaN  \n",
      "3                0           0               NaN            NaN        NaN  \n",
      "4                2           2               NaN            NaN        NaN  \n",
      "...            ...         ...               ...            ...        ...  \n",
      "179073           0           1               NaN            NaN        NaN  \n",
      "179074           0           2               NaN            NaN        NaN  \n",
      "179075           0           1         SR Watson        run out  KH Pandya  \n",
      "179076           0           2               NaN            NaN        NaN  \n",
      "179077           0           0         SN Thakur            lbw        NaN  \n",
      "\n",
      "[179078 rows x 21 columns]\n"
     ]
    }
   ],
   "source": [
    "df = read_csv(r'C:\\Users\\harsi\\OneDrive\\Desktop\\WPL Datasets\\deliveries.csv')\n",
    "print(df)"
   ]
  },
  {
   "cell_type": "code",
   "execution_count": 143,
   "metadata": {
    "scrolled": false
   },
   "outputs": [
    {
     "name": "stdout",
     "output_type": "stream",
     "text": [
      "                     batsman_runs\n",
      "match_id batsman                 \n",
      "62       D Salunkhe            26\n",
      "         DS Lehmann             1\n",
      "         M Kaif                 9\n",
      "         M Rawat                2\n",
      "         RA Jadeja             29\n",
      "...                           ...\n",
      "11344    R Parag               55\n",
      "         S Gopal               12\n",
      "         STR Binny              0\n",
      "         SV Samson              6\n",
      "         VR Aaron               3\n",
      "\n",
      "[1101 rows x 1 columns]\n"
     ]
    }
   ],
   "source": [
    "df1 = df.loc[(df['batting_team']) == 'Rajasthan Royals']\n",
    "a = df1.groupby(['match_id', 'batsman']).agg({'batsman_runs':['sum']})\n",
    "a.columns = ['batsman_runs']\n",
    "print(a)"
   ]
  },
  {
   "cell_type": "code",
   "execution_count": 149,
   "metadata": {
    "scrolled": true
   },
   "outputs": [
    {
     "name": "stdout",
     "output_type": "stream",
     "text": [
      "match_id  match_id  batsman      \n",
      "62        62        RA Jadeja        29\n",
      "                    D Salunkhe       26\n",
      "                    SR Watson        21\n",
      "                    SK Warne         14\n",
      "                    YK Pathan        10\n",
      "                                     ..\n",
      "11344     11344     R Parag          55\n",
      "                    L Livingstone    14\n",
      "                    S Gopal          12\n",
      "                    I Sodhi           9\n",
      "                    M Lomror          8\n",
      "Name: batsman_runs, Length: 705, dtype: int64\n"
     ]
    }
   ],
   "source": [
    "grouped = a.groupby('match_id')['batsman_runs'].nlargest()\n",
    "print(grouped)"
   ]
  },
  {
   "cell_type": "code",
   "execution_count": 152,
   "metadata": {
    "scrolled": true
   },
   "outputs": [
    {
     "name": "stdout",
     "output_type": "stream",
     "text": [
      "match_id  match_id  batsman    \n",
      "62        62        RA Jadeja       29\n",
      "65        65        SR Watson       76\n",
      "68        68        GC Smith        71\n",
      "70        70        SR Watson       61\n",
      "78        78        SA Asnodkar     60\n",
      "                                  ... \n",
      "11331     11331     AM Rahane      108\n",
      "11334     11334     R Parag         50\n",
      "11336     11336     SV Samson       53\n",
      "11340     11340     SV Samson       28\n",
      "11344     11344     R Parag         55\n",
      "Name: batsman_runs, Length: 146, dtype: int64\n"
     ]
    }
   ],
   "source": [
    "b = grouped.groupby('match_id').head(1)\n",
    "print(b)"
   ]
  },
  {
   "cell_type": "code",
   "execution_count": 156,
   "metadata": {
    "scrolled": true
   },
   "outputs": [],
   "source": [
    "c = b.to_csv(r'C:\\Users\\harsi\\OneDrive\\Desktop\\WPL Datasets\\abc.csv')"
   ]
  },
  {
   "cell_type": "code",
   "execution_count": 157,
   "metadata": {},
   "outputs": [],
   "source": [
    "d = read_csv(r'C:\\Users\\harsi\\OneDrive\\Desktop\\WPL Datasets\\abc.csv')"
   ]
  },
  {
   "cell_type": "code",
   "execution_count": 159,
   "metadata": {},
   "outputs": [
    {
     "name": "stdout",
     "output_type": "stream",
     "text": [
      "6\n"
     ]
    }
   ],
   "source": [
    "SPD_Smith = d.loc[(d['batsman'] == 'SPD Smith')]\n",
    "N_SPD_Smith = SPD_Smith.groupby('match_id').size().count()\n",
    "print(N_SPD_Smith)"
   ]
  },
  {
   "cell_type": "code",
   "execution_count": 163,
   "metadata": {},
   "outputs": [
    {
     "name": "stdout",
     "output_type": "stream",
     "text": [
      "12\n"
     ]
    }
   ],
   "source": [
    "SV_Samson = d.loc[(d['batsman'] == 'SV Samson')]\n",
    "N_SV_Samson = SV_Samson.groupby('match_id').size().count()\n",
    "print(N_SV_Samson)"
   ]
  },
  {
   "cell_type": "code",
   "execution_count": 164,
   "metadata": {},
   "outputs": [
    {
     "name": "stdout",
     "output_type": "stream",
     "text": [
      "9\n"
     ]
    }
   ],
   "source": [
    "JC_Buttler = d.loc[(d['batsman'] == 'JC Buttler')]\n",
    "N_JC_Buttler = JC_Buttler.groupby('match_id').size().count()\n",
    "print(N_JC_Buttler)"
   ]
  },
  {
   "cell_type": "code",
   "execution_count": 166,
   "metadata": {},
   "outputs": [
    {
     "name": "stdout",
     "output_type": "stream",
     "text": [
      "                 match_id  match_id.1  batsman_runs\n",
      "batsman                                            \n",
      "AA Jhunjhunwala         2           2             2\n",
      "AC Voges                1           1             1\n",
      "AL Menaria              3           3             3\n",
      "AM Rahane              21          21            21\n",
      "AP Dole                 1           1             1\n",
      "AS Raut                 1           1             1\n",
      "BA Stokes               3           3             3\n",
      "BJ Hodge                6           6             6\n",
      "D Short                 1           1             1\n",
      "DJ Hooda                1           1             1\n",
      "DS Kulkarni             1           1             1\n",
      "GC Smith                6           6             6\n",
      "J Botha                 4           4             4\n",
      "JC Buttler              9           9             9\n",
      "JP Faulkner             2           2             2\n",
      "KK Cooper               1           1             1\n",
      "KK Nair                 4           4             4\n",
      "LA Carseldine           1           1             1\n",
      "LRPL Taylor             2           2             2\n",
      "MJ Lumb                 1           1             1\n",
      "NV Ojha                 5           5             5\n",
      "Niraj Patel             2           2             2\n",
      "OA Shah                 3           3             3\n",
      "R Dravid               10          10            10\n",
      "R Parag                 2           2             2\n",
      "RA Jadeja               4           4             4\n",
      "RA Tripathi             2           2             2\n",
      "RJ Quiney               1           1             1\n",
      "SA Asnodkar             3           3             3\n",
      "SPD Smith               6           6             6\n",
      "SR Watson              17          17            17\n",
      "SV Samson              12          12            12\n",
      "YK Pathan               8           8             8\n"
     ]
    }
   ],
   "source": [
    "e = d.groupby('batsman').count()\n",
    "print(e)"
   ]
  },
  {
   "cell_type": "code",
   "execution_count": null,
   "metadata": {},
   "outputs": [],
   "source": []
  }
 ],
 "metadata": {
  "kernelspec": {
   "display_name": "Python 3",
   "language": "python",
   "name": "python3"
  },
  "language_info": {
   "codemirror_mode": {
    "name": "ipython",
    "version": 3
   },
   "file_extension": ".py",
   "mimetype": "text/x-python",
   "name": "python",
   "nbconvert_exporter": "python",
   "pygments_lexer": "ipython3",
   "version": "3.9.0"
  }
 },
 "nbformat": 4,
 "nbformat_minor": 4
}
