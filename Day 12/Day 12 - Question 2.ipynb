{
 "cells": [
  {
   "cell_type": "code",
   "execution_count": 1,
   "metadata": {},
   "outputs": [],
   "source": [
    "from pandas import *"
   ]
  },
  {
   "cell_type": "code",
   "execution_count": 2,
   "metadata": {
    "scrolled": true
   },
   "outputs": [
    {
     "name": "stdout",
     "output_type": "stream",
     "text": [
      "        match_id  inning         batting_team                 bowling_team  \\\n",
      "0              1       1  Sunrisers Hyderabad  Royal Challengers Bangalore   \n",
      "1              1       1  Sunrisers Hyderabad  Royal Challengers Bangalore   \n",
      "2              1       1  Sunrisers Hyderabad  Royal Challengers Bangalore   \n",
      "3              1       1  Sunrisers Hyderabad  Royal Challengers Bangalore   \n",
      "4              1       1  Sunrisers Hyderabad  Royal Challengers Bangalore   \n",
      "...          ...     ...                  ...                          ...   \n",
      "179073     11415       2  Chennai Super Kings               Mumbai Indians   \n",
      "179074     11415       2  Chennai Super Kings               Mumbai Indians   \n",
      "179075     11415       2  Chennai Super Kings               Mumbai Indians   \n",
      "179076     11415       2  Chennai Super Kings               Mumbai Indians   \n",
      "179077     11415       2  Chennai Super Kings               Mumbai Indians   \n",
      "\n",
      "        over  ball    batsman non_striker      bowler  is_super_over  ...  \\\n",
      "0          1     1  DA Warner    S Dhawan    TS Mills              0  ...   \n",
      "1          1     2  DA Warner    S Dhawan    TS Mills              0  ...   \n",
      "2          1     3  DA Warner    S Dhawan    TS Mills              0  ...   \n",
      "3          1     4  DA Warner    S Dhawan    TS Mills              0  ...   \n",
      "4          1     5  DA Warner    S Dhawan    TS Mills              0  ...   \n",
      "...      ...   ...        ...         ...         ...            ...  ...   \n",
      "179073    20     2  RA Jadeja   SR Watson  SL Malinga              0  ...   \n",
      "179074    20     3  SR Watson   RA Jadeja  SL Malinga              0  ...   \n",
      "179075    20     4  SR Watson   RA Jadeja  SL Malinga              0  ...   \n",
      "179076    20     5  SN Thakur   RA Jadeja  SL Malinga              0  ...   \n",
      "179077    20     6  SN Thakur   RA Jadeja  SL Malinga              0  ...   \n",
      "\n",
      "        bye_runs  legbye_runs  noball_runs  penalty_runs  batsman_runs  \\\n",
      "0              0            0            0             0             0   \n",
      "1              0            0            0             0             0   \n",
      "2              0            0            0             0             4   \n",
      "3              0            0            0             0             0   \n",
      "4              0            0            0             0             0   \n",
      "...          ...          ...          ...           ...           ...   \n",
      "179073         0            0            0             0             1   \n",
      "179074         0            0            0             0             2   \n",
      "179075         0            0            0             0             1   \n",
      "179076         0            0            0             0             2   \n",
      "179077         0            0            0             0             0   \n",
      "\n",
      "        extra_runs  total_runs  player_dismissed dismissal_kind    fielder  \n",
      "0                0           0               NaN            NaN        NaN  \n",
      "1                0           0               NaN            NaN        NaN  \n",
      "2                0           4               NaN            NaN        NaN  \n",
      "3                0           0               NaN            NaN        NaN  \n",
      "4                2           2               NaN            NaN        NaN  \n",
      "...            ...         ...               ...            ...        ...  \n",
      "179073           0           1               NaN            NaN        NaN  \n",
      "179074           0           2               NaN            NaN        NaN  \n",
      "179075           0           1         SR Watson        run out  KH Pandya  \n",
      "179076           0           2               NaN            NaN        NaN  \n",
      "179077           0           0         SN Thakur            lbw        NaN  \n",
      "\n",
      "[179078 rows x 21 columns]\n"
     ]
    }
   ],
   "source": [
    "df = read_csv(r'C:\\Users\\harsi\\OneDrive\\Desktop\\WPL Datasets\\deliveries.csv')\n",
    "print(df)"
   ]
  },
  {
   "cell_type": "code",
   "execution_count": 20,
   "metadata": {
    "scrolled": true
   },
   "outputs": [
    {
     "name": "stdout",
     "output_type": "stream",
     "text": [
      "36\n"
     ]
    }
   ],
   "source": [
    "wicket = ['caught', 'lbw', 'bowled', 'stumped', 'hit wicket']\n",
    "Rashid = df.loc[(df['bowler'] == 'Rashid Khan') & df['dismissal_kind'].isin(wicket)]\n",
    "N_matches_wickets = Rashid.groupby('match_id').size().count()\n",
    "print(N_matches_wickets)"
   ]
  },
  {
   "cell_type": "code",
   "execution_count": 21,
   "metadata": {
    "scrolled": true
   },
   "outputs": [
    {
     "name": "stdout",
     "output_type": "stream",
     "text": [
      "        match_id  inning                 batting_team         bowling_team  \\\n",
      "157            1       2  Royal Challengers Bangalore  Sunrisers Hyderabad   \n",
      "158            1       2  Royal Challengers Bangalore  Sunrisers Hyderabad   \n",
      "159            1       2  Royal Challengers Bangalore  Sunrisers Hyderabad   \n",
      "160            1       2  Royal Challengers Bangalore  Sunrisers Hyderabad   \n",
      "161            1       2  Royal Challengers Bangalore  Sunrisers Hyderabad   \n",
      "...          ...     ...                          ...                  ...   \n",
      "178555     11413       2               Delhi Capitals  Sunrisers Hyderabad   \n",
      "178556     11413       2               Delhi Capitals  Sunrisers Hyderabad   \n",
      "178557     11413       2               Delhi Capitals  Sunrisers Hyderabad   \n",
      "178558     11413       2               Delhi Capitals  Sunrisers Hyderabad   \n",
      "178559     11413       2               Delhi Capitals  Sunrisers Hyderabad   \n",
      "\n",
      "        over  ball        batsman non_striker       bowler  is_super_over  \\\n",
      "157        6     1  Mandeep Singh    CH Gayle  Rashid Khan              0   \n",
      "158        6     2  Mandeep Singh    CH Gayle  Rashid Khan              0   \n",
      "159        6     3  Mandeep Singh    CH Gayle  Rashid Khan              0   \n",
      "160        6     4  Mandeep Singh    CH Gayle  Rashid Khan              0   \n",
      "161        6     5        TM Head    CH Gayle  Rashid Khan              0   \n",
      "...      ...   ...            ...         ...          ...            ...   \n",
      "178555    15     2       AR Patel     RR Pant  Rashid Khan              0   \n",
      "178556    15     3       AR Patel     RR Pant  Rashid Khan              0   \n",
      "178557    15     4       AR Patel     RR Pant  Rashid Khan              0   \n",
      "178558    15     5   S Rutherford     RR Pant  Rashid Khan              0   \n",
      "178559    15     6   S Rutherford     RR Pant  Rashid Khan              0   \n",
      "\n",
      "        ...  bye_runs  legbye_runs  noball_runs  penalty_runs  batsman_runs  \\\n",
      "157     ...         0            0            0             0             0   \n",
      "158     ...         0            0            0             0             4   \n",
      "159     ...         0            0            0             0             0   \n",
      "160     ...         0            0            0             0             0   \n",
      "161     ...         0            0            0             0             2   \n",
      "...     ...       ...          ...          ...           ...           ...   \n",
      "178555  ...         0            0            0             0             0   \n",
      "178556  ...         0            0            0             0             0   \n",
      "178557  ...         0            0            0             0             0   \n",
      "178558  ...         0            0            0             0             0   \n",
      "178559  ...         0            0            0             0             0   \n",
      "\n",
      "        extra_runs  total_runs  player_dismissed dismissal_kind  fielder  \n",
      "157              0           0               NaN            NaN      NaN  \n",
      "158              0           4               NaN            NaN      NaN  \n",
      "159              0           0               NaN            NaN      NaN  \n",
      "160              0           0     Mandeep Singh         bowled      NaN  \n",
      "161              0           2               NaN            NaN      NaN  \n",
      "...            ...         ...               ...            ...      ...  \n",
      "178555           0           0               NaN            NaN      NaN  \n",
      "178556           0           0               NaN            NaN      NaN  \n",
      "178557           0           0          AR Patel         caught  WP Saha  \n",
      "178558           0           0               NaN            NaN      NaN  \n",
      "178559           0           0               NaN            NaN      NaN  \n",
      "\n",
      "[1106 rows x 21 columns]\n"
     ]
    }
   ],
   "source": [
    "matches = df.loc[(df['bowler'] == 'Rashid Khan')]\n",
    "print(matches)"
   ]
  },
  {
   "cell_type": "code",
   "execution_count": 22,
   "metadata": {},
   "outputs": [
    {
     "name": "stdout",
     "output_type": "stream",
     "text": [
      "46\n"
     ]
    }
   ],
   "source": [
    "N_matches = matches.groupby('match_id').size().count()\n",
    "print(N_matches)"
   ]
  },
  {
   "cell_type": "code",
   "execution_count": 23,
   "metadata": {
    "scrolled": true
   },
   "outputs": [
    {
     "name": "stdout",
     "output_type": "stream",
     "text": [
      "        match_id  inning                 batting_team         bowling_team  \\\n",
      "157            1       2  Royal Challengers Bangalore  Sunrisers Hyderabad   \n",
      "158            1       2  Royal Challengers Bangalore  Sunrisers Hyderabad   \n",
      "159            1       2  Royal Challengers Bangalore  Sunrisers Hyderabad   \n",
      "160            1       2  Royal Challengers Bangalore  Sunrisers Hyderabad   \n",
      "161            1       2  Royal Challengers Bangalore  Sunrisers Hyderabad   \n",
      "...          ...     ...                          ...                  ...   \n",
      "178555     11413       2               Delhi Capitals  Sunrisers Hyderabad   \n",
      "178556     11413       2               Delhi Capitals  Sunrisers Hyderabad   \n",
      "178557     11413       2               Delhi Capitals  Sunrisers Hyderabad   \n",
      "178558     11413       2               Delhi Capitals  Sunrisers Hyderabad   \n",
      "178559     11413       2               Delhi Capitals  Sunrisers Hyderabad   \n",
      "\n",
      "        over  ball        batsman non_striker       bowler  is_super_over  \\\n",
      "157        6     1  Mandeep Singh    CH Gayle  Rashid Khan              0   \n",
      "158        6     2  Mandeep Singh    CH Gayle  Rashid Khan              0   \n",
      "159        6     3  Mandeep Singh    CH Gayle  Rashid Khan              0   \n",
      "160        6     4  Mandeep Singh    CH Gayle  Rashid Khan              0   \n",
      "161        6     5        TM Head    CH Gayle  Rashid Khan              0   \n",
      "...      ...   ...            ...         ...          ...            ...   \n",
      "178555    15     2       AR Patel     RR Pant  Rashid Khan              0   \n",
      "178556    15     3       AR Patel     RR Pant  Rashid Khan              0   \n",
      "178557    15     4       AR Patel     RR Pant  Rashid Khan              0   \n",
      "178558    15     5   S Rutherford     RR Pant  Rashid Khan              0   \n",
      "178559    15     6   S Rutherford     RR Pant  Rashid Khan              0   \n",
      "\n",
      "        ...  bye_runs  legbye_runs  noball_runs  penalty_runs  batsman_runs  \\\n",
      "157     ...         0            0            0             0             0   \n",
      "158     ...         0            0            0             0             4   \n",
      "159     ...         0            0            0             0             0   \n",
      "160     ...         0            0            0             0             0   \n",
      "161     ...         0            0            0             0             2   \n",
      "...     ...       ...          ...          ...           ...           ...   \n",
      "178555  ...         0            0            0             0             0   \n",
      "178556  ...         0            0            0             0             0   \n",
      "178557  ...         0            0            0             0             0   \n",
      "178558  ...         0            0            0             0             0   \n",
      "178559  ...         0            0            0             0             0   \n",
      "\n",
      "        extra_runs  total_runs  player_dismissed dismissal_kind  fielder  \n",
      "157              0           0               NaN            NaN      NaN  \n",
      "158              0           4               NaN            NaN      NaN  \n",
      "159              0           0               NaN            NaN      NaN  \n",
      "160              0           0     Mandeep Singh         bowled      NaN  \n",
      "161              0           2               NaN            NaN      NaN  \n",
      "...            ...         ...               ...            ...      ...  \n",
      "178555           0           0               NaN            NaN      NaN  \n",
      "178556           0           0               NaN            NaN      NaN  \n",
      "178557           0           0          AR Patel         caught  WP Saha  \n",
      "178558           0           0               NaN            NaN      NaN  \n",
      "178559           0           0               NaN            NaN      NaN  \n",
      "\n",
      "[873 rows x 21 columns]\n"
     ]
    }
   ],
   "source": [
    "full_match_wickets = df.loc[df['match_id'].isin(Rashid['match_id']) & (df['bowler'] == 'Rashid Khan')]\n",
    "print(full_match_wickets)"
   ]
  },
  {
   "cell_type": "code",
   "execution_count": 26,
   "metadata": {},
   "outputs": [
    {
     "name": "stdout",
     "output_type": "stream",
     "text": [
      "873\n"
     ]
    }
   ],
   "source": [
    "index = full_match_wickets.index\n",
    "balls = len(index)\n",
    "print(balls)"
   ]
  },
  {
   "cell_type": "code",
   "execution_count": 27,
   "metadata": {},
   "outputs": [
    {
     "name": "stdout",
     "output_type": "stream",
     "text": [
      "55\n"
     ]
    }
   ],
   "source": [
    "index1 = Rashid.index\n",
    "wickets = len(index1)\n",
    "print(wickets)"
   ]
  },
  {
   "cell_type": "code",
   "execution_count": 28,
   "metadata": {},
   "outputs": [
    {
     "name": "stdout",
     "output_type": "stream",
     "text": [
      "15.872727272727273\n"
     ]
    }
   ],
   "source": [
    "SR = balls/wickets\n",
    "print(SR)"
   ]
  },
  {
   "cell_type": "code",
   "execution_count": null,
   "metadata": {},
   "outputs": [],
   "source": []
  }
 ],
 "metadata": {
  "kernelspec": {
   "display_name": "Python 3",
   "language": "python",
   "name": "python3"
  },
  "language_info": {
   "codemirror_mode": {
    "name": "ipython",
    "version": 3
   },
   "file_extension": ".py",
   "mimetype": "text/x-python",
   "name": "python",
   "nbconvert_exporter": "python",
   "pygments_lexer": "ipython3",
   "version": "3.9.0"
  }
 },
 "nbformat": 4,
 "nbformat_minor": 4
}
