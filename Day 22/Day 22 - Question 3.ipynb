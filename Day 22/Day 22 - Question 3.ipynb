{
 "cells": [
  {
   "cell_type": "code",
   "execution_count": 1,
   "metadata": {},
   "outputs": [],
   "source": [
    "from pandas import *\n",
    "df = read_csv(r'C:\\Users\\harsi\\OneDrive\\Desktop\\WPL Datasets\\deliveries.csv')"
   ]
  },
  {
   "cell_type": "code",
   "execution_count": 8,
   "metadata": {},
   "outputs": [],
   "source": [
    "def ratio(player):\n",
    "    batsman = df.loc[(df['batsman'] == player)]\n",
    "    balls = batsman.loc[(batsman['wide_runs'] == 0) & (batsman['noball_runs'] == 0)]\n",
    "    N_balls = balls.groupby('match_id').count()\n",
    "    N_balls = N_balls[['ball']]\n",
    "    boundary = batsman.loc[batsman['batsman_runs'].isin([4,6])]\n",
    "    boundary_runs = boundary.groupby('match_id').agg({'batsman_runs':['sum']})\n",
    "    boundary_runs.columns = ['boundary_runs']\n",
    "    single = batsman.loc[batsman['batsman_runs'].isin([1,2,3])]\n",
    "    single_runs = single.groupby('match_id').agg({'batsman_runs':['sum']})\n",
    "    single_runs.columns = ['single_runs']\n",
    "    runs = batsman.groupby('match_id').agg({'batsman_runs':['sum']})\n",
    "    runs.columns = ['batsman_runs']\n",
    "    result = concat([N_balls, boundary_runs, single_runs, runs], axis = 1)\n",
    "    result = result.loc[result['ball'] > 10]\n",
    "    result = ((result['boundary_runs'] - result['single_runs']) / result['batsman_runs']).max()\n",
    "    return result"
   ]
  },
  {
   "cell_type": "code",
   "execution_count": 12,
   "metadata": {},
   "outputs": [
    {
     "name": "stdout",
     "output_type": "stream",
     "text": [
      "           Batsman     ratio\n",
      "13       SV Samson  0.857143\n",
      "5        SP Narine  0.837838\n",
      "1           N Rana  0.777778\n",
      "7       AD Russell  0.771429\n",
      "11      RV Uthappa  0.733333\n",
      "19      JC Buttler  0.714286\n",
      "3       EJG Morgan  0.714286\n",
      "4       KD Karthik  0.692308\n",
      "6      RA Tripathi  0.677419\n",
      "12       SPD Smith  0.666667\n",
      "10       BA Stokes  0.454545\n",
      "17        J Archer  0.428571\n",
      "0           S Gill  0.285714\n",
      "15         R Parag  0.280000\n",
      "16        VR Aaron  0.176471\n",
      "9       PJ Cummins  0.166667\n",
      "8   V Chakravarthy  0.000000\n",
      "2           S Mavi  0.000000\n",
      "18         S Gopal  0.000000\n",
      "14       R Tewatia -0.250000\n"
     ]
    }
   ],
   "source": [
    "data = []\n",
    "batsman = ['S Gill', 'N Rana', 'S Mavi', 'EJG Morgan', 'KD Karthik', 'SP Narine','RA Tripathi', 'AD Russell', 'V Chakravarthy', 'PJ Cummins', 'BA Stokes', 'RV Uthappa', 'SPD Smith', 'SV Samson', 'R Tewatia', 'R Parag', 'VR Aaron', 'J Archer', 'S Gopal', 'JC Buttler']\n",
    "for i in batsman:\n",
    "    data.append([i, ratio(i)])\n",
    "batsman_ratio = DataFrame(data, columns = ['Batsman', 'ratio']).fillna(0)\n",
    "batsman_ratio = batsman_ratio.sort_values(['ratio'], ascending = False)\n",
    "print(batsman_ratio)"
   ]
  },
  {
   "cell_type": "code",
   "execution_count": null,
   "metadata": {},
   "outputs": [],
   "source": []
  }
 ],
 "metadata": {
  "kernelspec": {
   "display_name": "Python 3",
   "language": "python",
   "name": "python3"
  },
  "language_info": {
   "codemirror_mode": {
    "name": "ipython",
    "version": 3
   },
   "file_extension": ".py",
   "mimetype": "text/x-python",
   "name": "python",
   "nbconvert_exporter": "python",
   "pygments_lexer": "ipython3",
   "version": "3.7.0"
  }
 },
 "nbformat": 4,
 "nbformat_minor": 4
}
