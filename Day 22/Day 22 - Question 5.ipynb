{
 "cells": [
  {
   "cell_type": "code",
   "execution_count": 1,
   "metadata": {},
   "outputs": [],
   "source": [
    "from pandas import *\n",
    "df = read_csv(r'C:\\Users\\harsi\\OneDrive\\Desktop\\WPL Datasets\\deliveries.csv')"
   ]
  },
  {
   "cell_type": "code",
   "execution_count": 16,
   "metadata": {},
   "outputs": [],
   "source": [
    "def economy(player):\n",
    "    bowler = df.loc[(df['bowler'] == player)]\n",
    "    runs = bowler.groupby('match_id').agg({'batsman_runs':['sum']})\n",
    "    runs.columns = ['runs']\n",
    "    balls = bowler.loc[(bowler['wide_runs'] == 0) & (bowler['noball_runs'] == 0)]\n",
    "    N_balls = balls.groupby('match_id').count()\n",
    "    N_balls = N_balls[['ball']]\n",
    "    result = concat([runs, N_balls], axis = 1).fillna(0)\n",
    "    result = result.loc[result['ball'] > 6]\n",
    "    result['Economy'] = result['runs']/(result['ball']/6)\n",
    "    #result = result.loc[result['Economy'] < 8]\n",
    "    result = result['Economy'].mean()\n",
    "    return result"
   ]
  },
  {
   "cell_type": "code",
   "execution_count": 19,
   "metadata": {
    "scrolled": false
   },
   "outputs": [
    {
     "name": "stdout",
     "output_type": "stream",
     "text": [
      "            bowler    economy\n",
      "0           S Gill   0.000000\n",
      "13       SV Samson   0.000000\n",
      "12       SPD Smith   0.000000\n",
      "11      RV Uthappa   0.000000\n",
      "6      RA Tripathi   0.000000\n",
      "19      JC Buttler   0.000000\n",
      "4       KD Karthik   0.000000\n",
      "3       EJG Morgan   0.000000\n",
      "5        SP Narine   6.667866\n",
      "14       R Tewatia   7.463542\n",
      "1           N Rana   7.750000\n",
      "17        J Archer   7.777940\n",
      "9       PJ Cummins   7.912281\n",
      "18         S Gopal   7.920788\n",
      "15         R Parag   8.208333\n",
      "16        VR Aaron   8.286522\n",
      "10       BA Stokes   8.445402\n",
      "7       AD Russell   8.756316\n",
      "2           S Mavi   9.468750\n",
      "8   V Chakravarthy  11.666667\n"
     ]
    }
   ],
   "source": [
    "data = []\n",
    "bowler = ['S Gill', 'N Rana', 'S Mavi', 'EJG Morgan', 'KD Karthik', 'SP Narine','RA Tripathi', 'AD Russell', 'V Chakravarthy', 'PJ Cummins', 'BA Stokes', 'RV Uthappa', 'SPD Smith', 'SV Samson', 'R Tewatia', 'R Parag', 'VR Aaron', 'J Archer', 'S Gopal', 'JC Buttler']\n",
    "for i in bowler:\n",
    "    data.append([i, economy(i)])\n",
    "bowler_economy = DataFrame(data, columns = ['bowler', 'economy']).fillna(0)\n",
    "bowler_economy = bowler_economy.sort_values(['economy'])\n",
    "print(bowler_economy)"
   ]
  },
  {
   "cell_type": "code",
   "execution_count": null,
   "metadata": {},
   "outputs": [],
   "source": []
  }
 ],
 "metadata": {
  "kernelspec": {
   "display_name": "Python 3",
   "language": "python",
   "name": "python3"
  },
  "language_info": {
   "codemirror_mode": {
    "name": "ipython",
    "version": 3
   },
   "file_extension": ".py",
   "mimetype": "text/x-python",
   "name": "python",
   "nbconvert_exporter": "python",
   "pygments_lexer": "ipython3",
   "version": "3.7.0"
  }
 },
 "nbformat": 4,
 "nbformat_minor": 4
}
