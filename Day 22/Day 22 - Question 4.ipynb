{
 "cells": [
  {
   "cell_type": "code",
   "execution_count": 1,
   "metadata": {},
   "outputs": [],
   "source": [
    "from pandas import *\n",
    "df = read_csv(r'C:\\Users\\harsi\\OneDrive\\Desktop\\WPL Datasets\\deliveries.csv')"
   ]
  },
  {
   "cell_type": "code",
   "execution_count": 8,
   "metadata": {
    "scrolled": false
   },
   "outputs": [
    {
     "name": "stdout",
     "output_type": "stream",
     "text": [
      "          runs  ball  batsman_runs    Economy\n",
      "match_id                                     \n",
      "7914        23    24           3.0   5.750000\n",
      "7921        27    24           3.0   6.750000\n",
      "7925        31    19           5.0   9.789474\n",
      "7931        43    22           6.0  11.727273\n",
      "7933        32    24           4.0   8.000000\n",
      "7936        42    24           4.0  10.500000\n",
      "7940        17    24           0.0   4.250000\n",
      "7942        43    24           8.0  10.750000\n",
      "7946        38    24           6.0   9.500000\n",
      "7951        33    24           4.0   8.250000\n",
      "11140       17    24           1.0   4.250000\n",
      "11144       46    25           7.0  11.040000\n",
      "11148       17    24           2.0   4.250000\n",
      "11150       49    24           8.0  12.250000\n",
      "11312       15    18           2.0   5.000000\n",
      "11316       23    24           1.0   5.750000\n",
      "11318       40    24           5.0  10.000000\n",
      "11323       22    25           3.0   5.280000\n",
      "11327       22    24           3.0   5.500000\n",
      "11331       31    24           3.0   7.750000\n",
      "11334       28    24           3.0   7.000000\n"
     ]
    }
   ],
   "source": [
    "bowler = df.loc[(df['bowler'] == 'J Archer')]\n",
    "runs = bowler.groupby('match_id').agg({'batsman_runs':['sum']})\n",
    "runs.columns = ['runs']\n",
    "balls = bowler.loc[(bowler['wide_runs'] == 0) & (bowler['noball_runs'] == 0)]\n",
    "N_balls = balls.groupby('match_id').count()\n",
    "N_balls = N_balls[['ball']]\n",
    "boundary = bowler.loc[bowler['batsman_runs'].isin([4,6])]\n",
    "N_boundary = boundary.groupby('match_id').count()\n",
    "N_boundary = N_boundary[['batsman_runs']]\n",
    "result = concat([runs, N_balls, N_boundary], axis = 1).fillna(0)\n",
    "result['Economy'] = result['runs']/(result['ball']/6)\n",
    "print(result)"
   ]
  },
  {
   "cell_type": "code",
   "execution_count": 10,
   "metadata": {},
   "outputs": [
    {
     "name": "stdout",
     "output_type": "stream",
     "text": [
      "10\n"
     ]
    }
   ],
   "source": [
    "a = result.loc[(result['Economy'] <= 7.5) & (result['batsman_runs'] <= 4)]\n",
    "A = a.groupby('match_id').size().count()\n",
    "print(A)"
   ]
  },
  {
   "cell_type": "code",
   "execution_count": 12,
   "metadata": {},
   "outputs": [
    {
     "name": "stdout",
     "output_type": "stream",
     "text": [
      "0\n"
     ]
    }
   ],
   "source": [
    "a = result.loc[(result['Economy'] <= 7.5) & (result['batsman_runs'] > 4)]\n",
    "A = a.groupby('match_id').size().count()\n",
    "print(A)"
   ]
  },
  {
   "cell_type": "code",
   "execution_count": 13,
   "metadata": {},
   "outputs": [
    {
     "name": "stdout",
     "output_type": "stream",
     "text": [
      "4\n"
     ]
    }
   ],
   "source": [
    "a = result.loc[(result['Economy'] > 7.5) & (result['batsman_runs'] <= 4)]\n",
    "A = a.groupby('match_id').size().count()\n",
    "print(A)"
   ]
  },
  {
   "cell_type": "code",
   "execution_count": 14,
   "metadata": {},
   "outputs": [
    {
     "name": "stdout",
     "output_type": "stream",
     "text": [
      "7\n"
     ]
    }
   ],
   "source": [
    "a = result.loc[(result['Economy'] > 7.5) & (result['batsman_runs'] > 4)]\n",
    "A = a.groupby('match_id').size().count()\n",
    "print(A)"
   ]
  },
  {
   "cell_type": "code",
   "execution_count": null,
   "metadata": {},
   "outputs": [],
   "source": []
  }
 ],
 "metadata": {
  "kernelspec": {
   "display_name": "Python 3",
   "language": "python",
   "name": "python3"
  },
  "language_info": {
   "codemirror_mode": {
    "name": "ipython",
    "version": 3
   },
   "file_extension": ".py",
   "mimetype": "text/x-python",
   "name": "python",
   "nbconvert_exporter": "python",
   "pygments_lexer": "ipython3",
   "version": "3.7.0"
  }
 },
 "nbformat": 4,
 "nbformat_minor": 4
}
