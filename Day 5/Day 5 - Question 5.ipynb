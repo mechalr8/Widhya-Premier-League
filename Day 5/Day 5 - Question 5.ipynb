{
 "cells": [
  {
   "cell_type": "code",
   "execution_count": 1,
   "metadata": {},
   "outputs": [],
   "source": [
    "from pandas import *"
   ]
  },
  {
   "cell_type": "code",
   "execution_count": 3,
   "metadata": {
    "scrolled": true
   },
   "outputs": [
    {
     "name": "stdout",
     "output_type": "stream",
     "text": [
      "          balls\n",
      "match_id       \n",
      "181           2\n",
      "205           2\n",
      "280           1\n",
      "296           2\n",
      "333           1\n",
      "429           3\n",
      "448           2\n",
      "475           2\n",
      "488           2\n",
      "557           1\n",
      "566           1\n",
      "626           2\n",
      "7941          1\n",
      "11333         2\n"
     ]
    }
   ],
   "source": [
    "df = read_csv(r'C:\\Users\\Asus\\Desktop\\WPL Datasets\\deliveries.csv')\n",
    "team = ['Kings XI Punjab', 'Royal Challengers Bangalore']\n",
    "KXIPvsRCB = df.loc[df['batting_team'].isin(team) & df['bowling_team'].isin(team)]\n",
    "noballs = KXIPvsRCB.loc[(KXIPvsRCB['noball_runs'] > 0)]\n",
    "noballs1 = noballs[['match_id', 'noball_runs']]\n",
    "N_noballs = noballs1.groupby('match_id').count()\n",
    "N_noballs.columns = ['balls']\n",
    "print(N_noballs)"
   ]
  },
  {
   "cell_type": "code",
   "execution_count": 4,
   "metadata": {},
   "outputs": [
    {
     "name": "stdout",
     "output_type": "stream",
     "text": [
      "13\n"
     ]
    }
   ],
   "source": [
    "r2 = list(range(1,3))\n",
    "b = N_noballs.loc[N_noballs['balls'].isin(r2)]\n",
    "B = b.groupby('match_id').size().count()\n",
    "print(B)"
   ]
  },
  {
   "cell_type": "code",
   "execution_count": 5,
   "metadata": {},
   "outputs": [
    {
     "name": "stdout",
     "output_type": "stream",
     "text": [
      "1\n"
     ]
    }
   ],
   "source": [
    "r3 = list(range(3,5))\n",
    "c = N_noballs.loc[N_noballs['balls'].isin(r3)]\n",
    "C = c.groupby('match_id').size().count()\n",
    "print(C)"
   ]
  },
  {
   "cell_type": "code",
   "execution_count": 6,
   "metadata": {},
   "outputs": [
    {
     "name": "stdout",
     "output_type": "stream",
     "text": [
      "0\n"
     ]
    }
   ],
   "source": [
    "max_value = N_noballs['balls'].max()\n",
    "r4 = list(range(5,max_value+1))\n",
    "d = N_noballs.loc[N_noballs['balls'].isin(r4)]\n",
    "D = d.groupby('match_id').size().count()\n",
    "print(D)"
   ]
  },
  {
   "cell_type": "code",
   "execution_count": null,
   "metadata": {},
   "outputs": [],
   "source": []
  }
 ],
 "metadata": {
  "kernelspec": {
   "display_name": "Python 3",
   "language": "python",
   "name": "python3"
  },
  "language_info": {
   "codemirror_mode": {
    "name": "ipython",
    "version": 3
   },
   "file_extension": ".py",
   "mimetype": "text/x-python",
   "name": "python",
   "nbconvert_exporter": "python",
   "pygments_lexer": "ipython3",
   "version": "3.7.4"
  }
 },
 "nbformat": 4,
 "nbformat_minor": 4
}
