{
 "cells": [
  {
   "cell_type": "code",
   "execution_count": 2,
   "metadata": {},
   "outputs": [],
   "source": [
    "from pandas import *"
   ]
  },
  {
   "cell_type": "code",
   "execution_count": 3,
   "metadata": {},
   "outputs": [],
   "source": [
    "df = read_csv(r'C:\\Users\\Asus\\Desktop\\WPL Datasets\\matches.csv')"
   ]
  },
  {
   "cell_type": "code",
   "execution_count": 4,
   "metadata": {
    "scrolled": true
   },
   "outputs": [
    {
     "name": "stdout",
     "output_type": "stream",
     "text": [
      "        id  season           city       date                        team1  \\\n",
      "0        1    2017      Hyderabad   4/5/2017          Sunrisers Hyderabad   \n",
      "1        2    2017           Pune   4/6/2017               Mumbai Indians   \n",
      "2        3    2017         Rajkot   4/7/2017                Gujarat Lions   \n",
      "3        4    2017         Indore   4/8/2017       Rising Pune Supergiant   \n",
      "4        5    2017      Bangalore   4/8/2017  Royal Challengers Bangalore   \n",
      "..     ...     ...            ...        ...                          ...   \n",
      "751  11347    2019         Mumbai   5/5/2019        Kolkata Knight Riders   \n",
      "752  11412    2019        Chennai   7/5/2019          Chennai Super Kings   \n",
      "753  11413    2019  Visakhapatnam   8/5/2019          Sunrisers Hyderabad   \n",
      "754  11414    2019  Visakhapatnam  10/5/2019               Delhi Capitals   \n",
      "755  11415    2019      Hyderabad  12/5/2019               Mumbai Indians   \n",
      "\n",
      "                           team2                  toss_winner toss_decision  \\\n",
      "0    Royal Challengers Bangalore  Royal Challengers Bangalore         field   \n",
      "1         Rising Pune Supergiant       Rising Pune Supergiant         field   \n",
      "2          Kolkata Knight Riders        Kolkata Knight Riders         field   \n",
      "3                Kings XI Punjab              Kings XI Punjab         field   \n",
      "4               Delhi Daredevils  Royal Challengers Bangalore           bat   \n",
      "..                           ...                          ...           ...   \n",
      "751               Mumbai Indians               Mumbai Indians         field   \n",
      "752               Mumbai Indians          Chennai Super Kings           bat   \n",
      "753               Delhi Capitals               Delhi Capitals         field   \n",
      "754          Chennai Super Kings          Chennai Super Kings         field   \n",
      "755          Chennai Super Kings               Mumbai Indians           bat   \n",
      "\n",
      "     result  dl_applied                       winner  win_by_runs  \\\n",
      "0    normal           0          Sunrisers Hyderabad           35   \n",
      "1    normal           0       Rising Pune Supergiant            0   \n",
      "2    normal           0        Kolkata Knight Riders            0   \n",
      "3    normal           0              Kings XI Punjab            0   \n",
      "4    normal           0  Royal Challengers Bangalore           15   \n",
      "..      ...         ...                          ...          ...   \n",
      "751  normal           0               Mumbai Indians            0   \n",
      "752  normal           0               Mumbai Indians            0   \n",
      "753  normal           0               Delhi Capitals            0   \n",
      "754  normal           0          Chennai Super Kings            0   \n",
      "755  normal           0               Mumbai Indians            1   \n",
      "\n",
      "     win_by_wickets player_of_match  \\\n",
      "0                 0    Yuvraj Singh   \n",
      "1                 7       SPD Smith   \n",
      "2                10         CA Lynn   \n",
      "3                 6      GJ Maxwell   \n",
      "4                 0       KM Jadhav   \n",
      "..              ...             ...   \n",
      "751               9       HH Pandya   \n",
      "752               6        AS Yadav   \n",
      "753               2         RR Pant   \n",
      "754               6    F du Plessis   \n",
      "755               0       JJ Bumrah   \n",
      "\n",
      "                                         venue         umpire1  \\\n",
      "0    Rajiv Gandhi International Stadium, Uppal     AY Dandekar   \n",
      "1      Maharashtra Cricket Association Stadium  A Nand Kishore   \n",
      "2       Saurashtra Cricket Association Stadium     Nitin Menon   \n",
      "3                       Holkar Cricket Stadium    AK Chaudhary   \n",
      "4                        M Chinnaswamy Stadium             NaN   \n",
      "..                                         ...             ...   \n",
      "751                           Wankhede Stadium   Nanda Kishore   \n",
      "752                  M. A. Chidambaram Stadium     Nigel Llong   \n",
      "753                           ACA-VDCA Stadium             NaN   \n",
      "754                           ACA-VDCA Stadium   Sundaram Ravi   \n",
      "755         Rajiv Gandhi Intl. Cricket Stadium     Nitin Menon   \n",
      "\n",
      "            umpire2                  umpire3  \n",
      "0          NJ Llong                      NaN  \n",
      "1            S Ravi                      NaN  \n",
      "2         CK Nandan                      NaN  \n",
      "3     C Shamshuddin                      NaN  \n",
      "4               NaN                      NaN  \n",
      "..              ...                      ...  \n",
      "751        O Nandan                   S Ravi  \n",
      "752     Nitin Menon                Ian Gould  \n",
      "753             NaN                      NaN  \n",
      "754  Bruce Oxenford  Chettithody Shamshuddin  \n",
      "755       Ian Gould              Nigel Llong  \n",
      "\n",
      "[756 rows x 18 columns]\n"
     ]
    }
   ],
   "source": [
    "print(df)"
   ]
  },
  {
   "cell_type": "code",
   "execution_count": 5,
   "metadata": {},
   "outputs": [
    {
     "name": "stdout",
     "output_type": "stream",
     "text": [
      "        id  season        city       date                        team1  \\\n",
      "7        8    2017      Indore  4/10/2017  Royal Challengers Bangalore   \n",
      "41      42    2017   Bangalore   5/5/2017              Kings XI Punjab   \n",
      "83      84    2008   Bangalore   5/5/2008  Royal Challengers Bangalore   \n",
      "93      94    2008  Chandigarh  5/12/2008  Royal Challengers Bangalore   \n",
      "126    127    2009      Durban  4/24/2009  Royal Challengers Bangalore   \n",
      "138    139    2009      Durban   5/1/2009  Royal Challengers Bangalore   \n",
      "180    181    2010   Bangalore  3/16/2010              Kings XI Punjab   \n",
      "204    205    2010  Chandigarh   4/2/2010              Kings XI Punjab   \n",
      "279    280    2011   Bangalore   5/6/2011  Royal Challengers Bangalore   \n",
      "295    296    2011  Dharamsala  5/17/2011              Kings XI Punjab   \n",
      "332    333    2012  Chandigarh  4/20/2012              Kings XI Punjab   \n",
      "349    350    2012   Bangalore   5/2/2012  Royal Challengers Bangalore   \n",
      "428    429    2013   Bangalore  5/14/2013  Royal Challengers Bangalore   \n",
      "447    448    2013  Chandigarh   5/6/2013  Royal Challengers Bangalore   \n",
      "474    475    2014         NaN  4/28/2014  Royal Challengers Bangalore   \n",
      "487    488    2014   Bangalore   5/9/2014              Kings XI Punjab   \n",
      "556    557    2015   Bangalore   5/6/2015  Royal Challengers Bangalore   \n",
      "565    566    2015  Chandigarh  5/13/2015              Kings XI Punjab   \n",
      "614    615    2016  Chandigarh   5/9/2016  Royal Challengers Bangalore   \n",
      "625    626    2016   Bangalore  5/18/2016  Royal Challengers Bangalore   \n",
      "643   7901    2018   Bengaluru   13/04/18              Kings XI Punjab   \n",
      "683   7941    2018      Indore   14/05/18              Kings XI Punjab   \n",
      "723  11319    2019      Mohali   13/04/19              Kings XI Punjab   \n",
      "737  11333    2019   Bengaluru   24/04/19  Royal Challengers Bangalore   \n",
      "\n",
      "                           team2                  toss_winner toss_decision  \\\n",
      "7                Kings XI Punjab  Royal Challengers Bangalore           bat   \n",
      "41   Royal Challengers Bangalore  Royal Challengers Bangalore         field   \n",
      "83               Kings XI Punjab              Kings XI Punjab         field   \n",
      "93               Kings XI Punjab  Royal Challengers Bangalore           bat   \n",
      "126              Kings XI Punjab  Royal Challengers Bangalore           bat   \n",
      "138              Kings XI Punjab  Royal Challengers Bangalore           bat   \n",
      "180  Royal Challengers Bangalore              Kings XI Punjab           bat   \n",
      "204  Royal Challengers Bangalore              Kings XI Punjab           bat   \n",
      "279              Kings XI Punjab              Kings XI Punjab         field   \n",
      "295  Royal Challengers Bangalore              Kings XI Punjab           bat   \n",
      "332  Royal Challengers Bangalore  Royal Challengers Bangalore         field   \n",
      "349              Kings XI Punjab              Kings XI Punjab         field   \n",
      "428              Kings XI Punjab              Kings XI Punjab         field   \n",
      "447              Kings XI Punjab              Kings XI Punjab         field   \n",
      "474              Kings XI Punjab              Kings XI Punjab         field   \n",
      "487  Royal Challengers Bangalore  Royal Challengers Bangalore         field   \n",
      "556              Kings XI Punjab              Kings XI Punjab         field   \n",
      "565  Royal Challengers Bangalore  Royal Challengers Bangalore         field   \n",
      "614              Kings XI Punjab              Kings XI Punjab         field   \n",
      "625              Kings XI Punjab              Kings XI Punjab         field   \n",
      "643  Royal Challengers Bangalore  Royal Challengers Bangalore         field   \n",
      "683  Royal Challengers Bangalore  Royal Challengers Bangalore         field   \n",
      "723  Royal Challengers Bangalore  Royal Challengers Bangalore         field   \n",
      "737              Kings XI Punjab              Kings XI Punjab         field   \n",
      "\n",
      "     result  dl_applied                       winner  win_by_runs  \\\n",
      "7    normal           0              Kings XI Punjab            0   \n",
      "41   normal           0              Kings XI Punjab           19   \n",
      "83   normal           0              Kings XI Punjab            0   \n",
      "93   normal           0              Kings XI Punjab            0   \n",
      "126  normal           0              Kings XI Punjab            0   \n",
      "138  normal           0  Royal Challengers Bangalore            8   \n",
      "180  normal           0  Royal Challengers Bangalore            0   \n",
      "204  normal           0  Royal Challengers Bangalore            0   \n",
      "279  normal           0  Royal Challengers Bangalore           85   \n",
      "295  normal           0              Kings XI Punjab          111   \n",
      "332  normal           0  Royal Challengers Bangalore            0   \n",
      "349  normal           0              Kings XI Punjab            0   \n",
      "428  normal           0              Kings XI Punjab            0   \n",
      "447  normal           0              Kings XI Punjab            0   \n",
      "474  normal           0              Kings XI Punjab            0   \n",
      "487  normal           0              Kings XI Punjab           32   \n",
      "556  normal           0  Royal Challengers Bangalore          138   \n",
      "565  normal           0              Kings XI Punjab           22   \n",
      "614  normal           0  Royal Challengers Bangalore            1   \n",
      "625  normal           1  Royal Challengers Bangalore           82   \n",
      "643  normal           0  Royal Challengers Bangalore            0   \n",
      "683  normal           0  Royal Challengers Bangalore            0   \n",
      "723  normal           0  Royal Challengers Bangalore            0   \n",
      "737  normal           0  Royal Challengers Bangalore           17   \n",
      "\n",
      "     win_by_wickets player_of_match  \\\n",
      "7                 8        AR Patel   \n",
      "41                0  Sandeep Sharma   \n",
      "83                6     S Sreesanth   \n",
      "93                9        SE Marsh   \n",
      "126               7       RS Bopara   \n",
      "138               0    Yuvraj Singh   \n",
      "180               8       JH Kallis   \n",
      "204               6    KP Pietersen   \n",
      "279               0        CH Gayle   \n",
      "295               0    AC Gilchrist   \n",
      "332               5        CH Gayle   \n",
      "349               4   Azhar Mahmood   \n",
      "428               7    AC Gilchrist   \n",
      "447               6       DA Miller   \n",
      "474               5  Sandeep Sharma   \n",
      "487               0  Sandeep Sharma   \n",
      "556               0        CH Gayle   \n",
      "565               0        AR Patel   \n",
      "614               0       SR Watson   \n",
      "625               0         V Kohli   \n",
      "643               4        UT Yadav   \n",
      "683              10        UT Yadav   \n",
      "723               8  AB de Villiers   \n",
      "737               0  AB de Villiers   \n",
      "\n",
      "                                                 venue                umpire1  \\\n",
      "7                               Holkar Cricket Stadium           AK Chaudhary   \n",
      "41                               M Chinnaswamy Stadium            CB Gaffaney   \n",
      "83                               M Chinnaswamy Stadium               SJ Davis   \n",
      "93          Punjab Cricket Association Stadium, Mohali            BR Doctrove   \n",
      "126                                          Kingsmead            BR Doctrove   \n",
      "138                                          Kingsmead        HDPK Dharmasena   \n",
      "180                              M Chinnaswamy Stadium                  S Das   \n",
      "204         Punjab Cricket Association Stadium, Mohali              BF Bowden   \n",
      "279                              M Chinnaswamy Stadium              Aleem Dar   \n",
      "295       Himachal Pradesh Cricket Association Stadium              Asad Rauf   \n",
      "332         Punjab Cricket Association Stadium, Mohali                 S Ravi   \n",
      "349                              M Chinnaswamy Stadium              BF Bowden   \n",
      "428                              M Chinnaswamy Stadium        HDPK Dharmasena   \n",
      "447         Punjab Cricket Association Stadium, Mohali            VA Kulkarni   \n",
      "474                Dubai International Cricket Stadium              BF Bowden   \n",
      "487                              M Chinnaswamy Stadium                 S Ravi   \n",
      "556                              M Chinnaswamy Stadium         RK Illingworth   \n",
      "565         Punjab Cricket Association Stadium, Mohali              JD Cloete   \n",
      "614  Punjab Cricket Association IS Bindra Stadium, ...           AK Chaudhary   \n",
      "625                              M Chinnaswamy Stadium  KN Ananthapadmanabhan   \n",
      "643                              M Chinnaswamy Stadium                 S Ravi   \n",
      "683                             Holkar Cricket Stadium         Bruce Oxenford   \n",
      "723                                  IS Bindra Stadium                 S Ravi   \n",
      "737                             M. Chinnaswamy Stadium         Bruce Oxenford   \n",
      "\n",
      "                   umpire2        umpire3  \n",
      "7            C Shamshuddin            NaN  \n",
      "41           C Shamshuddin            NaN  \n",
      "83             BR Doctrove            NaN  \n",
      "93               I Shivram            NaN  \n",
      "126         TH Wijewardene            NaN  \n",
      "138                 S Ravi            NaN  \n",
      "180              DJ Harper            NaN  \n",
      "204              M Erasmus            NaN  \n",
      "279              RB Tiffin            NaN  \n",
      "295              AM Saheba            NaN  \n",
      "332              RJ Tucker            NaN  \n",
      "349          C Shamshuddin            NaN  \n",
      "428                 S Ravi            NaN  \n",
      "447               NJ Llong            NaN  \n",
      "474                 S Ravi            NaN  \n",
      "487              K Srinath            NaN  \n",
      "556            VA Kulkarni            NaN  \n",
      "565          C Shamshuddin            NaN  \n",
      "614        HDPK Dharmasena            NaN  \n",
      "625              M Erasmus            NaN  \n",
      "643           A.D Deshmukh  C Shamshuddin  \n",
      "683  Virender Kumar Sharma       O Nandan  \n",
      "723           Ulhas Gandhe    Nigel Llong  \n",
      "737          C Shamshuddin     Rod Tucker  \n"
     ]
    }
   ],
   "source": [
    "team = ['Kings XI Punjab', 'Royal Challengers Bangalore']\n",
    "KXIPvsRCB = df.loc[df['team1'].isin(team) & df['team2'].isin(team)]\n",
    "print(KXIPvsRCB)"
   ]
  },
  {
   "cell_type": "code",
   "execution_count": 6,
   "metadata": {},
   "outputs": [
    {
     "name": "stdout",
     "output_type": "stream",
     "text": [
      "TOTAL MATCHES PLAYED BETWEEN KXIP AND RCB: 24\n"
     ]
    }
   ],
   "source": [
    "total_matches = KXIPvsRCB.groupby('id').size().count()\n",
    "print(\"TOTAL MATCHES PLAYED BETWEEN KXIP AND RCB:\",total_matches)"
   ]
  },
  {
   "cell_type": "code",
   "execution_count": 7,
   "metadata": {
    "scrolled": true
   },
   "outputs": [
    {
     "name": "stdout",
     "output_type": "stream",
     "text": [
      "KXIP WON 12 Matches\n"
     ]
    }
   ],
   "source": [
    "WinKXIP = KXIPvsRCB.loc[(KXIPvsRCB['winner'] == 'Kings XI Punjab')]\n",
    "TimesWinKXIP = WinKXIP.groupby('id').size().count()\n",
    "print(\"KXIP WON\",TimesWinKXIP,\"Matches\")"
   ]
  },
  {
   "cell_type": "code",
   "execution_count": 8,
   "metadata": {},
   "outputs": [
    {
     "name": "stdout",
     "output_type": "stream",
     "text": [
      "RCB WON 12 MATCHES\n"
     ]
    }
   ],
   "source": [
    "WinRCB = KXIPvsRCB.loc[(KXIPvsRCB['winner'] == 'Royal Challengers Bangalore')]\n",
    "TimesWinRCB = WinRCB.groupby('id').size().count()\n",
    "print(\"RCB WON\",TimesWinRCB,\"MATCHES\")"
   ]
  }
 ],
 "metadata": {
  "kernelspec": {
   "display_name": "Python 3",
   "language": "python",
   "name": "python3"
  },
  "language_info": {
   "codemirror_mode": {
    "name": "ipython",
    "version": 3
   },
   "file_extension": ".py",
   "mimetype": "text/x-python",
   "name": "python",
   "nbconvert_exporter": "python",
   "pygments_lexer": "ipython3",
   "version": "3.7.4"
  }
 },
 "nbformat": 4,
 "nbformat_minor": 4
}
