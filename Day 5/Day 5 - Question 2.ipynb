{
 "cells": [
  {
   "cell_type": "code",
   "execution_count": 2,
   "metadata": {},
   "outputs": [],
   "source": [
    "from pandas import *"
   ]
  },
  {
   "cell_type": "code",
   "execution_count": 3,
   "metadata": {
    "scrolled": true
   },
   "outputs": [
    {
     "name": "stdout",
     "output_type": "stream",
     "text": [
      "        match_id  inning         batting_team                 bowling_team  \\\n",
      "0              1       1  Sunrisers Hyderabad  Royal Challengers Bangalore   \n",
      "1              1       1  Sunrisers Hyderabad  Royal Challengers Bangalore   \n",
      "2              1       1  Sunrisers Hyderabad  Royal Challengers Bangalore   \n",
      "3              1       1  Sunrisers Hyderabad  Royal Challengers Bangalore   \n",
      "4              1       1  Sunrisers Hyderabad  Royal Challengers Bangalore   \n",
      "...          ...     ...                  ...                          ...   \n",
      "179073     11415       2  Chennai Super Kings               Mumbai Indians   \n",
      "179074     11415       2  Chennai Super Kings               Mumbai Indians   \n",
      "179075     11415       2  Chennai Super Kings               Mumbai Indians   \n",
      "179076     11415       2  Chennai Super Kings               Mumbai Indians   \n",
      "179077     11415       2  Chennai Super Kings               Mumbai Indians   \n",
      "\n",
      "        over  ball    batsman non_striker      bowler  is_super_over  ...  \\\n",
      "0          1     1  DA Warner    S Dhawan    TS Mills              0  ...   \n",
      "1          1     2  DA Warner    S Dhawan    TS Mills              0  ...   \n",
      "2          1     3  DA Warner    S Dhawan    TS Mills              0  ...   \n",
      "3          1     4  DA Warner    S Dhawan    TS Mills              0  ...   \n",
      "4          1     5  DA Warner    S Dhawan    TS Mills              0  ...   \n",
      "...      ...   ...        ...         ...         ...            ...  ...   \n",
      "179073    20     2  RA Jadeja   SR Watson  SL Malinga              0  ...   \n",
      "179074    20     3  SR Watson   RA Jadeja  SL Malinga              0  ...   \n",
      "179075    20     4  SR Watson   RA Jadeja  SL Malinga              0  ...   \n",
      "179076    20     5  SN Thakur   RA Jadeja  SL Malinga              0  ...   \n",
      "179077    20     6  SN Thakur   RA Jadeja  SL Malinga              0  ...   \n",
      "\n",
      "        bye_runs  legbye_runs  noball_runs  penalty_runs  batsman_runs  \\\n",
      "0              0            0            0             0             0   \n",
      "1              0            0            0             0             0   \n",
      "2              0            0            0             0             4   \n",
      "3              0            0            0             0             0   \n",
      "4              0            0            0             0             0   \n",
      "...          ...          ...          ...           ...           ...   \n",
      "179073         0            0            0             0             1   \n",
      "179074         0            0            0             0             2   \n",
      "179075         0            0            0             0             1   \n",
      "179076         0            0            0             0             2   \n",
      "179077         0            0            0             0             0   \n",
      "\n",
      "        extra_runs  total_runs  player_dismissed dismissal_kind    fielder  \n",
      "0                0           0               NaN            NaN        NaN  \n",
      "1                0           0               NaN            NaN        NaN  \n",
      "2                0           4               NaN            NaN        NaN  \n",
      "3                0           0               NaN            NaN        NaN  \n",
      "4                2           2               NaN            NaN        NaN  \n",
      "...            ...         ...               ...            ...        ...  \n",
      "179073           0           1               NaN            NaN        NaN  \n",
      "179074           0           2               NaN            NaN        NaN  \n",
      "179075           0           1         SR Watson        run out  KH Pandya  \n",
      "179076           0           2               NaN            NaN        NaN  \n",
      "179077           0           0         SN Thakur            lbw        NaN  \n",
      "\n",
      "[179078 rows x 21 columns]\n"
     ]
    }
   ],
   "source": [
    "df = read_csv(r'C:\\Users\\Asus\\Desktop\\WPL Datasets\\deliveries.csv')\n",
    "print(df)"
   ]
  },
  {
   "cell_type": "code",
   "execution_count": 4,
   "metadata": {
    "scrolled": true
   },
   "outputs": [
    {
     "name": "stdout",
     "output_type": "stream",
     "text": [
      "        match_id  inning     batting_team                 bowling_team  over  \\\n",
      "1801           8       2  Kings XI Punjab  Royal Challengers Bangalore     1   \n",
      "1802           8       2  Kings XI Punjab  Royal Challengers Bangalore     1   \n",
      "1803           8       2  Kings XI Punjab  Royal Challengers Bangalore     1   \n",
      "1804           8       2  Kings XI Punjab  Royal Challengers Bangalore     1   \n",
      "1805           8       2  Kings XI Punjab  Royal Challengers Bangalore     1   \n",
      "...          ...     ...              ...                          ...   ...   \n",
      "174939     11333       2  Kings XI Punjab  Royal Challengers Bangalore    20   \n",
      "174940     11333       2  Kings XI Punjab  Royal Challengers Bangalore    20   \n",
      "174941     11333       2  Kings XI Punjab  Royal Challengers Bangalore    20   \n",
      "174942     11333       2  Kings XI Punjab  Royal Challengers Bangalore    20   \n",
      "174943     11333       2  Kings XI Punjab  Royal Challengers Bangalore    20   \n",
      "\n",
      "        ball        batsman    non_striker      bowler  is_super_over  ...  \\\n",
      "1801       1        M Vohra        HM Amla  B Stanlake              0  ...   \n",
      "1802       2        M Vohra        HM Amla  B Stanlake              0  ...   \n",
      "1803       3        HM Amla        M Vohra  B Stanlake              0  ...   \n",
      "1804       4        HM Amla        M Vohra  B Stanlake              0  ...   \n",
      "1805       5        HM Amla        M Vohra  B Stanlake              0  ...   \n",
      "...      ...            ...            ...         ...            ...  ...   \n",
      "174939     2       R Ashwin  Mandeep Singh    UT Yadav              0  ...   \n",
      "174940     3      H Viljoen  Mandeep Singh    UT Yadav              0  ...   \n",
      "174941     4       M Ashwin  Mandeep Singh    UT Yadav              0  ...   \n",
      "174942     5       M Ashwin  Mandeep Singh    UT Yadav              0  ...   \n",
      "174943     6  Mandeep Singh       M Ashwin    UT Yadav              0  ...   \n",
      "\n",
      "        bye_runs  legbye_runs  noball_runs  penalty_runs  batsman_runs  \\\n",
      "1801           0            0            0             0             0   \n",
      "1802           0            0            0             0             1   \n",
      "1803           0            0            0             0             4   \n",
      "1804           0            0            0             0             0   \n",
      "1805           0            0            0             0             1   \n",
      "...          ...          ...          ...           ...           ...   \n",
      "174939         0            0            0             0             0   \n",
      "174940         0            0            0             0             0   \n",
      "174941         0            0            0             0             0   \n",
      "174942         0            0            0             0             1   \n",
      "174943         0            0            0             0             2   \n",
      "\n",
      "        extra_runs  total_runs  player_dismissed dismissal_kind   fielder  \n",
      "1801             0           0               NaN            NaN       NaN  \n",
      "1802             0           1               NaN            NaN       NaN  \n",
      "1803             0           4               NaN            NaN       NaN  \n",
      "1804             0           0               NaN            NaN       NaN  \n",
      "1805             0           1               NaN            NaN       NaN  \n",
      "...            ...         ...               ...            ...       ...  \n",
      "174939           0           0          R Ashwin         caught   V Kohli  \n",
      "174940           0           0         H Viljoen         caught  PA Patel  \n",
      "174941           0           0               NaN            NaN       NaN  \n",
      "174942           0           1               NaN            NaN       NaN  \n",
      "174943           0           2               NaN            NaN       NaN  \n",
      "\n",
      "[2713 rows x 21 columns]\n"
     ]
    }
   ],
   "source": [
    "KXIP = df.loc[(df['batting_team'] == 'Kings XI Punjab') & (df['bowling_team'] == 'Royal Challengers Bangalore')]\n",
    "print(KXIP)"
   ]
  },
  {
   "cell_type": "code",
   "execution_count": 5,
   "metadata": {
    "scrolled": true
   },
   "outputs": [
    {
     "name": "stdout",
     "output_type": "stream",
     "text": [
      "        match_id  inning     batting_team                 bowling_team  over  \\\n",
      "1837           8       2  Kings XI Punjab  Royal Challengers Bangalore     6   \n",
      "1851           8       2  Kings XI Punjab  Royal Challengers Bangalore     9   \n",
      "9714          42       1  Kings XI Punjab  Royal Challengers Bangalore     1   \n",
      "9730          42       1  Kings XI Punjab  Royal Challengers Bangalore     4   \n",
      "9751          42       1  Kings XI Punjab  Royal Challengers Bangalore     7   \n",
      "...          ...     ...              ...                          ...   ...   \n",
      "174882     11333       2  Kings XI Punjab  Royal Challengers Bangalore    11   \n",
      "174932     11333       2  Kings XI Punjab  Royal Challengers Bangalore    19   \n",
      "174937     11333       2  Kings XI Punjab  Royal Challengers Bangalore    19   \n",
      "174939     11333       2  Kings XI Punjab  Royal Challengers Bangalore    20   \n",
      "174940     11333       2  Kings XI Punjab  Royal Challengers Bangalore    20   \n",
      "\n",
      "        ball     batsman    non_striker       bowler  is_super_over  \\\n",
      "1837       6     M Vohra        HM Amla     TS Mills              0   \n",
      "1851       1    AR Patel        HM Amla    YS Chahal              0   \n",
      "9714       5     HM Amla     MJ Guptill  A Choudhary              0   \n",
      "9730       3  MJ Guptill       SE Marsh    S Aravind              0   \n",
      "9751       6    SE Marsh        M Vohra       P Negi              0   \n",
      "...      ...         ...            ...          ...            ...   \n",
      "174882     1    KL Rahul      DA Miller        M Ali              0   \n",
      "174932     1   DA Miller       N Pooran      N Saini              0   \n",
      "174937     6    N Pooran  Mandeep Singh      N Saini              0   \n",
      "174939     2    R Ashwin  Mandeep Singh     UT Yadav              0   \n",
      "174940     3   H Viljoen  Mandeep Singh     UT Yadav              0   \n",
      "\n",
      "        wide_runs  bye_runs  legbye_runs  noball_runs  penalty_runs  \\\n",
      "1837            0         0            0            0             0   \n",
      "1851            0         0            0            0             0   \n",
      "9714            0         0            0            0             0   \n",
      "9730            0         0            0            0             0   \n",
      "9751            0         0            0            0             0   \n",
      "...           ...       ...          ...          ...           ...   \n",
      "174882          0         0            0            0             0   \n",
      "174932          0         0            0            0             0   \n",
      "174937          0         0            0            0             0   \n",
      "174939          0         0            0            0             0   \n",
      "174940          0         0            0            0             0   \n",
      "\n",
      "        batsman_runs  extra_runs  total_runs player_dismissed  \n",
      "1837               0           0           0          M Vohra  \n",
      "1851               0           0           0         AR Patel  \n",
      "9714               0           0           0          HM Amla  \n",
      "9730               0           0           0       MJ Guptill  \n",
      "9751               0           0           0         SE Marsh  \n",
      "...              ...         ...         ...              ...  \n",
      "174882             0           0           0         KL Rahul  \n",
      "174932             0           0           0        DA Miller  \n",
      "174937             0           0           0         N Pooran  \n",
      "174939             0           0           0         R Ashwin  \n",
      "174940             0           0           0        H Viljoen  \n",
      "\n",
      "[135 rows x 19 columns]\n"
     ]
    }
   ],
   "source": [
    "KXIP_Wickets = KXIP.drop(['dismissal_kind', 'fielder'], axis = 1)\n",
    "Only_KXIP_Wickets = KXIP_Wickets.dropna()\n",
    "print(Only_KXIP_Wickets)"
   ]
  },
  {
   "cell_type": "code",
   "execution_count": 6,
   "metadata": {
    "scrolled": true
   },
   "outputs": [
    {
     "name": "stdout",
     "output_type": "stream",
     "text": [
      "        match_id player_dismissed\n",
      "1837           8          M Vohra\n",
      "1851           8         AR Patel\n",
      "9714          42          HM Amla\n",
      "9730          42       MJ Guptill\n",
      "9751          42         SE Marsh\n",
      "...          ...              ...\n",
      "174882     11333         KL Rahul\n",
      "174932     11333        DA Miller\n",
      "174937     11333         N Pooran\n",
      "174939     11333         R Ashwin\n",
      "174940     11333        H Viljoen\n",
      "\n",
      "[135 rows x 2 columns]\n"
     ]
    }
   ],
   "source": [
    "N_Wickets = Only_KXIP_Wickets[['match_id', 'player_dismissed']]\n",
    "print(N_Wickets)"
   ]
  },
  {
   "cell_type": "code",
   "execution_count": 7,
   "metadata": {
    "scrolled": true
   },
   "outputs": [
    {
     "name": "stdout",
     "output_type": "stream",
     "text": [
      "          player_dismissed\n",
      "match_id                  \n",
      "8                        2\n",
      "42                       7\n",
      "84                       4\n",
      "94                       1\n",
      "127                      3\n",
      "139                      7\n",
      "181                      3\n",
      "205                      5\n",
      "280                      9\n",
      "296                      2\n",
      "333                      6\n",
      "350                      6\n",
      "429                      3\n",
      "448                      4\n",
      "475                      5\n",
      "488                      8\n",
      "557                     10\n",
      "566                      6\n",
      "615                      4\n",
      "626                      9\n",
      "7901                    10\n",
      "7941                    10\n",
      "11319                    4\n",
      "11333                    7\n"
     ]
    }
   ],
   "source": [
    "Wickets_Every_Match = N_Wickets.groupby('match_id').count()\n",
    "print(Wickets_Every_Match)"
   ]
  },
  {
   "cell_type": "code",
   "execution_count": 8,
   "metadata": {},
   "outputs": [
    {
     "name": "stdout",
     "output_type": "stream",
     "text": [
      "3\n"
     ]
    }
   ],
   "source": [
    "r1 = list(range(0,3))\n",
    "a = Wickets_Every_Match.loc[Wickets_Every_Match['player_dismissed'].isin(r1)]\n",
    "A = a.groupby('match_id').size().count()\n",
    "print(A)"
   ]
  },
  {
   "cell_type": "code",
   "execution_count": 9,
   "metadata": {},
   "outputs": [
    {
     "name": "stdout",
     "output_type": "stream",
     "text": [
      "9\n"
     ]
    }
   ],
   "source": [
    "r2 = list(range(3,6))\n",
    "b = Wickets_Every_Match.loc[Wickets_Every_Match['player_dismissed'].isin(r2)]\n",
    "B = b.groupby('match_id').size().count()\n",
    "print(B)"
   ]
  },
  {
   "cell_type": "code",
   "execution_count": 10,
   "metadata": {},
   "outputs": [
    {
     "name": "stdout",
     "output_type": "stream",
     "text": [
      "7\n"
     ]
    }
   ],
   "source": [
    "r3 = list(range(6,9))\n",
    "c = Wickets_Every_Match.loc[Wickets_Every_Match['player_dismissed'].isin(r3)]\n",
    "C = c.groupby('match_id').size().count()\n",
    "print(C)"
   ]
  },
  {
   "cell_type": "code",
   "execution_count": 11,
   "metadata": {},
   "outputs": [
    {
     "name": "stdout",
     "output_type": "stream",
     "text": [
      "5\n"
     ]
    }
   ],
   "source": [
    "r4 = list(range(9,11))\n",
    "d = Wickets_Every_Match.loc[Wickets_Every_Match['player_dismissed'].isin(r4)]\n",
    "D = d.groupby('match_id').size().count()\n",
    "print(D)"
   ]
  },
  {
   "cell_type": "code",
   "execution_count": 12,
   "metadata": {},
   "outputs": [
    {
     "name": "stdout",
     "output_type": "stream",
     "text": [
      "24\n"
     ]
    }
   ],
   "source": [
    "matches = Wickets_Every_Match.groupby('match_id').size().count()\n",
    "print(matches)"
   ]
  },
  {
   "cell_type": "code",
   "execution_count": 13,
   "metadata": {},
   "outputs": [
    {
     "name": "stdout",
     "output_type": "stream",
     "text": [
      "135\n"
     ]
    }
   ],
   "source": [
    "total_wickets = Wickets_Every_Match['player_dismissed'].sum()\n",
    "print(total_wickets)"
   ]
  },
  {
   "cell_type": "code",
   "execution_count": 14,
   "metadata": {},
   "outputs": [
    {
     "name": "stdout",
     "output_type": "stream",
     "text": [
      "5.625\n"
     ]
    }
   ],
   "source": [
    "avg = total_wickets/matches\n",
    "print(avg)"
   ]
  },
  {
   "cell_type": "code",
   "execution_count": null,
   "metadata": {},
   "outputs": [],
   "source": []
  }
 ],
 "metadata": {
  "kernelspec": {
   "display_name": "Python 3",
   "language": "python",
   "name": "python3"
  },
  "language_info": {
   "codemirror_mode": {
    "name": "ipython",
    "version": 3
   },
   "file_extension": ".py",
   "mimetype": "text/x-python",
   "name": "python",
   "nbconvert_exporter": "python",
   "pygments_lexer": "ipython3",
   "version": "3.7.4"
  }
 },
 "nbformat": 4,
 "nbformat_minor": 4
}
