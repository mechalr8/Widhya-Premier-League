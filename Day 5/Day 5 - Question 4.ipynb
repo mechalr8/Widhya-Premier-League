{
 "cells": [
  {
   "cell_type": "code",
   "execution_count": 1,
   "metadata": {},
   "outputs": [],
   "source": [
    "from pandas import *"
   ]
  },
  {
   "cell_type": "code",
   "execution_count": 2,
   "metadata": {},
   "outputs": [],
   "source": [
    "df = read_csv(r'C:\\Users\\Asus\\Desktop\\WPL Datasets\\deliveries.csv')"
   ]
  },
  {
   "cell_type": "code",
   "execution_count": 3,
   "metadata": {
    "scrolled": true
   },
   "outputs": [
    {
     "name": "stdout",
     "output_type": "stream",
     "text": [
      "        match_id  inning         batting_team                 bowling_team  \\\n",
      "0              1       1  Sunrisers Hyderabad  Royal Challengers Bangalore   \n",
      "1              1       1  Sunrisers Hyderabad  Royal Challengers Bangalore   \n",
      "2              1       1  Sunrisers Hyderabad  Royal Challengers Bangalore   \n",
      "3              1       1  Sunrisers Hyderabad  Royal Challengers Bangalore   \n",
      "4              1       1  Sunrisers Hyderabad  Royal Challengers Bangalore   \n",
      "...          ...     ...                  ...                          ...   \n",
      "179073     11415       2  Chennai Super Kings               Mumbai Indians   \n",
      "179074     11415       2  Chennai Super Kings               Mumbai Indians   \n",
      "179075     11415       2  Chennai Super Kings               Mumbai Indians   \n",
      "179076     11415       2  Chennai Super Kings               Mumbai Indians   \n",
      "179077     11415       2  Chennai Super Kings               Mumbai Indians   \n",
      "\n",
      "        over  ball    batsman non_striker      bowler  is_super_over  ...  \\\n",
      "0          1     1  DA Warner    S Dhawan    TS Mills              0  ...   \n",
      "1          1     2  DA Warner    S Dhawan    TS Mills              0  ...   \n",
      "2          1     3  DA Warner    S Dhawan    TS Mills              0  ...   \n",
      "3          1     4  DA Warner    S Dhawan    TS Mills              0  ...   \n",
      "4          1     5  DA Warner    S Dhawan    TS Mills              0  ...   \n",
      "...      ...   ...        ...         ...         ...            ...  ...   \n",
      "179073    20     2  RA Jadeja   SR Watson  SL Malinga              0  ...   \n",
      "179074    20     3  SR Watson   RA Jadeja  SL Malinga              0  ...   \n",
      "179075    20     4  SR Watson   RA Jadeja  SL Malinga              0  ...   \n",
      "179076    20     5  SN Thakur   RA Jadeja  SL Malinga              0  ...   \n",
      "179077    20     6  SN Thakur   RA Jadeja  SL Malinga              0  ...   \n",
      "\n",
      "        bye_runs  legbye_runs  noball_runs  penalty_runs  batsman_runs  \\\n",
      "0              0            0            0             0             0   \n",
      "1              0            0            0             0             0   \n",
      "2              0            0            0             0             4   \n",
      "3              0            0            0             0             0   \n",
      "4              0            0            0             0             0   \n",
      "...          ...          ...          ...           ...           ...   \n",
      "179073         0            0            0             0             1   \n",
      "179074         0            0            0             0             2   \n",
      "179075         0            0            0             0             1   \n",
      "179076         0            0            0             0             2   \n",
      "179077         0            0            0             0             0   \n",
      "\n",
      "        extra_runs  total_runs  player_dismissed dismissal_kind    fielder  \n",
      "0                0           0               NaN            NaN        NaN  \n",
      "1                0           0               NaN            NaN        NaN  \n",
      "2                0           4               NaN            NaN        NaN  \n",
      "3                0           0               NaN            NaN        NaN  \n",
      "4                2           2               NaN            NaN        NaN  \n",
      "...            ...         ...               ...            ...        ...  \n",
      "179073           0           1               NaN            NaN        NaN  \n",
      "179074           0           2               NaN            NaN        NaN  \n",
      "179075           0           1         SR Watson        run out  KH Pandya  \n",
      "179076           0           2               NaN            NaN        NaN  \n",
      "179077           0           0         SN Thakur            lbw        NaN  \n",
      "\n",
      "[179078 rows x 21 columns]\n"
     ]
    }
   ],
   "source": [
    "print(df)"
   ]
  },
  {
   "cell_type": "code",
   "execution_count": 6,
   "metadata": {
    "scrolled": true
   },
   "outputs": [
    {
     "name": "stdout",
     "output_type": "stream",
     "text": [
      "        match_id  inning                 batting_team  \\\n",
      "1678           8       1  Royal Challengers Bangalore   \n",
      "1679           8       1  Royal Challengers Bangalore   \n",
      "1680           8       1  Royal Challengers Bangalore   \n",
      "1681           8       1  Royal Challengers Bangalore   \n",
      "1682           8       1  Royal Challengers Bangalore   \n",
      "...          ...     ...                          ...   \n",
      "174939     11333       2              Kings XI Punjab   \n",
      "174940     11333       2              Kings XI Punjab   \n",
      "174941     11333       2              Kings XI Punjab   \n",
      "174942     11333       2              Kings XI Punjab   \n",
      "174943     11333       2              Kings XI Punjab   \n",
      "\n",
      "                       bowling_team  over  ball        batsman    non_striker  \\\n",
      "1678                Kings XI Punjab     1     1      SR Watson   Vishnu Vinod   \n",
      "1679                Kings XI Punjab     1     2   Vishnu Vinod      SR Watson   \n",
      "1680                Kings XI Punjab     1     3   Vishnu Vinod      SR Watson   \n",
      "1681                Kings XI Punjab     1     4      SR Watson   Vishnu Vinod   \n",
      "1682                Kings XI Punjab     1     5      SR Watson   Vishnu Vinod   \n",
      "...                             ...   ...   ...            ...            ...   \n",
      "174939  Royal Challengers Bangalore    20     2       R Ashwin  Mandeep Singh   \n",
      "174940  Royal Challengers Bangalore    20     3      H Viljoen  Mandeep Singh   \n",
      "174941  Royal Challengers Bangalore    20     4       M Ashwin  Mandeep Singh   \n",
      "174942  Royal Challengers Bangalore    20     5       M Ashwin  Mandeep Singh   \n",
      "174943  Royal Challengers Bangalore    20     6  Mandeep Singh       M Ashwin   \n",
      "\n",
      "          bowler  is_super_over  ...  bye_runs  legbye_runs  noball_runs  \\\n",
      "1678    AR Patel              0  ...         0            0            0   \n",
      "1679    AR Patel              0  ...         0            0            0   \n",
      "1680    AR Patel              0  ...         0            0            0   \n",
      "1681    AR Patel              0  ...         0            0            0   \n",
      "1682    AR Patel              0  ...         0            0            0   \n",
      "...          ...            ...  ...       ...          ...          ...   \n",
      "174939  UT Yadav              0  ...         0            0            0   \n",
      "174940  UT Yadav              0  ...         0            0            0   \n",
      "174941  UT Yadav              0  ...         0            0            0   \n",
      "174942  UT Yadav              0  ...         0            0            0   \n",
      "174943  UT Yadav              0  ...         0            0            0   \n",
      "\n",
      "        penalty_runs  batsman_runs  extra_runs  total_runs  player_dismissed  \\\n",
      "1678               0             1           0           1               NaN   \n",
      "1679               0             0           0           0               NaN   \n",
      "1680               0             1           0           1               NaN   \n",
      "1681               0             0           0           0               NaN   \n",
      "1682               0             0           0           0               NaN   \n",
      "...              ...           ...         ...         ...               ...   \n",
      "174939             0             0           0           0          R Ashwin   \n",
      "174940             0             0           0           0         H Viljoen   \n",
      "174941             0             0           0           0               NaN   \n",
      "174942             0             1           0           1               NaN   \n",
      "174943             0             2           0           2               NaN   \n",
      "\n",
      "       dismissal_kind   fielder  \n",
      "1678              NaN       NaN  \n",
      "1679              NaN       NaN  \n",
      "1680              NaN       NaN  \n",
      "1681              NaN       NaN  \n",
      "1682              NaN       NaN  \n",
      "...               ...       ...  \n",
      "174939         caught   V Kohli  \n",
      "174940         caught  PA Patel  \n",
      "174941            NaN       NaN  \n",
      "174942            NaN       NaN  \n",
      "174943            NaN       NaN  \n",
      "\n",
      "[5476 rows x 21 columns]\n"
     ]
    }
   ],
   "source": [
    "team = ['Kings XI Punjab', 'Royal Challengers Bangalore']\n",
    "KXIPvsRCB = df.loc[df['batting_team'].isin(team) & df['bowling_team'].isin(team)]\n",
    "print(KXIPvsRCB)"
   ]
  },
  {
   "cell_type": "code",
   "execution_count": 7,
   "metadata": {
    "scrolled": true
   },
   "outputs": [
    {
     "name": "stdout",
     "output_type": "stream",
     "text": [
      "        match_id  inning                 batting_team  \\\n",
      "1695           8       1  Royal Challengers Bangalore   \n",
      "1731           8       1  Royal Challengers Bangalore   \n",
      "1771           8       1  Royal Challengers Bangalore   \n",
      "1777           8       1  Royal Challengers Bangalore   \n",
      "1781           8       1  Royal Challengers Bangalore   \n",
      "...          ...     ...                          ...   \n",
      "174902     11333       2              Kings XI Punjab   \n",
      "174904     11333       2              Kings XI Punjab   \n",
      "174915     11333       2              Kings XI Punjab   \n",
      "174917     11333       2              Kings XI Punjab   \n",
      "174938     11333       2              Kings XI Punjab   \n",
      "\n",
      "                       bowling_team  over  ball         batsman  \\\n",
      "1695                Kings XI Punjab     3     6  AB de Villiers   \n",
      "1731                Kings XI Punjab     9     6   Mandeep Singh   \n",
      "1771                Kings XI Punjab    16     3  AB de Villiers   \n",
      "1777                Kings XI Punjab    17     3  AB de Villiers   \n",
      "1781                Kings XI Punjab    17     7  AB de Villiers   \n",
      "...                             ...   ...   ...             ...   \n",
      "174902  Royal Challengers Bangalore    14     2        N Pooran   \n",
      "174904  Royal Challengers Bangalore    14     4        N Pooran   \n",
      "174915  Royal Challengers Bangalore    16     3        N Pooran   \n",
      "174917  Royal Challengers Bangalore    16     5        N Pooran   \n",
      "174938  Royal Challengers Bangalore    20     1        R Ashwin   \n",
      "\n",
      "           non_striker             bowler  is_super_over  ...  bye_runs  \\\n",
      "1695      Vishnu Vinod          MM Sharma              0  ...         0   \n",
      "1731    AB de Villiers        T Natarajan              0  ...         0   \n",
      "1771         STR Binny           VR Aaron              0  ...         0   \n",
      "1777         STR Binny         MP Stoinis              0  ...         0   \n",
      "1781         STR Binny         MP Stoinis              0  ...         0   \n",
      "...                ...                ...            ...  ...       ...   \n",
      "174902       DA Miller  Washington Sundar              0  ...         0   \n",
      "174904       DA Miller  Washington Sundar              0  ...         0   \n",
      "174915       DA Miller              M Ali              0  ...         0   \n",
      "174917       DA Miller              M Ali              0  ...         0   \n",
      "174938   Mandeep Singh           UT Yadav              0  ...         0   \n",
      "\n",
      "        legbye_runs  noball_runs  penalty_runs  batsman_runs  extra_runs  \\\n",
      "1695              0            0             0             6           0   \n",
      "1731              0            0             0             6           0   \n",
      "1771              0            0             0             6           0   \n",
      "1777              0            0             0             6           0   \n",
      "1781              0            0             0             6           0   \n",
      "...             ...          ...           ...           ...         ...   \n",
      "174902            0            0             0             6           0   \n",
      "174904            0            0             0             6           0   \n",
      "174915            0            0             0             6           0   \n",
      "174917            0            0             0             6           0   \n",
      "174938            0            0             0             6           0   \n",
      "\n",
      "        total_runs  player_dismissed dismissal_kind fielder  \n",
      "1695             6               NaN            NaN     NaN  \n",
      "1731             6               NaN            NaN     NaN  \n",
      "1771             6               NaN            NaN     NaN  \n",
      "1777             6               NaN            NaN     NaN  \n",
      "1781             6               NaN            NaN     NaN  \n",
      "...            ...               ...            ...     ...  \n",
      "174902           6               NaN            NaN     NaN  \n",
      "174904           6               NaN            NaN     NaN  \n",
      "174915           6               NaN            NaN     NaN  \n",
      "174917           6               NaN            NaN     NaN  \n",
      "174938           6               NaN            NaN     NaN  \n",
      "\n",
      "[289 rows x 21 columns]\n"
     ]
    }
   ],
   "source": [
    "sixes = KXIPvsRCB.loc[(KXIPvsRCB['batsman_runs'] == 6)]\n",
    "print(sixes)"
   ]
  },
  {
   "cell_type": "code",
   "execution_count": 9,
   "metadata": {
    "scrolled": true
   },
   "outputs": [
    {
     "name": "stdout",
     "output_type": "stream",
     "text": [
      "        match_id  batsman_runs\n",
      "1695           8             6\n",
      "1731           8             6\n",
      "1771           8             6\n",
      "1777           8             6\n",
      "1781           8             6\n",
      "...          ...           ...\n",
      "174902     11333             6\n",
      "174904     11333             6\n",
      "174915     11333             6\n",
      "174917     11333             6\n",
      "174938     11333             6\n",
      "\n",
      "[289 rows x 2 columns]\n"
     ]
    }
   ],
   "source": [
    "Only_sixes = sixes[['match_id', 'batsman_runs']]\n",
    "print(Only_sixes)"
   ]
  },
  {
   "cell_type": "code",
   "execution_count": 12,
   "metadata": {
    "scrolled": true
   },
   "outputs": [
    {
     "name": "stdout",
     "output_type": "stream",
     "text": [
      "          sixes\n",
      "match_id       \n",
      "8            20\n",
      "42            6\n",
      "84            4\n",
      "94            9\n",
      "127          12\n",
      "139           9\n",
      "181          20\n",
      "205           7\n",
      "280          12\n",
      "296          19\n",
      "333           7\n",
      "350          14\n",
      "429          14\n",
      "448          14\n",
      "475           4\n",
      "488          16\n",
      "557          21\n",
      "566           7\n",
      "615           5\n",
      "626          20\n",
      "7901         11\n",
      "7941          7\n",
      "11319        10\n",
      "11333        21\n"
     ]
    }
   ],
   "source": [
    "N_sixes = Only_sixes.groupby('match_id').count()\n",
    "N_sixes.columns = ['sixes']\n",
    "print(N_sixes)"
   ]
  },
  {
   "cell_type": "code",
   "execution_count": 14,
   "metadata": {},
   "outputs": [
    {
     "name": "stdout",
     "output_type": "stream",
     "text": [
      "3\n"
     ]
    }
   ],
   "source": [
    "r1 = list(range(0,6))\n",
    "a = N_sixes.loc[N_sixes['sixes'].isin(r1)]\n",
    "A = a.groupby('match_id').size().count()\n",
    "print(A)"
   ]
  },
  {
   "cell_type": "code",
   "execution_count": 15,
   "metadata": {},
   "outputs": [
    {
     "name": "stdout",
     "output_type": "stream",
     "text": [
      "8\n"
     ]
    }
   ],
   "source": [
    "r2 = list(range(6,11))\n",
    "b = N_sixes.loc[N_sixes['sixes'].isin(r2)]\n",
    "B = b.groupby('match_id').size().count()\n",
    "print(B)"
   ]
  },
  {
   "cell_type": "code",
   "execution_count": 17,
   "metadata": {},
   "outputs": [
    {
     "name": "stdout",
     "output_type": "stream",
     "text": [
      "6\n"
     ]
    }
   ],
   "source": [
    "r3 = list(range(11,15))\n",
    "c = N_sixes.loc[N_sixes['sixes'].isin(r3)]\n",
    "C = c.groupby('match_id').size().count()\n",
    "print(C)"
   ]
  },
  {
   "cell_type": "code",
   "execution_count": 19,
   "metadata": {},
   "outputs": [
    {
     "name": "stdout",
     "output_type": "stream",
     "text": [
      "7\n"
     ]
    }
   ],
   "source": [
    "max_value = N_sixes['sixes'].max()\n",
    "r4 = list(range(15,max_value+1))\n",
    "d = N_sixes.loc[N_sixes['sixes'].isin(r4)]\n",
    "D = d.groupby('match_id').size().count()\n",
    "print(D)"
   ]
  },
  {
   "cell_type": "code",
   "execution_count": null,
   "metadata": {},
   "outputs": [],
   "source": []
  }
 ],
 "metadata": {
  "kernelspec": {
   "display_name": "Python 3",
   "language": "python",
   "name": "python3"
  },
  "language_info": {
   "codemirror_mode": {
    "name": "ipython",
    "version": 3
   },
   "file_extension": ".py",
   "mimetype": "text/x-python",
   "name": "python",
   "nbconvert_exporter": "python",
   "pygments_lexer": "ipython3",
   "version": "3.7.4"
  }
 },
 "nbformat": 4,
 "nbformat_minor": 4
}
