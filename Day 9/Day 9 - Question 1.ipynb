{
 "cells": [
  {
   "cell_type": "code",
   "execution_count": 1,
   "metadata": {},
   "outputs": [],
   "source": [
    "from pandas import *"
   ]
  },
  {
   "cell_type": "code",
   "execution_count": 2,
   "metadata": {
    "scrolled": true
   },
   "outputs": [
    {
     "name": "stdout",
     "output_type": "stream",
     "text": [
      "        id  season           city        date                        team1  \\\n",
      "0        1    2017      Hyderabad  2017-04-05          Sunrisers Hyderabad   \n",
      "1        2    2017           Pune  2017-04-06               Mumbai Indians   \n",
      "2        3    2017         Rajkot  2017-04-07                Gujarat Lions   \n",
      "3        4    2017         Indore  2017-04-08       Rising Pune Supergiant   \n",
      "4        5    2017      Bangalore  2017-04-08  Royal Challengers Bangalore   \n",
      "..     ...     ...            ...         ...                          ...   \n",
      "751  11347    2019         Mumbai    05/05/19        Kolkata Knight Riders   \n",
      "752  11412    2019        Chennai    07/05/19          Chennai Super Kings   \n",
      "753  11413    2019  Visakhapatnam    08/05/19          Sunrisers Hyderabad   \n",
      "754  11414    2019  Visakhapatnam    10/05/19               Delhi Capitals   \n",
      "755  11415    2019      Hyderabad    12/05/19               Mumbai Indians   \n",
      "\n",
      "                           team2                  toss_winner toss_decision  \\\n",
      "0    Royal Challengers Bangalore  Royal Challengers Bangalore         field   \n",
      "1         Rising Pune Supergiant       Rising Pune Supergiant         field   \n",
      "2          Kolkata Knight Riders        Kolkata Knight Riders         field   \n",
      "3                Kings XI Punjab              Kings XI Punjab         field   \n",
      "4               Delhi Daredevils  Royal Challengers Bangalore           bat   \n",
      "..                           ...                          ...           ...   \n",
      "751               Mumbai Indians               Mumbai Indians         field   \n",
      "752               Mumbai Indians          Chennai Super Kings           bat   \n",
      "753               Delhi Capitals               Delhi Capitals         field   \n",
      "754          Chennai Super Kings          Chennai Super Kings         field   \n",
      "755          Chennai Super Kings               Mumbai Indians           bat   \n",
      "\n",
      "     result  dl_applied                       winner  win_by_runs  \\\n",
      "0    normal           0          Sunrisers Hyderabad           35   \n",
      "1    normal           0       Rising Pune Supergiant            0   \n",
      "2    normal           0        Kolkata Knight Riders            0   \n",
      "3    normal           0              Kings XI Punjab            0   \n",
      "4    normal           0  Royal Challengers Bangalore           15   \n",
      "..      ...         ...                          ...          ...   \n",
      "751  normal           0               Mumbai Indians            0   \n",
      "752  normal           0               Mumbai Indians            0   \n",
      "753  normal           0               Delhi Capitals            0   \n",
      "754  normal           0          Chennai Super Kings            0   \n",
      "755  normal           0               Mumbai Indians            1   \n",
      "\n",
      "     win_by_wickets player_of_match  \\\n",
      "0                 0    Yuvraj Singh   \n",
      "1                 7       SPD Smith   \n",
      "2                10         CA Lynn   \n",
      "3                 6      GJ Maxwell   \n",
      "4                 0       KM Jadhav   \n",
      "..              ...             ...   \n",
      "751               9       HH Pandya   \n",
      "752               6        AS Yadav   \n",
      "753               2         RR Pant   \n",
      "754               6    F du Plessis   \n",
      "755               0       JJ Bumrah   \n",
      "\n",
      "                                         venue         umpire1  \\\n",
      "0    Rajiv Gandhi International Stadium, Uppal     AY Dandekar   \n",
      "1      Maharashtra Cricket Association Stadium  A Nand Kishore   \n",
      "2       Saurashtra Cricket Association Stadium     Nitin Menon   \n",
      "3                       Holkar Cricket Stadium    AK Chaudhary   \n",
      "4                        M Chinnaswamy Stadium             NaN   \n",
      "..                                         ...             ...   \n",
      "751                           Wankhede Stadium   Nanda Kishore   \n",
      "752                  M. A. Chidambaram Stadium     Nigel Llong   \n",
      "753                           ACA-VDCA Stadium             NaN   \n",
      "754                           ACA-VDCA Stadium   Sundaram Ravi   \n",
      "755         Rajiv Gandhi Intl. Cricket Stadium     Nitin Menon   \n",
      "\n",
      "            umpire2                  umpire3  \n",
      "0          NJ Llong                      NaN  \n",
      "1            S Ravi                      NaN  \n",
      "2         CK Nandan                      NaN  \n",
      "3     C Shamshuddin                      NaN  \n",
      "4               NaN                      NaN  \n",
      "..              ...                      ...  \n",
      "751        O Nandan                   S Ravi  \n",
      "752     Nitin Menon                Ian Gould  \n",
      "753             NaN                      NaN  \n",
      "754  Bruce Oxenford  Chettithody Shamshuddin  \n",
      "755       Ian Gould              Nigel Llong  \n",
      "\n",
      "[756 rows x 18 columns]\n"
     ]
    }
   ],
   "source": [
    "df = read_csv(r'C:\\Users\\LENOVO\\Desktop\\WPL Datasets\\matches.csv')\n",
    "print(df)"
   ]
  },
  {
   "cell_type": "code",
   "execution_count": 6,
   "metadata": {
    "scrolled": true
   },
   "outputs": [
    {
     "name": "stdout",
     "output_type": "stream",
     "text": [
      "        id  season       city        date                team1  \\\n",
      "82      83    2008     Jaipur  2008-05-04  Chennai Super Kings   \n",
      "109    110    2008    Chennai  2008-05-24     Rajasthan Royals   \n",
      "116    117    2008     Mumbai  2008-06-01  Chennai Super Kings   \n",
      "136    137    2009  Centurion  2009-04-30  Chennai Super Kings   \n",
      "151    152    2009  Kimberley  2009-05-09     Rajasthan Royals   \n",
      "197    198    2010  Ahmedabad  2010-03-28     Rajasthan Royals   \n",
      "205    206    2010    Chennai  2010-04-03  Chennai Super Kings   \n",
      "275    276    2011    Chennai  2011-05-04     Rajasthan Royals   \n",
      "284    285    2011     Jaipur  2011-05-09  Chennai Super Kings   \n",
      "333    334    2012    Chennai  2012-04-21     Rajasthan Royals   \n",
      "360    361    2012     Jaipur  2012-05-10     Rajasthan Royals   \n",
      "409    410    2013    Chennai  2013-04-22     Rajasthan Royals   \n",
      "441    442    2013     Jaipur  2013-05-12  Chennai Super Kings   \n",
      "466    467    2014        NaN  2014-04-23  Chennai Super Kings   \n",
      "493    494    2014     Ranchi  2014-05-13     Rajasthan Royals   \n",
      "532    533    2015  Ahmedabad  2015-04-19  Chennai Super Kings   \n",
      "562    563    2015    Chennai  2015-05-10  Chennai Super Kings   \n",
      "652   7910    2018       Pune    20/04/18  Chennai Super Kings   \n",
      "678   7936    2018     Jaipur    11/05/18  Chennai Super Kings   \n",
      "707  11148    2019    Chennai    31/03/19  Chennai Super Kings   \n",
      "720  11316    2019     Jaipur    11/04/19     Rajasthan Royals   \n",
      "\n",
      "                   team2          toss_winner toss_decision  result  \\\n",
      "82      Rajasthan Royals  Chennai Super Kings           bat  normal   \n",
      "109  Chennai Super Kings     Rajasthan Royals           bat  normal   \n",
      "116     Rajasthan Royals     Rajasthan Royals         field  normal   \n",
      "136     Rajasthan Royals     Rajasthan Royals         field  normal   \n",
      "151  Chennai Super Kings     Rajasthan Royals           bat  normal   \n",
      "197  Chennai Super Kings     Rajasthan Royals           bat  normal   \n",
      "205     Rajasthan Royals  Chennai Super Kings           bat  normal   \n",
      "275  Chennai Super Kings     Rajasthan Royals           bat  normal   \n",
      "284     Rajasthan Royals     Rajasthan Royals         field  normal   \n",
      "333  Chennai Super Kings     Rajasthan Royals           bat  normal   \n",
      "360  Chennai Super Kings  Chennai Super Kings         field  normal   \n",
      "409  Chennai Super Kings     Rajasthan Royals           bat  normal   \n",
      "441     Rajasthan Royals     Rajasthan Royals         field  normal   \n",
      "466     Rajasthan Royals     Rajasthan Royals         field  normal   \n",
      "493  Chennai Super Kings     Rajasthan Royals           bat  normal   \n",
      "532     Rajasthan Royals  Chennai Super Kings           bat  normal   \n",
      "562     Rajasthan Royals  Chennai Super Kings           bat  normal   \n",
      "652     Rajasthan Royals     Rajasthan Royals         field  normal   \n",
      "678     Rajasthan Royals  Chennai Super Kings           bat  normal   \n",
      "707     Rajasthan Royals     Rajasthan Royals         field  normal   \n",
      "720  Chennai Super Kings  Chennai Super Kings         field  normal   \n",
      "\n",
      "     dl_applied               winner  win_by_runs  win_by_wickets  \\\n",
      "82            0     Rajasthan Royals            0               8   \n",
      "109           0     Rajasthan Royals           10               0   \n",
      "116           0     Rajasthan Royals            0               3   \n",
      "136           0  Chennai Super Kings           38               0   \n",
      "151           0  Chennai Super Kings            0               7   \n",
      "197           0     Rajasthan Royals           17               0   \n",
      "205           0  Chennai Super Kings           23               0   \n",
      "275           0  Chennai Super Kings            0               8   \n",
      "284           0  Chennai Super Kings           63               0   \n",
      "333           0  Chennai Super Kings            0               7   \n",
      "360           0  Chennai Super Kings            0               4   \n",
      "409           0  Chennai Super Kings            0               5   \n",
      "441           0     Rajasthan Royals            0               5   \n",
      "466           0  Chennai Super Kings            7               0   \n",
      "493           0  Chennai Super Kings            0               5   \n",
      "532           0     Rajasthan Royals            0               8   \n",
      "562           0  Chennai Super Kings           12               0   \n",
      "652           0  Chennai Super Kings           64               0   \n",
      "678           0     Rajasthan Royals            0               4   \n",
      "707           0  Chennai Super Kings            8               0   \n",
      "720           0  Chennai Super Kings            0               4   \n",
      "\n",
      "    player_of_match                                    venue          umpire1  \\\n",
      "82    Sohail Tanvir                   Sawai Mansingh Stadium        Asad Rauf   \n",
      "109       JA Morkel          MA Chidambaram Stadium, Chepauk        DJ Harper   \n",
      "116       YK Pathan               Dr DY Patil Sports Academy        BF Bowden   \n",
      "136        SK Raina                          SuperSport Park       GAV Baxter   \n",
      "151     S Badrinath                    De Beers Diamond Oval       GAV Baxter   \n",
      "197         NV Ojha             Sardar Patel Stadium, Motera        SS Hazare   \n",
      "205         M Vijay          MA Chidambaram Stadium, Chepauk      RE Koertzen   \n",
      "275      MEK Hussey          MA Chidambaram Stadium, Chepauk        SS Hazare   \n",
      "284         M Vijay                   Sawai Mansingh Stadium      K Hariharan   \n",
      "333    F du Plessis          MA Chidambaram Stadium, Chepauk        Aleem Dar   \n",
      "360   BW Hilfenhaus                   Sawai Mansingh Stadium     BNJ Oxenford   \n",
      "409      MEK Hussey          MA Chidambaram Stadium, Chepauk         S Asnani   \n",
      "441       SR Watson                   Sawai Mansingh Stadium  HDPK Dharmasena   \n",
      "466       RA Jadeja      Dubai International Cricket Stadium  HDPK Dharmasena   \n",
      "493       RA Jadeja       JSCA International Stadium Complex     BNJ Oxenford   \n",
      "532       AM Rahane             Sardar Patel Stadium, Motera     AK Chaudhary   \n",
      "562       RA Jadeja          MA Chidambaram Stadium, Chepauk        M Erasmus   \n",
      "652       SR Watson  Maharashtra Cricket Association Stadium      Nitin Menon   \n",
      "678      JC Buttler                   Sawai Mansingh Stadium   Marais Erasmus   \n",
      "707        MS Dhoni                M. A. Chidambaram Stadium         O Nandan   \n",
      "720        MS Dhoni                   Sawai Mansingh Stadium   Bruce Oxenford   \n",
      "\n",
      "                  umpire2         umpire3  \n",
      "82         AV Jayaprakash             NaN  \n",
      "109            SL Shastri             NaN  \n",
      "116           RE Koertzen             NaN  \n",
      "136           RE Koertzen             NaN  \n",
      "151       HDPK Dharmasena             NaN  \n",
      "197            SJA Taufel             NaN  \n",
      "205             RB Tiffin             NaN  \n",
      "275             RB Tiffin             NaN  \n",
      "284            SJA Taufel             NaN  \n",
      "333          BNJ Oxenford             NaN  \n",
      "360         C Shamshuddin             NaN  \n",
      "409          AK Chaudhary             NaN  \n",
      "441             CK Nandan             NaN  \n",
      "466        RK Illingworth             NaN  \n",
      "493         C Shamshuddin             NaN  \n",
      "532             M Erasmus             NaN  \n",
      "562             CK Nandan             NaN  \n",
      "652  K Ananthapadmanabhan      Rod Tucker  \n",
      "678        Yeshwant Barde     Nitin Menon  \n",
      "707        Yeshwant Barde  Bruce Oxenford  \n",
      "720          Ulhas Gandhe  Chris Gaffaney  \n"
     ]
    }
   ],
   "source": [
    "team = ('Rajasthan Royals', 'Chennai Super Kings')\n",
    "CSKvsRR = df.loc[df['team1CSK '].isin(team) & df['team2'].isin(team)]\n",
    "print(CSKvsRR)"
   ]
  },
  {
   "cell_type": "code",
   "execution_count": 7,
   "metadata": {},
   "outputs": [
    {
     "name": "stdout",
     "output_type": "stream",
     "text": [
      "21\n"
     ]
    }
   ],
   "source": [
    "matches = CSKvsRR.groupby('id').size().count()\n",
    "print(matches)"
   ]
  },
  {
   "cell_type": "code",
   "execution_count": 9,
   "metadata": {},
   "outputs": [
    {
     "name": "stdout",
     "output_type": "stream",
     "text": [
      "14\n"
     ]
    }
   ],
   "source": [
    "CSK = CSKvsRR.loc[(CSKvsRR['winner'] == 'Chennai Super Kings')]\n",
    "Win_CSK = CSK.groupby('id').size().count()\n",
    "print(Win_CSK)"
   ]
  },
  {
   "cell_type": "code",
   "execution_count": 10,
   "metadata": {},
   "outputs": [
    {
     "name": "stdout",
     "output_type": "stream",
     "text": [
      "7\n"
     ]
    }
   ],
   "source": [
    "RR = CSKvsRR.loc[(CSKvsRR['winner'] == 'Rajasthan Royals')]\n",
    "Win_RR = RR.groupby('id').size().count()\n",
    "print(Win_RR)"
   ]
  },
  {
   "cell_type": "code",
   "execution_count": null,
   "metadata": {},
   "outputs": [],
   "source": []
  }
 ],
 "metadata": {
  "kernelspec": {
   "display_name": "Python 3",
   "language": "python",
   "name": "python3"
  },
  "language_info": {
   "codemirror_mode": {
    "name": "ipython",
    "version": 3
   },
   "file_extension": ".py",
   "mimetype": "text/x-python",
   "name": "python",
   "nbconvert_exporter": "python",
   "pygments_lexer": "ipython3",
   "version": "3.7.9"
  }
 },
 "nbformat": 4,
 "nbformat_minor": 4
}
