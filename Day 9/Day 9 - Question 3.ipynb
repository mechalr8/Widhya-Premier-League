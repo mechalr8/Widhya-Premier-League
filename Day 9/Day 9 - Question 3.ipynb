{
 "cells": [
  {
   "cell_type": "code",
   "execution_count": 25,
   "metadata": {},
   "outputs": [],
   "source": [
    "from pandas import *"
   ]
  },
  {
   "cell_type": "code",
   "execution_count": 26,
   "metadata": {
    "scrolled": true
   },
   "outputs": [
    {
     "name": "stdout",
     "output_type": "stream",
     "text": [
      "        match_id  inning         batting_team                 bowling_team  \\\n",
      "0              1       1  Sunrisers Hyderabad  Royal Challengers Bangalore   \n",
      "1              1       1  Sunrisers Hyderabad  Royal Challengers Bangalore   \n",
      "2              1       1  Sunrisers Hyderabad  Royal Challengers Bangalore   \n",
      "3              1       1  Sunrisers Hyderabad  Royal Challengers Bangalore   \n",
      "4              1       1  Sunrisers Hyderabad  Royal Challengers Bangalore   \n",
      "...          ...     ...                  ...                          ...   \n",
      "179073     11415       2  Chennai Super Kings               Mumbai Indians   \n",
      "179074     11415       2  Chennai Super Kings               Mumbai Indians   \n",
      "179075     11415       2  Chennai Super Kings               Mumbai Indians   \n",
      "179076     11415       2  Chennai Super Kings               Mumbai Indians   \n",
      "179077     11415       2  Chennai Super Kings               Mumbai Indians   \n",
      "\n",
      "        over  ball    batsman non_striker      bowler  is_super_over  ...  \\\n",
      "0          1     1  DA Warner    S Dhawan    TS Mills              0  ...   \n",
      "1          1     2  DA Warner    S Dhawan    TS Mills              0  ...   \n",
      "2          1     3  DA Warner    S Dhawan    TS Mills              0  ...   \n",
      "3          1     4  DA Warner    S Dhawan    TS Mills              0  ...   \n",
      "4          1     5  DA Warner    S Dhawan    TS Mills              0  ...   \n",
      "...      ...   ...        ...         ...         ...            ...  ...   \n",
      "179073    20     2  RA Jadeja   SR Watson  SL Malinga              0  ...   \n",
      "179074    20     3  SR Watson   RA Jadeja  SL Malinga              0  ...   \n",
      "179075    20     4  SR Watson   RA Jadeja  SL Malinga              0  ...   \n",
      "179076    20     5  SN Thakur   RA Jadeja  SL Malinga              0  ...   \n",
      "179077    20     6  SN Thakur   RA Jadeja  SL Malinga              0  ...   \n",
      "\n",
      "        bye_runs  legbye_runs  noball_runs  penalty_runs  batsman_runs  \\\n",
      "0              0            0            0             0             0   \n",
      "1              0            0            0             0             0   \n",
      "2              0            0            0             0             4   \n",
      "3              0            0            0             0             0   \n",
      "4              0            0            0             0             0   \n",
      "...          ...          ...          ...           ...           ...   \n",
      "179073         0            0            0             0             1   \n",
      "179074         0            0            0             0             2   \n",
      "179075         0            0            0             0             1   \n",
      "179076         0            0            0             0             2   \n",
      "179077         0            0            0             0             0   \n",
      "\n",
      "        extra_runs  total_runs  player_dismissed dismissal_kind    fielder  \n",
      "0                0           0               NaN            NaN        NaN  \n",
      "1                0           0               NaN            NaN        NaN  \n",
      "2                0           4               NaN            NaN        NaN  \n",
      "3                0           0               NaN            NaN        NaN  \n",
      "4                2           2               NaN            NaN        NaN  \n",
      "...            ...         ...               ...            ...        ...  \n",
      "179073           0           1               NaN            NaN        NaN  \n",
      "179074           0           2               NaN            NaN        NaN  \n",
      "179075           0           1         SR Watson        run out  KH Pandya  \n",
      "179076           0           2               NaN            NaN        NaN  \n",
      "179077           0           0         SN Thakur            lbw        NaN  \n",
      "\n",
      "[179078 rows x 21 columns]\n"
     ]
    }
   ],
   "source": [
    "df = read_csv(r'C:\\Users\\LENOVO\\Desktop\\WPL Datasets\\deliveries.csv')\n",
    "print(df)"
   ]
  },
  {
   "cell_type": "code",
   "execution_count": 27,
   "metadata": {
    "scrolled": true
   },
   "outputs": [
    {
     "name": "stdout",
     "output_type": "stream",
     "text": [
      "        match_id  inning      batting_team         bowling_team  over  ball  \\\n",
      "154358      7910       2  Rajasthan Royals  Chennai Super Kings     1     1   \n",
      "154359      7910       2  Rajasthan Royals  Chennai Super Kings     1     2   \n",
      "154360      7910       2  Rajasthan Royals  Chennai Super Kings     1     3   \n",
      "154361      7910       2  Rajasthan Royals  Chennai Super Kings     1     4   \n",
      "154362      7910       2  Rajasthan Royals  Chennai Super Kings     1     5   \n",
      "...          ...     ...               ...                  ...   ...   ...   \n",
      "170695     11316       1  Rajasthan Royals  Chennai Super Kings    19     2   \n",
      "170696     11316       1  Rajasthan Royals  Chennai Super Kings    19     3   \n",
      "170697     11316       1  Rajasthan Royals  Chennai Super Kings    19     4   \n",
      "170698     11316       1  Rajasthan Royals  Chennai Super Kings    19     5   \n",
      "170699     11316       1  Rajasthan Royals  Chennai Super Kings    19     6   \n",
      "\n",
      "          batsman non_striker     bowler  is_super_over  ...  bye_runs  \\\n",
      "154358  AM Rahane   H Klaasen  DL Chahar              0  ...         0   \n",
      "154359  AM Rahane   H Klaasen  DL Chahar              0  ...         0   \n",
      "154360  H Klaasen   AM Rahane  DL Chahar              0  ...         0   \n",
      "154361  H Klaasen   AM Rahane  DL Chahar              0  ...         0   \n",
      "154362  AM Rahane   H Klaasen  DL Chahar              0  ...         0   \n",
      "...           ...         ...        ...            ...  ...       ...   \n",
      "170695  BA Stokes    J Archer  DL Chahar              0  ...         0   \n",
      "170696    S Gopal    J Archer  DL Chahar              0  ...         0   \n",
      "170697   J Archer     S Gopal  DL Chahar              0  ...         0   \n",
      "170698    S Gopal    J Archer  DL Chahar              0  ...         0   \n",
      "170699    S Gopal    J Archer  DL Chahar              0  ...         0   \n",
      "\n",
      "        legbye_runs  noball_runs  penalty_runs  batsman_runs  extra_runs  \\\n",
      "154358            0            0             0             1           1   \n",
      "154359            0            0             0             1           0   \n",
      "154360            0            0             0             0           0   \n",
      "154361            0            0             0             1           0   \n",
      "154362            0            0             0             0           0   \n",
      "...             ...          ...           ...           ...         ...   \n",
      "170695            0            0             0             0           0   \n",
      "170696            0            0             0             1           0   \n",
      "170697            0            0             0             1           0   \n",
      "170698            0            0             0             4           0   \n",
      "170699            0            0             0             1           0   \n",
      "\n",
      "        total_runs  player_dismissed dismissal_kind fielder  \n",
      "154358           2               NaN            NaN     NaN  \n",
      "154359           1               NaN            NaN     NaN  \n",
      "154360           0               NaN            NaN     NaN  \n",
      "154361           1               NaN            NaN     NaN  \n",
      "154362           0               NaN            NaN     NaN  \n",
      "...            ...               ...            ...     ...  \n",
      "170695           0         BA Stokes         bowled     NaN  \n",
      "170696           1               NaN            NaN     NaN  \n",
      "170697           1               NaN            NaN     NaN  \n",
      "170698           4               NaN            NaN     NaN  \n",
      "170699           1               NaN            NaN     NaN  \n",
      "\n",
      "[77 rows x 21 columns]\n"
     ]
    }
   ],
   "source": [
    "RRvsDL = df.loc[(df['batting_team'] == 'Rajasthan Royals') & (df['bowler'] == 'DL Chahar')]\n",
    "print(RRvsDL)"
   ]
  },
  {
   "cell_type": "code",
   "execution_count": 28,
   "metadata": {},
   "outputs": [
    {
     "name": "stdout",
     "output_type": "stream",
     "text": [
      "               runs\n",
      "match_id over      \n",
      "7910     1       16\n",
      "         3        5\n",
      "         5        3\n",
      "         7       10\n",
      "11148    1        0\n",
      "         3        6\n",
      "         5        5\n",
      "         7        9\n",
      "11316    1       12\n",
      "         3       10\n",
      "         5        5\n",
      "         19       8\n"
     ]
    }
   ],
   "source": [
    "RunsDL = RRvsDL.groupby(['match_id', 'over']).agg({'total_runs':['sum']})\n",
    "RunsDL.columns = ['runs']\n",
    "print(RunsDL)"
   ]
  },
  {
   "cell_type": "code",
   "execution_count": 29,
   "metadata": {},
   "outputs": [
    {
     "name": "stdout",
     "output_type": "stream",
     "text": [
      "          runs\n",
      "match_id      \n",
      "7910        34\n",
      "11148       20\n",
      "11316       35\n"
     ]
    }
   ],
   "source": [
    "runs = RunsDL.groupby('match_id').agg({'runs':['sum']})\n",
    "runs.columns = ['runs']\n",
    "print(runs)"
   ]
  },
  {
   "cell_type": "code",
   "execution_count": 30,
   "metadata": {},
   "outputs": [
    {
     "name": "stdout",
     "output_type": "stream",
     "text": [
      "          runs\n",
      "match_id      \n",
      "7910      8.50\n",
      "11148     5.00\n",
      "11316     8.75\n"
     ]
    }
   ],
   "source": [
    "economy = runs/4\n",
    "print(economy)"
   ]
  },
  {
   "cell_type": "code",
   "execution_count": 32,
   "metadata": {},
   "outputs": [
    {
     "data": {
      "text/plain": [
       "runs    7.416667\n",
       "dtype: float64"
      ]
     },
     "execution_count": 32,
     "metadata": {},
     "output_type": "execute_result"
    }
   ],
   "source": [
    "economy.mean()"
   ]
  },
  {
   "cell_type": "code",
   "execution_count": null,
   "metadata": {},
   "outputs": [],
   "source": []
  }
 ],
 "metadata": {
  "kernelspec": {
   "display_name": "Python 3",
   "language": "python",
   "name": "python3"
  },
  "language_info": {
   "codemirror_mode": {
    "name": "ipython",
    "version": 3
   },
   "file_extension": ".py",
   "mimetype": "text/x-python",
   "name": "python",
   "nbconvert_exporter": "python",
   "pygments_lexer": "ipython3",
   "version": "3.7.9"
  }
 },
 "nbformat": 4,
 "nbformat_minor": 4
}
