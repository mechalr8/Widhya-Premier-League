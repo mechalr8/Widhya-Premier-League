{
 "cells": [
  {
   "cell_type": "code",
   "execution_count": 1,
   "metadata": {},
   "outputs": [],
   "source": [
    "from pandas import *"
   ]
  },
  {
   "cell_type": "code",
   "execution_count": 2,
   "metadata": {
    "scrolled": true
   },
   "outputs": [
    {
     "name": "stdout",
     "output_type": "stream",
     "text": [
      "        match_id  inning         batting_team                 bowling_team  \\\n",
      "0              1       1  Sunrisers Hyderabad  Royal Challengers Bangalore   \n",
      "1              1       1  Sunrisers Hyderabad  Royal Challengers Bangalore   \n",
      "2              1       1  Sunrisers Hyderabad  Royal Challengers Bangalore   \n",
      "3              1       1  Sunrisers Hyderabad  Royal Challengers Bangalore   \n",
      "4              1       1  Sunrisers Hyderabad  Royal Challengers Bangalore   \n",
      "...          ...     ...                  ...                          ...   \n",
      "179073     11415       2  Chennai Super Kings               Mumbai Indians   \n",
      "179074     11415       2  Chennai Super Kings               Mumbai Indians   \n",
      "179075     11415       2  Chennai Super Kings               Mumbai Indians   \n",
      "179076     11415       2  Chennai Super Kings               Mumbai Indians   \n",
      "179077     11415       2  Chennai Super Kings               Mumbai Indians   \n",
      "\n",
      "        over  ball    batsman non_striker      bowler  is_super_over  ...  \\\n",
      "0          1     1  DA Warner    S Dhawan    TS Mills              0  ...   \n",
      "1          1     2  DA Warner    S Dhawan    TS Mills              0  ...   \n",
      "2          1     3  DA Warner    S Dhawan    TS Mills              0  ...   \n",
      "3          1     4  DA Warner    S Dhawan    TS Mills              0  ...   \n",
      "4          1     5  DA Warner    S Dhawan    TS Mills              0  ...   \n",
      "...      ...   ...        ...         ...         ...            ...  ...   \n",
      "179073    20     2  RA Jadeja   SR Watson  SL Malinga              0  ...   \n",
      "179074    20     3  SR Watson   RA Jadeja  SL Malinga              0  ...   \n",
      "179075    20     4  SR Watson   RA Jadeja  SL Malinga              0  ...   \n",
      "179076    20     5  SN Thakur   RA Jadeja  SL Malinga              0  ...   \n",
      "179077    20     6  SN Thakur   RA Jadeja  SL Malinga              0  ...   \n",
      "\n",
      "        bye_runs  legbye_runs  noball_runs  penalty_runs  batsman_runs  \\\n",
      "0              0            0            0             0             0   \n",
      "1              0            0            0             0             0   \n",
      "2              0            0            0             0             4   \n",
      "3              0            0            0             0             0   \n",
      "4              0            0            0             0             0   \n",
      "...          ...          ...          ...           ...           ...   \n",
      "179073         0            0            0             0             1   \n",
      "179074         0            0            0             0             2   \n",
      "179075         0            0            0             0             1   \n",
      "179076         0            0            0             0             2   \n",
      "179077         0            0            0             0             0   \n",
      "\n",
      "        extra_runs  total_runs  player_dismissed dismissal_kind    fielder  \n",
      "0                0           0               NaN            NaN        NaN  \n",
      "1                0           0               NaN            NaN        NaN  \n",
      "2                0           4               NaN            NaN        NaN  \n",
      "3                0           0               NaN            NaN        NaN  \n",
      "4                2           2               NaN            NaN        NaN  \n",
      "...            ...         ...               ...            ...        ...  \n",
      "179073           0           1               NaN            NaN        NaN  \n",
      "179074           0           2               NaN            NaN        NaN  \n",
      "179075           0           1         SR Watson        run out  KH Pandya  \n",
      "179076           0           2               NaN            NaN        NaN  \n",
      "179077           0           0         SN Thakur            lbw        NaN  \n",
      "\n",
      "[179078 rows x 21 columns]\n"
     ]
    }
   ],
   "source": [
    "df = read_csv(r'C:\\Users\\LENOVO\\Desktop\\WPL Datasets\\deliveries.csv')\n",
    "print(df)"
   ]
  },
  {
   "cell_type": "code",
   "execution_count": 8,
   "metadata": {
    "scrolled": true
   },
   "outputs": [
    {
     "name": "stdout",
     "output_type": "stream",
     "text": [
      "        match_id  inning      batting_team         bowling_team  over  ball  \\\n",
      "76418        324       2     Pune Warriors  Chennai Super Kings    13     5   \n",
      "76419        324       2     Pune Warriors  Chennai Super Kings    13     6   \n",
      "76421        324       2     Pune Warriors  Chennai Super Kings    14     2   \n",
      "76422        324       2     Pune Warriors  Chennai Super Kings    14     3   \n",
      "76425        324       2     Pune Warriors  Chennai Super Kings    14     6   \n",
      "...          ...     ...               ...                  ...   ...   ...   \n",
      "170644     11316       1  Rajasthan Royals  Chennai Super Kings    10     6   \n",
      "170645     11316       1  Rajasthan Royals  Chennai Super Kings    11     1   \n",
      "170646     11316       1  Rajasthan Royals  Chennai Super Kings    11     2   \n",
      "170648     11316       1  Rajasthan Royals  Chennai Super Kings    11     4   \n",
      "170649     11316       1  Rajasthan Royals  Chennai Super Kings    11     5   \n",
      "\n",
      "          batsman non_striker       bowler  is_super_over  ...  bye_runs  \\\n",
      "76418   SPD Smith    JD Ryder    VY Mahesh              0  ...         0   \n",
      "76419   SPD Smith    JD Ryder    VY Mahesh              0  ...         0   \n",
      "76421   SPD Smith    JD Ryder     SK Raina              0  ...         0   \n",
      "76422   SPD Smith    JD Ryder     SK Raina              0  ...         0   \n",
      "76425   SPD Smith    JD Ryder     SK Raina              0  ...         0   \n",
      "...           ...         ...          ...            ...  ...       ...   \n",
      "170644  SPD Smith   BA Stokes  Imran Tahir              0  ...         0   \n",
      "170645  SPD Smith   BA Stokes    RA Jadeja              0  ...         0   \n",
      "170646  SPD Smith   BA Stokes    RA Jadeja              0  ...         0   \n",
      "170648  SPD Smith   BA Stokes    RA Jadeja              0  ...         0   \n",
      "170649  SPD Smith   BA Stokes    RA Jadeja              0  ...         0   \n",
      "\n",
      "        legbye_runs  noball_runs  penalty_runs  batsman_runs  extra_runs  \\\n",
      "76418             0            0             0             0           0   \n",
      "76419             0            0             0             0           0   \n",
      "76421             0            0             0             6           0   \n",
      "76422             0            0             0             1           0   \n",
      "76425             0            0             0             1           0   \n",
      "...             ...          ...           ...           ...         ...   \n",
      "170644            0            0             0             1           0   \n",
      "170645            0            0             0             2           0   \n",
      "170646            0            0             0             1           0   \n",
      "170648            0            0             0             0           0   \n",
      "170649            0            0             0             0           0   \n",
      "\n",
      "        total_runs  player_dismissed dismissal_kind    fielder  \n",
      "76418            0               NaN            NaN        NaN  \n",
      "76419            0               NaN            NaN        NaN  \n",
      "76421            6               NaN            NaN        NaN  \n",
      "76422            1               NaN            NaN        NaN  \n",
      "76425            1               NaN            NaN        NaN  \n",
      "...            ...               ...            ...        ...  \n",
      "170644           1               NaN            NaN        NaN  \n",
      "170645           2               NaN            NaN        NaN  \n",
      "170646           1               NaN            NaN        NaN  \n",
      "170648           0               NaN            NaN        NaN  \n",
      "170649           0         SPD Smith         caught  AT Rayudu  \n",
      "\n",
      "[197 rows x 21 columns]\n"
     ]
    }
   ],
   "source": [
    "SPD_Smith_CSK = df.loc[(df['batsman'] == 'SPD Smith') & (df['bowling_team'] == 'Chennai Super Kings')]\n",
    "print(SPD_Smith_CSK)"
   ]
  },
  {
   "cell_type": "code",
   "execution_count": 9,
   "metadata": {
    "scrolled": true
   },
   "outputs": [
    {
     "name": "stdout",
     "output_type": "stream",
     "text": [
      "          runs\n",
      "match_id      \n",
      "324         44\n",
      "332         23\n",
      "399         39\n",
      "422         35\n",
      "467         19\n",
      "494          9\n",
      "533          6\n",
      "563          4\n",
      "11148       31\n",
      "11316       15\n"
     ]
    }
   ],
   "source": [
    "runs = SPD_Smith_CSK.groupby('match_id').agg({'batsman_runs':['sum']})\n",
    "runs.columns = ['runs']\n",
    "print(runs)"
   ]
  },
  {
   "cell_type": "code",
   "execution_count": 10,
   "metadata": {},
   "outputs": [
    {
     "name": "stdout",
     "output_type": "stream",
     "text": [
      "          inning  batting_team  bowling_team  over  ball  batsman  \\\n",
      "match_id                                                            \n",
      "324           23            23            23    23    23       23   \n",
      "332           22            22            22    22    22       22   \n",
      "399           16            16            16    16    16       16   \n",
      "422           40            40            40    40    40       40   \n",
      "467           20            20            20    20    20       20   \n",
      "494            8             8             8     8     8        8   \n",
      "533            7             7             7     7     7        7   \n",
      "563            6             6             6     6     6        6   \n",
      "11148         33            33            33    33    33       33   \n",
      "11316         22            22            22    22    22       22   \n",
      "\n",
      "          non_striker  bowler  is_super_over  wide_runs  bye_runs  \\\n",
      "match_id                                                            \n",
      "324                23      23             23         23        23   \n",
      "332                22      22             22         22        22   \n",
      "399                16      16             16         16        16   \n",
      "422                40      40             40         40        40   \n",
      "467                20      20             20         20        20   \n",
      "494                 8       8              8          8         8   \n",
      "533                 7       7              7          7         7   \n",
      "563                 6       6              6          6         6   \n",
      "11148              33      33             33         33        33   \n",
      "11316              22      22             22         22        22   \n",
      "\n",
      "          legbye_runs  noball_runs  penalty_runs  batsman_runs  extra_runs  \\\n",
      "match_id                                                                     \n",
      "324                23           23            23            23          23   \n",
      "332                22           22            22            22          22   \n",
      "399                16           16            16            16          16   \n",
      "422                40           40            40            40          40   \n",
      "467                20           20            20            20          20   \n",
      "494                 8            8             8             8           8   \n",
      "533                 7            7             7             7           7   \n",
      "563                 6            6             6             6           6   \n",
      "11148              33           33            33            33          33   \n",
      "11316              22           22            22            22          22   \n",
      "\n",
      "          total_runs  player_dismissed  dismissal_kind  fielder  \n",
      "match_id                                                         \n",
      "324               23                 0               0        0  \n",
      "332               22                 1               1        1  \n",
      "399               16                 0               0        0  \n",
      "422               40                 2               2        1  \n",
      "467               20                 1               1        1  \n",
      "494                8                 1               1        0  \n",
      "533                7                 1               1        0  \n",
      "563                6                 1               1        0  \n",
      "11148             33                 1               1        0  \n",
      "11316             22                 1               1        1  \n"
     ]
    }
   ],
   "source": [
    "balls = SPD_Smith_CSK.groupby('match_id').count()\n",
    "print(balls)"
   ]
  },
  {
   "cell_type": "code",
   "execution_count": 14,
   "metadata": {},
   "outputs": [
    {
     "name": "stdout",
     "output_type": "stream",
     "text": [
      "          ball\n",
      "match_id      \n",
      "324         23\n",
      "332         22\n",
      "399         16\n",
      "422         40\n",
      "467         20\n",
      "494          8\n",
      "533          7\n",
      "563          6\n",
      "11148       33\n",
      "11316       22\n"
     ]
    }
   ],
   "source": [
    "ball = balls[['ball']]\n",
    "print(ball)"
   ]
  },
  {
   "cell_type": "code",
   "execution_count": 18,
   "metadata": {},
   "outputs": [
    {
     "name": "stdout",
     "output_type": "stream",
     "text": [
      "          runs  ball\n",
      "match_id            \n",
      "324         44    23\n",
      "332         23    22\n",
      "399         39    16\n",
      "422         35    40\n",
      "467         19    20\n",
      "494          9     8\n",
      "533          6     7\n",
      "563          4     6\n",
      "11148       31    33\n",
      "11316       15    22\n"
     ]
    }
   ],
   "source": [
    "whole = concat([runs, ball], axis=1)\n",
    "print(whole)"
   ]
  },
  {
   "cell_type": "code",
   "execution_count": 19,
   "metadata": {},
   "outputs": [
    {
     "name": "stdout",
     "output_type": "stream",
     "text": [
      "          runs  ball          SR\n",
      "match_id                        \n",
      "324         44    23  191.304348\n",
      "332         23    22  104.545455\n",
      "399         39    16  243.750000\n",
      "422         35    40   87.500000\n",
      "467         19    20   95.000000\n",
      "494          9     8  112.500000\n",
      "533          6     7   85.714286\n",
      "563          4     6   66.666667\n",
      "11148       31    33   93.939394\n",
      "11316       15    22   68.181818\n"
     ]
    }
   ],
   "source": [
    "whole['SR'] = whole['runs']*100/whole['ball']\n",
    "print(whole)"
   ]
  },
  {
   "cell_type": "code",
   "execution_count": null,
   "metadata": {},
   "outputs": [],
   "source": []
  }
 ],
 "metadata": {
  "kernelspec": {
   "display_name": "Python 3",
   "language": "python",
   "name": "python3"
  },
  "language_info": {
   "codemirror_mode": {
    "name": "ipython",
    "version": 3
   },
   "file_extension": ".py",
   "mimetype": "text/x-python",
   "name": "python",
   "nbconvert_exporter": "python",
   "pygments_lexer": "ipython3",
   "version": "3.7.9"
  }
 },
 "nbformat": 4,
 "nbformat_minor": 4
}
