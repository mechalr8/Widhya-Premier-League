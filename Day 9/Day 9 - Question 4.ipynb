{
 "cells": [
  {
   "cell_type": "code",
   "execution_count": 1,
   "metadata": {},
   "outputs": [],
   "source": [
    "from pandas import *"
   ]
  },
  {
   "cell_type": "code",
   "execution_count": 2,
   "metadata": {
    "scrolled": true
   },
   "outputs": [
    {
     "name": "stdout",
     "output_type": "stream",
     "text": [
      "        match_id  inning         batting_team                 bowling_team  \\\n",
      "0              1       1  Sunrisers Hyderabad  Royal Challengers Bangalore   \n",
      "1              1       1  Sunrisers Hyderabad  Royal Challengers Bangalore   \n",
      "2              1       1  Sunrisers Hyderabad  Royal Challengers Bangalore   \n",
      "3              1       1  Sunrisers Hyderabad  Royal Challengers Bangalore   \n",
      "4              1       1  Sunrisers Hyderabad  Royal Challengers Bangalore   \n",
      "...          ...     ...                  ...                          ...   \n",
      "179073     11415       2  Chennai Super Kings               Mumbai Indians   \n",
      "179074     11415       2  Chennai Super Kings               Mumbai Indians   \n",
      "179075     11415       2  Chennai Super Kings               Mumbai Indians   \n",
      "179076     11415       2  Chennai Super Kings               Mumbai Indians   \n",
      "179077     11415       2  Chennai Super Kings               Mumbai Indians   \n",
      "\n",
      "        over  ball    batsman non_striker      bowler  is_super_over  ...  \\\n",
      "0          1     1  DA Warner    S Dhawan    TS Mills              0  ...   \n",
      "1          1     2  DA Warner    S Dhawan    TS Mills              0  ...   \n",
      "2          1     3  DA Warner    S Dhawan    TS Mills              0  ...   \n",
      "3          1     4  DA Warner    S Dhawan    TS Mills              0  ...   \n",
      "4          1     5  DA Warner    S Dhawan    TS Mills              0  ...   \n",
      "...      ...   ...        ...         ...         ...            ...  ...   \n",
      "179073    20     2  RA Jadeja   SR Watson  SL Malinga              0  ...   \n",
      "179074    20     3  SR Watson   RA Jadeja  SL Malinga              0  ...   \n",
      "179075    20     4  SR Watson   RA Jadeja  SL Malinga              0  ...   \n",
      "179076    20     5  SN Thakur   RA Jadeja  SL Malinga              0  ...   \n",
      "179077    20     6  SN Thakur   RA Jadeja  SL Malinga              0  ...   \n",
      "\n",
      "        bye_runs  legbye_runs  noball_runs  penalty_runs  batsman_runs  \\\n",
      "0              0            0            0             0             0   \n",
      "1              0            0            0             0             0   \n",
      "2              0            0            0             0             4   \n",
      "3              0            0            0             0             0   \n",
      "4              0            0            0             0             0   \n",
      "...          ...          ...          ...           ...           ...   \n",
      "179073         0            0            0             0             1   \n",
      "179074         0            0            0             0             2   \n",
      "179075         0            0            0             0             1   \n",
      "179076         0            0            0             0             2   \n",
      "179077         0            0            0             0             0   \n",
      "\n",
      "        extra_runs  total_runs  player_dismissed dismissal_kind    fielder  \n",
      "0                0           0               NaN            NaN        NaN  \n",
      "1                0           0               NaN            NaN        NaN  \n",
      "2                0           4               NaN            NaN        NaN  \n",
      "3                0           0               NaN            NaN        NaN  \n",
      "4                2           2               NaN            NaN        NaN  \n",
      "...            ...         ...               ...            ...        ...  \n",
      "179073           0           1               NaN            NaN        NaN  \n",
      "179074           0           2               NaN            NaN        NaN  \n",
      "179075           0           1         SR Watson        run out  KH Pandya  \n",
      "179076           0           2               NaN            NaN        NaN  \n",
      "179077           0           0         SN Thakur            lbw        NaN  \n",
      "\n",
      "[179078 rows x 21 columns]\n"
     ]
    }
   ],
   "source": [
    "df = read_csv(r'C:\\Users\\LENOVO\\Desktop\\WPL Datasets\\deliveries.csv')\n",
    "print(df)"
   ]
  },
  {
   "cell_type": "code",
   "execution_count": 3,
   "metadata": {
    "scrolled": true
   },
   "outputs": [
    {
     "name": "stdout",
     "output_type": "stream",
     "text": [
      "        match_id  inning           batting_team      bowling_team  over  ball  \\\n",
      "155253      7914       1         Mumbai Indians  Rajasthan Royals    17     1   \n",
      "155254      7914       1         Mumbai Indians  Rajasthan Royals    17     2   \n",
      "155255      7914       1         Mumbai Indians  Rajasthan Royals    17     3   \n",
      "155256      7914       1         Mumbai Indians  Rajasthan Royals    17     4   \n",
      "155257      7914       1         Mumbai Indians  Rajasthan Royals    17     5   \n",
      "...          ...     ...                    ...               ...   ...   ...   \n",
      "175056     11334       1  Kolkata Knight Riders  Rajasthan Royals    19     2   \n",
      "175057     11334       1  Kolkata Knight Riders  Rajasthan Royals    19     3   \n",
      "175058     11334       1  Kolkata Knight Riders  Rajasthan Royals    19     4   \n",
      "175059     11334       1  Kolkata Knight Riders  Rajasthan Royals    19     5   \n",
      "175060     11334       1  Kolkata Knight Riders  Rajasthan Royals    19     6   \n",
      "\n",
      "           batsman non_striker    bowler  is_super_over  ...  bye_runs  \\\n",
      "155253  KA Pollard   KH Pandya  J Archer              0  ...         0   \n",
      "155254  KA Pollard   KH Pandya  J Archer              0  ...         0   \n",
      "155255  KA Pollard   KH Pandya  J Archer              0  ...         0   \n",
      "155256  KA Pollard   KH Pandya  J Archer              0  ...         0   \n",
      "155257   KH Pandya  KA Pollard  J Archer              0  ...         0   \n",
      "...            ...         ...       ...            ...  ...       ...   \n",
      "175056     R Singh  KD Karthik  J Archer              0  ...         0   \n",
      "175057  KD Karthik     R Singh  J Archer              0  ...         0   \n",
      "175058     R Singh  KD Karthik  J Archer              0  ...         0   \n",
      "175059  KD Karthik     R Singh  J Archer              0  ...         0   \n",
      "175060  KD Karthik     R Singh  J Archer              0  ...         0   \n",
      "\n",
      "        legbye_runs  noball_runs  penalty_runs  batsman_runs  extra_runs  \\\n",
      "155253            0            0             0             0           0   \n",
      "155254            0            0             0             0           0   \n",
      "155255            0            0             0             0           0   \n",
      "155256            0            0             0             0           0   \n",
      "155257            0            0             0             1           0   \n",
      "...             ...          ...           ...           ...         ...   \n",
      "175056            0            0             0             1           0   \n",
      "175057            0            0             0             1           0   \n",
      "175058            0            0             0             1           0   \n",
      "175059            0            0             0             6           0   \n",
      "175060            0            0             0             6           0   \n",
      "\n",
      "        total_runs  player_dismissed dismissal_kind fielder  \n",
      "155253           0               NaN            NaN     NaN  \n",
      "155254           0               NaN            NaN     NaN  \n",
      "155255           0               NaN            NaN     NaN  \n",
      "155256           0               NaN            NaN     NaN  \n",
      "155257           1               NaN            NaN     NaN  \n",
      "...            ...               ...            ...     ...  \n",
      "175056           1               NaN            NaN     NaN  \n",
      "175057           1               NaN            NaN     NaN  \n",
      "175058           1               NaN            NaN     NaN  \n",
      "175059           6               NaN            NaN     NaN  \n",
      "175060           6               NaN            NaN     NaN  \n",
      "\n",
      "[223 rows x 21 columns]\n"
     ]
    }
   ],
   "source": [
    "JD = df.loc[(df['bowler'] == 'J Archer') & df['over'].isin(list(range(16,21)))]\n",
    "print(JD)"
   ]
  },
  {
   "cell_type": "code",
   "execution_count": 4,
   "metadata": {
    "scrolled": true
   },
   "outputs": [
    {
     "name": "stdout",
     "output_type": "stream",
     "text": [
      "        match_id player_dismissed\n",
      "155265      7914        KH Pandya\n",
      "155268      7914        HH Pandya\n",
      "155269      7914   MJ McClenaghan\n",
      "156968      7921  Shakib Al Hasan\n",
      "156973      7921        YK Pathan\n",
      "156984      7921      Rashid Khan\n",
      "157963      7925       GJ Maxwell\n",
      "167552     11148         DJ Bravo\n",
      "168040     11150         PA Patel\n",
      "171166     11318       KA Pollard\n",
      "171180     11318        Q de Kock\n",
      "172395     11323         N Pooran\n",
      "172398     11323    Mandeep Singh\n",
      "173377     11327        HH Pandya\n"
     ]
    }
   ],
   "source": [
    "JDwickets = JD[['match_id', 'player_dismissed']].dropna()\n",
    "print(JDwickets)"
   ]
  },
  {
   "cell_type": "code",
   "execution_count": 5,
   "metadata": {},
   "outputs": [
    {
     "name": "stdout",
     "output_type": "stream",
     "text": [
      "match_id\n",
      "7914     3\n",
      "7921     3\n",
      "7925     1\n",
      "11148    1\n",
      "11150    1\n",
      "11318    2\n",
      "11323    2\n",
      "11327    1\n",
      "dtype: int64\n"
     ]
    }
   ],
   "source": [
    "N_JDwickets = JDwickets.groupby('match_id').size()\n",
    "print(N_JDwickets)"
   ]
  },
  {
   "cell_type": "code",
   "execution_count": 8,
   "metadata": {},
   "outputs": [
    {
     "name": "stdout",
     "output_type": "stream",
     "text": [
      "20\n"
     ]
    }
   ],
   "source": [
    "matches = JD.groupby('match_id').size().count()\n",
    "print(matches)"
   ]
  },
  {
   "cell_type": "code",
   "execution_count": null,
   "metadata": {},
   "outputs": [],
   "source": []
  }
 ],
 "metadata": {
  "kernelspec": {
   "display_name": "Python 3",
   "language": "python",
   "name": "python3"
  },
  "language_info": {
   "codemirror_mode": {
    "name": "ipython",
    "version": 3
   },
   "file_extension": ".py",
   "mimetype": "text/x-python",
   "name": "python",
   "nbconvert_exporter": "python",
   "pygments_lexer": "ipython3",
   "version": "3.7.9"
  }
 },
 "nbformat": 4,
 "nbformat_minor": 4
}
