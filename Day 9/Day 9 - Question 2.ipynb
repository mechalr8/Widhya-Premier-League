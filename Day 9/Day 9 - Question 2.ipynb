{
 "cells": [
  {
   "cell_type": "code",
   "execution_count": 1,
   "metadata": {},
   "outputs": [],
   "source": [
    "from pandas import *"
   ]
  },
  {
   "cell_type": "markdown",
   "metadata": {},
   "source": [
    "df = read_csv(r'C:\\Users\\LENOVO\\Desktop\\WPL Datasets\\deliveries.csv')\n",
    "print(df)"
   ]
  },
  {
   "cell_type": "code",
   "execution_count": 3,
   "metadata": {
    "scrolled": true
   },
   "outputs": [
    {
     "name": "stdout",
     "output_type": "stream",
     "text": [
      "        match_id  inning      batting_team      bowling_team  over  ball  \\\n",
      "14335         62       1  Rajasthan Royals  Delhi Daredevils     1     1   \n",
      "14336         62       1  Rajasthan Royals  Delhi Daredevils     1     2   \n",
      "14337         62       1  Rajasthan Royals  Delhi Daredevils     1     3   \n",
      "14338         62       1  Rajasthan Royals  Delhi Daredevils     1     4   \n",
      "14339         62       1  Rajasthan Royals  Delhi Daredevils     1     5   \n",
      "...          ...     ...               ...               ...   ...   ...   \n",
      "177201     11344       1  Rajasthan Royals    Delhi Capitals     6     2   \n",
      "177202     11344       1  Rajasthan Royals    Delhi Capitals     6     3   \n",
      "177203     11344       1  Rajasthan Royals    Delhi Capitals     6     4   \n",
      "177204     11344       1  Rajasthan Royals    Delhi Capitals     6     5   \n",
      "177205     11344       1  Rajasthan Royals    Delhi Capitals     6     6   \n",
      "\n",
      "         batsman non_striker      bowler  is_super_over  ...  bye_runs  \\\n",
      "14335    T Kohli   YK Pathan  GD McGrath              0  ...         0   \n",
      "14336    T Kohli   YK Pathan  GD McGrath              0  ...         0   \n",
      "14337    T Kohli   YK Pathan  GD McGrath              0  ...         0   \n",
      "14338    T Kohli   YK Pathan  GD McGrath              0  ...         0   \n",
      "14339    T Kohli   YK Pathan  GD McGrath              0  ...         0   \n",
      "...          ...         ...         ...            ...  ...       ...   \n",
      "177201  M Lomror     S Gopal    I Sharma              0  ...         0   \n",
      "177202   R Parag     S Gopal    I Sharma              0  ...         0   \n",
      "177203   R Parag     S Gopal    I Sharma              0  ...         0   \n",
      "177204   R Parag     S Gopal    I Sharma              0  ...         0   \n",
      "177205   R Parag     S Gopal    I Sharma              0  ...         0   \n",
      "\n",
      "        legbye_runs  noball_runs  penalty_runs  batsman_runs  extra_runs  \\\n",
      "14335             0            0             0             0           0   \n",
      "14336             0            0             0             0           0   \n",
      "14337             0            0             0             0           0   \n",
      "14338             0            0             0             0           1   \n",
      "14339             0            0             0             0           0   \n",
      "...             ...          ...           ...           ...         ...   \n",
      "177201            0            0             0             0           0   \n",
      "177202            0            0             0             0           0   \n",
      "177203            0            0             0             0           0   \n",
      "177204            0            0             0             0           0   \n",
      "177205            0            0             0             0           0   \n",
      "\n",
      "        total_runs  player_dismissed dismissal_kind  fielder  \n",
      "14335            0               NaN            NaN      NaN  \n",
      "14336            0               NaN            NaN      NaN  \n",
      "14337            0               NaN            NaN      NaN  \n",
      "14338            1               NaN            NaN      NaN  \n",
      "14339            0               NaN            NaN      NaN  \n",
      "...            ...               ...            ...      ...  \n",
      "177201           0          M Lomror         caught  RR Pant  \n",
      "177202           0               NaN            NaN      NaN  \n",
      "177203           0               NaN            NaN      NaN  \n",
      "177204           0               NaN            NaN      NaN  \n",
      "177205           0               NaN            NaN      NaN  \n",
      "\n",
      "[5441 rows x 21 columns]\n"
     ]
    }
   ],
   "source": [
    "over = list(range(1,7))\n",
    "RR = df.loc[(df['batting_team'] == 'Rajasthan Royals') & df['over'].isin(over)]\n",
    "print(RR)"
   ]
  },
  {
   "cell_type": "code",
   "execution_count": 5,
   "metadata": {
    "scrolled": true
   },
   "outputs": [
    {
     "name": "stdout",
     "output_type": "stream",
     "text": [
      "          runs\n",
      "match_id      \n",
      "62          40\n",
      "65          53\n",
      "68          73\n",
      "70          45\n",
      "78          45\n",
      "...        ...\n",
      "11331       52\n",
      "11334       55\n",
      "11336       61\n",
      "11340       42\n",
      "11344       31\n",
      "\n",
      "[146 rows x 1 columns]\n"
     ]
    }
   ],
   "source": [
    "RR_runs = RR.groupby('match_id').agg({'total_runs':['sum']})\n",
    "RR_runs.columns = ['runs']\n",
    "print(RR_runs)"
   ]
  },
  {
   "cell_type": "code",
   "execution_count": 7,
   "metadata": {},
   "outputs": [
    {
     "name": "stdout",
     "output_type": "stream",
     "text": [
      "8\n"
     ]
    }
   ],
   "source": [
    "r1 = list(range(0,30))\n",
    "a = RR_runs.loc[RR_runs['runs'].isin(r1)]\n",
    "A = a.groupby('match_id').size().count()\n",
    "print(A)"
   ]
  },
  {
   "cell_type": "code",
   "execution_count": 9,
   "metadata": {},
   "outputs": [
    {
     "name": "stdout",
     "output_type": "stream",
     "text": [
      "40\n"
     ]
    }
   ],
   "source": [
    "r2 = list(range(30,40))\n",
    "b = RR_runs.loc[RR_runs['runs'].isin(r2)]\n",
    "B = b.groupby('match_id').size().count()\n",
    "print(B)"
   ]
  },
  {
   "cell_type": "code",
   "execution_count": 12,
   "metadata": {},
   "outputs": [
    {
     "name": "stdout",
     "output_type": "stream",
     "text": [
      "49\n"
     ]
    }
   ],
   "source": [
    "r3 = list(range(40,50))\n",
    "c = RR_runs.loc[RR_runs['runs'].isin(r3)]\n",
    "C = c.groupby('match_id').size().count()\n",
    "print(C)"
   ]
  },
  {
   "cell_type": "code",
   "execution_count": 11,
   "metadata": {},
   "outputs": [
    {
     "name": "stdout",
     "output_type": "stream",
     "text": [
      "49\n"
     ]
    }
   ],
   "source": [
    "max_value = RR_runs['runs'].max()\n",
    "r4 = list(range(50,max_value+1))\n",
    "d = RR_runs.loc[RR_runs['runs'].isin(r4)]\n",
    "D = d.groupby('match_id').size().count()\n",
    "print(D)"
   ]
  }
 ],
 "metadata": {
  "kernelspec": {
   "display_name": "Python 3",
   "language": "python",
   "name": "python3"
  },
  "language_info": {
   "codemirror_mode": {
    "name": "ipython",
    "version": 3
   },
   "file_extension": ".py",
   "mimetype": "text/x-python",
   "name": "python",
   "nbconvert_exporter": "python",
   "pygments_lexer": "ipython3",
   "version": "3.7.9"
  }
 },
 "nbformat": 4,
 "nbformat_minor": 4
}
