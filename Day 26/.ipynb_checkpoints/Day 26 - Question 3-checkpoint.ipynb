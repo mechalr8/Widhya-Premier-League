{
 "cells": [
  {
   "cell_type": "code",
   "execution_count": 1,
   "metadata": {},
   "outputs": [],
   "source": [
    "from pandas import *\n",
    "df = read_csv(r'C:\\Users\\harsi\\OneDrive\\Desktop\\WPL Datasets\\deliveries.csv')"
   ]
  },
  {
   "cell_type": "code",
   "execution_count": 30,
   "metadata": {},
   "outputs": [
    {
     "name": "stdout",
     "output_type": "stream",
     "text": [
      "          runs  ball  sixes  boundaries  Economy\n",
      "match_id                                        \n",
      "24           9     9      9           9        9\n",
      "44           6     6      6           6        6\n",
      "82           7     7      7           7        7\n",
      "109          6     6      6           6        6\n",
      "150          9     9      9           9        9\n",
      "170          5     5      5           5        5\n",
      "183          5     5      5           5        5\n",
      "221          7     7      7           7        7\n",
      "238         11    11     11          11       11\n",
      "282          7     7      7           7        7\n",
      "327          9     9      9           9        9\n",
      "342          3     3      3           3        3\n",
      "390          6     6      6           6        6\n",
      "408          5     5      5           5        5\n",
      "473          9     9      9           9        9\n",
      "508          7     7      7           7        7\n",
      "539          8     8      8           8        8\n",
      "556          7     7      7           7        7\n",
      "593          9     9      9           9        9\n",
      "623          6     6      6           6        6\n",
      "7902         4     4      4           4        4\n",
      "7948         5     5      5           5        5\n",
      "11139        2     2      2           2        2\n",
      "11325        8     8      8           8        8\n"
     ]
    }
   ],
   "source": [
    "team = ['Delhi Daredevils', 'Delhi Capitals', 'Mumbai Indians']\n",
    "MIvsDC = df.loc[(df['batting_team'].isin(team)) & (df['bowling_team'].isin(team))]\n",
    "runs = MIvsDC.groupby(['match_id', 'bowler']).agg({'batsman_runs':['sum']})\n",
    "runs.columns = ['runs']\n",
    "boundary = MIvsDC.loc[(MIvsDC['batsman_runs'].isin([4,6]))]\n",
    "N_boundary = boundary.groupby(['match_id', 'bowler']).count()\n",
    "N_boundary = N_boundary.rename(columns = {'batsman_runs':'boundaries'})\n",
    "N_boundary = N_boundary[['boundaries']]\n",
    "balls = MIvsDC.loc[(MIvsDC['wide_runs'] == 0) & (MIvsDC['noball_runs'] == 0)]\n",
    "N_balls = balls.groupby(['match_id', 'bowler']).count()\n",
    "N_balls = N_balls[['ball']]\n",
    "sixes = MIvsDC.loc[(MIvsDC['batsman_runs'] == 6)]\n",
    "N_sixes = sixes.groupby(['match_id', 'bowler']).count()\n",
    "N_sixes = N_sixes.rename(columns = {'batsman_runs':'sixes'})\n",
    "N_sixes = N_sixes[['sixes']]\n",
    "result = concat([runs, N_balls, N_sixes, N_boundary], axis = 1).fillna(0)\n",
    "result['Economy'] = result['runs']/(result['ball']/6)\n",
    "result = result.loc[(result['ball'] > 6) & (result['Economy'] < 9) & (result['boundaries'] < 6) & (result['sixes'] <= 2)]\n",
    "result = result.groupby('match_id').count()\n",
    "print(result)"
   ]
  },
  {
   "cell_type": "code",
   "execution_count": 31,
   "metadata": {},
   "outputs": [],
   "source": [
    "def times(r):\n",
    "    a = result.loc[result['runs'].isin(r)]\n",
    "    A = a.groupby('match_id').size().count()\n",
    "    return A"
   ]
  },
  {
   "cell_type": "code",
   "execution_count": 32,
   "metadata": {},
   "outputs": [
    {
     "data": {
      "text/plain": [
       "1"
      ]
     },
     "execution_count": 32,
     "metadata": {},
     "output_type": "execute_result"
    }
   ],
   "source": [
    "r = list(range(0,3))\n",
    "times(r)"
   ]
  },
  {
   "cell_type": "code",
   "execution_count": 33,
   "metadata": {},
   "outputs": [
    {
     "data": {
      "text/plain": [
       "2"
      ]
     },
     "execution_count": 33,
     "metadata": {},
     "output_type": "execute_result"
    }
   ],
   "source": [
    "r = list(range(3,5))\n",
    "times(r)"
   ]
  },
  {
   "cell_type": "code",
   "execution_count": 34,
   "metadata": {},
   "outputs": [
    {
     "data": {
      "text/plain": [
       "8"
      ]
     },
     "execution_count": 34,
     "metadata": {},
     "output_type": "execute_result"
    }
   ],
   "source": [
    "r = list(range(5,7))\n",
    "times(r)"
   ]
  },
  {
   "cell_type": "code",
   "execution_count": 36,
   "metadata": {},
   "outputs": [
    {
     "data": {
      "text/plain": [
       "13"
      ]
     },
     "execution_count": 36,
     "metadata": {},
     "output_type": "execute_result"
    }
   ],
   "source": [
    "maxm = result['runs'].max()\n",
    "r = list(range(7,maxm+1))\n",
    "times(r)"
   ]
  }
 ],
 "metadata": {
  "kernelspec": {
   "display_name": "Python 3",
   "language": "python",
   "name": "python3"
  },
  "language_info": {
   "codemirror_mode": {
    "name": "ipython",
    "version": 3
   },
   "file_extension": ".py",
   "mimetype": "text/x-python",
   "name": "python",
   "nbconvert_exporter": "python",
   "pygments_lexer": "ipython3",
   "version": "3.7.0"
  }
 },
 "nbformat": 4,
 "nbformat_minor": 4
}
