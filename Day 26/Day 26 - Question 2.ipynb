{
 "cells": [
  {
   "cell_type": "code",
   "execution_count": 12,
   "metadata": {},
   "outputs": [],
   "source": [
    "from pandas import *\n",
    "df = read_csv(r'C:\\Users\\harsi\\OneDrive\\Desktop\\WPL Datasets\\deliveries.csv')"
   ]
  },
  {
   "cell_type": "code",
   "execution_count": 13,
   "metadata": {},
   "outputs": [
    {
     "name": "stdout",
     "output_type": "stream",
     "text": [
      "          dismissal_kind\n",
      "match_id                \n",
      "24                     7\n",
      "44                     5\n",
      "82                     4\n",
      "109                    2\n",
      "150                    3\n",
      "170                    4\n",
      "183                    2\n",
      "221                    2\n",
      "238                    4\n",
      "282                    5\n",
      "327                    3\n",
      "342                    3\n",
      "390                    4\n",
      "408                    2\n",
      "473                    2\n",
      "508                    1\n",
      "539                    3\n",
      "556                    6\n",
      "593                    2\n",
      "623                    2\n",
      "7902                   1\n",
      "7948                   3\n",
      "11139                  5\n"
     ]
    }
   ],
   "source": [
    "team = ['Delhi Daredevils', 'Delhi Capitals', 'Mumbai Indians']\n",
    "MIvsDC = df.loc[(df['batting_team'].isin(team)) & (df['bowling_team'].isin(team))]\n",
    "PP_over = MIvsDC.loc[(df['over'].isin(list(range(1,7))))]\n",
    "wickets = PP_over[['match_id','dismissal_kind']].dropna()\n",
    "N_wickets = wickets.groupby('match_id').count()\n",
    "print(N_wickets)"
   ]
  },
  {
   "cell_type": "code",
   "execution_count": 14,
   "metadata": {},
   "outputs": [],
   "source": [
    "def times(r):\n",
    "    a = N_wickets.loc[(N_wickets['dismissal_kind'].isin(r))]\n",
    "    A = a.groupby('match_id').size().count()\n",
    "    return A"
   ]
  },
  {
   "cell_type": "code",
   "execution_count": 15,
   "metadata": {},
   "outputs": [
    {
     "data": {
      "text/plain": [
       "2"
      ]
     },
     "execution_count": 15,
     "metadata": {},
     "output_type": "execute_result"
    }
   ],
   "source": [
    "r = list(range(0,2))\n",
    "times(r)"
   ]
  },
  {
   "cell_type": "code",
   "execution_count": 16,
   "metadata": {},
   "outputs": [
    {
     "data": {
      "text/plain": [
       "12"
      ]
     },
     "execution_count": 16,
     "metadata": {},
     "output_type": "execute_result"
    }
   ],
   "source": [
    "r = list(range(2,4))\n",
    "times(r)"
   ]
  },
  {
   "cell_type": "code",
   "execution_count": 17,
   "metadata": {},
   "outputs": [
    {
     "name": "stdout",
     "output_type": "stream",
     "text": [
      "4\n"
     ]
    }
   ],
   "source": [
    "a = N_wickets.loc[(N_wickets['dismissal_kind'] == 4)]\n",
    "A = a.groupby('match_id').size().count()\n",
    "print(A)"
   ]
  },
  {
   "cell_type": "code",
   "execution_count": 18,
   "metadata": {},
   "outputs": [
    {
     "data": {
      "text/plain": [
       "5"
      ]
     },
     "execution_count": 18,
     "metadata": {},
     "output_type": "execute_result"
    }
   ],
   "source": [
    "maxm = N_wickets['dismissal_kind'].max()\n",
    "r = list(range(5,maxm+1))\n",
    "times(r)"
   ]
  },
  {
   "cell_type": "code",
   "execution_count": null,
   "metadata": {},
   "outputs": [],
   "source": []
  }
 ],
 "metadata": {
  "kernelspec": {
   "display_name": "Python 3",
   "language": "python",
   "name": "python3"
  },
  "language_info": {
   "codemirror_mode": {
    "name": "ipython",
    "version": 3
   },
   "file_extension": ".py",
   "mimetype": "text/x-python",
   "name": "python",
   "nbconvert_exporter": "python",
   "pygments_lexer": "ipython3",
   "version": "3.7.0"
  }
 },
 "nbformat": 4,
 "nbformat_minor": 4
}
