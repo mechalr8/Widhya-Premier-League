{
 "cells": [
  {
   "cell_type": "code",
   "execution_count": 1,
   "metadata": {},
   "outputs": [],
   "source": [
    "from pandas import *\n",
    "df = read_csv(r'C:\\Users\\harsi\\OneDrive\\Desktop\\WPL Datasets\\deliveries.csv')"
   ]
  },
  {
   "cell_type": "code",
   "execution_count": 11,
   "metadata": {
    "scrolled": true
   },
   "outputs": [
    {
     "name": "stdout",
     "output_type": "stream",
     "text": [
      "          batsman_runs\n",
      "match_id              \n",
      "24                   2\n",
      "44                   2\n",
      "82                   3\n",
      "109                  4\n",
      "150                  2\n",
      "170                  4\n",
      "183                  3\n",
      "221                  4\n",
      "238                  1\n",
      "282                  5\n",
      "327                  2\n",
      "342                  5\n",
      "390                  4\n",
      "408                  4\n",
      "473                  2\n",
      "508                  5\n",
      "539                  2\n",
      "556                  3\n",
      "593                  4\n",
      "623                  4\n",
      "7902                 5\n",
      "7948                 4\n",
      "11139                5\n",
      "11325                5\n"
     ]
    }
   ],
   "source": [
    "team = ['Delhi Daredevils', 'Delhi Capitals', 'Mumbai Indians']\n",
    "MIvsDC = df.loc[(df['batting_team'].isin(team)) & (df['bowling_team'].isin(team))]\n",
    "runs = MIvsDC.groupby(['match_id', 'batsman']).agg({'batsman_runs':['sum']})\n",
    "runs.columns = ['batsman_runs']\n",
    "runs30 = runs.loc[runs['batsman_runs'] > 30]\n",
    "N_runs30 = runs30.groupby('match_id').count()\n",
    "print(N_runs30)"
   ]
  },
  {
   "cell_type": "code",
   "execution_count": 12,
   "metadata": {},
   "outputs": [],
   "source": [
    "def times(r):\n",
    "    a = N_runs30.loc[N_runs30['batsman_runs'].isin(r)]\n",
    "    A = a.groupby('match_id').size().count()\n",
    "    return A"
   ]
  },
  {
   "cell_type": "code",
   "execution_count": 16,
   "metadata": {},
   "outputs": [
    {
     "data": {
      "text/plain": [
       "7"
      ]
     },
     "execution_count": 16,
     "metadata": {},
     "output_type": "execute_result"
    }
   ],
   "source": [
    "r = list(range(0,3))\n",
    "times(r)"
   ]
  },
  {
   "cell_type": "code",
   "execution_count": 17,
   "metadata": {},
   "outputs": [
    {
     "data": {
      "text/plain": [
       "11"
      ]
     },
     "execution_count": 17,
     "metadata": {},
     "output_type": "execute_result"
    }
   ],
   "source": [
    "r = list(range(3,5))\n",
    "times(r)"
   ]
  },
  {
   "cell_type": "code",
   "execution_count": 19,
   "metadata": {},
   "outputs": [
    {
     "data": {
      "text/plain": [
       "6"
      ]
     },
     "execution_count": 19,
     "metadata": {},
     "output_type": "execute_result"
    }
   ],
   "source": [
    "r = list(range(5,7))\n",
    "times(r)"
   ]
  },
  {
   "cell_type": "code",
   "execution_count": 24,
   "metadata": {},
   "outputs": [
    {
     "data": {
      "text/plain": [
       "0"
      ]
     },
     "execution_count": 24,
     "metadata": {},
     "output_type": "execute_result"
    }
   ],
   "source": [
    "maxm = N_runs30['batsman_runs'].max()\n",
    "r = list(range(7,maxm+1))\n",
    "times(r)"
   ]
  },
  {
   "cell_type": "code",
   "execution_count": null,
   "metadata": {},
   "outputs": [],
   "source": []
  }
 ],
 "metadata": {
  "kernelspec": {
   "display_name": "Python 3",
   "language": "python",
   "name": "python3"
  },
  "language_info": {
   "codemirror_mode": {
    "name": "ipython",
    "version": 3
   },
   "file_extension": ".py",
   "mimetype": "text/x-python",
   "name": "python",
   "nbconvert_exporter": "python",
   "pygments_lexer": "ipython3",
   "version": "3.7.0"
  }
 },
 "nbformat": 4,
 "nbformat_minor": 4
}
